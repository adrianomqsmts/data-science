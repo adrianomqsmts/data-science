{
 "cells": [
  {
   "cell_type": "markdown",
   "id": "515d6120-a9cf-4c07-9dcf-5e8ffa02ab86",
   "metadata": {},
   "source": [
    "# Máquina de Vetores de Suporte\n",
    "\n",
    "- [SVM](https://scikit-learn.org/stable/modules/generated/sklearn.svm.SVC.html)"
   ]
  },
  {
   "cell_type": "markdown",
   "id": "009e9526-dfe4-488a-84cf-7119cc73ef74",
   "metadata": {},
   "source": [
    "# Importando Bibliotecas"
   ]
  },
  {
   "cell_type": "code",
   "execution_count": 28,
   "id": "6b585a95-65b5-42d2-aa65-bf142b6f7c0a",
   "metadata": {},
   "outputs": [],
   "source": [
    "import pandas as pd\n",
    "import numpy as np\n",
    "#Visualização de dados\n",
    "import seaborn as sns\n",
    "import matplotlib.pyplot as plt\n",
    "#Pré-processamento\n",
    "from sklearn.preprocessing import LabelEncoder\n",
    "from sklearn.preprocessing import scale\n",
    "#Dados de Treino\n",
    "from sklearn import datasets\n",
    "from sklearn.model_selection import train_test_split\n",
    "# SVM\n",
    "from sklearn import svm\n",
    "#Metricas\n",
    "from sklearn.metrics import confusion_matrix\n",
    "from sklearn.metrics import classification_report\n",
    "from sklearn.model_selection import cross_val_score\n",
    "from sklearn.metrics import accuracy_score\n"
   ]
  },
  {
   "cell_type": "markdown",
   "id": "14e0cde6-1c6b-4c4a-8872-dbbcdd02e399",
   "metadata": {},
   "source": [
    "# Dados"
   ]
  },
  {
   "cell_type": "code",
   "execution_count": 29,
   "id": "7f947e74-80dc-4930-bb4f-4ddec2d254db",
   "metadata": {},
   "outputs": [
    {
     "data": {
      "text/html": [
       "<div>\n",
       "<style scoped>\n",
       "    .dataframe tbody tr th:only-of-type {\n",
       "        vertical-align: middle;\n",
       "    }\n",
       "\n",
       "    .dataframe tbody tr th {\n",
       "        vertical-align: top;\n",
       "    }\n",
       "\n",
       "    .dataframe thead th {\n",
       "        text-align: right;\n",
       "    }\n",
       "</style>\n",
       "<table border=\"1\" class=\"dataframe\">\n",
       "  <thead>\n",
       "    <tr style=\"text-align: right;\">\n",
       "      <th></th>\n",
       "      <th>PassengerId</th>\n",
       "      <th>Survived</th>\n",
       "      <th>Pclass</th>\n",
       "      <th>Name</th>\n",
       "      <th>Sex</th>\n",
       "      <th>Age</th>\n",
       "      <th>SibSp</th>\n",
       "      <th>Parch</th>\n",
       "      <th>Ticket</th>\n",
       "      <th>Fare</th>\n",
       "      <th>Cabin</th>\n",
       "      <th>Embarked</th>\n",
       "    </tr>\n",
       "  </thead>\n",
       "  <tbody>\n",
       "    <tr>\n",
       "      <th>0</th>\n",
       "      <td>1</td>\n",
       "      <td>0</td>\n",
       "      <td>3</td>\n",
       "      <td>Braund, Mr. Owen Harris</td>\n",
       "      <td>male</td>\n",
       "      <td>22.0</td>\n",
       "      <td>1</td>\n",
       "      <td>0</td>\n",
       "      <td>A/5 21171</td>\n",
       "      <td>7.2500</td>\n",
       "      <td>NaN</td>\n",
       "      <td>S</td>\n",
       "    </tr>\n",
       "    <tr>\n",
       "      <th>1</th>\n",
       "      <td>2</td>\n",
       "      <td>1</td>\n",
       "      <td>1</td>\n",
       "      <td>Cumings, Mrs. John Bradley (Florence Briggs Th...</td>\n",
       "      <td>female</td>\n",
       "      <td>38.0</td>\n",
       "      <td>1</td>\n",
       "      <td>0</td>\n",
       "      <td>PC 17599</td>\n",
       "      <td>71.2833</td>\n",
       "      <td>C85</td>\n",
       "      <td>C</td>\n",
       "    </tr>\n",
       "    <tr>\n",
       "      <th>2</th>\n",
       "      <td>3</td>\n",
       "      <td>1</td>\n",
       "      <td>3</td>\n",
       "      <td>Heikkinen, Miss. Laina</td>\n",
       "      <td>female</td>\n",
       "      <td>26.0</td>\n",
       "      <td>0</td>\n",
       "      <td>0</td>\n",
       "      <td>STON/O2. 3101282</td>\n",
       "      <td>7.9250</td>\n",
       "      <td>NaN</td>\n",
       "      <td>S</td>\n",
       "    </tr>\n",
       "    <tr>\n",
       "      <th>3</th>\n",
       "      <td>4</td>\n",
       "      <td>1</td>\n",
       "      <td>1</td>\n",
       "      <td>Futrelle, Mrs. Jacques Heath (Lily May Peel)</td>\n",
       "      <td>female</td>\n",
       "      <td>35.0</td>\n",
       "      <td>1</td>\n",
       "      <td>0</td>\n",
       "      <td>113803</td>\n",
       "      <td>53.1000</td>\n",
       "      <td>C123</td>\n",
       "      <td>S</td>\n",
       "    </tr>\n",
       "    <tr>\n",
       "      <th>4</th>\n",
       "      <td>5</td>\n",
       "      <td>0</td>\n",
       "      <td>3</td>\n",
       "      <td>Allen, Mr. William Henry</td>\n",
       "      <td>male</td>\n",
       "      <td>35.0</td>\n",
       "      <td>0</td>\n",
       "      <td>0</td>\n",
       "      <td>373450</td>\n",
       "      <td>8.0500</td>\n",
       "      <td>NaN</td>\n",
       "      <td>S</td>\n",
       "    </tr>\n",
       "  </tbody>\n",
       "</table>\n",
       "</div>"
      ],
      "text/plain": [
       "   PassengerId  Survived  Pclass  \\\n",
       "0            1         0       3   \n",
       "1            2         1       1   \n",
       "2            3         1       3   \n",
       "3            4         1       1   \n",
       "4            5         0       3   \n",
       "\n",
       "                                                Name     Sex   Age  SibSp  \\\n",
       "0                            Braund, Mr. Owen Harris    male  22.0      1   \n",
       "1  Cumings, Mrs. John Bradley (Florence Briggs Th...  female  38.0      1   \n",
       "2                             Heikkinen, Miss. Laina  female  26.0      0   \n",
       "3       Futrelle, Mrs. Jacques Heath (Lily May Peel)  female  35.0      1   \n",
       "4                           Allen, Mr. William Henry    male  35.0      0   \n",
       "\n",
       "   Parch            Ticket     Fare Cabin Embarked  \n",
       "0      0         A/5 21171   7.2500   NaN        S  \n",
       "1      0          PC 17599  71.2833   C85        C  \n",
       "2      0  STON/O2. 3101282   7.9250   NaN        S  \n",
       "3      0            113803  53.1000  C123        S  \n",
       "4      0            373450   8.0500   NaN        S  "
      ]
     },
     "execution_count": 29,
     "metadata": {},
     "output_type": "execute_result"
    }
   ],
   "source": [
    "df = pd.read_csv(\"../datasets/titanic/train.csv\")\n",
    "df.head()"
   ]
  },
  {
   "cell_type": "markdown",
   "id": "1e3677fd-55f6-4b35-b427-8eda023bf208",
   "metadata": {},
   "source": [
    "## Pré-Processamento de Dados"
   ]
  },
  {
   "cell_type": "code",
   "execution_count": 30,
   "id": "0a194397-3c7c-4dcc-b571-c42a555476de",
   "metadata": {},
   "outputs": [
    {
     "name": "stdout",
     "output_type": "stream",
     "text": [
      "<class 'pandas.core.frame.DataFrame'>\n",
      "RangeIndex: 891 entries, 0 to 890\n",
      "Data columns (total 9 columns):\n",
      " #   Column    Non-Null Count  Dtype   \n",
      "---  ------    --------------  -----   \n",
      " 0   Survived  891 non-null    category\n",
      " 1   Pclass    891 non-null    int64   \n",
      " 2   Name      891 non-null    category\n",
      " 3   Sex       891 non-null    category\n",
      " 4   Age       891 non-null    float64 \n",
      " 5   SibSp     891 non-null    int64   \n",
      " 6   Parch     891 non-null    int64   \n",
      " 7   Fare      891 non-null    float64 \n",
      " 8   Embarked  891 non-null    category\n",
      "dtypes: category(4), float64(2), int64(3)\n",
      "memory usage: 39.1 KB\n"
     ]
    },
    {
     "data": {
      "text/html": [
       "<div>\n",
       "<style scoped>\n",
       "    .dataframe tbody tr th:only-of-type {\n",
       "        vertical-align: middle;\n",
       "    }\n",
       "\n",
       "    .dataframe tbody tr th {\n",
       "        vertical-align: top;\n",
       "    }\n",
       "\n",
       "    .dataframe thead th {\n",
       "        text-align: right;\n",
       "    }\n",
       "</style>\n",
       "<table border=\"1\" class=\"dataframe\">\n",
       "  <thead>\n",
       "    <tr style=\"text-align: right;\">\n",
       "      <th></th>\n",
       "      <th>Survived</th>\n",
       "      <th>Pclass</th>\n",
       "      <th>Name</th>\n",
       "      <th>Sex</th>\n",
       "      <th>Age</th>\n",
       "      <th>SibSp</th>\n",
       "      <th>Parch</th>\n",
       "      <th>Fare</th>\n",
       "      <th>Embarked</th>\n",
       "    </tr>\n",
       "  </thead>\n",
       "  <tbody>\n",
       "    <tr>\n",
       "      <th>0</th>\n",
       "      <td>0</td>\n",
       "      <td>3</td>\n",
       "      <td>6</td>\n",
       "      <td>1</td>\n",
       "      <td>-0.592481</td>\n",
       "      <td>1</td>\n",
       "      <td>0</td>\n",
       "      <td>-0.502445</td>\n",
       "      <td>2</td>\n",
       "    </tr>\n",
       "    <tr>\n",
       "      <th>1</th>\n",
       "      <td>1</td>\n",
       "      <td>1</td>\n",
       "      <td>6</td>\n",
       "      <td>0</td>\n",
       "      <td>0.638789</td>\n",
       "      <td>1</td>\n",
       "      <td>0</td>\n",
       "      <td>0.786845</td>\n",
       "      <td>0</td>\n",
       "    </tr>\n",
       "    <tr>\n",
       "      <th>2</th>\n",
       "      <td>1</td>\n",
       "      <td>3</td>\n",
       "      <td>5</td>\n",
       "      <td>0</td>\n",
       "      <td>-0.284663</td>\n",
       "      <td>0</td>\n",
       "      <td>0</td>\n",
       "      <td>-0.488854</td>\n",
       "      <td>2</td>\n",
       "    </tr>\n",
       "    <tr>\n",
       "      <th>3</th>\n",
       "      <td>1</td>\n",
       "      <td>1</td>\n",
       "      <td>6</td>\n",
       "      <td>0</td>\n",
       "      <td>0.407926</td>\n",
       "      <td>1</td>\n",
       "      <td>0</td>\n",
       "      <td>0.420730</td>\n",
       "      <td>2</td>\n",
       "    </tr>\n",
       "    <tr>\n",
       "      <th>4</th>\n",
       "      <td>0</td>\n",
       "      <td>3</td>\n",
       "      <td>6</td>\n",
       "      <td>1</td>\n",
       "      <td>0.407926</td>\n",
       "      <td>0</td>\n",
       "      <td>0</td>\n",
       "      <td>-0.486337</td>\n",
       "      <td>2</td>\n",
       "    </tr>\n",
       "  </tbody>\n",
       "</table>\n",
       "</div>"
      ],
      "text/plain": [
       "  Survived  Pclass Name Sex       Age  SibSp  Parch      Fare Embarked\n",
       "0        0       3    6   1 -0.592481      1      0 -0.502445        2\n",
       "1        1       1    6   0  0.638789      1      0  0.786845        0\n",
       "2        1       3    5   0 -0.284663      0      0 -0.488854        2\n",
       "3        1       1    6   0  0.407926      1      0  0.420730        2\n",
       "4        0       3    6   1  0.407926      0      0 -0.486337        2"
      ]
     },
     "execution_count": 30,
     "metadata": {},
     "output_type": "execute_result"
    }
   ],
   "source": [
    "def pronomes(x):\n",
    "    if 'Mr' in x:\n",
    "        return 'Mr'\n",
    "    elif 'Don' in x:\n",
    "        return 'Mr'\n",
    "    elif 'Mrs' in x:\n",
    "        return 'Mrs'\n",
    "    elif 'Ms' in x:\n",
    "        return 'Mrs'\n",
    "    elif 'Mme' in x:\n",
    "        return 'Mrs'\n",
    "    elif 'Miss' in x:\n",
    "        return 'Miss'\n",
    "    elif 'Mlle' in x:\n",
    "        return 'Miss'\n",
    "    elif 'Dr' in x:\n",
    "        return 'Dr'\n",
    "    elif 'Rev' in x:\n",
    "        return 'Rev'\n",
    "    elif 'Master' in x:\n",
    "        return 'Master'\n",
    "    elif 'Major' in x:\n",
    "        return 'Major'\n",
    "    elif 'Capt' in x:\n",
    "        return 'Capt'\n",
    "    elif 'Jonkheer' in x:\n",
    "        return 'Mr'\n",
    "    elif 'Col' in x:\n",
    "        return 'Col'\n",
    "    elif 'Countess' in x:\n",
    "        return 'Mrs'\n",
    "    else:\n",
    "        return 'None'\n",
    "# Extração de Pronomes\n",
    "df['Name'] = df['Name'].apply(pronomes)\n",
    "\n",
    "# Categóricas para Numéricas\n",
    "le_name = LabelEncoder()\n",
    "df['Name']  = le_name.fit_transform(df['Name'])\n",
    "\n",
    "# Substituir valores ausentes/nulos\n",
    "df['Age'].fillna(df['Age'].mean(), inplace = True)\n",
    "df.loc[df['Embarked'].isna(), ['Embarked']] = df['Embarked'].value_counts().index[0]\n",
    "\n",
    "# Categórico Para numérico\n",
    "le_sex = LabelEncoder()\n",
    "df['Sex']  = le_sex.fit_transform(df['Sex'])\n",
    "le_embarked = LabelEncoder()\n",
    "df['Embarked'] = le_embarked.fit_transform(df['Embarked'])\n",
    "\n",
    "# Remoção de colunas\n",
    "df = df.drop(columns=['PassengerId', 'Ticket', 'Cabin'])\n",
    "\n",
    "#Escalonamento \n",
    "df[['Age', 'Fare']] = pd.DataFrame( scale(df[['Age', 'Fare']]),\n",
    "                                    index = df.index,\n",
    "                                    columns = ['Age', 'Fare'])\n",
    "df['Survived'] = df['Survived'].astype(\"category\")\n",
    "df['Name'] = df['Name'].astype(\"category\")\n",
    "df['Sex'] = df['Sex'].astype(\"category\")\n",
    "df['Embarked'] = df['Embarked'].astype(\"category\")\n",
    "\n",
    "df.info()\n",
    "df.head()"
   ]
  },
  {
   "cell_type": "markdown",
   "id": "d253ab80-6386-48d4-8015-74f1467d4b38",
   "metadata": {},
   "source": [
    "## Dados de Treino e Teste"
   ]
  },
  {
   "cell_type": "code",
   "execution_count": 31,
   "id": "1d4ac08f-c5d7-473c-856c-176f3f94de21",
   "metadata": {},
   "outputs": [],
   "source": [
    "x = df.drop(columns='Survived')\n",
    "y = df['Survived']\n",
    "\n",
    "x_train, x_test, y_train, y_test = train_test_split(x, y, test_size=0.2, random_state=0)"
   ]
  },
  {
   "cell_type": "markdown",
   "id": "734ab9e3-e45c-4884-b99f-b8758e8e8d34",
   "metadata": {},
   "source": [
    "# SVM\n",
    "\n",
    "- **C** - É o parâmetro de penalidade do termo de erro. Ele controla o trade off entre o limite de decisão suave e a classificação correta dos pontos de treinamento. O aumento dos valores de C pode levar a um overfitting dos dados de treinamento. Parâmetro de regularização. A intensidade da regularização é inversamente proporcional a C. Deve ser estritamente positiva. A penalidade é uma penalidade de 12 ao quadrado. \n",
    "- **kernel** - kernel {'linear', 'poly', 'rbf', 'sigmoid', 'precomputed'}, default = 'rbf' -  O kernel seleciona o tipo de hiperplano usado para separar os dados. O “linear” usará um hiperplano linear (uma linha no caso de dados 2D). ‘Rbf‘ e ‘poly‘ usam um hiperplano não linear. o valor padrão é “rbf“. Especifica o tipo de kernel a ser usado no algoritmo. Deve ser 'linear', 'poli', 'rbf', 'sigmóide', 'precomputed' ou chamável. Se nenhum for fornecido, 'rbf' será usado. Se um chamável for fornecido, ele será usado para pré-computar a matriz do kernel a partir das matrizes de dados; essa matriz deve ser uma matriz de forma (n_amostras, n_amostras). \n",
    "- **degree** - degree é um parâmetro usado quando o kernel é definido como “poly“. Basicamente, é o grau do polinômio usado para encontrar o hiperplano para dividir os dados. Grau da função de kernel polinomial ('poli'). Ignorado por todos os outros kernels. \n",
    "- **gamma** {‘scale’, ‘auto’} ou float, default = ’scale’ - gama é um parâmetro para hiperplanos não lineares. Quanto maior o valor de gama, mais ele tenta ajustar-se exatamente ao conjunto de dados de treinamento.     Coeficiente de kernel para 'rbf', 'poli' e 'sigmóide'. \n",
    "- **probability** -  Se deve habilitar estimativas de probabilidade. Isso deve ser habilitado antes de chamar o ajuste, tornará o método mais lento, já que ele usa internamente a validação cruzada de 5 vezes e o forecast_proba pode ser inconsistente com o prognóstico. Leia mais no Guia do Usuário.  "
   ]
  },
  {
   "cell_type": "code",
   "execution_count": 32,
   "id": "55a4fca4-8c86-49ab-a177-af1245330491",
   "metadata": {},
   "outputs": [
    {
     "data": {
      "text/plain": [
       "SVC(probability=True)"
      ]
     },
     "execution_count": 32,
     "metadata": {},
     "output_type": "execute_result"
    }
   ],
   "source": [
    "classificador = svm.SVC( probability=True)\n",
    "classificador.fit(x_train, y_train)"
   ]
  },
  {
   "cell_type": "markdown",
   "id": "88bb3d86-31ed-4f5d-bd20-88ee1ebfa4ea",
   "metadata": {},
   "source": [
    "# Prever um valor\n",
    "\n",
    "- O método **predict_proba** retorna um vetor de probabilidade, com a fração daquele dado pertencer a cada classe. \n",
    "- O método **predict** retorna a classe mais provável que o dado pertence. "
   ]
  },
  {
   "cell_type": "code",
   "execution_count": 33,
   "id": "26852ea9-4e9e-49b2-abc0-4eaf8065c5a1",
   "metadata": {},
   "outputs": [
    {
     "name": "stdout",
     "output_type": "stream",
     "text": [
      "\n",
      "Prevendo o dataframe criado por classe:  [[0.08756499 0.91243501]]\n",
      "\n",
      "Prevendo o dataframe criado:  [1]\n"
     ]
    }
   ],
   "source": [
    "data = {\n",
    "    'Pclass': [1],\n",
    "    'Name': ['Miss'],\n",
    "    'Sex': ['female'],\n",
    "    'Age': [5],\n",
    "    'SibSp': [1],\n",
    "    'Parch': [1],\n",
    "    'Fare': [50],\n",
    "    'Embarked': ['C']\n",
    "}\n",
    "\n",
    "#Transformando do Dicionário em DataFrame\n",
    "data = pd.DataFrame(data)\n",
    "\n",
    "#Tratando os Dados\n",
    "# Categóricas para Numéricas\n",
    "\n",
    "data['Name']  = le_name.transform(data['Name'])\n",
    "data['Sex']  = le_sex.transform(data['Sex'])\n",
    "data['Embarked'] = le_embarked.transform(data['Embarked'])\n",
    "data[['Age', 'Fare']] = pd.DataFrame( scale(data[['Age', 'Fare']]),\n",
    "                                    index = data.index,\n",
    "                                    columns = ['Age', 'Fare'])\n",
    "\n",
    "#Classificando\n",
    "previsao = classificador.predict_proba(data)\n",
    "print(\"\\nPrevendo o dataframe criado por classe: \", previsao)\n",
    "previsao = classificador.predict(data)\n",
    "print(\"\\nPrevendo o dataframe criado: \", previsao)"
   ]
  },
  {
   "cell_type": "markdown",
   "id": "2725e115-5bb1-4925-a3ac-b0fbb3007b22",
   "metadata": {},
   "source": [
    "## Atributos \n",
    "\n",
    "- **class_weight_** - Multiplicadores do parâmetro C para cada classe. Calculado com base no parâmetro class_weight.\n",
    "- **classes_n** -  Os rótulos das classes.\n",
    "- **coef_** - Pesos atribuídos às características (coeficientes no problema primordial). Isso está disponível apenas no caso de um kernel linear. coef_ é uma propriedade somente leitura derivada de dual_coef_ e support_vectors_.\n",
    "- **dual_coef_** - Coeficientes duplos do vetor de suporte na função de decisão (ver Formulação matemática), multiplicados por seus alvos. Para multiclasse, coeficiente para todos os classificadores 1 vs 1. O layout dos coeficientes no caso multiclasse é um tanto não trivial. Consulte a seção de várias classes do Guia do usuário para obter detalhes.\n",
    "- **fit_status_** - 0 se encaixado corretamente, 1 caso contrário (aumentará o aviso)\n",
    "- **intercept_** - Constantes na função de decisão.\n",
    "- **support_n** - Índices de vetores de suporte.\n",
    "- **support_vectors_**  Vetores de suporte.\n",
    "- **n_support_n** -  Número de vetores de suporte para cada classe.\n",
    "- **probA_** e **probB_** -  Se probabilidade = Verdadeiro, corresponde aos parâmetros aprendidos na escala de Platt para produzir estimativas de probabilidade a partir de valores de decisão. Se probabilidade = False, é uma matriz vazia. \n",
    "- **shape_fit_tuple** - Dimensões da matriz do vetor de treinamento X. \n"
   ]
  },
  {
   "cell_type": "code",
   "execution_count": 34,
   "id": "c872e13b-dbf4-4fe2-86bf-01a430ca5534",
   "metadata": {},
   "outputs": [
    {
     "name": "stdout",
     "output_type": "stream",
     "text": [
      "[0 1]\n"
     ]
    }
   ],
   "source": [
    "print(classificador.classes_)"
   ]
  },
  {
   "cell_type": "code",
   "execution_count": 35,
   "id": "52b1ac8d-2a38-41ad-8a66-804ce52bd627",
   "metadata": {},
   "outputs": [
    {
     "name": "stdout",
     "output_type": "stream",
     "text": [
      "[-0.38234811]\n"
     ]
    }
   ],
   "source": [
    "print(classificador.intercept_)"
   ]
  },
  {
   "cell_type": "markdown",
   "id": "bd42804b-afbc-43ac-a591-dfe1234d9835",
   "metadata": {},
   "source": [
    "## Prever os dados de Teste"
   ]
  },
  {
   "cell_type": "code",
   "execution_count": 36,
   "id": "e8d6d520-b262-46e7-9657-9f0832df7779",
   "metadata": {},
   "outputs": [
    {
     "name": "stdout",
     "output_type": "stream",
     "text": [
      "Acurácia 81.56424581005587%\n"
     ]
    }
   ],
   "source": [
    "previsao = classificador.predict(x_test)\n",
    "\n",
    "acuracia = 100 * np.sum(previsao == y_test)/ len(y_test)\n",
    "\n",
    "print(\"Acurácia {}%\".format(acuracia))"
   ]
  },
  {
   "cell_type": "markdown",
   "id": "b100f9e5-f261-454e-a6c3-775d3d9eb73a",
   "metadata": {},
   "source": [
    "# Matriz de Confusão\n",
    "\n",
    "- A biblioteca **sklearn.metrics** tem a função **confusion_matrix** que irá nos retornar a matriz de confusão dos dados previstos. \n",
    "- **y_true** - Valores alvo verdadeiros (corretos). \n",
    "- **y_pred** - Alvos estimados conforme retornados por um classificador. \n",
    "- **labels** - Lista de rótulos para indexar a matriz. Isso pode ser usado para reordenar ou selecionar um subconjunto de rótulos. Se Nenhum for fornecido, aqueles que aparecem pelo menos uma vez em y_true ou y_pred são usados na ordem de classificação \n",
    "- **sample_weight** - Pesos de amostra. \n",
    "- **normalize**: {‘true’, ‘pred’, ‘all’}, default=None - Normaliza a matriz de confusão sobre as condições verdadeiras (linhas), preditas (colunas) ou toda a população. Se nenhum, a matriz de confusão não será normalizada. "
   ]
  },
  {
   "cell_type": "code",
   "execution_count": 37,
   "id": "9e6b42d8-e5a1-4d9e-9ccf-8fa1628c2318",
   "metadata": {},
   "outputs": [
    {
     "data": {
      "text/plain": [
       "array([[94, 16],\n",
       "       [17, 52]], dtype=int64)"
      ]
     },
     "execution_count": 37,
     "metadata": {},
     "output_type": "execute_result"
    }
   ],
   "source": [
    "confusion_matrix(y_test, previsao)"
   ]
  },
  {
   "cell_type": "markdown",
   "id": "5dcb619d-2f52-42a2-89f2-bcf76f84facf",
   "metadata": {},
   "source": [
    "## Personalizando a matriz de confusão"
   ]
  },
  {
   "cell_type": "code",
   "execution_count": 38,
   "id": "15bc16f2-e100-4ba1-ad1d-879f4b1d8008",
   "metadata": {},
   "outputs": [
    {
     "data": {
      "image/png": "[encoded data removed]",
      "text/plain": [
       "<Figure size 432x288 with 2 Axes>"
      ]
     },
     "metadata": {
      "needs_background": "light"
     },
     "output_type": "display_data"
    }
   ],
   "source": [
    "cm = confusion_matrix(y_test, previsao)\n",
    "ax= plt.subplot()\n",
    "sns.heatmap(cm, annot=True, ax = ax); #annot=True to annotate cells\n",
    "\n",
    "# labels, title and ticks\n",
    "ax.set_xlabel('Previsão');\n",
    "ax.set_ylabel('Verdadeiro'); \n",
    "ax.set_title('Confusion Matrix'); \n",
    "ax.xaxis.set_ticklabels(['Morto', 'Vivo']);\n",
    "ax.yaxis.set_ticklabels(['Morto', 'Vivo']);"
   ]
  },
  {
   "cell_type": "markdown",
   "id": "16cf8a5c-7c9b-4810-a3a5-5ae828de3300",
   "metadata": {},
   "source": [
    "# Métricas\n",
    "\n",
    "- A biblioteca **sklearn.metrics** tem a função **classification_report** que cria um relatório de texto mostrando as principais métricas de classificação. \n",
    "- **y_true** - Valores alvo verdadeiros (corretos). \n",
    "- **y_pred** - Alvos estimados conforme retornados por um classificador. \n",
    "- **labels** - Lista opcional de índices de rótulo a serem incluídos no relatório. \n",
    "- **target_names** - Nomes de exibição opcionais que correspondem aos rótulos (mesma ordem) \n",
    "- **sample_weight** - Peso das Amostras\n",
    "- **digits** - Número de dígitos para formatar valores de ponto flutuante de saída. Quando output_dict for True, isso será ignorado e os valores retornados não serão arredondados.\n",
    "- **output_dict** - Se verdadeiro, retorna a saída como dict\n",
    "- **zero_division**: 'warn', 0 or 1, default='warn' - Define o valor a ser retornado quando houver uma divisão zero. Se definido como “aviso”, funciona como 0, mas os avisos também são gerados. "
   ]
  },
  {
   "cell_type": "code",
   "execution_count": 39,
   "id": "758ae3ad-80ab-4306-9649-4874aef30e65",
   "metadata": {},
   "outputs": [
    {
     "name": "stdout",
     "output_type": "stream",
     "text": [
      "              precision    recall  f1-score   support\n",
      "\n",
      "       Morto       0.85      0.85      0.85       110\n",
      "        Vivo       0.76      0.75      0.76        69\n",
      "\n",
      "    accuracy                           0.82       179\n",
      "   macro avg       0.81      0.80      0.80       179\n",
      "weighted avg       0.82      0.82      0.82       179\n",
      "\n"
     ]
    }
   ],
   "source": [
    "print(classification_report(y_test, previsao, target_names = ['Morto', 'Vivo']))"
   ]
  },
  {
   "cell_type": "markdown",
   "id": "489c41b9-2b8c-4627-b585-3b3a2fc9e653",
   "metadata": {},
   "source": [
    "## Acurácia\n",
    "\n",
    "- A função **accuracy_score** pode ser usada para verificar a acurácia dos dados"
   ]
  },
  {
   "cell_type": "code",
   "execution_count": 40,
   "id": "f2e7bc45-270a-4af3-9bd6-0ec0018df7f5",
   "metadata": {},
   "outputs": [
    {
     "data": {
      "text/plain": [
       "0.8156424581005587"
      ]
     },
     "execution_count": 40,
     "metadata": {},
     "output_type": "execute_result"
    }
   ],
   "source": [
    "accuracy_score(y_test, previsao)"
   ]
  },
  {
   "cell_type": "markdown",
   "id": "dc860056-c9ec-433e-b70e-7fc8456db91c",
   "metadata": {},
   "source": [
    "# Validação Cruzada\n",
    "\n",
    "- A função **cross_val_score** realiza a validação cruzada.\n",
    "- **estimator** - O objeto a ser usado para ajustar os dados (classificador).\n",
    "- **X** - array-like of shape (n_samples, n_features) -   Os dados para caber. Pode ser, por exemplo, uma lista ou um array.\n",
    "- **y** - array-like of shape (n_samples,) or (n_samples, n_outputs), default=None - A variável alvo a tentar prever no caso de aprendizagem supervisionada.\n",
    "- **group** - array-like of shape (n_samples,), default = None -      Rótulos de grupo para as amostras usadas durante a divisão do conjunto de dados em conjunto de treinamento / teste. Usado apenas em conjunto com uma instância cv \"Grupo\" (por exemplo, GroupKFold).\n",
    "- **scoring** - str ou callable, default = None - Um str (consulte a documentação de avaliação do modelo) ou um objeto / função que pode ser chamado de scorer com scorer de assinatura (estimador, X, y) que deve retornar apenas um único valor. Semelhante a cross_validate, mas apenas uma única métrica é permitida.  Se Nenhum, o marcador padrão do estimador (se disponível) é usado.\n",
    "- **cv** - int, gerador de validação cruzada ou iterável, padrão = None -      Determina a estratégia de divisão de validação cruzada. As entradas possíveis para cv são:\n",
    "    - Nenhum, para usar a validação cruzada de 5 vezes padrão,\n",
    "    - int, para especificar o número de dobras em um KFold (estratificado),         - Divisor de CV,\n",
    "    - Um rendimento iterável (treinar, testar) se divide como matrizes de índices.\n",
    "    - Para entradas int / Nenhum, se o estimador for um classificador ey for binário ou multiclasse, StratifiedKFold é usado. Em todos os outros casos, o KFold é usado. Esses divisores são instanciados com shuffle = False para que as divisões sejam iguais nas chamadas.\n",
    "    \n",
    "- **n_jobs** - int, default = None - Número de trabalhos a serem executados em paralelo. O treinamento do estimador e o cálculo da pontuação são paralelizados nas divisões de validação cruzada. Nenhum significa 1, a menos que em um contexto joblib.parallel_backend. -1 significa usar todos os processadores. \n",
    "- **verbose** - int, default = 0 - O nível de verbosidade.\n",
    "- **fit_params** - dict, default = None - Parâmetros para passar para o método de ajuste do estimador (classificador).\n",
    "- **pre_dispatch** - int ou str, default = ’2 * n_jobs’ - Controla o número de trabalhos que são despachados durante a execução paralela. Reduzir esse número pode ser útil para evitar uma explosão de consumo de memória quando mais tarefas são despachadas do que as CPUs podem processar. Este parâmetro pode ser:\n",
    "    - Nenhum, caso em que todos os empregos são imediatamente criados e reproduzidos. Use isso para trabalhos leves e de execução rápida, para evitar atrasos devido à geração sob demanda dos trabalhos\n",
    "    - Um int, dando o número exato de empregos totais que são gerados\n",
    "    -  Um str, dando uma expressão em função de n_jobs, como em ‘2 * n_jobs’\n",
    "- **error_score** - raise ou numérico, default = np.nan -  Valor a ser atribuído à pontuação se ocorrer um erro no ajuste do estimador. Se definido como ‘aumentar’, o erro é gerado. Se um valor numérico for fornecido, FitFailedWarning é gerado \n"
   ]
  },
  {
   "cell_type": "code",
   "execution_count": 41,
   "id": "2d0af6be-cc21-488b-81db-48ee68f3d4d5",
   "metadata": {},
   "outputs": [
    {
     "name": "stdout",
     "output_type": "stream",
     "text": [
      "Acurracy: 0.82 (+\\-) 0.05 \n"
     ]
    }
   ],
   "source": [
    "x = df.drop(columns='Survived')\n",
    "y = df['Survived']\n",
    "scores = cross_val_score(classificador, x, y, cv = 5)\n",
    "\n",
    "print(\"Acurracy: %0.2f (+\\-) %0.2f \" % (scores.mean(), scores.std() * 2))"
   ]
  }
 ],
 "metadata": {
  "kernelspec": {
   "display_name": "Python 3",
   "language": "python",
   "name": "python3"
  },
  "language_info": {
   "codemirror_mode": {
    "name": "ipython",
    "version": 3
   },
   "file_extension": ".py",
   "mimetype": "text/x-python",
   "name": "python",
   "nbconvert_exporter": "python",
   "pygments_lexer": "ipython3",
   "version": "3.8.8"
  }
 },
 "nbformat": 4,
 "nbformat_minor": 5
}
