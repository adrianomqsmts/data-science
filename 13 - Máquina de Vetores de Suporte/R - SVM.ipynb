{
 "cells": [
  {
   "cell_type": "markdown",
   "id": "08664e20-f2ba-4977-beef-0ad389b0b625",
   "metadata": {},
   "source": [
    "# SVM"
   ]
  },
  {
   "cell_type": "code",
   "execution_count": 2,
   "id": "c390653a-74a2-4bc7-a250-2efb2390abac",
   "metadata": {},
   "outputs": [],
   "source": [
    "library(repr)\n",
    "library(caTools)\n",
    "options(repr.plot.width = 4, repr.plot.height = 4)\n",
    "# SVM\n",
    "library(e1071)\n",
    "#Preprocessamento\n",
    "library(CatEncoders)\n",
    "library(gplots)\n",
    "#Matricas\n",
    "library(caret)"
   ]
  },
  {
   "cell_type": "markdown",
   "id": "dcfbd2bb-8e37-41e6-a083-589adc5aae9d",
   "metadata": {},
   "source": [
    "## Carregando os dados"
   ]
  },
  {
   "cell_type": "code",
   "execution_count": 3,
   "id": "2c89deaa-9c44-41fd-8f6d-a8b87f28541a",
   "metadata": {},
   "outputs": [
    {
     "data": {
      "text/html": [
       "<table>\n",
       "<thead><tr><th scope=col>PassengerId</th><th scope=col>Survived</th><th scope=col>Pclass</th><th scope=col>Name</th><th scope=col>Sex</th><th scope=col>Age</th><th scope=col>SibSp</th><th scope=col>Parch</th><th scope=col>Ticket</th><th scope=col>Fare</th><th scope=col>Cabin</th><th scope=col>Embarked</th></tr></thead>\n",
       "<tbody>\n",
       "\t<tr><td>1                                                  </td><td>0                                                  </td><td>3                                                  </td><td>Braund, Mr. Owen Harris                            </td><td>male                                               </td><td>22                                                 </td><td>1                                                  </td><td>0                                                  </td><td>A/5 21171                                          </td><td> 7.2500                                            </td><td>NA                                                 </td><td>S                                                  </td></tr>\n",
       "\t<tr><td>2                                                  </td><td>1                                                  </td><td>1                                                  </td><td>Cumings, Mrs. John Bradley (Florence Briggs Thayer)</td><td>female                                             </td><td>38                                                 </td><td>1                                                  </td><td>0                                                  </td><td>PC 17599                                           </td><td>71.2833                                            </td><td>C85                                                </td><td>C                                                  </td></tr>\n",
       "\t<tr><td>3                                                  </td><td>1                                                  </td><td>3                                                  </td><td>Heikkinen, Miss. Laina                             </td><td>female                                             </td><td>26                                                 </td><td>0                                                  </td><td>0                                                  </td><td>STON/O2. 3101282                                   </td><td> 7.9250                                            </td><td>NA                                                 </td><td>S                                                  </td></tr>\n",
       "\t<tr><td>4                                                  </td><td>1                                                  </td><td>1                                                  </td><td>Futrelle, Mrs. Jacques Heath (Lily May Peel)       </td><td>female                                             </td><td>35                                                 </td><td>1                                                  </td><td>0                                                  </td><td>113803                                             </td><td>53.1000                                            </td><td>C123                                               </td><td>S                                                  </td></tr>\n",
       "\t<tr><td>5                                                  </td><td>0                                                  </td><td>3                                                  </td><td>Allen, Mr. William Henry                           </td><td>male                                               </td><td>35                                                 </td><td>0                                                  </td><td>0                                                  </td><td>373450                                             </td><td> 8.0500                                            </td><td>NA                                                 </td><td>S                                                  </td></tr>\n",
       "\t<tr><td>6                                                  </td><td>0                                                  </td><td>3                                                  </td><td>Moran, Mr. James                                   </td><td>male                                               </td><td>NA                                                 </td><td>0                                                  </td><td>0                                                  </td><td>330877                                             </td><td> 8.4583                                            </td><td>NA                                                 </td><td>Q                                                  </td></tr>\n",
       "</tbody>\n",
       "</table>\n"
      ],
      "text/latex": [
       "\\begin{tabular}{r|llllllllllll}\n",
       " PassengerId & Survived & Pclass & Name & Sex & Age & SibSp & Parch & Ticket & Fare & Cabin & Embarked\\\\\n",
       "\\hline\n",
       "\t 1                                                   & 0                                                   & 3                                                   & Braund, Mr. Owen Harris                             & male                                                & 22                                                  & 1                                                   & 0                                                   & A/5 21171                                           &  7.2500                                             & NA                                                  & S                                                  \\\\\n",
       "\t 2                                                   & 1                                                   & 1                                                   & Cumings, Mrs. John Bradley (Florence Briggs Thayer) & female                                              & 38                                                  & 1                                                   & 0                                                   & PC 17599                                            & 71.2833                                             & C85                                                 & C                                                  \\\\\n",
       "\t 3                                                   & 1                                                   & 3                                                   & Heikkinen, Miss. Laina                              & female                                              & 26                                                  & 0                                                   & 0                                                   & STON/O2. 3101282                                    &  7.9250                                             & NA                                                  & S                                                  \\\\\n",
       "\t 4                                                   & 1                                                   & 1                                                   & Futrelle, Mrs. Jacques Heath (Lily May Peel)        & female                                              & 35                                                  & 1                                                   & 0                                                   & 113803                                              & 53.1000                                             & C123                                                & S                                                  \\\\\n",
       "\t 5                                                   & 0                                                   & 3                                                   & Allen, Mr. William Henry                            & male                                                & 35                                                  & 0                                                   & 0                                                   & 373450                                              &  8.0500                                             & NA                                                  & S                                                  \\\\\n",
       "\t 6                                                   & 0                                                   & 3                                                   & Moran, Mr. James                                    & male                                                & NA                                                  & 0                                                   & 0                                                   & 330877                                              &  8.4583                                             & NA                                                  & Q                                                  \\\\\n",
       "\\end{tabular}\n"
      ],
      "text/markdown": [
       "\n",
       "| PassengerId | Survived | Pclass | Name | Sex | Age | SibSp | Parch | Ticket | Fare | Cabin | Embarked |\n",
       "|---|---|---|---|---|---|---|---|---|---|---|---|\n",
       "| 1                                                   | 0                                                   | 3                                                   | Braund, Mr. Owen Harris                             | male                                                | 22                                                  | 1                                                   | 0                                                   | A/5 21171                                           |  7.2500                                             | NA                                                  | S                                                   |\n",
       "| 2                                                   | 1                                                   | 1                                                   | Cumings, Mrs. John Bradley (Florence Briggs Thayer) | female                                              | 38                                                  | 1                                                   | 0                                                   | PC 17599                                            | 71.2833                                             | C85                                                 | C                                                   |\n",
       "| 3                                                   | 1                                                   | 3                                                   | Heikkinen, Miss. Laina                              | female                                              | 26                                                  | 0                                                   | 0                                                   | STON/O2. 3101282                                    |  7.9250                                             | NA                                                  | S                                                   |\n",
       "| 4                                                   | 1                                                   | 1                                                   | Futrelle, Mrs. Jacques Heath (Lily May Peel)        | female                                              | 35                                                  | 1                                                   | 0                                                   | 113803                                              | 53.1000                                             | C123                                                | S                                                   |\n",
       "| 5                                                   | 0                                                   | 3                                                   | Allen, Mr. William Henry                            | male                                                | 35                                                  | 0                                                   | 0                                                   | 373450                                              |  8.0500                                             | NA                                                  | S                                                   |\n",
       "| 6                                                   | 0                                                   | 3                                                   | Moran, Mr. James                                    | male                                                | NA                                                  | 0                                                   | 0                                                   | 330877                                              |  8.4583                                             | NA                                                  | Q                                                   |\n",
       "\n"
      ],
      "text/plain": [
       "  PassengerId Survived Pclass\n",
       "1 1           0        3     \n",
       "2 2           1        1     \n",
       "3 3           1        3     \n",
       "4 4           1        1     \n",
       "5 5           0        3     \n",
       "6 6           0        3     \n",
       "  Name                                                Sex    Age SibSp Parch\n",
       "1 Braund, Mr. Owen Harris                             male   22  1     0    \n",
       "2 Cumings, Mrs. John Bradley (Florence Briggs Thayer) female 38  1     0    \n",
       "3 Heikkinen, Miss. Laina                              female 26  0     0    \n",
       "4 Futrelle, Mrs. Jacques Heath (Lily May Peel)        female 35  1     0    \n",
       "5 Allen, Mr. William Henry                            male   35  0     0    \n",
       "6 Moran, Mr. James                                    male   NA  0     0    \n",
       "  Ticket           Fare    Cabin Embarked\n",
       "1 A/5 21171         7.2500 NA    S       \n",
       "2 PC 17599         71.2833 C85   C       \n",
       "3 STON/O2. 3101282  7.9250 NA    S       \n",
       "4 113803           53.1000 C123  S       \n",
       "5 373450            8.0500 NA    S       \n",
       "6 330877            8.4583 NA    Q       "
      ]
     },
     "metadata": {},
     "output_type": "display_data"
    }
   ],
   "source": [
    "df <- read.csv(\"../datasets/titanic/train.csv\", na.strings = '')\n",
    "head(df)"
   ]
  },
  {
   "cell_type": "markdown",
   "id": "b7b3799d-5caf-4955-9e5e-a15c9fba63b2",
   "metadata": {},
   "source": [
    "## Pré-Processamento de Dados"
   ]
  },
  {
   "cell_type": "code",
   "execution_count": 5,
   "id": "d48467b4-a3cd-4b4b-9449-a46b840e1979",
   "metadata": {},
   "outputs": [
    {
     "data": {
      "text/html": [
       "<table>\n",
       "<thead><tr><th scope=col>Survived</th><th scope=col>Pclass</th><th scope=col>Name</th><th scope=col>Sex</th><th scope=col>Age</th><th scope=col>SibSp</th><th scope=col>Parch</th><th scope=col>Fare</th><th scope=col>Embarked</th></tr></thead>\n",
       "<tbody>\n",
       "\t<tr><td>0            </td><td>3            </td><td>4            </td><td>2            </td><td>-5.921480e-01</td><td>1            </td><td>0            </td><td>-0.5021631   </td><td>3            </td></tr>\n",
       "\t<tr><td>1            </td><td>1            </td><td>5            </td><td>1            </td><td> 6.384304e-01</td><td>1            </td><td>0            </td><td> 0.7864036   </td><td>1            </td></tr>\n",
       "\t<tr><td>1            </td><td>3            </td><td>3            </td><td>1            </td><td>-2.845034e-01</td><td>0            </td><td>0            </td><td>-0.4885799   </td><td>3            </td></tr>\n",
       "\t<tr><td>1            </td><td>1            </td><td>5            </td><td>1            </td><td> 4.076970e-01</td><td>1            </td><td>0            </td><td> 0.4204941   </td><td>3            </td></tr>\n",
       "\t<tr><td>0            </td><td>3            </td><td>4            </td><td>2            </td><td> 4.076970e-01</td><td>0            </td><td>0            </td><td>-0.4860644   </td><td>3            </td></tr>\n",
       "\t<tr><td>0            </td><td>3            </td><td>4            </td><td>2            </td><td> 1.171279e-17</td><td>0            </td><td>0            </td><td>-0.4778481   </td><td>2            </td></tr>\n",
       "</tbody>\n",
       "</table>\n"
      ],
      "text/latex": [
       "\\begin{tabular}{r|lllllllll}\n",
       " Survived & Pclass & Name & Sex & Age & SibSp & Parch & Fare & Embarked\\\\\n",
       "\\hline\n",
       "\t 0             & 3             & 4             & 2             & -5.921480e-01 & 1             & 0             & -0.5021631    & 3            \\\\\n",
       "\t 1             & 1             & 5             & 1             &  6.384304e-01 & 1             & 0             &  0.7864036    & 1            \\\\\n",
       "\t 1             & 3             & 3             & 1             & -2.845034e-01 & 0             & 0             & -0.4885799    & 3            \\\\\n",
       "\t 1             & 1             & 5             & 1             &  4.076970e-01 & 1             & 0             &  0.4204941    & 3            \\\\\n",
       "\t 0             & 3             & 4             & 2             &  4.076970e-01 & 0             & 0             & -0.4860644    & 3            \\\\\n",
       "\t 0             & 3             & 4             & 2             &  1.171279e-17 & 0             & 0             & -0.4778481    & 2            \\\\\n",
       "\\end{tabular}\n"
      ],
      "text/markdown": [
       "\n",
       "| Survived | Pclass | Name | Sex | Age | SibSp | Parch | Fare | Embarked |\n",
       "|---|---|---|---|---|---|---|---|---|\n",
       "| 0             | 3             | 4             | 2             | -5.921480e-01 | 1             | 0             | -0.5021631    | 3             |\n",
       "| 1             | 1             | 5             | 1             |  6.384304e-01 | 1             | 0             |  0.7864036    | 1             |\n",
       "| 1             | 3             | 3             | 1             | -2.845034e-01 | 0             | 0             | -0.4885799    | 3             |\n",
       "| 1             | 1             | 5             | 1             |  4.076970e-01 | 1             | 0             |  0.4204941    | 3             |\n",
       "| 0             | 3             | 4             | 2             |  4.076970e-01 | 0             | 0             | -0.4860644    | 3             |\n",
       "| 0             | 3             | 4             | 2             |  1.171279e-17 | 0             | 0             | -0.4778481    | 2             |\n",
       "\n"
      ],
      "text/plain": [
       "  Survived Pclass Name Sex Age           SibSp Parch Fare       Embarked\n",
       "1 0        3      4    2   -5.921480e-01 1     0     -0.5021631 3       \n",
       "2 1        1      5    1    6.384304e-01 1     0      0.7864036 1       \n",
       "3 1        3      3    1   -2.845034e-01 0     0     -0.4885799 3       \n",
       "4 1        1      5    1    4.076970e-01 1     0      0.4204941 3       \n",
       "5 0        3      4    2    4.076970e-01 0     0     -0.4860644 3       \n",
       "6 0        3      4    2    1.171279e-17 0     0     -0.4778481 2       "
      ]
     },
     "metadata": {},
     "output_type": "display_data"
    },
    {
     "name": "stdout",
     "output_type": "stream",
     "text": [
      "'data.frame':\t891 obs. of  9 variables:\n",
      " $ Survived: Factor w/ 2 levels \"0\",\"1\": 1 2 2 2 1 1 1 1 2 2 ...\n",
      " $ Pclass  : int  3 1 3 1 3 3 1 3 3 2 ...\n",
      " $ Name    : int  4 5 3 5 4 4 4 2 5 5 ...\n",
      " $ Sex     : int  2 1 1 1 2 2 2 2 1 1 ...\n",
      " $ Age     : num  -0.592 0.638 -0.285 0.408 0.408 ...\n",
      " $ SibSp   : int  1 1 0 1 0 0 0 3 0 1 ...\n",
      " $ Parch   : int  0 0 0 0 0 0 0 1 2 0 ...\n",
      " $ Fare    : num  -0.502 0.786 -0.489 0.42 -0.486 ...\n",
      " $ Embarked: int  3 1 3 3 3 2 3 3 3 1 ...\n"
     ]
    }
   ],
   "source": [
    "# Extração de Pronomes\n",
    "df$Name <- ifelse(grepl(\", Mr. \", df$Name), 'Mr', as.character(df$Name))\n",
    "df$Name <- ifelse(grepl(\"Capt\", df$Name), 'Tripulacao', as.character(df$Name))\n",
    "df$Name <- ifelse(grepl(\"Don\", df$Name), 'Mr', as.character(df$Name))\n",
    "df$Name <- ifelse(grepl(\"Major\", df$Name), 'Tripulacao', as.character(df$Name))\n",
    "df$Name <- ifelse(grepl(\"Col\", df$Name), 'Tripulacao', as.character(df$Name))\n",
    "df$Name <- ifelse(grepl(\"Dr\", df$Name), 'Dr', as.character(df$Name))\n",
    "df$Name <- ifelse(grepl(\"Rev\", df$Name), 'Rev', as.character(df$Name))\n",
    "df$Name <- ifelse(grepl(\"Sir\", df$Name), 'Mr', as.character(df$Name))\n",
    "df$Name <- ifelse(grepl(\"Jonkheer\", df$Name), 'Mr', as.character(df$Name))\n",
    "df$Name <- ifelse(grepl(\"Dona\", df$Name), 'Mrs', as.character(df$Name))\n",
    "df$Name <- ifelse(grepl(\"Countess\", df$Name), 'Mrs', as.character(df$Name))\n",
    "df$Name <- ifelse(grepl(\"Mme\", df$Name), 'Mrs', as.character(df$Name))\n",
    "df$Name <- ifelse(grepl(\"Lady\", df$Name), 'Mrs', as.character(df$Name))\n",
    "df$Name <- ifelse(grepl(\"Mrs\", df$Name), 'Mrs', as.character(df$Name))\n",
    "df$Name <- ifelse(grepl(\"Mlle\", df$Name), 'Miss', as.character(df$Name))\n",
    "df$Name <- ifelse(grepl(\"Ms\", df$Name), 'Miss', as.character(df$Name))\n",
    "df$Name <- ifelse(grepl(\"Miss\", df$Name), 'Miss', as.character(df$Name))\n",
    "df$Name <- ifelse(grepl(\"Master\", df$Name), 'Master', as.character(df$Name))\n",
    "\n",
    "# Categóricas para Numéricas\n",
    "le_name <- LabelEncoder.fit(unique(df$Name))\n",
    "df$Name <- transform(le_name, df$Name)\n",
    "\n",
    "# Substituir valores ausentes/nulos\n",
    "media <- mean(df$Age, na.rm = TRUE)\n",
    "df$Age <- ifelse(is.na(df$Age), media, df$Age)\n",
    "\n",
    "t <- table(df$Embarked)\n",
    "moda <- names(t[t == max(t)])\n",
    "\n",
    "df$Embarked <- ifelse(is.na(df$Embarked), as.character(moda), as.character(df$Embarked) )\n",
    "\n",
    "# Categórico Para numérico\n",
    "le_sex <- LabelEncoder.fit(unique(df$Sex))\n",
    "df$Sex <- transform(le_sex, df$Sex)\n",
    "\n",
    "le_embarked <- LabelEncoder.fit(unique(df$Embarked))\n",
    "df$Embarked <- transform(le_embarked, df$Embarked)\n",
    "\n",
    "# Remoção de colunas\n",
    "df$PassengerId <- NULL\n",
    "df$Ticket <- NULL\n",
    "df$Cabin <- NULL\n",
    "\n",
    "#Escalonamento \n",
    "df[, c('Age', 'Fare')] <- scale(df[, c('Age', 'Fare')])\n",
    "\n",
    "df$Survived = factor(df$Survived)\n",
    "\n",
    "head(df)\n",
    "str(df)"
   ]
  },
  {
   "cell_type": "markdown",
   "id": "2628b818-b46e-4729-a928-a923d8acf66e",
   "metadata": {},
   "source": [
    "# Divisão dos dados em treino e teste"
   ]
  },
  {
   "cell_type": "code",
   "execution_count": 6,
   "id": "1fbb879e-e6d7-470c-aeef-92f0a2f6f9ae",
   "metadata": {},
   "outputs": [],
   "source": [
    "set.seed(0)\n",
    "divisao <- sample.split(df$Survived, SplitRatio = 0.75)\n",
    "\n",
    "treino <- subset(df, divisao == TRUE)\n",
    "teste <-  subset(df, divisao == FALSE)\n",
    "\n",
    "x_train <- treino[,-1]\n",
    "y_train <- treino$Survived\n",
    "\n",
    "x_test <- teste[,-1]\n",
    "y_test <- teste$Survived"
   ]
  },
  {
   "cell_type": "markdown",
   "id": "af778bbe-e285-4ba3-a4f5-915c107f70f5",
   "metadata": {},
   "source": [
    "## SVM\n",
    "\n",
    "Argumentos\n",
    "\n",
    "- **x** - Uma matriz numérica ou um quadro de dados de variáveis  categóricas e/ou numéricas.\n",
    "- **y** - Vetor de classe.\n",
    "- **formula** - Uma fórmula da classe de formulário ~ x1 + x2 +…. Interações não são permitidas.\n",
    "- **data** - Tanto um quadro de dados de preditores (categóricos e / ou numéricos) ou uma tabela de contingência.\n",
    "- **type** - O svm pode ser usado como máquina de classificação, máquina de regressão ou para detecção de novidades. Dependendo se y é um fator ou não, a configuração padrão para o tipo é classificação C ou regressão eps, respectivamente, mas pode ser substituída definindo um valor explícito. As opções válidas são:\n",
    "    - C-classification\n",
    "    - nu-classification\n",
    "    - one-classification (for novelty detection)\n",
    "    - eps-regression\n",
    "    - nu-regression\n",
    "- **kernel** - o kernel usado no treinamento e na previsão. Você pode considerar alterar alguns dos parâmetros a seguir, dependendo do tipo de kernel. \n",
    "    -  linear: \\(u'v\\)\n",
    "    - polynomial: \\((\\gamma u'v + coef0)^{degree}\\)\n",
    "    - radial basis: \\(e^(-\\gamma |u-v|^2)\\)\n",
    "    - sigmoid: \\(tanh(\\gamma u'v + coef0)\\)\n",
    "- **dgree** - Parâmetro necessário para kernel do tipo polinomial (padrão: 3)\n",
    "- **gamma** - Parâmetro necessário para todos os kernels, exceto linear (padrão: 1 / (dimensão de dados))\n",
    "- **coef0** - Parâmetro necessário para kernels do tipo polinomial e sigmóide (padrão: 0)\n",
    "- **cost** - Custo de violação de restrições (padrão: 1) --- é a constante ‘C’ do termo de regularização na formulação de Lagrange.\n",
    "- **nu** - Parâmetro necessário para nu-classificação, nu-regressão e uma classificação \n",
    "- **class.weights** - Um vetor nomeado de pesos para as diferentes classes, usado para tamanhos de classes assimétricas. Nem todos os níveis de fator devem ser fornecidos (peso padrão: 1). Todos os componentes devem ser nomeados. Especificar \"inverso\" escolherá os pesos inversamente proporcionais à distribuição da classe.\n",
    "- **cachesize** - Memória cache em MB (padrão 40)\n",
    "- **tolerace** - Tolerância do critério de rescisão (padrão: 0,001) \n",
    "- **epsilon** - Epsilon na função de perda insensível (padrão: 0,1)\n",
    "- **shrinking** - Opção de usar a heurística de redução (padrão: TRUE)\n",
    "- **cross** - Se um valor inteiro k> 0 for especificado, uma validação cruzada k-fold nos dados de treinamento é realizada para avaliar a qualidade do modelo: a taxa de precisão para classificação e o erro quadrático médio para regressão\n",
    "- **fitted** - Lógico indicando se os valores ajustados devem ser calculados e incluídos no modelo ou não (padrão: TRUE)\n",
    "- **probability** - Lógico, indicando se o modelo deve permitir previsões de probabilidade. \n",
    "- **subset** - Para dados fornecidos em um quadro de dados, um vetor de índice que especifica os casos a serem usados a amostra de treinamento. (NOTA: Se fornecido, este argumento deve ser nomeado.)\n",
    "- **na.action** - Uma função para especificar a ação a ser executada se NAs forem encontrados. A ação padrão é não contá-los para o cálculo dos fatores de probabilidade. Uma alternativa é na.omit, que leva à rejeição de casos com valores ausentes em qualquer variável necessária. (NOTA: Se fornecido, este argumento deve ser nomeado.)\n",
    "\n",
    "\n",
    "Atributos\n",
    "\n",
    "- **SV** - Os vetores de suporte resultantes (possivelmente em escala).\n",
    "- **index** - O índice dos vetores de suporte resultantes na matriz de dados. Observe que este índice se refere aos dados pré-processados (após o possível efeito de na.omit e subconjunto)\n",
    "- **coefs** -  Os coeficientes correspondentes vezes os rótulos de treinamento.\n",
    "- **rho** - A interceptação negativa.\n",
    "- **sigma** -  No caso de um modelo de regressão probabilística, o parâmetro de escala da distribuição hipotética (média zero) laplace estimada por máxima verossimilhança.\n",
    "- **probA, probB** - Vetores numéricos de comprimento k (k-1) / 2, k número de classes, contendo os parâmetros das distribuições logísticas ajustadas aos valores de decisão dos classificadores binários (1 / (1 + exp (a x + b))). "
   ]
  },
  {
   "cell_type": "code",
   "execution_count": 7,
   "id": "bfea7f5c-adf8-4978-850a-3af3f52d30c2",
   "metadata": {},
   "outputs": [],
   "source": [
    "classificador <- svm(x = x_train, y = y_train, type = 'C-classification')"
   ]
  },
  {
   "cell_type": "markdown",
   "id": "82866a62-294e-4c10-95bc-e2cbdbad2ec0",
   "metadata": {},
   "source": [
    "## Atributos"
   ]
  },
  {
   "cell_type": "code",
   "execution_count": 8,
   "id": "9f91d944-9916-4e9c-930e-ee066d6a4112",
   "metadata": {},
   "outputs": [
    {
     "data": {
      "text/html": [
       "<table>\n",
       "<tbody>\n",
       "\t<tr><td>1.000000</td></tr>\n",
       "\t<tr><td>1.000000</td></tr>\n",
       "\t<tr><td>0.174412</td></tr>\n",
       "\t<tr><td>1.000000</td></tr>\n",
       "\t<tr><td>1.000000</td></tr>\n",
       "\t<tr><td>1.000000</td></tr>\n",
       "</tbody>\n",
       "</table>\n"
      ],
      "text/latex": [
       "\\begin{tabular}{l}\n",
       "\t 1.000000\\\\\n",
       "\t 1.000000\\\\\n",
       "\t 0.174412\\\\\n",
       "\t 1.000000\\\\\n",
       "\t 1.000000\\\\\n",
       "\t 1.000000\\\\\n",
       "\\end{tabular}\n"
      ],
      "text/markdown": [
       "\n",
       "| 1.000000 |\n",
       "| 1.000000 |\n",
       "| 0.174412 |\n",
       "| 1.000000 |\n",
       "| 1.000000 |\n",
       "| 1.000000 |\n",
       "\n"
      ],
      "text/plain": [
       "     [,1]    \n",
       "[1,] 1.000000\n",
       "[2,] 1.000000\n",
       "[3,] 0.174412\n",
       "[4,] 1.000000\n",
       "[5,] 1.000000\n",
       "[6,] 1.000000"
      ]
     },
     "metadata": {},
     "output_type": "display_data"
    }
   ],
   "source": [
    "head(classificador$coefs)"
   ]
  },
  {
   "cell_type": "markdown",
   "id": "599d8416-1a68-48c2-b026-9cc387eea13e",
   "metadata": {},
   "source": [
    "# Prever um valor"
   ]
  },
  {
   "cell_type": "code",
   "execution_count": 14,
   "id": "9157979b-6eb9-4dc0-9c2c-b975fef31f2c",
   "metadata": {},
   "outputs": [
    {
     "data": {
      "text/html": [
       "\n",
       "<details>\n",
       "\t<summary style=display:list-item;cursor:pointer>\n",
       "\t\t<strong>Levels</strong>:\n",
       "\t</summary>\n",
       "\t<ol class=list-inline>\n",
       "\t\t<li>'0'</li>\n",
       "\t\t<li>'1'</li>\n",
       "\t</ol>\n",
       "</details>"
      ],
      "text/latex": [
       "\n",
       "\\emph{Levels}: \\begin{enumerate*}\n",
       "\\item '0'\n",
       "\\item '1'\n",
       "\\end{enumerate*}\n"
      ],
      "text/markdown": [
       "\n",
       "**Levels**: 1. '0'\n",
       "2. '1'\n",
       "\n",
       "\n"
      ],
      "text/plain": [
       "factor(0)\n",
       "Levels: 0 1"
      ]
     },
     "metadata": {},
     "output_type": "display_data"
    }
   ],
   "source": [
    "Pclass <- 1\n",
    "Name <- 'Miss'\n",
    "Sex <- 'female'\n",
    "Age <- 5\n",
    "SibSp <- 1\n",
    "Parch <- 1\n",
    "Fare <- 500\n",
    "Embarked <- 'C'\n",
    "\n",
    "data = data.frame(Pclass, Name, Sex, Age, SibSp, Parch, Fare, Embarked)\n",
    "\n",
    "#Tratando os Dados\n",
    "# Categóricas para Numéricas\n",
    "data$Name <- transform(le_name, as.character(data$Name))\n",
    "data$Sex  <- transform(le_sex, as.numeric(data$Sex))\n",
    "data$Embarked <- transform(le_embarked, as.character(data$Embarked))\n",
    "\n",
    "\n",
    "data[, c('Age', 'Fare')] <- scale(data[, c('Age', 'Fare')])\n",
    "\n",
    "#Classificando\n",
    "previsao = predict(classificador, newdata = data, type = 'class')\n",
    "previsao"
   ]
  },
  {
   "cell_type": "markdown",
   "id": "2fb58844-ed59-49ca-b28f-40d3dcde136a",
   "metadata": {},
   "source": [
    "## Prever os dados de Teste"
   ]
  },
  {
   "cell_type": "code",
   "execution_count": 15,
   "id": "7840c113-d3fb-411c-9874-afb8a2f55c9a",
   "metadata": {},
   "outputs": [
    {
     "data": {
      "text/html": [
       "80.7174887892377"
      ],
      "text/latex": [
       "80.7174887892377"
      ],
      "text/markdown": [
       "80.7174887892377"
      ],
      "text/plain": [
       "[1] 80.71749"
      ]
     },
     "metadata": {},
     "output_type": "display_data"
    }
   ],
   "source": [
    "previsao = predict(classificador, newdata = x_test)\n",
    "\n",
    "acuracia = 100 * sum(previsao == y_test)/length(y_test)\n",
    "\n",
    "acuracia"
   ]
  },
  {
   "cell_type": "markdown",
   "id": "49bcd051-3636-4b3b-a67d-86a7139fcf05",
   "metadata": {},
   "source": [
    "# Matriz de Confusão\n",
    "\n",
    "- A função **table** realiza o agrupamento dos dados\n",
    "- A função **confusionMatriz** da biblioteca **caret** também calcula a matriz de confusão + as métricas"
   ]
  },
  {
   "cell_type": "code",
   "execution_count": 16,
   "id": "bfe0909d-6c57-4c8a-b237-962358b15f0b",
   "metadata": {},
   "outputs": [
    {
     "data": {
      "text/plain": [
       "      previsao\n",
       "y_test   0   1\n",
       "     0 118  19\n",
       "     1  24  62"
      ]
     },
     "metadata": {},
     "output_type": "display_data"
    }
   ],
   "source": [
    "matriz_confusao = table(y_test, previsao)\n",
    "matriz_confusao"
   ]
  },
  {
   "cell_type": "code",
   "execution_count": 17,
   "id": "2026f492-cdda-498e-89b0-4b73211f1ee4",
   "metadata": {},
   "outputs": [
    {
     "data": {
      "text/plain": [
       "Confusion Matrix and Statistics\n",
       "\n",
       "          Reference\n",
       "Prediction   0   1\n",
       "         0 118  24\n",
       "         1  19  62\n",
       "                                          \n",
       "               Accuracy : 0.8072          \n",
       "                 95% CI : (0.7492, 0.8568)\n",
       "    No Information Rate : 0.6143          \n",
       "    P-Value [Acc > NIR] : 4.335e-10       \n",
       "                                          \n",
       "                  Kappa : 0.5886          \n",
       "                                          \n",
       " Mcnemar's Test P-Value : 0.5419          \n",
       "                                          \n",
       "            Sensitivity : 0.8613          \n",
       "            Specificity : 0.7209          \n",
       "         Pos Pred Value : 0.8310          \n",
       "         Neg Pred Value : 0.7654          \n",
       "             Prevalence : 0.6143          \n",
       "         Detection Rate : 0.5291          \n",
       "   Detection Prevalence : 0.6368          \n",
       "      Balanced Accuracy : 0.7911          \n",
       "                                          \n",
       "       'Positive' Class : 0               \n",
       "                                          "
      ]
     },
     "metadata": {},
     "output_type": "display_data"
    }
   ],
   "source": [
    "matriz = confusionMatrix(factor(previsao), factor(y_test))\n",
    "matriz"
   ]
  },
  {
   "cell_type": "markdown",
   "id": "b1d4780d-cb54-46af-a431-8e4d5b61c9f0",
   "metadata": {},
   "source": [
    "## Personalizando a Matriz de Confusão"
   ]
  },
  {
   "cell_type": "code",
   "execution_count": 18,
   "id": "a5d9bc56-a7fe-49e6-8f69-19de612c4f77",
   "metadata": {},
   "outputs": [
    {
     "data": {
      "image/png": "[encoded data removed]",
      "text/plain": [
       "Plot with title \"Color Key\""
      ]
     },
     "metadata": {},
     "output_type": "display_data"
    }
   ],
   "source": [
    "my_palette <- colorRampPalette(c(\"red\", \"yellow\", \"green\"))\n",
    "\n",
    "col_breaks = c(0:50, 51:100, 101:300)\n",
    "\n",
    "heatmap.2(matriz_confusao,\n",
    "    Rowv = 'NA',\n",
    "    cellnote = matriz_confusao, \n",
    "    main = \"Matriz de Confusão\",\n",
    "    notecol=\"black\",      \n",
    "    density.info=\"none\",  \n",
    "    trace=\"none\",        \n",
    "    col=my_palette,       \n",
    "    breaks=col_breaks,   \n",
    "    dendrogram= 'none',     \n",
    "    Colv=\"NA\" \n",
    ")"
   ]
  },
  {
   "cell_type": "markdown",
   "id": "226d87fa-1fd5-4c34-8f80-43bfc0cb7d25",
   "metadata": {},
   "source": [
    "# Métricas\n",
    "\n",
    "- **Precisão** que é a fração de instâncias recuperadas que são relevantes, \n",
    "- **Recall** - que é a fração de instâncias relevantes que são recuperadas \n",
    "- **f-score** - é 2 * precisão * recall / (precisão + recall) é "
   ]
  },
  {
   "cell_type": "code",
   "execution_count": 19,
   "id": "b0c7dc34-5c43-454f-8821-4b86658d9e9b",
   "metadata": {},
   "outputs": [
    {
     "data": {
      "text/html": [
       "0.830985915492958"
      ],
      "text/latex": [
       "0.830985915492958"
      ],
      "text/markdown": [
       "0.830985915492958"
      ],
      "text/plain": [
       "[1] 0.8309859"
      ]
     },
     "metadata": {},
     "output_type": "display_data"
    },
    {
     "data": {
      "text/html": [
       "'Morto'"
      ],
      "text/latex": [
       "'Morto'"
      ],
      "text/markdown": [
       "'Morto'"
      ],
      "text/plain": [
       "[1] \"Morto\""
      ]
     },
     "metadata": {},
     "output_type": "display_data"
    },
    {
     "data": {
      "text/html": [
       "0.765432098765432"
      ],
      "text/latex": [
       "0.765432098765432"
      ],
      "text/markdown": [
       "0.765432098765432"
      ],
      "text/plain": [
       "[1] 0.7654321"
      ]
     },
     "metadata": {},
     "output_type": "display_data"
    },
    {
     "data": {
      "text/html": [
       "'Vivo'"
      ],
      "text/latex": [
       "'Vivo'"
      ],
      "text/markdown": [
       "'Vivo'"
      ],
      "text/plain": [
       "[1] \"Vivo\""
      ]
     },
     "metadata": {},
     "output_type": "display_data"
    },
    {
     "data": {
      "text/html": [
       "0.830985915492958"
      ],
      "text/latex": [
       "0.830985915492958"
      ],
      "text/markdown": [
       "0.830985915492958"
      ],
      "text/plain": [
       "[1] 0.8309859"
      ]
     },
     "metadata": {},
     "output_type": "display_data"
    }
   ],
   "source": [
    "precision(factor(previsao), factor(y_test))\n",
    "'Morto'\n",
    "precision(factor(previsao), factor(y_test), relevant = 2)\n",
    "'Vivo'\n",
    "precision(factor(previsao), factor(y_test), relevant = 1)"
   ]
  },
  {
   "cell_type": "code",
   "execution_count": 20,
   "id": "7f6d0e05-dc46-4c82-9a6e-b0c7d84d0df4",
   "metadata": {},
   "outputs": [
    {
     "data": {
      "text/html": [
       "0.861313868613139"
      ],
      "text/latex": [
       "0.861313868613139"
      ],
      "text/markdown": [
       "0.861313868613139"
      ],
      "text/plain": [
       "[1] 0.8613139"
      ]
     },
     "metadata": {},
     "output_type": "display_data"
    },
    {
     "data": {
      "text/html": [
       "'Morto'"
      ],
      "text/latex": [
       "'Morto'"
      ],
      "text/markdown": [
       "'Morto'"
      ],
      "text/plain": [
       "[1] \"Morto\""
      ]
     },
     "metadata": {},
     "output_type": "display_data"
    },
    {
     "data": {
      "text/html": [
       "0.720930232558139"
      ],
      "text/latex": [
       "0.720930232558139"
      ],
      "text/markdown": [
       "0.720930232558139"
      ],
      "text/plain": [
       "[1] 0.7209302"
      ]
     },
     "metadata": {},
     "output_type": "display_data"
    },
    {
     "data": {
      "text/html": [
       "'Vivo'"
      ],
      "text/latex": [
       "'Vivo'"
      ],
      "text/markdown": [
       "'Vivo'"
      ],
      "text/plain": [
       "[1] \"Vivo\""
      ]
     },
     "metadata": {},
     "output_type": "display_data"
    },
    {
     "data": {
      "text/html": [
       "0.861313868613139"
      ],
      "text/latex": [
       "0.861313868613139"
      ],
      "text/markdown": [
       "0.861313868613139"
      ],
      "text/plain": [
       "[1] 0.8613139"
      ]
     },
     "metadata": {},
     "output_type": "display_data"
    }
   ],
   "source": [
    "recall(factor(previsao), factor(y_test))\n",
    "'Morto'\n",
    "recall(factor(previsao), factor(y_test), relevant = 2)\n",
    "'Vivo'\n",
    "recall(factor(previsao), factor(y_test), relevant = 1)"
   ]
  },
  {
   "cell_type": "code",
   "execution_count": 21,
   "id": "456ec04d-d64e-48ec-a2cc-347d4134f714",
   "metadata": {},
   "outputs": [
    {
     "data": {
      "text/html": [
       "0.845878136200717"
      ],
      "text/latex": [
       "0.845878136200717"
      ],
      "text/markdown": [
       "0.845878136200717"
      ],
      "text/plain": [
       "[1] 0.8458781"
      ]
     },
     "metadata": {},
     "output_type": "display_data"
    },
    {
     "data": {
      "text/html": [
       "'Morto'"
      ],
      "text/latex": [
       "'Morto'"
      ],
      "text/markdown": [
       "'Morto'"
      ],
      "text/plain": [
       "[1] \"Morto\""
      ]
     },
     "metadata": {},
     "output_type": "display_data"
    },
    {
     "data": {
      "text/html": [
       "0.74251497005988"
      ],
      "text/latex": [
       "0.74251497005988"
      ],
      "text/markdown": [
       "0.74251497005988"
      ],
      "text/plain": [
       "[1] 0.742515"
      ]
     },
     "metadata": {},
     "output_type": "display_data"
    },
    {
     "data": {
      "text/html": [
       "'Vivo'"
      ],
      "text/latex": [
       "'Vivo'"
      ],
      "text/markdown": [
       "'Vivo'"
      ],
      "text/plain": [
       "[1] \"Vivo\""
      ]
     },
     "metadata": {},
     "output_type": "display_data"
    },
    {
     "data": {
      "text/html": [
       "0.845878136200717"
      ],
      "text/latex": [
       "0.845878136200717"
      ],
      "text/markdown": [
       "0.845878136200717"
      ],
      "text/plain": [
       "[1] 0.8458781"
      ]
     },
     "metadata": {},
     "output_type": "display_data"
    }
   ],
   "source": [
    "F_meas(factor(previsao), factor(y_test))\n",
    "'Morto'\n",
    "F_meas(factor(previsao), factor(y_test), relevant = 2)\n",
    "'Vivo'\n",
    "F_meas(factor(previsao), factor(y_test), relevant = 1)"
   ]
  },
  {
   "cell_type": "markdown",
   "id": "0c589553-6a02-4870-8b09-81986d5ebf0e",
   "metadata": {},
   "source": [
    "# Validação Cruzada\n",
    "\n",
    "- **method = cv** - indica que iremos usar o método crossvalidation\n",
    "- **number = 10** - define o número de fold\n",
    "- **method = svmLinear2** - indica que iremos usar o algorítmo SVM"
   ]
  },
  {
   "cell_type": "code",
   "execution_count": 23,
   "id": "81bde796-c436-4498-95ca-8559cc5721b5",
   "metadata": {},
   "outputs": [
    {
     "data": {
      "text/html": [
       "<table>\n",
       "<thead><tr><th scope=col>cost</th><th scope=col>Accuracy</th><th scope=col>Kappa</th><th scope=col>AccuracySD</th><th scope=col>KappaSD</th></tr></thead>\n",
       "<tbody>\n",
       "\t<tr><td>0.25      </td><td>0.7867734 </td><td>0.5419641 </td><td>0.04050521</td><td>0.08785687</td></tr>\n",
       "\t<tr><td>0.50      </td><td>0.7867734 </td><td>0.5419641 </td><td>0.04050521</td><td>0.08785687</td></tr>\n",
       "\t<tr><td>1.00      </td><td>0.7867734 </td><td>0.5419641 </td><td>0.04050521</td><td>0.08785687</td></tr>\n",
       "</tbody>\n",
       "</table>\n"
      ],
      "text/latex": [
       "\\begin{tabular}{r|lllll}\n",
       " cost & Accuracy & Kappa & AccuracySD & KappaSD\\\\\n",
       "\\hline\n",
       "\t 0.25       & 0.7867734  & 0.5419641  & 0.04050521 & 0.08785687\\\\\n",
       "\t 0.50       & 0.7867734  & 0.5419641  & 0.04050521 & 0.08785687\\\\\n",
       "\t 1.00       & 0.7867734  & 0.5419641  & 0.04050521 & 0.08785687\\\\\n",
       "\\end{tabular}\n"
      ],
      "text/markdown": [
       "\n",
       "| cost | Accuracy | Kappa | AccuracySD | KappaSD |\n",
       "|---|---|---|---|---|\n",
       "| 0.25       | 0.7867734  | 0.5419641  | 0.04050521 | 0.08785687 |\n",
       "| 0.50       | 0.7867734  | 0.5419641  | 0.04050521 | 0.08785687 |\n",
       "| 1.00       | 0.7867734  | 0.5419641  | 0.04050521 | 0.08785687 |\n",
       "\n"
      ],
      "text/plain": [
       "  cost Accuracy  Kappa     AccuracySD KappaSD   \n",
       "1 0.25 0.7867734 0.5419641 0.04050521 0.08785687\n",
       "2 0.50 0.7867734 0.5419641 0.04050521 0.08785687\n",
       "3 1.00 0.7867734 0.5419641 0.04050521 0.08785687"
      ]
     },
     "metadata": {},
     "output_type": "display_data"
    }
   ],
   "source": [
    "controle_treinamento = trainControl(method = 'cv', number = 10)\n",
    "df$Survived = factor(df$Survived)\n",
    "modelo = train(Survived ~ ., data = df, trControl = controle_treinamento, method = 'svmLinear2')\n",
    "modelo$results"
   ]
  },
  {
   "cell_type": "code",
   "execution_count": null,
   "id": "d240ee8a-8b24-4fe8-a133-f178f15733bf",
   "metadata": {},
   "outputs": [],
   "source": []
  }
 ],
 "metadata": {
  "kernelspec": {
   "display_name": "R",
   "language": "R",
   "name": "ir"
  },
  "language_info": {
   "codemirror_mode": "r",
   "file_extension": ".r",
   "mimetype": "text/x-r-source",
   "name": "R",
   "pygments_lexer": "r",
   "version": "3.6.1"
  }
 },
 "nbformat": 4,
 "nbformat_minor": 5
}
