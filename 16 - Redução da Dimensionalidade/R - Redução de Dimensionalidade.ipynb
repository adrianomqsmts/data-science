{
 "cells": [
  {
   "cell_type": "markdown",
   "id": "48371a4c-dde2-484c-a056-967e94a7cded",
   "metadata": {},
   "source": [
    "# Redução de Dimensionalidade\n",
    "\n",
    "- [Métodos de Redução da Dimensionalidade](https://rpubs.com/Saskia/520216)\n",
    "- [Kernel PCA](https://rpubs.com/markloessi/505868)\n",
    "- [LDA EX1](https://rpubs.com/cyobero/lda)\n",
    "- [LDA EX2](https://www.rpubs.com/dvallslanaquera/lda)\n",
    "- [PCA](https://rpubs.com/JanpuHou/278584)"
   ]
  },
  {
   "cell_type": "markdown",
   "id": "c3c513db-aaec-45d3-9a6e-2f6b691bbf34",
   "metadata": {},
   "source": [
    "# Bibliotecas"
   ]
  },
  {
   "cell_type": "code",
   "execution_count": 36,
   "id": "77092e54-18a6-4a5c-be3b-220337cfa4ef",
   "metadata": {},
   "outputs": [],
   "source": [
    "# Treino-Teste\n",
    "library(caTools)\n",
    "# Primeira opção do PCA\n",
    "library(caret)\n",
    "# Segunda Opção do PCA\n",
    "library(stats)\n",
    "# LDA\n",
    "library(MASS)\n",
    "# TSne\n",
    "library(Rtsne)\n",
    "library(irlba)\n",
    "# naivebays\n",
    "library(e1071)"
   ]
  },
  {
   "cell_type": "markdown",
   "id": "822449e1-7a6f-4027-83fe-a4339155e649",
   "metadata": {},
   "source": [
    "# Base da dados - Iris\n",
    "\n",
    "- Precisam de dados escalonados"
   ]
  },
  {
   "cell_type": "code",
   "execution_count": 3,
   "id": "974c9e88-db5a-41de-b002-aa9dfcf48777",
   "metadata": {},
   "outputs": [
    {
     "data": {
      "text/html": [
       "<table>\n",
       "<thead><tr><th scope=col>Sepal.Length</th><th scope=col>Sepal.Width</th><th scope=col>Petal.Length</th><th scope=col>Petal.Width</th><th scope=col>Species</th></tr></thead>\n",
       "<tbody>\n",
       "\t<tr><td>-0.8976739 </td><td> 1.01560199</td><td>-1.335752  </td><td>-1.311052  </td><td>setosa     </td></tr>\n",
       "\t<tr><td>-1.1392005 </td><td>-0.13153881</td><td>-1.335752  </td><td>-1.311052  </td><td>setosa     </td></tr>\n",
       "\t<tr><td>-1.3807271 </td><td> 0.32731751</td><td>-1.392399  </td><td>-1.311052  </td><td>setosa     </td></tr>\n",
       "\t<tr><td>-1.5014904 </td><td> 0.09788935</td><td>-1.279104  </td><td>-1.311052  </td><td>setosa     </td></tr>\n",
       "\t<tr><td>-1.0184372 </td><td> 1.24503015</td><td>-1.335752  </td><td>-1.311052  </td><td>setosa     </td></tr>\n",
       "\t<tr><td>-0.5353840 </td><td> 1.93331463</td><td>-1.165809  </td><td>-1.048667  </td><td>setosa     </td></tr>\n",
       "</tbody>\n",
       "</table>\n"
      ],
      "text/latex": [
       "\\begin{tabular}{r|lllll}\n",
       " Sepal.Length & Sepal.Width & Petal.Length & Petal.Width & Species\\\\\n",
       "\\hline\n",
       "\t -0.8976739  &  1.01560199 & -1.335752   & -1.311052   & setosa     \\\\\n",
       "\t -1.1392005  & -0.13153881 & -1.335752   & -1.311052   & setosa     \\\\\n",
       "\t -1.3807271  &  0.32731751 & -1.392399   & -1.311052   & setosa     \\\\\n",
       "\t -1.5014904  &  0.09788935 & -1.279104   & -1.311052   & setosa     \\\\\n",
       "\t -1.0184372  &  1.24503015 & -1.335752   & -1.311052   & setosa     \\\\\n",
       "\t -0.5353840  &  1.93331463 & -1.165809   & -1.048667   & setosa     \\\\\n",
       "\\end{tabular}\n"
      ],
      "text/markdown": [
       "\n",
       "| Sepal.Length | Sepal.Width | Petal.Length | Petal.Width | Species |\n",
       "|---|---|---|---|---|\n",
       "| -0.8976739  |  1.01560199 | -1.335752   | -1.311052   | setosa      |\n",
       "| -1.1392005  | -0.13153881 | -1.335752   | -1.311052   | setosa      |\n",
       "| -1.3807271  |  0.32731751 | -1.392399   | -1.311052   | setosa      |\n",
       "| -1.5014904  |  0.09788935 | -1.279104   | -1.311052   | setosa      |\n",
       "| -1.0184372  |  1.24503015 | -1.335752   | -1.311052   | setosa      |\n",
       "| -0.5353840  |  1.93331463 | -1.165809   | -1.048667   | setosa      |\n",
       "\n"
      ],
      "text/plain": [
       "  Sepal.Length Sepal.Width Petal.Length Petal.Width Species\n",
       "1 -0.8976739    1.01560199 -1.335752    -1.311052   setosa \n",
       "2 -1.1392005   -0.13153881 -1.335752    -1.311052   setosa \n",
       "3 -1.3807271    0.32731751 -1.392399    -1.311052   setosa \n",
       "4 -1.5014904    0.09788935 -1.279104    -1.311052   setosa \n",
       "5 -1.0184372    1.24503015 -1.335752    -1.311052   setosa \n",
       "6 -0.5353840    1.93331463 -1.165809    -1.048667   setosa "
      ]
     },
     "metadata": {},
     "output_type": "display_data"
    }
   ],
   "source": [
    "df = iris\n",
    "df[, 1:4] = scale(df[, 1:4])\n",
    "head(df)"
   ]
  },
  {
   "cell_type": "markdown",
   "id": "46c53093-40a8-4343-9955-4523ca158ed6",
   "metadata": {},
   "source": [
    "# Divisao em Treino e Teste"
   ]
  },
  {
   "cell_type": "code",
   "execution_count": 4,
   "id": "0060f7f6-62e4-4392-a836-0083c5eb0207",
   "metadata": {},
   "outputs": [],
   "source": [
    "set.seed(5)\n",
    "divisao <- sample.split(df$Species, SplitRatio = 0.75)\n",
    "\n",
    "treino <- subset(df, divisao == TRUE)\n",
    "teste <-  subset(df, divisao == FALSE)"
   ]
  },
  {
   "cell_type": "markdown",
   "id": "b91bf8ec-1e18-41cb-9bbd-5bfcbff62fa4",
   "metadata": {},
   "source": [
    "# Classificação Sem Redução da Dimensionalidade"
   ]
  },
  {
   "cell_type": "code",
   "execution_count": 5,
   "id": "f345dd3c-4e5a-4736-a600-ca90c815fffd",
   "metadata": {},
   "outputs": [
    {
     "data": {
      "text/html": [
       "94.4444444444444"
      ],
      "text/latex": [
       "94.4444444444444"
      ],
      "text/markdown": [
       "94.4444444444444"
      ],
      "text/plain": [
       "[1] 94.44444"
      ]
     },
     "metadata": {},
     "output_type": "display_data"
    }
   ],
   "source": [
    "classificador <- naiveBayes(x = treino[, -5], y = treino[, 5])\n",
    "\n",
    "previsao = predict(classificador, newdata = teste[, -5], type = 'class')\n",
    "\n",
    "acuracia = 100 * sum(previsao == teste[, 5])/length(teste[, 5])\n",
    "acuracia"
   ]
  },
  {
   "cell_type": "markdown",
   "id": "beeae3cd-2628-4800-b988-c54ffbffb308",
   "metadata": {},
   "source": [
    "## PCA - Library Caret\n",
    "\n",
    "- O método preProcess possui um método embutido que permite calcular o PCA\n",
    "\n",
    "Parâmetros\n",
    "\n",
    "- **X** - Uma matriz ou quadro de dados. Preditores não numéricos são permitidos, mas serão ignorados.\n",
    "- **method** - Um vetor de caractere especificando o tipo de processamento. Os valores possíveis são \"BoxCox\", \"YeoJohnson\", \"expoTrans\", \"center\", \"scale\", \"range\", \"knnImpute\", \"bagImpute\", \"mediaimputo\", \"pca\", \"ica\", \"spatialSign\", \"corr\", \"zv\", \"nzv\" e \"conditionalX\"\n",
    "- **thresh** - Um corte para que a porcentagem cumulativa de variância seja mantida pelo PCA\n",
    "- **pcaComp** - O número específico de componentes PCA para manter. Se especificado, este over-rides thresh\n",
    "- **na.remove** - Uma lógica; os valores perdidos devem ser removidos dos cálculos?\n",
    "- **K** - O número de vizinhos mais próximos do conjunto de treinamento para usar para imputação\n",
    "- **knnSummary** - Função para média dos valores do vizinho por coluna durante a imputação\n",
    "- **outcome** - Um vetor numérico ou fator para os resultados do conjunto de treinamento. Isso pode ser usado para ajudar a estimar a transformação Box-Cox das variáveis preditoras. \n",
    "- **fudge** - Um valor de tolerância: Os valores lambda de transformação box-cox dentro de +/-fudge serão coagidos a 0 e dentro de 1+/-fudge serão coagidos a 1.\n",
    "- **numUnique** - Quantos valores únicos devem ter para estimar a transformação Box-Cox?y\n",
    "- **verbose** - Uma lógica: imprime um tronco à medida que os cálculos prosseguem\n",
    "- **freqCut** - O corte para a razão do valor mais comum para o segundo valor mais comum. ver.nearZeroVar\n",
    "- **uniqueCut** - O corte para a porcentagem de valores distintos do número de amostras totais. ver.nearZeroVar\n",
    "- **cut** - Um valor numérico para o corte de correlação absoluta par-wise. ver.findCorrelation\n",
    "- **rangeBounds** - Um vetor numérico de dois elementos especificando intervalo fechado para transformação de alcance\n",
    "- **object** -Um objeto de classe preProcess\n",
    "- **newData** - Uma matriz ou quadro de dados de novos dados a serem pré-processados\n",
    "\n",
    "Atributos\n",
    "\n",
    "- preProcess resulta em uma lista com elementos\n",
    "- **call** - a chamada de função\n",
    "- **method** - Uma lista nomeada de operações e as variáveis utilizadas para cada\n",
    "- **dim** - As dimensões de x\n",
    "- **bc** - Valores de transformação de Box-Cox\n",
    "- **mean** - Um vetor de meios (se o centro foi solicitado)\n",
    "- **DST** - Um vetor de desvios padrão (se o dimensionamento ou PCA foi solicitado)\n",
    "- **rotation** - Uma matriz de eigenvectors se pca foi solicitado\n",
    "- **method** - O valor de method\n",
    "- **thresh** - O valor de thresh\n",
    "- **ranges** - Uma matriz de valores mínimos e máximos para cada preditor quando inclui \"alcance\" (e de outra forma)methodNULL\n",
    "- **numComp** - O número de componentes principais necessários para capturar a quantidade especificada de variância\n",
    "- **Ica** - Contém valores para a e matriz da decomposiçãoWK\n",
    "- **median** - Um vetor de medianas (se a imputação mediana foi solicitada)\n",
    "- **predict.preProcess** produzirá um quadro de dados"
   ]
  },
  {
   "cell_type": "code",
   "execution_count": 6,
   "id": "f44ef7e9-12a2-48c1-8537-a4516ccb38aa",
   "metadata": {},
   "outputs": [
    {
     "data": {
      "text/plain": [
       "Created from 114 samples and 5 variables\n",
       "\n",
       "Pre-processing:\n",
       "  - centered (4)\n",
       "  - ignored (1)\n",
       "  - principal component signal extraction (4)\n",
       "  - scaled (4)\n",
       "\n",
       "PCA needed 2 components to capture 95 percent of the variance"
      ]
     },
     "metadata": {},
     "output_type": "display_data"
    }
   ],
   "source": [
    "pca = preProcess(treino, method = 'pca')\n",
    "pca"
   ]
  },
  {
   "cell_type": "markdown",
   "id": "1e830e2e-110e-4d57-b87a-5d41f1863790",
   "metadata": {},
   "source": [
    "## Aplicando PCA nos Dados"
   ]
  },
  {
   "cell_type": "code",
   "execution_count": 7,
   "id": "220ab4c3-3373-4f9e-8dec-f4e5b2018804",
   "metadata": {},
   "outputs": [
    {
     "data": {
      "text/html": [
       "<table>\n",
       "<thead><tr><th></th><th scope=col>Species</th><th scope=col>PC1</th><th scope=col>PC2</th></tr></thead>\n",
       "<tbody>\n",
       "\t<tr><th scope=row>1</th><td>setosa     </td><td>-2.214765  </td><td>-0.50748259</td></tr>\n",
       "\t<tr><th scope=row>2</th><td>setosa     </td><td>-2.069790  </td><td> 0.61438382</td></tr>\n",
       "\t<tr><th scope=row>4</th><td>setosa     </td><td>-2.278131  </td><td> 0.54213579</td></tr>\n",
       "\t<tr><th scope=row>5</th><td>setosa     </td><td>-2.331130  </td><td>-0.66915996</td></tr>\n",
       "\t<tr><th scope=row>6</th><td>setosa     </td><td>-1.995743  </td><td>-1.47953391</td></tr>\n",
       "\t<tr><th scope=row>7</th><td>setosa     </td><td>-2.398283  </td><td>-0.08283519</td></tr>\n",
       "</tbody>\n",
       "</table>\n"
      ],
      "text/latex": [
       "\\begin{tabular}{r|lll}\n",
       "  & Species & PC1 & PC2\\\\\n",
       "\\hline\n",
       "\t1 & setosa      & -2.214765   & -0.50748259\\\\\n",
       "\t2 & setosa      & -2.069790   &  0.61438382\\\\\n",
       "\t4 & setosa      & -2.278131   &  0.54213579\\\\\n",
       "\t5 & setosa      & -2.331130   & -0.66915996\\\\\n",
       "\t6 & setosa      & -1.995743   & -1.47953391\\\\\n",
       "\t7 & setosa      & -2.398283   & -0.08283519\\\\\n",
       "\\end{tabular}\n"
      ],
      "text/markdown": [
       "\n",
       "| <!--/--> | Species | PC1 | PC2 |\n",
       "|---|---|---|---|\n",
       "| 1 | setosa      | -2.214765   | -0.50748259 |\n",
       "| 2 | setosa      | -2.069790   |  0.61438382 |\n",
       "| 4 | setosa      | -2.278131   |  0.54213579 |\n",
       "| 5 | setosa      | -2.331130   | -0.66915996 |\n",
       "| 6 | setosa      | -1.995743   | -1.47953391 |\n",
       "| 7 | setosa      | -2.398283   | -0.08283519 |\n",
       "\n"
      ],
      "text/plain": [
       "  Species PC1       PC2        \n",
       "1 setosa  -2.214765 -0.50748259\n",
       "2 setosa  -2.069790  0.61438382\n",
       "4 setosa  -2.278131  0.54213579\n",
       "5 setosa  -2.331130 -0.66915996\n",
       "6 setosa  -1.995743 -1.47953391\n",
       "7 setosa  -2.398283 -0.08283519"
      ]
     },
     "metadata": {},
     "output_type": "display_data"
    }
   ],
   "source": [
    "pca_treino = predict(pca, treino)\n",
    "pca_teste = predict(pca, teste)\n",
    "head(pca_treino)"
   ]
  },
  {
   "cell_type": "markdown",
   "id": "9e068d59-0eff-4124-a1e4-91fbdefe6c54",
   "metadata": {},
   "source": [
    "## Classificar Usando PCA"
   ]
  },
  {
   "cell_type": "code",
   "execution_count": 8,
   "id": "c1187c2b-261c-48a6-8807-efe63b301f7d",
   "metadata": {},
   "outputs": [
    {
     "data": {
      "text/html": [
       "83.3333333333333"
      ],
      "text/latex": [
       "83.3333333333333"
      ],
      "text/markdown": [
       "83.3333333333333"
      ],
      "text/plain": [
       "[1] 83.33333"
      ]
     },
     "metadata": {},
     "output_type": "display_data"
    }
   ],
   "source": [
    "classificador <- naiveBayes(x = pca_treino[, -1], y = pca_treino[, 1])\n",
    "\n",
    "previsao = predict(classificador, newdata = pca_teste, type = 'class')\n",
    "\n",
    "acuracia = 100 * sum(previsao == pca_teste[, 1])/length(pca_teste[, 1])\n",
    "acuracia"
   ]
  },
  {
   "cell_type": "markdown",
   "id": "067044b4-f07a-4100-b23a-9370737c3c53",
   "metadata": {},
   "source": [
    "## Aumentando o Thresh (Corte)"
   ]
  },
  {
   "cell_type": "code",
   "execution_count": 9,
   "id": "fb743d08-d45b-44e5-a0e3-918977a8cec0",
   "metadata": {},
   "outputs": [
    {
     "data": {
      "text/plain": [
       "Created from 114 samples and 5 variables\n",
       "\n",
       "Pre-processing:\n",
       "  - centered (4)\n",
       "  - ignored (1)\n",
       "  - principal component signal extraction (4)\n",
       "  - scaled (4)\n",
       "\n",
       "PCA needed 3 components to capture 98 percent of the variance"
      ]
     },
     "metadata": {},
     "output_type": "display_data"
    }
   ],
   "source": [
    "pca_threshed = preProcess(treino, method = 'pca', thresh = .98)\n",
    "pca_threshed "
   ]
  },
  {
   "cell_type": "code",
   "execution_count": 10,
   "id": "68498939-ccc4-47a5-988d-1fd5932d6832",
   "metadata": {},
   "outputs": [
    {
     "data": {
      "text/html": [
       "91.6666666666667"
      ],
      "text/latex": [
       "91.6666666666667"
      ],
      "text/markdown": [
       "91.6666666666667"
      ],
      "text/plain": [
       "[1] 91.66667"
      ]
     },
     "metadata": {},
     "output_type": "display_data"
    }
   ],
   "source": [
    "pca_treino = predict(pca_threshed, treino)\n",
    "pca_teste = predict(pca_threshed, teste)\n",
    "\n",
    "classificador <- naiveBayes(x = pca_treino[, -1], y = pca_treino[, 1])\n",
    "\n",
    "previsao = predict(classificador, newdata = pca_teste, type = 'class')\n",
    "\n",
    "acuracia = 100 * sum(previsao == pca_teste[, 1])/length(pca_teste[, 1])\n",
    "acuracia"
   ]
  },
  {
   "cell_type": "markdown",
   "id": "8a94b794-5900-40bb-bb25-9a8581c1e52d",
   "metadata": {},
   "source": [
    "## Especifidando o Número de Entradas"
   ]
  },
  {
   "cell_type": "code",
   "execution_count": 11,
   "id": "6bfd6f2d-0e1a-41b7-a850-11b4855af844",
   "metadata": {},
   "outputs": [
    {
     "data": {
      "text/plain": [
       "Created from 114 samples and 5 variables\n",
       "\n",
       "Pre-processing:\n",
       "  - centered (4)\n",
       "  - ignored (1)\n",
       "  - principal component signal extraction (4)\n",
       "  - scaled (4)\n",
       "\n",
       "PCA used 4 components as specified"
      ]
     },
     "metadata": {},
     "output_type": "display_data"
    }
   ],
   "source": [
    "pca_comp = preProcess(treino, method = 'pca', pcaComp = 4)\n",
    "pca_comp"
   ]
  },
  {
   "cell_type": "code",
   "execution_count": 12,
   "id": "78d2a8e1-ac04-4bf2-a357-64b95f57901b",
   "metadata": {},
   "outputs": [
    {
     "data": {
      "text/html": [
       "83.3333333333333"
      ],
      "text/latex": [
       "83.3333333333333"
      ],
      "text/markdown": [
       "83.3333333333333"
      ],
      "text/plain": [
       "[1] 83.33333"
      ]
     },
     "metadata": {},
     "output_type": "display_data"
    }
   ],
   "source": [
    "pca_treino = predict(pca_comp, treino)\n",
    "pca_teste = predict(pca_comp, teste)\n",
    "\n",
    "classificador <- naiveBayes(x = pca_treino[, -1], y = pca_treino[, 1])\n",
    "\n",
    "previsao = predict(classificador, newdata = pca_teste, type = 'class')\n",
    "\n",
    "acuracia = 100 * sum(previsao == pca_teste[, 1])/length(pca_teste[, 1])\n",
    "acuracia"
   ]
  },
  {
   "cell_type": "markdown",
   "id": "302646d6-fe78-4945-8dde-97f198e5d703",
   "metadata": {},
   "source": [
    "# PCA - Library Stats\n",
    "\n",
    "[Análise de componentes principais em R: prcomp vs princomp](http://www.sthda.com/english/articles/31-principal-component-methods-in-r-practical-guide/118-principal-component-analysis-in-r-prcomp-vs-princomp/)\n",
    "\n",
    "\n",
    "- A função **princomp** usa a abordagem de decomposição espectral. \n",
    "    - Decomposição espectral que examina as covariáveis / correlações entre variáveis\n",
    "- **Argumentos para prcomp()**:\n",
    "    - **x**: Uma matriz numérica ou quadro de dados\n",
    "    - **rank** - opcionalmente, um número especificando a classificação máxima, ou seja, número máximo de componentes principais a serem usados.\n",
    "    - **scale**: Um valor lógico indicando se as variáveis devem ser dimensionadas para ter variância unitária antes da análise ocorrer\n",
    "- A função **prcomp** usa a decomposição de valor singular(SVD).\n",
    "    - Decomposição de valor singular que examina as covariáveis / correlações entre indivíduos\n",
    "- **Argumentos para princomp()**:\n",
    "    - **x**: matriz numérica ou quadro de dados\n",
    "    - **cor**: um valor lógico. Se VERDADEIROS, os dados serão centrados e dimensionados antes da análise\n",
    "    - **scores**: um valor lógico. Se VERDADEIRO, as coordenadas em cada componente principal são calculadas\n",
    "\n",
    "Atributos\n",
    "\n",
    "|nome prcomp()|nome princomp()|descrição|\n",
    "|---|---|---|\n",
    "|sdev|sdev|os desvios padrão dos componentes principais|\n",
    "|rotation|loadings|a matriz de cargas variáveis (colunas são eigenvectors)|\n",
    "|center|center|os meios variáveis (significa que foram subtraídos)|\n",
    "|scale|scale|os desvios padrão variáveis (o dimensionamento aplicado a cada variável )|\n",
    "|x|scores|As coordenadas dos indivíduos (observações) nos componentes principais.|"
   ]
  },
  {
   "cell_type": "markdown",
   "id": "ad7d4e43-f07f-4cbe-ba64-b2d20dbe1388",
   "metadata": {},
   "source": [
    "## prcomp"
   ]
  },
  {
   "cell_type": "code",
   "execution_count": 13,
   "id": "d85ef4e5-0487-4d8b-b923-8331a9cc108e",
   "metadata": {},
   "outputs": [
    {
     "data": {
      "text/plain": [
       "Importance of components:\n",
       "                          PC1    PC2     PC3     PC4\n",
       "Standard deviation     1.7131 1.0055 0.37606 0.14998\n",
       "Proportion of Variance 0.7141 0.2460 0.03441 0.00547\n",
       "Cumulative Proportion  0.7141 0.9601 0.99453 1.00000"
      ]
     },
     "metadata": {},
     "output_type": "display_data"
    }
   ],
   "source": [
    "pca_prcomp = prcomp(treino[,-5])\n",
    "summary(pca_prcomp)"
   ]
  },
  {
   "cell_type": "markdown",
   "id": "adcaa30a-d708-4379-a97d-456540fbaa52",
   "metadata": {},
   "source": [
    "### Visualizar os Componentes"
   ]
  },
  {
   "cell_type": "code",
   "execution_count": 14,
   "id": "41a72930-5bc7-41a7-b535-a59755012e70",
   "metadata": {},
   "outputs": [
    {
     "data": {
      "image/png": "[encoded data removed]",
      "text/plain": [
       "Plot with title \"pca_prcomp\""
      ]
     },
     "metadata": {},
     "output_type": "display_data"
    },
    {
     "data": {
      "image/png": "[encoded data removed]",
      "text/plain": [
       "plot without title"
      ]
     },
     "metadata": {},
     "output_type": "display_data"
    }
   ],
   "source": [
    "plot(pca_prcomp)\n",
    "biplot(pca_prcomp)"
   ]
  },
  {
   "cell_type": "markdown",
   "id": "1c7a61db-eb75-42b4-976a-c55f0a281b01",
   "metadata": {},
   "source": [
    "### Visualizar a Significância dos Componentes\n",
    "\n",
    "-  O primeiro componente principal tem variância 2.93 (pca_prcomp$sdev[1]^2), bem maior do que a média das variâncias (igual a 1). Além disso, o gráfico da Fig. 4 indica que o número decomponentes a reter é três."
   ]
  },
  {
   "cell_type": "code",
   "execution_count": 15,
   "id": "b629b4e8-9bcf-498c-8403-b5239d42bc3a",
   "metadata": {},
   "outputs": [
    {
     "data": {
      "text/html": [
       "2.93483930486873"
      ],
      "text/latex": [
       "2.93483930486873"
      ],
      "text/markdown": [
       "2.93483930486873"
      ],
      "text/plain": [
       "[1] 2.934839"
      ]
     },
     "metadata": {},
     "output_type": "display_data"
    }
   ],
   "source": [
    "pca_prcomp$sdev[1]^2"
   ]
  },
  {
   "cell_type": "code",
   "execution_count": 16,
   "id": "8f0d3dcb-0c7a-4e99-8360-53920d1da069",
   "metadata": {},
   "outputs": [
    {
     "data": {
      "image/png": "[encoded data removed]",
      "text/plain": [
       "plot without title"
      ]
     },
     "metadata": {},
     "output_type": "display_data"
    }
   ],
   "source": [
    "plot(\n",
    "    1:ncol(treino[,-5]), # Número de Colunas\n",
    "    pca_prcomp$sdev^2, #Variância dos Dados\n",
    "    type = \"b\",\n",
    "    xlab = \"Número de Componentes\",\n",
    "    ylab = \"Variância\",\n",
    "    pch = 20,\n",
    "    cex.axis = 1.3,\n",
    "    cex.lab = 1.3\n",
    ")"
   ]
  },
  {
   "cell_type": "markdown",
   "id": "cb7ecbcf-7bb6-424c-a25f-1594ba7da390",
   "metadata": {},
   "source": [
    "### Prever os Dados de Teste\n",
    "\n",
    "- Usar apenas as 3 primeiras componentes, podemos usar o **rank.** e recalcular o PCA \n",
    "- Ou pemos apenas especificar as 3 primeiras colunas do PCA"
   ]
  },
  {
   "cell_type": "code",
   "execution_count": 17,
   "id": "b34ec2d7-76c9-4794-b7c2-230095769e75",
   "metadata": {},
   "outputs": [
    {
     "data": {
      "text/plain": [
       "Importance of first k=3 (out of 4) components:\n",
       "                          PC1    PC2     PC3\n",
       "Standard deviation     1.7131 1.0055 0.37606\n",
       "Proportion of Variance 0.7141 0.2460 0.03441\n",
       "Cumulative Proportion  0.7141 0.9601 0.99453"
      ]
     },
     "metadata": {},
     "output_type": "display_data"
    }
   ],
   "source": [
    "pca_prcomp = prcomp(treino[,-5], rank. = 3)\n",
    "summary(pca_prcomp)"
   ]
  },
  {
   "cell_type": "code",
   "execution_count": 55,
   "id": "5d1ee048-98a3-46e5-881e-0ae1c4ba68ae",
   "metadata": {},
   "outputs": [
    {
     "data": {
      "text/html": [
       "91.6666666666667"
      ],
      "text/latex": [
       "91.6666666666667"
      ],
      "text/markdown": [
       "91.6666666666667"
      ],
      "text/plain": [
       "[1] 91.66667"
      ]
     },
     "metadata": {},
     "output_type": "display_data"
    }
   ],
   "source": [
    "pca_prcomp_treino = predict(pca_prcomp, treino)\n",
    "pca_prcomp_teste = predict(pca_prcomp, teste)\n",
    "\n",
    "classificador <- naiveBayes(x = pca_prcomp_treino, y = treino[, 5])\n",
    "\n",
    "previsao = predict(classificador, newdata = pca_prcomp_teste, type = 'raw')\n",
    "\n",
    "pred = ifelse(previsao[, 1] > 0.5, 'setosa', 0)\n",
    "pred = ifelse(previsao[, 2] > 0.5, 'versicolor', pred)\n",
    "pred = ifelse(previsao[, 3] > 0.5, 'virginica', pred)\n",
    "\n",
    "acuracia = 100 * sum(pred == teste[, 5])/length(teste[, 5])\n",
    "acuracia"
   ]
  },
  {
   "cell_type": "markdown",
   "id": "33b822aa-72c5-4620-84d2-0bdffba7774b",
   "metadata": {},
   "source": [
    "## princomp"
   ]
  },
  {
   "cell_type": "code",
   "execution_count": 53,
   "id": "0d23971e-8b62-4f86-8808-9a9b6e47dc8a",
   "metadata": {},
   "outputs": [
    {
     "data": {
      "text/plain": [
       "Importance of components:\n",
       "                          Comp.1    Comp.2     Comp.3      Comp.4\n",
       "Standard deviation     1.6969503 0.9796711 0.37209290 0.148832700\n",
       "Proportion of Variance 0.7199101 0.2399389 0.03461328 0.005537793\n",
       "Cumulative Proportion  0.7199101 0.9598489 0.99446221 1.000000000"
      ]
     },
     "metadata": {},
     "output_type": "display_data"
    }
   ],
   "source": [
    "pca_princomp = princomp(treino[,-5], cor = T)\n",
    "summary(pca_princomp)"
   ]
  },
  {
   "cell_type": "code",
   "execution_count": 56,
   "id": "b8d78b47-ea7a-4942-826b-149b0f5b6096",
   "metadata": {},
   "outputs": [
    {
     "data": {
      "text/html": [
       "83.3333333333333"
      ],
      "text/latex": [
       "83.3333333333333"
      ],
      "text/markdown": [
       "83.3333333333333"
      ],
      "text/plain": [
       "[1] 83.33333"
      ]
     },
     "metadata": {},
     "output_type": "display_data"
    }
   ],
   "source": [
    "pca_princomp_treino = predict(pca_princomp, treino)\n",
    "pca_princomp_teste = predict(pca_princomp, teste)\n",
    "\n",
    "classificador <- naiveBayes(x = pca_princomp_treino, y = treino[, 5])\n",
    "\n",
    "previsao = predict(classificador, newdata = pca_princomp_teste, type = 'raw')\n",
    "\n",
    "pred = ifelse(previsao[, 1] > 0.5, 'setosa', 0)\n",
    "pred = ifelse(previsao[, 2] > 0.5, 'versicolor', pred)\n",
    "pred = ifelse(previsao[, 3] > 0.5, 'virginica', pred)\n",
    "\n",
    "acuracia = 100 * sum(pred == teste[, 5])/length(teste[, 5])\n",
    "acuracia"
   ]
  },
  {
   "cell_type": "markdown",
   "id": "f17360de-a92f-4318-b2c0-3f5d032049a0",
   "metadata": {},
   "source": [
    "# LDA - Library MASS\n",
    "\n",
    "https://www.rdocumentation.org/packages/MASS/versions/7.3-54/topics/lda\n",
    "\n",
    "- **formula** - Uma fórmula da forma, uu seja, a resposta é o fator de agrupamento e o lado direito especifica os (não-fatores) discriminadores.groups ~ x1 + x2 + …\n",
    "- **data** - Um quadro de dados opcional, lista ou ambiente a partir do qual as variáveis especificadas são preferencialmente a serem tomadas.formula\n",
    "- **X** - (necessário se nenhuma fórmula for dada como argumento principal.) uma matriz ou quadro de dados ou Matriz contendo as variáveis explicativas.\n",
    "- **groupning** - (necessário se nenhum argumento principal de fórmula for dado.) um fator especificando a classe para cada observação.\n",
    "- **prior** - As probabilidades anteriores de adesão à classe. Se não for especificado, as proporções de classe para o conjunto de treinamento são usadas. Se presente, as probabilidades devem ser especificadas na ordem dos níveis de fator.\n",
    "- **tol** - Uma tolerância para decidir se uma matriz é singular; rejeitará variáveis e combinações lineares de variáveis unit-variância cuja variância é menor do que .tol^2\n",
    "- **subset** - Um vetor de índice especificando os casos a serem utilizados na amostra de treinamento. (NOTA: Se dado, este argumento deve ser nomeado.)\n",
    "- **na.action** - Uma função para especificar a ação a ser tomada se s forem encontrados. A ação padrão é que o procedimento falhe. Uma alternativa é, o que leva à rejeição de casos com valores perdidos em qualquer variável necessária. (NOTA: Se dado, este argumento deve ser nomeado.)NAna.omit\n",
    "- **method** - \"moment\" para os estimadores padrão da média e variância, para MLEs, para uso , ou para estimativas robustas com base em uma distribuição \\(t\\).\"mle\"\"mve\"cov.mve\"t\"\n",
    "- **CV** - Se for verdade, retorna resultados (classes e probabilidades posteriores) para validação cruzada de saída. Observe que se o anterior for estimado, as proporções em todo o conjunto de dados são utilizadas.\n",
    "- **nu** - graus de liberdade para.method = \"t\"\n",
    "\n",
    "Atributos\n",
    "\n",
    "Se o valor de retorno for uma lista com componentes, a classificação MAP (um fator) e, probabilidades posteriores para as classes.CV = TRUE, Caso contrário, é um objeto de classe contendo os seguintes componentes:\"lda\"\n",
    "\n",
    "- **prior** - As probabilidades anteriores utilizadas.\n",
    "- **means** - O grupo significa.\n",
    "- **scaling** - Uma matriz que transforma observações em funções discriminatórias, normalizada para que dentro dos grupos a matriz de covariância seja esférica.\n",
    "- **svd** - Os valores singulares, que dão a razão dos desvios padrão entre entre e dentro do grupo nas variáveis discriminantes lineares. Seus quadrados são as estatísticas canônicas.\n",
    "- **n** - O número de observações utilizadas.\n",
    "- **call** - A chamada de função (combinada)."
   ]
  },
  {
   "cell_type": "code",
   "execution_count": 21,
   "id": "59935ab5-e64e-479d-8827-13bbb7347c21",
   "metadata": {},
   "outputs": [
    {
     "data": {
      "text/html": [
       "<table>\n",
       "<thead><tr><th></th><th scope=col>LD1</th><th scope=col>LD2</th></tr></thead>\n",
       "<tbody>\n",
       "\t<tr><th scope=row>Sepal.Length</th><td> 0.7539430</td><td> 0.6324040</td></tr>\n",
       "\t<tr><th scope=row>Sepal.Width</th><td> 0.5844503</td><td> 0.6697283</td></tr>\n",
       "\t<tr><th scope=row>Petal.Length</th><td>-3.9875714</td><td>-2.3934774</td></tr>\n",
       "\t<tr><th scope=row>Petal.Width</th><td>-2.0246049</td><td> 2.2810641</td></tr>\n",
       "</tbody>\n",
       "</table>\n"
      ],
      "text/latex": [
       "\\begin{tabular}{r|ll}\n",
       "  & LD1 & LD2\\\\\n",
       "\\hline\n",
       "\tSepal.Length &  0.7539430 &  0.6324040\\\\\n",
       "\tSepal.Width &  0.5844503 &  0.6697283\\\\\n",
       "\tPetal.Length & -3.9875714 & -2.3934774\\\\\n",
       "\tPetal.Width & -2.0246049 &  2.2810641\\\\\n",
       "\\end{tabular}\n"
      ],
      "text/markdown": [
       "\n",
       "| <!--/--> | LD1 | LD2 |\n",
       "|---|---|---|\n",
       "| Sepal.Length |  0.7539430 |  0.6324040 |\n",
       "| Sepal.Width |  0.5844503 |  0.6697283 |\n",
       "| Petal.Length | -3.9875714 | -2.3934774 |\n",
       "| Petal.Width | -2.0246049 |  2.2810641 |\n",
       "\n"
      ],
      "text/plain": [
       "             LD1        LD2       \n",
       "Sepal.Length  0.7539430  0.6324040\n",
       "Sepal.Width   0.5844503  0.6697283\n",
       "Petal.Length -3.9875714 -2.3934774\n",
       "Petal.Width  -2.0246049  2.2810641"
      ]
     },
     "metadata": {},
     "output_type": "display_data"
    }
   ],
   "source": [
    "model_lda = lda(Species ~ ., data = treino)\n",
    "model_lda$scaling"
   ]
  },
  {
   "cell_type": "code",
   "execution_count": 22,
   "id": "7e80a800-f42f-409c-b8c3-71f76ad5836b",
   "metadata": {},
   "outputs": [
    {
     "data": {
      "text/html": [
       "97.2222222222222"
      ],
      "text/latex": [
       "97.2222222222222"
      ],
      "text/markdown": [
       "97.2222222222222"
      ],
      "text/plain": [
       "[1] 97.22222"
      ]
     },
     "metadata": {},
     "output_type": "display_data"
    }
   ],
   "source": [
    "previsao = predict(model_lda, newdata = teste)\n",
    "acuracia = 100 * sum(previsao$class == teste$Species)/length(teste$Species)\n",
    "acuracia"
   ]
  },
  {
   "cell_type": "markdown",
   "id": "ca7c25ee-11c8-467e-8fae-59a42f4c93ab",
   "metadata": {},
   "source": [
    "# T-SNE\n",
    "\n",
    "**A principal aplicação do t-SNE é para visualização de grande quantidade de dados, pois pode recuperar clusters bem separados**\n",
    "\n",
    "Parâmetros\n",
    "\n",
    "- **x** - matriz; Matriz de dados (cada linha é uma observação, cada coluna é uma variável)\n",
    "- **...** - Outros argumentos que podem ser passados para Rtsne\n",
    "- **dims** - Inteiro; Dimensionalidade de saída (padrão: 2)\n",
    "- **initial_dims** - Inteiro; o número de dimensões que devem ser mantidas na etapa inicial do PCA (padrão: 50)\n",
    "- **perplexity** - Numérico; Parâmetro de perplexidade (não deve ser maior que 3 * perplexidade < nrow(X) - 1, veja detalhes para interpretação)\n",
    "- **theta** - Numérico; Troca de velocidade/precisão (aumento para menor precisão), definida para 0.0 para TSNE exata (padrão: 0.5)\n",
    "- **check_duplicates** - Lógico; Verifica se as duplicatas estão presentes. É melhor garantir que não haja duplicatas presentes e definir essa opção para FALSE, especialmente para grandes conjuntos de dados (padrão: TRUE)\n",
    "- **Pca** - lógico; Se uma etapa inicial do PCA deve ser executada (padrão: TRUE)\n",
    "- **partial_pca** - lógico; Se o PCA truncado deve ser usado para calcular os componentes principais (requer o pacote irlba). Isso é mais rápido para grandes matrizes de entrada (padrão: FALSE)\n",
    "- **max_iter** - inteiro; Número de iterações (padrão: 1000)\n",
    "- **verbose** - lógico; Se as atualizações de progresso devem ser impressas (padrão: opção global \"verbose\" ou FALSE se isso não for definido)\n",
    "- **is_distance** - lógico; Indique se X é uma matriz de distância (experimental, padrão: FALSE)\n",
    "- **Y_init** - matriz; Localizações iniciais dos objetos. Se NULL, será utilizada a inicialização aleatória (padrão: NULL). Observe que, ao usar isso, o estágio inicial com valores exagerados de perplexidade e um prazo maior de impulso será ignorado.\n",
    "- **pca_center** - lógico; Os dados devem ser centrados antes da aplicação do PCA? (padrão: TRUE)\n",
    "- **pca_scale** - lógico; Os dados devem ser dimensionados antes da aplicação do PCA? (padrão: FALSO)\n",
    "- **normalize** - lógico; Os dados devem ser normalizados internamente antes dos cálculos de distância com ? (padrão: TRUE)\n",
    "- **stop_lying_iter** - inteiro; Iteração após a qual as perplexidades não são mais exageradas (padrão: 250, exceto quando Y_init é usado, então 0)\n",
    "- **mom_switch_iter** - inteiro; Iteração após a qual o momento final é usado (padrão: 250, exceto quando Y_init é usado, então 0)\n",
    "- **ímpeto** - numérico; Momentum usado na primeira parte da otimização (padrão: 0.5)\n",
    "- **final_momentum** - numérico; Momento usado na parte final da otimização (padrão: 0.8)\n",
    "- **eta** - numérico; Taxa de aprendizagem (padrão: 200,0)\n",
    "- **exaggeration_factor** - numérico; Fator de exagero usado para multiplicar a matriz P na primeira parte da otimização (padrão: 12.0)\n",
    "- **num_threads** - inteiro; Número de threads para usar usando OpenMP, padrão 1. 0 corresponde ao uso de todos os núcleos disponíveis\n",
    "- **index** - Matriz inteiro; Cada linha contém a identidade dos vizinhos mais próximos para cada observação\n",
    "- **distância** - Matriz numérica;  Cada row contém a distância para os vizinhos mais próximos em para cada observação index\n",
    "\n",
    "Atributos\n",
    "\n",
    "- **Y** - Matriz contendo as novas representações para os objetos\n",
    "- **n** - Número de objetos\n",
    "- **origD** - Dimensionalidade original antes do TSNE (somente quando é uma matriz de dados)X\n",
    "- **perplexity**\n",
    "- **theta**\n",
    "- **cust** - O custo para cada objeto após a iteração final\n",
    "- **itercos** - Os custos totais (KL-divergência) para todos os objetos em cada 50º + a última iteração\n",
    "- **stop_lying_iter** - Iteração após a qual as perplexidades não são mais exageradas\n",
    "- **mom_switch_iter** - Iteração após a qual o momento final é usado\n",
    "- **momentum** - Momento usado na primeira parte da otimização\n",
    "- **final_momentum** - Momento usado na parte final da otimização\n",
    "- **eta** - Taxa de aprendizagem\n",
    "- **exaggeration_factor** - Fator de exagero usado para multiplicar a matriz P na primeira parte da otimização"
   ]
  },
  {
   "cell_type": "code",
   "execution_count": 61,
   "id": "ff3ca98c-c9ba-4043-9c22-238910e2f3ee",
   "metadata": {},
   "outputs": [],
   "source": [
    "tsne_treino <- Rtsne(\n",
    "    treino[, -5],\n",
    "    pca = FALSE, \n",
    "    perplexity=(length(treino[, 5]) -1)/3,\n",
    "    theta=0.0\n",
    ")\n",
    "\n",
    "tsne_teste <- Rtsne(\n",
    "    teste[, -5],\n",
    "    pca = FALSE, \n",
    "    perplexity= (length(teste[, 5]) - 1)/3,\n",
    "    theta=0.0\n",
    ")"
   ]
  },
  {
   "cell_type": "code",
   "execution_count": 67,
   "id": "e8fc3db9-0413-4e43-b5f4-1c13a77693cf",
   "metadata": {},
   "outputs": [
    {
     "data": {
      "text/html": [
       "83.3333333333333"
      ],
      "text/latex": [
       "83.3333333333333"
      ],
      "text/markdown": [
       "83.3333333333333"
      ],
      "text/plain": [
       "[1] 83.33333"
      ]
     },
     "metadata": {},
     "output_type": "display_data"
    }
   ],
   "source": [
    "classificador <- naiveBayes(x = tsne_treino$Y, y = treino[, 5])\n",
    "\n",
    "previsao = predict(classificador, newdata = tsne_teste$Y, type = 'raw')\n",
    "\n",
    "acuracia = 100 * sum(pred == teste[, 5])/length(teste[, 5])\n",
    "acuracia"
   ]
  },
  {
   "cell_type": "code",
   "execution_count": 68,
   "id": "6feb0a1e-b214-4f49-a02e-d23d68b10685",
   "metadata": {},
   "outputs": [
    {
     "data": {
      "image/png": "[encoded data removed]",
      "text/plain": [
       "plot without title"
      ]
     },
     "metadata": {},
     "output_type": "display_data"
    }
   ],
   "source": [
    "plot(tsne$Y,col=unique(iris$Species), asp=1)"
   ]
  }
 ],
 "metadata": {
  "kernelspec": {
   "display_name": "R",
   "language": "R",
   "name": "ir"
  },
  "language_info": {
   "codemirror_mode": "r",
   "file_extension": ".r",
   "mimetype": "text/x-r-source",
   "name": "R",
   "pygments_lexer": "r",
   "version": "3.6.1"
  }
 },
 "nbformat": 4,
 "nbformat_minor": 5
}
