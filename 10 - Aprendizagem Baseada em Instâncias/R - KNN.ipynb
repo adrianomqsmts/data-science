{
 "cells": [
  {
   "cell_type": "markdown",
   "id": "8e11d4dd-faa5-4e18-87a2-32cf4df51cb9",
   "metadata": {},
   "source": [
    "# KNN\n",
    "\n",
    "[KNN IN r](https://rpubs.com/davimat/knn_no_r)"
   ]
  },
  {
   "cell_type": "markdown",
   "id": "82817b9b-196d-4f95-b507-f6f68ebd10eb",
   "metadata": {},
   "source": [
    "## Carregando Biblioteca"
   ]
  },
  {
   "cell_type": "code",
   "execution_count": 2,
   "id": "79191084-f8a6-48f2-9efa-cca2bf714ba7",
   "metadata": {},
   "outputs": [],
   "source": [
    "library(repr)\n",
    "library(caTools)\n",
    "options(repr.plot.width = 4, repr.plot.height = 4)\n",
    "library(class)\n",
    "#Preprocessamento\n",
    "library(CatEncoders)\n",
    "library(gplots)\n",
    "#Matricas\n",
    "library(caret)"
   ]
  },
  {
   "cell_type": "markdown",
   "id": "7a14f725-2ff0-433f-8b9b-b6e360d657f3",
   "metadata": {},
   "source": [
    "## Carregando os dados"
   ]
  },
  {
   "cell_type": "code",
   "execution_count": 3,
   "id": "73f280a4-c492-4e5b-826a-ff821b8102dd",
   "metadata": {},
   "outputs": [
    {
     "data": {
      "text/html": [
       "<table>\n",
       "<thead><tr><th scope=col>PassengerId</th><th scope=col>Survived</th><th scope=col>Pclass</th><th scope=col>Name</th><th scope=col>Sex</th><th scope=col>Age</th><th scope=col>SibSp</th><th scope=col>Parch</th><th scope=col>Ticket</th><th scope=col>Fare</th><th scope=col>Cabin</th><th scope=col>Embarked</th></tr></thead>\n",
       "<tbody>\n",
       "\t<tr><td>1                                                  </td><td>0                                                  </td><td>3                                                  </td><td>Braund, Mr. Owen Harris                            </td><td>male                                               </td><td>22                                                 </td><td>1                                                  </td><td>0                                                  </td><td>A/5 21171                                          </td><td> 7.2500                                            </td><td>NA                                                 </td><td>S                                                  </td></tr>\n",
       "\t<tr><td>2                                                  </td><td>1                                                  </td><td>1                                                  </td><td>Cumings, Mrs. John Bradley (Florence Briggs Thayer)</td><td>female                                             </td><td>38                                                 </td><td>1                                                  </td><td>0                                                  </td><td>PC 17599                                           </td><td>71.2833                                            </td><td>C85                                                </td><td>C                                                  </td></tr>\n",
       "\t<tr><td>3                                                  </td><td>1                                                  </td><td>3                                                  </td><td>Heikkinen, Miss. Laina                             </td><td>female                                             </td><td>26                                                 </td><td>0                                                  </td><td>0                                                  </td><td>STON/O2. 3101282                                   </td><td> 7.9250                                            </td><td>NA                                                 </td><td>S                                                  </td></tr>\n",
       "\t<tr><td>4                                                  </td><td>1                                                  </td><td>1                                                  </td><td>Futrelle, Mrs. Jacques Heath (Lily May Peel)       </td><td>female                                             </td><td>35                                                 </td><td>1                                                  </td><td>0                                                  </td><td>113803                                             </td><td>53.1000                                            </td><td>C123                                               </td><td>S                                                  </td></tr>\n",
       "\t<tr><td>5                                                  </td><td>0                                                  </td><td>3                                                  </td><td>Allen, Mr. William Henry                           </td><td>male                                               </td><td>35                                                 </td><td>0                                                  </td><td>0                                                  </td><td>373450                                             </td><td> 8.0500                                            </td><td>NA                                                 </td><td>S                                                  </td></tr>\n",
       "\t<tr><td>6                                                  </td><td>0                                                  </td><td>3                                                  </td><td>Moran, Mr. James                                   </td><td>male                                               </td><td>NA                                                 </td><td>0                                                  </td><td>0                                                  </td><td>330877                                             </td><td> 8.4583                                            </td><td>NA                                                 </td><td>Q                                                  </td></tr>\n",
       "</tbody>\n",
       "</table>\n"
      ],
      "text/latex": [
       "\\begin{tabular}{r|llllllllllll}\n",
       " PassengerId & Survived & Pclass & Name & Sex & Age & SibSp & Parch & Ticket & Fare & Cabin & Embarked\\\\\n",
       "\\hline\n",
       "\t 1                                                   & 0                                                   & 3                                                   & Braund, Mr. Owen Harris                             & male                                                & 22                                                  & 1                                                   & 0                                                   & A/5 21171                                           &  7.2500                                             & NA                                                  & S                                                  \\\\\n",
       "\t 2                                                   & 1                                                   & 1                                                   & Cumings, Mrs. John Bradley (Florence Briggs Thayer) & female                                              & 38                                                  & 1                                                   & 0                                                   & PC 17599                                            & 71.2833                                             & C85                                                 & C                                                  \\\\\n",
       "\t 3                                                   & 1                                                   & 3                                                   & Heikkinen, Miss. Laina                              & female                                              & 26                                                  & 0                                                   & 0                                                   & STON/O2. 3101282                                    &  7.9250                                             & NA                                                  & S                                                  \\\\\n",
       "\t 4                                                   & 1                                                   & 1                                                   & Futrelle, Mrs. Jacques Heath (Lily May Peel)        & female                                              & 35                                                  & 1                                                   & 0                                                   & 113803                                              & 53.1000                                             & C123                                                & S                                                  \\\\\n",
       "\t 5                                                   & 0                                                   & 3                                                   & Allen, Mr. William Henry                            & male                                                & 35                                                  & 0                                                   & 0                                                   & 373450                                              &  8.0500                                             & NA                                                  & S                                                  \\\\\n",
       "\t 6                                                   & 0                                                   & 3                                                   & Moran, Mr. James                                    & male                                                & NA                                                  & 0                                                   & 0                                                   & 330877                                              &  8.4583                                             & NA                                                  & Q                                                  \\\\\n",
       "\\end{tabular}\n"
      ],
      "text/markdown": [
       "\n",
       "| PassengerId | Survived | Pclass | Name | Sex | Age | SibSp | Parch | Ticket | Fare | Cabin | Embarked |\n",
       "|---|---|---|---|---|---|---|---|---|---|---|---|\n",
       "| 1                                                   | 0                                                   | 3                                                   | Braund, Mr. Owen Harris                             | male                                                | 22                                                  | 1                                                   | 0                                                   | A/5 21171                                           |  7.2500                                             | NA                                                  | S                                                   |\n",
       "| 2                                                   | 1                                                   | 1                                                   | Cumings, Mrs. John Bradley (Florence Briggs Thayer) | female                                              | 38                                                  | 1                                                   | 0                                                   | PC 17599                                            | 71.2833                                             | C85                                                 | C                                                   |\n",
       "| 3                                                   | 1                                                   | 3                                                   | Heikkinen, Miss. Laina                              | female                                              | 26                                                  | 0                                                   | 0                                                   | STON/O2. 3101282                                    |  7.9250                                             | NA                                                  | S                                                   |\n",
       "| 4                                                   | 1                                                   | 1                                                   | Futrelle, Mrs. Jacques Heath (Lily May Peel)        | female                                              | 35                                                  | 1                                                   | 0                                                   | 113803                                              | 53.1000                                             | C123                                                | S                                                   |\n",
       "| 5                                                   | 0                                                   | 3                                                   | Allen, Mr. William Henry                            | male                                                | 35                                                  | 0                                                   | 0                                                   | 373450                                              |  8.0500                                             | NA                                                  | S                                                   |\n",
       "| 6                                                   | 0                                                   | 3                                                   | Moran, Mr. James                                    | male                                                | NA                                                  | 0                                                   | 0                                                   | 330877                                              |  8.4583                                             | NA                                                  | Q                                                   |\n",
       "\n"
      ],
      "text/plain": [
       "  PassengerId Survived Pclass\n",
       "1 1           0        3     \n",
       "2 2           1        1     \n",
       "3 3           1        3     \n",
       "4 4           1        1     \n",
       "5 5           0        3     \n",
       "6 6           0        3     \n",
       "  Name                                                Sex    Age SibSp Parch\n",
       "1 Braund, Mr. Owen Harris                             male   22  1     0    \n",
       "2 Cumings, Mrs. John Bradley (Florence Briggs Thayer) female 38  1     0    \n",
       "3 Heikkinen, Miss. Laina                              female 26  0     0    \n",
       "4 Futrelle, Mrs. Jacques Heath (Lily May Peel)        female 35  1     0    \n",
       "5 Allen, Mr. William Henry                            male   35  0     0    \n",
       "6 Moran, Mr. James                                    male   NA  0     0    \n",
       "  Ticket           Fare    Cabin Embarked\n",
       "1 A/5 21171         7.2500 NA    S       \n",
       "2 PC 17599         71.2833 C85   C       \n",
       "3 STON/O2. 3101282  7.9250 NA    S       \n",
       "4 113803           53.1000 C123  S       \n",
       "5 373450            8.0500 NA    S       \n",
       "6 330877            8.4583 NA    Q       "
      ]
     },
     "metadata": {},
     "output_type": "display_data"
    }
   ],
   "source": [
    "df <- read.csv(\"../datasets/titanic/train.csv\", na.strings = '')\n",
    "head(df)"
   ]
  },
  {
   "cell_type": "markdown",
   "id": "cd94f2b5-8b5f-4f16-9c36-91b979af4000",
   "metadata": {},
   "source": [
    "## Pré-Processamento de Dados"
   ]
  },
  {
   "cell_type": "code",
   "execution_count": 4,
   "id": "19fc876d-4408-42ac-b599-0ea7ef504018",
   "metadata": {},
   "outputs": [
    {
     "data": {
      "text/html": [
       "<table>\n",
       "<thead><tr><th scope=col>Survived</th><th scope=col>Pclass</th><th scope=col>Name</th><th scope=col>Sex</th><th scope=col>Age</th><th scope=col>SibSp</th><th scope=col>Parch</th><th scope=col>Fare</th><th scope=col>Embarked</th></tr></thead>\n",
       "<tbody>\n",
       "\t<tr><td>0         </td><td>3         </td><td>4         </td><td>2         </td><td>-0.5921480</td><td>1         </td><td>0         </td><td>-0.5021631</td><td>3         </td></tr>\n",
       "\t<tr><td>1         </td><td>1         </td><td>5         </td><td>1         </td><td> 0.6384304</td><td>1         </td><td>0         </td><td> 0.7864036</td><td>1         </td></tr>\n",
       "\t<tr><td>1         </td><td>3         </td><td>3         </td><td>1         </td><td>-0.2845034</td><td>0         </td><td>0         </td><td>-0.4885799</td><td>3         </td></tr>\n",
       "\t<tr><td>1         </td><td>1         </td><td>5         </td><td>1         </td><td> 0.4076970</td><td>1         </td><td>0         </td><td> 0.4204941</td><td>3         </td></tr>\n",
       "\t<tr><td>0         </td><td>3         </td><td>4         </td><td>2         </td><td> 0.4076970</td><td>0         </td><td>0         </td><td>-0.4860644</td><td>3         </td></tr>\n",
       "\t<tr><td>0         </td><td>3         </td><td>4         </td><td>2         </td><td> 0.0000000</td><td>0         </td><td>0         </td><td>-0.4778481</td><td>2         </td></tr>\n",
       "</tbody>\n",
       "</table>\n"
      ],
      "text/latex": [
       "\\begin{tabular}{r|lllllllll}\n",
       " Survived & Pclass & Name & Sex & Age & SibSp & Parch & Fare & Embarked\\\\\n",
       "\\hline\n",
       "\t 0          & 3          & 4          & 2          & -0.5921480 & 1          & 0          & -0.5021631 & 3         \\\\\n",
       "\t 1          & 1          & 5          & 1          &  0.6384304 & 1          & 0          &  0.7864036 & 1         \\\\\n",
       "\t 1          & 3          & 3          & 1          & -0.2845034 & 0          & 0          & -0.4885799 & 3         \\\\\n",
       "\t 1          & 1          & 5          & 1          &  0.4076970 & 1          & 0          &  0.4204941 & 3         \\\\\n",
       "\t 0          & 3          & 4          & 2          &  0.4076970 & 0          & 0          & -0.4860644 & 3         \\\\\n",
       "\t 0          & 3          & 4          & 2          &  0.0000000 & 0          & 0          & -0.4778481 & 2         \\\\\n",
       "\\end{tabular}\n"
      ],
      "text/markdown": [
       "\n",
       "| Survived | Pclass | Name | Sex | Age | SibSp | Parch | Fare | Embarked |\n",
       "|---|---|---|---|---|---|---|---|---|\n",
       "| 0          | 3          | 4          | 2          | -0.5921480 | 1          | 0          | -0.5021631 | 3          |\n",
       "| 1          | 1          | 5          | 1          |  0.6384304 | 1          | 0          |  0.7864036 | 1          |\n",
       "| 1          | 3          | 3          | 1          | -0.2845034 | 0          | 0          | -0.4885799 | 3          |\n",
       "| 1          | 1          | 5          | 1          |  0.4076970 | 1          | 0          |  0.4204941 | 3          |\n",
       "| 0          | 3          | 4          | 2          |  0.4076970 | 0          | 0          | -0.4860644 | 3          |\n",
       "| 0          | 3          | 4          | 2          |  0.0000000 | 0          | 0          | -0.4778481 | 2          |\n",
       "\n"
      ],
      "text/plain": [
       "  Survived Pclass Name Sex Age        SibSp Parch Fare       Embarked\n",
       "1 0        3      4    2   -0.5921480 1     0     -0.5021631 3       \n",
       "2 1        1      5    1    0.6384304 1     0      0.7864036 1       \n",
       "3 1        3      3    1   -0.2845034 0     0     -0.4885799 3       \n",
       "4 1        1      5    1    0.4076970 1     0      0.4204941 3       \n",
       "5 0        3      4    2    0.4076970 0     0     -0.4860644 3       \n",
       "6 0        3      4    2    0.0000000 0     0     -0.4778481 2       "
      ]
     },
     "metadata": {},
     "output_type": "display_data"
    },
    {
     "name": "stdout",
     "output_type": "stream",
     "text": [
      "'data.frame':\t891 obs. of  9 variables:\n",
      " $ Survived: int  0 1 1 1 0 0 0 0 1 1 ...\n",
      " $ Pclass  : Factor w/ 3 levels \"1\",\"2\",\"3\": 3 1 3 1 3 3 1 3 3 2 ...\n",
      " $ Name    : Factor w/ 7 levels \"1\",\"2\",\"3\",\"4\",..: 4 5 3 5 4 4 4 2 5 5 ...\n",
      " $ Sex     : Factor w/ 2 levels \"1\",\"2\": 2 1 1 1 2 2 2 2 1 1 ...\n",
      " $ Age     : num  -0.592 0.638 -0.285 0.408 0.408 ...\n",
      " $ SibSp   : int  1 1 0 1 0 0 0 3 0 1 ...\n",
      " $ Parch   : int  0 0 0 0 0 0 0 1 2 0 ...\n",
      " $ Fare    : num  -0.502 0.786 -0.489 0.42 -0.486 ...\n",
      " $ Embarked: Factor w/ 3 levels \"1\",\"2\",\"3\": 3 1 3 3 3 2 3 3 3 1 ...\n"
     ]
    }
   ],
   "source": [
    "# Extração de Pronomes\n",
    "df$Name <- ifelse(grepl(\", Mr. \", df$Name), 'Mr', as.character(df$Name))\n",
    "df$Name <- ifelse(grepl(\"Capt\", df$Name), 'Tripulacao', as.character(df$Name))\n",
    "df$Name <- ifelse(grepl(\"Don\", df$Name), 'Mr', as.character(df$Name))\n",
    "df$Name <- ifelse(grepl(\"Major\", df$Name), 'Tripulacao', as.character(df$Name))\n",
    "df$Name <- ifelse(grepl(\"Col\", df$Name), 'Tripulacao', as.character(df$Name))\n",
    "df$Name <- ifelse(grepl(\"Dr\", df$Name), 'Dr', as.character(df$Name))\n",
    "df$Name <- ifelse(grepl(\"Rev\", df$Name), 'Rev', as.character(df$Name))\n",
    "df$Name <- ifelse(grepl(\"Sir\", df$Name), 'Mr', as.character(df$Name))\n",
    "df$Name <- ifelse(grepl(\"Jonkheer\", df$Name), 'Mr', as.character(df$Name))\n",
    "df$Name <- ifelse(grepl(\"Dona\", df$Name), 'Mrs', as.character(df$Name))\n",
    "df$Name <- ifelse(grepl(\"Countess\", df$Name), 'Mrs', as.character(df$Name))\n",
    "df$Name <- ifelse(grepl(\"Mme\", df$Name), 'Mrs', as.character(df$Name))\n",
    "df$Name <- ifelse(grepl(\"Lady\", df$Name), 'Mrs', as.character(df$Name))\n",
    "df$Name <- ifelse(grepl(\"Mrs\", df$Name), 'Mrs', as.character(df$Name))\n",
    "df$Name <- ifelse(grepl(\"Mlle\", df$Name), 'Miss', as.character(df$Name))\n",
    "df$Name <- ifelse(grepl(\"Ms\", df$Name), 'Miss', as.character(df$Name))\n",
    "df$Name <- ifelse(grepl(\"Miss\", df$Name), 'Miss', as.character(df$Name))\n",
    "df$Name <- ifelse(grepl(\"Master\", df$Name), 'Master', as.character(df$Name))\n",
    "\n",
    "# Categóricas para Numéricas\n",
    "le_name <- LabelEncoder.fit(unique(df$Name))\n",
    "df$Name <- transform(le_name, df$Name)\n",
    "\n",
    "# Substituir valores ausentes/nulos\n",
    "media <- mean(df$Age, na.rm = TRUE)\n",
    "df$Age <- ifelse(is.na(df$Age), media, df$Age)\n",
    "\n",
    "t <- table(df$Embarked)\n",
    "moda <- names(t[t == max(t)])\n",
    "\n",
    "df$Embarked <- ifelse(is.na(df$Embarked), as.character(moda), as.character(df$Embarked) )\n",
    "\n",
    "# Categórico Para numérico\n",
    "le_sex <- LabelEncoder.fit(unique(df$Sex))\n",
    "df$Sex <- transform(le_sex, df$Sex)\n",
    "\n",
    "le_embarked <- LabelEncoder.fit(unique(df$Embarked))\n",
    "df$Embarked <- transform(le_embarked, df$Embarked)\n",
    "\n",
    "# Remoção de colunas\n",
    "df$PassengerId <- NULL\n",
    "df$Ticket <- NULL\n",
    "df$Cabin <- NULL\n",
    "\n",
    "#Escalonamento \n",
    "df[, c('Age', 'Fare')] <- scale(df[, c('Age', 'Fare')])\n",
    "\n",
    "df$Name = factor(df$Name)\n",
    "df$Pclass = factor(df$Pclass)\n",
    "df$Sex = factor(df$Sex)\n",
    "df$Embarked = factor(df$Embarked)\n",
    "\n",
    "head(df)\n",
    "str(df)"
   ]
  },
  {
   "cell_type": "markdown",
   "id": "8f677ed7-74c8-4c85-9b37-e11a6db80be3",
   "metadata": {},
   "source": [
    "# Divisão dos dados em treino e teste"
   ]
  },
  {
   "cell_type": "code",
   "execution_count": 5,
   "id": "8a80b5b2-e8f0-489d-8036-c1168d95000e",
   "metadata": {},
   "outputs": [],
   "source": [
    "set.seed(0)\n",
    "divisao <- sample.split(df$Survived, SplitRatio = 0.75)\n",
    "\n",
    "treino <- subset(df, divisao == TRUE)\n",
    "teste <-  subset(df, divisao == FALSE)\n",
    "\n",
    "x_train <- treino[,-1]\n",
    "y_train <- treino$Survived\n",
    "\n",
    "x_test <- teste[,-1]\n",
    "y_test <- teste$Survived"
   ]
  },
  {
   "cell_type": "markdown",
   "id": "b110cd56-120e-44e6-8490-d4133a4e07be",
   "metadata": {},
   "source": [
    "## KNN\n",
    "\n",
    "Argumentos\n",
    "\n",
    "- **train** - Matriz ou quadro de dados de casos de conjunto de treinamento.\n",
    "- **test** - Matriz ou quadro de dados de casos de conjunto de teste. Um vetor será interpretado como um vetor linha para um único caso.\n",
    "- **cl** - Fator de classificações verdadeiras do conjunto de treinamento\n",
    "- **k** - número de vizinhos considerados.\n",
    "- **I** - Voto mínimo para decisão definitiva, caso contrário, dúvida. (Mais precisamente, menos de k-l votos divergentes são permitidos, mesmo se k for aumentado por empates.)\n",
    "- ***prob** - Se isso for verdade, a proporção dos votos da classe vencedora é retornada como atributo prob.\n",
    "- **use.all**  - Controla o manuseio de laços. Se verdadeiro, todas as distâncias iguais ao k-ésimo maior serão incluídas. Se falso, uma seleção aleatória de distâncias iguais ao k-ésimo é escolhida para usar exatamente k vizinhos. "
   ]
  },
  {
   "cell_type": "code",
   "execution_count": 6,
   "id": "e8865cfd-2ea9-43e0-bc43-f0d9b0c70cf3",
   "metadata": {},
   "outputs": [
    {
     "data": {
      "text/html": [
       "72.6457399103139"
      ],
      "text/latex": [
       "72.6457399103139"
      ],
      "text/markdown": [
       "72.6457399103139"
      ],
      "text/plain": [
       "[1] 72.64574"
      ]
     },
     "metadata": {},
     "output_type": "display_data"
    }
   ],
   "source": [
    "previsoes <- knn(train = x_train, test = x_test, cl = y_train, k = 1)\n",
    "\n",
    "acuracia = 100 * sum(previsoes == y_test)/length(y_test)\n",
    "\n",
    "acuracia"
   ]
  },
  {
   "cell_type": "markdown",
   "id": "fefefe96-b26f-4974-938c-1e50b2587c4a",
   "metadata": {},
   "source": [
    "# Matriz de Confusão\n",
    "\n",
    "- A função **table** realiza o agrupamento dos dados\n",
    "- A função **confusionMatriz** da biblioteca **caret** também calcula a matriz de confusão + as métricas"
   ]
  },
  {
   "cell_type": "code",
   "execution_count": 7,
   "id": "2080d991-cedc-472c-96ff-f7e4eed495d5",
   "metadata": {},
   "outputs": [
    {
     "data": {
      "text/plain": [
       "      previsoes\n",
       "y_test   0   1\n",
       "     0 107  30\n",
       "     1  31  55"
      ]
     },
     "metadata": {},
     "output_type": "display_data"
    }
   ],
   "source": [
    "matriz_confusao = table(y_test, previsoes)\n",
    "matriz_confusao"
   ]
  },
  {
   "cell_type": "code",
   "execution_count": 8,
   "id": "63d176ff-453d-4c39-a85f-76f0751c0c84",
   "metadata": {},
   "outputs": [
    {
     "data": {
      "text/plain": [
       "Confusion Matrix and Statistics\n",
       "\n",
       "          Reference\n",
       "Prediction   0   1\n",
       "         0 107  31\n",
       "         1  30  55\n",
       "                                          \n",
       "               Accuracy : 0.7265          \n",
       "                 95% CI : (0.6629, 0.7838)\n",
       "    No Information Rate : 0.6143          \n",
       "    P-Value [Acc > NIR] : 0.000288        \n",
       "                                          \n",
       "                  Kappa : 0.4215          \n",
       "                                          \n",
       " Mcnemar's Test P-Value : 1.000000        \n",
       "                                          \n",
       "            Sensitivity : 0.7810          \n",
       "            Specificity : 0.6395          \n",
       "         Pos Pred Value : 0.7754          \n",
       "         Neg Pred Value : 0.6471          \n",
       "             Prevalence : 0.6143          \n",
       "         Detection Rate : 0.4798          \n",
       "   Detection Prevalence : 0.6188          \n",
       "      Balanced Accuracy : 0.7103          \n",
       "                                          \n",
       "       'Positive' Class : 0               \n",
       "                                          "
      ]
     },
     "metadata": {},
     "output_type": "display_data"
    }
   ],
   "source": [
    "matriz = confusionMatrix(factor(previsoes), factor(y_test))\n",
    "matriz"
   ]
  },
  {
   "cell_type": "markdown",
   "id": "9f66006d-24bf-420d-8356-27e3122a20e7",
   "metadata": {},
   "source": [
    "## Personalizando a Matriz de Confusão"
   ]
  },
  {
   "cell_type": "code",
   "execution_count": 9,
   "id": "3c229fda-591e-47ee-8b6c-a881f9918d35",
   "metadata": {},
   "outputs": [
    {
     "data": {
      "image/png": "[encoded data removed]",
      "text/plain": [
       "Plot with title \"Color Key\""
      ]
     },
     "metadata": {},
     "output_type": "display_data"
    }
   ],
   "source": [
    "my_palette <- colorRampPalette(c(\"red\", \"yellow\", \"green\"))\n",
    "\n",
    "col_breaks = c(0:50, 51:100, 101:300)\n",
    "\n",
    "heatmap.2(matriz_confusao,\n",
    "    Rowv = 'NA',\n",
    "    cellnote = matriz_confusao, \n",
    "    main = \"Matriz de Confusão\",\n",
    "    notecol=\"black\",      \n",
    "    density.info=\"none\",  \n",
    "    trace=\"none\",        \n",
    "    col=my_palette,       \n",
    "    breaks=col_breaks,   \n",
    "    dendrogram= 'none',     \n",
    "    Colv=\"NA\" \n",
    ")"
   ]
  },
  {
   "cell_type": "markdown",
   "id": "56f4cc86-031a-4570-9ad6-f66b3c1050b0",
   "metadata": {},
   "source": [
    "# Métricas\n",
    "\n",
    "- **Precisão** que é a fração de instâncias recuperadas que são relevantes, \n",
    "- **Recall** - que é a fração de instâncias relevantes que são recuperadas \n",
    "- **f-score** - é 2 * precisão * recall / (precisão + recall) é "
   ]
  },
  {
   "cell_type": "code",
   "execution_count": 10,
   "id": "c1f4d29d-a678-4a76-90e7-39cb151143c5",
   "metadata": {},
   "outputs": [
    {
     "data": {
      "text/html": [
       "0.77536231884058"
      ],
      "text/latex": [
       "0.77536231884058"
      ],
      "text/markdown": [
       "0.77536231884058"
      ],
      "text/plain": [
       "[1] 0.7753623"
      ]
     },
     "metadata": {},
     "output_type": "display_data"
    },
    {
     "data": {
      "text/html": [
       "'Morto'"
      ],
      "text/latex": [
       "'Morto'"
      ],
      "text/markdown": [
       "'Morto'"
      ],
      "text/plain": [
       "[1] \"Morto\""
      ]
     },
     "metadata": {},
     "output_type": "display_data"
    },
    {
     "data": {
      "text/html": [
       "0.647058823529412"
      ],
      "text/latex": [
       "0.647058823529412"
      ],
      "text/markdown": [
       "0.647058823529412"
      ],
      "text/plain": [
       "[1] 0.6470588"
      ]
     },
     "metadata": {},
     "output_type": "display_data"
    },
    {
     "data": {
      "text/html": [
       "'Vivo'"
      ],
      "text/latex": [
       "'Vivo'"
      ],
      "text/markdown": [
       "'Vivo'"
      ],
      "text/plain": [
       "[1] \"Vivo\""
      ]
     },
     "metadata": {},
     "output_type": "display_data"
    },
    {
     "data": {
      "text/html": [
       "0.77536231884058"
      ],
      "text/latex": [
       "0.77536231884058"
      ],
      "text/markdown": [
       "0.77536231884058"
      ],
      "text/plain": [
       "[1] 0.7753623"
      ]
     },
     "metadata": {},
     "output_type": "display_data"
    }
   ],
   "source": [
    "precision(factor(previsoes), factor(y_test))\n",
    "'Morto'\n",
    "precision(factor(previsoes), factor(y_test), relevant = 2)\n",
    "'Vivo'\n",
    "precision(factor(previsoes), factor(y_test), relevant = 1)"
   ]
  },
  {
   "cell_type": "code",
   "execution_count": 11,
   "id": "38219021-a6a6-410e-86a3-589bc6d6f574",
   "metadata": {},
   "outputs": [
    {
     "data": {
      "text/html": [
       "0.781021897810219"
      ],
      "text/latex": [
       "0.781021897810219"
      ],
      "text/markdown": [
       "0.781021897810219"
      ],
      "text/plain": [
       "[1] 0.7810219"
      ]
     },
     "metadata": {},
     "output_type": "display_data"
    },
    {
     "data": {
      "text/html": [
       "'Morto'"
      ],
      "text/latex": [
       "'Morto'"
      ],
      "text/markdown": [
       "'Morto'"
      ],
      "text/plain": [
       "[1] \"Morto\""
      ]
     },
     "metadata": {},
     "output_type": "display_data"
    },
    {
     "data": {
      "text/html": [
       "0.63953488372093"
      ],
      "text/latex": [
       "0.63953488372093"
      ],
      "text/markdown": [
       "0.63953488372093"
      ],
      "text/plain": [
       "[1] 0.6395349"
      ]
     },
     "metadata": {},
     "output_type": "display_data"
    },
    {
     "data": {
      "text/html": [
       "'Vivo'"
      ],
      "text/latex": [
       "'Vivo'"
      ],
      "text/markdown": [
       "'Vivo'"
      ],
      "text/plain": [
       "[1] \"Vivo\""
      ]
     },
     "metadata": {},
     "output_type": "display_data"
    },
    {
     "data": {
      "text/html": [
       "0.781021897810219"
      ],
      "text/latex": [
       "0.781021897810219"
      ],
      "text/markdown": [
       "0.781021897810219"
      ],
      "text/plain": [
       "[1] 0.7810219"
      ]
     },
     "metadata": {},
     "output_type": "display_data"
    }
   ],
   "source": [
    "recall(factor(previsoes), factor(y_test))\n",
    "'Morto'\n",
    "recall(factor(previsoes), factor(y_test), relevant = 2)\n",
    "'Vivo'\n",
    "recall(factor(previsoes), factor(y_test), relevant = 1)"
   ]
  },
  {
   "cell_type": "code",
   "execution_count": 12,
   "id": "1c2f0412-dcf4-4f64-9939-28c56eb6eb93",
   "metadata": {},
   "outputs": [
    {
     "data": {
      "text/html": [
       "0.778181818181818"
      ],
      "text/latex": [
       "0.778181818181818"
      ],
      "text/markdown": [
       "0.778181818181818"
      ],
      "text/plain": [
       "[1] 0.7781818"
      ]
     },
     "metadata": {},
     "output_type": "display_data"
    },
    {
     "data": {
      "text/html": [
       "'Morto'"
      ],
      "text/latex": [
       "'Morto'"
      ],
      "text/markdown": [
       "'Morto'"
      ],
      "text/plain": [
       "[1] \"Morto\""
      ]
     },
     "metadata": {},
     "output_type": "display_data"
    },
    {
     "data": {
      "text/html": [
       "0.64327485380117"
      ],
      "text/latex": [
       "0.64327485380117"
      ],
      "text/markdown": [
       "0.64327485380117"
      ],
      "text/plain": [
       "[1] 0.6432749"
      ]
     },
     "metadata": {},
     "output_type": "display_data"
    },
    {
     "data": {
      "text/html": [
       "'Vivo'"
      ],
      "text/latex": [
       "'Vivo'"
      ],
      "text/markdown": [
       "'Vivo'"
      ],
      "text/plain": [
       "[1] \"Vivo\""
      ]
     },
     "metadata": {},
     "output_type": "display_data"
    },
    {
     "data": {
      "text/html": [
       "0.778181818181818"
      ],
      "text/latex": [
       "0.778181818181818"
      ],
      "text/markdown": [
       "0.778181818181818"
      ],
      "text/plain": [
       "[1] 0.7781818"
      ]
     },
     "metadata": {},
     "output_type": "display_data"
    }
   ],
   "source": [
    "F_meas(factor(previsoes), factor(y_test))\n",
    "'Morto'\n",
    "F_meas(factor(previsoes), factor(y_test), relevant = 2)\n",
    "'Vivo'\n",
    "F_meas(factor(previsoes), factor(y_test), relevant = 1)"
   ]
  },
  {
   "cell_type": "markdown",
   "id": "d3b06bce-283b-4570-b057-77f39ace5ca0",
   "metadata": {},
   "source": [
    "# Melhor K\n",
    "\n",
    "- No lugar de ficar “chutando” valores,pode-se automatizar o processo com um loop. Uma forma de fazer isso é a seguinte:\n",
    "- Perceba que o loop acima cria a variável perc.erro que armazena os erros de previsão para valores de k de 1 até 20.\n",
    "- Quando colocado num gráfico k x perc.erro fica melhor a visualização:\n",
    "- Depois de olhar o erro global ainda seria interessante analisar a matriz de confusão"
   ]
  },
  {
   "cell_type": "code",
   "execution_count": 13,
   "id": "c8e9c119-f438-4ebb-a07f-980717e97a10",
   "metadata": {},
   "outputs": [
    {
     "data": {
      "image/png": "[encoded data removed]",
      "text/plain": [
       "plot without title"
      ]
     },
     "metadata": {},
     "output_type": "display_data"
    }
   ],
   "source": [
    "previsoes = NULL\n",
    "perc.erro = NULL\n",
    "\n",
    "for(i in 1:20){\n",
    "    set.seed(1)\n",
    "    previsoes <- knn(train = x_train, test = x_test, cl= y_train, k=i)\n",
    "    perc.erro[i] <- mean(y_test != previsoes)\n",
    "}\n",
    "\n",
    "plot(perc.erro, type = 'l', xlab = 'K-value', ylab = 'Error Mean')"
   ]
  },
  {
   "cell_type": "code",
   "execution_count": 14,
   "id": "c97ea5fd-25eb-412f-a1ec-3905b8f5fb21",
   "metadata": {},
   "outputs": [
    {
     "data": {
      "text/html": [
       "81.1659192825112"
      ],
      "text/latex": [
       "81.1659192825112"
      ],
      "text/markdown": [
       "81.1659192825112"
      ],
      "text/plain": [
       "[1] 81.16592"
      ]
     },
     "metadata": {},
     "output_type": "display_data"
    }
   ],
   "source": [
    "previsoes <- knn(train = x_train, test = x_test, cl= y_train, k=9)\n",
    "acuracia = 100 * sum(previsoes == y_test)/length(y_test)\n",
    "acuracia"
   ]
  },
  {
   "cell_type": "code",
   "execution_count": 15,
   "id": "d9ea331b-69f9-4c07-ac58-0d6dd31d4303",
   "metadata": {},
   "outputs": [
    {
     "data": {
      "text/plain": [
       "      previsoes\n",
       "y_test   0   1\n",
       "     0 119  18\n",
       "     1  24  62"
      ]
     },
     "metadata": {},
     "output_type": "display_data"
    }
   ],
   "source": [
    "matriz_confusao = table(y_test, previsoes)\n",
    "matriz_confusao"
   ]
  },
  {
   "cell_type": "markdown",
   "id": "26f74490-7111-4594-b4ea-245dfa815b6c",
   "metadata": {},
   "source": [
    "# Validação Cruzada\n",
    "\n",
    "- **method = cv** - indica que iremos usar o método crossvalidation\n",
    "- **number = 10** - define o número de fold\n",
    "- **method = xgbTree** - indica que iremos usar o algorítmo de de Boost"
   ]
  },
  {
   "cell_type": "code",
   "execution_count": 23,
   "id": "e41fe01e-5f36-44b3-aa5d-650db3984ed0",
   "metadata": {},
   "outputs": [
    {
     "data": {
      "text/html": [
       "<table>\n",
       "<thead><tr><th scope=col>k</th><th scope=col>Accuracy</th><th scope=col>Kappa</th><th scope=col>AccuracySD</th><th scope=col>KappaSD</th></tr></thead>\n",
       "<tbody>\n",
       "\t<tr><td>5         </td><td>0.8147566 </td><td>0.6041950 </td><td>0.04643530</td><td>0.1018217 </td></tr>\n",
       "\t<tr><td>7         </td><td>0.8125218 </td><td>0.5984588 </td><td>0.04985463</td><td>0.1064061 </td></tr>\n",
       "\t<tr><td>9         </td><td>0.8147566 </td><td>0.5995737 </td><td>0.05319354</td><td>0.1143758 </td></tr>\n",
       "</tbody>\n",
       "</table>\n"
      ],
      "text/latex": [
       "\\begin{tabular}{r|lllll}\n",
       " k & Accuracy & Kappa & AccuracySD & KappaSD\\\\\n",
       "\\hline\n",
       "\t 5          & 0.8147566  & 0.6041950  & 0.04643530 & 0.1018217 \\\\\n",
       "\t 7          & 0.8125218  & 0.5984588  & 0.04985463 & 0.1064061 \\\\\n",
       "\t 9          & 0.8147566  & 0.5995737  & 0.05319354 & 0.1143758 \\\\\n",
       "\\end{tabular}\n"
      ],
      "text/markdown": [
       "\n",
       "| k | Accuracy | Kappa | AccuracySD | KappaSD |\n",
       "|---|---|---|---|---|\n",
       "| 5          | 0.8147566  | 0.6041950  | 0.04643530 | 0.1018217  |\n",
       "| 7          | 0.8125218  | 0.5984588  | 0.04985463 | 0.1064061  |\n",
       "| 9          | 0.8147566  | 0.5995737  | 0.05319354 | 0.1143758  |\n",
       "\n"
      ],
      "text/plain": [
       "  k Accuracy  Kappa     AccuracySD KappaSD  \n",
       "1 5 0.8147566 0.6041950 0.04643530 0.1018217\n",
       "2 7 0.8125218 0.5984588 0.04985463 0.1064061\n",
       "3 9 0.8147566 0.5995737 0.05319354 0.1143758"
      ]
     },
     "metadata": {},
     "output_type": "display_data"
    }
   ],
   "source": [
    "controle_treinamento = trainControl(method = 'cv', number = 10)\n",
    "df$Survived = factor(df$Survived)\n",
    "modelo = train(Survived ~ ., data = df, trControl = controle_treinamento, method = 'knn')\n",
    "modelo$results"
   ]
  }
 ],
 "metadata": {
  "kernelspec": {
   "display_name": "R",
   "language": "R",
   "name": "ir"
  },
  "language_info": {
   "codemirror_mode": "r",
   "file_extension": ".r",
   "mimetype": "text/x-r-source",
   "name": "R",
   "pygments_lexer": "r",
   "version": "3.6.1"
  }
 },
 "nbformat": 4,
 "nbformat_minor": 5
}
