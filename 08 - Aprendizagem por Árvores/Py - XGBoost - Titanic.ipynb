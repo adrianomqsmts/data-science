{
 "cells": [
  {
   "cell_type": "markdown",
   "id": "2ea9869c-b8c3-4f56-8866-f0cbf965a07e",
   "metadata": {},
   "source": [
    "# XGBoost (eXtreme Gradient Boosting)\n",
    "\n",
    "- É uma implementação avançada do algoritmo de ‘boosting’ de gradiente. A sua funcionalidade de implementar computação paralela o torna pelo menos 10 vezes mais rápido do que outras implementações de ‘boosting’ de gradiente. Suporta várias funções objetivas, incluindo regressão, classificação e ranqueamento.\n",
    "\n",
    "- Fonte [Visualize a Decision Tree in 4 Ways with Scikit-Learn and Python](https://mljar.com/blog/visualize-decision-tree/)\n",
    "- Fonte [Let’s Solve Overfitting! Quick Guide to Cost Complexity Pruning of Decision Trees](https://www.analyticsvidhya.com/blog/2020/10/cost-complexity-pruning-decision-trees/)\n",
    "- Fonte [Um tutorial completo sobre modelagem baseada em árvores de decisão (códigos R e Python)](https://www.vooo.pro/insights/um-tutorial-completo-sobre-a-modelagem-baseada-em-tree-arvore-do-zero-em-r-python/)"
   ]
  },
  {
   "cell_type": "markdown",
   "id": "bb0d92ac-e346-44f7-88ac-b526b81be3a5",
   "metadata": {},
   "source": [
    "## Carregando Biblioteca"
   ]
  },
  {
   "cell_type": "code",
   "execution_count": 69,
   "id": "b963b731-61d1-41c9-a6b6-012b29349ad7",
   "metadata": {},
   "outputs": [],
   "source": [
    "import pandas as pd\n",
    "import numpy as np\n",
    "#Visualização de dados\n",
    "import seaborn as sns\n",
    "import matplotlib.pyplot as plt\n",
    "#Pré-processamento\n",
    "from sklearn.preprocessing import LabelEncoder\n",
    "from sklearn.preprocessing import scale\n",
    "#Dados de Treino\n",
    "from sklearn import datasets\n",
    "from sklearn.model_selection import train_test_split\n",
    "#Árvore Randômica\n",
    "import xgboost as xgb\n",
    "from xgboost.sklearn import XGBClassifier, XGBRegressor\n",
    "#Metricas\n",
    "from sklearn.metrics import confusion_matrix\n",
    "from sklearn.metrics import classification_report\n",
    "from sklearn.model_selection import cross_val_score\n",
    "from sklearn.metrics import accuracy_score"
   ]
  },
  {
   "cell_type": "markdown",
   "id": "33e6849d-9d0b-4ef6-ab42-9a49b187aaee",
   "metadata": {},
   "source": [
    "## Carregando os dados"
   ]
  },
  {
   "cell_type": "code",
   "execution_count": 4,
   "id": "3e677a2b-dd85-41ac-8c2e-9a4618c745f0",
   "metadata": {},
   "outputs": [
    {
     "data": {
      "text/html": [
       "<div>\n",
       "<style scoped>\n",
       "    .dataframe tbody tr th:only-of-type {\n",
       "        vertical-align: middle;\n",
       "    }\n",
       "\n",
       "    .dataframe tbody tr th {\n",
       "        vertical-align: top;\n",
       "    }\n",
       "\n",
       "    .dataframe thead th {\n",
       "        text-align: right;\n",
       "    }\n",
       "</style>\n",
       "<table border=\"1\" class=\"dataframe\">\n",
       "  <thead>\n",
       "    <tr style=\"text-align: right;\">\n",
       "      <th></th>\n",
       "      <th>PassengerId</th>\n",
       "      <th>Survived</th>\n",
       "      <th>Pclass</th>\n",
       "      <th>Name</th>\n",
       "      <th>Sex</th>\n",
       "      <th>Age</th>\n",
       "      <th>SibSp</th>\n",
       "      <th>Parch</th>\n",
       "      <th>Ticket</th>\n",
       "      <th>Fare</th>\n",
       "      <th>Cabin</th>\n",
       "      <th>Embarked</th>\n",
       "    </tr>\n",
       "  </thead>\n",
       "  <tbody>\n",
       "    <tr>\n",
       "      <th>0</th>\n",
       "      <td>1</td>\n",
       "      <td>0</td>\n",
       "      <td>3</td>\n",
       "      <td>Braund, Mr. Owen Harris</td>\n",
       "      <td>male</td>\n",
       "      <td>22.0</td>\n",
       "      <td>1</td>\n",
       "      <td>0</td>\n",
       "      <td>A/5 21171</td>\n",
       "      <td>7.2500</td>\n",
       "      <td>NaN</td>\n",
       "      <td>S</td>\n",
       "    </tr>\n",
       "    <tr>\n",
       "      <th>1</th>\n",
       "      <td>2</td>\n",
       "      <td>1</td>\n",
       "      <td>1</td>\n",
       "      <td>Cumings, Mrs. John Bradley (Florence Briggs Th...</td>\n",
       "      <td>female</td>\n",
       "      <td>38.0</td>\n",
       "      <td>1</td>\n",
       "      <td>0</td>\n",
       "      <td>PC 17599</td>\n",
       "      <td>71.2833</td>\n",
       "      <td>C85</td>\n",
       "      <td>C</td>\n",
       "    </tr>\n",
       "    <tr>\n",
       "      <th>2</th>\n",
       "      <td>3</td>\n",
       "      <td>1</td>\n",
       "      <td>3</td>\n",
       "      <td>Heikkinen, Miss. Laina</td>\n",
       "      <td>female</td>\n",
       "      <td>26.0</td>\n",
       "      <td>0</td>\n",
       "      <td>0</td>\n",
       "      <td>STON/O2. 3101282</td>\n",
       "      <td>7.9250</td>\n",
       "      <td>NaN</td>\n",
       "      <td>S</td>\n",
       "    </tr>\n",
       "    <tr>\n",
       "      <th>3</th>\n",
       "      <td>4</td>\n",
       "      <td>1</td>\n",
       "      <td>1</td>\n",
       "      <td>Futrelle, Mrs. Jacques Heath (Lily May Peel)</td>\n",
       "      <td>female</td>\n",
       "      <td>35.0</td>\n",
       "      <td>1</td>\n",
       "      <td>0</td>\n",
       "      <td>113803</td>\n",
       "      <td>53.1000</td>\n",
       "      <td>C123</td>\n",
       "      <td>S</td>\n",
       "    </tr>\n",
       "    <tr>\n",
       "      <th>4</th>\n",
       "      <td>5</td>\n",
       "      <td>0</td>\n",
       "      <td>3</td>\n",
       "      <td>Allen, Mr. William Henry</td>\n",
       "      <td>male</td>\n",
       "      <td>35.0</td>\n",
       "      <td>0</td>\n",
       "      <td>0</td>\n",
       "      <td>373450</td>\n",
       "      <td>8.0500</td>\n",
       "      <td>NaN</td>\n",
       "      <td>S</td>\n",
       "    </tr>\n",
       "  </tbody>\n",
       "</table>\n",
       "</div>"
      ],
      "text/plain": [
       "   PassengerId  Survived  Pclass  \\\n",
       "0            1         0       3   \n",
       "1            2         1       1   \n",
       "2            3         1       3   \n",
       "3            4         1       1   \n",
       "4            5         0       3   \n",
       "\n",
       "                                                Name     Sex   Age  SibSp  \\\n",
       "0                            Braund, Mr. Owen Harris    male  22.0      1   \n",
       "1  Cumings, Mrs. John Bradley (Florence Briggs Th...  female  38.0      1   \n",
       "2                             Heikkinen, Miss. Laina  female  26.0      0   \n",
       "3       Futrelle, Mrs. Jacques Heath (Lily May Peel)  female  35.0      1   \n",
       "4                           Allen, Mr. William Henry    male  35.0      0   \n",
       "\n",
       "   Parch            Ticket     Fare Cabin Embarked  \n",
       "0      0         A/5 21171   7.2500   NaN        S  \n",
       "1      0          PC 17599  71.2833   C85        C  \n",
       "2      0  STON/O2. 3101282   7.9250   NaN        S  \n",
       "3      0            113803  53.1000  C123        S  \n",
       "4      0            373450   8.0500   NaN        S  "
      ]
     },
     "execution_count": 4,
     "metadata": {},
     "output_type": "execute_result"
    }
   ],
   "source": [
    "df = pd.read_csv(\"../datasets/titanic/train.csv\")\n",
    "df.head()"
   ]
  },
  {
   "cell_type": "markdown",
   "id": "8c466324-b642-40e2-bd72-638d957c8ce7",
   "metadata": {},
   "source": [
    "## Pré-Processamento de Dados"
   ]
  },
  {
   "cell_type": "code",
   "execution_count": 5,
   "id": "1c3ddd11-cf2d-4908-8645-cc391bfd1ed0",
   "metadata": {},
   "outputs": [
    {
     "data": {
      "text/html": [
       "<div>\n",
       "<style scoped>\n",
       "    .dataframe tbody tr th:only-of-type {\n",
       "        vertical-align: middle;\n",
       "    }\n",
       "\n",
       "    .dataframe tbody tr th {\n",
       "        vertical-align: top;\n",
       "    }\n",
       "\n",
       "    .dataframe thead th {\n",
       "        text-align: right;\n",
       "    }\n",
       "</style>\n",
       "<table border=\"1\" class=\"dataframe\">\n",
       "  <thead>\n",
       "    <tr style=\"text-align: right;\">\n",
       "      <th></th>\n",
       "      <th>Survived</th>\n",
       "      <th>Pclass</th>\n",
       "      <th>Name</th>\n",
       "      <th>Sex</th>\n",
       "      <th>Age</th>\n",
       "      <th>SibSp</th>\n",
       "      <th>Parch</th>\n",
       "      <th>Fare</th>\n",
       "      <th>Embarked</th>\n",
       "    </tr>\n",
       "  </thead>\n",
       "  <tbody>\n",
       "    <tr>\n",
       "      <th>0</th>\n",
       "      <td>0</td>\n",
       "      <td>3</td>\n",
       "      <td>6</td>\n",
       "      <td>1</td>\n",
       "      <td>-0.592481</td>\n",
       "      <td>1</td>\n",
       "      <td>0</td>\n",
       "      <td>-0.502445</td>\n",
       "      <td>2</td>\n",
       "    </tr>\n",
       "    <tr>\n",
       "      <th>1</th>\n",
       "      <td>1</td>\n",
       "      <td>1</td>\n",
       "      <td>6</td>\n",
       "      <td>0</td>\n",
       "      <td>0.638789</td>\n",
       "      <td>1</td>\n",
       "      <td>0</td>\n",
       "      <td>0.786845</td>\n",
       "      <td>0</td>\n",
       "    </tr>\n",
       "    <tr>\n",
       "      <th>2</th>\n",
       "      <td>1</td>\n",
       "      <td>3</td>\n",
       "      <td>5</td>\n",
       "      <td>0</td>\n",
       "      <td>-0.284663</td>\n",
       "      <td>0</td>\n",
       "      <td>0</td>\n",
       "      <td>-0.488854</td>\n",
       "      <td>2</td>\n",
       "    </tr>\n",
       "    <tr>\n",
       "      <th>3</th>\n",
       "      <td>1</td>\n",
       "      <td>1</td>\n",
       "      <td>6</td>\n",
       "      <td>0</td>\n",
       "      <td>0.407926</td>\n",
       "      <td>1</td>\n",
       "      <td>0</td>\n",
       "      <td>0.420730</td>\n",
       "      <td>2</td>\n",
       "    </tr>\n",
       "    <tr>\n",
       "      <th>4</th>\n",
       "      <td>0</td>\n",
       "      <td>3</td>\n",
       "      <td>6</td>\n",
       "      <td>1</td>\n",
       "      <td>0.407926</td>\n",
       "      <td>0</td>\n",
       "      <td>0</td>\n",
       "      <td>-0.486337</td>\n",
       "      <td>2</td>\n",
       "    </tr>\n",
       "  </tbody>\n",
       "</table>\n",
       "</div>"
      ],
      "text/plain": [
       "   Survived  Pclass  Name  Sex       Age  SibSp  Parch      Fare  Embarked\n",
       "0         0       3     6    1 -0.592481      1      0 -0.502445         2\n",
       "1         1       1     6    0  0.638789      1      0  0.786845         0\n",
       "2         1       3     5    0 -0.284663      0      0 -0.488854         2\n",
       "3         1       1     6    0  0.407926      1      0  0.420730         2\n",
       "4         0       3     6    1  0.407926      0      0 -0.486337         2"
      ]
     },
     "execution_count": 5,
     "metadata": {},
     "output_type": "execute_result"
    }
   ],
   "source": [
    "def pronomes(x):\n",
    "    if 'Mr' in x:\n",
    "        return 'Mr'\n",
    "    elif 'Don' in x:\n",
    "        return 'Mr'\n",
    "    elif 'Mrs' in x:\n",
    "        return 'Mrs'\n",
    "    elif 'Ms' in x:\n",
    "        return 'Mrs'\n",
    "    elif 'Mme' in x:\n",
    "        return 'Mrs'\n",
    "    elif 'Miss' in x:\n",
    "        return 'Miss'\n",
    "    elif 'Mlle' in x:\n",
    "        return 'Miss'\n",
    "    elif 'Dr' in x:\n",
    "        return 'Dr'\n",
    "    elif 'Rev' in x:\n",
    "        return 'Rev'\n",
    "    elif 'Master' in x:\n",
    "        return 'Master'\n",
    "    elif 'Major' in x:\n",
    "        return 'Major'\n",
    "    elif 'Capt' in x:\n",
    "        return 'Capt'\n",
    "    elif 'Jonkheer' in x:\n",
    "        return 'Mr'\n",
    "    elif 'Col' in x:\n",
    "        return 'Col'\n",
    "    elif 'Countess' in x:\n",
    "        return 'Mrs'\n",
    "    else:\n",
    "        return 'None'\n",
    "# Extração de Pronomes\n",
    "df['Name'] = df['Name'].apply(pronomes)\n",
    "\n",
    "# Categóricas para Numéricas\n",
    "le_name = LabelEncoder()\n",
    "df['Name']  = le_name.fit_transform(df['Name'])\n",
    "\n",
    "# Substituir valores ausentes/nulos\n",
    "df['Age'].fillna(df['Age'].mean(), inplace = True)\n",
    "df.loc[df['Embarked'].isna(), ['Embarked']] = df['Embarked'].value_counts().index[0]\n",
    "\n",
    "# Categórico Para numérico\n",
    "le_sex = LabelEncoder()\n",
    "df['Sex']  = le_sex.fit_transform(df['Sex'])\n",
    "le_embarked = LabelEncoder()\n",
    "df['Embarked'] = le_embarked.fit_transform(df['Embarked'])\n",
    "\n",
    "# Remoção de colunas\n",
    "df = df.drop(columns=['PassengerId', 'Ticket', 'Cabin'])\n",
    "\n",
    "#Escalonamento \n",
    "df[['Age', 'Fare']] = pd.DataFrame( scale(df[['Age', 'Fare']]),\n",
    "                                    index = df.index,\n",
    "                                    columns = ['Age', 'Fare'])\n",
    "\n",
    "df.head()"
   ]
  },
  {
   "cell_type": "markdown",
   "id": "951b7239-8c97-4e18-8806-2823abc42d89",
   "metadata": {},
   "source": [
    "## Dados de Treino e Teste"
   ]
  },
  {
   "cell_type": "code",
   "execution_count": 6,
   "id": "636f6939-6f2a-4658-b35e-8c0c5ae1ad70",
   "metadata": {},
   "outputs": [],
   "source": [
    "x = df.drop(columns='Survived')\n",
    "y = df['Survived']\n",
    "\n",
    "x_train, x_test, y_train, y_test = train_test_split(x, y, test_size=0.2, random_state=0)"
   ]
  },
  {
   "cell_type": "markdown",
   "id": "d0e633a2-8e35-4e6c-9d3a-3c5ce53671dc",
   "metadata": {},
   "source": [
    "# XGBClassifier\n",
    "\n",
    "- **booster** [default = gbtree] - Seleciona o tipo de modelo a ser executado em cada iteração. Possui 2 opções:\n",
    "    - gbtree: modelos baseados em árvore\n",
    "    - gblinear: modelos lineares\n",
    "- **silent** [padrão = 0] - O modo silencioso ativado é definido como 1, ou seja, nenhuma mensagem em execução será impressa. Geralmente é bom mantê-lo em 0, pois as mensagens podem ajudar na compreensão do modelo.\n",
    "- **nthread** [padrão para o número máximo de threads disponíveis se não for definido] - Isso é usado para processamento paralelo e o número de núcleos no sistema deve ser inserido. Se você deseja executar em todos os núcleos, o valor não deve ser inserido e o algoritmo detectará automaticamente\n",
    "- **eta** [padrão = 0,3] - Torna o modelo mais robusto, reduzindo os pesos em cada etapa. Valores finais típicos a serem usados: 0,01-0,2\n",
    "-  **min_child_weight** [default = 1] - Define a soma mínima dos pesos de todas as observações exigidas em uma criança. Isso se refere à “soma dos pesos” mínimas das observações. Usado para controlar o sobreajuste. Valores mais altos evitam que um modelo aprenda relações que podem ser altamente específicas para a amostra particular selecionada para uma árvore. Valores muito altos podem levar a um ajuste insuficiente, portanto, ele deve ser ajustado usando CV.\n",
    "- **max_depth** [default = 6] - A profundidade máxima de uma árvore. Usado para controlar o sobreajuste, uma vez que uma profundidade maior permitirá que o modelo aprenda relações muito específicas para uma amostra particular.  Deve ser ajustado usando CV. Valores típicos: 3-10\n",
    "- **max_leaf_nodes** -  O número máximo de nós terminais ou folhas em uma árvore. Pode ser definido no lugar de max_depth. Uma vez que árvores binárias são criadas, uma profundidade de 'n' produziria um máximo de $2^n$ folhas. Se estiver definido, o GBM irá ignorar max_depth.\n",
    "- **gama** [padrão = 0] - Um nó é dividido apenas quando a divisão resultante dá uma redução positiva na função de perda. Gama especifica a redução de perda mínima necessária para fazer uma divisão. Torna o algoritmo conservador. Os valores podem variar dependendo da função de perda e devem ser ajustados.\n",
    "- **max_delta_step** [default = 0] - Na etapa delta máxima, permitimos que a estimativa de peso de cada árvore seja. Se o valor for definido como 0, significa que não há restrição. Se for definido com um valor positivo, pode ajudar a tornar a etapa de atualização mais conservadora. Normalmente este parâmetro não é necessário, mas pode ajudar na regressão logística quando a classe está extremamente desequilibrada. Isso geralmente não é usado, mas você pode explorar mais se desejar.\n",
    "- **subsample** [padrão = 1] - Denota a fração de observações a serem amostras aleatoriamente para cada árvore.  Valores mais baixos tornam o algoritmo mais conservador e evita o sobreajuste, mas valores muito pequenos podem levar ao subajuste. Valores típicos: 0,5-1\n",
    "- **colsample_bytree** [default = 1] - Semelhante a max_features em GBM. Denota a fração de colunas a serem amostras aleatoriamente para cada árvore. Valores típicos: 0,5-1\n",
    "- **colsample_bylevel** [default = 1] - Denota a proporção da subamostra de colunas para cada divisão, em cada nível. Eu não uso isso com frequência porque subsample e colsample_bytree farão o trabalho para você. mas você pode explorar mais se achar que sim.\n",
    "- **lambda [padrão = 1]** - Termo de regularização L2 em pesos (análogo à regressão de Ridge). Isso costumava lidar com a parte de regularização do XGBoost. Embora muitos cientistas de dados não o usem com frequência, ele deve ser explorado para reduzir o sobreajuste.\n",
    "- **alpha** [padrão = 0] -  Termo de regularização L1 em peso (análogo à regressão Lasso). Pode ser usado em caso de dimensionalidade muito alta para que o algoritmo rode mais rápido quando implementado\n",
    "- **scale_pos_weight** [default = 1] -  m valor maior que 0 deve ser usado em caso de desequilíbrio de classe alto, pois ajuda na convergência mais rápida.\n",
    "- **objective** - [padrão = reg: linear] -  Isso define a função de perda a ser minimizada. Os valores mais usados são:\n",
    "    - binário: regressão logística - logística para classificação binária, retorna probabilidade prevista (não classe)\n",
    "    - multi: softmax - classificação multiclasse usando a objetiva softmax, retorna a classe prevista (não probabilidades)\n",
    "        - você também precisa definir um parâmetro adicional num_class (número de classes) definindo o número de classes únicas\n",
    "    - multi: softprob –same como softmax, mas retorna a probabilidade prevista de cada ponto de dados pertencente a cada classe.\n",
    "- **eval_metric** [padrão de acordo com o objetivo] -  A métrica a ser usada para dados de validação. Os valores padrão são rmse para regressão e erro para classificação. Os valores típicos são:\n",
    "    - rmse - raiz quadrada média do erro\n",
    "    - mae - erro absoluto médio\n",
    "    - logloss - log-verossimilhança negativa\n",
    "    - erro - Taxa de erro de classificação binária (limite de 0,5)\n",
    "    - merror - Taxa de erro de classificação multiclasse\n",
    "    - mlogloss - Logloss multiclasse\n",
    "    - auc: Área sob a curva\n",
    "- **seed** [padrão = 0] - A semente do número aleatório. Pode ser usado para gerar resultados reproduzíveis e também para ajuste de parâmetros. \n",
    "- O metodo **fit()** é usado para treinar o modelo\n",
    "- O método **predict()** é usado para prever um dado"
   ]
  },
  {
   "cell_type": "code",
   "execution_count": 23,
   "id": "d8e1409f-e385-42d3-b9a4-a25ad84ffadf",
   "metadata": {},
   "outputs": [
    {
     "name": "stdout",
     "output_type": "stream",
     "text": [
      "[01:04:04] WARNING: C:/Users/Administrator/workspace/xgboost-win64_release_1.4.0/src/learner.cc:1095: Starting in XGBoost 1.3.0, the default evaluation metric used with the objective 'binary:logistic' was changed from 'error' to 'logloss'. Explicitly set eval_metric if you'd like to restore the old behavior.\n"
     ]
    }
   ],
   "source": [
    "classificador = XGBClassifier(use_label_encoder=False)\n",
    "\n",
    "classificador = classificador.fit(x_train, y_train)"
   ]
  },
  {
   "cell_type": "markdown",
   "id": "11483b45-5fd3-4751-abdc-a10419bb1366",
   "metadata": {},
   "source": [
    "## Prever um valor"
   ]
  },
  {
   "cell_type": "code",
   "execution_count": 24,
   "id": "137dd85a-4f8b-40ae-8426-7422cf1e4e57",
   "metadata": {},
   "outputs": [
    {
     "name": "stdout",
     "output_type": "stream",
     "text": [
      "\n",
      "Prevendo o dataframe criado:  [1]\n"
     ]
    }
   ],
   "source": [
    "data = {\n",
    "    'Pclass': [1],\n",
    "    'Name': ['Miss'],\n",
    "    'Sex': ['female'],\n",
    "    'Age': [5],\n",
    "    'SibSp': [1],\n",
    "    'Parch': [1],\n",
    "    'Fare': [50],\n",
    "    'Embarked': ['C']\n",
    "}\n",
    "\n",
    "#Transformando do Dicionário em DataFrame\n",
    "data = pd.DataFrame(data)\n",
    "\n",
    "#Tratando os Dados\n",
    "# Categóricas para Numéricas\n",
    "\n",
    "data['Name']  = le_name.transform(data['Name'])\n",
    "data['Sex']  = le_sex.transform(data['Sex'])\n",
    "data['Embarked'] = le_embarked.transform(data['Embarked'])\n",
    "data[['Age', 'Fare']] = pd.DataFrame( scale(data[['Age', 'Fare']]),\n",
    "                                    index = data.index,\n",
    "                                    columns = ['Age', 'Fare'])\n",
    "\n",
    "#Classificando\n",
    "previsao = classificador.predict(data)\n",
    "print(\"\\nPrevendo o dataframe criado: \", previsao)"
   ]
  },
  {
   "cell_type": "markdown",
   "id": "4bb9a673-2065-40e0-b618-7852329d66c0",
   "metadata": {},
   "source": [
    "## Prever os dados de Teste"
   ]
  },
  {
   "cell_type": "code",
   "execution_count": 25,
   "id": "7305e30c-c940-44dc-a857-0826c4d81a43",
   "metadata": {},
   "outputs": [
    {
     "name": "stdout",
     "output_type": "stream",
     "text": [
      "Acurácia 84.35754189944134%\n"
     ]
    }
   ],
   "source": [
    "previsao = classificador.predict(x_test)\n",
    "\n",
    "acuracia = 100 * np.sum(previsao == y_test)/ len(y_test)\n",
    "\n",
    "print(\"Acurácia {}%\".format(acuracia))"
   ]
  },
  {
   "cell_type": "markdown",
   "id": "39a86784-36cd-4753-829a-cb9f276cf52f",
   "metadata": {},
   "source": [
    "# Matriz de Confusão\n",
    "\n",
    "- A biblioteca **sklearn.metrics** tem a função **confusion_matrix** que irá nos retornar a matriz de confusão dos dados previstos. \n",
    "- **y_true** - Valores alvo verdadeiros (corretos). \n",
    "- **y_pred** - Alvos estimados conforme retornados por um classificador. \n",
    "- **labels** - Lista de rótulos para indexar a matriz. Isso pode ser usado para reordenar ou selecionar um subconjunto de rótulos. Se Nenhum for fornecido, aqueles que aparecem pelo menos uma vez em y_true ou y_pred são usados na ordem de classificação \n",
    "- **sample_weight** - Pesos de amostra. \n",
    "- **normalize**: {‘true’, ‘pred’, ‘all’}, default=None - Normaliza a matriz de confusão sobre as condições verdadeiras (linhas), preditas (colunas) ou toda a população. Se nenhum, a matriz de confusão não será normalizada. "
   ]
  },
  {
   "cell_type": "code",
   "execution_count": 26,
   "id": "3bb525af-e088-4af5-a530-4900afffcc79",
   "metadata": {},
   "outputs": [
    {
     "data": {
      "text/plain": [
       "array([[100,  10],\n",
       "       [ 18,  51]], dtype=int64)"
      ]
     },
     "execution_count": 26,
     "metadata": {},
     "output_type": "execute_result"
    }
   ],
   "source": [
    "confusion_matrix(y_test, previsao)"
   ]
  },
  {
   "cell_type": "markdown",
   "id": "cb701eda-a41a-454c-b650-0491aab1d34d",
   "metadata": {},
   "source": [
    "## Personalizando a matriz de confusão"
   ]
  },
  {
   "cell_type": "code",
   "execution_count": 27,
   "id": "4b45dd33-2095-49df-8630-db273bcf0638",
   "metadata": {},
   "outputs": [
    {
     "data": {
      "image/png": "[encoded data removed]",
      "text/plain": [
       "<Figure size 432x288 with 2 Axes>"
      ]
     },
     "metadata": {
      "needs_background": "light"
     },
     "output_type": "display_data"
    }
   ],
   "source": [
    "cm = confusion_matrix(y_test, previsao)\n",
    "ax= plt.subplot()\n",
    "sns.heatmap(cm, annot=True, ax = ax); #annot=True to annotate cells\n",
    "\n",
    "# labels, title and ticks\n",
    "ax.set_xlabel('Previsão');\n",
    "ax.set_ylabel('Verdadeiro'); \n",
    "ax.set_title('Confusion Matrix'); \n",
    "ax.xaxis.set_ticklabels(['Morto', 'Vivo']);\n",
    "ax.yaxis.set_ticklabels(['Morto', 'Vivo']);"
   ]
  },
  {
   "cell_type": "markdown",
   "id": "7bbcdf79-eb15-4184-83c5-c16ab18d61c1",
   "metadata": {
    "tags": []
   },
   "source": [
    "## Métricas\n",
    "\n",
    "- A biblioteca **sklearn.metrics** tem a função **classification_report** que cria um relatório de texto mostrando as principais métricas de classificação. \n",
    "- **y_true** - Valores alvo verdadeiros (corretos). \n",
    "- **y_pred** - Alvos estimados conforme retornados por um classificador. \n",
    "- **labels** - Lista opcional de índices de rótulo a serem incluídos no relatório. \n",
    "- **target_names** - Nomes de exibição opcionais que correspondem aos rótulos (mesma ordem) \n",
    "- **sample_weight** - Peso das Amostras\n",
    "- **digits** - Número de dígitos para formatar valores de ponto flutuante de saída. Quando output_dict for True, isso será ignorado e os valores retornados não serão arredondados.\n",
    "- **output_dict** - Se verdadeiro, retorna a saída como dict\n",
    "- **zero_division**: 'warn', 0 or 1, default='warn' - Define o valor a ser retornado quando houver uma divisão zero. Se definido como “aviso”, funciona como 0, mas os avisos também são gerados. "
   ]
  },
  {
   "cell_type": "code",
   "execution_count": 28,
   "id": "9b259ba5-0892-48d7-9827-2ee305aab87c",
   "metadata": {},
   "outputs": [
    {
     "name": "stdout",
     "output_type": "stream",
     "text": [
      "              precision    recall  f1-score   support\n",
      "\n",
      "       Morto       0.85      0.91      0.88       110\n",
      "        Vivo       0.84      0.74      0.78        69\n",
      "\n",
      "    accuracy                           0.84       179\n",
      "   macro avg       0.84      0.82      0.83       179\n",
      "weighted avg       0.84      0.84      0.84       179\n",
      "\n"
     ]
    }
   ],
   "source": [
    "print(classification_report(y_test, previsao, target_names = ['Morto', 'Vivo']))"
   ]
  },
  {
   "cell_type": "markdown",
   "id": "1decb618-7354-4ebf-986f-832963d1b6fe",
   "metadata": {},
   "source": [
    "## Acurácia\n",
    "\n",
    "- A função **accuracy_score** pode ser usada para verificar a acurácia dos dados"
   ]
  },
  {
   "cell_type": "code",
   "execution_count": 29,
   "id": "6f015dbf-576a-4af7-a905-903fe929bd2c",
   "metadata": {},
   "outputs": [
    {
     "data": {
      "text/plain": [
       "0.8435754189944135"
      ]
     },
     "execution_count": 29,
     "metadata": {},
     "output_type": "execute_result"
    }
   ],
   "source": [
    "accuracy_score(y_test, previsao)"
   ]
  },
  {
   "cell_type": "markdown",
   "id": "e29db857-5235-40c8-bbda-44d95e8e4adf",
   "metadata": {},
   "source": [
    "# Validação Cruzada\n",
    "\n",
    "- A função **cross_val_score** realiza a validação cruzada.\n",
    "- **estimator** - O objeto a ser usado para ajustar os dados (classificador).\n",
    "- **X** - array-like of shape (n_samples, n_features) -   Os dados para caber. Pode ser, por exemplo, uma lista ou um array.\n",
    "- **y** - array-like of shape (n_samples,) or (n_samples, n_outputs), default=None - A variável alvo a tentar prever no caso de aprendizagem supervisionada.\n",
    "- **group** - array-like of shape (n_samples,), default = None -      Rótulos de grupo para as amostras usadas durante a divisão do conjunto de dados em conjunto de treinamento / teste. Usado apenas em conjunto com uma instância cv \"Grupo\" (por exemplo, GroupKFold).\n",
    "- **scoring** - str ou callable, default = None - Um str (consulte a documentação de avaliação do modelo) ou um objeto / função que pode ser chamado de scorer com scorer de assinatura (estimador, X, y) que deve retornar apenas um único valor. Semelhante a cross_validate, mas apenas uma única métrica é permitida.  Se Nenhum, o marcador padrão do estimador (se disponível) é usado.\n",
    "- **cv** - int, gerador de validação cruzada ou iterável, padrão = None -      Determina a estratégia de divisão de validação cruzada. As entradas possíveis para cv são:\n",
    "    - Nenhum, para usar a validação cruzada de 5 vezes padrão,\n",
    "    - int, para especificar o número de dobras em um KFold (estratificado),         - Divisor de CV,\n",
    "    - Um rendimento iterável (treinar, testar) se divide como matrizes de índices.\n",
    "    - Para entradas int / Nenhum, se o estimador for um classificador ey for binário ou multiclasse, StratifiedKFold é usado. Em todos os outros casos, o KFold é usado. Esses divisores são instanciados com shuffle = False para que as divisões sejam iguais nas chamadas.\n",
    "    \n",
    "- **n_jobs** - int, default = None - Número de trabalhos a serem executados em paralelo. O treinamento do estimador e o cálculo da pontuação são paralelizados nas divisões de validação cruzada. Nenhum significa 1, a menos que em um contexto joblib.parallel_backend. -1 significa usar todos os processadores. \n",
    "- **verbose** - int, default = 0 - O nível de verbosidade.\n",
    "- **fit_params** - dict, default = None - Parâmetros para passar para o método de ajuste do estimador (classificador).\n",
    "- **pre_dispatch** - int ou str, default = ’2 * n_jobs’ - Controla o número de trabalhos que são despachados durante a execução paralela. Reduzir esse número pode ser útil para evitar uma explosão de consumo de memória quando mais tarefas são despachadas do que as CPUs podem processar. Este parâmetro pode ser:\n",
    "    - Nenhum, caso em que todos os empregos são imediatamente criados e reproduzidos. Use isso para trabalhos leves e de execução rápida, para evitar atrasos devido à geração sob demanda dos trabalhos\n",
    "    - Um int, dando o número exato de empregos totais que são gerados\n",
    "    -  Um str, dando uma expressão em função de n_jobs, como em ‘2 * n_jobs’\n",
    "- **error_score** - raise ou numérico, default = np.nan -  Valor a ser atribuído à pontuação se ocorrer um erro no ajuste do estimador. Se definido como ‘aumentar’, o erro é gerado. Se um valor numérico for fornecido, FitFailedWarning é gerado \n"
   ]
  },
  {
   "cell_type": "code",
   "execution_count": 30,
   "id": "d6ebbc3d-c354-4597-af83-4812c69f3330",
   "metadata": {},
   "outputs": [
    {
     "name": "stdout",
     "output_type": "stream",
     "text": [
      "[01:04:25] WARNING: C:/Users/Administrator/workspace/xgboost-win64_release_1.4.0/src/learner.cc:1095: Starting in XGBoost 1.3.0, the default evaluation metric used with the objective 'binary:logistic' was changed from 'error' to 'logloss'. Explicitly set eval_metric if you'd like to restore the old behavior.\n",
      "[01:04:26] WARNING: C:/Users/Administrator/workspace/xgboost-win64_release_1.4.0/src/learner.cc:1095: Starting in XGBoost 1.3.0, the default evaluation metric used with the objective 'binary:logistic' was changed from 'error' to 'logloss'. Explicitly set eval_metric if you'd like to restore the old behavior.\n",
      "[01:04:26] WARNING: C:/Users/Administrator/workspace/xgboost-win64_release_1.4.0/src/learner.cc:1095: Starting in XGBoost 1.3.0, the default evaluation metric used with the objective 'binary:logistic' was changed from 'error' to 'logloss'. Explicitly set eval_metric if you'd like to restore the old behavior.\n",
      "[01:04:26] WARNING: C:/Users/Administrator/workspace/xgboost-win64_release_1.4.0/src/learner.cc:1095: Starting in XGBoost 1.3.0, the default evaluation metric used with the objective 'binary:logistic' was changed from 'error' to 'logloss'. Explicitly set eval_metric if you'd like to restore the old behavior.\n",
      "[01:04:26] WARNING: C:/Users/Administrator/workspace/xgboost-win64_release_1.4.0/src/learner.cc:1095: Starting in XGBoost 1.3.0, the default evaluation metric used with the objective 'binary:logistic' was changed from 'error' to 'logloss'. Explicitly set eval_metric if you'd like to restore the old behavior.\n",
      "Acurracy: 0.82 (+\\-) 0.06 \n"
     ]
    }
   ],
   "source": [
    "x = df.drop(columns='Survived')\n",
    "y = df['Survived']\n",
    "scores = cross_val_score(classificador, x, y, cv = 5)\n",
    "\n",
    "print(\"Acurracy: %0.2f (+\\-) %0.2f \" % (scores.mean(), scores.std() * 2))"
   ]
  },
  {
   "cell_type": "markdown",
   "id": "a7baf49a-40ad-4eea-b9b8-f1b8aa3e591d",
   "metadata": {},
   "source": [
    "# Podar a Árvore\n",
    "\n",
    "- Devemos pergar o menor erro possível para poder a árvore\n",
    "\n",
    "max_depth = 5: deve estar entre 3-10. Comecei com 5, mas você também pode escolher um número diferente. 4-6 podem ser bons pontos de partida.\n",
    "\n",
    "min_child_weight = 1: Um valor menor é escolhido porque é um problema de classe altamente desequilibrado e os nós folha podem ter grupos de tamanhos menores.\n",
    "\n",
    "gama = 0: Um valor menor como 0,1-0,2 também pode ser escolhido para iniciar. De qualquer forma, isso será ajustado mais tarde.\n",
    "\n",
    "subamostra, colsample_bytree = 0.8: Este é um valor inicial comumente usado. Os valores típicos variam entre 0,5-0,9.\n",
    "\n",
    "scale_pos_weight = 1: Por causa do desequilíbrio de classe alta. "
   ]
  },
  {
   "cell_type": "code",
   "execution_count": 68,
   "id": "453fe456-99a2-4211-8881-330c9e646b4d",
   "metadata": {},
   "outputs": [
    {
     "name": "stdout",
     "output_type": "stream",
     "text": [
      "[01:10:26] WARNING: C:/Users/Administrator/workspace/xgboost-win64_release_1.4.0/src/learner.cc:1095: Starting in XGBoost 1.3.0, the default evaluation metric used with the objective 'binary:logistic' was changed from 'error' to 'logloss'. Explicitly set eval_metric if you'd like to restore the old behavior.\n"
     ]
    },
    {
     "data": {
      "text/plain": [
       "0.8603351955307262"
      ]
     },
     "execution_count": 68,
     "metadata": {},
     "output_type": "execute_result"
    }
   ],
   "source": [
    "classificador = XGBClassifier(use_label_encoder=False, max_depth=5, min_child_weight = 10, gamma = 0.1, colsample_bytree = 0.7,  subsample = 0.7, scale_pos_weight = 1)\n",
    "\n",
    "#Rodar novamente\n",
    "classificador = classificador.fit(x_train, y_train)\n",
    "\n",
    "# CLASSIFICANDO\n",
    "previsoes = classificador.predict(x_test)\n",
    "\n",
    "# Accuracy\n",
    "accuracy_score(y_test, previsoes)"
   ]
  },
  {
   "cell_type": "markdown",
   "id": "3b857085-143b-43fc-906f-d9d47a14a3b6",
   "metadata": {},
   "source": [
    "# Regressão\n",
    "\n",
    "- Para fazer predições com regressão, use a função XGBRegressor\n",
    "\n",
    "```Python\n",
    "from xgboost.sklearn import XGBClassifier, XGBRegressor\n",
    "```"
   ]
  }
 ],
 "metadata": {
  "kernelspec": {
   "display_name": "Python 3",
   "language": "python",
   "name": "python3"
  },
  "language_info": {
   "codemirror_mode": {
    "name": "ipython",
    "version": 3
   },
   "file_extension": ".py",
   "mimetype": "text/x-python",
   "name": "python",
   "nbconvert_exporter": "python",
   "pygments_lexer": "ipython3",
   "version": "3.8.10"
  }
 },
 "nbformat": 4,
 "nbformat_minor": 5
}
