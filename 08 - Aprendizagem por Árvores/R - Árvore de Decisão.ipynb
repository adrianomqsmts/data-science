{
 "cells": [
  {
   "cell_type": "markdown",
   "id": "8e11d4dd-faa5-4e18-87a2-32cf4df51cb9",
   "metadata": {},
   "source": [
    "# Árvore de Decisão"
   ]
  },
  {
   "cell_type": "markdown",
   "id": "82817b9b-196d-4f95-b507-f6f68ebd10eb",
   "metadata": {},
   "source": [
    "## Carregando Biblioteca"
   ]
  },
  {
   "cell_type": "code",
   "execution_count": 6,
   "id": "79191084-f8a6-48f2-9efa-cca2bf714ba7",
   "metadata": {},
   "outputs": [],
   "source": [
    "library(repr)\n",
    "library(caTools)\n",
    "options(repr.plot.width = 8, repr.plot.height = 8)\n",
    "#Árvore de Decisão\n",
    "library(rpart)\n",
    "library(rpart.plot)\n",
    "#Preprocessamento\n",
    "library(CatEncoders)\n",
    "library(gplots)\n",
    "#Matricas\n",
    "library(caret)"
   ]
  },
  {
   "cell_type": "markdown",
   "id": "7a14f725-2ff0-433f-8b9b-b6e360d657f3",
   "metadata": {},
   "source": [
    "## Carregando os dados"
   ]
  },
  {
   "cell_type": "code",
   "execution_count": 7,
   "id": "73f280a4-c492-4e5b-826a-ff821b8102dd",
   "metadata": {},
   "outputs": [
    {
     "data": {
      "text/html": [
       "<table>\n",
       "<thead><tr><th scope=col>PassengerId</th><th scope=col>Survived</th><th scope=col>Pclass</th><th scope=col>Name</th><th scope=col>Sex</th><th scope=col>Age</th><th scope=col>SibSp</th><th scope=col>Parch</th><th scope=col>Ticket</th><th scope=col>Fare</th><th scope=col>Cabin</th><th scope=col>Embarked</th></tr></thead>\n",
       "<tbody>\n",
       "\t<tr><td>1                                                  </td><td>0                                                  </td><td>3                                                  </td><td>Braund, Mr. Owen Harris                            </td><td>male                                               </td><td>22                                                 </td><td>1                                                  </td><td>0                                                  </td><td>A/5 21171                                          </td><td> 7.2500                                            </td><td>NA                                                 </td><td>S                                                  </td></tr>\n",
       "\t<tr><td>2                                                  </td><td>1                                                  </td><td>1                                                  </td><td>Cumings, Mrs. John Bradley (Florence Briggs Thayer)</td><td>female                                             </td><td>38                                                 </td><td>1                                                  </td><td>0                                                  </td><td>PC 17599                                           </td><td>71.2833                                            </td><td>C85                                                </td><td>C                                                  </td></tr>\n",
       "\t<tr><td>3                                                  </td><td>1                                                  </td><td>3                                                  </td><td>Heikkinen, Miss. Laina                             </td><td>female                                             </td><td>26                                                 </td><td>0                                                  </td><td>0                                                  </td><td>STON/O2. 3101282                                   </td><td> 7.9250                                            </td><td>NA                                                 </td><td>S                                                  </td></tr>\n",
       "\t<tr><td>4                                                  </td><td>1                                                  </td><td>1                                                  </td><td>Futrelle, Mrs. Jacques Heath (Lily May Peel)       </td><td>female                                             </td><td>35                                                 </td><td>1                                                  </td><td>0                                                  </td><td>113803                                             </td><td>53.1000                                            </td><td>C123                                               </td><td>S                                                  </td></tr>\n",
       "\t<tr><td>5                                                  </td><td>0                                                  </td><td>3                                                  </td><td>Allen, Mr. William Henry                           </td><td>male                                               </td><td>35                                                 </td><td>0                                                  </td><td>0                                                  </td><td>373450                                             </td><td> 8.0500                                            </td><td>NA                                                 </td><td>S                                                  </td></tr>\n",
       "\t<tr><td>6                                                  </td><td>0                                                  </td><td>3                                                  </td><td>Moran, Mr. James                                   </td><td>male                                               </td><td>NA                                                 </td><td>0                                                  </td><td>0                                                  </td><td>330877                                             </td><td> 8.4583                                            </td><td>NA                                                 </td><td>Q                                                  </td></tr>\n",
       "</tbody>\n",
       "</table>\n"
      ],
      "text/latex": [
       "\\begin{tabular}{r|llllllllllll}\n",
       " PassengerId & Survived & Pclass & Name & Sex & Age & SibSp & Parch & Ticket & Fare & Cabin & Embarked\\\\\n",
       "\\hline\n",
       "\t 1                                                   & 0                                                   & 3                                                   & Braund, Mr. Owen Harris                             & male                                                & 22                                                  & 1                                                   & 0                                                   & A/5 21171                                           &  7.2500                                             & NA                                                  & S                                                  \\\\\n",
       "\t 2                                                   & 1                                                   & 1                                                   & Cumings, Mrs. John Bradley (Florence Briggs Thayer) & female                                              & 38                                                  & 1                                                   & 0                                                   & PC 17599                                            & 71.2833                                             & C85                                                 & C                                                  \\\\\n",
       "\t 3                                                   & 1                                                   & 3                                                   & Heikkinen, Miss. Laina                              & female                                              & 26                                                  & 0                                                   & 0                                                   & STON/O2. 3101282                                    &  7.9250                                             & NA                                                  & S                                                  \\\\\n",
       "\t 4                                                   & 1                                                   & 1                                                   & Futrelle, Mrs. Jacques Heath (Lily May Peel)        & female                                              & 35                                                  & 1                                                   & 0                                                   & 113803                                              & 53.1000                                             & C123                                                & S                                                  \\\\\n",
       "\t 5                                                   & 0                                                   & 3                                                   & Allen, Mr. William Henry                            & male                                                & 35                                                  & 0                                                   & 0                                                   & 373450                                              &  8.0500                                             & NA                                                  & S                                                  \\\\\n",
       "\t 6                                                   & 0                                                   & 3                                                   & Moran, Mr. James                                    & male                                                & NA                                                  & 0                                                   & 0                                                   & 330877                                              &  8.4583                                             & NA                                                  & Q                                                  \\\\\n",
       "\\end{tabular}\n"
      ],
      "text/markdown": [
       "\n",
       "| PassengerId | Survived | Pclass | Name | Sex | Age | SibSp | Parch | Ticket | Fare | Cabin | Embarked |\n",
       "|---|---|---|---|---|---|---|---|---|---|---|---|\n",
       "| 1                                                   | 0                                                   | 3                                                   | Braund, Mr. Owen Harris                             | male                                                | 22                                                  | 1                                                   | 0                                                   | A/5 21171                                           |  7.2500                                             | NA                                                  | S                                                   |\n",
       "| 2                                                   | 1                                                   | 1                                                   | Cumings, Mrs. John Bradley (Florence Briggs Thayer) | female                                              | 38                                                  | 1                                                   | 0                                                   | PC 17599                                            | 71.2833                                             | C85                                                 | C                                                   |\n",
       "| 3                                                   | 1                                                   | 3                                                   | Heikkinen, Miss. Laina                              | female                                              | 26                                                  | 0                                                   | 0                                                   | STON/O2. 3101282                                    |  7.9250                                             | NA                                                  | S                                                   |\n",
       "| 4                                                   | 1                                                   | 1                                                   | Futrelle, Mrs. Jacques Heath (Lily May Peel)        | female                                              | 35                                                  | 1                                                   | 0                                                   | 113803                                              | 53.1000                                             | C123                                                | S                                                   |\n",
       "| 5                                                   | 0                                                   | 3                                                   | Allen, Mr. William Henry                            | male                                                | 35                                                  | 0                                                   | 0                                                   | 373450                                              |  8.0500                                             | NA                                                  | S                                                   |\n",
       "| 6                                                   | 0                                                   | 3                                                   | Moran, Mr. James                                    | male                                                | NA                                                  | 0                                                   | 0                                                   | 330877                                              |  8.4583                                             | NA                                                  | Q                                                   |\n",
       "\n"
      ],
      "text/plain": [
       "  PassengerId Survived Pclass\n",
       "1 1           0        3     \n",
       "2 2           1        1     \n",
       "3 3           1        3     \n",
       "4 4           1        1     \n",
       "5 5           0        3     \n",
       "6 6           0        3     \n",
       "  Name                                                Sex    Age SibSp Parch\n",
       "1 Braund, Mr. Owen Harris                             male   22  1     0    \n",
       "2 Cumings, Mrs. John Bradley (Florence Briggs Thayer) female 38  1     0    \n",
       "3 Heikkinen, Miss. Laina                              female 26  0     0    \n",
       "4 Futrelle, Mrs. Jacques Heath (Lily May Peel)        female 35  1     0    \n",
       "5 Allen, Mr. William Henry                            male   35  0     0    \n",
       "6 Moran, Mr. James                                    male   NA  0     0    \n",
       "  Ticket           Fare    Cabin Embarked\n",
       "1 A/5 21171         7.2500 NA    S       \n",
       "2 PC 17599         71.2833 C85   C       \n",
       "3 STON/O2. 3101282  7.9250 NA    S       \n",
       "4 113803           53.1000 C123  S       \n",
       "5 373450            8.0500 NA    S       \n",
       "6 330877            8.4583 NA    Q       "
      ]
     },
     "metadata": {},
     "output_type": "display_data"
    }
   ],
   "source": [
    "df <- read.csv(\"../datasets/titanic/train.csv\", na.strings = '')\n",
    "head(df)"
   ]
  },
  {
   "cell_type": "markdown",
   "id": "cd94f2b5-8b5f-4f16-9c36-91b979af4000",
   "metadata": {},
   "source": [
    "## Pré-Processamento de Dados"
   ]
  },
  {
   "cell_type": "code",
   "execution_count": 8,
   "id": "19fc876d-4408-42ac-b599-0ea7ef504018",
   "metadata": {},
   "outputs": [
    {
     "data": {
      "text/html": [
       "<table>\n",
       "<thead><tr><th scope=col>Survived</th><th scope=col>Pclass</th><th scope=col>Name</th><th scope=col>Sex</th><th scope=col>Age</th><th scope=col>SibSp</th><th scope=col>Parch</th><th scope=col>Fare</th><th scope=col>Embarked</th></tr></thead>\n",
       "<tbody>\n",
       "\t<tr><td>0         </td><td>3         </td><td>4         </td><td>2         </td><td>-0.5921480</td><td>1         </td><td>0         </td><td>-0.5021631</td><td>3         </td></tr>\n",
       "\t<tr><td>1         </td><td>1         </td><td>5         </td><td>1         </td><td> 0.6384304</td><td>1         </td><td>0         </td><td> 0.7864036</td><td>1         </td></tr>\n",
       "\t<tr><td>1         </td><td>3         </td><td>3         </td><td>1         </td><td>-0.2845034</td><td>0         </td><td>0         </td><td>-0.4885799</td><td>3         </td></tr>\n",
       "\t<tr><td>1         </td><td>1         </td><td>5         </td><td>1         </td><td> 0.4076970</td><td>1         </td><td>0         </td><td> 0.4204941</td><td>3         </td></tr>\n",
       "\t<tr><td>0         </td><td>3         </td><td>4         </td><td>2         </td><td> 0.4076970</td><td>0         </td><td>0         </td><td>-0.4860644</td><td>3         </td></tr>\n",
       "\t<tr><td>0         </td><td>3         </td><td>4         </td><td>2         </td><td> 0.0000000</td><td>0         </td><td>0         </td><td>-0.4778481</td><td>2         </td></tr>\n",
       "</tbody>\n",
       "</table>\n"
      ],
      "text/latex": [
       "\\begin{tabular}{r|lllllllll}\n",
       " Survived & Pclass & Name & Sex & Age & SibSp & Parch & Fare & Embarked\\\\\n",
       "\\hline\n",
       "\t 0          & 3          & 4          & 2          & -0.5921480 & 1          & 0          & -0.5021631 & 3         \\\\\n",
       "\t 1          & 1          & 5          & 1          &  0.6384304 & 1          & 0          &  0.7864036 & 1         \\\\\n",
       "\t 1          & 3          & 3          & 1          & -0.2845034 & 0          & 0          & -0.4885799 & 3         \\\\\n",
       "\t 1          & 1          & 5          & 1          &  0.4076970 & 1          & 0          &  0.4204941 & 3         \\\\\n",
       "\t 0          & 3          & 4          & 2          &  0.4076970 & 0          & 0          & -0.4860644 & 3         \\\\\n",
       "\t 0          & 3          & 4          & 2          &  0.0000000 & 0          & 0          & -0.4778481 & 2         \\\\\n",
       "\\end{tabular}\n"
      ],
      "text/markdown": [
       "\n",
       "| Survived | Pclass | Name | Sex | Age | SibSp | Parch | Fare | Embarked |\n",
       "|---|---|---|---|---|---|---|---|---|\n",
       "| 0          | 3          | 4          | 2          | -0.5921480 | 1          | 0          | -0.5021631 | 3          |\n",
       "| 1          | 1          | 5          | 1          |  0.6384304 | 1          | 0          |  0.7864036 | 1          |\n",
       "| 1          | 3          | 3          | 1          | -0.2845034 | 0          | 0          | -0.4885799 | 3          |\n",
       "| 1          | 1          | 5          | 1          |  0.4076970 | 1          | 0          |  0.4204941 | 3          |\n",
       "| 0          | 3          | 4          | 2          |  0.4076970 | 0          | 0          | -0.4860644 | 3          |\n",
       "| 0          | 3          | 4          | 2          |  0.0000000 | 0          | 0          | -0.4778481 | 2          |\n",
       "\n"
      ],
      "text/plain": [
       "  Survived Pclass Name Sex Age        SibSp Parch Fare       Embarked\n",
       "1 0        3      4    2   -0.5921480 1     0     -0.5021631 3       \n",
       "2 1        1      5    1    0.6384304 1     0      0.7864036 1       \n",
       "3 1        3      3    1   -0.2845034 0     0     -0.4885799 3       \n",
       "4 1        1      5    1    0.4076970 1     0      0.4204941 3       \n",
       "5 0        3      4    2    0.4076970 0     0     -0.4860644 3       \n",
       "6 0        3      4    2    0.0000000 0     0     -0.4778481 2       "
      ]
     },
     "metadata": {},
     "output_type": "display_data"
    },
    {
     "name": "stdout",
     "output_type": "stream",
     "text": [
      "'data.frame':\t891 obs. of  9 variables:\n",
      " $ Survived: int  0 1 1 1 0 0 0 0 1 1 ...\n",
      " $ Pclass  : Factor w/ 3 levels \"1\",\"2\",\"3\": 3 1 3 1 3 3 1 3 3 2 ...\n",
      " $ Name    : Factor w/ 7 levels \"1\",\"2\",\"3\",\"4\",..: 4 5 3 5 4 4 4 2 5 5 ...\n",
      " $ Sex     : Factor w/ 2 levels \"1\",\"2\": 2 1 1 1 2 2 2 2 1 1 ...\n",
      " $ Age     : num  -0.592 0.638 -0.285 0.408 0.408 ...\n",
      " $ SibSp   : int  1 1 0 1 0 0 0 3 0 1 ...\n",
      " $ Parch   : int  0 0 0 0 0 0 0 1 2 0 ...\n",
      " $ Fare    : num  -0.502 0.786 -0.489 0.42 -0.486 ...\n",
      " $ Embarked: Factor w/ 3 levels \"1\",\"2\",\"3\": 3 1 3 3 3 2 3 3 3 1 ...\n"
     ]
    }
   ],
   "source": [
    "# Extração de Pronomes\n",
    "df$Name <- ifelse(grepl(\", Mr. \", df$Name), 'Mr', as.character(df$Name))\n",
    "df$Name <- ifelse(grepl(\"Capt\", df$Name), 'Tripulacao', as.character(df$Name))\n",
    "df$Name <- ifelse(grepl(\"Don\", df$Name), 'Mr', as.character(df$Name))\n",
    "df$Name <- ifelse(grepl(\"Major\", df$Name), 'Tripulacao', as.character(df$Name))\n",
    "df$Name <- ifelse(grepl(\"Col\", df$Name), 'Tripulacao', as.character(df$Name))\n",
    "df$Name <- ifelse(grepl(\"Dr\", df$Name), 'Dr', as.character(df$Name))\n",
    "df$Name <- ifelse(grepl(\"Rev\", df$Name), 'Rev', as.character(df$Name))\n",
    "df$Name <- ifelse(grepl(\"Sir\", df$Name), 'Mr', as.character(df$Name))\n",
    "df$Name <- ifelse(grepl(\"Jonkheer\", df$Name), 'Mr', as.character(df$Name))\n",
    "df$Name <- ifelse(grepl(\"Dona\", df$Name), 'Mrs', as.character(df$Name))\n",
    "df$Name <- ifelse(grepl(\"Countess\", df$Name), 'Mrs', as.character(df$Name))\n",
    "df$Name <- ifelse(grepl(\"Mme\", df$Name), 'Mrs', as.character(df$Name))\n",
    "df$Name <- ifelse(grepl(\"Lady\", df$Name), 'Mrs', as.character(df$Name))\n",
    "df$Name <- ifelse(grepl(\"Mrs\", df$Name), 'Mrs', as.character(df$Name))\n",
    "df$Name <- ifelse(grepl(\"Mlle\", df$Name), 'Miss', as.character(df$Name))\n",
    "df$Name <- ifelse(grepl(\"Ms\", df$Name), 'Miss', as.character(df$Name))\n",
    "df$Name <- ifelse(grepl(\"Miss\", df$Name), 'Miss', as.character(df$Name))\n",
    "df$Name <- ifelse(grepl(\"Master\", df$Name), 'Master', as.character(df$Name))\n",
    "\n",
    "# Categóricas para Numéricas\n",
    "le_name <- LabelEncoder.fit(unique(df$Name))\n",
    "df$Name <- transform(le_name, df$Name)\n",
    "\n",
    "# Substituir valores ausentes/nulos\n",
    "media <- mean(df$Age, na.rm = TRUE)\n",
    "df$Age <- ifelse(is.na(df$Age), media, df$Age)\n",
    "\n",
    "t <- table(df$Embarked)\n",
    "moda <- names(t[t == max(t)])\n",
    "\n",
    "df$Embarked <- ifelse(is.na(df$Embarked), as.character(moda), as.character(df$Embarked) )\n",
    "\n",
    "# Categórico Para numérico\n",
    "le_sex <- LabelEncoder.fit(unique(df$Sex))\n",
    "df$Sex <- transform(le_sex, df$Sex)\n",
    "\n",
    "le_embarked <- LabelEncoder.fit(unique(df$Embarked))\n",
    "df$Embarked <- transform(le_embarked, df$Embarked)\n",
    "\n",
    "# Remoção de colunas\n",
    "df$PassengerId <- NULL\n",
    "df$Ticket <- NULL\n",
    "df$Cabin <- NULL\n",
    "\n",
    "#Escalonamento \n",
    "df[, c('Age', 'Fare')] <- scale(df[, c('Age', 'Fare')])\n",
    "\n",
    "df$Name = factor(df$Name)\n",
    "df$Pclass = factor(df$Pclass)\n",
    "df$Sex = factor(df$Sex)\n",
    "df$Embarked = factor(df$Embarked)\n",
    "\n",
    "head(df)\n",
    "str(df)"
   ]
  },
  {
   "cell_type": "markdown",
   "id": "8f677ed7-74c8-4c85-9b37-e11a6db80be3",
   "metadata": {},
   "source": [
    "# Divisão dos dados em treino e teste"
   ]
  },
  {
   "cell_type": "code",
   "execution_count": 9,
   "id": "8a80b5b2-e8f0-489d-8036-c1168d95000e",
   "metadata": {},
   "outputs": [],
   "source": [
    "set.seed(0)\n",
    "divisao <- sample.split(df$Survived, SplitRatio = 0.75)\n",
    "\n",
    "treino <- subset(df, divisao == TRUE)\n",
    "teste <-  subset(df, divisao == FALSE)\n",
    "\n",
    "x_train <- treino[,-1]\n",
    "y_train <- treino$Survived\n",
    "\n",
    "x_test <- teste[,-1]\n",
    "y_test <- teste$Survived"
   ]
  },
  {
   "cell_type": "markdown",
   "id": "e9ea8f2f-9999-4157-8d58-5e3b9417120d",
   "metadata": {},
   "source": [
    "## Rpart\n",
    "\n",
    "Argumentos\n",
    "\n",
    "- **x** - Uma matriz numérica ou um quadro de dados de variáveis  categóricas e/ou numéricas. Mantenha uma cópia da matriz x no resultado.\n",
    "- **y** - Vetor de classe. Mantenha uma cópia da variável dependente no resultado. Se estiver ausente e o modelo for fornecido, o padrão é FALSE.\n",
    "- **formula** - Uma fórmula da classe de formulário ~ x1 + x2 +…. Interações não são permitidas. Uma fórmula, com uma resposta, mas sem termos de interação. Se for um quadro de dados, será considerado o quadro do modelo (consulte model.frame).\n",
    "- **data** - um quadro de dados opcional para interpretar as variáveis nomeadas na fórmula.\n",
    "- **subset** - Expressão opcional dizendo que apenas um subconjunto das linhas dos dados deve ser usado no ajuste.\n",
    "- **na.action** - A ação padrão exclui todas as observações para as quais y está faltando, mas mantém aquelas nas quais um ou mais preditores estão faltando.\n",
    "- **method** - um de \"anova\", \"poisson\", \"classe\" ou \"exp\". Se o método estiver faltando, a rotina tentará fazer uma suposição inteligente. Se y é um objeto de sobrevivência, então method = \"exp\" é assumido, se y tem 2 colunas então method = \"poisson\" é assumido, se y é um fator então method = \"class\" é assumido, caso contrário method = \"anova\" é assumido. É mais sensato especificar o método diretamente, especialmente porque mais critérios podem ser adicionados à função no futuro. Alternativamente, o método pode ser uma lista de funções chamadas init, split e eval. Os exemplos são dados no arquivo tests / usersplits.R nas fontes e nas vinhetas ‘Funções de divisão gravadas pelo usuário’.\n",
    "- **model** - se lógico: manter uma cópia da moldura do modelo no resultado? Se o valor de entrada para o modelo for um quadro de modelo (provavelmente de uma chamada anterior à função rpart), esse quadro é usado em vez de construir novos dados.\n",
    "- **cost** - um vetor de custos não negativos, um para cada variável do modelo. O padrão é um para todas as variáveis. Essas são escalas a serem aplicadas ao considerar as divisões, portanto, a melhoria na divisão em uma variável é dividida por seu custo na decisão de qual divisão escolher.\n",
    "- **control** - Uma lista de opções que controlam os detalhes do algoritmo rpart. Veja rpart.control.\n",
    "- **params** - parâmetros opcionais para a função de divisão. A divisão Anova não tem parâmetros. A divisão de Poisson tem um único parâmetro, o coeficiente de variação da distribuição anterior nas taxas. O valor padrão é 1. A divisão exponencial tem o mesmo parâmetro de Poisson. Para a divisão de classificação, a lista pode conter qualquer um dos seguintes: o vetor de probabilidades anteriores (componente anterior), a matriz de perda (perda de componente) ou o índice de divisão (divisão de componente). Os antecedentes devem ser positivos e somam 1. A matriz de perda deve ter zeros na diagonal e elementos fora da diagonal positivos. O índice de divisão pode ser gini ou informações. Os padrões anteriores são proporcionais às contagens de dados, o padrão de perdas é 1 e o padrão de divisão é gini.\n",
    "\n",
    "## Controle da Árvore\n",
    "\n",
    "- **minplit** - O número mínimo de observações que devem existir em um nó para que uma divisão seja tentada.\n",
    "- **minbucket** - O número mínimo de observações em qualquer nó terminal \\<leaf>. Se apenas um de minbucket ou minsplit for especificado, o código define minsplit para minbucket * 3 ou minbucket para minsplit / 3, conforme apropriado.\n",
    "- **cp** -  Parâmetro de complexidade. Qualquer divisão que não diminua a falta de ajuste geral por um fator de cp não é tentada. Por exemplo, com a divisão de anova, isso significa que o R-quadrado geral deve aumentar em cp em cada etapa. A principal função desse parâmetro é economizar tempo de computação eliminando divisões que obviamente não valem a pena. Essencialmente, o usuário informa ao programa que qualquer divisão que não melhore o ajuste por cp provavelmente será eliminada por validação cruzada e que, portanto, o programa não precisa persegui-la.\n",
    "- **maxcompete** - O número de divisões do concorrente retido na saída. É útil saber não apenas qual divisão foi escolhida, mas qual variável veio em segundo, terceiro, etc.\n",
    "- **maxsurrogate** - O número de divisões substitutas retidas na saída. Se for definido como zero, o tempo de cálculo será reduzido, uma vez que aproximadamente metade do tempo de cálculo (além da configuração) é usado na pesquisa de divisões substitutas.\n",
    "- **usesurrogate** - Como usar substitutos no processo de divisão. 0 significa apenas exibição; uma observação com um valor ausente para a regra de divisão primária não é enviada mais adiante na árvore. 1 significa usar substitutos, em ordem, para dividir os sujeitos sem a variável primária; se faltarem todos os substitutos, a observação não é dividida. Para o valor 2, se todos os substitutos estiverem faltando, envie a observação na direção da maioria. O valor 0 corresponde à ação da árvore e 2 às recomendações de Breiman et.al (1984).\n",
    "- **xval** - Número de validações cruzadas.\n",
    "- **surrogatestyle** - Controla a seleção de um melhor substituto. Se definido como 0 (padrão), o programa usa o número total de classificações corretas para uma variável substituta potencial; se definido como 1, ele usa o percentual correto, calculado sobre os valores não omissos do substituto. A primeira opção penaliza mais severamente as covariáveis com um grande número de valores ausentes.\n",
    "- **maxdepth** - Profundidade máxima. Defina a profundidade máxima de qualquer nó da árvore final, com o nó raiz contado como profundidade 0. Valores maiores que 30 rpart darão resultados absurdos em máquinas de 32 bits."
   ]
  },
  {
   "cell_type": "code",
   "execution_count": 10,
   "id": "e8865cfd-2ea9-43e0-bc43-f0d9b0c70cf3",
   "metadata": {},
   "outputs": [],
   "source": [
    "x <- cbind(x_train, y_train)\n",
    "\n",
    "classificador <- rpart(y_train ~ ., data = x, method = 'class')"
   ]
  },
  {
   "cell_type": "markdown",
   "id": "376ed119-97c5-4efb-a2c0-36f718fba76d",
   "metadata": {},
   "source": [
    "## Exibir o Gráfico de Decisção\n",
    "\n",
    "- **plot**\n",
    "- **text**\n",
    "- **rpart.plot**\n",
    "- **summary**"
   ]
  },
  {
   "cell_type": "code",
   "execution_count": 11,
   "id": "313ee118-0ee0-4da4-866d-bb88b97e72b0",
   "metadata": {},
   "outputs": [
    {
     "data": {
      "text/plain": [
       "n= 668 \n",
       "\n",
       "node), split, n, loss, yval, (yprob)\n",
       "      * denotes terminal node\n",
       "\n",
       "  1) root 668 256 0 (0.61676647 0.38323353)  \n",
       "    2) Name=4,6 402  61 0 (0.84825871 0.15174129)  \n",
       "      4) Fare< -0.1194415 301  29 0 (0.90365449 0.09634551) *\n",
       "      5) Fare>=-0.1194415 101  32 0 (0.68316832 0.31683168)  \n",
       "       10) Fare>=-0.109254 87  22 0 (0.74712644 0.25287356) *\n",
       "       11) Fare< -0.109254 14   4 1 (0.28571429 0.71428571) *\n",
       "    3) Name=1,2,3,5,7 266  71 1 (0.26691729 0.73308271)  \n",
       "      6) Pclass=3 117  58 0 (0.50427350 0.49572650)  \n",
       "       12) Fare>=-0.1711335 30   3 0 (0.90000000 0.10000000) *\n",
       "       13) Fare< -0.1711335 87  32 1 (0.36781609 0.63218391)  \n",
       "         26) Age>=0.03079839 13   4 0 (0.69230769 0.30769231) *\n",
       "         27) Age< 0.03079839 74  23 1 (0.31081081 0.68918919)  \n",
       "           54) Fare>=-0.4893345 48  19 1 (0.39583333 0.60416667)  \n",
       "            108) Fare< -0.4500516 14   4 0 (0.71428571 0.28571429) *\n",
       "            109) Fare>=-0.4500516 34   9 1 (0.26470588 0.73529412) *\n",
       "           55) Fare< -0.4893345 26   4 1 (0.15384615 0.84615385) *\n",
       "      7) Pclass=1,2 149  12 1 (0.08053691 0.91946309) *"
      ]
     },
     "metadata": {},
     "output_type": "display_data"
    }
   ],
   "source": [
    "classificador"
   ]
  },
  {
   "cell_type": "code",
   "execution_count": 12,
   "id": "5d8b175f-da71-4b53-bb32-2d0378c99679",
   "metadata": {},
   "outputs": [
    {
     "name": "stdout",
     "output_type": "stream",
     "text": [
      "Call:\n",
      "rpart(formula = y_train ~ ., data = x, method = \"class\")\n",
      "  n= 668 \n",
      "\n",
      "          CP nsplit rel error    xerror       xstd\n",
      "1 0.48437500      0 1.0000000 1.0000000 0.04908405\n",
      "2 0.04687500      1 0.5156250 0.5273438 0.04054173\n",
      "3 0.01953125      3 0.4218750 0.4570312 0.03837431\n",
      "4 0.01171875      4 0.4023438 0.4648438 0.03863060\n",
      "5 0.01000000      8 0.3554688 0.4453125 0.03798211\n",
      "\n",
      "Variable importance\n",
      "    Name      Sex     Fare    Parch    SibSp      Age   Pclass Embarked \n",
      "      28       24       14        9        8        8        7        1 \n",
      "\n",
      "Node number 1: 668 observations,    complexity param=0.484375\n",
      "  predicted class=0  expected loss=0.3832335  P(node) =1\n",
      "    class counts:   412   256\n",
      "   probabilities: 0.617 0.383 \n",
      "  left son=2 (402 obs) right son=3 (266 obs)\n",
      "  Primary splits:\n",
      "      Name     splits as  RRRLRLR, improve=108.199100, (0 missing)\n",
      "      Sex      splits as  RL, improve=103.594100, (0 missing)\n",
      "      Pclass   splits as  RRL, improve= 36.127330, (0 missing)\n",
      "      Fare     < -0.4400744 to the left,  improve= 30.070150, (0 missing)\n",
      "      Embarked splits as  RLL, improve=  8.480264, (0 missing)\n",
      "  Surrogate splits:\n",
      "      Sex   splits as  RL, agree=0.948, adj=0.868, (0 split)\n",
      "      Parch < 0.5        to the left,  agree=0.714, adj=0.282, (0 split)\n",
      "      SibSp < 0.5        to the left,  agree=0.677, adj=0.188, (0 split)\n",
      "      Age   < -1.092071  to the right, agree=0.674, adj=0.180, (0 split)\n",
      "      Fare  < 0.6434441  to the left,  agree=0.657, adj=0.139, (0 split)\n",
      "\n",
      "Node number 2: 402 observations,    complexity param=0.01171875\n",
      "  predicted class=0  expected loss=0.1517413  P(node) =0.6017964\n",
      "    class counts:   341    61\n",
      "   probabilities: 0.848 0.152 \n",
      "  left son=4 (301 obs) right son=5 (101 obs)\n",
      "  Primary splits:\n",
      "      Fare     < -0.1194415 to the left,  improve=7.3528300, (0 missing)\n",
      "      Pclass   splits as  RLL, improve=6.6125250, (0 missing)\n",
      "      Embarked splits as  RLL, improve=1.2189050, (0 missing)\n",
      "      Age      < -0.322959  to the left,  improve=0.9486790, (0 missing)\n",
      "      SibSp    < 1.5        to the right, improve=0.1504058, (0 missing)\n",
      "  Surrogate splits:\n",
      "      Pclass splits as  RLL, agree=0.928, adj=0.713, (0 split)\n",
      "      Parch  < 0.5        to the left,  agree=0.784, adj=0.139, (0 split)\n",
      "      Age    < 2.003603   to the left,  agree=0.764, adj=0.059, (0 split)\n",
      "      SibSp  < 2.5        to the left,  agree=0.761, adj=0.050, (0 split)\n",
      "\n",
      "Node number 3: 266 observations,    complexity param=0.046875\n",
      "  predicted class=1  expected loss=0.2669173  P(node) =0.3982036\n",
      "    class counts:    71   195\n",
      "   probabilities: 0.267 0.733 \n",
      "  left son=6 (117 obs) right son=7 (149 obs)\n",
      "  Primary splits:\n",
      "      Pclass   splits as  RRL, improve=23.534900, (0 missing)\n",
      "      SibSp    < 2.5        to the right, improve=21.990050, (0 missing)\n",
      "      Fare     < 0.3218895  to the left,  improve= 7.298582, (0 missing)\n",
      "      Sex      splits as  RL, improve= 3.858783, (0 missing)\n",
      "      Embarked splits as  RLL, improve= 3.665277, (0 missing)\n",
      "  Surrogate splits:\n",
      "      Fare     < -0.1309279 to the left,  agree=0.771, adj=0.479, (0 split)\n",
      "      SibSp    < 2.5        to the right, agree=0.650, adj=0.205, (0 split)\n",
      "      Embarked splits as  RLR, agree=0.650, adj=0.205, (0 split)\n",
      "      Age      < 0.0115706  to the left,  agree=0.643, adj=0.188, (0 split)\n",
      "      Name     splits as  RLL-R-R, agree=0.609, adj=0.111, (0 split)\n",
      "\n",
      "Node number 4: 301 observations\n",
      "  predicted class=0  expected loss=0.09634551  P(node) =0.4505988\n",
      "    class counts:   272    29\n",
      "   probabilities: 0.904 0.096 \n",
      "\n",
      "Node number 5: 101 observations,    complexity param=0.01171875\n",
      "  predicted class=0  expected loss=0.3168317  P(node) =0.1511976\n",
      "    class counts:    69    32\n",
      "   probabilities: 0.683 0.317 \n",
      "  left son=10 (87 obs) right son=11 (14 obs)\n",
      "  Primary splits:\n",
      "      Fare   < -0.109254  to the right, improve=5.134923, (0 missing)\n",
      "      Pclass splits as  RLR, improve=2.478328, (0 missing)\n",
      "      Age    < 1.676731   to the right, improve=2.459537, (0 missing)\n",
      "      Parch  < 0.5        to the right, improve=2.316928, (0 missing)\n",
      "      SibSp  < 0.5        to the right, improve=1.902671, (0 missing)\n",
      "\n",
      "Node number 6: 117 observations,    complexity param=0.046875\n",
      "  predicted class=0  expected loss=0.4957265  P(node) =0.1751497\n",
      "    class counts:    59    58\n",
      "   probabilities: 0.504 0.496 \n",
      "  left son=12 (30 obs) right son=13 (87 obs)\n",
      "  Primary splits:\n",
      "      Fare     < -0.1711335 to the right, improve=12.635960, (0 missing)\n",
      "      SibSp    < 2.5        to the right, improve=10.989640, (0 missing)\n",
      "      Parch    < 0.5        to the right, improve= 4.188034, (0 missing)\n",
      "      Embarked splits as  RRL, improve= 3.764095, (0 missing)\n",
      "      Age      < -1.399715  to the left,  improve= 2.363858, (0 missing)\n",
      "  Surrogate splits:\n",
      "      SibSp < 2.5        to the right, agree=0.906, adj=0.633, (0 split)\n",
      "      Parch < 1.5        to the right, agree=0.838, adj=0.367, (0 split)\n",
      "      Name  splits as  -LR-R--, agree=0.812, adj=0.267, (0 split)\n",
      "      Sex   splits as  RL, agree=0.812, adj=0.267, (0 split)\n",
      "      Age   < -1.399715  to the left,  agree=0.812, adj=0.267, (0 split)\n",
      "\n",
      "Node number 7: 149 observations\n",
      "  predicted class=1  expected loss=0.08053691  P(node) =0.2230539\n",
      "    class counts:    12   137\n",
      "   probabilities: 0.081 0.919 \n",
      "\n",
      "Node number 10: 87 observations\n",
      "  predicted class=0  expected loss=0.2528736  P(node) =0.1302395\n",
      "    class counts:    65    22\n",
      "   probabilities: 0.747 0.253 \n",
      "\n",
      "Node number 11: 14 observations\n",
      "  predicted class=1  expected loss=0.2857143  P(node) =0.02095808\n",
      "    class counts:     4    10\n",
      "   probabilities: 0.286 0.714 \n",
      "\n",
      "Node number 12: 30 observations\n",
      "  predicted class=0  expected loss=0.1  P(node) =0.04491018\n",
      "    class counts:    27     3\n",
      "   probabilities: 0.900 0.100 \n",
      "\n",
      "Node number 13: 87 observations,    complexity param=0.01953125\n",
      "  predicted class=1  expected loss=0.3678161  P(node) =0.1302395\n",
      "    class counts:    32    55\n",
      "   probabilities: 0.368 0.632 \n",
      "  left son=26 (13 obs) right son=27 (74 obs)\n",
      "  Primary splits:\n",
      "      Age      < 0.03079839 to the right, improve=3.2186060, (0 missing)\n",
      "      Embarked splits as  RRL, improve=1.4780300, (0 missing)\n",
      "      Fare     < -0.4893345 to the right, improve=1.3908050, (0 missing)\n",
      "      Parch    < 0.5        to the left,  improve=0.2518897, (0 missing)\n",
      "      SibSp    < 0.5        to the right, improve=0.1495428, (0 missing)\n",
      "\n",
      "Node number 26: 13 observations\n",
      "  predicted class=0  expected loss=0.3076923  P(node) =0.01946108\n",
      "    class counts:     9     4\n",
      "   probabilities: 0.692 0.308 \n",
      "\n",
      "Node number 27: 74 observations,    complexity param=0.01171875\n",
      "  predicted class=1  expected loss=0.3108108  P(node) =0.1107784\n",
      "    class counts:    23    51\n",
      "   probabilities: 0.311 0.689 \n",
      "  left son=54 (48 obs) right son=55 (26 obs)\n",
      "  Primary splits:\n",
      "      Fare     < -0.4893345 to the right, improve=1.9751390, (0 missing)\n",
      "      Embarked splits as  RRL, improve=1.6309080, (0 missing)\n",
      "      Parch    < 0.5        to the left,  improve=0.5141860, (0 missing)\n",
      "      Age      < -0.9767038 to the right, improve=0.4620247, (0 missing)\n",
      "      SibSp    < 0.5        to the right, improve=0.3015995, (0 missing)\n",
      "  Surrogate splits:\n",
      "      Embarked splits as  LRL, agree=0.784, adj=0.385, (0 split)\n",
      "      SibSp    < 0.5        to the right, agree=0.689, adj=0.115, (0 split)\n",
      "\n",
      "Node number 54: 48 observations,    complexity param=0.01171875\n",
      "  predicted class=1  expected loss=0.3958333  P(node) =0.07185629\n",
      "    class counts:    19    29\n",
      "   probabilities: 0.396 0.604 \n",
      "  left son=108 (14 obs) right son=109 (34 obs)\n",
      "  Primary splits:\n",
      "      Fare     < -0.4500516 to the left,  improve=4.008754, (0 missing)\n",
      "      Parch    < 0.5        to the left,  improve=2.159785, (0 missing)\n",
      "      Name     splits as  -RL-R--, improve=1.608768, (0 missing)\n",
      "      Age      < -1.188209  to the right, improve=1.307228, (0 missing)\n",
      "      Embarked splits as  RRL, improve=1.107154, (0 missing)\n",
      "\n",
      "Node number 55: 26 observations\n",
      "  predicted class=1  expected loss=0.1538462  P(node) =0.03892216\n",
      "    class counts:     4    22\n",
      "   probabilities: 0.154 0.846 \n",
      "\n",
      "Node number 108: 14 observations\n",
      "  predicted class=0  expected loss=0.2857143  P(node) =0.02095808\n",
      "    class counts:    10     4\n",
      "   probabilities: 0.714 0.286 \n",
      "\n",
      "Node number 109: 34 observations\n",
      "  predicted class=1  expected loss=0.2647059  P(node) =0.0508982\n",
      "    class counts:     9    25\n",
      "   probabilities: 0.265 0.735 \n",
      "\n"
     ]
    }
   ],
   "source": [
    "summary(classificador)"
   ]
  },
  {
   "cell_type": "code",
   "execution_count": 13,
   "id": "a8fff60d-f164-47a8-be1c-9adce6f4df69",
   "metadata": {},
   "outputs": [
    {
     "data": {
      "image/png": "[encoded data removed]",
      "text/plain": [
       "plot without title"
      ]
     },
     "metadata": {},
     "output_type": "display_data"
    }
   ],
   "source": [
    "rpart.plot(classificador)"
   ]
  },
  {
   "cell_type": "markdown",
   "id": "5fd165f0-cde0-48c5-818f-26b0e49e1ddd",
   "metadata": {},
   "source": [
    "# Prever um valor\n",
    "\n",
    "- Pode prever uma classe especificando **tupe = 'class'**\n",
    "- Caso seja omitido irá prever a probabildiade por cada classe"
   ]
  },
  {
   "cell_type": "code",
   "execution_count": 14,
   "id": "f7b085fe-e595-4d3c-9127-fb6c64599ce6",
   "metadata": {},
   "outputs": [
    {
     "data": {
      "text/html": [
       "<strong>1:</strong> 1\n",
       "<details>\n",
       "\t<summary style=display:list-item;cursor:pointer>\n",
       "\t\t<strong>Levels</strong>:\n",
       "\t</summary>\n",
       "\t<ol class=list-inline>\n",
       "\t\t<li>'0'</li>\n",
       "\t\t<li>'1'</li>\n",
       "\t</ol>\n",
       "</details>"
      ],
      "text/latex": [
       "\\textbf{1:} 1\n",
       "\\emph{Levels}: \\begin{enumerate*}\n",
       "\\item '0'\n",
       "\\item '1'\n",
       "\\end{enumerate*}\n"
      ],
      "text/markdown": [
       "**1:** 1\n",
       "**Levels**: 1. '0'\n",
       "2. '1'\n",
       "\n",
       "\n"
      ],
      "text/plain": [
       "1 \n",
       "1 \n",
       "Levels: 0 1"
      ]
     },
     "metadata": {},
     "output_type": "display_data"
    }
   ],
   "source": [
    "Pclass <- 1\n",
    "Name <- 'Miss'\n",
    "Sex <- 'female'\n",
    "Age <- 5\n",
    "SibSp <- 1\n",
    "Parch <- 1\n",
    "Fare <- 500\n",
    "Embarked <- 'C'\n",
    "\n",
    "data = data.frame(Pclass, Name, Sex, Age, SibSp, Parch, Fare, Embarked)\n",
    "\n",
    "#Tratando os Dados\n",
    "# Categóricas para Numéricas\n",
    "\n",
    "data$Name <- transform(le_name, as.character(data$Name))\n",
    "data$Sex  <- transform(le_sex, (data$Sex))\n",
    "data$Embarked <- transform(le_embarked, as.character(data$Embarked))\n",
    "\n",
    "data$Name = factor(data$Name)\n",
    "data$Pclass = factor(data$Pclass)\n",
    "data$Sex = factor(data$Sex)\n",
    "data$Embarked = factor(data$Embarked)\n",
    "\n",
    "data[, c('Age', 'Fare')] <- scale(data[, c('Age', 'Fare')])\n",
    "\n",
    "#Classificando\n",
    "previsao = predict(classificador, newdata = data, type = 'class')\n",
    "previsao"
   ]
  },
  {
   "cell_type": "markdown",
   "id": "ee27bb6f-232a-4584-8b1c-dc13dcff7085",
   "metadata": {},
   "source": [
    "## Prever os dados de Teste"
   ]
  },
  {
   "cell_type": "code",
   "execution_count": 15,
   "id": "8ea493c0-4823-441f-a06a-9188665557e3",
   "metadata": {},
   "outputs": [
    {
     "data": {
      "text/html": [
       "79.8206278026906"
      ],
      "text/latex": [
       "79.8206278026906"
      ],
      "text/markdown": [
       "79.8206278026906"
      ],
      "text/plain": [
       "[1] 79.82063"
      ]
     },
     "metadata": {},
     "output_type": "display_data"
    }
   ],
   "source": [
    "previsao = predict(classificador, newdata = x_test, type = 'class')\n",
    "\n",
    "acuracia = 100 * sum(previsao == y_test)/length(y_test)\n",
    "\n",
    "acuracia"
   ]
  },
  {
   "cell_type": "markdown",
   "id": "fefefe96-b26f-4974-938c-1e50b2587c4a",
   "metadata": {},
   "source": [
    "# Matriz de Confusão\n",
    "\n",
    "- A função **table** realiza o agrupamento dos dados\n",
    "- A função **confusionMatriz** da biblioteca **caret** também calcula a matriz de confusão + as métricas"
   ]
  },
  {
   "cell_type": "code",
   "execution_count": 16,
   "id": "2080d991-cedc-472c-96ff-f7e4eed495d5",
   "metadata": {},
   "outputs": [
    {
     "data": {
      "text/plain": [
       "      previsao\n",
       "y_test   0   1\n",
       "     0 117  20\n",
       "     1  25  61"
      ]
     },
     "metadata": {},
     "output_type": "display_data"
    }
   ],
   "source": [
    "matriz_confusao = table(y_test, previsao)\n",
    "matriz_confusao"
   ]
  },
  {
   "cell_type": "code",
   "execution_count": 17,
   "id": "63d176ff-453d-4c39-a85f-76f0751c0c84",
   "metadata": {},
   "outputs": [
    {
     "data": {
      "text/plain": [
       "Confusion Matrix and Statistics\n",
       "\n",
       "          Reference\n",
       "Prediction   0   1\n",
       "         0 117  25\n",
       "         1  20  61\n",
       "                                          \n",
       "               Accuracy : 0.7982          \n",
       "                 95% CI : (0.7395, 0.8488)\n",
       "    No Information Rate : 0.6143          \n",
       "    P-Value [Acc > NIR] : 2.877e-09       \n",
       "                                          \n",
       "                  Kappa : 0.5695          \n",
       "                                          \n",
       " Mcnemar's Test P-Value : 0.551           \n",
       "                                          \n",
       "            Sensitivity : 0.8540          \n",
       "            Specificity : 0.7093          \n",
       "         Pos Pred Value : 0.8239          \n",
       "         Neg Pred Value : 0.7531          \n",
       "             Prevalence : 0.6143          \n",
       "         Detection Rate : 0.5247          \n",
       "   Detection Prevalence : 0.6368          \n",
       "      Balanced Accuracy : 0.7817          \n",
       "                                          \n",
       "       'Positive' Class : 0               \n",
       "                                          "
      ]
     },
     "metadata": {},
     "output_type": "display_data"
    }
   ],
   "source": [
    "matriz = confusionMatrix(factor(previsao), factor(y_test))\n",
    "matriz"
   ]
  },
  {
   "cell_type": "markdown",
   "id": "9f66006d-24bf-420d-8356-27e3122a20e7",
   "metadata": {},
   "source": [
    "## Personalizando a Matriz de Confusão"
   ]
  },
  {
   "cell_type": "code",
   "execution_count": 18,
   "id": "3c229fda-591e-47ee-8b6c-a881f9918d35",
   "metadata": {},
   "outputs": [
    {
     "data": {
      "image/png": "[encoded data removed]",
      "text/plain": [
       "Plot with title \"Color Key\""
      ]
     },
     "metadata": {},
     "output_type": "display_data"
    }
   ],
   "source": [
    "my_palette <- colorRampPalette(c(\"red\", \"yellow\", \"green\"))\n",
    "\n",
    "col_breaks = c(0:50, 51:100, 101:300)\n",
    "\n",
    "heatmap.2(matriz_confusao,\n",
    "    Rowv = 'NA',\n",
    "    cellnote = matriz_confusao, \n",
    "    main = \"Matriz de Confusão\",\n",
    "    notecol=\"black\",      \n",
    "    density.info=\"none\",  \n",
    "    trace=\"none\",        \n",
    "    col=my_palette,       \n",
    "    breaks=col_breaks,   \n",
    "    dendrogram= 'none',     \n",
    "    Colv=\"NA\" \n",
    ")"
   ]
  },
  {
   "cell_type": "markdown",
   "id": "56f4cc86-031a-4570-9ad6-f66b3c1050b0",
   "metadata": {},
   "source": [
    "# Métricas\n",
    "\n",
    "- **Precisão** que é a fração de instâncias recuperadas que são relevantes, \n",
    "- **Recall** - que é a fração de instâncias relevantes que são recuperadas \n",
    "- **f-score** - é 2 * precisão * recall / (precisão + recall) é "
   ]
  },
  {
   "cell_type": "code",
   "execution_count": 19,
   "id": "c1f4d29d-a678-4a76-90e7-39cb151143c5",
   "metadata": {},
   "outputs": [
    {
     "data": {
      "text/html": [
       "0.823943661971831"
      ],
      "text/latex": [
       "0.823943661971831"
      ],
      "text/markdown": [
       "0.823943661971831"
      ],
      "text/plain": [
       "[1] 0.8239437"
      ]
     },
     "metadata": {},
     "output_type": "display_data"
    },
    {
     "data": {
      "text/html": [
       "'Morto'"
      ],
      "text/latex": [
       "'Morto'"
      ],
      "text/markdown": [
       "'Morto'"
      ],
      "text/plain": [
       "[1] \"Morto\""
      ]
     },
     "metadata": {},
     "output_type": "display_data"
    },
    {
     "data": {
      "text/html": [
       "0.753086419753086"
      ],
      "text/latex": [
       "0.753086419753086"
      ],
      "text/markdown": [
       "0.753086419753086"
      ],
      "text/plain": [
       "[1] 0.7530864"
      ]
     },
     "metadata": {},
     "output_type": "display_data"
    },
    {
     "data": {
      "text/html": [
       "'Vivo'"
      ],
      "text/latex": [
       "'Vivo'"
      ],
      "text/markdown": [
       "'Vivo'"
      ],
      "text/plain": [
       "[1] \"Vivo\""
      ]
     },
     "metadata": {},
     "output_type": "display_data"
    },
    {
     "data": {
      "text/html": [
       "0.823943661971831"
      ],
      "text/latex": [
       "0.823943661971831"
      ],
      "text/markdown": [
       "0.823943661971831"
      ],
      "text/plain": [
       "[1] 0.8239437"
      ]
     },
     "metadata": {},
     "output_type": "display_data"
    }
   ],
   "source": [
    "precision(factor(previsao), factor(y_test))\n",
    "'Morto'\n",
    "precision(factor(previsao), factor(y_test), relevant = 2)\n",
    "'Vivo'\n",
    "precision(factor(previsao), factor(y_test), relevant = 1)"
   ]
  },
  {
   "cell_type": "code",
   "execution_count": 20,
   "id": "38219021-a6a6-410e-86a3-589bc6d6f574",
   "metadata": {},
   "outputs": [
    {
     "data": {
      "text/html": [
       "0.854014598540146"
      ],
      "text/latex": [
       "0.854014598540146"
      ],
      "text/markdown": [
       "0.854014598540146"
      ],
      "text/plain": [
       "[1] 0.8540146"
      ]
     },
     "metadata": {},
     "output_type": "display_data"
    },
    {
     "data": {
      "text/html": [
       "'Morto'"
      ],
      "text/latex": [
       "'Morto'"
      ],
      "text/markdown": [
       "'Morto'"
      ],
      "text/plain": [
       "[1] \"Morto\""
      ]
     },
     "metadata": {},
     "output_type": "display_data"
    },
    {
     "data": {
      "text/html": [
       "0.709302325581395"
      ],
      "text/latex": [
       "0.709302325581395"
      ],
      "text/markdown": [
       "0.709302325581395"
      ],
      "text/plain": [
       "[1] 0.7093023"
      ]
     },
     "metadata": {},
     "output_type": "display_data"
    },
    {
     "data": {
      "text/html": [
       "'Vivo'"
      ],
      "text/latex": [
       "'Vivo'"
      ],
      "text/markdown": [
       "'Vivo'"
      ],
      "text/plain": [
       "[1] \"Vivo\""
      ]
     },
     "metadata": {},
     "output_type": "display_data"
    },
    {
     "data": {
      "text/html": [
       "0.854014598540146"
      ],
      "text/latex": [
       "0.854014598540146"
      ],
      "text/markdown": [
       "0.854014598540146"
      ],
      "text/plain": [
       "[1] 0.8540146"
      ]
     },
     "metadata": {},
     "output_type": "display_data"
    }
   ],
   "source": [
    "recall(factor(previsao), factor(y_test))\n",
    "'Morto'\n",
    "recall(factor(previsao), factor(y_test), relevant = 2)\n",
    "'Vivo'\n",
    "recall(factor(previsao), factor(y_test), relevant = 1)"
   ]
  },
  {
   "cell_type": "code",
   "execution_count": 21,
   "id": "1c2f0412-dcf4-4f64-9939-28c56eb6eb93",
   "metadata": {},
   "outputs": [
    {
     "data": {
      "text/html": [
       "0.838709677419355"
      ],
      "text/latex": [
       "0.838709677419355"
      ],
      "text/markdown": [
       "0.838709677419355"
      ],
      "text/plain": [
       "[1] 0.8387097"
      ]
     },
     "metadata": {},
     "output_type": "display_data"
    },
    {
     "data": {
      "text/html": [
       "'Morto'"
      ],
      "text/latex": [
       "'Morto'"
      ],
      "text/markdown": [
       "'Morto'"
      ],
      "text/plain": [
       "[1] \"Morto\""
      ]
     },
     "metadata": {},
     "output_type": "display_data"
    },
    {
     "data": {
      "text/html": [
       "0.730538922155689"
      ],
      "text/latex": [
       "0.730538922155689"
      ],
      "text/markdown": [
       "0.730538922155689"
      ],
      "text/plain": [
       "[1] 0.7305389"
      ]
     },
     "metadata": {},
     "output_type": "display_data"
    },
    {
     "data": {
      "text/html": [
       "'Vivo'"
      ],
      "text/latex": [
       "'Vivo'"
      ],
      "text/markdown": [
       "'Vivo'"
      ],
      "text/plain": [
       "[1] \"Vivo\""
      ]
     },
     "metadata": {},
     "output_type": "display_data"
    },
    {
     "data": {
      "text/html": [
       "0.838709677419355"
      ],
      "text/latex": [
       "0.838709677419355"
      ],
      "text/markdown": [
       "0.838709677419355"
      ],
      "text/plain": [
       "[1] 0.8387097"
      ]
     },
     "metadata": {},
     "output_type": "display_data"
    }
   ],
   "source": [
    "F_meas(factor(previsao), factor(y_test))\n",
    "'Morto'\n",
    "F_meas(factor(previsao), factor(y_test), relevant = 2)\n",
    "'Vivo'\n",
    "F_meas(factor(previsao), factor(y_test), relevant = 1)"
   ]
  },
  {
   "cell_type": "markdown",
   "id": "0f44309e-2633-4003-80a5-aa1e81298a48",
   "metadata": {},
   "source": [
    "# Poder a Árvore\n",
    "\n",
    "- Podemos definir uma profundidade e erro na contrução do classificador\n",
    "- Para fazer a poda de um classificador já contruído devemos usar a função **prune** e especificar a complexidade.\n",
    "- Para encontrar o menor erro possível usamos o **cptable**"
   ]
  },
  {
   "cell_type": "code",
   "execution_count": 22,
   "id": "27660fc0-9953-45d3-8c02-9c2a13bb2f38",
   "metadata": {},
   "outputs": [
    {
     "data": {
      "text/html": [
       "75.3363228699552"
      ],
      "text/latex": [
       "75.3363228699552"
      ],
      "text/markdown": [
       "75.3363228699552"
      ],
      "text/plain": [
       "[1] 75.33632"
      ]
     },
     "metadata": {},
     "output_type": "display_data"
    }
   ],
   "source": [
    "poda = prune(classificador, cp = 0.1)\n",
    "\n",
    "previsao = predict(poda, newdata = x_test, type = 'class')\n",
    "acuracia = 100 * sum(previsao == y_test)/length(y_test)\n",
    "acuracia"
   ]
  },
  {
   "cell_type": "code",
   "execution_count": 23,
   "id": "115552f0-aa54-488c-9cce-f5b5eea7a3c8",
   "metadata": {},
   "outputs": [
    {
     "data": {
      "image/png": "[encoded data removed]",
      "text/plain": [
       "plot without title"
      ]
     },
     "metadata": {},
     "output_type": "display_data"
    }
   ],
   "source": [
    "rpart.plot(poda)"
   ]
  },
  {
   "cell_type": "code",
   "execution_count": 24,
   "id": "84a854a9-3141-4589-8c78-646b3b11375f",
   "metadata": {},
   "outputs": [
    {
     "data": {
      "text/html": [
       "79.8206278026906"
      ],
      "text/latex": [
       "79.8206278026906"
      ],
      "text/markdown": [
       "79.8206278026906"
      ],
      "text/plain": [
       "[1] 79.82063"
      ]
     },
     "metadata": {},
     "output_type": "display_data"
    }
   ],
   "source": [
    "cp = classificador$cptable[which.min(classificador$cptable[,\"xerror\"]), \"CP\"]\n",
    "poda = prune(classificador, cp = 0.0009)\n",
    "\n",
    "previsao = predict(poda, newdata = x_test, type = 'class')\n",
    "acuracia = 100 * sum(previsao == y_test)/length(y_test)\n",
    "acuracia"
   ]
  },
  {
   "cell_type": "markdown",
   "id": "c05e0846-1cb6-473b-8382-a3f54641933c",
   "metadata": {},
   "source": [
    "# Validação Cruzada\n",
    "\n",
    "- **method = cv** - indica que iremos usar o método crossvalidation\n",
    "- **number = 10** - define o número de fold\n",
    "- **method = rpart** - indica que iremos usar o algorítmo árvores de Decisão"
   ]
  },
  {
   "cell_type": "code",
   "execution_count": 30,
   "id": "83037a3a-1d53-492f-a962-35f48b44a913",
   "metadata": {},
   "outputs": [
    {
     "data": {
      "text/html": [
       "<table>\n",
       "<thead><tr><th scope=col>cp</th><th scope=col>Accuracy</th><th scope=col>Kappa</th><th scope=col>AccuracySD</th><th scope=col>KappaSD</th></tr></thead>\n",
       "<tbody>\n",
       "\t<tr><td>0.01461988</td><td>0.8180774 </td><td>0.6085040 </td><td>0.05149845</td><td>0.1153241 </td></tr>\n",
       "\t<tr><td>0.05263158</td><td>0.7833084 </td><td>0.5420961 </td><td>0.04736588</td><td>0.1029624 </td></tr>\n",
       "\t<tr><td>0.43567251</td><td>0.6959426 </td><td>0.2850658 </td><td>0.07385894</td><td>0.2484823 </td></tr>\n",
       "</tbody>\n",
       "</table>\n"
      ],
      "text/latex": [
       "\\begin{tabular}{r|lllll}\n",
       " cp & Accuracy & Kappa & AccuracySD & KappaSD\\\\\n",
       "\\hline\n",
       "\t 0.01461988 & 0.8180774  & 0.6085040  & 0.05149845 & 0.1153241 \\\\\n",
       "\t 0.05263158 & 0.7833084  & 0.5420961  & 0.04736588 & 0.1029624 \\\\\n",
       "\t 0.43567251 & 0.6959426  & 0.2850658  & 0.07385894 & 0.2484823 \\\\\n",
       "\\end{tabular}\n"
      ],
      "text/markdown": [
       "\n",
       "| cp | Accuracy | Kappa | AccuracySD | KappaSD |\n",
       "|---|---|---|---|---|\n",
       "| 0.01461988 | 0.8180774  | 0.6085040  | 0.05149845 | 0.1153241  |\n",
       "| 0.05263158 | 0.7833084  | 0.5420961  | 0.04736588 | 0.1029624  |\n",
       "| 0.43567251 | 0.6959426  | 0.2850658  | 0.07385894 | 0.2484823  |\n",
       "\n"
      ],
      "text/plain": [
       "  cp         Accuracy  Kappa     AccuracySD KappaSD  \n",
       "1 0.01461988 0.8180774 0.6085040 0.05149845 0.1153241\n",
       "2 0.05263158 0.7833084 0.5420961 0.04736588 0.1029624\n",
       "3 0.43567251 0.6959426 0.2850658 0.07385894 0.2484823"
      ]
     },
     "metadata": {},
     "output_type": "display_data"
    }
   ],
   "source": [
    "controle_treinamento = trainControl(method = 'cv', number = 10)\n",
    "df$Survived = factor(df$Survived)\n",
    "modelo = train(Survived ~ ., data = df, trControl = controle_treinamento, method = 'rpart')\n",
    "modelo$results"
   ]
  },
  {
   "cell_type": "code",
   "execution_count": null,
   "id": "adeeb479-4167-44ac-92fd-d4ea04d88382",
   "metadata": {},
   "outputs": [],
   "source": []
  }
 ],
 "metadata": {
  "kernelspec": {
   "display_name": "R",
   "language": "R",
   "name": "ir"
  },
  "language_info": {
   "codemirror_mode": "r",
   "file_extension": ".r",
   "mimetype": "text/x-r-source",
   "name": "R",
   "pygments_lexer": "r",
   "version": "3.6.1"
  }
 },
 "nbformat": 4,
 "nbformat_minor": 5
}
