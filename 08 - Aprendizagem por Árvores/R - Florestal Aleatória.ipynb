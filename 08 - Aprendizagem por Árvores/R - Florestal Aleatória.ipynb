{
 "cells": [
  {
   "cell_type": "markdown",
   "id": "8e11d4dd-faa5-4e18-87a2-32cf4df51cb9",
   "metadata": {},
   "source": [
    "# Floresta Aleatória"
   ]
  },
  {
   "cell_type": "markdown",
   "id": "82817b9b-196d-4f95-b507-f6f68ebd10eb",
   "metadata": {},
   "source": [
    "## Carregando Biblioteca"
   ]
  },
  {
   "cell_type": "code",
   "execution_count": 7,
   "id": "79191084-f8a6-48f2-9efa-cca2bf714ba7",
   "metadata": {},
   "outputs": [],
   "source": [
    "library(repr)\n",
    "library(caTools)\n",
    "options(repr.plot.width = 8, repr.plot.height = 8)\n",
    "#Floresta Aleatória\n",
    "library(randomForest)\n",
    "#Preprocessamento\n",
    "library(CatEncoders)\n",
    "library(gplots)\n",
    "#Matricas\n",
    "library(caret)"
   ]
  },
  {
   "cell_type": "markdown",
   "id": "7a14f725-2ff0-433f-8b9b-b6e360d657f3",
   "metadata": {},
   "source": [
    "## Carregando os dados"
   ]
  },
  {
   "cell_type": "code",
   "execution_count": 8,
   "id": "73f280a4-c492-4e5b-826a-ff821b8102dd",
   "metadata": {},
   "outputs": [
    {
     "data": {
      "text/html": [
       "<table>\n",
       "<thead><tr><th scope=col>PassengerId</th><th scope=col>Survived</th><th scope=col>Pclass</th><th scope=col>Name</th><th scope=col>Sex</th><th scope=col>Age</th><th scope=col>SibSp</th><th scope=col>Parch</th><th scope=col>Ticket</th><th scope=col>Fare</th><th scope=col>Cabin</th><th scope=col>Embarked</th></tr></thead>\n",
       "<tbody>\n",
       "\t<tr><td>1                                                  </td><td>0                                                  </td><td>3                                                  </td><td>Braund, Mr. Owen Harris                            </td><td>male                                               </td><td>22                                                 </td><td>1                                                  </td><td>0                                                  </td><td>A/5 21171                                          </td><td> 7.2500                                            </td><td>NA                                                 </td><td>S                                                  </td></tr>\n",
       "\t<tr><td>2                                                  </td><td>1                                                  </td><td>1                                                  </td><td>Cumings, Mrs. John Bradley (Florence Briggs Thayer)</td><td>female                                             </td><td>38                                                 </td><td>1                                                  </td><td>0                                                  </td><td>PC 17599                                           </td><td>71.2833                                            </td><td>C85                                                </td><td>C                                                  </td></tr>\n",
       "\t<tr><td>3                                                  </td><td>1                                                  </td><td>3                                                  </td><td>Heikkinen, Miss. Laina                             </td><td>female                                             </td><td>26                                                 </td><td>0                                                  </td><td>0                                                  </td><td>STON/O2. 3101282                                   </td><td> 7.9250                                            </td><td>NA                                                 </td><td>S                                                  </td></tr>\n",
       "\t<tr><td>4                                                  </td><td>1                                                  </td><td>1                                                  </td><td>Futrelle, Mrs. Jacques Heath (Lily May Peel)       </td><td>female                                             </td><td>35                                                 </td><td>1                                                  </td><td>0                                                  </td><td>113803                                             </td><td>53.1000                                            </td><td>C123                                               </td><td>S                                                  </td></tr>\n",
       "\t<tr><td>5                                                  </td><td>0                                                  </td><td>3                                                  </td><td>Allen, Mr. William Henry                           </td><td>male                                               </td><td>35                                                 </td><td>0                                                  </td><td>0                                                  </td><td>373450                                             </td><td> 8.0500                                            </td><td>NA                                                 </td><td>S                                                  </td></tr>\n",
       "\t<tr><td>6                                                  </td><td>0                                                  </td><td>3                                                  </td><td>Moran, Mr. James                                   </td><td>male                                               </td><td>NA                                                 </td><td>0                                                  </td><td>0                                                  </td><td>330877                                             </td><td> 8.4583                                            </td><td>NA                                                 </td><td>Q                                                  </td></tr>\n",
       "</tbody>\n",
       "</table>\n"
      ],
      "text/latex": [
       "\\begin{tabular}{r|llllllllllll}\n",
       " PassengerId & Survived & Pclass & Name & Sex & Age & SibSp & Parch & Ticket & Fare & Cabin & Embarked\\\\\n",
       "\\hline\n",
       "\t 1                                                   & 0                                                   & 3                                                   & Braund, Mr. Owen Harris                             & male                                                & 22                                                  & 1                                                   & 0                                                   & A/5 21171                                           &  7.2500                                             & NA                                                  & S                                                  \\\\\n",
       "\t 2                                                   & 1                                                   & 1                                                   & Cumings, Mrs. John Bradley (Florence Briggs Thayer) & female                                              & 38                                                  & 1                                                   & 0                                                   & PC 17599                                            & 71.2833                                             & C85                                                 & C                                                  \\\\\n",
       "\t 3                                                   & 1                                                   & 3                                                   & Heikkinen, Miss. Laina                              & female                                              & 26                                                  & 0                                                   & 0                                                   & STON/O2. 3101282                                    &  7.9250                                             & NA                                                  & S                                                  \\\\\n",
       "\t 4                                                   & 1                                                   & 1                                                   & Futrelle, Mrs. Jacques Heath (Lily May Peel)        & female                                              & 35                                                  & 1                                                   & 0                                                   & 113803                                              & 53.1000                                             & C123                                                & S                                                  \\\\\n",
       "\t 5                                                   & 0                                                   & 3                                                   & Allen, Mr. William Henry                            & male                                                & 35                                                  & 0                                                   & 0                                                   & 373450                                              &  8.0500                                             & NA                                                  & S                                                  \\\\\n",
       "\t 6                                                   & 0                                                   & 3                                                   & Moran, Mr. James                                    & male                                                & NA                                                  & 0                                                   & 0                                                   & 330877                                              &  8.4583                                             & NA                                                  & Q                                                  \\\\\n",
       "\\end{tabular}\n"
      ],
      "text/markdown": [
       "\n",
       "| PassengerId | Survived | Pclass | Name | Sex | Age | SibSp | Parch | Ticket | Fare | Cabin | Embarked |\n",
       "|---|---|---|---|---|---|---|---|---|---|---|---|\n",
       "| 1                                                   | 0                                                   | 3                                                   | Braund, Mr. Owen Harris                             | male                                                | 22                                                  | 1                                                   | 0                                                   | A/5 21171                                           |  7.2500                                             | NA                                                  | S                                                   |\n",
       "| 2                                                   | 1                                                   | 1                                                   | Cumings, Mrs. John Bradley (Florence Briggs Thayer) | female                                              | 38                                                  | 1                                                   | 0                                                   | PC 17599                                            | 71.2833                                             | C85                                                 | C                                                   |\n",
       "| 3                                                   | 1                                                   | 3                                                   | Heikkinen, Miss. Laina                              | female                                              | 26                                                  | 0                                                   | 0                                                   | STON/O2. 3101282                                    |  7.9250                                             | NA                                                  | S                                                   |\n",
       "| 4                                                   | 1                                                   | 1                                                   | Futrelle, Mrs. Jacques Heath (Lily May Peel)        | female                                              | 35                                                  | 1                                                   | 0                                                   | 113803                                              | 53.1000                                             | C123                                                | S                                                   |\n",
       "| 5                                                   | 0                                                   | 3                                                   | Allen, Mr. William Henry                            | male                                                | 35                                                  | 0                                                   | 0                                                   | 373450                                              |  8.0500                                             | NA                                                  | S                                                   |\n",
       "| 6                                                   | 0                                                   | 3                                                   | Moran, Mr. James                                    | male                                                | NA                                                  | 0                                                   | 0                                                   | 330877                                              |  8.4583                                             | NA                                                  | Q                                                   |\n",
       "\n"
      ],
      "text/plain": [
       "  PassengerId Survived Pclass\n",
       "1 1           0        3     \n",
       "2 2           1        1     \n",
       "3 3           1        3     \n",
       "4 4           1        1     \n",
       "5 5           0        3     \n",
       "6 6           0        3     \n",
       "  Name                                                Sex    Age SibSp Parch\n",
       "1 Braund, Mr. Owen Harris                             male   22  1     0    \n",
       "2 Cumings, Mrs. John Bradley (Florence Briggs Thayer) female 38  1     0    \n",
       "3 Heikkinen, Miss. Laina                              female 26  0     0    \n",
       "4 Futrelle, Mrs. Jacques Heath (Lily May Peel)        female 35  1     0    \n",
       "5 Allen, Mr. William Henry                            male   35  0     0    \n",
       "6 Moran, Mr. James                                    male   NA  0     0    \n",
       "  Ticket           Fare    Cabin Embarked\n",
       "1 A/5 21171         7.2500 NA    S       \n",
       "2 PC 17599         71.2833 C85   C       \n",
       "3 STON/O2. 3101282  7.9250 NA    S       \n",
       "4 113803           53.1000 C123  S       \n",
       "5 373450            8.0500 NA    S       \n",
       "6 330877            8.4583 NA    Q       "
      ]
     },
     "metadata": {},
     "output_type": "display_data"
    }
   ],
   "source": [
    "df <- read.csv(\"../datasets/titanic/train.csv\", na.strings = '')\n",
    "head(df)"
   ]
  },
  {
   "cell_type": "markdown",
   "id": "cd94f2b5-8b5f-4f16-9c36-91b979af4000",
   "metadata": {},
   "source": [
    "## Pré-Processamento de Dados"
   ]
  },
  {
   "cell_type": "code",
   "execution_count": 9,
   "id": "19fc876d-4408-42ac-b599-0ea7ef504018",
   "metadata": {},
   "outputs": [
    {
     "data": {
      "text/html": [
       "<table>\n",
       "<thead><tr><th scope=col>Survived</th><th scope=col>Pclass</th><th scope=col>Name</th><th scope=col>Sex</th><th scope=col>Age</th><th scope=col>SibSp</th><th scope=col>Parch</th><th scope=col>Fare</th><th scope=col>Embarked</th></tr></thead>\n",
       "<tbody>\n",
       "\t<tr><td>0         </td><td>3         </td><td>Mr        </td><td>male      </td><td>-0.5921480</td><td>1         </td><td>0         </td><td>-0.5021631</td><td>S         </td></tr>\n",
       "\t<tr><td>1         </td><td>1         </td><td>Mrs       </td><td>female    </td><td> 0.6384304</td><td>1         </td><td>0         </td><td> 0.7864036</td><td>C         </td></tr>\n",
       "\t<tr><td>1         </td><td>3         </td><td>Miss      </td><td>female    </td><td>-0.2845034</td><td>0         </td><td>0         </td><td>-0.4885799</td><td>S         </td></tr>\n",
       "\t<tr><td>1         </td><td>1         </td><td>Mrs       </td><td>female    </td><td> 0.4076970</td><td>1         </td><td>0         </td><td> 0.4204941</td><td>S         </td></tr>\n",
       "\t<tr><td>0         </td><td>3         </td><td>Mr        </td><td>male      </td><td> 0.4076970</td><td>0         </td><td>0         </td><td>-0.4860644</td><td>S         </td></tr>\n",
       "\t<tr><td>0         </td><td>3         </td><td>Mr        </td><td>male      </td><td> 0.0000000</td><td>0         </td><td>0         </td><td>-0.4778481</td><td>Q         </td></tr>\n",
       "</tbody>\n",
       "</table>\n"
      ],
      "text/latex": [
       "\\begin{tabular}{r|lllllllll}\n",
       " Survived & Pclass & Name & Sex & Age & SibSp & Parch & Fare & Embarked\\\\\n",
       "\\hline\n",
       "\t 0          & 3          & Mr         & male       & -0.5921480 & 1          & 0          & -0.5021631 & S         \\\\\n",
       "\t 1          & 1          & Mrs        & female     &  0.6384304 & 1          & 0          &  0.7864036 & C         \\\\\n",
       "\t 1          & 3          & Miss       & female     & -0.2845034 & 0          & 0          & -0.4885799 & S         \\\\\n",
       "\t 1          & 1          & Mrs        & female     &  0.4076970 & 1          & 0          &  0.4204941 & S         \\\\\n",
       "\t 0          & 3          & Mr         & male       &  0.4076970 & 0          & 0          & -0.4860644 & S         \\\\\n",
       "\t 0          & 3          & Mr         & male       &  0.0000000 & 0          & 0          & -0.4778481 & Q         \\\\\n",
       "\\end{tabular}\n"
      ],
      "text/markdown": [
       "\n",
       "| Survived | Pclass | Name | Sex | Age | SibSp | Parch | Fare | Embarked |\n",
       "|---|---|---|---|---|---|---|---|---|\n",
       "| 0          | 3          | Mr         | male       | -0.5921480 | 1          | 0          | -0.5021631 | S          |\n",
       "| 1          | 1          | Mrs        | female     |  0.6384304 | 1          | 0          |  0.7864036 | C          |\n",
       "| 1          | 3          | Miss       | female     | -0.2845034 | 0          | 0          | -0.4885799 | S          |\n",
       "| 1          | 1          | Mrs        | female     |  0.4076970 | 1          | 0          |  0.4204941 | S          |\n",
       "| 0          | 3          | Mr         | male       |  0.4076970 | 0          | 0          | -0.4860644 | S          |\n",
       "| 0          | 3          | Mr         | male       |  0.0000000 | 0          | 0          | -0.4778481 | Q          |\n",
       "\n"
      ],
      "text/plain": [
       "  Survived Pclass Name Sex    Age        SibSp Parch Fare       Embarked\n",
       "1 0        3      Mr   male   -0.5921480 1     0     -0.5021631 S       \n",
       "2 1        1      Mrs  female  0.6384304 1     0      0.7864036 C       \n",
       "3 1        3      Miss female -0.2845034 0     0     -0.4885799 S       \n",
       "4 1        1      Mrs  female  0.4076970 1     0      0.4204941 S       \n",
       "5 0        3      Mr   male    0.4076970 0     0     -0.4860644 S       \n",
       "6 0        3      Mr   male    0.0000000 0     0     -0.4778481 Q       "
      ]
     },
     "metadata": {},
     "output_type": "display_data"
    },
    {
     "name": "stdout",
     "output_type": "stream",
     "text": [
      "'data.frame':\t891 obs. of  9 variables:\n",
      " $ Survived: Factor w/ 2 levels \"0\",\"1\": 1 2 2 2 1 1 1 1 2 2 ...\n",
      " $ Pclass  : Factor w/ 3 levels \"1\",\"2\",\"3\": 3 1 3 1 3 3 1 3 3 2 ...\n",
      " $ Name    : Factor w/ 7 levels \"Dr\",\"Master\",..: 4 5 3 5 4 4 4 2 5 5 ...\n",
      " $ Sex     : Factor w/ 2 levels \"female\",\"male\": 2 1 1 1 2 2 2 2 1 1 ...\n",
      " $ Age     : num  -0.592 0.638 -0.285 0.408 0.408 ...\n",
      " $ SibSp   : int  1 1 0 1 0 0 0 3 0 1 ...\n",
      " $ Parch   : int  0 0 0 0 0 0 0 1 2 0 ...\n",
      " $ Fare    : num  -0.502 0.786 -0.489 0.42 -0.486 ...\n",
      " $ Embarked: Factor w/ 3 levels \"C\",\"Q\",\"S\": 3 1 3 3 3 2 3 3 3 1 ...\n"
     ]
    }
   ],
   "source": [
    "# Extração de Pronomes\n",
    "df$Name <- ifelse(grepl(\", Mr. \", df$Name), 'Mr', as.character(df$Name))\n",
    "df$Name <- ifelse(grepl(\"Capt\", df$Name), 'Tripulacao', as.character(df$Name))\n",
    "df$Name <- ifelse(grepl(\"Don\", df$Name), 'Mr', as.character(df$Name))\n",
    "df$Name <- ifelse(grepl(\"Major\", df$Name), 'Tripulacao', as.character(df$Name))\n",
    "df$Name <- ifelse(grepl(\"Col\", df$Name), 'Tripulacao', as.character(df$Name))\n",
    "df$Name <- ifelse(grepl(\"Dr\", df$Name), 'Dr', as.character(df$Name))\n",
    "df$Name <- ifelse(grepl(\"Rev\", df$Name), 'Rev', as.character(df$Name))\n",
    "df$Name <- ifelse(grepl(\"Sir\", df$Name), 'Mr', as.character(df$Name))\n",
    "df$Name <- ifelse(grepl(\"Jonkheer\", df$Name), 'Mr', as.character(df$Name))\n",
    "df$Name <- ifelse(grepl(\"Dona\", df$Name), 'Mrs', as.character(df$Name))\n",
    "df$Name <- ifelse(grepl(\"Countess\", df$Name), 'Mrs', as.character(df$Name))\n",
    "df$Name <- ifelse(grepl(\"Mme\", df$Name), 'Mrs', as.character(df$Name))\n",
    "df$Name <- ifelse(grepl(\"Lady\", df$Name), 'Mrs', as.character(df$Name))\n",
    "df$Name <- ifelse(grepl(\"Mrs\", df$Name), 'Mrs', as.character(df$Name))\n",
    "df$Name <- ifelse(grepl(\"Mlle\", df$Name), 'Miss', as.character(df$Name))\n",
    "df$Name <- ifelse(grepl(\"Ms\", df$Name), 'Miss', as.character(df$Name))\n",
    "df$Name <- ifelse(grepl(\"Miss\", df$Name), 'Miss', as.character(df$Name))\n",
    "df$Name <- ifelse(grepl(\"Master\", df$Name), 'Master', as.character(df$Name))\n",
    "\n",
    "\n",
    "# Substituir valores ausentes/nulos\n",
    "media <- mean(df$Age, na.rm = TRUE)\n",
    "df$Age <- ifelse(is.na(df$Age), media, df$Age)\n",
    "\n",
    "t <- table(df$Embarked)\n",
    "moda <- names(t[t == max(t)])\n",
    "\n",
    "df$Embarked <- ifelse(is.na(df$Embarked), as.character(moda), as.character(df$Embarked) )\n",
    "\n",
    "# Remoção de colunas\n",
    "df$PassengerId <- NULL\n",
    "df$Ticket <- NULL\n",
    "df$Cabin <- NULL\n",
    "\n",
    "#Escalonamento \n",
    "df[, c('Age', 'Fare')] <- scale(df[, c('Age', 'Fare')])\n",
    "\n",
    "df$Name = factor(df$Name)\n",
    "df$Pclass = factor(df$Pclass)\n",
    "df$Sex = factor(df$Sex)\n",
    "df$Embarked = factor(df$Embarked)\n",
    "df$Survived = factor(df$Survived)\n",
    "\n",
    "head(df)\n",
    "str(df)"
   ]
  },
  {
   "cell_type": "markdown",
   "id": "8f677ed7-74c8-4c85-9b37-e11a6db80be3",
   "metadata": {},
   "source": [
    "# Divisão dos dados em treino e teste"
   ]
  },
  {
   "cell_type": "code",
   "execution_count": 10,
   "id": "8a80b5b2-e8f0-489d-8036-c1168d95000e",
   "metadata": {},
   "outputs": [],
   "source": [
    "set.seed(0)\n",
    "divisao <- sample.split(df$Survived, SplitRatio = 0.75)\n",
    "\n",
    "treino <- subset(df, divisao == TRUE)\n",
    "teste <-  subset(df, divisao == FALSE)\n",
    "\n",
    "x_train <- treino[,-1]\n",
    "y_train <- treino$Survived\n",
    "\n",
    "x_test <- teste[,-1]\n",
    "y_test <- teste$Survived"
   ]
  },
  {
   "cell_type": "markdown",
   "id": "e9ea8f2f-9999-4157-8d58-5e3b9417120d",
   "metadata": {},
   "source": [
    "## RandomFlorest\n",
    "\n",
    "Argumentos\n",
    "\n",
    "- **x** - Uma matriz numérica ou um quadro de dados de variáveis  categóricas e/ou numéricas. Mantenha uma cópia da matriz x no resultado.\n",
    "- **y** - Vetor de classe. Mantenha uma cópia da variável dependente no resultado. Se estiver ausente e o modelo for fornecido, o padrão é FALSE.\n",
    "- **formula** - Uma fórmula da classe de formulário ~ x1 + x2 +…. Interações não são permitidas. Uma fórmula, com uma resposta, mas sem termos de interação. Se for um quadro de dados, será considerado o quadro do modelo (consulte model.frame).\n",
    "- **xtest** - Um quadro de dados ou matriz (como x) contendo preditores para o conjunto de teste.\n",
    "- **ytest** - Resposta para o conjunto de teste.\n",
    "- **ntree** - Número de árvores a crescer. Não deve ser definido como um número muito pequeno, para garantir que cada linha de entrada seja prevista pelo menos algumas vezes.\n",
    "- **mtry** - Número de variáveis amostradas aleatoriamente como candidatas em cada divisão. Observe que os valores padrão são diferentes para classificação (sqrt (p) onde p é o número de variáveis em x) e regressão (p / 3) \n",
    "- **replace** - A amostragem de casos deve ser feita com ou sem reposição?\n",
    "- **classwt** - Priores das aulas. Não precisa somar um. Ignorado para regressão.\n",
    "- **cutoff** - (Somente classificação) Um vetor de comprimento igual ao número de classes. A classe 'vencedora' de uma observação é aquela com a proporção máxima de votos para corte. O padrão é 1 / k, onde k é o número de classes (ou seja, o voto da maioria vence).\n",
    "- **strata** - Uma variável (fator) que é usada para amostragem estratificada. \n",
    "- **sampsize** - Tamanho (s) da amostra a ser retirada. Para classificação, se sampsize é um vetor do comprimento do número de estratos, então a amostragem é estratificada por estratos, e os elementos de sampsize indicam os números a serem extraídos dos estratos.\n",
    "- **nodesize** - Tamanho mínimo dos nós terminais. Definir esse número como maior faz com que árvores menores cresçam (e, portanto, leve menos tempo). Observe que os valores padrão são diferentes para classificação (1) e regressão \n",
    "- **maxnodes** - O número máximo de árvores de nós terminais pode ter na floresta. Se não for fornecido, as árvores são cultivadas ao máximo possível (sujeito a limites por tamanho de nó). Se definido maior do que o máximo possível, um aviso é emitido.\n",
    "- **importance** - A importância dos preditores deve ser avaliada?\n",
    "- **localImp** - A medida de importância do caso deve ser calculada? (Definir como TRUE substituirá a importância.)\n",
    "- **nPerm** - Número de vezes que os dados OOB são permutados por árvore para avaliar a importância da variável. Um número maior que 1 fornece uma estimativa um pouco mais estável, mas não muito eficaz. Atualmente implementado apenas para regressão.\n",
    "- **proximity** - A medida de proximidade entre as linhas deve ser calculada?\n",
    "oob.prox.  A proximidade deve ser calculada apenas em dados \"out-of-bag\"?\n",
    "- **norm.votes** - Se TRUE (padrão), o resultado final dos votos é expresso como frações. Se FALSE, as contagens brutas de votos são retornadas (útil para combinar resultados de diferentes execuções). Ignorado para regressão.\n",
    "- **do.trace** - Se definido como TRUE, fornece uma saída mais detalhada quando randomForest é executado. Se definido como algum inteiro, a saída em execução é impressa para cada árvore do.trace.\n",
    "- **keep.forest** - Se definido como FALSE, a floresta não será retida no objeto de saída. Se xtest for fornecido, o padrão é FALSE.\n",
    "- **corr.bias** - realizar correção de viés para regressão? Nota: Experimental. Use por sua conta e risco.\n",
    "- **keep.inbag** - Deve ser retornada uma matriz n por ntree que mantém o controle de quais amostras estão \"no saco\" em quais árvores (mas não quantas vezes, se amostragem com substituição)\n",
    "\n",
    "## Atributos\n",
    "\n",
    "- **ntree** - Números de árvores\n",
    "- **mtry** - Número de preditores amostrados para divisão em cada nó. \n",
    "- **florest** - (uma lista que contém a floresta inteira; NULL se randomForest for executado no modo não supervisionado ou se keep.forest = FALSE.\n",
    "- **err.rate** - (apenas classificação) taxas de erro do vetor da previsão nos dados de entrada, sendo o i-ésimo elemento a taxa de erro (OOB) para todas as árvores até o i-ésimo.\n",
    "- **confusion** - (apenas classificação) a matriz de confusão da previsão (com base em dados OOB).\n",
    "- **votes** - (apenas classificação) uma matriz com uma linha para cada ponto de dados de entrada e uma coluna para cada classe, dando a fração ou número de 'votos' (OOB) da floresta aleatória.\n",
    "- **oob.times** - Número de vezes que os casos estão 'fora do saco' (e, portanto, usados no cálculo da estimativa de erro OOB)\n",
    "- **proximity** -  se proximidade = TRUE quando randomForest é chamado, uma matriz de medidas de proximidade entre a entrada (com base na frequência com que os pares de pontos de dados estão nos mesmos nós terminais).\n",
    "- **mse** - (regressão apenas) vetor de erros quadráticos médios: soma dos resíduos quadrados dividida por n.\n",
    "- **rsq** - (somente regressão) 'pseudo R-quadrado': 1 - mse / Var (y).\n",
    "- **teste** - se o conjunto de teste for fornecido (por meio dos argumentos xtest ou adicionalmente ytest), este componente é uma lista que contém o correspondente predito, err.rate, confusão, votos (para classificação) ou predito, mse e rsq (para regressão) para o teste definir. Se proximidade = TRUE, também há um componente, proximidade, que contém a proximidade entre o conjunto de teste, bem como a proximidade entre os dados de teste e treinamento. "
   ]
  },
  {
   "cell_type": "code",
   "execution_count": 11,
   "id": "e8865cfd-2ea9-43e0-bc43-f0d9b0c70cf3",
   "metadata": {},
   "outputs": [],
   "source": [
    "x <- cbind(x_train, y_train)\n",
    "classificador <- randomForest(y_train ~ ., data = x, ntree = 10, importance = T)"
   ]
  },
  {
   "cell_type": "markdown",
   "id": "376ed119-97c5-4efb-a2c0-36f718fba76d",
   "metadata": {},
   "source": [
    "## Exibir o Gráfico de Decisção\n",
    "\n",
    "- **plot**\n",
    "- **text**\n",
    "- **rpart.plot**\n",
    "- **summary**"
   ]
  },
  {
   "cell_type": "code",
   "execution_count": 12,
   "id": "313ee118-0ee0-4da4-866d-bb88b97e72b0",
   "metadata": {},
   "outputs": [
    {
     "data": {
      "text/plain": [
       "\n",
       "Call:\n",
       " randomForest(formula = y_train ~ ., data = x, ntree = 10, importance = T) \n",
       "               Type of random forest: classification\n",
       "                     Number of trees: 10\n",
       "No. of variables tried at each split: 2\n",
       "\n",
       "        OOB estimate of  error rate: 19.39%\n",
       "Confusion matrix:\n",
       "    0   1 class.error\n",
       "0 360  46   0.1133005\n",
       "1  82 172   0.3228346"
      ]
     },
     "metadata": {},
     "output_type": "display_data"
    }
   ],
   "source": [
    "classificador"
   ]
  },
  {
   "cell_type": "code",
   "execution_count": 13,
   "id": "5d8b175f-da71-4b53-bb32-2d0378c99679",
   "metadata": {},
   "outputs": [
    {
     "data": {
      "text/plain": [
       "                Length Class  Mode     \n",
       "call               5   -none- call     \n",
       "type               1   -none- character\n",
       "predicted        668   factor numeric  \n",
       "err.rate          30   -none- numeric  \n",
       "confusion          6   -none- numeric  \n",
       "votes           1336   matrix numeric  \n",
       "oob.times        668   -none- numeric  \n",
       "classes            2   -none- character\n",
       "importance        32   -none- numeric  \n",
       "importanceSD      24   -none- numeric  \n",
       "localImportance    0   -none- NULL     \n",
       "proximity          0   -none- NULL     \n",
       "ntree              1   -none- numeric  \n",
       "mtry               1   -none- numeric  \n",
       "forest            14   -none- list     \n",
       "y                668   factor numeric  \n",
       "test               0   -none- NULL     \n",
       "inbag              0   -none- NULL     \n",
       "terms              3   terms  call     "
      ]
     },
     "metadata": {},
     "output_type": "display_data"
    }
   ],
   "source": [
    "summary(classificador)"
   ]
  },
  {
   "cell_type": "markdown",
   "id": "ee27bb6f-232a-4584-8b1c-dc13dcff7085",
   "metadata": {},
   "source": [
    "## Prever os dados de Teste"
   ]
  },
  {
   "cell_type": "code",
   "execution_count": 14,
   "id": "8ea493c0-4823-441f-a06a-9188665557e3",
   "metadata": {},
   "outputs": [
    {
     "data": {
      "text/html": [
       "81.1659192825112"
      ],
      "text/latex": [
       "81.1659192825112"
      ],
      "text/markdown": [
       "81.1659192825112"
      ],
      "text/plain": [
       "[1] 81.16592"
      ]
     },
     "metadata": {},
     "output_type": "display_data"
    }
   ],
   "source": [
    "previsao = predict(classificador, newdata = x_test, type = 'class')\n",
    "\n",
    "acuracia = 100 * sum(previsao == y_test)/length(y_test)\n",
    "\n",
    "acuracia"
   ]
  },
  {
   "cell_type": "markdown",
   "id": "fefefe96-b26f-4974-938c-1e50b2587c4a",
   "metadata": {},
   "source": [
    "# Matriz de Confusão\n",
    "\n",
    "- A função **table** realiza o agrupamento dos dados\n",
    "- A função **confusionMatriz** da biblioteca **caret** também calcula a matriz de confusão + as métricas\n",
    "- O atributo **confusion** da floresta também exibe a matriz de confusão"
   ]
  },
  {
   "cell_type": "code",
   "execution_count": 15,
   "id": "2080d991-cedc-472c-96ff-f7e4eed495d5",
   "metadata": {},
   "outputs": [
    {
     "data": {
      "text/plain": [
       "      previsao\n",
       "y_test   0   1\n",
       "     0 120  17\n",
       "     1  25  61"
      ]
     },
     "metadata": {},
     "output_type": "display_data"
    }
   ],
   "source": [
    "matriz_confusao = table(y_test, previsao)\n",
    "matriz_confusao"
   ]
  },
  {
   "cell_type": "code",
   "execution_count": 16,
   "id": "63d176ff-453d-4c39-a85f-76f0751c0c84",
   "metadata": {},
   "outputs": [
    {
     "data": {
      "text/plain": [
       "Confusion Matrix and Statistics\n",
       "\n",
       "          Reference\n",
       "Prediction   0   1\n",
       "         0 120  25\n",
       "         1  17  61\n",
       "                                          \n",
       "               Accuracy : 0.8117          \n",
       "                 95% CI : (0.7541, 0.8608)\n",
       "    No Information Rate : 0.6143          \n",
       "    P-Value [Acc > NIR] : 1.613e-10       \n",
       "                                          \n",
       "                  Kappa : 0.5955          \n",
       "                                          \n",
       " Mcnemar's Test P-Value : 0.2801          \n",
       "                                          \n",
       "            Sensitivity : 0.8759          \n",
       "            Specificity : 0.7093          \n",
       "         Pos Pred Value : 0.8276          \n",
       "         Neg Pred Value : 0.7821          \n",
       "             Prevalence : 0.6143          \n",
       "         Detection Rate : 0.5381          \n",
       "   Detection Prevalence : 0.6502          \n",
       "      Balanced Accuracy : 0.7926          \n",
       "                                          \n",
       "       'Positive' Class : 0               \n",
       "                                          "
      ]
     },
     "metadata": {},
     "output_type": "display_data"
    }
   ],
   "source": [
    "matriz = confusionMatrix(factor(previsao), factor(y_test))\n",
    "matriz"
   ]
  },
  {
   "cell_type": "code",
   "execution_count": 17,
   "id": "8625b0f9-dc6f-4611-bc7d-f1af079d660f",
   "metadata": {},
   "outputs": [
    {
     "data": {
      "text/html": [
       "<table>\n",
       "<thead><tr><th></th><th scope=col>0</th><th scope=col>1</th><th scope=col>class.error</th></tr></thead>\n",
       "<tbody>\n",
       "\t<tr><th scope=row>0</th><td>360      </td><td> 46      </td><td>0.1133005</td></tr>\n",
       "\t<tr><th scope=row>1</th><td> 82      </td><td>172      </td><td>0.3228346</td></tr>\n",
       "</tbody>\n",
       "</table>\n"
      ],
      "text/latex": [
       "\\begin{tabular}{r|lll}\n",
       "  & 0 & 1 & class.error\\\\\n",
       "\\hline\n",
       "\t0 & 360       &  46       & 0.1133005\\\\\n",
       "\t1 &  82       & 172       & 0.3228346\\\\\n",
       "\\end{tabular}\n"
      ],
      "text/markdown": [
       "\n",
       "| <!--/--> | 0 | 1 | class.error |\n",
       "|---|---|---|---|\n",
       "| 0 | 360       |  46       | 0.1133005 |\n",
       "| 1 |  82       | 172       | 0.3228346 |\n",
       "\n"
      ],
      "text/plain": [
       "  0   1   class.error\n",
       "0 360  46 0.1133005  \n",
       "1  82 172 0.3228346  "
      ]
     },
     "metadata": {},
     "output_type": "display_data"
    }
   ],
   "source": [
    "classificador$confusion"
   ]
  },
  {
   "cell_type": "markdown",
   "id": "9f66006d-24bf-420d-8356-27e3122a20e7",
   "metadata": {},
   "source": [
    "## Personalizando a Matriz de Confusão"
   ]
  },
  {
   "cell_type": "code",
   "execution_count": 18,
   "id": "3c229fda-591e-47ee-8b6c-a881f9918d35",
   "metadata": {},
   "outputs": [
    {
     "data": {
      "image/png": "[encoded data removed]",
      "text/plain": [
       "Plot with title \"Color Key\""
      ]
     },
     "metadata": {},
     "output_type": "display_data"
    }
   ],
   "source": [
    "my_palette <- colorRampPalette(c(\"red\", \"yellow\", \"green\"))\n",
    "\n",
    "col_breaks = c(0:50, 51:100, 101:300)\n",
    "\n",
    "heatmap.2(matriz_confusao,\n",
    "    Rowv = 'NA',\n",
    "    cellnote = matriz_confusao, \n",
    "    main = \"Matriz de Confusão\",\n",
    "    notecol=\"black\",      \n",
    "    density.info=\"none\",  \n",
    "    trace=\"none\",        \n",
    "    col=my_palette,       \n",
    "    breaks=col_breaks,   \n",
    "    dendrogram= 'none',     \n",
    "    Colv=\"NA\" \n",
    ")"
   ]
  },
  {
   "cell_type": "markdown",
   "id": "56f4cc86-031a-4570-9ad6-f66b3c1050b0",
   "metadata": {},
   "source": [
    "# Métricas\n",
    "\n",
    "- **Precisão** que é a fração de instâncias recuperadas que são relevantes, \n",
    "- **Recall** - que é a fração de instâncias relevantes que são recuperadas \n",
    "- **f-score** - é 2 * precisão * recall / (precisão + recall) é "
   ]
  },
  {
   "cell_type": "code",
   "execution_count": 19,
   "id": "c1f4d29d-a678-4a76-90e7-39cb151143c5",
   "metadata": {},
   "outputs": [
    {
     "data": {
      "text/html": [
       "0.827586206896552"
      ],
      "text/latex": [
       "0.827586206896552"
      ],
      "text/markdown": [
       "0.827586206896552"
      ],
      "text/plain": [
       "[1] 0.8275862"
      ]
     },
     "metadata": {},
     "output_type": "display_data"
    },
    {
     "data": {
      "text/html": [
       "'Morto'"
      ],
      "text/latex": [
       "'Morto'"
      ],
      "text/markdown": [
       "'Morto'"
      ],
      "text/plain": [
       "[1] \"Morto\""
      ]
     },
     "metadata": {},
     "output_type": "display_data"
    },
    {
     "data": {
      "text/html": [
       "0.782051282051282"
      ],
      "text/latex": [
       "0.782051282051282"
      ],
      "text/markdown": [
       "0.782051282051282"
      ],
      "text/plain": [
       "[1] 0.7820513"
      ]
     },
     "metadata": {},
     "output_type": "display_data"
    },
    {
     "data": {
      "text/html": [
       "'Vivo'"
      ],
      "text/latex": [
       "'Vivo'"
      ],
      "text/markdown": [
       "'Vivo'"
      ],
      "text/plain": [
       "[1] \"Vivo\""
      ]
     },
     "metadata": {},
     "output_type": "display_data"
    },
    {
     "data": {
      "text/html": [
       "0.827586206896552"
      ],
      "text/latex": [
       "0.827586206896552"
      ],
      "text/markdown": [
       "0.827586206896552"
      ],
      "text/plain": [
       "[1] 0.8275862"
      ]
     },
     "metadata": {},
     "output_type": "display_data"
    }
   ],
   "source": [
    "precision(factor(previsao), factor(y_test))\n",
    "'Morto'\n",
    "precision(factor(previsao), factor(y_test), relevant = 2)\n",
    "'Vivo'\n",
    "precision(factor(previsao), factor(y_test), relevant = 1)"
   ]
  },
  {
   "cell_type": "code",
   "execution_count": 20,
   "id": "38219021-a6a6-410e-86a3-589bc6d6f574",
   "metadata": {},
   "outputs": [
    {
     "data": {
      "text/html": [
       "0.875912408759124"
      ],
      "text/latex": [
       "0.875912408759124"
      ],
      "text/markdown": [
       "0.875912408759124"
      ],
      "text/plain": [
       "[1] 0.8759124"
      ]
     },
     "metadata": {},
     "output_type": "display_data"
    },
    {
     "data": {
      "text/html": [
       "'Morto'"
      ],
      "text/latex": [
       "'Morto'"
      ],
      "text/markdown": [
       "'Morto'"
      ],
      "text/plain": [
       "[1] \"Morto\""
      ]
     },
     "metadata": {},
     "output_type": "display_data"
    },
    {
     "data": {
      "text/html": [
       "0.709302325581395"
      ],
      "text/latex": [
       "0.709302325581395"
      ],
      "text/markdown": [
       "0.709302325581395"
      ],
      "text/plain": [
       "[1] 0.7093023"
      ]
     },
     "metadata": {},
     "output_type": "display_data"
    },
    {
     "data": {
      "text/html": [
       "'Vivo'"
      ],
      "text/latex": [
       "'Vivo'"
      ],
      "text/markdown": [
       "'Vivo'"
      ],
      "text/plain": [
       "[1] \"Vivo\""
      ]
     },
     "metadata": {},
     "output_type": "display_data"
    },
    {
     "data": {
      "text/html": [
       "0.875912408759124"
      ],
      "text/latex": [
       "0.875912408759124"
      ],
      "text/markdown": [
       "0.875912408759124"
      ],
      "text/plain": [
       "[1] 0.8759124"
      ]
     },
     "metadata": {},
     "output_type": "display_data"
    }
   ],
   "source": [
    "recall(factor(previsao), factor(y_test))\n",
    "'Morto'\n",
    "recall(factor(previsao), factor(y_test), relevant = 2)\n",
    "'Vivo'\n",
    "recall(factor(previsao), factor(y_test), relevant = 1)"
   ]
  },
  {
   "cell_type": "code",
   "execution_count": 21,
   "id": "1c2f0412-dcf4-4f64-9939-28c56eb6eb93",
   "metadata": {},
   "outputs": [
    {
     "data": {
      "text/html": [
       "0.851063829787234"
      ],
      "text/latex": [
       "0.851063829787234"
      ],
      "text/markdown": [
       "0.851063829787234"
      ],
      "text/plain": [
       "[1] 0.8510638"
      ]
     },
     "metadata": {},
     "output_type": "display_data"
    },
    {
     "data": {
      "text/html": [
       "'Morto'"
      ],
      "text/latex": [
       "'Morto'"
      ],
      "text/markdown": [
       "'Morto'"
      ],
      "text/plain": [
       "[1] \"Morto\""
      ]
     },
     "metadata": {},
     "output_type": "display_data"
    },
    {
     "data": {
      "text/html": [
       "0.74390243902439"
      ],
      "text/latex": [
       "0.74390243902439"
      ],
      "text/markdown": [
       "0.74390243902439"
      ],
      "text/plain": [
       "[1] 0.7439024"
      ]
     },
     "metadata": {},
     "output_type": "display_data"
    },
    {
     "data": {
      "text/html": [
       "'Vivo'"
      ],
      "text/latex": [
       "'Vivo'"
      ],
      "text/markdown": [
       "'Vivo'"
      ],
      "text/plain": [
       "[1] \"Vivo\""
      ]
     },
     "metadata": {},
     "output_type": "display_data"
    },
    {
     "data": {
      "text/html": [
       "0.851063829787234"
      ],
      "text/latex": [
       "0.851063829787234"
      ],
      "text/markdown": [
       "0.851063829787234"
      ],
      "text/plain": [
       "[1] 0.8510638"
      ]
     },
     "metadata": {},
     "output_type": "display_data"
    }
   ],
   "source": [
    "F_meas(factor(previsao), factor(y_test))\n",
    "'Morto'\n",
    "F_meas(factor(previsao), factor(y_test), relevant = 2)\n",
    "'Vivo'\n",
    "F_meas(factor(previsao), factor(y_test), relevant = 1)"
   ]
  },
  {
   "cell_type": "markdown",
   "id": "0f44309e-2633-4003-80a5-aa1e81298a48",
   "metadata": {},
   "source": [
    "# Ajustar Parâmetros"
   ]
  },
  {
   "cell_type": "code",
   "execution_count": 22,
   "id": "84a854a9-3141-4589-8c78-646b3b11375f",
   "metadata": {},
   "outputs": [
    {
     "data": {
      "text/html": [
       "79.8206278026906"
      ],
      "text/latex": [
       "79.8206278026906"
      ],
      "text/markdown": [
       "79.8206278026906"
      ],
      "text/plain": [
       "[1] 79.82063"
      ]
     },
     "metadata": {},
     "output_type": "display_data"
    }
   ],
   "source": [
    "x <- cbind(x_train, y_train)\n",
    "classificador <- randomForest(y_train ~ ., data = x, ntree = 500, maxnodes = 500, nodesize = 15)\n",
    "\n",
    "previsao = predict(classificador, newdata = x_test)\n",
    "acuracia = 100 * sum(previsao == y_test)/length(y_test)\n",
    "acuracia"
   ]
  },
  {
   "cell_type": "markdown",
   "id": "11f623ea-f9f9-4dae-9bd7-26a8d2d71e5f",
   "metadata": {},
   "source": [
    "# Validação Cruzada\n",
    "\n",
    "- **method = cv** - indica que iremos usar o método crossvalidation\n",
    "- **number = 10** - define o número de fold\n",
    "- **method = rf** - indica que iremos usar o algorítmo de Floresta Aleatória"
   ]
  },
  {
   "cell_type": "code",
   "execution_count": 23,
   "id": "26970065-1374-4372-8468-d2d6c3b2909a",
   "metadata": {},
   "outputs": [
    {
     "data": {
      "text/html": [
       "<table>\n",
       "<thead><tr><th scope=col>mtry</th><th scope=col>Accuracy</th><th scope=col>Kappa</th><th scope=col>AccuracySD</th><th scope=col>KappaSD</th></tr></thead>\n",
       "<tbody>\n",
       "\t<tr><td> 2        </td><td>0.8294084 </td><td>0.6315290 </td><td>0.03762176</td><td>0.08100541</td></tr>\n",
       "\t<tr><td> 8        </td><td>0.8416806 </td><td>0.6611405 </td><td>0.03487170</td><td>0.07384698</td></tr>\n",
       "\t<tr><td>15        </td><td>0.8305076 </td><td>0.6386755 </td><td>0.03291447</td><td>0.06646095</td></tr>\n",
       "</tbody>\n",
       "</table>\n"
      ],
      "text/latex": [
       "\\begin{tabular}{r|lllll}\n",
       " mtry & Accuracy & Kappa & AccuracySD & KappaSD\\\\\n",
       "\\hline\n",
       "\t  2         & 0.8294084  & 0.6315290  & 0.03762176 & 0.08100541\\\\\n",
       "\t  8         & 0.8416806  & 0.6611405  & 0.03487170 & 0.07384698\\\\\n",
       "\t 15         & 0.8305076  & 0.6386755  & 0.03291447 & 0.06646095\\\\\n",
       "\\end{tabular}\n"
      ],
      "text/markdown": [
       "\n",
       "| mtry | Accuracy | Kappa | AccuracySD | KappaSD |\n",
       "|---|---|---|---|---|\n",
       "|  2         | 0.8294084  | 0.6315290  | 0.03762176 | 0.08100541 |\n",
       "|  8         | 0.8416806  | 0.6611405  | 0.03487170 | 0.07384698 |\n",
       "| 15         | 0.8305076  | 0.6386755  | 0.03291447 | 0.06646095 |\n",
       "\n"
      ],
      "text/plain": [
       "  mtry Accuracy  Kappa     AccuracySD KappaSD   \n",
       "1  2   0.8294084 0.6315290 0.03762176 0.08100541\n",
       "2  8   0.8416806 0.6611405 0.03487170 0.07384698\n",
       "3 15   0.8305076 0.6386755 0.03291447 0.06646095"
      ]
     },
     "metadata": {},
     "output_type": "display_data"
    }
   ],
   "source": [
    "controle_treinamento = trainControl(method = 'cv', number = 10)\n",
    "df$Survived = factor(df$Survived)\n",
    "modelo = train(Survived ~ ., data = df, trControl = controle_treinamento, method = 'rf')\n",
    "modelo$results"
   ]
  },
  {
   "cell_type": "code",
   "execution_count": null,
   "id": "a1a13536-8711-4c6f-8267-16454ed7087e",
   "metadata": {},
   "outputs": [],
   "source": []
  }
 ],
 "metadata": {
  "kernelspec": {
   "display_name": "R",
   "language": "R",
   "name": "ir"
  },
  "language_info": {
   "codemirror_mode": "r",
   "file_extension": ".r",
   "mimetype": "text/x-r-source",
   "name": "R",
   "pygments_lexer": "r",
   "version": "3.6.1"
  }
 },
 "nbformat": 4,
 "nbformat_minor": 5
}
