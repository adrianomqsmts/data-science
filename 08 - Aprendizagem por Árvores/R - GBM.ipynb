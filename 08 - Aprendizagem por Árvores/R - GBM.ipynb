{
 "cells": [
  {
   "cell_type": "markdown",
   "id": "8e11d4dd-faa5-4e18-87a2-32cf4df51cb9",
   "metadata": {},
   "source": [
    "# Gradient Boosting Machines -  GBM\n",
    "\n",
    "- [GBM](https://rpubs.com/omicsdata/gbm)"
   ]
  },
  {
   "cell_type": "markdown",
   "id": "82817b9b-196d-4f95-b507-f6f68ebd10eb",
   "metadata": {},
   "source": [
    "## Carregando Biblioteca"
   ]
  },
  {
   "cell_type": "code",
   "execution_count": 2,
   "id": "79191084-f8a6-48f2-9efa-cca2bf714ba7",
   "metadata": {},
   "outputs": [],
   "source": [
    "library(repr)\n",
    "library(caTools)\n",
    "options(repr.plot.width = 8, repr.plot.height = 8)\n",
    "#Boost\n",
    "library(gbm)\n",
    "#Preprocessamento\n",
    "library(CatEncoders)\n",
    "library(gplots)\n",
    "#Matricas\n",
    "library(caret)"
   ]
  },
  {
   "cell_type": "markdown",
   "id": "7a14f725-2ff0-433f-8b9b-b6e360d657f3",
   "metadata": {},
   "source": [
    "## Carregando os dados"
   ]
  },
  {
   "cell_type": "code",
   "execution_count": 3,
   "id": "73f280a4-c492-4e5b-826a-ff821b8102dd",
   "metadata": {},
   "outputs": [
    {
     "data": {
      "text/html": [
       "<table>\n",
       "<thead><tr><th scope=col>PassengerId</th><th scope=col>Survived</th><th scope=col>Pclass</th><th scope=col>Name</th><th scope=col>Sex</th><th scope=col>Age</th><th scope=col>SibSp</th><th scope=col>Parch</th><th scope=col>Ticket</th><th scope=col>Fare</th><th scope=col>Cabin</th><th scope=col>Embarked</th></tr></thead>\n",
       "<tbody>\n",
       "\t<tr><td>1                                                  </td><td>0                                                  </td><td>3                                                  </td><td>Braund, Mr. Owen Harris                            </td><td>male                                               </td><td>22                                                 </td><td>1                                                  </td><td>0                                                  </td><td>A/5 21171                                          </td><td> 7.2500                                            </td><td>NA                                                 </td><td>S                                                  </td></tr>\n",
       "\t<tr><td>2                                                  </td><td>1                                                  </td><td>1                                                  </td><td>Cumings, Mrs. John Bradley (Florence Briggs Thayer)</td><td>female                                             </td><td>38                                                 </td><td>1                                                  </td><td>0                                                  </td><td>PC 17599                                           </td><td>71.2833                                            </td><td>C85                                                </td><td>C                                                  </td></tr>\n",
       "\t<tr><td>3                                                  </td><td>1                                                  </td><td>3                                                  </td><td>Heikkinen, Miss. Laina                             </td><td>female                                             </td><td>26                                                 </td><td>0                                                  </td><td>0                                                  </td><td>STON/O2. 3101282                                   </td><td> 7.9250                                            </td><td>NA                                                 </td><td>S                                                  </td></tr>\n",
       "\t<tr><td>4                                                  </td><td>1                                                  </td><td>1                                                  </td><td>Futrelle, Mrs. Jacques Heath (Lily May Peel)       </td><td>female                                             </td><td>35                                                 </td><td>1                                                  </td><td>0                                                  </td><td>113803                                             </td><td>53.1000                                            </td><td>C123                                               </td><td>S                                                  </td></tr>\n",
       "\t<tr><td>5                                                  </td><td>0                                                  </td><td>3                                                  </td><td>Allen, Mr. William Henry                           </td><td>male                                               </td><td>35                                                 </td><td>0                                                  </td><td>0                                                  </td><td>373450                                             </td><td> 8.0500                                            </td><td>NA                                                 </td><td>S                                                  </td></tr>\n",
       "\t<tr><td>6                                                  </td><td>0                                                  </td><td>3                                                  </td><td>Moran, Mr. James                                   </td><td>male                                               </td><td>NA                                                 </td><td>0                                                  </td><td>0                                                  </td><td>330877                                             </td><td> 8.4583                                            </td><td>NA                                                 </td><td>Q                                                  </td></tr>\n",
       "</tbody>\n",
       "</table>\n"
      ],
      "text/latex": [
       "\\begin{tabular}{r|llllllllllll}\n",
       " PassengerId & Survived & Pclass & Name & Sex & Age & SibSp & Parch & Ticket & Fare & Cabin & Embarked\\\\\n",
       "\\hline\n",
       "\t 1                                                   & 0                                                   & 3                                                   & Braund, Mr. Owen Harris                             & male                                                & 22                                                  & 1                                                   & 0                                                   & A/5 21171                                           &  7.2500                                             & NA                                                  & S                                                  \\\\\n",
       "\t 2                                                   & 1                                                   & 1                                                   & Cumings, Mrs. John Bradley (Florence Briggs Thayer) & female                                              & 38                                                  & 1                                                   & 0                                                   & PC 17599                                            & 71.2833                                             & C85                                                 & C                                                  \\\\\n",
       "\t 3                                                   & 1                                                   & 3                                                   & Heikkinen, Miss. Laina                              & female                                              & 26                                                  & 0                                                   & 0                                                   & STON/O2. 3101282                                    &  7.9250                                             & NA                                                  & S                                                  \\\\\n",
       "\t 4                                                   & 1                                                   & 1                                                   & Futrelle, Mrs. Jacques Heath (Lily May Peel)        & female                                              & 35                                                  & 1                                                   & 0                                                   & 113803                                              & 53.1000                                             & C123                                                & S                                                  \\\\\n",
       "\t 5                                                   & 0                                                   & 3                                                   & Allen, Mr. William Henry                            & male                                                & 35                                                  & 0                                                   & 0                                                   & 373450                                              &  8.0500                                             & NA                                                  & S                                                  \\\\\n",
       "\t 6                                                   & 0                                                   & 3                                                   & Moran, Mr. James                                    & male                                                & NA                                                  & 0                                                   & 0                                                   & 330877                                              &  8.4583                                             & NA                                                  & Q                                                  \\\\\n",
       "\\end{tabular}\n"
      ],
      "text/markdown": [
       "\n",
       "| PassengerId | Survived | Pclass | Name | Sex | Age | SibSp | Parch | Ticket | Fare | Cabin | Embarked |\n",
       "|---|---|---|---|---|---|---|---|---|---|---|---|\n",
       "| 1                                                   | 0                                                   | 3                                                   | Braund, Mr. Owen Harris                             | male                                                | 22                                                  | 1                                                   | 0                                                   | A/5 21171                                           |  7.2500                                             | NA                                                  | S                                                   |\n",
       "| 2                                                   | 1                                                   | 1                                                   | Cumings, Mrs. John Bradley (Florence Briggs Thayer) | female                                              | 38                                                  | 1                                                   | 0                                                   | PC 17599                                            | 71.2833                                             | C85                                                 | C                                                   |\n",
       "| 3                                                   | 1                                                   | 3                                                   | Heikkinen, Miss. Laina                              | female                                              | 26                                                  | 0                                                   | 0                                                   | STON/O2. 3101282                                    |  7.9250                                             | NA                                                  | S                                                   |\n",
       "| 4                                                   | 1                                                   | 1                                                   | Futrelle, Mrs. Jacques Heath (Lily May Peel)        | female                                              | 35                                                  | 1                                                   | 0                                                   | 113803                                              | 53.1000                                             | C123                                                | S                                                   |\n",
       "| 5                                                   | 0                                                   | 3                                                   | Allen, Mr. William Henry                            | male                                                | 35                                                  | 0                                                   | 0                                                   | 373450                                              |  8.0500                                             | NA                                                  | S                                                   |\n",
       "| 6                                                   | 0                                                   | 3                                                   | Moran, Mr. James                                    | male                                                | NA                                                  | 0                                                   | 0                                                   | 330877                                              |  8.4583                                             | NA                                                  | Q                                                   |\n",
       "\n"
      ],
      "text/plain": [
       "  PassengerId Survived Pclass\n",
       "1 1           0        3     \n",
       "2 2           1        1     \n",
       "3 3           1        3     \n",
       "4 4           1        1     \n",
       "5 5           0        3     \n",
       "6 6           0        3     \n",
       "  Name                                                Sex    Age SibSp Parch\n",
       "1 Braund, Mr. Owen Harris                             male   22  1     0    \n",
       "2 Cumings, Mrs. John Bradley (Florence Briggs Thayer) female 38  1     0    \n",
       "3 Heikkinen, Miss. Laina                              female 26  0     0    \n",
       "4 Futrelle, Mrs. Jacques Heath (Lily May Peel)        female 35  1     0    \n",
       "5 Allen, Mr. William Henry                            male   35  0     0    \n",
       "6 Moran, Mr. James                                    male   NA  0     0    \n",
       "  Ticket           Fare    Cabin Embarked\n",
       "1 A/5 21171         7.2500 NA    S       \n",
       "2 PC 17599         71.2833 C85   C       \n",
       "3 STON/O2. 3101282  7.9250 NA    S       \n",
       "4 113803           53.1000 C123  S       \n",
       "5 373450            8.0500 NA    S       \n",
       "6 330877            8.4583 NA    Q       "
      ]
     },
     "metadata": {},
     "output_type": "display_data"
    }
   ],
   "source": [
    "df <- read.csv(\"../datasets/titanic/train.csv\", na.strings = '')\n",
    "head(df)"
   ]
  },
  {
   "cell_type": "markdown",
   "id": "cd94f2b5-8b5f-4f16-9c36-91b979af4000",
   "metadata": {},
   "source": [
    "## Pré-Processamento de Dados"
   ]
  },
  {
   "cell_type": "code",
   "execution_count": 4,
   "id": "19fc876d-4408-42ac-b599-0ea7ef504018",
   "metadata": {},
   "outputs": [
    {
     "data": {
      "text/html": [
       "<table>\n",
       "<thead><tr><th scope=col>Survived</th><th scope=col>Pclass</th><th scope=col>Name</th><th scope=col>Sex</th><th scope=col>Age</th><th scope=col>SibSp</th><th scope=col>Parch</th><th scope=col>Fare</th><th scope=col>Embarked</th></tr></thead>\n",
       "<tbody>\n",
       "\t<tr><td>0         </td><td>3         </td><td>4         </td><td>2         </td><td>-0.5921480</td><td>1         </td><td>0         </td><td>-0.5021631</td><td>3         </td></tr>\n",
       "\t<tr><td>1         </td><td>1         </td><td>5         </td><td>1         </td><td> 0.6384304</td><td>1         </td><td>0         </td><td> 0.7864036</td><td>1         </td></tr>\n",
       "\t<tr><td>1         </td><td>3         </td><td>3         </td><td>1         </td><td>-0.2845034</td><td>0         </td><td>0         </td><td>-0.4885799</td><td>3         </td></tr>\n",
       "\t<tr><td>1         </td><td>1         </td><td>5         </td><td>1         </td><td> 0.4076970</td><td>1         </td><td>0         </td><td> 0.4204941</td><td>3         </td></tr>\n",
       "\t<tr><td>0         </td><td>3         </td><td>4         </td><td>2         </td><td> 0.4076970</td><td>0         </td><td>0         </td><td>-0.4860644</td><td>3         </td></tr>\n",
       "\t<tr><td>0         </td><td>3         </td><td>4         </td><td>2         </td><td> 0.0000000</td><td>0         </td><td>0         </td><td>-0.4778481</td><td>2         </td></tr>\n",
       "</tbody>\n",
       "</table>\n"
      ],
      "text/latex": [
       "\\begin{tabular}{r|lllllllll}\n",
       " Survived & Pclass & Name & Sex & Age & SibSp & Parch & Fare & Embarked\\\\\n",
       "\\hline\n",
       "\t 0          & 3          & 4          & 2          & -0.5921480 & 1          & 0          & -0.5021631 & 3         \\\\\n",
       "\t 1          & 1          & 5          & 1          &  0.6384304 & 1          & 0          &  0.7864036 & 1         \\\\\n",
       "\t 1          & 3          & 3          & 1          & -0.2845034 & 0          & 0          & -0.4885799 & 3         \\\\\n",
       "\t 1          & 1          & 5          & 1          &  0.4076970 & 1          & 0          &  0.4204941 & 3         \\\\\n",
       "\t 0          & 3          & 4          & 2          &  0.4076970 & 0          & 0          & -0.4860644 & 3         \\\\\n",
       "\t 0          & 3          & 4          & 2          &  0.0000000 & 0          & 0          & -0.4778481 & 2         \\\\\n",
       "\\end{tabular}\n"
      ],
      "text/markdown": [
       "\n",
       "| Survived | Pclass | Name | Sex | Age | SibSp | Parch | Fare | Embarked |\n",
       "|---|---|---|---|---|---|---|---|---|\n",
       "| 0          | 3          | 4          | 2          | -0.5921480 | 1          | 0          | -0.5021631 | 3          |\n",
       "| 1          | 1          | 5          | 1          |  0.6384304 | 1          | 0          |  0.7864036 | 1          |\n",
       "| 1          | 3          | 3          | 1          | -0.2845034 | 0          | 0          | -0.4885799 | 3          |\n",
       "| 1          | 1          | 5          | 1          |  0.4076970 | 1          | 0          |  0.4204941 | 3          |\n",
       "| 0          | 3          | 4          | 2          |  0.4076970 | 0          | 0          | -0.4860644 | 3          |\n",
       "| 0          | 3          | 4          | 2          |  0.0000000 | 0          | 0          | -0.4778481 | 2          |\n",
       "\n"
      ],
      "text/plain": [
       "  Survived Pclass Name Sex Age        SibSp Parch Fare       Embarked\n",
       "1 0        3      4    2   -0.5921480 1     0     -0.5021631 3       \n",
       "2 1        1      5    1    0.6384304 1     0      0.7864036 1       \n",
       "3 1        3      3    1   -0.2845034 0     0     -0.4885799 3       \n",
       "4 1        1      5    1    0.4076970 1     0      0.4204941 3       \n",
       "5 0        3      4    2    0.4076970 0     0     -0.4860644 3       \n",
       "6 0        3      4    2    0.0000000 0     0     -0.4778481 2       "
      ]
     },
     "metadata": {},
     "output_type": "display_data"
    },
    {
     "name": "stdout",
     "output_type": "stream",
     "text": [
      "'data.frame':\t891 obs. of  9 variables:\n",
      " $ Survived: int  0 1 1 1 0 0 0 0 1 1 ...\n",
      " $ Pclass  : Factor w/ 3 levels \"1\",\"2\",\"3\": 3 1 3 1 3 3 1 3 3 2 ...\n",
      " $ Name    : Factor w/ 7 levels \"1\",\"2\",\"3\",\"4\",..: 4 5 3 5 4 4 4 2 5 5 ...\n",
      " $ Sex     : Factor w/ 2 levels \"1\",\"2\": 2 1 1 1 2 2 2 2 1 1 ...\n",
      " $ Age     : num  -0.592 0.638 -0.285 0.408 0.408 ...\n",
      " $ SibSp   : int  1 1 0 1 0 0 0 3 0 1 ...\n",
      " $ Parch   : int  0 0 0 0 0 0 0 1 2 0 ...\n",
      " $ Fare    : num  -0.502 0.786 -0.489 0.42 -0.486 ...\n",
      " $ Embarked: Factor w/ 3 levels \"1\",\"2\",\"3\": 3 1 3 3 3 2 3 3 3 1 ...\n"
     ]
    }
   ],
   "source": [
    "# Extração de Pronomes\n",
    "df$Name <- ifelse(grepl(\", Mr. \", df$Name), 'Mr', as.character(df$Name))\n",
    "df$Name <- ifelse(grepl(\"Capt\", df$Name), 'Tripulacao', as.character(df$Name))\n",
    "df$Name <- ifelse(grepl(\"Don\", df$Name), 'Mr', as.character(df$Name))\n",
    "df$Name <- ifelse(grepl(\"Major\", df$Name), 'Tripulacao', as.character(df$Name))\n",
    "df$Name <- ifelse(grepl(\"Col\", df$Name), 'Tripulacao', as.character(df$Name))\n",
    "df$Name <- ifelse(grepl(\"Dr\", df$Name), 'Dr', as.character(df$Name))\n",
    "df$Name <- ifelse(grepl(\"Rev\", df$Name), 'Rev', as.character(df$Name))\n",
    "df$Name <- ifelse(grepl(\"Sir\", df$Name), 'Mr', as.character(df$Name))\n",
    "df$Name <- ifelse(grepl(\"Jonkheer\", df$Name), 'Mr', as.character(df$Name))\n",
    "df$Name <- ifelse(grepl(\"Dona\", df$Name), 'Mrs', as.character(df$Name))\n",
    "df$Name <- ifelse(grepl(\"Countess\", df$Name), 'Mrs', as.character(df$Name))\n",
    "df$Name <- ifelse(grepl(\"Mme\", df$Name), 'Mrs', as.character(df$Name))\n",
    "df$Name <- ifelse(grepl(\"Lady\", df$Name), 'Mrs', as.character(df$Name))\n",
    "df$Name <- ifelse(grepl(\"Mrs\", df$Name), 'Mrs', as.character(df$Name))\n",
    "df$Name <- ifelse(grepl(\"Mlle\", df$Name), 'Miss', as.character(df$Name))\n",
    "df$Name <- ifelse(grepl(\"Ms\", df$Name), 'Miss', as.character(df$Name))\n",
    "df$Name <- ifelse(grepl(\"Miss\", df$Name), 'Miss', as.character(df$Name))\n",
    "df$Name <- ifelse(grepl(\"Master\", df$Name), 'Master', as.character(df$Name))\n",
    "\n",
    "# Categóricas para Numéricas\n",
    "le_name <- LabelEncoder.fit(unique(df$Name))\n",
    "df$Name <- transform(le_name, df$Name)\n",
    "\n",
    "# Substituir valores ausentes/nulos\n",
    "media <- mean(df$Age, na.rm = TRUE)\n",
    "df$Age <- ifelse(is.na(df$Age), media, df$Age)\n",
    "\n",
    "t <- table(df$Embarked)\n",
    "moda <- names(t[t == max(t)])\n",
    "\n",
    "df$Embarked <- ifelse(is.na(df$Embarked), as.character(moda), as.character(df$Embarked) )\n",
    "\n",
    "# Categórico Para numérico\n",
    "le_sex <- LabelEncoder.fit(unique(df$Sex))\n",
    "df$Sex <- transform(le_sex, df$Sex)\n",
    "\n",
    "le_embarked <- LabelEncoder.fit(unique(df$Embarked))\n",
    "df$Embarked <- transform(le_embarked, df$Embarked)\n",
    "\n",
    "# Remoção de colunas\n",
    "df$PassengerId <- NULL\n",
    "df$Ticket <- NULL\n",
    "df$Cabin <- NULL\n",
    "\n",
    "#Escalonamento \n",
    "df[, c('Age', 'Fare')] <- scale(df[, c('Age', 'Fare')])\n",
    "\n",
    "df$Name = factor(df$Name)\n",
    "df$Pclass = factor(df$Pclass)\n",
    "df$Sex = factor(df$Sex)\n",
    "df$Embarked = factor(df$Embarked)\n",
    "\n",
    "head(df)\n",
    "str(df)"
   ]
  },
  {
   "cell_type": "markdown",
   "id": "8f677ed7-74c8-4c85-9b37-e11a6db80be3",
   "metadata": {},
   "source": [
    "# Divisão dos dados em treino e teste"
   ]
  },
  {
   "cell_type": "code",
   "execution_count": 5,
   "id": "8a80b5b2-e8f0-489d-8036-c1168d95000e",
   "metadata": {},
   "outputs": [],
   "source": [
    "set.seed(0)\n",
    "divisao <- sample.split(df$Survived, SplitRatio = 0.75)\n",
    "\n",
    "treino <- subset(df, divisao == TRUE)\n",
    "teste <-  subset(df, divisao == FALSE)\n",
    "\n",
    "x_train <- treino[,-1]\n",
    "y_train <- treino$Survived\n",
    "\n",
    "x_test <- teste[,-1]\n",
    "y_test <- teste$Survived"
   ]
  },
  {
   "cell_type": "markdown",
   "id": "e9ea8f2f-9999-4157-8d58-5e3b9417120d",
   "metadata": {},
   "source": [
    "## GBM\n",
    "\n",
    "Argumentos\n",
    "\n",
    "- **formula** - Uma descrição simbólica do modelo a ser ajustado. \n",
    "- **distribution** - Uma sequência de caracteres especificando o nome da distribuição a ser usada ou uma lista com um nome de componente especificando a distribuição e quaisquer parâmetros adicionais necessários. Se não for especificado, gbm tentará adivinhar gaussian\" (squared error), \"laplace\" (absolute loss), \"tdist\" (t-distribution loss), \"bernoulli\" (logistic regression for 0-1 outcomes), \"huberized\" (huberized hinge loss for 0-1 outcomes), classes), \"adaboost\" (the AdaBoost exponential loss for 0-1 outcomes), \"poisson\" (count outcomes), \"coxph\" (right censored observations), \"quantile\", or \"pairwise\" (ranking measure using the LambdaMart algorithm).\n",
    "- **data** - Um quadro de dados opcional contendo as variáveis no modelo.\n",
    "- **weights** - Um vetor opcional de pesos a ser usado no processo de adaptação. Deve ser positivo, mas não precisa ser normalizado. \n",
    "- **var.monotone** - Um vetor opcional, do mesmo comprimento que o número de preditores, indicando quais variáveis têm uma relação monótona crescente (+1), decrescente (-1) ou arbitrária (0) com o resultado\n",
    "- **n.trees** - Inteiro especificando o número total de árvores a serem ajustadas. Isso é equivalente ao número de iterações e ao número de funções básicas na expansão aditiva. O padrão é 100. \n",
    "- **interaction.depth** - Número inteiro que especifica a profundidade máxima de cada árvore (ou seja, o nível mais alto de interações variáveis permitidas). Um valor de 1 implica um modelo aditivo, um valor de 2 implica um modelo com até interações bidirecionais, etc. O padrão é 1. \n",
    "- **n.minobsinnode** - Inteiro especificando o número mínimo de observações nos nós terminais das árvores. Observe que este é o número real de observações, não o peso total. \n",
    "- **shrinkage** - Refere-se à taxa de aprendizagem. Um parâmetro de redução aplicado a cada árvore na expansão. Também conhecido como taxa de aprendizagem ou redução do tamanho do passo; 0,001 a 0,1 geralmente funcionam, mas uma taxa de aprendizado menor normalmente requer mais árvores. O padrão é 0,1. \n",
    "- **bag.fraction** - A fração das observações do conjunto de treinamento selecionadas aleatoriamente para propor a próxima árvore na expansão. Isso introduz aleatoriedade no ajuste do modelo. Se bag.fraction <1, executar o mesmo modelo duas vezes resultará em ajustes semelhantes, mas diferentes. gbm usa o gerador de números aleatórios R para que set.seed possa garantir que o modelo possa ser reconstruído. De preferência, o usuário pode salvar o gbm.object retornado usando save. O padrão é 0,5. \n",
    "- **train.fraction** - As primeiras observações train.fraction * nrows (dados) são usadas para ajustar o gbm e o restante é usado para calcular estimativas fora da amostra da função de perda. \n",
    "- **cv.folds** - Número de dobras de validação cruzada a serem executadas. Se cv.folds> 1 então gbm, além do ajuste usual, irá realizar uma validação cruzada, calcular uma estimativa de erro de generalização retornado em cv.error. \n",
    "- **keep.data** - Uma variável lógica que indica se os dados devem ser mantidos e um índice dos dados armazenados com o objeto. Manter os dados e o índice torna as chamadas subsequentes para gbm.more mais rápidas ao custo de armazenar uma cópia extra do conjunto de dados. \n",
    "- **verbose** - Lógico que indica se deve ou não imprimir indicadores de progresso e desempenho (TRUE). Se esta opção não for especificada para gbm.more, ele usará verbose from object. O padrão é FALSE\n",
    "- **class.stratify.cv** - Lógica que indica se a validação cruzada deve ou não ser estratificada por classe. O padrão é TRUE para distribuição = \"multinomial\" e só é implementado para \"multinomial\" e \"bernoulli\". O objetivo de estratificar a validação cruzada é ajudar a evitar situações em que os conjuntos de treinamento não contêm todas as classes. \n",
    "- **n.cores** - O número de núcleos de CPU a serem usados. O loop de validação cruzada tentará enviar dobras CV diferentes para núcleos diferentes. Se n.cores não for especificado pelo usuário, ele é adivinhado usando a função detectCores no pacote paralelo. Observe que a documentação para detectCores deixa claro que não é à prova de falhas e pode retornar um número espúrio de núcleos disponíveis. "
   ]
  },
  {
   "cell_type": "code",
   "execution_count": 6,
   "id": "e8865cfd-2ea9-43e0-bc43-f0d9b0c70cf3",
   "metadata": {},
   "outputs": [],
   "source": [
    "set.seed(0)\n",
    "x <- cbind(x_train, y_train)\n",
    "classificador <- gbm(y_train ~ ., data = x, shrinkage=0.01, distribution = 'bernoulli', cv.folds=5, n.trees=500)"
   ]
  },
  {
   "cell_type": "markdown",
   "id": "376ed119-97c5-4efb-a2c0-36f718fba76d",
   "metadata": {},
   "source": [
    "## Exibir o Gráfico de Decisção\n",
    "\n",
    "- **plot**\n",
    "- **text**\n",
    "- **rpart.plot**\n",
    "- **summary**"
   ]
  },
  {
   "cell_type": "code",
   "execution_count": 7,
   "id": "313ee118-0ee0-4da4-866d-bb88b97e72b0",
   "metadata": {},
   "outputs": [
    {
     "data": {
      "text/plain": [
       "gbm(formula = y_train ~ ., distribution = \"bernoulli\", data = x, \n",
       "    n.trees = 500, shrinkage = 0.01, cv.folds = 5)\n",
       "A gradient boosted model with bernoulli loss function.\n",
       "500 iterations were performed.\n",
       "The best cross-validation iteration was 500.\n",
       "There were 8 predictors of which 8 had non-zero influence."
      ]
     },
     "metadata": {},
     "output_type": "display_data"
    }
   ],
   "source": [
    "classificador"
   ]
  },
  {
   "cell_type": "code",
   "execution_count": 8,
   "id": "5d8b175f-da71-4b53-bb32-2d0378c99679",
   "metadata": {},
   "outputs": [
    {
     "data": {
      "text/html": [
       "<table>\n",
       "<thead><tr><th></th><th scope=col>var</th><th scope=col>rel.inf</th></tr></thead>\n",
       "<tbody>\n",
       "\t<tr><th scope=row>Name</th><td>Name      </td><td>56.6330772</td></tr>\n",
       "\t<tr><th scope=row>Pclass</th><td>Pclass    </td><td>15.7210758</td></tr>\n",
       "\t<tr><th scope=row>Sex</th><td>Sex       </td><td>14.7164823</td></tr>\n",
       "\t<tr><th scope=row>SibSp</th><td>SibSp     </td><td> 6.7998893</td></tr>\n",
       "\t<tr><th scope=row>Fare</th><td>Fare      </td><td> 3.6253972</td></tr>\n",
       "\t<tr><th scope=row>Age</th><td>Age       </td><td> 1.5508533</td></tr>\n",
       "\t<tr><th scope=row>Embarked</th><td>Embarked  </td><td> 0.8282071</td></tr>\n",
       "\t<tr><th scope=row>Parch</th><td>Parch     </td><td> 0.1250178</td></tr>\n",
       "</tbody>\n",
       "</table>\n"
      ],
      "text/latex": [
       "\\begin{tabular}{r|ll}\n",
       "  & var & rel.inf\\\\\n",
       "\\hline\n",
       "\tName & Name       & 56.6330772\\\\\n",
       "\tPclass & Pclass     & 15.7210758\\\\\n",
       "\tSex & Sex        & 14.7164823\\\\\n",
       "\tSibSp & SibSp      &  6.7998893\\\\\n",
       "\tFare & Fare       &  3.6253972\\\\\n",
       "\tAge & Age        &  1.5508533\\\\\n",
       "\tEmbarked & Embarked   &  0.8282071\\\\\n",
       "\tParch & Parch      &  0.1250178\\\\\n",
       "\\end{tabular}\n"
      ],
      "text/markdown": [
       "\n",
       "| <!--/--> | var | rel.inf |\n",
       "|---|---|---|\n",
       "| Name | Name       | 56.6330772 |\n",
       "| Pclass | Pclass     | 15.7210758 |\n",
       "| Sex | Sex        | 14.7164823 |\n",
       "| SibSp | SibSp      |  6.7998893 |\n",
       "| Fare | Fare       |  3.6253972 |\n",
       "| Age | Age        |  1.5508533 |\n",
       "| Embarked | Embarked   |  0.8282071 |\n",
       "| Parch | Parch      |  0.1250178 |\n",
       "\n"
      ],
      "text/plain": [
       "         var      rel.inf   \n",
       "Name     Name     56.6330772\n",
       "Pclass   Pclass   15.7210758\n",
       "Sex      Sex      14.7164823\n",
       "SibSp    SibSp     6.7998893\n",
       "Fare     Fare      3.6253972\n",
       "Age      Age       1.5508533\n",
       "Embarked Embarked  0.8282071\n",
       "Parch    Parch     0.1250178"
      ]
     },
     "metadata": {},
     "output_type": "display_data"
    },
    {
     "data": {
      "image/png": "[encoded data removed]",
      "text/plain": [
       "plot without title"
      ]
     },
     "metadata": {},
     "output_type": "display_data"
    }
   ],
   "source": [
    "summary(classificador)"
   ]
  },
  {
   "cell_type": "markdown",
   "id": "ee27bb6f-232a-4584-8b1c-dc13dcff7085",
   "metadata": {},
   "source": [
    "## Prever os dados de Teste\n",
    "\n",
    "- Irá retornar uma matrix contendo a probabilidade de pertencer a cada uma das classes"
   ]
  },
  {
   "cell_type": "code",
   "execution_count": 9,
   "id": "8ea493c0-4823-441f-a06a-9188665557e3",
   "metadata": {},
   "outputs": [
    {
     "data": {
      "text/html": [
       "74.8878923766816"
      ],
      "text/latex": [
       "74.8878923766816"
      ],
      "text/markdown": [
       "74.8878923766816"
      ],
      "text/plain": [
       "[1] 74.88789"
      ]
     },
     "metadata": {},
     "output_type": "display_data"
    }
   ],
   "source": [
    "pred = predict.gbm(object = classificador,\n",
    "                   newdata = x_test,\n",
    "                   n.trees = 200,\n",
    "                   type = \"response\")\n",
    "\n",
    "previsao = ifelse((pred > 0.5), 1, 0)\n",
    "\n",
    "acuracia = 100 * sum(previsao == y_test)/length(y_test)\n",
    "acuracia"
   ]
  },
  {
   "cell_type": "markdown",
   "id": "fefefe96-b26f-4974-938c-1e50b2587c4a",
   "metadata": {},
   "source": [
    "# Matriz de Confusão\n",
    "\n",
    "- A função **table** realiza o agrupamento dos dados\n",
    "- A função **confusionMatriz** da biblioteca **caret** também calcula a matriz de confusão + as métricas"
   ]
  },
  {
   "cell_type": "code",
   "execution_count": 10,
   "id": "2080d991-cedc-472c-96ff-f7e4eed495d5",
   "metadata": {},
   "outputs": [
    {
     "data": {
      "text/plain": [
       "      previsao\n",
       "y_test   0   1\n",
       "     0 108  29\n",
       "     1  27  59"
      ]
     },
     "metadata": {},
     "output_type": "display_data"
    }
   ],
   "source": [
    "matriz_confusao = table(y_test, previsao)\n",
    "matriz_confusao"
   ]
  },
  {
   "cell_type": "code",
   "execution_count": 11,
   "id": "63d176ff-453d-4c39-a85f-76f0751c0c84",
   "metadata": {},
   "outputs": [
    {
     "data": {
      "text/plain": [
       "Confusion Matrix and Statistics\n",
       "\n",
       "          Reference\n",
       "Prediction   0   1\n",
       "         0 108  27\n",
       "         1  29  59\n",
       "                                          \n",
       "               Accuracy : 0.7489          \n",
       "                 95% CI : (0.6866, 0.8044)\n",
       "    No Information Rate : 0.6143          \n",
       "    P-Value [Acc > NIR] : 1.507e-05       \n",
       "                                          \n",
       "                  Kappa : 0.4723          \n",
       "                                          \n",
       " Mcnemar's Test P-Value : 0.8937          \n",
       "                                          \n",
       "            Sensitivity : 0.7883          \n",
       "            Specificity : 0.6860          \n",
       "         Pos Pred Value : 0.8000          \n",
       "         Neg Pred Value : 0.6705          \n",
       "             Prevalence : 0.6143          \n",
       "         Detection Rate : 0.4843          \n",
       "   Detection Prevalence : 0.6054          \n",
       "      Balanced Accuracy : 0.7372          \n",
       "                                          \n",
       "       'Positive' Class : 0               \n",
       "                                          "
      ]
     },
     "metadata": {},
     "output_type": "display_data"
    }
   ],
   "source": [
    "matriz = confusionMatrix(factor(previsao), factor(y_test))\n",
    "matriz"
   ]
  },
  {
   "cell_type": "markdown",
   "id": "9f66006d-24bf-420d-8356-27e3122a20e7",
   "metadata": {},
   "source": [
    "## Personalizando a Matriz de Confusão"
   ]
  },
  {
   "cell_type": "code",
   "execution_count": 12,
   "id": "3c229fda-591e-47ee-8b6c-a881f9918d35",
   "metadata": {},
   "outputs": [
    {
     "data": {
      "image/png": "[encoded data removed]",
      "text/plain": [
       "Plot with title \"Color Key\""
      ]
     },
     "metadata": {},
     "output_type": "display_data"
    }
   ],
   "source": [
    "my_palette <- colorRampPalette(c(\"red\", \"yellow\", \"green\"))\n",
    "\n",
    "col_breaks = c(0:50, 51:100, 101:300)\n",
    "\n",
    "heatmap.2(matriz_confusao,\n",
    "    Rowv = 'NA',\n",
    "    cellnote = matriz_confusao, \n",
    "    main = \"Matriz de Confusão\",\n",
    "    notecol=\"black\",      \n",
    "    density.info=\"none\",  \n",
    "    trace=\"none\",        \n",
    "    col=my_palette,       \n",
    "    breaks=col_breaks,   \n",
    "    dendrogram= 'none',     \n",
    "    Colv=\"NA\" \n",
    ")"
   ]
  },
  {
   "cell_type": "markdown",
   "id": "56f4cc86-031a-4570-9ad6-f66b3c1050b0",
   "metadata": {},
   "source": [
    "# Métricas\n",
    "\n",
    "- **Precisão** que é a fração de instâncias recuperadas que são relevantes, \n",
    "- **Recall** - que é a fração de instâncias relevantes que são recuperadas \n",
    "- **f-score** - é 2 * precisão * recall / (precisão + recall) é "
   ]
  },
  {
   "cell_type": "code",
   "execution_count": 13,
   "id": "c1f4d29d-a678-4a76-90e7-39cb151143c5",
   "metadata": {},
   "outputs": [
    {
     "data": {
      "text/html": [
       "0.8"
      ],
      "text/latex": [
       "0.8"
      ],
      "text/markdown": [
       "0.8"
      ],
      "text/plain": [
       "[1] 0.8"
      ]
     },
     "metadata": {},
     "output_type": "display_data"
    },
    {
     "data": {
      "text/html": [
       "'Morto'"
      ],
      "text/latex": [
       "'Morto'"
      ],
      "text/markdown": [
       "'Morto'"
      ],
      "text/plain": [
       "[1] \"Morto\""
      ]
     },
     "metadata": {},
     "output_type": "display_data"
    },
    {
     "data": {
      "text/html": [
       "0.670454545454545"
      ],
      "text/latex": [
       "0.670454545454545"
      ],
      "text/markdown": [
       "0.670454545454545"
      ],
      "text/plain": [
       "[1] 0.6704545"
      ]
     },
     "metadata": {},
     "output_type": "display_data"
    },
    {
     "data": {
      "text/html": [
       "'Vivo'"
      ],
      "text/latex": [
       "'Vivo'"
      ],
      "text/markdown": [
       "'Vivo'"
      ],
      "text/plain": [
       "[1] \"Vivo\""
      ]
     },
     "metadata": {},
     "output_type": "display_data"
    },
    {
     "data": {
      "text/html": [
       "0.8"
      ],
      "text/latex": [
       "0.8"
      ],
      "text/markdown": [
       "0.8"
      ],
      "text/plain": [
       "[1] 0.8"
      ]
     },
     "metadata": {},
     "output_type": "display_data"
    }
   ],
   "source": [
    "precision(factor(previsao), factor(y_test))\n",
    "'Morto'\n",
    "precision(factor(previsao), factor(y_test), relevant = 2)\n",
    "'Vivo'\n",
    "precision(factor(previsao), factor(y_test), relevant = 1)"
   ]
  },
  {
   "cell_type": "code",
   "execution_count": 14,
   "id": "38219021-a6a6-410e-86a3-589bc6d6f574",
   "metadata": {},
   "outputs": [
    {
     "data": {
      "text/html": [
       "0.788321167883212"
      ],
      "text/latex": [
       "0.788321167883212"
      ],
      "text/markdown": [
       "0.788321167883212"
      ],
      "text/plain": [
       "[1] 0.7883212"
      ]
     },
     "metadata": {},
     "output_type": "display_data"
    },
    {
     "data": {
      "text/html": [
       "'Morto'"
      ],
      "text/latex": [
       "'Morto'"
      ],
      "text/markdown": [
       "'Morto'"
      ],
      "text/plain": [
       "[1] \"Morto\""
      ]
     },
     "metadata": {},
     "output_type": "display_data"
    },
    {
     "data": {
      "text/html": [
       "0.686046511627907"
      ],
      "text/latex": [
       "0.686046511627907"
      ],
      "text/markdown": [
       "0.686046511627907"
      ],
      "text/plain": [
       "[1] 0.6860465"
      ]
     },
     "metadata": {},
     "output_type": "display_data"
    },
    {
     "data": {
      "text/html": [
       "'Vivo'"
      ],
      "text/latex": [
       "'Vivo'"
      ],
      "text/markdown": [
       "'Vivo'"
      ],
      "text/plain": [
       "[1] \"Vivo\""
      ]
     },
     "metadata": {},
     "output_type": "display_data"
    },
    {
     "data": {
      "text/html": [
       "0.788321167883212"
      ],
      "text/latex": [
       "0.788321167883212"
      ],
      "text/markdown": [
       "0.788321167883212"
      ],
      "text/plain": [
       "[1] 0.7883212"
      ]
     },
     "metadata": {},
     "output_type": "display_data"
    }
   ],
   "source": [
    "recall(factor(previsao), factor(y_test))\n",
    "'Morto'\n",
    "recall(factor(previsao), factor(y_test), relevant = 2)\n",
    "'Vivo'\n",
    "recall(factor(previsao), factor(y_test), relevant = 1)"
   ]
  },
  {
   "cell_type": "code",
   "execution_count": 15,
   "id": "1c2f0412-dcf4-4f64-9939-28c56eb6eb93",
   "metadata": {},
   "outputs": [
    {
     "data": {
      "text/html": [
       "0.794117647058824"
      ],
      "text/latex": [
       "0.794117647058824"
      ],
      "text/markdown": [
       "0.794117647058824"
      ],
      "text/plain": [
       "[1] 0.7941176"
      ]
     },
     "metadata": {},
     "output_type": "display_data"
    },
    {
     "data": {
      "text/html": [
       "'Morto'"
      ],
      "text/latex": [
       "'Morto'"
      ],
      "text/markdown": [
       "'Morto'"
      ],
      "text/plain": [
       "[1] \"Morto\""
      ]
     },
     "metadata": {},
     "output_type": "display_data"
    },
    {
     "data": {
      "text/html": [
       "0.67816091954023"
      ],
      "text/latex": [
       "0.67816091954023"
      ],
      "text/markdown": [
       "0.67816091954023"
      ],
      "text/plain": [
       "[1] 0.6781609"
      ]
     },
     "metadata": {},
     "output_type": "display_data"
    },
    {
     "data": {
      "text/html": [
       "'Vivo'"
      ],
      "text/latex": [
       "'Vivo'"
      ],
      "text/markdown": [
       "'Vivo'"
      ],
      "text/plain": [
       "[1] \"Vivo\""
      ]
     },
     "metadata": {},
     "output_type": "display_data"
    },
    {
     "data": {
      "text/html": [
       "0.794117647058824"
      ],
      "text/latex": [
       "0.794117647058824"
      ],
      "text/markdown": [
       "0.794117647058824"
      ],
      "text/plain": [
       "[1] 0.7941176"
      ]
     },
     "metadata": {},
     "output_type": "display_data"
    }
   ],
   "source": [
    "F_meas(factor(previsao), factor(y_test))\n",
    "'Morto'\n",
    "F_meas(factor(previsao), factor(y_test), relevant = 2)\n",
    "'Vivo'\n",
    "F_meas(factor(previsao), factor(y_test), relevant = 1)"
   ]
  },
  {
   "cell_type": "markdown",
   "id": "0f44309e-2633-4003-80a5-aa1e81298a48",
   "metadata": {},
   "source": [
    "# Ajustar Parâmetros"
   ]
  },
  {
   "cell_type": "code",
   "execution_count": 16,
   "id": "84a854a9-3141-4589-8c78-646b3b11375f",
   "metadata": {},
   "outputs": [
    {
     "name": "stderr",
     "output_type": "stream",
     "text": [
      "Using 100 trees...\n",
      "\n"
     ]
    },
    {
     "data": {
      "text/html": [
       "'acuracia'"
      ],
      "text/latex": [
       "'acuracia'"
      ],
      "text/markdown": [
       "'acuracia'"
      ],
      "text/plain": [
       "[1] \"acuracia\""
      ]
     },
     "metadata": {},
     "output_type": "display_data"
    },
    {
     "data": {
      "text/html": [
       "78.9237668161435"
      ],
      "text/latex": [
       "78.9237668161435"
      ],
      "text/markdown": [
       "78.9237668161435"
      ],
      "text/plain": [
       "[1] 78.92377"
      ]
     },
     "metadata": {},
     "output_type": "display_data"
    }
   ],
   "source": [
    "set.seed(0)\n",
    "classificador <- gbm(\n",
    "    y_train ~ .,\n",
    "    data = x, \n",
    "    distribution = \"bernoulli\",\n",
    "    n.trees = 100,\n",
    "    interaction.depth = 1,\n",
    "    n.minobsinnode = 10,\n",
    "    shrinkage = 0.05,\n",
    "    bag.fraction = 0.5,\n",
    "    train.fraction = 1,\n",
    "    cv.folds = 5,\n",
    "    keep.data = TRUE,\n",
    "    verbose = FALSE,\n",
    ")\n",
    "\n",
    "pred = predict(classificador, newdata = x_test)\n",
    "previsao <- ifelse((pred[] > 0.5), 1, 0)\n",
    "\n",
    "'acuracia'\n",
    "acuracia = 100 * sum(previsao == y_test)/length(y_test)\n",
    "acuracia"
   ]
  },
  {
   "cell_type": "markdown",
   "id": "e11001b9-0387-400e-9267-daa3b4bc6685",
   "metadata": {},
   "source": [
    "# Validação Cruzada\n",
    "\n",
    "- **method = cv** - indica que iremos usar o método crossvalidation\n",
    "- **number = 10** - define o número de fold\n",
    "- **method = gbm** - indica que iremos usar o algorítmo de de Boost"
   ]
  },
  {
   "cell_type": "code",
   "execution_count": 19,
   "id": "99e20ff2-c042-436a-a325-75a81779eb57",
   "metadata": {},
   "outputs": [
    {
     "data": {
      "text/html": [
       "<table>\n",
       "<thead><tr><th></th><th scope=col>shrinkage</th><th scope=col>interaction.depth</th><th scope=col>n.minobsinnode</th><th scope=col>n.trees</th><th scope=col>Accuracy</th><th scope=col>Kappa</th><th scope=col>AccuracySD</th><th scope=col>KappaSD</th></tr></thead>\n",
       "<tbody>\n",
       "\t<tr><th scope=row>1</th><td>0.1       </td><td>1         </td><td>10        </td><td> 50       </td><td>0.8025060 </td><td>0.5777488 </td><td>0.04457723</td><td>0.09548662</td></tr>\n",
       "\t<tr><th scope=row>4</th><td>0.1       </td><td>2         </td><td>10        </td><td> 50       </td><td>0.8216451 </td><td>0.6155233 </td><td>0.03407233</td><td>0.07371970</td></tr>\n",
       "\t<tr><th scope=row>7</th><td>0.1       </td><td>3         </td><td>10        </td><td> 50       </td><td>0.8160396 </td><td>0.6025411 </td><td>0.03394833</td><td>0.07176334</td></tr>\n",
       "\t<tr><th scope=row>2</th><td>0.1       </td><td>1         </td><td>10        </td><td>100       </td><td>0.8171130 </td><td>0.6114436 </td><td>0.04251968</td><td>0.08700252</td></tr>\n",
       "\t<tr><th scope=row>5</th><td>0.1       </td><td>2         </td><td>10        </td><td>100       </td><td>0.8182618 </td><td>0.6089275 </td><td>0.03431521</td><td>0.07258169</td></tr>\n",
       "\t<tr><th scope=row>8</th><td>0.1       </td><td>3         </td><td>10        </td><td>100       </td><td>0.8216199 </td><td>0.6148741 </td><td>0.02832921</td><td>0.05830075</td></tr>\n",
       "\t<tr><th scope=row>3</th><td>0.1       </td><td>1         </td><td>10        </td><td>150       </td><td>0.8103964 </td><td>0.5963228 </td><td>0.04020826</td><td>0.08135482</td></tr>\n",
       "\t<tr><th scope=row>6</th><td>0.1       </td><td>2         </td><td>10        </td><td>150       </td><td>0.8261270 </td><td>0.6272458 </td><td>0.03007725</td><td>0.06141062</td></tr>\n",
       "\t<tr><th scope=row>9</th><td>0.1       </td><td>3         </td><td>10        </td><td>150       </td><td>0.8227179 </td><td>0.6188314 </td><td>0.02654799</td><td>0.05446727</td></tr>\n",
       "</tbody>\n",
       "</table>\n"
      ],
      "text/latex": [
       "\\begin{tabular}{r|llllllll}\n",
       "  & shrinkage & interaction.depth & n.minobsinnode & n.trees & Accuracy & Kappa & AccuracySD & KappaSD\\\\\n",
       "\\hline\n",
       "\t1 & 0.1        & 1          & 10         &  50        & 0.8025060  & 0.5777488  & 0.04457723 & 0.09548662\\\\\n",
       "\t4 & 0.1        & 2          & 10         &  50        & 0.8216451  & 0.6155233  & 0.03407233 & 0.07371970\\\\\n",
       "\t7 & 0.1        & 3          & 10         &  50        & 0.8160396  & 0.6025411  & 0.03394833 & 0.07176334\\\\\n",
       "\t2 & 0.1        & 1          & 10         & 100        & 0.8171130  & 0.6114436  & 0.04251968 & 0.08700252\\\\\n",
       "\t5 & 0.1        & 2          & 10         & 100        & 0.8182618  & 0.6089275  & 0.03431521 & 0.07258169\\\\\n",
       "\t8 & 0.1        & 3          & 10         & 100        & 0.8216199  & 0.6148741  & 0.02832921 & 0.05830075\\\\\n",
       "\t3 & 0.1        & 1          & 10         & 150        & 0.8103964  & 0.5963228  & 0.04020826 & 0.08135482\\\\\n",
       "\t6 & 0.1        & 2          & 10         & 150        & 0.8261270  & 0.6272458  & 0.03007725 & 0.06141062\\\\\n",
       "\t9 & 0.1        & 3          & 10         & 150        & 0.8227179  & 0.6188314  & 0.02654799 & 0.05446727\\\\\n",
       "\\end{tabular}\n"
      ],
      "text/markdown": [
       "\n",
       "| <!--/--> | shrinkage | interaction.depth | n.minobsinnode | n.trees | Accuracy | Kappa | AccuracySD | KappaSD |\n",
       "|---|---|---|---|---|---|---|---|---|\n",
       "| 1 | 0.1        | 1          | 10         |  50        | 0.8025060  | 0.5777488  | 0.04457723 | 0.09548662 |\n",
       "| 4 | 0.1        | 2          | 10         |  50        | 0.8216451  | 0.6155233  | 0.03407233 | 0.07371970 |\n",
       "| 7 | 0.1        | 3          | 10         |  50        | 0.8160396  | 0.6025411  | 0.03394833 | 0.07176334 |\n",
       "| 2 | 0.1        | 1          | 10         | 100        | 0.8171130  | 0.6114436  | 0.04251968 | 0.08700252 |\n",
       "| 5 | 0.1        | 2          | 10         | 100        | 0.8182618  | 0.6089275  | 0.03431521 | 0.07258169 |\n",
       "| 8 | 0.1        | 3          | 10         | 100        | 0.8216199  | 0.6148741  | 0.02832921 | 0.05830075 |\n",
       "| 3 | 0.1        | 1          | 10         | 150        | 0.8103964  | 0.5963228  | 0.04020826 | 0.08135482 |\n",
       "| 6 | 0.1        | 2          | 10         | 150        | 0.8261270  | 0.6272458  | 0.03007725 | 0.06141062 |\n",
       "| 9 | 0.1        | 3          | 10         | 150        | 0.8227179  | 0.6188314  | 0.02654799 | 0.05446727 |\n",
       "\n"
      ],
      "text/plain": [
       "  shrinkage interaction.depth n.minobsinnode n.trees Accuracy  Kappa    \n",
       "1 0.1       1                 10              50     0.8025060 0.5777488\n",
       "4 0.1       2                 10              50     0.8216451 0.6155233\n",
       "7 0.1       3                 10              50     0.8160396 0.6025411\n",
       "2 0.1       1                 10             100     0.8171130 0.6114436\n",
       "5 0.1       2                 10             100     0.8182618 0.6089275\n",
       "8 0.1       3                 10             100     0.8216199 0.6148741\n",
       "3 0.1       1                 10             150     0.8103964 0.5963228\n",
       "6 0.1       2                 10             150     0.8261270 0.6272458\n",
       "9 0.1       3                 10             150     0.8227179 0.6188314\n",
       "  AccuracySD KappaSD   \n",
       "1 0.04457723 0.09548662\n",
       "4 0.03407233 0.07371970\n",
       "7 0.03394833 0.07176334\n",
       "2 0.04251968 0.08700252\n",
       "5 0.03431521 0.07258169\n",
       "8 0.02832921 0.05830075\n",
       "3 0.04020826 0.08135482\n",
       "6 0.03007725 0.06141062\n",
       "9 0.02654799 0.05446727"
      ]
     },
     "metadata": {},
     "output_type": "display_data"
    }
   ],
   "source": [
    "controle_treinamento = trainControl(method = 'cv', number = 10)\n",
    "df$Survived = factor(df$Survived)\n",
    "modelo = train(Survived ~ ., data = df, trControl = controle_treinamento, method = 'gbm', verbose = FALSE )\n",
    "modelo$results"
   ]
  },
  {
   "cell_type": "code",
   "execution_count": null,
   "id": "e736b622-d526-4d43-afa2-6f3158425d75",
   "metadata": {},
   "outputs": [],
   "source": []
  }
 ],
 "metadata": {
  "kernelspec": {
   "display_name": "R",
   "language": "R",
   "name": "ir"
  },
  "language_info": {
   "codemirror_mode": "r",
   "file_extension": ".r",
   "mimetype": "text/x-r-source",
   "name": "R",
   "pygments_lexer": "r",
   "version": "3.6.1"
  }
 },
 "nbformat": 4,
 "nbformat_minor": 5
}
