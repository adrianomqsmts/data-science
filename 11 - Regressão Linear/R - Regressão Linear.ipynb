{
 "cells": [
  {
   "cell_type": "markdown",
   "id": "5a5b79f6-f3b7-46df-a452-a5cc6960e74e",
   "metadata": {},
   "source": [
    "# Importando Bibliotecas"
   ]
  },
  {
   "cell_type": "code",
   "execution_count": 18,
   "id": "5db8de33-bd97-4bb4-a8a6-d3e7c763318b",
   "metadata": {},
   "outputs": [],
   "source": [
    "library(corrgram)\n",
    "library(repr)\n",
    "options(repr.plot.width= 4, repr.plot.height= 4)\n",
    "library(caret)"
   ]
  },
  {
   "cell_type": "markdown",
   "id": "3d3c7734-be44-417a-8b75-bbf996fb63f0",
   "metadata": {},
   "source": [
    "# Dados"
   ]
  },
  {
   "cell_type": "code",
   "execution_count": 2,
   "id": "5bc08ce3-fa10-4e7c-9f4a-6416af11a447",
   "metadata": {},
   "outputs": [
    {
     "data": {
      "text/html": [
       "<table>\n",
       "<thead><tr><th scope=col>car_ID</th><th scope=col>symboling</th><th scope=col>CarName</th><th scope=col>fueltype</th><th scope=col>aspiration</th><th scope=col>doornumber</th><th scope=col>carbody</th><th scope=col>drivewheel</th><th scope=col>enginelocation</th><th scope=col>wheelbase</th><th scope=col>...</th><th scope=col>enginesize</th><th scope=col>fuelsystem</th><th scope=col>boreratio</th><th scope=col>stroke</th><th scope=col>compressionratio</th><th scope=col>horsepower</th><th scope=col>peakrpm</th><th scope=col>citympg</th><th scope=col>highwaympg</th><th scope=col>price</th></tr></thead>\n",
       "<tbody>\n",
       "\t<tr><td>1                       </td><td>3                       </td><td>alfa-romero giulia      </td><td>gas                     </td><td>std                     </td><td>two                     </td><td>convertible             </td><td>rwd                     </td><td>front                   </td><td>88.6                    </td><td>...                     </td><td>130                     </td><td>mpfi                    </td><td>3.47                    </td><td>2.68                    </td><td> 9.0                    </td><td>111                     </td><td>5000                    </td><td>21                      </td><td>27                      </td><td>13495                   </td></tr>\n",
       "\t<tr><td>2                       </td><td>3                       </td><td>alfa-romero stelvio     </td><td>gas                     </td><td>std                     </td><td>two                     </td><td>convertible             </td><td>rwd                     </td><td>front                   </td><td>88.6                    </td><td>...                     </td><td>130                     </td><td>mpfi                    </td><td>3.47                    </td><td>2.68                    </td><td> 9.0                    </td><td>111                     </td><td>5000                    </td><td>21                      </td><td>27                      </td><td>16500                   </td></tr>\n",
       "\t<tr><td>3                       </td><td>1                       </td><td>alfa-romero Quadrifoglio</td><td>gas                     </td><td>std                     </td><td>two                     </td><td>hatchback               </td><td>rwd                     </td><td>front                   </td><td>94.5                    </td><td>...                     </td><td>152                     </td><td>mpfi                    </td><td>2.68                    </td><td>3.47                    </td><td> 9.0                    </td><td>154                     </td><td>5000                    </td><td>19                      </td><td>26                      </td><td>16500                   </td></tr>\n",
       "\t<tr><td>4                       </td><td>2                       </td><td>audi 100 ls             </td><td>gas                     </td><td>std                     </td><td>four                    </td><td>sedan                   </td><td>fwd                     </td><td>front                   </td><td>99.8                    </td><td>...                     </td><td>109                     </td><td>mpfi                    </td><td>3.19                    </td><td>3.40                    </td><td>10.0                    </td><td>102                     </td><td>5500                    </td><td>24                      </td><td>30                      </td><td>13950                   </td></tr>\n",
       "\t<tr><td>5                       </td><td>2                       </td><td>audi 100ls              </td><td>gas                     </td><td>std                     </td><td>four                    </td><td>sedan                   </td><td>4wd                     </td><td>front                   </td><td>99.4                    </td><td>...                     </td><td>136                     </td><td>mpfi                    </td><td>3.19                    </td><td>3.40                    </td><td> 8.0                    </td><td>115                     </td><td>5500                    </td><td>18                      </td><td>22                      </td><td>17450                   </td></tr>\n",
       "\t<tr><td>6                       </td><td>2                       </td><td>audi fox                </td><td>gas                     </td><td>std                     </td><td>two                     </td><td>sedan                   </td><td>fwd                     </td><td>front                   </td><td>99.8                    </td><td>...                     </td><td>136                     </td><td>mpfi                    </td><td>3.19                    </td><td>3.40                    </td><td> 8.5                    </td><td>110                     </td><td>5500                    </td><td>19                      </td><td>25                      </td><td>15250                   </td></tr>\n",
       "</tbody>\n",
       "</table>\n"
      ],
      "text/latex": [
       "\\begin{tabular}{r|llllllllllllllllllllllllll}\n",
       " car\\_ID & symboling & CarName & fueltype & aspiration & doornumber & carbody & drivewheel & enginelocation & wheelbase & ... & enginesize & fuelsystem & boreratio & stroke & compressionratio & horsepower & peakrpm & citympg & highwaympg & price\\\\\n",
       "\\hline\n",
       "\t 1                        & 3                        & alfa-romero giulia       & gas                      & std                      & two                      & convertible              & rwd                      & front                    & 88.6                     & ...                      & 130                      & mpfi                     & 3.47                     & 2.68                     &  9.0                     & 111                      & 5000                     & 21                       & 27                       & 13495                   \\\\\n",
       "\t 2                        & 3                        & alfa-romero stelvio      & gas                      & std                      & two                      & convertible              & rwd                      & front                    & 88.6                     & ...                      & 130                      & mpfi                     & 3.47                     & 2.68                     &  9.0                     & 111                      & 5000                     & 21                       & 27                       & 16500                   \\\\\n",
       "\t 3                        & 1                        & alfa-romero Quadrifoglio & gas                      & std                      & two                      & hatchback                & rwd                      & front                    & 94.5                     & ...                      & 152                      & mpfi                     & 2.68                     & 3.47                     &  9.0                     & 154                      & 5000                     & 19                       & 26                       & 16500                   \\\\\n",
       "\t 4                        & 2                        & audi 100 ls              & gas                      & std                      & four                     & sedan                    & fwd                      & front                    & 99.8                     & ...                      & 109                      & mpfi                     & 3.19                     & 3.40                     & 10.0                     & 102                      & 5500                     & 24                       & 30                       & 13950                   \\\\\n",
       "\t 5                        & 2                        & audi 100ls               & gas                      & std                      & four                     & sedan                    & 4wd                      & front                    & 99.4                     & ...                      & 136                      & mpfi                     & 3.19                     & 3.40                     &  8.0                     & 115                      & 5500                     & 18                       & 22                       & 17450                   \\\\\n",
       "\t 6                        & 2                        & audi fox                 & gas                      & std                      & two                      & sedan                    & fwd                      & front                    & 99.8                     & ...                      & 136                      & mpfi                     & 3.19                     & 3.40                     &  8.5                     & 110                      & 5500                     & 19                       & 25                       & 15250                   \\\\\n",
       "\\end{tabular}\n"
      ],
      "text/markdown": [
       "\n",
       "| car_ID | symboling | CarName | fueltype | aspiration | doornumber | carbody | drivewheel | enginelocation | wheelbase | ... | enginesize | fuelsystem | boreratio | stroke | compressionratio | horsepower | peakrpm | citympg | highwaympg | price |\n",
       "|---|---|---|---|---|---|---|---|---|---|---|---|---|---|---|---|---|---|---|---|---|\n",
       "| 1                        | 3                        | alfa-romero giulia       | gas                      | std                      | two                      | convertible              | rwd                      | front                    | 88.6                     | ...                      | 130                      | mpfi                     | 3.47                     | 2.68                     |  9.0                     | 111                      | 5000                     | 21                       | 27                       | 13495                    |\n",
       "| 2                        | 3                        | alfa-romero stelvio      | gas                      | std                      | two                      | convertible              | rwd                      | front                    | 88.6                     | ...                      | 130                      | mpfi                     | 3.47                     | 2.68                     |  9.0                     | 111                      | 5000                     | 21                       | 27                       | 16500                    |\n",
       "| 3                        | 1                        | alfa-romero Quadrifoglio | gas                      | std                      | two                      | hatchback                | rwd                      | front                    | 94.5                     | ...                      | 152                      | mpfi                     | 2.68                     | 3.47                     |  9.0                     | 154                      | 5000                     | 19                       | 26                       | 16500                    |\n",
       "| 4                        | 2                        | audi 100 ls              | gas                      | std                      | four                     | sedan                    | fwd                      | front                    | 99.8                     | ...                      | 109                      | mpfi                     | 3.19                     | 3.40                     | 10.0                     | 102                      | 5500                     | 24                       | 30                       | 13950                    |\n",
       "| 5                        | 2                        | audi 100ls               | gas                      | std                      | four                     | sedan                    | 4wd                      | front                    | 99.4                     | ...                      | 136                      | mpfi                     | 3.19                     | 3.40                     |  8.0                     | 115                      | 5500                     | 18                       | 22                       | 17450                    |\n",
       "| 6                        | 2                        | audi fox                 | gas                      | std                      | two                      | sedan                    | fwd                      | front                    | 99.8                     | ...                      | 136                      | mpfi                     | 3.19                     | 3.40                     |  8.5                     | 110                      | 5500                     | 19                       | 25                       | 15250                    |\n",
       "\n"
      ],
      "text/plain": [
       "  car_ID symboling CarName                  fueltype aspiration doornumber\n",
       "1 1      3         alfa-romero giulia       gas      std        two       \n",
       "2 2      3         alfa-romero stelvio      gas      std        two       \n",
       "3 3      1         alfa-romero Quadrifoglio gas      std        two       \n",
       "4 4      2         audi 100 ls              gas      std        four      \n",
       "5 5      2         audi 100ls               gas      std        four      \n",
       "6 6      2         audi fox                 gas      std        two       \n",
       "  carbody     drivewheel enginelocation wheelbase ... enginesize fuelsystem\n",
       "1 convertible rwd        front          88.6      ... 130        mpfi      \n",
       "2 convertible rwd        front          88.6      ... 130        mpfi      \n",
       "3 hatchback   rwd        front          94.5      ... 152        mpfi      \n",
       "4 sedan       fwd        front          99.8      ... 109        mpfi      \n",
       "5 sedan       4wd        front          99.4      ... 136        mpfi      \n",
       "6 sedan       fwd        front          99.8      ... 136        mpfi      \n",
       "  boreratio stroke compressionratio horsepower peakrpm citympg highwaympg price\n",
       "1 3.47      2.68    9.0             111        5000    21      27         13495\n",
       "2 3.47      2.68    9.0             111        5000    21      27         16500\n",
       "3 2.68      3.47    9.0             154        5000    19      26         16500\n",
       "4 3.19      3.40   10.0             102        5500    24      30         13950\n",
       "5 3.19      3.40    8.0             115        5500    18      22         17450\n",
       "6 3.19      3.40    8.5             110        5500    19      25         15250"
      ]
     },
     "metadata": {},
     "output_type": "display_data"
    },
    {
     "data": {
      "text/html": [
       "<ol class=list-inline>\n",
       "\t<li>205</li>\n",
       "\t<li>26</li>\n",
       "</ol>\n"
      ],
      "text/latex": [
       "\\begin{enumerate*}\n",
       "\\item 205\n",
       "\\item 26\n",
       "\\end{enumerate*}\n"
      ],
      "text/markdown": [
       "1. 205\n",
       "2. 26\n",
       "\n",
       "\n"
      ],
      "text/plain": [
       "[1] 205  26"
      ]
     },
     "metadata": {},
     "output_type": "display_data"
    }
   ],
   "source": [
    "df = read.csv(\"../datasets/CarPrice.csv\")\n",
    "head(df)\n",
    "dim(df)"
   ]
  },
  {
   "cell_type": "markdown",
   "id": "795c459c-de59-40d7-97a8-3ce4865021f0",
   "metadata": {},
   "source": [
    "## Correlações possíveis\n",
    "\n",
    "- Altura e largura do carro\n",
    "- Tamanho do Motor\n",
    "- Potência do Motor à cavalo"
   ]
  },
  {
   "cell_type": "markdown",
   "id": "25976492-9361-4858-8bd1-4be2543c3184",
   "metadata": {},
   "source": [
    "# Cáculo da correlação entre X e Y"
   ]
  },
  {
   "cell_type": "code",
   "execution_count": 9,
   "id": "26be4c69-a4cd-40dc-9107-4988f4539f87",
   "metadata": {},
   "outputs": [
    {
     "data": {
      "text/html": [
       "<table>\n",
       "<thead><tr><th></th><th scope=col>price</th></tr></thead>\n",
       "<tbody>\n",
       "\t<tr><th scope=row>enginesize</th><td>0.8741448</td></tr>\n",
       "</tbody>\n",
       "</table>\n"
      ],
      "text/latex": [
       "\\begin{tabular}{r|l}\n",
       "  & price\\\\\n",
       "\\hline\n",
       "\tenginesize & 0.8741448\\\\\n",
       "\\end{tabular}\n"
      ],
      "text/markdown": [
       "\n",
       "| <!--/--> | price |\n",
       "|---|---|\n",
       "| enginesize | 0.8741448 |\n",
       "\n"
      ],
      "text/plain": [
       "           price    \n",
       "enginesize 0.8741448"
      ]
     },
     "metadata": {},
     "output_type": "display_data"
    }
   ],
   "source": [
    "cor(df['enginesize'], df['price'])"
   ]
  },
  {
   "cell_type": "markdown",
   "id": "1d28cadc-2c58-487f-87e6-b5d4a92f57b8",
   "metadata": {},
   "source": [
    "## Criar o modelo de Regressão\n",
    "\n",
    "- O método **fit** treina o modelo com os dados fornecidos"
   ]
  },
  {
   "cell_type": "code",
   "execution_count": 10,
   "id": "cb1a5b37-5131-44ca-afb7-0f3825e307f7",
   "metadata": {},
   "outputs": [
    {
     "data": {
      "text/plain": [
       "\n",
       "Call:\n",
       "lm(formula = price ~ enginesize, data = df)\n",
       "\n",
       "Coefficients:\n",
       "(Intercept)   enginesize  \n",
       "    -8005.4        167.7  \n"
      ]
     },
     "metadata": {},
     "output_type": "display_data"
    }
   ],
   "source": [
    "modelo = lm(price ~ enginesize, data=df)\n",
    "modelo"
   ]
  },
  {
   "cell_type": "markdown",
   "id": "1df2166b-1a76-47d7-a82a-e059c84d4312",
   "metadata": {},
   "source": [
    "## Coeficientes\n",
    "\n",
    "- O atributo **coefficients** armazena um vetor com os coeficientes\n",
    "- Na primeira posição armazena o termo independente no modelo linear **intercept**.\n",
    "- Na segunda posiçao armazena os coeficientes estimados para o problema de regressão linear (inclinação da reta)\n",
    "- A função **sumary** com o atributo **r.squared** contém o coeficente de determinação"
   ]
  },
  {
   "cell_type": "code",
   "execution_count": 11,
   "id": "a67f2698-9447-4430-a199-2806d3cad9c6",
   "metadata": {},
   "outputs": [
    {
     "data": {
      "text/html": [
       "<strong>(Intercept):</strong> -8005.44553114519"
      ],
      "text/latex": [
       "\\textbf{(Intercept):} -8005.44553114519"
      ],
      "text/markdown": [
       "**(Intercept):** -8005.44553114519"
      ],
      "text/plain": [
       "(Intercept) \n",
       "  -8005.446 "
      ]
     },
     "metadata": {},
     "output_type": "display_data"
    },
    {
     "data": {
      "text/html": [
       "<strong>enginesize:</strong> 167.698416393172"
      ],
      "text/latex": [
       "\\textbf{enginesize:} 167.698416393172"
      ],
      "text/markdown": [
       "**enginesize:** 167.698416393172"
      ],
      "text/plain": [
       "enginesize \n",
       "  167.6984 "
      ]
     },
     "metadata": {},
     "output_type": "display_data"
    },
    {
     "data": {
      "text/html": [
       "0.764129135780618"
      ],
      "text/latex": [
       "0.764129135780618"
      ],
      "text/markdown": [
       "0.764129135780618"
      ],
      "text/plain": [
       "[1] 0.7641291"
      ]
     },
     "metadata": {},
     "output_type": "display_data"
    }
   ],
   "source": [
    "modelo$coefficients[1]\n",
    "modelo$coefficients[2]\n",
    "summary(modelo)$r.squared"
   ]
  },
  {
   "cell_type": "markdown",
   "id": "2f2c3f8e-dc9e-44eb-891d-757b18d3f261",
   "metadata": {},
   "source": [
    "## Prever um valor\n",
    "\n",
    "- Existem duas formas de prever um valor, a primeira é formulando a equação com os coeficientes\n",
    "- Outra forma de prever é usando o método **predict** passando uma Matriz como argumento"
   ]
  },
  {
   "cell_type": "code",
   "execution_count": 12,
   "id": "e5040c87-3d8f-4888-96ed-346245c36fd6",
   "metadata": {},
   "outputs": [
    {
     "data": {
      "text/html": [
       "<strong>(Intercept):</strong> 13795.3485999672"
      ],
      "text/latex": [
       "\\textbf{(Intercept):} 13795.3485999672"
      ],
      "text/markdown": [
       "**(Intercept):** 13795.3485999672"
      ],
      "text/plain": [
       "(Intercept) \n",
       "   13795.35 "
      ]
     },
     "metadata": {},
     "output_type": "display_data"
    }
   ],
   "source": [
    "y = modelo$coefficients[1] + modelo$coefficients[2] * 130\n",
    "y"
   ]
  },
  {
   "cell_type": "code",
   "execution_count": 13,
   "id": "d0fd33f2-ab48-47ff-a916-3d0123b0c908",
   "metadata": {},
   "outputs": [
    {
     "data": {
      "text/html": [
       "<strong>1:</strong> 13795.3485999672"
      ],
      "text/latex": [
       "\\textbf{1:} 13795.3485999672"
      ],
      "text/markdown": [
       "**1:** 13795.3485999672"
      ],
      "text/plain": [
       "       1 \n",
       "13795.35 "
      ]
     },
     "metadata": {},
     "output_type": "display_data"
    }
   ],
   "source": [
    "predict(modelo, data.frame(enginesize = 130))"
   ]
  },
  {
   "cell_type": "markdown",
   "id": "8f54df3c-c304-470a-90c0-d1aa1c1926e9",
   "metadata": {},
   "source": [
    "## Grafico com Regressão"
   ]
  },
  {
   "cell_type": "code",
   "execution_count": 14,
   "id": "2fc554e0-a487-4066-8cee-b0824228f1ae",
   "metadata": {},
   "outputs": [
    {
     "data": {
      "image/png": "[encoded data removed]",
      "text/plain": [
       "Plot with title \"Carros\""
      ]
     },
     "metadata": {},
     "output_type": "display_data"
    }
   ],
   "source": [
    "plot(price ~ enginesize, data= df,ylab=\"Preço\", xlab=\"Tamanho do Motor\", main=\"Carros\")\n",
    "abline(modelo)"
   ]
  },
  {
   "cell_type": "markdown",
   "id": "24f34ee5-9f88-4745-b54e-8e65e7a0ec38",
   "metadata": {},
   "source": [
    "## Regressão Linear Múltipla"
   ]
  },
  {
   "cell_type": "code",
   "execution_count": 15,
   "id": "037ade78-c6d2-4a85-bc2a-ea3a31a00318",
   "metadata": {},
   "outputs": [
    {
     "data": {
      "text/html": [
       "<strong>1:</strong> 14060.4428658822"
      ],
      "text/latex": [
       "\\textbf{1:} 14060.4428658822"
      ],
      "text/markdown": [
       "**1:** 14060.4428658822"
      ],
      "text/plain": [
       "       1 \n",
       "14060.44 "
      ]
     },
     "metadata": {},
     "output_type": "display_data"
    }
   ],
   "source": [
    "modelo = lm(price ~ enginesize + horsepower, data=df)\n",
    "predict(modelo, data.frame(enginesize = 130, horsepower = 111))"
   ]
  },
  {
   "cell_type": "markdown",
   "id": "2da1c8ab-4c27-4ecd-92db-1184f5bfc947",
   "metadata": {},
   "source": [
    "# Validação Cruzada\n",
    "\n",
    "- **method = cv** - indica que iremos usar o método crossvalidation\n",
    "- **number = 10** - define o número de fold\n",
    "- **method = lm** - indica que iremos usar o algorítmo de Regressão Linear"
   ]
  },
  {
   "cell_type": "code",
   "execution_count": 20,
   "id": "6b1673d0-c543-4dec-b15b-cc9cd96ad100",
   "metadata": {},
   "outputs": [
    {
     "data": {
      "text/html": [
       "<table>\n",
       "<thead><tr><th scope=col>intercept</th><th scope=col>RMSE</th><th scope=col>Rsquared</th><th scope=col>MAE</th><th scope=col>RMSESD</th><th scope=col>RsquaredSD</th><th scope=col>MAESD</th></tr></thead>\n",
       "<tbody>\n",
       "\t<tr><td>TRUE     </td><td>3632.874 </td><td>0.7746473</td><td>2626.286 </td><td>791.9574 </td><td>0.1379589</td><td>517.3037 </td></tr>\n",
       "</tbody>\n",
       "</table>\n"
      ],
      "text/latex": [
       "\\begin{tabular}{r|lllllll}\n",
       " intercept & RMSE & Rsquared & MAE & RMSESD & RsquaredSD & MAESD\\\\\n",
       "\\hline\n",
       "\t TRUE      & 3632.874  & 0.7746473 & 2626.286  & 791.9574  & 0.1379589 & 517.3037 \\\\\n",
       "\\end{tabular}\n"
      ],
      "text/markdown": [
       "\n",
       "| intercept | RMSE | Rsquared | MAE | RMSESD | RsquaredSD | MAESD |\n",
       "|---|---|---|---|---|---|---|\n",
       "| TRUE      | 3632.874  | 0.7746473 | 2626.286  | 791.9574  | 0.1379589 | 517.3037  |\n",
       "\n"
      ],
      "text/plain": [
       "  intercept RMSE     Rsquared  MAE      RMSESD   RsquaredSD MAESD   \n",
       "1 TRUE      3632.874 0.7746473 2626.286 791.9574 0.1379589  517.3037"
      ]
     },
     "metadata": {},
     "output_type": "display_data"
    }
   ],
   "source": [
    "controle_treinamento = trainControl(method = 'cv', number = 10)\n",
    "modelo = train(price ~ enginesize + horsepower, data = df, trControl = controle_treinamento, method = 'lm')\n",
    "modelo$results"
   ]
  },
  {
   "cell_type": "code",
   "execution_count": null,
   "id": "916262c3-474e-441c-93f3-236e8136ffb3",
   "metadata": {},
   "outputs": [],
   "source": []
  }
 ],
 "metadata": {
  "kernelspec": {
   "display_name": "R",
   "language": "R",
   "name": "ir"
  },
  "language_info": {
   "codemirror_mode": "r",
   "file_extension": ".r",
   "mimetype": "text/x-r-source",
   "name": "R",
   "pygments_lexer": "r",
   "version": "3.6.1"
  }
 },
 "nbformat": 4,
 "nbformat_minor": 5
}
