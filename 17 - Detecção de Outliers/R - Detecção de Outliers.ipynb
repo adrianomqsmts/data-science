{
 "cells": [
  {
   "cell_type": "markdown",
   "id": "4a925635-0961-42f8-b859-e3423dfe6fa7",
   "metadata": {},
   "source": [
    "# Detecção de Outliers"
   ]
  },
  {
   "cell_type": "code",
   "execution_count": 23,
   "id": "3d40e744-88cf-461b-a291-d61773ba45bd",
   "metadata": {},
   "outputs": [],
   "source": [
    "library(repr)\n",
    "options(repr.plot.width= 3, repr.plot.height= 3)\n",
    "# Outliers\n",
    "library(outliers)\n",
    "library(EnvStats)\n",
    "# DBScan\n",
    "library(dbscan)\n",
    "# Gráficos\n",
    "library(cluster)"
   ]
  },
  {
   "cell_type": "markdown",
   "id": "98439de6-324e-4d6f-9f5f-96841a2ade0d",
   "metadata": {},
   "source": [
    "## Carregar a Base de dados - Titanic"
   ]
  },
  {
   "cell_type": "code",
   "execution_count": 3,
   "id": "b2ffcc26-ef9c-428d-bf45-db2a71402eaf",
   "metadata": {},
   "outputs": [
    {
     "data": {
      "text/html": [
       "<table>\n",
       "<thead><tr><th scope=col>PassengerId</th><th scope=col>Survived</th><th scope=col>Pclass</th><th scope=col>Name</th><th scope=col>Sex</th><th scope=col>Age</th><th scope=col>SibSp</th><th scope=col>Parch</th><th scope=col>Ticket</th><th scope=col>Fare</th><th scope=col>Cabin</th><th scope=col>Embarked</th></tr></thead>\n",
       "<tbody>\n",
       "\t<tr><td>1                                                  </td><td>0                                                  </td><td>3                                                  </td><td>Braund, Mr. Owen Harris                            </td><td>male                                               </td><td>22                                                 </td><td>1                                                  </td><td>0                                                  </td><td>A/5 21171                                          </td><td> 7.2500                                            </td><td>NA                                                 </td><td>S                                                  </td></tr>\n",
       "\t<tr><td>2                                                  </td><td>1                                                  </td><td>1                                                  </td><td>Cumings, Mrs. John Bradley (Florence Briggs Thayer)</td><td>female                                             </td><td>38                                                 </td><td>1                                                  </td><td>0                                                  </td><td>PC 17599                                           </td><td>71.2833                                            </td><td>C85                                                </td><td>C                                                  </td></tr>\n",
       "\t<tr><td>3                                                  </td><td>1                                                  </td><td>3                                                  </td><td>Heikkinen, Miss. Laina                             </td><td>female                                             </td><td>26                                                 </td><td>0                                                  </td><td>0                                                  </td><td>STON/O2. 3101282                                   </td><td> 7.9250                                            </td><td>NA                                                 </td><td>S                                                  </td></tr>\n",
       "\t<tr><td>4                                                  </td><td>1                                                  </td><td>1                                                  </td><td>Futrelle, Mrs. Jacques Heath (Lily May Peel)       </td><td>female                                             </td><td>35                                                 </td><td>1                                                  </td><td>0                                                  </td><td>113803                                             </td><td>53.1000                                            </td><td>C123                                               </td><td>S                                                  </td></tr>\n",
       "\t<tr><td>5                                                  </td><td>0                                                  </td><td>3                                                  </td><td>Allen, Mr. William Henry                           </td><td>male                                               </td><td>35                                                 </td><td>0                                                  </td><td>0                                                  </td><td>373450                                             </td><td> 8.0500                                            </td><td>NA                                                 </td><td>S                                                  </td></tr>\n",
       "\t<tr><td>6                                                  </td><td>0                                                  </td><td>3                                                  </td><td>Moran, Mr. James                                   </td><td>male                                               </td><td>NA                                                 </td><td>0                                                  </td><td>0                                                  </td><td>330877                                             </td><td> 8.4583                                            </td><td>NA                                                 </td><td>Q                                                  </td></tr>\n",
       "</tbody>\n",
       "</table>\n"
      ],
      "text/latex": [
       "\\begin{tabular}{r|llllllllllll}\n",
       " PassengerId & Survived & Pclass & Name & Sex & Age & SibSp & Parch & Ticket & Fare & Cabin & Embarked\\\\\n",
       "\\hline\n",
       "\t 1                                                   & 0                                                   & 3                                                   & Braund, Mr. Owen Harris                             & male                                                & 22                                                  & 1                                                   & 0                                                   & A/5 21171                                           &  7.2500                                             & NA                                                  & S                                                  \\\\\n",
       "\t 2                                                   & 1                                                   & 1                                                   & Cumings, Mrs. John Bradley (Florence Briggs Thayer) & female                                              & 38                                                  & 1                                                   & 0                                                   & PC 17599                                            & 71.2833                                             & C85                                                 & C                                                  \\\\\n",
       "\t 3                                                   & 1                                                   & 3                                                   & Heikkinen, Miss. Laina                              & female                                              & 26                                                  & 0                                                   & 0                                                   & STON/O2. 3101282                                    &  7.9250                                             & NA                                                  & S                                                  \\\\\n",
       "\t 4                                                   & 1                                                   & 1                                                   & Futrelle, Mrs. Jacques Heath (Lily May Peel)        & female                                              & 35                                                  & 1                                                   & 0                                                   & 113803                                              & 53.1000                                             & C123                                                & S                                                  \\\\\n",
       "\t 5                                                   & 0                                                   & 3                                                   & Allen, Mr. William Henry                            & male                                                & 35                                                  & 0                                                   & 0                                                   & 373450                                              &  8.0500                                             & NA                                                  & S                                                  \\\\\n",
       "\t 6                                                   & 0                                                   & 3                                                   & Moran, Mr. James                                    & male                                                & NA                                                  & 0                                                   & 0                                                   & 330877                                              &  8.4583                                             & NA                                                  & Q                                                  \\\\\n",
       "\\end{tabular}\n"
      ],
      "text/markdown": [
       "\n",
       "| PassengerId | Survived | Pclass | Name | Sex | Age | SibSp | Parch | Ticket | Fare | Cabin | Embarked |\n",
       "|---|---|---|---|---|---|---|---|---|---|---|---|\n",
       "| 1                                                   | 0                                                   | 3                                                   | Braund, Mr. Owen Harris                             | male                                                | 22                                                  | 1                                                   | 0                                                   | A/5 21171                                           |  7.2500                                             | NA                                                  | S                                                   |\n",
       "| 2                                                   | 1                                                   | 1                                                   | Cumings, Mrs. John Bradley (Florence Briggs Thayer) | female                                              | 38                                                  | 1                                                   | 0                                                   | PC 17599                                            | 71.2833                                             | C85                                                 | C                                                   |\n",
       "| 3                                                   | 1                                                   | 3                                                   | Heikkinen, Miss. Laina                              | female                                              | 26                                                  | 0                                                   | 0                                                   | STON/O2. 3101282                                    |  7.9250                                             | NA                                                  | S                                                   |\n",
       "| 4                                                   | 1                                                   | 1                                                   | Futrelle, Mrs. Jacques Heath (Lily May Peel)        | female                                              | 35                                                  | 1                                                   | 0                                                   | 113803                                              | 53.1000                                             | C123                                                | S                                                   |\n",
       "| 5                                                   | 0                                                   | 3                                                   | Allen, Mr. William Henry                            | male                                                | 35                                                  | 0                                                   | 0                                                   | 373450                                              |  8.0500                                             | NA                                                  | S                                                   |\n",
       "| 6                                                   | 0                                                   | 3                                                   | Moran, Mr. James                                    | male                                                | NA                                                  | 0                                                   | 0                                                   | 330877                                              |  8.4583                                             | NA                                                  | Q                                                   |\n",
       "\n"
      ],
      "text/plain": [
       "  PassengerId Survived Pclass\n",
       "1 1           0        3     \n",
       "2 2           1        1     \n",
       "3 3           1        3     \n",
       "4 4           1        1     \n",
       "5 5           0        3     \n",
       "6 6           0        3     \n",
       "  Name                                                Sex    Age SibSp Parch\n",
       "1 Braund, Mr. Owen Harris                             male   22  1     0    \n",
       "2 Cumings, Mrs. John Bradley (Florence Briggs Thayer) female 38  1     0    \n",
       "3 Heikkinen, Miss. Laina                              female 26  0     0    \n",
       "4 Futrelle, Mrs. Jacques Heath (Lily May Peel)        female 35  1     0    \n",
       "5 Allen, Mr. William Henry                            male   35  0     0    \n",
       "6 Moran, Mr. James                                    male   NA  0     0    \n",
       "  Ticket           Fare    Cabin Embarked\n",
       "1 A/5 21171         7.2500 NA    S       \n",
       "2 PC 17599         71.2833 C85   C       \n",
       "3 STON/O2. 3101282  7.9250 NA    S       \n",
       "4 113803           53.1000 C123  S       \n",
       "5 373450            8.0500 NA    S       \n",
       "6 330877            8.4583 NA    Q       "
      ]
     },
     "metadata": {},
     "output_type": "display_data"
    }
   ],
   "source": [
    "df <- read.csv(\"../datasets/titanic/train.csv\", na.strings = '')\n",
    "head(df)"
   ]
  },
  {
   "cell_type": "markdown",
   "id": "db547758-0023-4f77-a357-e3f7a1810239",
   "metadata": {},
   "source": [
    "# Sumário Estatístico\n",
    "\n",
    "- Estatísticas básicas das colunas de Idade e Valor do Tíquete (Fare)\n",
    "- Podemos notar possíveis outliers em Idade e Fare\n",
    "    - 75% dos passageiros possuem idade menor que 38 anos com uma mperia de 29.7 anos. \n",
    "    - 75% dos passageiros pagaram o ticket no valor de 31, mas teve pessoas que pagaram 512 e outras que não pagaram. "
   ]
  },
  {
   "cell_type": "code",
   "execution_count": 4,
   "id": "03dc9549-6d61-4500-8d23-114631472747",
   "metadata": {},
   "outputs": [
    {
     "data": {
      "text/plain": [
       "      Age             Fare       \n",
       " Min.   : 0.42   Min.   :  0.00  \n",
       " 1st Qu.:20.12   1st Qu.:  7.91  \n",
       " Median :28.00   Median : 14.45  \n",
       " Mean   :29.70   Mean   : 32.20  \n",
       " 3rd Qu.:38.00   3rd Qu.: 31.00  \n",
       " Max.   :80.00   Max.   :512.33  \n",
       " NA's   :177                     "
      ]
     },
     "metadata": {},
     "output_type": "display_data"
    }
   ],
   "source": [
    "summary(df[, c(6,10)])"
   ]
  },
  {
   "cell_type": "markdown",
   "id": "f5753704-c091-4a5e-8aa9-46a41fc8d8e4",
   "metadata": {},
   "source": [
    "# Historgrama\n",
    "\n",
    "- Pelo Histograma podemos notar que muitos passageiros (mais de 500) não pagaram passagens\n",
    "- Podemos notar que poucos pagaram passagem entre 300 e 500, mas alguns pagaram passagens por mais de 500. \n",
    "- Enquanto a idade parece serguir a distribuição normal e a idade de 80 (valor máximo) para ser um valor aceitável."
   ]
  },
  {
   "cell_type": "code",
   "execution_count": 5,
   "id": "c0a3936e-4b1d-496a-b7b7-a774de8730ab",
   "metadata": {},
   "outputs": [
    {
     "data": {
      "image/png": "[encoded data removed]",
      "text/plain": [
       "Plot with title \"Histogram\""
      ]
     },
     "metadata": {},
     "output_type": "display_data"
    },
    {
     "data": {
      "image/png": "[encoded data removed]",
      "text/plain": [
       "Plot with title \"Histogram\""
      ]
     },
     "metadata": {},
     "output_type": "display_data"
    }
   ],
   "source": [
    "hist(\n",
    "    df$Fare,\n",
    "    xlab = \"Fare\",\n",
    "    main = \"Histogram\",\n",
    "    breaks = sqrt(nrow(df))    \n",
    ")\n",
    "\n",
    "hist(\n",
    "    df$Age,\n",
    "    xlab = \"Fare\",\n",
    "    main = \"Histogram\",\n",
    "    breaks = sqrt(nrow(df))    \n",
    ")"
   ]
  },
  {
   "cell_type": "markdown",
   "id": "954c7b1e-3155-407a-9c6a-1fae61fcedb6",
   "metadata": {},
   "source": [
    "# Box-Plot\n",
    "\n",
    "- Fare - O boxplot nos mostra que há muitos pontos fora da curvas no preço das passagens\n",
    "- Idade - Há poucos pontos fora da curva"
   ]
  },
  {
   "cell_type": "code",
   "execution_count": 6,
   "id": "ebb26c11-21ab-415b-abbe-b79b8dcd3ad8",
   "metadata": {},
   "outputs": [
    {
     "data": {
      "image/png": "[encoded data removed]",
      "text/plain": [
       "plot without title"
      ]
     },
     "metadata": {},
     "output_type": "display_data"
    },
    {
     "data": {
      "image/png": "[encoded data removed]",
      "text/plain": [
       "plot without title"
      ]
     },
     "metadata": {},
     "output_type": "display_data"
    }
   ],
   "source": [
    "boxplot(df$Fare)\n",
    "boxplot(df$Age)"
   ]
  },
  {
   "cell_type": "markdown",
   "id": "40523c58-48b3-4358-8944-f027f2f15509",
   "metadata": {},
   "source": [
    "# Gráfico de Dispersão"
   ]
  },
  {
   "cell_type": "code",
   "execution_count": 7,
   "id": "3cfbca78-b933-4a94-8bfb-4436abd19175",
   "metadata": {},
   "outputs": [
    {
     "data": {
      "image/png": "[encoded data removed]",
      "text/plain": [
       "plot without title"
      ]
     },
     "metadata": {},
     "output_type": "display_data"
    }
   ],
   "source": [
    "plot(df$Age, df$Fare)"
   ]
  },
  {
   "cell_type": "markdown",
   "id": "89663262-0577-4057-ae7b-3b109f4e3673",
   "metadata": {},
   "source": [
    "# Percentis\n",
    "\n",
    "- Fare \n",
    "    - Notamos que menos de 2% das pessoas pagaram 6.75\n",
    "    - Notamos que quase 98% dos passageiros paragram passagens igual ou menor que 153\n",
    "- Age\n",
    "    - Notamos que 2% dos passageiros possuem idade igual ou menor que 2\n",
    "    - Notamos que quase 98% dos passageiros possuem idade igual ou menor a 62"
   ]
  },
  {
   "cell_type": "code",
   "execution_count": 8,
   "id": "b0a634f0-8c5f-49a9-9c44-014eb04b35a7",
   "metadata": {},
   "outputs": [
    {
     "data": {
      "text/html": [
       "<strong>2.5%:</strong> 6.75"
      ],
      "text/latex": [
       "\\textbf{2.5\\textbackslash{}\\%:} 6.75"
      ],
      "text/markdown": [
       "**2.5%:** 6.75"
      ],
      "text/plain": [
       "2.5% \n",
       "6.75 "
      ]
     },
     "metadata": {},
     "output_type": "display_data"
    },
    {
     "data": {
      "text/html": [
       "<strong>50%:</strong> 14.4542"
      ],
      "text/latex": [
       "\\textbf{50\\textbackslash{}\\%:} 14.4542"
      ],
      "text/markdown": [
       "**50%:** 14.4542"
      ],
      "text/plain": [
       "    50% \n",
       "14.4542 "
      ]
     },
     "metadata": {},
     "output_type": "display_data"
    },
    {
     "data": {
      "text/html": [
       "<strong>97.5%:</strong> 153.4625"
      ],
      "text/latex": [
       "\\textbf{97.5\\textbackslash{}\\%:} 153.4625"
      ],
      "text/markdown": [
       "**97.5%:** 153.4625"
      ],
      "text/plain": [
       "   97.5% \n",
       "153.4625 "
      ]
     },
     "metadata": {},
     "output_type": "display_data"
    }
   ],
   "source": [
    "baixo <- quantile(df$Fare, 0.025)\n",
    "baixo\n",
    "meio <- quantile(df$Fare, 0.5)\n",
    "meio\n",
    "alto <- quantile(df$Fare, 0.975)\n",
    "alto"
   ]
  },
  {
   "cell_type": "code",
   "execution_count": 9,
   "id": "819d206c-7334-458b-9eaf-bd607b6b28f1",
   "metadata": {},
   "outputs": [
    {
     "data": {
      "text/html": [
       "<strong>2.5%:</strong> 2"
      ],
      "text/latex": [
       "\\textbf{2.5\\textbackslash{}\\%:} 2"
      ],
      "text/markdown": [
       "**2.5%:** 2"
      ],
      "text/plain": [
       "2.5% \n",
       "   2 "
      ]
     },
     "metadata": {},
     "output_type": "display_data"
    },
    {
     "data": {
      "text/html": [
       "<strong>50%:</strong> 28"
      ],
      "text/latex": [
       "\\textbf{50\\textbackslash{}\\%:} 28"
      ],
      "text/markdown": [
       "**50%:** 28"
      ],
      "text/plain": [
       "50% \n",
       " 28 "
      ]
     },
     "metadata": {},
     "output_type": "display_data"
    },
    {
     "data": {
      "text/html": [
       "<strong>97.5%:</strong> 62"
      ],
      "text/latex": [
       "\\textbf{97.5\\textbackslash{}\\%:} 62"
      ],
      "text/markdown": [
       "**97.5%:** 62"
      ],
      "text/plain": [
       "97.5% \n",
       "   62 "
      ]
     },
     "metadata": {},
     "output_type": "display_data"
    }
   ],
   "source": [
    "baixo2 <- quantile(df$Age, 0.025, na.rm = T)\n",
    "baixo2\n",
    "meio2 <- quantile(df$Age, 0.5, na.rm = T)\n",
    "meio2\n",
    "alto2 <- quantile(df$Age, 0.975, na.rm = T)\n",
    "alto2"
   ]
  },
  {
   "cell_type": "markdown",
   "id": "bdbc8b9b-79a1-4451-bc6f-b3101d6675e1",
   "metadata": {},
   "source": [
    "## Indíces\n",
    "\n",
    "- Com a função **which** podemos pegar os índices dos valores que podemos considerar como possíveis outliers"
   ]
  },
  {
   "cell_type": "code",
   "execution_count": 10,
   "id": "43a828ba-d86a-49cd-ba0b-f03f8bcb2349",
   "metadata": {},
   "outputs": [
    {
     "name": "stdout",
     "output_type": "stream",
     "text": [
      " [1]  28  89 119 180 203 259 264 272 278 300 303 312 319 327 342 372 378 379 381\n",
      "[20] 414 439 467 482 528 558 598 634 675 680 690 701 717 731 733 738 743 780 807\n",
      "[39] 816 819 823 844 857 873\n"
     ]
    }
   ],
   "source": [
    "indice_outliers <- which(df$Fare < baixo | df$Fare > alto)\n",
    "print(indice_outliers)"
   ]
  },
  {
   "cell_type": "markdown",
   "id": "1d2448a8-2b2e-4d48-8000-8174bebe3438",
   "metadata": {},
   "source": [
    "# Filtro de Hampel"
   ]
  },
  {
   "cell_type": "code",
   "execution_count": 11,
   "id": "a83f9524-ed99-46f6-a9ce-244389141f67",
   "metadata": {},
   "outputs": [
    {
     "data": {
      "text/html": [
       "-6.2584"
      ],
      "text/latex": [
       "-6.2584"
      ],
      "text/markdown": [
       "-6.2584"
      ],
      "text/plain": [
       "[1] -6.2584"
      ]
     },
     "metadata": {},
     "output_type": "display_data"
    },
    {
     "data": {
      "text/html": [
       "35.1668"
      ],
      "text/latex": [
       "35.1668"
      ],
      "text/markdown": [
       "35.1668"
      ],
      "text/plain": [
       "[1] 35.1668"
      ]
     },
     "metadata": {},
     "output_type": "display_data"
    }
   ],
   "source": [
    "baixo <- median(df$Fare) - 3 * mad(df$Fare, constant = 1)\n",
    "baixo\n",
    "alto <- median(df$Fare) + 3 * mad(df$Fare, constant = 1)\n",
    "alto"
   ]
  },
  {
   "cell_type": "markdown",
   "id": "1b725574-dc34-40d3-b61a-d66e3ca06c0c",
   "metadata": {},
   "source": [
    "## Indíces\n",
    "- Com a função **which** podemos pegar os índices dos valores que podemos considerar como possíveis outliers"
   ]
  },
  {
   "cell_type": "code",
   "execution_count": 12,
   "id": "cec9a15a-ae1c-4f1e-b075-1d1cb35f1225",
   "metadata": {},
   "outputs": [
    {
     "name": "stdout",
     "output_type": "stream",
     "text": [
      "  [1]   2   4   7  24  28  32  35  36  44  51  53  55  56  60  62  63  72  73\n",
      " [19]  75  84  89  93  98 103 111 119 121 125 138 140 146 152 156 160 165 167\n",
      " [37] 170 181 184 186 196 202 216 219 225 231 246 249 257 258 259 263 267 269\n",
      " [55] 270 276 291 292 298 300 306 307 308 310 311 312 319 320 325 326 330 333\n",
      " [73] 335 337 338 340 342 357 367 370 371 374 376 378 381 384 386 387 391 394\n",
      " [91] 413 435 436 439 446 454 458 463 476 481 485 487 494 497 499 505 506 510\n",
      "[109] 514 521 524 528 538 540 541 545 550 551 557 558 559 572 578 582 584 586\n",
      "[127] 588 592 600 603 609 610 616 619 622 628 639 642 644 646 648 656 660 661\n",
      "[145] 666 670 671 672 679 680 682 684 685 686 687 690 691 693 699 701 709 711\n",
      "[163] 713 717 725 731 738 742 743 746 749 755 760 764 766 767 780 782 790 793\n",
      "[181] 803 810 818 821 825 827 828 830 836 839 847 850 854 857 864 868 872 880\n"
     ]
    }
   ],
   "source": [
    "indice_outliers <- which(df$Fare < baixo | df$Fare > alto)\n",
    "print(indice_outliers)"
   ]
  },
  {
   "cell_type": "markdown",
   "id": "de4b86c0-e5b4-4d1e-954c-2c9986d052ef",
   "metadata": {},
   "source": [
    "## Teste de Grubbs\n",
    "\n",
    "- O teste de Grubbs pode ser feito com o método **grubbs.test** que irá identificar se o maior valor dos dados é um outlier\n",
    "- Caso queria o menor valor, devemos especificar o parâmetro **opposite = TRUE**"
   ]
  },
  {
   "cell_type": "code",
   "execution_count": 13,
   "id": "1a8d8c9f-7650-40a8-bd98-e4a71b22f374",
   "metadata": {},
   "outputs": [
    {
     "data": {
      "text/plain": [
       "\n",
       "\tGrubbs test for one outlier\n",
       "\n",
       "data:  df$Fare\n",
       "G = 9.6617, U = 0.8950, p-value < 2.2e-16\n",
       "alternative hypothesis: highest value 512.3292 is an outlier\n"
      ]
     },
     "metadata": {},
     "output_type": "display_data"
    }
   ],
   "source": [
    "test <- grubbs.test(df$Fare)\n",
    "test"
   ]
  },
  {
   "cell_type": "code",
   "execution_count": 14,
   "id": "026e9d91-3102-46db-b56e-2174242e4aec",
   "metadata": {},
   "outputs": [
    {
     "data": {
      "text/plain": [
       "\n",
       "\tGrubbs test for one outlier\n",
       "\n",
       "data:  df$Fare\n",
       "G = 0.64806, U = 0.99953, p-value = 1\n",
       "alternative hypothesis: lowest value 0 is an outlier\n"
      ]
     },
     "metadata": {},
     "output_type": "display_data"
    }
   ],
   "source": [
    "test <- grubbs.test(df$Fare, opposite = TRUE)\n",
    "test"
   ]
  },
  {
   "cell_type": "markdown",
   "id": "4e0a69cd-1785-4fa7-ae4a-d5cdaaa18763",
   "metadata": {},
   "source": [
    "## Teste de Dixon\n",
    "\n",
    "- O teste de Dixon pode ser feito com o método dixon.test que irá identificar se o maior valor dos dados é um outlier\n",
    "- Caso queria o menor valor, devemos especificar o parâmetro opposite = TRUE\n",
    "- **O método funiona apenas para conjuntos pequenos de dados (entre 3 e 30 dados)**."
   ]
  },
  {
   "cell_type": "code",
   "execution_count": 15,
   "id": "6a76ce29-cd37-48e3-9cfb-39fbac96bc9b",
   "metadata": {},
   "outputs": [
    {
     "data": {
      "text/plain": [
       "\n",
       "\tDixon test for outliers\n",
       "\n",
       "data:  subdf$Fare\n",
       "Q = 0.30618, p-value = 0.5449\n",
       "alternative hypothesis: highest value 71.2833 is an outlier\n"
      ]
     },
     "metadata": {},
     "output_type": "display_data"
    }
   ],
   "source": [
    "subdf = df[1:20, ]\n",
    "test <- dixon.test(subdf$Fare)\n",
    "test"
   ]
  },
  {
   "cell_type": "code",
   "execution_count": 16,
   "id": "783acb12-7916-4015-b00f-cc52e4f268d8",
   "metadata": {},
   "outputs": [
    {
     "data": {
      "text/plain": [
       "\n",
       "\tDixon test for outliers\n",
       "\n",
       "data:  subdf$Fare\n",
       "Q = 0.014096, p-value < 2.2e-16\n",
       "alternative hypothesis: lowest value 7.225 is an outlier\n"
      ]
     },
     "metadata": {},
     "output_type": "display_data"
    }
   ],
   "source": [
    "subdf = df[1:20, ]\n",
    "test <- dixon.test(subdf$Fare, opposite = TRUE)\n",
    "test"
   ]
  },
  {
   "cell_type": "markdown",
   "id": "130128e1-978c-44b9-89b9-7a1123a54d65",
   "metadata": {},
   "source": [
    "## Teste de Rosner\n",
    "\n",
    "- O teste de Rosner pode ser feito com o método rosnerTest que irá identificar se um conjunto de k maiores valores dos dados são outliers"
   ]
  },
  {
   "cell_type": "code",
   "execution_count": 17,
   "id": "6e9e4779-4706-4c81-985b-04fa4bda3177",
   "metadata": {},
   "outputs": [
    {
     "data": {
      "text/plain": [
       "\n",
       "Results of Outlier Test\n",
       "-------------------------\n",
       "\n",
       "Test Method:                     Rosner's Test for Outliers\n",
       "\n",
       "Hypothesized Distribution:       Normal\n",
       "\n",
       "Data:                            df$Fare\n",
       "\n",
       "Sample Size:                     891\n",
       "\n",
       "Test Statistics:                 R.1  =  9.661740\n",
       "                                 R.2  = 10.218532\n",
       "                                 R.3  = 10.884205\n",
       "                                 R.4  =  5.644447\n",
       "                                 R.5  =  5.751990\n",
       "                                 R.6  =  5.865923\n",
       "                                 R.7  =  5.986907\n",
       "                                 R.8  =  6.099327\n",
       "                                 R.9  =  6.235700\n",
       "                                 R.10 =  5.975457\n",
       "\n",
       "Test Statistic Parameter:        k = 10\n",
       "\n",
       "Alternative Hypothesis:          Up to 10 observations are not\n",
       "                                 from the same Distribution.\n",
       "\n",
       "Type I Error:                    5%\n",
       "\n",
       "Number of Outliers Detected:     10\n",
       "\n",
       "   i   Mean.i     SD.i    Value Obs.Num     R.i+1 lambda.i+1 Outlier\n",
       "1  0 32.20421 49.69343 512.3292     259  9.661740   4.011374    TRUE\n",
       "2  1 31.66474 47.03850 512.3292     680 10.218532   4.011094    TRUE\n",
       "3  2 31.12406 44.21133 512.3292     738 10.884205   4.010814    TRUE\n",
       "4  3 30.58216 41.17637 263.0000      28  5.644447   4.010533    TRUE\n",
       "5  4 30.32014 40.45207 263.0000      89  5.751990   4.010252    TRUE\n",
       "6  5 30.05752 39.71114 263.0000     342  5.865923   4.009971    TRUE\n",
       "7  6 29.79431 38.95262 263.0000     439  5.986907   4.009690    TRUE\n",
       "8  7 29.53050 38.17544 262.3750     312  6.099327   4.009408    TRUE\n",
       "9  8 29.26680 37.38284 262.3750     743  6.235700   4.009125    TRUE\n",
       "10 9 29.00251 36.56930 247.5208     119  5.975457   4.008843    TRUE\n",
       "\n"
      ]
     },
     "metadata": {},
     "output_type": "display_data"
    }
   ],
   "source": [
    "test <- rosnerTest(df$Fare, k = 10)\n",
    "test"
   ]
  },
  {
   "cell_type": "code",
   "execution_count": 18,
   "id": "d6b8a86f-e073-4268-b861-53b3c7fe8062",
   "metadata": {},
   "outputs": [
    {
     "data": {
      "text/html": [
       "<table>\n",
       "<thead><tr><th scope=col>i</th><th scope=col>Mean.i</th><th scope=col>SD.i</th><th scope=col>Value</th><th scope=col>Obs.Num</th><th scope=col>R.i+1</th><th scope=col>lambda.i+1</th><th scope=col>Outlier</th></tr></thead>\n",
       "<tbody>\n",
       "\t<tr><td>0        </td><td>32.20421 </td><td>49.69343 </td><td>512.3292 </td><td>259      </td><td> 9.661740</td><td>4.011374 </td><td>TRUE     </td></tr>\n",
       "\t<tr><td>1        </td><td>31.66474 </td><td>47.03850 </td><td>512.3292 </td><td>680      </td><td>10.218532</td><td>4.011094 </td><td>TRUE     </td></tr>\n",
       "\t<tr><td>2        </td><td>31.12406 </td><td>44.21133 </td><td>512.3292 </td><td>738      </td><td>10.884205</td><td>4.010814 </td><td>TRUE     </td></tr>\n",
       "\t<tr><td>3        </td><td>30.58216 </td><td>41.17637 </td><td>263.0000 </td><td> 28      </td><td> 5.644447</td><td>4.010533 </td><td>TRUE     </td></tr>\n",
       "\t<tr><td>4        </td><td>30.32014 </td><td>40.45207 </td><td>263.0000 </td><td> 89      </td><td> 5.751990</td><td>4.010252 </td><td>TRUE     </td></tr>\n",
       "\t<tr><td>5        </td><td>30.05752 </td><td>39.71114 </td><td>263.0000 </td><td>342      </td><td> 5.865923</td><td>4.009971 </td><td>TRUE     </td></tr>\n",
       "\t<tr><td>6        </td><td>29.79431 </td><td>38.95262 </td><td>263.0000 </td><td>439      </td><td> 5.986907</td><td>4.009690 </td><td>TRUE     </td></tr>\n",
       "\t<tr><td>7        </td><td>29.53050 </td><td>38.17544 </td><td>262.3750 </td><td>312      </td><td> 6.099327</td><td>4.009408 </td><td>TRUE     </td></tr>\n",
       "\t<tr><td>8        </td><td>29.26680 </td><td>37.38284 </td><td>262.3750 </td><td>743      </td><td> 6.235700</td><td>4.009125 </td><td>TRUE     </td></tr>\n",
       "\t<tr><td>9        </td><td>29.00251 </td><td>36.56930 </td><td>247.5208 </td><td>119      </td><td> 5.975457</td><td>4.008843 </td><td>TRUE     </td></tr>\n",
       "</tbody>\n",
       "</table>\n"
      ],
      "text/latex": [
       "\\begin{tabular}{r|llllllll}\n",
       " i & Mean.i & SD.i & Value & Obs.Num & R.i+1 & lambda.i+1 & Outlier\\\\\n",
       "\\hline\n",
       "\t 0         & 32.20421  & 49.69343  & 512.3292  & 259       &  9.661740 & 4.011374  & TRUE     \\\\\n",
       "\t 1         & 31.66474  & 47.03850  & 512.3292  & 680       & 10.218532 & 4.011094  & TRUE     \\\\\n",
       "\t 2         & 31.12406  & 44.21133  & 512.3292  & 738       & 10.884205 & 4.010814  & TRUE     \\\\\n",
       "\t 3         & 30.58216  & 41.17637  & 263.0000  &  28       &  5.644447 & 4.010533  & TRUE     \\\\\n",
       "\t 4         & 30.32014  & 40.45207  & 263.0000  &  89       &  5.751990 & 4.010252  & TRUE     \\\\\n",
       "\t 5         & 30.05752  & 39.71114  & 263.0000  & 342       &  5.865923 & 4.009971  & TRUE     \\\\\n",
       "\t 6         & 29.79431  & 38.95262  & 263.0000  & 439       &  5.986907 & 4.009690  & TRUE     \\\\\n",
       "\t 7         & 29.53050  & 38.17544  & 262.3750  & 312       &  6.099327 & 4.009408  & TRUE     \\\\\n",
       "\t 8         & 29.26680  & 37.38284  & 262.3750  & 743       &  6.235700 & 4.009125  & TRUE     \\\\\n",
       "\t 9         & 29.00251  & 36.56930  & 247.5208  & 119       &  5.975457 & 4.008843  & TRUE     \\\\\n",
       "\\end{tabular}\n"
      ],
      "text/markdown": [
       "\n",
       "| i | Mean.i | SD.i | Value | Obs.Num | R.i+1 | lambda.i+1 | Outlier |\n",
       "|---|---|---|---|---|---|---|---|\n",
       "| 0         | 32.20421  | 49.69343  | 512.3292  | 259       |  9.661740 | 4.011374  | TRUE      |\n",
       "| 1         | 31.66474  | 47.03850  | 512.3292  | 680       | 10.218532 | 4.011094  | TRUE      |\n",
       "| 2         | 31.12406  | 44.21133  | 512.3292  | 738       | 10.884205 | 4.010814  | TRUE      |\n",
       "| 3         | 30.58216  | 41.17637  | 263.0000  |  28       |  5.644447 | 4.010533  | TRUE      |\n",
       "| 4         | 30.32014  | 40.45207  | 263.0000  |  89       |  5.751990 | 4.010252  | TRUE      |\n",
       "| 5         | 30.05752  | 39.71114  | 263.0000  | 342       |  5.865923 | 4.009971  | TRUE      |\n",
       "| 6         | 29.79431  | 38.95262  | 263.0000  | 439       |  5.986907 | 4.009690  | TRUE      |\n",
       "| 7         | 29.53050  | 38.17544  | 262.3750  | 312       |  6.099327 | 4.009408  | TRUE      |\n",
       "| 8         | 29.26680  | 37.38284  | 262.3750  | 743       |  6.235700 | 4.009125  | TRUE      |\n",
       "| 9         | 29.00251  | 36.56930  | 247.5208  | 119       |  5.975457 | 4.008843  | TRUE      |\n",
       "\n"
      ],
      "text/plain": [
       "   i Mean.i   SD.i     Value    Obs.Num R.i+1     lambda.i+1 Outlier\n",
       "1  0 32.20421 49.69343 512.3292 259      9.661740 4.011374   TRUE   \n",
       "2  1 31.66474 47.03850 512.3292 680     10.218532 4.011094   TRUE   \n",
       "3  2 31.12406 44.21133 512.3292 738     10.884205 4.010814   TRUE   \n",
       "4  3 30.58216 41.17637 263.0000  28      5.644447 4.010533   TRUE   \n",
       "5  4 30.32014 40.45207 263.0000  89      5.751990 4.010252   TRUE   \n",
       "6  5 30.05752 39.71114 263.0000 342      5.865923 4.009971   TRUE   \n",
       "7  6 29.79431 38.95262 263.0000 439      5.986907 4.009690   TRUE   \n",
       "8  7 29.53050 38.17544 262.3750 312      6.099327 4.009408   TRUE   \n",
       "9  8 29.26680 37.38284 262.3750 743      6.235700 4.009125   TRUE   \n",
       "10 9 29.00251 36.56930 247.5208 119      5.975457 4.008843   TRUE   "
      ]
     },
     "metadata": {},
     "output_type": "display_data"
    }
   ],
   "source": [
    "test$all.stats"
   ]
  },
  {
   "cell_type": "markdown",
   "id": "6f97fc89-a0e6-42da-96c9-609a2ee44c04",
   "metadata": {},
   "source": [
    "# DBScan\n",
    "\n",
    "- Os grupos com valore zerado indica outliers, que não pertence a nenhum grupo. "
   ]
  },
  {
   "cell_type": "code",
   "execution_count": 32,
   "id": "0687d5b0-bd17-41cc-a735-bf84b2bc47da",
   "metadata": {},
   "outputs": [],
   "source": [
    "df2 = df[is.na(df$Age) == F, c(6,10)]\n",
    "df2 = scale(df2)\n",
    "agrupador = dbscan(df2, eps = 0.5, minPts = 10)\n",
    "grupos = agrupador$cluster"
   ]
  },
  {
   "cell_type": "code",
   "execution_count": 71,
   "id": "52389488-cb19-4862-8c90-ad1b4661038a",
   "metadata": {},
   "outputs": [
    {
     "data": {
      "text/html": [
       "<ol class=list-inline>\n",
       "\t<li>1</li>\n",
       "\t<li>0</li>\n",
       "</ol>\n"
      ],
      "text/latex": [
       "\\begin{enumerate*}\n",
       "\\item 1\n",
       "\\item 0\n",
       "\\end{enumerate*}\n"
      ],
      "text/markdown": [
       "1. 1\n",
       "2. 0\n",
       "\n",
       "\n"
      ],
      "text/plain": [
       "[1] 1 0"
      ]
     },
     "metadata": {},
     "output_type": "display_data"
    }
   ],
   "source": [
    "unique(grupos)"
   ]
  },
  {
   "cell_type": "code",
   "execution_count": 72,
   "id": "34ccde6e-8a57-4bcb-92a9-7a7ab0640176",
   "metadata": {},
   "outputs": [
    {
     "data": {
      "image/png": "[encoded data removed]",
      "text/plain": [
       "Plot with title \"CLUSPLOT( df2 )\""
      ]
     },
     "metadata": {},
     "output_type": "display_data"
    }
   ],
   "source": [
    "clusplot( \n",
    "    df2,\n",
    "    grupos,\n",
    "    color = TRUE,\n",
    ")"
   ]
  },
  {
   "cell_type": "code",
   "execution_count": 83,
   "id": "724dfb2a-03f9-4781-9f13-53e98ba18979",
   "metadata": {},
   "outputs": [
    {
     "data": {
      "image/png": "[encoded data removed]",
      "text/plain": [
       "plot without title"
      ]
     },
     "metadata": {},
     "output_type": "display_data"
    }
   ],
   "source": [
    "options(repr.plot.width=8, repr.plot.height= 4)\n",
    "\n",
    "plot(\n",
    "    Fare ~ Age,\n",
    "    data = df2,\n",
    "    ylim = c(-1, 10),\n",
    "    col = c(\"red\", \"black\")[as.factor(grupos)]\n",
    ")"
   ]
  },
  {
   "cell_type": "code",
   "execution_count": null,
   "id": "248e9206-e085-498f-97a0-d736691562f4",
   "metadata": {},
   "outputs": [],
   "source": []
  }
 ],
 "metadata": {
  "kernelspec": {
   "display_name": "R",
   "language": "R",
   "name": "ir"
  },
  "language_info": {
   "codemirror_mode": "r",
   "file_extension": ".r",
   "mimetype": "text/x-r-source",
   "name": "R",
   "pygments_lexer": "r",
   "version": "3.6.1"
  }
 },
 "nbformat": 4,
 "nbformat_minor": 5
}
