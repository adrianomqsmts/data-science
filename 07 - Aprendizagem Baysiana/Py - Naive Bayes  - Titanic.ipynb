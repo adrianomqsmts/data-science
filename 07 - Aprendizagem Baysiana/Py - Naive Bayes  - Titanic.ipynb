{
 "cells": [
  {
   "cell_type": "markdown",
   "id": "2ea9869c-b8c3-4f56-8866-f0cbf965a07e",
   "metadata": {},
   "source": [
    "# Naive Bayes"
   ]
  },
  {
   "cell_type": "markdown",
   "id": "bb0d92ac-e346-44f7-88ac-b526b81be3a5",
   "metadata": {},
   "source": [
    "## Carregando Biblioteca"
   ]
  },
  {
   "cell_type": "code",
   "execution_count": 1,
   "id": "b963b731-61d1-41c9-a6b6-012b29349ad7",
   "metadata": {},
   "outputs": [],
   "source": [
    "import pandas as pd\n",
    "import numpy as np\n",
    "#Visualização de dados\n",
    "import seaborn as sns\n",
    "import matplotlib.pyplot as plt\n",
    "#Pré-processamento\n",
    "from sklearn.preprocessing import LabelEncoder\n",
    "from sklearn.preprocessing import scale\n",
    "#Dados de Treino\n",
    "from sklearn import datasets\n",
    "from sklearn.model_selection import train_test_split\n",
    "#NaiveBayes\n",
    "from sklearn.naive_bayes import GaussianNB\n",
    "#Metricas\n",
    "from sklearn.metrics import confusion_matrix\n",
    "from sklearn.metrics import classification_report\n",
    "from sklearn.model_selection import cross_val_score\n",
    "from sklearn.metrics import accuracy_score"
   ]
  },
  {
   "cell_type": "markdown",
   "id": "33e6849d-9d0b-4ef6-ab42-9a49b187aaee",
   "metadata": {},
   "source": [
    "## Carregando os dados"
   ]
  },
  {
   "cell_type": "code",
   "execution_count": 3,
   "id": "3e677a2b-dd85-41ac-8c2e-9a4618c745f0",
   "metadata": {},
   "outputs": [
    {
     "data": {
      "text/html": [
       "<div>\n",
       "<style scoped>\n",
       "    .dataframe tbody tr th:only-of-type {\n",
       "        vertical-align: middle;\n",
       "    }\n",
       "\n",
       "    .dataframe tbody tr th {\n",
       "        vertical-align: top;\n",
       "    }\n",
       "\n",
       "    .dataframe thead th {\n",
       "        text-align: right;\n",
       "    }\n",
       "</style>\n",
       "<table border=\"1\" class=\"dataframe\">\n",
       "  <thead>\n",
       "    <tr style=\"text-align: right;\">\n",
       "      <th></th>\n",
       "      <th>PassengerId</th>\n",
       "      <th>Survived</th>\n",
       "      <th>Pclass</th>\n",
       "      <th>Name</th>\n",
       "      <th>Sex</th>\n",
       "      <th>Age</th>\n",
       "      <th>SibSp</th>\n",
       "      <th>Parch</th>\n",
       "      <th>Ticket</th>\n",
       "      <th>Fare</th>\n",
       "      <th>Cabin</th>\n",
       "      <th>Embarked</th>\n",
       "    </tr>\n",
       "  </thead>\n",
       "  <tbody>\n",
       "    <tr>\n",
       "      <th>0</th>\n",
       "      <td>1</td>\n",
       "      <td>0</td>\n",
       "      <td>3</td>\n",
       "      <td>Braund, Mr. Owen Harris</td>\n",
       "      <td>male</td>\n",
       "      <td>22.0</td>\n",
       "      <td>1</td>\n",
       "      <td>0</td>\n",
       "      <td>A/5 21171</td>\n",
       "      <td>7.2500</td>\n",
       "      <td>NaN</td>\n",
       "      <td>S</td>\n",
       "    </tr>\n",
       "    <tr>\n",
       "      <th>1</th>\n",
       "      <td>2</td>\n",
       "      <td>1</td>\n",
       "      <td>1</td>\n",
       "      <td>Cumings, Mrs. John Bradley (Florence Briggs Th...</td>\n",
       "      <td>female</td>\n",
       "      <td>38.0</td>\n",
       "      <td>1</td>\n",
       "      <td>0</td>\n",
       "      <td>PC 17599</td>\n",
       "      <td>71.2833</td>\n",
       "      <td>C85</td>\n",
       "      <td>C</td>\n",
       "    </tr>\n",
       "    <tr>\n",
       "      <th>2</th>\n",
       "      <td>3</td>\n",
       "      <td>1</td>\n",
       "      <td>3</td>\n",
       "      <td>Heikkinen, Miss. Laina</td>\n",
       "      <td>female</td>\n",
       "      <td>26.0</td>\n",
       "      <td>0</td>\n",
       "      <td>0</td>\n",
       "      <td>STON/O2. 3101282</td>\n",
       "      <td>7.9250</td>\n",
       "      <td>NaN</td>\n",
       "      <td>S</td>\n",
       "    </tr>\n",
       "    <tr>\n",
       "      <th>3</th>\n",
       "      <td>4</td>\n",
       "      <td>1</td>\n",
       "      <td>1</td>\n",
       "      <td>Futrelle, Mrs. Jacques Heath (Lily May Peel)</td>\n",
       "      <td>female</td>\n",
       "      <td>35.0</td>\n",
       "      <td>1</td>\n",
       "      <td>0</td>\n",
       "      <td>113803</td>\n",
       "      <td>53.1000</td>\n",
       "      <td>C123</td>\n",
       "      <td>S</td>\n",
       "    </tr>\n",
       "    <tr>\n",
       "      <th>4</th>\n",
       "      <td>5</td>\n",
       "      <td>0</td>\n",
       "      <td>3</td>\n",
       "      <td>Allen, Mr. William Henry</td>\n",
       "      <td>male</td>\n",
       "      <td>35.0</td>\n",
       "      <td>0</td>\n",
       "      <td>0</td>\n",
       "      <td>373450</td>\n",
       "      <td>8.0500</td>\n",
       "      <td>NaN</td>\n",
       "      <td>S</td>\n",
       "    </tr>\n",
       "  </tbody>\n",
       "</table>\n",
       "</div>"
      ],
      "text/plain": [
       "   PassengerId  Survived  Pclass  \\\n",
       "0            1         0       3   \n",
       "1            2         1       1   \n",
       "2            3         1       3   \n",
       "3            4         1       1   \n",
       "4            5         0       3   \n",
       "\n",
       "                                                Name     Sex   Age  SibSp  \\\n",
       "0                            Braund, Mr. Owen Harris    male  22.0      1   \n",
       "1  Cumings, Mrs. John Bradley (Florence Briggs Th...  female  38.0      1   \n",
       "2                             Heikkinen, Miss. Laina  female  26.0      0   \n",
       "3       Futrelle, Mrs. Jacques Heath (Lily May Peel)  female  35.0      1   \n",
       "4                           Allen, Mr. William Henry    male  35.0      0   \n",
       "\n",
       "   Parch            Ticket     Fare Cabin Embarked  \n",
       "0      0         A/5 21171   7.2500   NaN        S  \n",
       "1      0          PC 17599  71.2833   C85        C  \n",
       "2      0  STON/O2. 3101282   7.9250   NaN        S  \n",
       "3      0            113803  53.1000  C123        S  \n",
       "4      0            373450   8.0500   NaN        S  "
      ]
     },
     "execution_count": 3,
     "metadata": {},
     "output_type": "execute_result"
    }
   ],
   "source": [
    "df = pd.read_csv(\"../datasets/titanic/train.csv\")\n",
    "df.head()"
   ]
  },
  {
   "cell_type": "markdown",
   "id": "8c466324-b642-40e2-bd72-638d957c8ce7",
   "metadata": {},
   "source": [
    "## Pré-Processamento de Dados"
   ]
  },
  {
   "cell_type": "code",
   "execution_count": 4,
   "id": "1c3ddd11-cf2d-4908-8645-cc391bfd1ed0",
   "metadata": {},
   "outputs": [
    {
     "data": {
      "text/html": [
       "<div>\n",
       "<style scoped>\n",
       "    .dataframe tbody tr th:only-of-type {\n",
       "        vertical-align: middle;\n",
       "    }\n",
       "\n",
       "    .dataframe tbody tr th {\n",
       "        vertical-align: top;\n",
       "    }\n",
       "\n",
       "    .dataframe thead th {\n",
       "        text-align: right;\n",
       "    }\n",
       "</style>\n",
       "<table border=\"1\" class=\"dataframe\">\n",
       "  <thead>\n",
       "    <tr style=\"text-align: right;\">\n",
       "      <th></th>\n",
       "      <th>Survived</th>\n",
       "      <th>Pclass</th>\n",
       "      <th>Name</th>\n",
       "      <th>Sex</th>\n",
       "      <th>Age</th>\n",
       "      <th>SibSp</th>\n",
       "      <th>Parch</th>\n",
       "      <th>Fare</th>\n",
       "      <th>Embarked</th>\n",
       "    </tr>\n",
       "  </thead>\n",
       "  <tbody>\n",
       "    <tr>\n",
       "      <th>0</th>\n",
       "      <td>0</td>\n",
       "      <td>3</td>\n",
       "      <td>6</td>\n",
       "      <td>1</td>\n",
       "      <td>-0.592481</td>\n",
       "      <td>1</td>\n",
       "      <td>0</td>\n",
       "      <td>-0.502445</td>\n",
       "      <td>2</td>\n",
       "    </tr>\n",
       "    <tr>\n",
       "      <th>1</th>\n",
       "      <td>1</td>\n",
       "      <td>1</td>\n",
       "      <td>6</td>\n",
       "      <td>0</td>\n",
       "      <td>0.638789</td>\n",
       "      <td>1</td>\n",
       "      <td>0</td>\n",
       "      <td>0.786845</td>\n",
       "      <td>0</td>\n",
       "    </tr>\n",
       "    <tr>\n",
       "      <th>2</th>\n",
       "      <td>1</td>\n",
       "      <td>3</td>\n",
       "      <td>5</td>\n",
       "      <td>0</td>\n",
       "      <td>-0.284663</td>\n",
       "      <td>0</td>\n",
       "      <td>0</td>\n",
       "      <td>-0.488854</td>\n",
       "      <td>2</td>\n",
       "    </tr>\n",
       "    <tr>\n",
       "      <th>3</th>\n",
       "      <td>1</td>\n",
       "      <td>1</td>\n",
       "      <td>6</td>\n",
       "      <td>0</td>\n",
       "      <td>0.407926</td>\n",
       "      <td>1</td>\n",
       "      <td>0</td>\n",
       "      <td>0.420730</td>\n",
       "      <td>2</td>\n",
       "    </tr>\n",
       "    <tr>\n",
       "      <th>4</th>\n",
       "      <td>0</td>\n",
       "      <td>3</td>\n",
       "      <td>6</td>\n",
       "      <td>1</td>\n",
       "      <td>0.407926</td>\n",
       "      <td>0</td>\n",
       "      <td>0</td>\n",
       "      <td>-0.486337</td>\n",
       "      <td>2</td>\n",
       "    </tr>\n",
       "  </tbody>\n",
       "</table>\n",
       "</div>"
      ],
      "text/plain": [
       "   Survived  Pclass  Name  Sex       Age  SibSp  Parch      Fare  Embarked\n",
       "0         0       3     6    1 -0.592481      1      0 -0.502445         2\n",
       "1         1       1     6    0  0.638789      1      0  0.786845         0\n",
       "2         1       3     5    0 -0.284663      0      0 -0.488854         2\n",
       "3         1       1     6    0  0.407926      1      0  0.420730         2\n",
       "4         0       3     6    1  0.407926      0      0 -0.486337         2"
      ]
     },
     "execution_count": 4,
     "metadata": {},
     "output_type": "execute_result"
    }
   ],
   "source": [
    "def pronomes(x):\n",
    "    if 'Mr' in x:\n",
    "        return 'Mr'\n",
    "    elif 'Don' in x:\n",
    "        return 'Mr'\n",
    "    elif 'Mrs' in x:\n",
    "        return 'Mrs'\n",
    "    elif 'Ms' in x:\n",
    "        return 'Mrs'\n",
    "    elif 'Mme' in x:\n",
    "        return 'Mrs'\n",
    "    elif 'Miss' in x:\n",
    "        return 'Miss'\n",
    "    elif 'Mlle' in x:\n",
    "        return 'Miss'\n",
    "    elif 'Dr' in x:\n",
    "        return 'Dr'\n",
    "    elif 'Rev' in x:\n",
    "        return 'Rev'\n",
    "    elif 'Master' in x:\n",
    "        return 'Master'\n",
    "    elif 'Major' in x:\n",
    "        return 'Major'\n",
    "    elif 'Capt' in x:\n",
    "        return 'Capt'\n",
    "    elif 'Jonkheer' in x:\n",
    "        return 'Mr'\n",
    "    elif 'Col' in x:\n",
    "        return 'Col'\n",
    "    elif 'Countess' in x:\n",
    "        return 'Mrs'\n",
    "    else:\n",
    "        return 'None'\n",
    "# Extração de Pronomes\n",
    "df['Name'] = df['Name'].apply(pronomes)\n",
    "\n",
    "# Categóricas para Numéricas\n",
    "le_name = LabelEncoder()\n",
    "df['Name']  = le_name.fit_transform(df['Name'])\n",
    "\n",
    "# Substituir valores ausentes/nulos\n",
    "df['Age'].fillna(df['Age'].mean(), inplace = True)\n",
    "df.loc[df['Embarked'].isna(), ['Embarked']] = df['Embarked'].value_counts().index[0]\n",
    "\n",
    "# Categórico Para numérico\n",
    "le_sex = LabelEncoder()\n",
    "df['Sex']  = le_sex.fit_transform(df['Sex'])\n",
    "le_embarked = LabelEncoder()\n",
    "df['Embarked'] = le_embarked.fit_transform(df['Embarked'])\n",
    "\n",
    "# Remoção de colunas\n",
    "df = df.drop(columns=['PassengerId', 'Ticket', 'Cabin'])\n",
    "\n",
    "#Escalonamento \n",
    "df[['Age', 'Fare']] = pd.DataFrame( scale(df[['Age', 'Fare']]),\n",
    "                                    index = df.index,\n",
    "                                    columns = ['Age', 'Fare'])\n",
    "\n",
    "df.head()"
   ]
  },
  {
   "cell_type": "markdown",
   "id": "951b7239-8c97-4e18-8806-2823abc42d89",
   "metadata": {},
   "source": [
    "## Dados de Treino e Teste"
   ]
  },
  {
   "cell_type": "code",
   "execution_count": 5,
   "id": "636f6939-6f2a-4658-b35e-8c0c5ae1ad70",
   "metadata": {},
   "outputs": [],
   "source": [
    "x = df.drop(columns='Survived')\n",
    "y = df['Survived']\n",
    "\n",
    "x_train, x_test, y_train, y_test = train_test_split(x, y, test_size=0.2, random_state=0)"
   ]
  },
  {
   "cell_type": "markdown",
   "id": "d0e633a2-8e35-4e6c-9d3a-3c5ce53671dc",
   "metadata": {},
   "source": [
    "# Gaussian Naive Bayes (GaussianNB)\n",
    "\n",
    "- **class_count_** - O número de amostras de treinamento observadas em cada classe\n",
    "- **class_prior_** - As probabilidades de cada classe\n",
    "- **classes_** - Os rótulos de classe conhecidos pelo classificador\n",
    "- **epsilon_** - O valor aditivo absoluto para variâncias\n",
    "- **sigma_** - A variação de cada recurso por classe\n",
    "- **theta_** - A média de cada recurso por classe\n",
    "- O metodo **fit()** é usado para treinar o modelo\n",
    "- O método **predict()** é usado para prever um dado"
   ]
  },
  {
   "cell_type": "code",
   "execution_count": 6,
   "id": "d8e1409f-e385-42d3-b9a4-a25ad84ffadf",
   "metadata": {},
   "outputs": [
    {
     "name": "stdout",
     "output_type": "stream",
     "text": [
      "\n",
      "número de amostras de treinamento observadas em cada classe:\n",
      " [439. 273.]\n",
      "\n",
      "probabilidade de cada classe:\n",
      " [0.61657303 0.38342697]\n",
      "\n",
      "rótulos de classe conhecidos pelo classificador:\n",
      " [0 1]\n",
      "\n",
      "valor aditivo absoluto para variâncias:\n",
      " 1.2996918791819215e-09\n",
      "\n",
      "variação de cada recurso por classe: \n",
      " [[0.5501113  0.39933375 0.12291344 0.93810008 1.79382631 0.69345842\n",
      "  0.4093016  0.50891185]\n",
      " [0.74703807 0.55487126 0.21972655 1.11179165 0.49760496 0.63038549\n",
      "  1.85573392 0.73874599]]\n",
      "\n",
      "média de cada recurso por classe: \n",
      " [[ 2.523918    5.81093394  0.85649203  0.07560458  0.57175399  0.33940774\n",
      "  -0.18956639  1.63781321]\n",
      " [ 1.98534799  5.44688645  0.32600733 -0.11416197  0.46153846  0.47619048\n",
      "   0.28691356  1.4029304 ]]\n"
     ]
    }
   ],
   "source": [
    "classificador = GaussianNB()\n",
    "classificador.fit(x_train, y_train)\n",
    "\n",
    "print(\"\\nnúmero de amostras de treinamento observadas em cada classe:\\n\", classificador.class_count_)\n",
    "print(\"\\nprobabilidade de cada classe:\\n\", classificador.class_prior_)\n",
    "print(\"\\nrótulos de classe conhecidos pelo classificador:\\n\", classificador.classes_)\n",
    "print(\"\\nvalor aditivo absoluto para variâncias:\\n\",  classificador.epsilon_)\n",
    "print(\"\\nvariação de cada recurso por classe: \\n\", classificador.sigma_)\n",
    "print(\"\\nmédia de cada recurso por classe: \\n\", classificador.theta_)"
   ]
  },
  {
   "cell_type": "markdown",
   "id": "11483b45-5fd3-4751-abdc-a10419bb1366",
   "metadata": {},
   "source": [
    "## Prever um valor"
   ]
  },
  {
   "cell_type": "code",
   "execution_count": 7,
   "id": "137dd85a-4f8b-40ae-8426-7422cf1e4e57",
   "metadata": {},
   "outputs": [
    {
     "name": "stdout",
     "output_type": "stream",
     "text": [
      "\n",
      "Prevendo o dataframe criado:  [1]\n"
     ]
    }
   ],
   "source": [
    "data = {\n",
    "    'Pclass': [1],\n",
    "    'Name': ['Miss'],\n",
    "    'Sex': ['female'],\n",
    "    'Age': [5],\n",
    "    'SibSp': [1],\n",
    "    'Parch': [1],\n",
    "    'Fare': [50],\n",
    "    'Embarked': ['C']\n",
    "}\n",
    "\n",
    "#Transformando do Dicionário em DataFrame\n",
    "data = pd.DataFrame(data)\n",
    "\n",
    "#Tratando os Dados\n",
    "# Categóricas para Numéricas\n",
    "\n",
    "data['Name']  = le_name.transform(data['Name'])\n",
    "data['Sex']  = le_sex.transform(data['Sex'])\n",
    "data['Embarked'] = le_embarked.transform(data['Embarked'])\n",
    "data[['Age', 'Fare']] = pd.DataFrame( scale(data[['Age', 'Fare']]),\n",
    "                                    index = data.index,\n",
    "                                    columns = ['Age', 'Fare'])\n",
    "\n",
    "#Classificando\n",
    "previsao = classificador.predict(data)\n",
    "print(\"\\nPrevendo o dataframe criado: \", previsao)"
   ]
  },
  {
   "cell_type": "markdown",
   "id": "4bb9a673-2065-40e0-b618-7852329d66c0",
   "metadata": {},
   "source": [
    "## Prever os dados de Teste"
   ]
  },
  {
   "cell_type": "code",
   "execution_count": 8,
   "id": "7305e30c-c940-44dc-a857-0826c4d81a43",
   "metadata": {},
   "outputs": [
    {
     "name": "stdout",
     "output_type": "stream",
     "text": [
      "Acurácia 80.44692737430168%\n"
     ]
    }
   ],
   "source": [
    "previsao = classificador.predict(x_test)\n",
    "\n",
    "acuracia = 100 * np.sum(previsao == y_test)/ len(y_test)\n",
    "\n",
    "print(\"Acurácia {}%\".format(acuracia))"
   ]
  },
  {
   "cell_type": "markdown",
   "id": "39a86784-36cd-4753-829a-cb9f276cf52f",
   "metadata": {},
   "source": [
    "# Matriz de Confusão\n",
    "\n",
    "- A biblioteca **sklearn.metrics** tem a função **confusion_matrix** que irá nos retornar a matriz de confusão dos dados previstos. \n",
    "- **y_true** - Valores alvo verdadeiros (corretos). \n",
    "- **y_pred** - Alvos estimados conforme retornados por um classificador. \n",
    "- **labels** - Lista de rótulos para indexar a matriz. Isso pode ser usado para reordenar ou selecionar um subconjunto de rótulos. Se Nenhum for fornecido, aqueles que aparecem pelo menos uma vez em y_true ou y_pred são usados na ordem de classificação \n",
    "- **sample_weight** - Pesos de amostra. \n",
    "- **normalize**: {‘true’, ‘pred’, ‘all’}, default=None - Normaliza a matriz de confusão sobre as condições verdadeiras (linhas), preditas (colunas) ou toda a população. Se nenhum, a matriz de confusão não será normalizada. "
   ]
  },
  {
   "cell_type": "code",
   "execution_count": 9,
   "id": "3bb525af-e088-4af5-a530-4900afffcc79",
   "metadata": {},
   "outputs": [
    {
     "data": {
      "text/plain": [
       "array([[89, 21],\n",
       "       [14, 55]], dtype=int64)"
      ]
     },
     "execution_count": 9,
     "metadata": {},
     "output_type": "execute_result"
    }
   ],
   "source": [
    "confusion_matrix(y_test, previsao)"
   ]
  },
  {
   "cell_type": "markdown",
   "id": "cb701eda-a41a-454c-b650-0491aab1d34d",
   "metadata": {},
   "source": [
    "## Personalizando a matriz de confusão"
   ]
  },
  {
   "cell_type": "code",
   "execution_count": 10,
   "id": "4b45dd33-2095-49df-8630-db273bcf0638",
   "metadata": {},
   "outputs": [
    {
     "data": {
      "image/png": "[encoded data removed]",
      "text/plain": [
       "<Figure size 432x288 with 2 Axes>"
      ]
     },
     "metadata": {
      "needs_background": "light"
     },
     "output_type": "display_data"
    }
   ],
   "source": [
    "cm = confusion_matrix(y_test, previsao)\n",
    "ax= plt.subplot()\n",
    "sns.heatmap(cm, annot=True, ax = ax); #annot=True to annotate cells\n",
    "\n",
    "# labels, title and ticks\n",
    "ax.set_xlabel('Previsão');\n",
    "ax.set_ylabel('Verdadeiro'); \n",
    "ax.set_title('Confusion Matrix'); \n",
    "ax.xaxis.set_ticklabels(['Morto', 'Vivo']);\n",
    "ax.yaxis.set_ticklabels(['Morto', 'Vivo']);"
   ]
  },
  {
   "cell_type": "markdown",
   "id": "7bbcdf79-eb15-4184-83c5-c16ab18d61c1",
   "metadata": {},
   "source": [
    "# Métricas\n",
    "\n",
    "- A biblioteca **sklearn.metrics** tem a função **classification_report** que cria um relatório de texto mostrando as principais métricas de classificação. \n",
    "- **y_true** - Valores alvo verdadeiros (corretos). \n",
    "- **y_pred** - Alvos estimados conforme retornados por um classificador. \n",
    "- **labels** - Lista opcional de índices de rótulo a serem incluídos no relatório. \n",
    "- **target_names** - Nomes de exibição opcionais que correspondem aos rótulos (mesma ordem) \n",
    "- **sample_weight** - Peso das Amostras\n",
    "- **digits** - Número de dígitos para formatar valores de ponto flutuante de saída. Quando output_dict for True, isso será ignorado e os valores retornados não serão arredondados.\n",
    "- **output_dict** - Se verdadeiro, retorna a saída como dict\n",
    "- **zero_division**: 'warn', 0 or 1, default='warn' - Define o valor a ser retornado quando houver uma divisão zero. Se definido como “aviso”, funciona como 0, mas os avisos também são gerados. "
   ]
  },
  {
   "cell_type": "code",
   "execution_count": 11,
   "id": "9b259ba5-0892-48d7-9827-2ee305aab87c",
   "metadata": {},
   "outputs": [
    {
     "name": "stdout",
     "output_type": "stream",
     "text": [
      "              precision    recall  f1-score   support\n",
      "\n",
      "       Morto       0.86      0.81      0.84       110\n",
      "        Vivo       0.72      0.80      0.76        69\n",
      "\n",
      "    accuracy                           0.80       179\n",
      "   macro avg       0.79      0.80      0.80       179\n",
      "weighted avg       0.81      0.80      0.81       179\n",
      "\n"
     ]
    }
   ],
   "source": [
    "print(classification_report(y_test, previsao, target_names = ['Morto', 'Vivo']))"
   ]
  },
  {
   "cell_type": "markdown",
   "id": "3242cb1b-92b5-4101-bbd5-41309e60cd55",
   "metadata": {},
   "source": [
    "## Acurácia\n",
    "\n",
    "- A função **accuracy_score** pode ser usada para verificar a acurácia dos dados"
   ]
  },
  {
   "cell_type": "code",
   "execution_count": 12,
   "id": "81195f22-d39f-4618-8109-f873a14f2a38",
   "metadata": {},
   "outputs": [
    {
     "data": {
      "text/plain": [
       "0.8044692737430168"
      ]
     },
     "execution_count": 12,
     "metadata": {},
     "output_type": "execute_result"
    }
   ],
   "source": [
    "accuracy_score(y_test, previsao)"
   ]
  },
  {
   "cell_type": "markdown",
   "id": "1df515ea-1ba9-4d28-93dd-3fbf7d8c368d",
   "metadata": {},
   "source": [
    "# Validação Cruzada\n",
    "\n",
    "- A função **cross_val_score** realiza a validação cruzada.\n",
    "- **estimator** - O objeto a ser usado para ajustar os dados (classificador).\n",
    "- **X** - array-like of shape (n_samples, n_features) -   Os dados para caber. Pode ser, por exemplo, uma lista ou um array.\n",
    "- **y** - array-like of shape (n_samples,) or (n_samples, n_outputs), default=None - A variável alvo a tentar prever no caso de aprendizagem supervisionada.\n",
    "- **group** - array-like of shape (n_samples,), default = None -      Rótulos de grupo para as amostras usadas durante a divisão do conjunto de dados em conjunto de treinamento / teste. Usado apenas em conjunto com uma instância cv \"Grupo\" (por exemplo, GroupKFold).\n",
    "- **scoring** - str ou callable, default = None - Um str (consulte a documentação de avaliação do modelo) ou um objeto / função que pode ser chamado de scorer com scorer de assinatura (estimador, X, y) que deve retornar apenas um único valor. Semelhante a cross_validate, mas apenas uma única métrica é permitida.  Se Nenhum, o marcador padrão do estimador (se disponível) é usado.\n",
    "- **cv** - int, gerador de validação cruzada ou iterável, padrão = None -      Determina a estratégia de divisão de validação cruzada. As entradas possíveis para cv são:\n",
    "    - Nenhum, para usar a validação cruzada de 5 vezes padrão,\n",
    "    - int, para especificar o número de dobras em um KFold (estratificado),         - Divisor de CV,\n",
    "    - Um rendimento iterável (treinar, testar) se divide como matrizes de índices.\n",
    "    - Para entradas int / Nenhum, se o estimador for um classificador ey for binário ou multiclasse, StratifiedKFold é usado. Em todos os outros casos, o KFold é usado. Esses divisores são instanciados com shuffle = False para que as divisões sejam iguais nas chamadas.\n",
    "    \n",
    "- **n_jobs** - int, default = None - Número de trabalhos a serem executados em paralelo. O treinamento do estimador e o cálculo da pontuação são paralelizados nas divisões de validação cruzada. Nenhum significa 1, a menos que em um contexto joblib.parallel_backend. -1 significa usar todos os processadores. \n",
    "- **verbose** - int, default = 0 - O nível de verbosidade.\n",
    "- **fit_params** - dict, default = None - Parâmetros para passar para o método de ajuste do estimador (classificador).\n",
    "- **pre_dispatch** - int ou str, default = ’2 * n_jobs’ - Controla o número de trabalhos que são despachados durante a execução paralela. Reduzir esse número pode ser útil para evitar uma explosão de consumo de memória quando mais tarefas são despachadas do que as CPUs podem processar. Este parâmetro pode ser:\n",
    "    - Nenhum, caso em que todos os empregos são imediatamente criados e reproduzidos. Use isso para trabalhos leves e de execução rápida, para evitar atrasos devido à geração sob demanda dos trabalhos\n",
    "    - Um int, dando o número exato de empregos totais que são gerados\n",
    "    -  Um str, dando uma expressão em função de n_jobs, como em ‘2 * n_jobs’\n",
    "- **error_score** - raise ou numérico, default = np.nan -  Valor a ser atribuído à pontuação se ocorrer um erro no ajuste do estimador. Se definido como ‘aumentar’, o erro é gerado. Se um valor numérico for fornecido, FitFailedWarning é gerado \n"
   ]
  },
  {
   "cell_type": "code",
   "execution_count": 13,
   "id": "b27810ac-b6f9-4bab-87d8-847ac064464a",
   "metadata": {},
   "outputs": [
    {
     "name": "stdout",
     "output_type": "stream",
     "text": [
      "Acurracy: 0.79 (+\\-) 0.04 \n"
     ]
    }
   ],
   "source": [
    "x = df.drop(columns='Survived')\n",
    "y = df['Survived']\n",
    "scores = cross_val_score(classificador, x, y, cv = 5)\n",
    "\n",
    "print(\"Acurracy: %0.2f (+\\-) %0.2f \" % (scores.mean(), scores.std() * 2))"
   ]
  }
 ],
 "metadata": {
  "kernelspec": {
   "display_name": "Python 3",
   "language": "python",
   "name": "python3"
  },
  "language_info": {
   "codemirror_mode": {
    "name": "ipython",
    "version": 3
   },
   "file_extension": ".py",
   "mimetype": "text/x-python",
   "name": "python",
   "nbconvert_exporter": "python",
   "pygments_lexer": "ipython3",
   "version": "3.9.7"
  }
 },
 "nbformat": 4,
 "nbformat_minor": 5
}
