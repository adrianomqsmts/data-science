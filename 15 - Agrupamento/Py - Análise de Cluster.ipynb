{
 "cells": [
  {
   "cell_type": "markdown",
   "id": "b0bc378d-5723-47dc-bad5-2f9653379f04",
   "metadata": {},
   "source": [
    "# Agrupamento Hierárquico - Análise de Cluster\n",
    "\n",
    "https://edisciplinas.usp.br/pluginfile.php/4109668/mod_resource/content/2/mineracaodadosbiologicos-parte4-completo.pdf"
   ]
  },
  {
   "cell_type": "code",
   "execution_count": 80,
   "id": "886d1c77-4d42-409a-b410-a973eca4f609",
   "metadata": {},
   "outputs": [],
   "source": [
    "import pandas as pd\n",
    "import numpy as np\n",
    "\n",
    "#Visualização de dados\n",
    "import seaborn as sns\n",
    "import matplotlib.pyplot as plt\n",
    "\n",
    "#Metricas\n",
    "from sklearn.metrics import confusion_matrix\n",
    "from sklearn.metrics import accuracy_score\n",
    "from sklearn.metrics import classification_report\n",
    "\n",
    "# Análise de Clusters\n",
    "from scipy.spatial.distance import pdist, squareform\n",
    "from scipy.cluster.hierarchy import linkage \n",
    "from scipy.cluster.hierarchy import fcluster \n",
    "from scipy.cluster.hierarchy import dendrogram"
   ]
  },
  {
   "cell_type": "markdown",
   "id": "802ca682-75d2-49f5-b068-b09481271d41",
   "metadata": {},
   "source": [
    "## Carregar Base de Dados - Iris"
   ]
  },
  {
   "cell_type": "code",
   "execution_count": 72,
   "id": "d35eddf2-975f-402a-b7de-29916b2a5348",
   "metadata": {},
   "outputs": [
    {
     "data": {
      "text/html": [
       "<div>\n",
       "<style scoped>\n",
       "    .dataframe tbody tr th:only-of-type {\n",
       "        vertical-align: middle;\n",
       "    }\n",
       "\n",
       "    .dataframe tbody tr th {\n",
       "        vertical-align: top;\n",
       "    }\n",
       "\n",
       "    .dataframe thead th {\n",
       "        text-align: right;\n",
       "    }\n",
       "</style>\n",
       "<table border=\"1\" class=\"dataframe\">\n",
       "  <thead>\n",
       "    <tr style=\"text-align: right;\">\n",
       "      <th></th>\n",
       "      <th>sepal_length</th>\n",
       "      <th>sepal_width</th>\n",
       "      <th>petal_length</th>\n",
       "      <th>petal_width</th>\n",
       "    </tr>\n",
       "  </thead>\n",
       "  <tbody>\n",
       "    <tr>\n",
       "      <th>0</th>\n",
       "      <td>5.1</td>\n",
       "      <td>3.5</td>\n",
       "      <td>1.4</td>\n",
       "      <td>0.2</td>\n",
       "    </tr>\n",
       "    <tr>\n",
       "      <th>1</th>\n",
       "      <td>4.9</td>\n",
       "      <td>3.0</td>\n",
       "      <td>1.4</td>\n",
       "      <td>0.2</td>\n",
       "    </tr>\n",
       "    <tr>\n",
       "      <th>2</th>\n",
       "      <td>4.7</td>\n",
       "      <td>3.2</td>\n",
       "      <td>1.3</td>\n",
       "      <td>0.2</td>\n",
       "    </tr>\n",
       "    <tr>\n",
       "      <th>3</th>\n",
       "      <td>4.6</td>\n",
       "      <td>3.1</td>\n",
       "      <td>1.5</td>\n",
       "      <td>0.2</td>\n",
       "    </tr>\n",
       "    <tr>\n",
       "      <th>4</th>\n",
       "      <td>5.0</td>\n",
       "      <td>3.6</td>\n",
       "      <td>1.4</td>\n",
       "      <td>0.2</td>\n",
       "    </tr>\n",
       "  </tbody>\n",
       "</table>\n",
       "</div>"
      ],
      "text/plain": [
       "   sepal_length  sepal_width  petal_length  petal_width\n",
       "0           5.1          3.5           1.4          0.2\n",
       "1           4.9          3.0           1.4          0.2\n",
       "2           4.7          3.2           1.3          0.2\n",
       "3           4.6          3.1           1.5          0.2\n",
       "4           5.0          3.6           1.4          0.2"
      ]
     },
     "execution_count": 72,
     "metadata": {},
     "output_type": "execute_result"
    }
   ],
   "source": [
    "original = sns.load_dataset('iris')\n",
    "classes = original['species']\n",
    "df = original.drop(columns = 'species')\n",
    "df.head()"
   ]
  },
  {
   "cell_type": "markdown",
   "id": "5a3d1d07-ad1f-4119-bf56-cc01f0fea5db",
   "metadata": {},
   "source": [
    "## Calcular a Distância\n",
    "\n",
    "- https://docs.scipy.org/doc/scipy/reference/generated/scipy.spatial.distance.pdist.html\n",
    "- A função **pdist** calcula as distâncias de pares entre observações no espaço n-dimensional. \n",
    "\n",
    "parâmetros\n",
    "\n",
    "- **X** - array_like - Uma matriz m por n de m observações originais em um espaço n-dimensional.\n",
    "- **metric** - str ou função, opcional - A métrica de distância a ser usada. A função de distância pode ser 'braycurtis', 'canberra', 'chebyshev', 'cityblock', 'correlação', 'cosseno', 'dados', 'euclidiano', 'hamming', 'jaccard', 'jensenshannon', ' kulsinski ',' mahalanobis ',' matching ',' minkowski ',' rogerstanimoto ',' russellrao ',' seuclidean ',' sokalmichener ',' sokalsneath ',' sqeuclidean ',' yule '. \n",
    "\n",
    "Retorno \n",
    "\n",
    "- **Y** - ndarray - Retorna uma matriz de distância condensada Y.\n",
    "\n"
   ]
  },
  {
   "cell_type": "code",
   "execution_count": 73,
   "id": "d4f51046-8132-4c4d-8d2b-53c970511b45",
   "metadata": {},
   "outputs": [
    {
     "data": {
      "text/plain": [
       "array([0.53851648, 0.50990195, 0.64807407, ..., 0.6164414 , 0.64031242,\n",
       "       0.76811457])"
      ]
     },
     "execution_count": 73,
     "metadata": {},
     "output_type": "execute_result"
    }
   ],
   "source": [
    "distancias = pdist(df.values, metric='euclidean')\n",
    "distancias"
   ]
  },
  {
   "cell_type": "markdown",
   "id": "e9ba3468-2706-433d-b091-7c24fb66d62e",
   "metadata": {},
   "source": [
    "# Agrupamento Hierárquico - linkage\n",
    "\n",
    "https://docs.scipy.org/doc/scipy/reference/generated/scipy.cluster.hierarchy.linkage.html?highlight=linkage#scipy.cluster.hierarchy.linkage\n",
    "\n",
    "- Realiza o agrupamento hierárquico/aglomerativo.\n",
    "\n",
    "parâmetros\n",
    "\n",
    "- **y** - ndarray - Uma matriz de distância condensada. Uma matriz de distância condensada é uma matriz plana contendo o triangular superior da matriz de distância. Esta é a forma que retorna. Alternativamente, uma coleção de vetores de observação em dimensões pode ser passada como uma matriz\n",
    "- **method** - opcional - Algoritmo de linkage para usar. Consulte a seção abaixo para obter as descrições completas.\n",
    "- **metric** - A métrica de distância a ser usada no caso de y é uma coleção de vetores de observação; ignorado de outra forma. Consulte a função para obter uma lista de métricas de distância válidas. Uma função de distância personalizada também pode ser usada como **pdist**\n",
    "- **optimal_ordering** - Se For verdade, a matriz de ligação será reordenada para que a distância entre as folhas sucessivas seja mínima. Isso resulta em uma estrutura de árvore mais intuitiva quando os dados são visualizados. padrão para False, porque este algoritmo pode ser lento, particularmente em grandes conjuntos de dados\n",
    "\n",
    "Retorno \n",
    "\n",
    "- **Z** - ndarray - O agrupamento hierárquico codificado como uma matriz de ligação."
   ]
  },
  {
   "cell_type": "code",
   "execution_count": 74,
   "id": "27cb4dce-f62a-4673-93d8-bc4c8af933a6",
   "metadata": {},
   "outputs": [],
   "source": [
    "hc = linkage(df, method='complete', metric='euclidean')"
   ]
  },
  {
   "cell_type": "markdown",
   "id": "e3486a68-a69e-404a-bc53-7269dcb7a456",
   "metadata": {},
   "source": [
    "# Dendograma\n",
    "\n",
    "\n",
    "Parâmetros\n",
    "\n",
    "- **above_threshold_colorstr**, opcional - Esta sequência de cores matplotlib define a cor dos links acima do color_threshold. O padrão é .'C0'\n",
    "- [Lista completa de Parâmetros](https://docs.scipy.org/doc/scipy/reference/generated/scipy.cluster.hierarchy.dendrogram.html?highlight=dendrogram#scipy.cluster.hierarchy.dendrogram)\n"
   ]
  },
  {
   "cell_type": "code",
   "execution_count": 75,
   "id": "af77a410-03fa-4bfa-bc8a-2cc9e88e5830",
   "metadata": {},
   "outputs": [
    {
     "data": {
      "image/png": "[encoded data removed]",
      "text/plain": [
       "<Figure size 432x288 with 1 Axes>"
      ]
     },
     "metadata": {
      "needs_background": "light"
     },
     "output_type": "display_data"
    }
   ],
   "source": [
    "fig, ax = plt.subplots()\n",
    "\n",
    "dendrogram(\n",
    "    hc, \n",
    "    above_threshold_color='y',\n",
    "    no_labels = True,\n",
    "    ax = ax\n",
    ")\n",
    "\n",
    "ax.axhline(y = 1.6, color = 'red', linestyle = '--')\n",
    "ax.text(y = 1.7, x = 160, s = '2 Clusters' )\n",
    "\n",
    "ax.axhline(y = 1, color = 'blue', linestyle = '--')\n",
    "ax.text(y = 1.1, x = 160, s = '3 Clusters' )\n",
    "\n",
    "ax.axhline(y = .65, color = 'gray', linestyle = '--')\n",
    "ax.text(y = .75, x = 160, s = '5 Clusters' )\n",
    "\n",
    "plt.show()\n"
   ]
  },
  {
   "cell_type": "markdown",
   "id": "d6018384-7616-4ba0-804f-3558e6f22d13",
   "metadata": {},
   "source": [
    "# Gerar Grupos/Rótulos\n",
    "\n",
    "O método **fcluster** recebe como entrada uma# hierarquia gerada pelo metodo linkage e extrai# grupos da mesma segundo algum criterio.\n",
    "\n",
    "Parâmetros\n",
    "\n",
    "- **Z** - ndarray - O agrupamento hierárquico codificado com a matriz retornada pela função de ligação.\n",
    "- **t** - escalar - Para critérios 'inconsistentes', 'distância' ou 'monocrit', este é o limiar a ser aplicado ao formar aglomerados planos. Para critérios de 'maxclust' ou 'maxclust_monocrit', este seria o número máximo de clusters solicitados.\n",
    "- **criterion** - str, opcional - O critério a ser utilizado na formação de aglomerados planos. Este pode ser qualquer um dos seguintes valores:\n",
    "    - inconsistent: Se um nó de aglomerado e todos os seus descendentes têm um valor inconsistente menor ou igual a t,então todos os seus descendentes de folhas pertencem ao mesmo aglomerado plano. Quando nenhum cluster não-singleton atende a esse critério, cada nó é atribuído ao seu próprio cluster. (Padrão)\n",
    "    - distance: Forma aglomerados planos para que as observações originais em cada aglomerado plano não tenham uma distância cofenética maior do que t.\n",
    "    - maxclust: Encontra um limiar mínimo para que a distância cofenética entre quaisquer duas observações originais no mesmo aglomerado plano não seja mais do que e não mais do que aglomerados planos t são formados.rr\n",
    "    - monocrit: Forma um cluster plano a partir de um nó de cluster c com índice i quando .monocrit[j] <= t.\n",
    "    - maxclust_monocrit: Forma um cluster plano a partir de um nó de cluster não-singleton quando para todos os índices de cluster abaixo e incluindo . é minimizado de tal forma que não mais do que aglomerados planos são formados. monocrito deve ser monótono. Por exemplo, para minimizar o limiar t em valores máximos de inconsistência para que não sejam formados mais de 3 clusters planos, faça:cmonocrit[i] <= ricrt\n",
    "- **depth* - int, opcional - A profundidade máxima para realizar o cálculo da inconsistência. Não tem significado para os outros critérios. O padrão é 2.\n",
    "- **R** - ndarray, opcional - A matriz de inconsistência para usar para o critério 'inconsistente'. Esta matriz é calculada se não for fornecida.\n",
    "- **monocrit** -  ndarray,opcional - Uma matriz de comprimento n-1. monocrit[i] é a estatística sobre as quais não-singleton i é limiar. O vetor monocrit deve ser monotônico, ou seja, dado um nó c com índice i, para todos os índices de nó j correspondentes a nós abaixo de c, .monocrit[i] >= monocrit[j]\n",
    "\n",
    "Retorna\n",
    "\n",
    "- **fcluster** - ndarray - Uma matriz de comprimento n.T[i]. É o número de cluster plano ao qual a observação  i original pertence."
   ]
  },
  {
   "cell_type": "markdown",
   "id": "112a2876-be85-4494-bd97-4e0a0ede25a8",
   "metadata": {},
   "source": [
    "## Grupos por Distâncias - distance\n",
    "\n",
    "Abaixo serao extraidos os grupos por meio de um limiar de distancia. A variavel 'rotulos' sera um numpy.array onde o valor contido em rotulos[i] indica o rotulo do objeto i."
   ]
  },
  {
   "cell_type": "code",
   "execution_count": 76,
   "id": "d252ab08-d660-4ede-9a20-859b5557b421",
   "metadata": {},
   "outputs": [
    {
     "data": {
      "text/plain": [
       "array([30, 29, 31, 31, 30, 36, 31, 30, 31, 29, 36, 37, 29, 31, 35, 35, 34,\n",
       "       30, 36, 37, 36, 37, 32, 37, 37, 29, 37, 30, 30, 29, 29, 36, 34, 34,\n",
       "       29, 30, 36, 30, 31, 30, 30, 33, 31, 37, 37, 29, 37, 31, 36, 30, 18,\n",
       "       19, 18, 26, 17, 23, 19, 21, 17, 26, 22, 24, 27, 20, 25, 17, 23, 24,\n",
       "       15, 26, 11, 24, 13, 20, 20, 17, 17, 18, 20, 25, 26, 26, 24, 13, 23,\n",
       "       19, 18, 15, 24, 26, 23, 20, 24, 21, 24, 24, 24, 20, 21, 24,  7, 12,\n",
       "        1,  9,  9,  2, 28,  1, 10,  4,  8, 13,  8, 12, 12,  8,  9,  3,  2,\n",
       "       16,  6, 12,  2, 13,  6,  1, 13, 11,  9,  1,  1,  3,  9, 13, 14,  5,\n",
       "        7,  9, 11,  8,  6,  8, 12,  6,  6,  8, 13,  8,  7, 11],\n",
       "      dtype=int32)"
      ]
     },
     "execution_count": 76,
     "metadata": {},
     "output_type": "execute_result"
    }
   ],
   "source": [
    "# T = 0.65 = H com 5 clusters\n",
    "rotulos_dist = fcluster(hc, t = 0.65, criterion='distance')\n",
    "\n",
    "rotulos_dist"
   ]
  },
  {
   "cell_type": "markdown",
   "id": "8ab88171-4ac9-405d-b443-07b85b9b7440",
   "metadata": {},
   "source": [
    "## Grupos por Quantidades - maxclust\n",
    "\n",
    "Caso o criterio escolhido seja o numero de grupos, o metodo fcluster estima sozinho um valor de distancia de modo que t grupos sejam formados"
   ]
  },
  {
   "cell_type": "code",
   "execution_count": 77,
   "id": "ae7f5844-fa8a-4311-ad7a-8a974deb17b2",
   "metadata": {},
   "outputs": [
    {
     "data": {
      "text/plain": [
       "array([3, 3, 3, 3, 3, 3, 3, 3, 3, 3, 3, 3, 3, 3, 3, 3, 3, 3, 3, 3, 3, 3,\n",
       "       3, 3, 3, 3, 3, 3, 3, 3, 3, 3, 3, 3, 3, 3, 3, 3, 3, 3, 3, 3, 3, 3,\n",
       "       3, 3, 3, 3, 3, 3, 1, 1, 1, 2, 1, 2, 1, 2, 1, 2, 2, 2, 2, 1, 2, 1,\n",
       "       2, 2, 1, 2, 1, 2, 1, 1, 1, 1, 1, 1, 1, 2, 2, 2, 2, 1, 2, 1, 1, 1,\n",
       "       2, 2, 2, 1, 2, 2, 2, 2, 2, 1, 2, 2, 1, 1, 1, 1, 1, 1, 2, 1, 1, 1,\n",
       "       1, 1, 1, 1, 1, 1, 1, 1, 1, 1, 1, 1, 1, 1, 1, 1, 1, 1, 1, 1, 1, 1,\n",
       "       1, 1, 1, 1, 1, 1, 1, 1, 1, 1, 1, 1, 1, 1, 1, 1, 1, 1], dtype=int32)"
      ]
     },
     "execution_count": 77,
     "metadata": {},
     "output_type": "execute_result"
    }
   ],
   "source": [
    "# T = 3 é igual à 3 grupos\n",
    "rotulos_k = fcluster(hc, t=3, criterion='maxclust')\n",
    "\n",
    "rotulos_k"
   ]
  },
  {
   "cell_type": "markdown",
   "id": "61430612-da02-460c-ac83-4141b771f46a",
   "metadata": {},
   "source": [
    "# Matriz de Confusão\n",
    "\n",
    "- A biblioteca **sklearn.metrics** tem a função **confusion_matrix** que irá nos retornar a matriz de confusão dos dados previstos. \n",
    "- **y_true** - Valores alvo verdadeiros (corretos). \n",
    "- **y_pred** - Alvos estimados conforme retornados por um classificador. \n",
    "- **labels** - Lista de rótulos para indexar a matriz. Isso pode ser usado para reordenar ou selecionar um subconjunto de rótulos. Se Nenhum for fornecido, aqueles que aparecem pelo menos uma vez em y_true ou y_pred são usados na ordem de classificação \n",
    "- **sample_weight** - Pesos de amostra. \n",
    "- **normalize**: {‘true’, ‘pred’, ‘all’}, default=None - Normaliza a matriz de confusão sobre as condições verdadeiras (linhas), preditas (colunas) ou toda a população. Se nenhum, a matriz de confusão não será normalizada. "
   ]
  },
  {
   "cell_type": "code",
   "execution_count": 78,
   "id": "3c694033-3ef9-45d0-86f2-b9acbf12c666",
   "metadata": {},
   "outputs": [],
   "source": [
    "teste = classes.map({\n",
    "    'setosa' : 3,\n",
    "    'versicolor': 2,\n",
    "    'virginica': 1\n",
    "})\n",
    "\n",
    "previsao = rotulos_k"
   ]
  },
  {
   "cell_type": "code",
   "execution_count": 81,
   "id": "c1972151-794b-451d-820c-d2b104ba0b1a",
   "metadata": {},
   "outputs": [
    {
     "data": {
      "text/plain": [
       "array([[49,  1,  0],\n",
       "       [23, 27,  0],\n",
       "       [ 0,  0, 50]], dtype=int64)"
      ]
     },
     "execution_count": 81,
     "metadata": {},
     "output_type": "execute_result"
    }
   ],
   "source": [
    "confusion_matrix(teste, previsao)"
   ]
  },
  {
   "cell_type": "markdown",
   "id": "e2231be0-8bf2-4f4f-b94d-b77d7b809766",
   "metadata": {},
   "source": [
    "## Personalizando a matriz de confusão"
   ]
  },
  {
   "cell_type": "code",
   "execution_count": 82,
   "id": "e26e5271-bd10-452b-a5ed-23ce828985c4",
   "metadata": {},
   "outputs": [
    {
     "data": {
      "image/png": "[encoded data removed]",
      "text/plain": [
       "<Figure size 432x288 with 2 Axes>"
      ]
     },
     "metadata": {
      "needs_background": "light"
     },
     "output_type": "display_data"
    }
   ],
   "source": [
    "cm = confusion_matrix(teste, previsao)\n",
    "ax= plt.subplot()\n",
    "sns.heatmap(cm, annot=True, ax = ax); #annot=True to annotate cells\n",
    "\n",
    "# labels, title and ticks\n",
    "ax.set_xlabel('Previsão');\n",
    "ax.set_ylabel('Verdadeiro'); \n",
    "ax.set_title('Confusion Matrix'); "
   ]
  },
  {
   "cell_type": "markdown",
   "id": "783ae4a8-ec31-4663-8465-cfa43aca6a9e",
   "metadata": {},
   "source": [
    "# Métricas\n",
    "\n",
    "- A biblioteca **sklearn.metrics** tem a função **classification_report** que cria um relatório de texto mostrando as principais métricas de classificação. \n",
    "- **y_true** - Valores alvo verdadeiros (corretos). \n",
    "- **y_pred** - Alvos estimados conforme retornados por um classificador. \n",
    "- **labels** - Lista opcional de índices de rótulo a serem incluídos no relatório. \n",
    "- **target_names** - Nomes de exibição opcionais que correspondem aos rótulos (mesma ordem) \n",
    "- **sample_weight** - Peso das Amostras\n",
    "- **digits** - Número de dígitos para formatar valores de ponto flutuante de saída. Quando output_dict for True, isso será ignorado e os valores retornados não serão arredondados.\n",
    "- **output_dict** - Se verdadeiro, retorna a saída como dict\n",
    "- **zero_division**: 'warn', 0 or 1, default='warn' - Define o valor a ser retornado quando houver uma divisão zero. Se definido como “aviso”, funciona como 0, mas os avisos também são gerados. "
   ]
  },
  {
   "cell_type": "code",
   "execution_count": 83,
   "id": "f0aabb56-5af7-4933-a67f-85e7c9439ca9",
   "metadata": {},
   "outputs": [
    {
     "name": "stdout",
     "output_type": "stream",
     "text": [
      "              precision    recall  f1-score   support\n",
      "\n",
      "           1       0.68      0.98      0.80        50\n",
      "           2       0.96      0.54      0.69        50\n",
      "           3       1.00      1.00      1.00        50\n",
      "\n",
      "    accuracy                           0.84       150\n",
      "   macro avg       0.88      0.84      0.83       150\n",
      "weighted avg       0.88      0.84      0.83       150\n",
      "\n"
     ]
    }
   ],
   "source": [
    "print(classification_report(teste, previsao))"
   ]
  },
  {
   "cell_type": "markdown",
   "id": "d67ca7b3-67f0-4987-ac72-eded92f49d63",
   "metadata": {},
   "source": [
    "## Acurácia\n",
    "\n",
    "- A função **accuracy_score** pode ser usada para verificar a acurácia dos dados"
   ]
  },
  {
   "cell_type": "code",
   "execution_count": 84,
   "id": "bb7a5051-da0c-4d29-9fff-571a8763aace",
   "metadata": {},
   "outputs": [
    {
     "data": {
      "text/plain": [
       "0.84"
      ]
     },
     "execution_count": 84,
     "metadata": {},
     "output_type": "execute_result"
    }
   ],
   "source": [
    "accuracy_score(teste, previsao)"
   ]
  }
 ],
 "metadata": {
  "kernelspec": {
   "display_name": "Python 3",
   "language": "python",
   "name": "python3"
  },
  "language_info": {
   "codemirror_mode": {
    "name": "ipython",
    "version": 3
   },
   "file_extension": ".py",
   "mimetype": "text/x-python",
   "name": "python",
   "nbconvert_exporter": "python",
   "pygments_lexer": "ipython3",
   "version": "3.8.10"
  }
 },
 "nbformat": 4,
 "nbformat_minor": 5
}
