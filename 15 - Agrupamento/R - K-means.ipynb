{
 "cells": [
  {
   "cell_type": "markdown",
   "id": "3caec7dc-3167-4e9c-9e77-9a7e1e3511ca",
   "metadata": {},
   "source": [
    "# K-means"
   ]
  },
  {
   "cell_type": "markdown",
   "id": "66130ee0-8ee7-46a2-bba8-f9a8ae2ccdc8",
   "metadata": {},
   "source": [
    "## Bibliotecas"
   ]
  },
  {
   "cell_type": "code",
   "execution_count": 34,
   "id": "64269ad4-c463-4753-9444-8f444e247bd5",
   "metadata": {},
   "outputs": [],
   "source": [
    "# Visualização dos Clusters\n",
    "library(cluster)\n",
    "# Gráficos\n",
    "library(caTools)\n",
    "library(gplots)\n",
    "# Métricas\n",
    "library(caret)\n",
    "set.seed(1)"
   ]
  },
  {
   "cell_type": "markdown",
   "id": "b4d55f26-f5ca-406d-b125-a797892d97a5",
   "metadata": {},
   "source": [
    "## Base de Dados - Iris"
   ]
  },
  {
   "cell_type": "code",
   "execution_count": 26,
   "id": "7710d9cf-d1fd-44b3-9a9e-8a062e1fe10b",
   "metadata": {},
   "outputs": [
    {
     "data": {
      "text/html": [
       "<table>\n",
       "<thead><tr><th scope=col>Sepal.Length</th><th scope=col>Sepal.Width</th><th scope=col>Petal.Length</th><th scope=col>Petal.Width</th></tr></thead>\n",
       "<tbody>\n",
       "\t<tr><td>5.1</td><td>3.5</td><td>1.4</td><td>0.2</td></tr>\n",
       "\t<tr><td>4.9</td><td>3.0</td><td>1.4</td><td>0.2</td></tr>\n",
       "\t<tr><td>4.7</td><td>3.2</td><td>1.3</td><td>0.2</td></tr>\n",
       "\t<tr><td>4.6</td><td>3.1</td><td>1.5</td><td>0.2</td></tr>\n",
       "\t<tr><td>5.0</td><td>3.6</td><td>1.4</td><td>0.2</td></tr>\n",
       "\t<tr><td>5.4</td><td>3.9</td><td>1.7</td><td>0.4</td></tr>\n",
       "</tbody>\n",
       "</table>\n"
      ],
      "text/latex": [
       "\\begin{tabular}{r|llll}\n",
       " Sepal.Length & Sepal.Width & Petal.Length & Petal.Width\\\\\n",
       "\\hline\n",
       "\t 5.1 & 3.5 & 1.4 & 0.2\\\\\n",
       "\t 4.9 & 3.0 & 1.4 & 0.2\\\\\n",
       "\t 4.7 & 3.2 & 1.3 & 0.2\\\\\n",
       "\t 4.6 & 3.1 & 1.5 & 0.2\\\\\n",
       "\t 5.0 & 3.6 & 1.4 & 0.2\\\\\n",
       "\t 5.4 & 3.9 & 1.7 & 0.4\\\\\n",
       "\\end{tabular}\n"
      ],
      "text/markdown": [
       "\n",
       "| Sepal.Length | Sepal.Width | Petal.Length | Petal.Width |\n",
       "|---|---|---|---|\n",
       "| 5.1 | 3.5 | 1.4 | 0.2 |\n",
       "| 4.9 | 3.0 | 1.4 | 0.2 |\n",
       "| 4.7 | 3.2 | 1.3 | 0.2 |\n",
       "| 4.6 | 3.1 | 1.5 | 0.2 |\n",
       "| 5.0 | 3.6 | 1.4 | 0.2 |\n",
       "| 5.4 | 3.9 | 1.7 | 0.4 |\n",
       "\n"
      ],
      "text/plain": [
       "  Sepal.Length Sepal.Width Petal.Length Petal.Width\n",
       "1 5.1          3.5         1.4          0.2        \n",
       "2 4.9          3.0         1.4          0.2        \n",
       "3 4.7          3.2         1.3          0.2        \n",
       "4 4.6          3.1         1.5          0.2        \n",
       "5 5.0          3.6         1.4          0.2        \n",
       "6 5.4          3.9         1.7          0.4        "
      ]
     },
     "metadata": {},
     "output_type": "display_data"
    }
   ],
   "source": [
    "df = iris[-5]\n",
    "head(df)"
   ]
  },
  {
   "cell_type": "markdown",
   "id": "44c22262-7630-4cfa-816f-6c48fbfebcff",
   "metadata": {},
   "source": [
    "## K-Means\n",
    "\n",
    "Parâmetros\n",
    "\n",
    "- **x** - Matriz numérica de dados, ou um objeto que pode ser forçado a tal matriz (como um vetor numérico ou um quadro de dados com todas as colunas numéricas).\n",
    "- **centers** - ou número de clusters, digamos \\ (k \\), ou um conjunto de centros de cluster iniciais (distintos). Se for um número, um conjunto aleatório de (distintas) linhas em x é escolhido como os centros iniciais.\n",
    "- **iter.max** - O número máximo de iterações permitidas.\n",
    "- **nstart** - Se centros for um número, quantos conjuntos aleatórios devem ser escolhidos?\n",
    "- **algorithm** - Caractere: pode ser abreviado. Observe que \"Lloyd\" e \"Forgy\" são nomes alternativos para um algoritmo.\n",
    "- **Object** - Um objeto R da classe \"kmeans\", tipicamente o resultado ob de ob <- kmeans (..).\n",
    "- **method** - Caractere: pode ser abreviado. causas \"centros\" ajustados para retornar centros de cluster (um para cada ponto de entrada) e causas \"classes\" ajustados para retornar um vetor de atribuições de classe.\n",
    "- **trace** - Número lógico ou inteiro, atualmente usado apenas no método padrão (\"Hartigan-Wong\"): se positivo (ou verdadeiro), é produzida a informação de rastreamento do progresso do algoritmo. Valores mais altos podem produzir mais informações de rastreamento.\n",
    "\n",
    "Atributos\n",
    "\n",
    "- **cluster** - Um vetor de inteiros (de 1: k) indicando o cluster ao qual cada ponto está alocado.\n",
    "- **centers** - Uma matriz de centros de cluster.\n",
    "- **totss** -  A soma total dos quadrados.\n",
    "- **withinss** - Vetor da soma dos quadrados dentro do cluster, um componente por cluster.\n",
    "- **tot.withinss** - Soma total dos quadrados dentro do cluster, ou seja, soma (dentro do grupo).\n",
    "- **betweenss** - A soma dos quadrados entre os grupos, ou seja .otss-tot.withinss.\n",
    "- **size** - O número de pontos em cada cluster.\n",
    "- **iter** - O número de iterações (externas).\n",
    "- **ifault** - inteiro: indicador de um possível problema de algoritmo - para especialistas. "
   ]
  },
  {
   "cell_type": "code",
   "execution_count": 27,
   "id": "7028957f-a641-4ee0-a000-50cdb4e19eb7",
   "metadata": {},
   "outputs": [],
   "source": [
    "agrupador = kmeans(x = df, centers = 3)\n",
    "grupos = agrupador$cluster"
   ]
  },
  {
   "cell_type": "markdown",
   "id": "1f614c01-07c3-4564-aaa1-bed03c32b037",
   "metadata": {},
   "source": [
    "## Exibir os Clusters\n",
    "\n",
    "- A função **clusplot** pode ser usada para exibir os clusters dos dados"
   ]
  },
  {
   "cell_type": "code",
   "execution_count": 32,
   "id": "73382d20-7125-4920-9475-1dda9db6ae3e",
   "metadata": {},
   "outputs": [
    {
     "data": {
      "image/png": "[encoded data removed]",
      "text/plain": [
       "Plot with title \"CLUSPLOT( df )\""
      ]
     },
     "metadata": {},
     "output_type": "display_data"
    }
   ],
   "source": [
    "clusplot( \n",
    "    df,\n",
    "    grupos,\n",
    "    color = TRUE,\n",
    ")"
   ]
  },
  {
   "cell_type": "markdown",
   "id": "1aa5d331-085d-491f-b817-3e718f25e59d",
   "metadata": {},
   "source": [
    "# Matriz de Confusão\n",
    "\n",
    "- A função **table** realiza o agrupamento dos dados\n",
    "- A função **confusionMatriz** da biblioteca **caret** também calcula a matriz de confusão + as métricas"
   ]
  },
  {
   "cell_type": "code",
   "execution_count": 37,
   "id": "61a7193f-e7c7-420d-8404-6c1378d5ee70",
   "metadata": {},
   "outputs": [
    {
     "data": {
      "text/plain": [
       "            grupos\n",
       "              1  2  3\n",
       "  setosa     50  0  0\n",
       "  versicolor  0  2 48\n",
       "  virginica   0 36 14"
      ]
     },
     "metadata": {},
     "output_type": "display_data"
    }
   ],
   "source": [
    "matriz_confusao = table(iris$Species, grupos)\n",
    "matriz_confusao"
   ]
  },
  {
   "cell_type": "code",
   "execution_count": 41,
   "id": "4ddf46a4-2ecf-4b39-ba3a-3134fd530d31",
   "metadata": {},
   "outputs": [],
   "source": [
    "grupos <- ifelse((grupos == 1), 'setosa', grupos)\n",
    "grupos <- ifelse((grupos == 3), 'versicolor', grupos)\n",
    "grupos <- ifelse((grupos == 2), 'virginica', grupos)"
   ]
  },
  {
   "cell_type": "code",
   "execution_count": 43,
   "id": "2b0813fd-2576-4d25-abbd-513864456be1",
   "metadata": {},
   "outputs": [
    {
     "data": {
      "text/plain": [
       "Confusion Matrix and Statistics\n",
       "\n",
       "            Reference\n",
       "Prediction   setosa versicolor virginica\n",
       "  setosa         50          0         0\n",
       "  versicolor      0         48         2\n",
       "  virginica       0         14        36\n",
       "\n",
       "Overall Statistics\n",
       "                                          \n",
       "               Accuracy : 0.8933          \n",
       "                 95% CI : (0.8326, 0.9378)\n",
       "    No Information Rate : 0.4133          \n",
       "    P-Value [Acc > NIR] : < 2.2e-16       \n",
       "                                          \n",
       "                  Kappa : 0.84            \n",
       "                                          \n",
       " Mcnemar's Test P-Value : NA              \n",
       "\n",
       "Statistics by Class:\n",
       "\n",
       "                     Class: setosa Class: versicolor Class: virginica\n",
       "Sensitivity                 1.0000            0.7742           0.9474\n",
       "Specificity                 1.0000            0.9773           0.8750\n",
       "Pos Pred Value              1.0000            0.9600           0.7200\n",
       "Neg Pred Value              1.0000            0.8600           0.9800\n",
       "Prevalence                  0.3333            0.4133           0.2533\n",
       "Detection Rate              0.3333            0.3200           0.2400\n",
       "Detection Prevalence        0.3333            0.3333           0.3333\n",
       "Balanced Accuracy           1.0000            0.8757           0.9112"
      ]
     },
     "metadata": {},
     "output_type": "display_data"
    }
   ],
   "source": [
    "matriz = confusionMatrix(factor(iris$Species), factor(grupos))\n",
    "matriz"
   ]
  },
  {
   "cell_type": "markdown",
   "id": "0bc02aed-301a-4877-b3a5-75e1d2c96018",
   "metadata": {},
   "source": [
    "## Personalizando a Matriz de Confusão"
   ]
  },
  {
   "cell_type": "code",
   "execution_count": 46,
   "id": "da37ca0d-8634-4571-9433-6e9d85c9b839",
   "metadata": {},
   "outputs": [
    {
     "data": {
      "image/png": "[encoded data removed]",
      "text/plain": [
       "Plot with title \"Color Key\""
      ]
     },
     "metadata": {},
     "output_type": "display_data"
    }
   ],
   "source": [
    "my_palette <- colorRampPalette(c(\"red\", \"yellow\", \"green\"))\n",
    "\n",
    "col_breaks = c(0:50, 51:100, 101:300)\n",
    "\n",
    "heatmap.2(matriz_confusao,\n",
    "    Rowv = 'NA',\n",
    "    cellnote = matriz_confusao, \n",
    "    main = \"Matriz de Confusão\",\n",
    "    notecol=\"black\",      \n",
    "    density.info=\"none\",  \n",
    "    trace=\"none\",        \n",
    "    col=my_palette,       \n",
    "    breaks=col_breaks,   \n",
    "    dendrogram= 'none',     \n",
    "    Colv=\"NA\" \n",
    ")"
   ]
  },
  {
   "cell_type": "markdown",
   "id": "56198ab2-93b6-436a-b1a2-7fd1f0ffa6e0",
   "metadata": {},
   "source": [
    "## Eblow - Melhor K\n",
    "\n",
    "- Como podemos ver no gráfico abaixo o melhor K serie 3, exatamente o número de classes originais."
   ]
  },
  {
   "cell_type": "code",
   "execution_count": 23,
   "id": "e77988dc-e4b7-4d14-a5d5-537d43fa6dc3",
   "metadata": {},
   "outputs": [
    {
     "data": {
      "image/png": "[encoded data removed]",
      "text/plain": [
       "plot without title"
      ]
     },
     "metadata": {},
     "output_type": "display_data"
    }
   ],
   "source": [
    "wcss = vector()\n",
    "\n",
    "for(i in 1:10) {\n",
    "    grupo = kmeans(df, centers = i)\n",
    "    wcss[i] = sum(grupo$withinss)\n",
    "}\n",
    "\n",
    "plot(\n",
    "    1:10,\n",
    "    wcss,\n",
    "    type=\"b\",\n",
    "    pch = 19,\n",
    "    frame = FALSE, \n",
    "    xlab=\"Número de Clusters K\",\n",
    "    ylab=\"Total within-clusters sum of squares\"\n",
    ")"
   ]
  },
  {
   "cell_type": "code",
   "execution_count": null,
   "id": "998cb9e8-1763-4f4e-ae80-79241a3ce155",
   "metadata": {},
   "outputs": [],
   "source": []
  }
 ],
 "metadata": {
  "kernelspec": {
   "display_name": "R",
   "language": "R",
   "name": "ir"
  },
  "language_info": {
   "codemirror_mode": "r",
   "file_extension": ".r",
   "mimetype": "text/x-r-source",
   "name": "R",
   "pygments_lexer": "r",
   "version": "3.6.1"
  }
 },
 "nbformat": 4,
 "nbformat_minor": 5
}
