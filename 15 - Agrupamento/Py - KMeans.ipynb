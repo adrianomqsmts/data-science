{
 "cells": [
  {
   "cell_type": "markdown",
   "id": "c1a87b14-8fc4-429a-acd9-414eb5d001eb",
   "metadata": {},
   "source": [
    "# Kmeans"
   ]
  },
  {
   "cell_type": "code",
   "execution_count": 44,
   "id": "70892326-c73c-4741-9d46-e9380e4cc05d",
   "metadata": {},
   "outputs": [],
   "source": [
    "import pandas as pd\n",
    "import numpy as np\n",
    "\n",
    "#Visualização de dados\n",
    "import seaborn as sns\n",
    "import matplotlib.pyplot as plt\n",
    "\n",
    "#Metricas\n",
    "from sklearn.metrics import confusion_matrix\n",
    "from sklearn.metrics import accuracy_score\n",
    "from sklearn.metrics import classification_report\n",
    "\n",
    "# K-means\n",
    "from sklearn import cluster"
   ]
  },
  {
   "cell_type": "markdown",
   "id": "72c6761f-ef66-4709-b550-dd89dd1154b8",
   "metadata": {},
   "source": [
    "## Carregar a Base de Dados - Iris"
   ]
  },
  {
   "cell_type": "code",
   "execution_count": 45,
   "id": "e5cda2ad-717c-4fcc-a6c1-f3934938dd50",
   "metadata": {},
   "outputs": [
    {
     "data": {
      "text/html": [
       "<div>\n",
       "<style scoped>\n",
       "    .dataframe tbody tr th:only-of-type {\n",
       "        vertical-align: middle;\n",
       "    }\n",
       "\n",
       "    .dataframe tbody tr th {\n",
       "        vertical-align: top;\n",
       "    }\n",
       "\n",
       "    .dataframe thead th {\n",
       "        text-align: right;\n",
       "    }\n",
       "</style>\n",
       "<table border=\"1\" class=\"dataframe\">\n",
       "  <thead>\n",
       "    <tr style=\"text-align: right;\">\n",
       "      <th></th>\n",
       "      <th>sepal_length</th>\n",
       "      <th>sepal_width</th>\n",
       "      <th>petal_length</th>\n",
       "      <th>petal_width</th>\n",
       "    </tr>\n",
       "  </thead>\n",
       "  <tbody>\n",
       "    <tr>\n",
       "      <th>0</th>\n",
       "      <td>5.1</td>\n",
       "      <td>3.5</td>\n",
       "      <td>1.4</td>\n",
       "      <td>0.2</td>\n",
       "    </tr>\n",
       "    <tr>\n",
       "      <th>1</th>\n",
       "      <td>4.9</td>\n",
       "      <td>3.0</td>\n",
       "      <td>1.4</td>\n",
       "      <td>0.2</td>\n",
       "    </tr>\n",
       "    <tr>\n",
       "      <th>2</th>\n",
       "      <td>4.7</td>\n",
       "      <td>3.2</td>\n",
       "      <td>1.3</td>\n",
       "      <td>0.2</td>\n",
       "    </tr>\n",
       "    <tr>\n",
       "      <th>3</th>\n",
       "      <td>4.6</td>\n",
       "      <td>3.1</td>\n",
       "      <td>1.5</td>\n",
       "      <td>0.2</td>\n",
       "    </tr>\n",
       "    <tr>\n",
       "      <th>4</th>\n",
       "      <td>5.0</td>\n",
       "      <td>3.6</td>\n",
       "      <td>1.4</td>\n",
       "      <td>0.2</td>\n",
       "    </tr>\n",
       "  </tbody>\n",
       "</table>\n",
       "</div>"
      ],
      "text/plain": [
       "   sepal_length  sepal_width  petal_length  petal_width\n",
       "0           5.1          3.5           1.4          0.2\n",
       "1           4.9          3.0           1.4          0.2\n",
       "2           4.7          3.2           1.3          0.2\n",
       "3           4.6          3.1           1.5          0.2\n",
       "4           5.0          3.6           1.4          0.2"
      ]
     },
     "execution_count": 45,
     "metadata": {},
     "output_type": "execute_result"
    }
   ],
   "source": [
    "original = sns.load_dataset('iris')\n",
    "classes = original['species']\n",
    "df = original.drop(columns = 'species')\n",
    "df.head()"
   ]
  },
  {
   "cell_type": "markdown",
   "id": "2127ec26-50fa-4e09-94bc-4ef03abb21cf",
   "metadata": {},
   "source": [
    "# KMeans\n",
    "\n",
    "\n",
    "Parâmetros\n",
    "\n",
    "- **n_clusters** int, default = 8 - O número de clusters a serem formados, bem como o número de centróides a serem gerados. \n",
    "- **init** - {'k-means++', 'random'}, default = 'k-means ++' -  Método de inicialização:\n",
    "     - 'K-means ++': seleciona os centros de cluster iniciais para o cluster k-mean de uma forma inteligente para acelerar a convergência. Veja a seção Notas em k_init para mais detalhes.\n",
    "     - 'Random': escolha observações de n_clusters (linhas) aleatoriamente a partir dos dados para os centróides iniciais.\n",
    "     - Se um array for passado, ele deve ter o formato (n_clusters, n_features) e fornecer os centros iniciais.\n",
    "     - Se um chamável for passado, ele deve receber os argumentos X, n_clusters e um estado aleatório e retornar uma inicialização. \n",
    "- **n_init** - int, padrão = 10 - Número de vezes que o algoritmo k-means será executado com diferentes sementes de centróide. Os resultados finais serão o melhor resultado de n_init execuções consecutivas em termos de inércia.\n",
    "- **max_iter** - int, default = 300 - Número máximo de iterações do algoritmo k-means para uma única execução.\n",
    "- **tol** - float, padrão = 1e-4 - Tolerância relativa com relação à norma de Frobenius da diferença nos centros do cluster de duas iterações consecutivas para declarar convergência. \n",
    "- **verbose** - -int, default = 0 - Modo de verbosidade.\n",
    "- **random_state** - int, instância RandomState ou None, default = None -  Determina a geração de número aleatório para inicialização do centróide. Use um int para tornar a aleatoriedade determinística.\n",
    "- **algorithm** {'auto', 'full', 'elkan'}, padrão = 'auto' - Algoritmo K-means a ser usado. O algoritmo de estilo EM clássico é 'full'. A variação 'elkan' é mais eficiente em dados com clusters bem definidos, usando a desigualdade triangular. No entanto, consome mais memória devido à alocação de uma matriz extra de forma (n_samples, n_clusters).  Por enquanto, 'auto' (mantido para compatibilidade com versões anteriores) escolhe 'elkan', mas pode mudar no futuro para uma heurística melhor. \n",
    "\n",
    "Atributos\n",
    "\n",
    "- **cluster_centers_**  - ndarray de forma (n_clusters, n_features) - Coordenadas de centros de cluster. Se o algoritmo parar antes de convergir totalmente (consulte tol e max_iter), eles não serão consistentes com labels_.\n",
    "- **labels_** - ndarray de forma (n_samples,) - Rótulos de cada ponto\n",
    "- **inertia_** - float - Soma das distâncias quadradas das amostras até o centro do cluster mais próximo.\n",
    "- **n_iter_** - int - Número de iterações executadas. "
   ]
  },
  {
   "cell_type": "code",
   "execution_count": 46,
   "id": "aebb271c-63b6-46cc-9f98-4df768982b2c",
   "metadata": {},
   "outputs": [
    {
     "data": {
      "text/plain": [
       "KMeans(n_clusters=3)"
      ]
     },
     "execution_count": 46,
     "metadata": {},
     "output_type": "execute_result"
    }
   ],
   "source": [
    "agrupador = cluster.KMeans(n_clusters=3)\n",
    "agrupador.fit(df)"
   ]
  },
  {
   "cell_type": "markdown",
   "id": "2ffa83f4-bff5-4917-87ca-42e45125a8fa",
   "metadata": {},
   "source": [
    "## Comparar Centróides Reais X Centróides Calculados"
   ]
  },
  {
   "cell_type": "code",
   "execution_count": 47,
   "id": "8a8260da-0b06-4d38-a5b9-dbec71dc2410",
   "metadata": {},
   "outputs": [
    {
     "name": "stdout",
     "output_type": "stream",
     "text": [
      "[[6.85       3.07368421 5.74210526 2.07105263]\n",
      " [5.006      3.428      1.462      0.246     ]\n",
      " [5.9016129  2.7483871  4.39354839 1.43387097]]\n"
     ]
    },
    {
     "data": {
      "text/html": [
       "<div>\n",
       "<style scoped>\n",
       "    .dataframe tbody tr th:only-of-type {\n",
       "        vertical-align: middle;\n",
       "    }\n",
       "\n",
       "    .dataframe tbody tr th {\n",
       "        vertical-align: top;\n",
       "    }\n",
       "\n",
       "    .dataframe thead th {\n",
       "        text-align: right;\n",
       "    }\n",
       "</style>\n",
       "<table border=\"1\" class=\"dataframe\">\n",
       "  <thead>\n",
       "    <tr style=\"text-align: right;\">\n",
       "      <th></th>\n",
       "      <th>sepal_length</th>\n",
       "      <th>sepal_width</th>\n",
       "      <th>petal_length</th>\n",
       "      <th>petal_width</th>\n",
       "    </tr>\n",
       "    <tr>\n",
       "      <th>species</th>\n",
       "      <th></th>\n",
       "      <th></th>\n",
       "      <th></th>\n",
       "      <th></th>\n",
       "    </tr>\n",
       "  </thead>\n",
       "  <tbody>\n",
       "    <tr>\n",
       "      <th>setosa</th>\n",
       "      <td>5.006</td>\n",
       "      <td>3.428</td>\n",
       "      <td>1.462</td>\n",
       "      <td>0.246</td>\n",
       "    </tr>\n",
       "    <tr>\n",
       "      <th>versicolor</th>\n",
       "      <td>5.936</td>\n",
       "      <td>2.770</td>\n",
       "      <td>4.260</td>\n",
       "      <td>1.326</td>\n",
       "    </tr>\n",
       "    <tr>\n",
       "      <th>virginica</th>\n",
       "      <td>6.588</td>\n",
       "      <td>2.974</td>\n",
       "      <td>5.552</td>\n",
       "      <td>2.026</td>\n",
       "    </tr>\n",
       "  </tbody>\n",
       "</table>\n",
       "</div>"
      ],
      "text/plain": [
       "            sepal_length  sepal_width  petal_length  petal_width\n",
       "species                                                         \n",
       "setosa             5.006        3.428         1.462        0.246\n",
       "versicolor         5.936        2.770         4.260        1.326\n",
       "virginica          6.588        2.974         5.552        2.026"
      ]
     },
     "execution_count": 47,
     "metadata": {},
     "output_type": "execute_result"
    }
   ],
   "source": [
    "print(agrupador.cluster_centers_)\n",
    "\n",
    "original.groupby('species').mean()"
   ]
  },
  {
   "cell_type": "markdown",
   "id": "e950edb9-e5f3-44b6-827a-9fcb855d2716",
   "metadata": {},
   "source": [
    "## Exibir os Clusters"
   ]
  },
  {
   "cell_type": "code",
   "execution_count": 48,
   "id": "d8dec9a2-123e-4ab1-8f91-6862703c0452",
   "metadata": {},
   "outputs": [
    {
     "data": {
      "image/png": "[encoded data removed]",
      "text/plain": [
       "<Figure size 432x288 with 1 Axes>"
      ]
     },
     "metadata": {
      "needs_background": "light"
     },
     "output_type": "display_data"
    }
   ],
   "source": [
    "# Criar um mapa de cores\n",
    "colormap = np.array(['red', 'lime', 'black'])\n",
    "\n",
    "# Exibir a classificacao do modelo\n",
    "plt.scatter(\n",
    "    df['petal_length'],\n",
    "    df['petal_width'],\n",
    "    c = colormap[agrupador.labels_],\n",
    "    s = 40\n",
    ")\n",
    "plt.title('K-Means Classification')\n",
    "\n",
    "plt.show()"
   ]
  },
  {
   "cell_type": "markdown",
   "id": "1079d7c6-7507-4006-bade-286320d347bf",
   "metadata": {},
   "source": [
    "# Matriz de Confusão\n",
    "\n",
    "- A biblioteca **sklearn.metrics** tem a função **confusion_matrix** que irá nos retornar a matriz de confusão dos dados previstos. \n",
    "- **y_true** - Valores alvo verdadeiros (corretos). \n",
    "- **y_pred** - Alvos estimados conforme retornados por um classificador. \n",
    "- **labels** - Lista de rótulos para indexar a matriz. Isso pode ser usado para reordenar ou selecionar um subconjunto de rótulos. Se Nenhum for fornecido, aqueles que aparecem pelo menos uma vez em y_true ou y_pred são usados na ordem de classificação \n",
    "- **sample_weight** - Pesos de amostra. \n",
    "- **normalize**: {‘true’, ‘pred’, ‘all’}, default=None - Normaliza a matriz de confusão sobre as condições verdadeiras (linhas), preditas (colunas) ou toda a população. Se nenhum, a matriz de confusão não será normalizada. "
   ]
  },
  {
   "cell_type": "code",
   "execution_count": 49,
   "id": "559b5f19-f674-491d-8e4c-ced623fd735c",
   "metadata": {},
   "outputs": [],
   "source": [
    "teste = classes.map({\n",
    "    'setosa' : 1,\n",
    "    'versicolor': 2,\n",
    "    'virginica': 0\n",
    "})\n",
    "\n",
    "previsao = agrupador.labels_"
   ]
  },
  {
   "cell_type": "code",
   "execution_count": 50,
   "id": "89f54d69-1127-4b94-b837-5884a0aa9bec",
   "metadata": {},
   "outputs": [
    {
     "data": {
      "text/plain": [
       "array([[36,  0, 14],\n",
       "       [ 0, 50,  0],\n",
       "       [ 2,  0, 48]], dtype=int64)"
      ]
     },
     "execution_count": 50,
     "metadata": {},
     "output_type": "execute_result"
    }
   ],
   "source": [
    "confusion_matrix(teste, previsao)"
   ]
  },
  {
   "cell_type": "markdown",
   "id": "6608f02b-2d85-4af2-9bcd-afadbc14e04d",
   "metadata": {},
   "source": [
    "## Personalizando a matriz de confusão"
   ]
  },
  {
   "cell_type": "code",
   "execution_count": 51,
   "id": "7bf32dcb-b7bd-4976-9093-380db80ccdcb",
   "metadata": {},
   "outputs": [
    {
     "data": {
      "image/png": "[encoded data removed]",
      "text/plain": [
       "<Figure size 432x288 with 2 Axes>"
      ]
     },
     "metadata": {
      "needs_background": "light"
     },
     "output_type": "display_data"
    }
   ],
   "source": [
    "cm = confusion_matrix(teste, previsao)\n",
    "ax= plt.subplot()\n",
    "sns.heatmap(cm, annot=True, ax = ax); #annot=True to annotate cells\n",
    "\n",
    "# labels, title and ticks\n",
    "ax.set_xlabel('Previsão');\n",
    "ax.set_ylabel('Verdadeiro'); \n",
    "ax.set_title('Confusion Matrix'); "
   ]
  },
  {
   "cell_type": "markdown",
   "id": "d9810228-4f54-49e0-adf0-11121072a408",
   "metadata": {},
   "source": [
    "# Métricas\n",
    "\n",
    "- A biblioteca **sklearn.metrics** tem a função **classification_report** que cria um relatório de texto mostrando as principais métricas de classificação. \n",
    "- **y_true** - Valores alvo verdadeiros (corretos). \n",
    "- **y_pred** - Alvos estimados conforme retornados por um classificador. \n",
    "- **labels** - Lista opcional de índices de rótulo a serem incluídos no relatório. \n",
    "- **target_names** - Nomes de exibição opcionais que correspondem aos rótulos (mesma ordem) \n",
    "- **sample_weight** - Peso das Amostras\n",
    "- **digits** - Número de dígitos para formatar valores de ponto flutuante de saída. Quando output_dict for True, isso será ignorado e os valores retornados não serão arredondados.\n",
    "- **output_dict** - Se verdadeiro, retorna a saída como dict\n",
    "- **zero_division**: 'warn', 0 or 1, default='warn' - Define o valor a ser retornado quando houver uma divisão zero. Se definido como “aviso”, funciona como 0, mas os avisos também são gerados. "
   ]
  },
  {
   "cell_type": "code",
   "execution_count": 52,
   "id": "323ea309-2c82-47a6-9640-b5b928e931a5",
   "metadata": {},
   "outputs": [
    {
     "name": "stdout",
     "output_type": "stream",
     "text": [
      "              precision    recall  f1-score   support\n",
      "\n",
      "           0       0.95      0.72      0.82        50\n",
      "           1       1.00      1.00      1.00        50\n",
      "           2       0.77      0.96      0.86        50\n",
      "\n",
      "    accuracy                           0.89       150\n",
      "   macro avg       0.91      0.89      0.89       150\n",
      "weighted avg       0.91      0.89      0.89       150\n",
      "\n"
     ]
    }
   ],
   "source": [
    "print(classification_report(teste, previsao))"
   ]
  },
  {
   "cell_type": "markdown",
   "id": "04bbbb39-9189-4edb-9b0f-ca444bda77b6",
   "metadata": {},
   "source": [
    "## Acurácia\n",
    "\n",
    "- A função **accuracy_score** pode ser usada para verificar a acurácia dos dados"
   ]
  },
  {
   "cell_type": "code",
   "execution_count": 53,
   "id": "280a10ae-7ac3-4d37-af07-7c627a1301e3",
   "metadata": {},
   "outputs": [
    {
     "data": {
      "text/plain": [
       "0.8933333333333333"
      ]
     },
     "execution_count": 53,
     "metadata": {},
     "output_type": "execute_result"
    }
   ],
   "source": [
    "accuracy_score(teste, previsao)"
   ]
  },
  {
   "cell_type": "markdown",
   "id": "a97dcb23-f3dd-41f7-8c7a-5b97d7fc9f8a",
   "metadata": {},
   "source": [
    "# Melhor Valor de K - Eblow\n",
    "\n",
    "- Como podemos ver o melhor valor de se aproxima de 3, o mesmo número de classes reais. "
   ]
  },
  {
   "cell_type": "code",
   "execution_count": 57,
   "id": "67d36586-d0ff-4740-9493-79a934bb7454",
   "metadata": {},
   "outputs": [
    {
     "name": "stderr",
     "output_type": "stream",
     "text": [
      "C:\\Users\\Adria\\anaconda3\\lib\\site-packages\\sklearn\\cluster\\_kmeans.py:881: UserWarning: KMeans is known to have a memory leak on Windows with MKL, when there are less chunks than available threads. You can avoid it by setting the environment variable OMP_NUM_THREADS=1.\n",
      "  warnings.warn(\n"
     ]
    }
   ],
   "source": [
    "wcss = []\n",
    "K = range(1,10)\n",
    "for k in K:\n",
    "    kmeanModel = cluster.KMeans(n_clusters=k)\n",
    "    kmeanModel.fit(df)\n",
    "    wcss.append(kmeanModel.inertia_)"
   ]
  },
  {
   "cell_type": "code",
   "execution_count": 59,
   "id": "90750a10-8f62-4ce6-abc5-1569a782c73f",
   "metadata": {},
   "outputs": [
    {
     "data": {
      "image/png": "[encoded data removed]",
      "text/plain": [
       "<Figure size 1152x576 with 1 Axes>"
      ]
     },
     "metadata": {
      "needs_background": "light"
     },
     "output_type": "display_data"
    }
   ],
   "source": [
    "plt.figure(figsize=(16,8))\n",
    "plt.plot(K, wcss, 'bx-')\n",
    "plt.xlabel('Núméro de Clusters')\n",
    "plt.ylabel('Distorção dos Dados')\n",
    "plt.title('O método do \"cotovelo\" mostrando o k ideal ')\n",
    "plt.show()"
   ]
  }
 ],
 "metadata": {
  "kernelspec": {
   "display_name": "Python 3",
   "language": "python",
   "name": "python3"
  },
  "language_info": {
   "codemirror_mode": {
    "name": "ipython",
    "version": 3
   },
   "file_extension": ".py",
   "mimetype": "text/x-python",
   "name": "python",
   "nbconvert_exporter": "python",
   "pygments_lexer": "ipython3",
   "version": "3.8.8"
  }
 },
 "nbformat": 4,
 "nbformat_minor": 5
}
