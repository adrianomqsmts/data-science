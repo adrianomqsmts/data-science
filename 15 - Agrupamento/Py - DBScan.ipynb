{
 "cells": [
  {
   "cell_type": "markdown",
   "id": "bc9d957a-c4b9-43c1-a851-55b2684fdc51",
   "metadata": {},
   "source": [
    "# DBScan\n",
    "\n",
    "https://www.kdnuggets.com/2020/04/dbscan-clustering-algorithm-machine-learning.html\n",
    "\n",
    "https://www.analyticsvidhya.com/blog/2020/09/how-dbscan-clustering-works/\n",
    "\n",
    "## Bibliotecas"
   ]
  },
  {
   "cell_type": "code",
   "execution_count": 1,
   "id": "bb68f569-a5bb-460d-a053-83cdff6b34f8",
   "metadata": {},
   "outputs": [],
   "source": [
    "import pandas as pd\n",
    "import numpy as np\n",
    "\n",
    "#Pre-processamento\n",
    "from sklearn.preprocessing import StandardScaler\n",
    "\n",
    "#Visualização de dados\n",
    "import seaborn as sns\n",
    "import matplotlib.pyplot as plt\n",
    "\n",
    "#Metricas\n",
    "from sklearn.metrics import confusion_matrix\n",
    "from sklearn.metrics import accuracy_score\n",
    "from sklearn.metrics import classification_report\n",
    "\n",
    "# DBScan\n",
    "from sklearn.cluster import DBSCAN"
   ]
  },
  {
   "cell_type": "markdown",
   "id": "0cd69de1-3131-4a72-9f99-1cf1aa1784fa",
   "metadata": {},
   "source": [
    "## Carregar a Base de Dados - Iris"
   ]
  },
  {
   "cell_type": "code",
   "execution_count": 9,
   "id": "35901d56-c71c-4ae3-82e4-a2f8b7469d14",
   "metadata": {},
   "outputs": [
    {
     "data": {
      "text/html": [
       "<div>\n",
       "<style scoped>\n",
       "    .dataframe tbody tr th:only-of-type {\n",
       "        vertical-align: middle;\n",
       "    }\n",
       "\n",
       "    .dataframe tbody tr th {\n",
       "        vertical-align: top;\n",
       "    }\n",
       "\n",
       "    .dataframe thead th {\n",
       "        text-align: right;\n",
       "    }\n",
       "</style>\n",
       "<table border=\"1\" class=\"dataframe\">\n",
       "  <thead>\n",
       "    <tr style=\"text-align: right;\">\n",
       "      <th></th>\n",
       "      <th>sepal_length</th>\n",
       "      <th>sepal_width</th>\n",
       "      <th>petal_length</th>\n",
       "      <th>petal_width</th>\n",
       "    </tr>\n",
       "  </thead>\n",
       "  <tbody>\n",
       "    <tr>\n",
       "      <th>0</th>\n",
       "      <td>5.1</td>\n",
       "      <td>3.5</td>\n",
       "      <td>1.4</td>\n",
       "      <td>0.2</td>\n",
       "    </tr>\n",
       "    <tr>\n",
       "      <th>1</th>\n",
       "      <td>4.9</td>\n",
       "      <td>3.0</td>\n",
       "      <td>1.4</td>\n",
       "      <td>0.2</td>\n",
       "    </tr>\n",
       "    <tr>\n",
       "      <th>2</th>\n",
       "      <td>4.7</td>\n",
       "      <td>3.2</td>\n",
       "      <td>1.3</td>\n",
       "      <td>0.2</td>\n",
       "    </tr>\n",
       "    <tr>\n",
       "      <th>3</th>\n",
       "      <td>4.6</td>\n",
       "      <td>3.1</td>\n",
       "      <td>1.5</td>\n",
       "      <td>0.2</td>\n",
       "    </tr>\n",
       "    <tr>\n",
       "      <th>4</th>\n",
       "      <td>5.0</td>\n",
       "      <td>3.6</td>\n",
       "      <td>1.4</td>\n",
       "      <td>0.2</td>\n",
       "    </tr>\n",
       "  </tbody>\n",
       "</table>\n",
       "</div>"
      ],
      "text/plain": [
       "   sepal_length  sepal_width  petal_length  petal_width\n",
       "0           5.1          3.5           1.4          0.2\n",
       "1           4.9          3.0           1.4          0.2\n",
       "2           4.7          3.2           1.3          0.2\n",
       "3           4.6          3.1           1.5          0.2\n",
       "4           5.0          3.6           1.4          0.2"
      ]
     },
     "execution_count": 9,
     "metadata": {},
     "output_type": "execute_result"
    }
   ],
   "source": [
    "original = sns.load_dataset('iris')\n",
    "classes = original['species']\n",
    "df = original.drop(columns = 'species')\n",
    "df.head()"
   ]
  },
  {
   "cell_type": "markdown",
   "id": "409fb7b9-2250-487d-989b-c46d5a89d4fc",
   "metadata": {},
   "source": [
    "# DBSCan\n",
    "\n",
    "DBSCAN - Clustering espacial baseado em densidade de aplicações com ruído. Encontra amostras de núcleo de alta densidade e expande aglomerados deles. Bom para dados que contenham clusters de densidade semelhante.\n",
    "\n",
    "Parâmetros\n",
    "\n",
    "- **eps** - float, default=0.5 - A distância máxima entre duas amostras para uma ser considerada como no bairro do outro. Este não é um limite máximo nas distâncias de pontos dentro de um cluster. Este é o parâmetro DBSCAN mais importante para escolher adequadamente para o seu conjunto de dados e função de distância.\n",
    "- **min_samples** - int, default=5 - O número de amostras (ou peso total) em um bairro para um ponto a ser considerado como um ponto central. Isso inclui o ponto em si.\n",
    "- **metric** - string,ou callable, default='euclidean' - A métrica a ser usada ao calcular a distância entre instâncias em um array de recursos. X pode ser um Glossário, nesse caso, apenas elementos \"não zero\" podem ser considerados vizinhos para DBSCAN.\n",
    "- **metric_params** - dict, default=None - Argumentos adicionais de palavras-chave para a função métrica.\n",
    "- **algorithm** - {‘auto’, ‘ball_tree’, ‘kd_tree’, ‘brute’}, default=’auto’ - O algoritmo a ser usado pelo módulo Mais Próximo para calcular distâncias pontuais e encontrar vizinhos mais próximos. Consulte a documentação do módulo Mais Próximoneighbors para obter detalhes.\n",
    "- **leaf_size** - int, default=30 - O tamanho da folha passou para BallTree ou cKDTree. Isso pode afetar a velocidade da construção e consulta, bem como a memória necessária para armazenar a árvore. O valor ideal depende da natureza do problema.\n",
    "- **p** - float, default=None - O poder da métrica de Minkowski a ser usado para calcular a distância entre os pontos. Se Nenhum, então (equivalente à distância euclidiana).p=2\n",
    "- **n_jobs** - int, default=Nenhum - O número de trabalhos paralelos para executar. significa 1, a menos que em um contexto joblib.parallel_backend. significa usar todos os processadores. Consulte Glossário para obter mais detalhes.None-1\n",
    "\n",
    "Atributos\n",
    "\n",
    "- **core_sample_indices_** - ndarray de forma (n_core_samples,) - Índices de amostras de núcleo.\n",
    "- **components_** - ndarray de forma (n_core_samples, n_features) - Cópia de cada amostra do núcleo encontrada por treinamento.\n",
    "- **labels_** - ndarray de forma (n_samples) - Rótulos de cluster para cada ponto no conjunto de dados dado para caber(). Amostras ruimis recebem o rótulo -1."
   ]
  },
  {
   "cell_type": "code",
   "execution_count": 39,
   "id": "775f886d-e0ea-4731-93a0-362b79483f7e",
   "metadata": {},
   "outputs": [],
   "source": [
    "agrupador = DBSCAN(eps=0.9, min_samples=5)\n",
    "agrupador = agrupador.fit(df)"
   ]
  },
  {
   "cell_type": "markdown",
   "id": "60a3b3f6-0773-46dd-b52c-e7cd141a9298",
   "metadata": {},
   "source": [
    "## Exibir as Classes\n",
    "\n",
    "- Caso o valor seja nulo, então o dado não foi agrupado"
   ]
  },
  {
   "cell_type": "code",
   "execution_count": 40,
   "id": "2a358333-b0e9-4b06-83f9-a3287def0a3c",
   "metadata": {},
   "outputs": [
    {
     "data": {
      "text/plain": [
       "array([0, 0, 0, 0, 0, 0, 0, 0, 0, 0, 0, 0, 0, 0, 0, 0, 0, 0, 0, 0, 0, 0,\n",
       "       0, 0, 0, 0, 0, 0, 0, 0, 0, 0, 0, 0, 0, 0, 0, 0, 0, 0, 0, 0, 0, 0,\n",
       "       0, 0, 0, 0, 0, 0, 1, 1, 1, 1, 1, 1, 1, 1, 1, 1, 1, 1, 1, 1, 1, 1,\n",
       "       1, 1, 1, 1, 1, 1, 1, 1, 1, 1, 1, 1, 1, 1, 1, 1, 1, 1, 1, 1, 1, 1,\n",
       "       1, 1, 1, 1, 1, 1, 1, 1, 1, 1, 1, 1, 1, 1, 1, 1, 1, 1, 1, 1, 1, 1,\n",
       "       1, 1, 1, 1, 1, 1, 1, 1, 1, 1, 1, 1, 1, 1, 1, 1, 1, 1, 1, 1, 1, 1,\n",
       "       1, 1, 1, 1, 1, 1, 1, 1, 1, 1, 1, 1, 1, 1, 1, 1, 1, 1], dtype=int64)"
      ]
     },
     "execution_count": 40,
     "metadata": {},
     "output_type": "execute_result"
    }
   ],
   "source": [
    "previsao = agrupador.labels_\n",
    "previsao"
   ]
  },
  {
   "cell_type": "markdown",
   "id": "1ca8ce37-5433-433f-9683-3c6a730d357f",
   "metadata": {},
   "source": [
    "## Exibir os Clusters"
   ]
  },
  {
   "cell_type": "code",
   "execution_count": 41,
   "id": "2f1e801e-e55c-4646-8695-288a6fb8d145",
   "metadata": {},
   "outputs": [
    {
     "data": {
      "image/png": "[encoded data removed]",
      "text/plain": [
       "<Figure size 432x288 with 1 Axes>"
      ]
     },
     "metadata": {
      "needs_background": "light"
     },
     "output_type": "display_data"
    }
   ],
   "source": [
    "# Criar um mapa de cores\n",
    "colormap = np.array(['red', 'lime', 'black'])\n",
    "\n",
    "# Exibir a classificacao do modelo\n",
    "plt.scatter(\n",
    "    df['petal_length'],\n",
    "    df['petal_width'],\n",
    "    c = colormap[agrupador.labels_],\n",
    "    s = 40\n",
    ")\n",
    "plt.title('DBScan Classification')\n",
    "\n",
    "plt.show()"
   ]
  }
 ],
 "metadata": {
  "kernelspec": {
   "display_name": "Python 3",
   "language": "python",
   "name": "python3"
  },
  "language_info": {
   "codemirror_mode": {
    "name": "ipython",
    "version": 3
   },
   "file_extension": ".py",
   "mimetype": "text/x-python",
   "name": "python",
   "nbconvert_exporter": "python",
   "pygments_lexer": "ipython3",
   "version": "3.8.10"
  }
 },
 "nbformat": 4,
 "nbformat_minor": 5
}
