{
 "cells": [
  {
   "cell_type": "markdown",
   "id": "d2f6f312-cac6-4401-8368-85f09e4d086f",
   "metadata": {},
   "source": [
    "# DBScan"
   ]
  },
  {
   "cell_type": "markdown",
   "id": "96f4a496-cdc9-4ee9-9b3f-136a23b3f497",
   "metadata": {},
   "source": [
    "## Bibliotecas"
   ]
  },
  {
   "cell_type": "code",
   "execution_count": 15,
   "id": "f990619e-6a25-493b-8ed5-14a6ae59d637",
   "metadata": {},
   "outputs": [
    {
     "name": "stderr",
     "output_type": "stream",
     "text": [
      "Warning message:\n",
      "\"package 'cluster' was built under R version 3.6.3\""
     ]
    }
   ],
   "source": [
    "# DBScan\n",
    "library(dbscan)\n",
    "# Gráficos\n",
    "library(caTools)\n",
    "library(gplots)\n",
    "library(cluster)\n",
    "# Métricas\n",
    "library(caret)\n",
    "set.seed(1)"
   ]
  },
  {
   "cell_type": "markdown",
   "id": "ab890b62-b8ca-4c02-bf3f-11e8d7b3fdcb",
   "metadata": {},
   "source": [
    "## Base de Dados - Iris"
   ]
  },
  {
   "cell_type": "code",
   "execution_count": 7,
   "id": "ab4844bd-8b57-4a45-ba73-5dc7f8bfda34",
   "metadata": {},
   "outputs": [
    {
     "data": {
      "text/html": [
       "<table>\n",
       "<thead><tr><th scope=col>Sepal.Length</th><th scope=col>Sepal.Width</th><th scope=col>Petal.Length</th><th scope=col>Petal.Width</th></tr></thead>\n",
       "<tbody>\n",
       "\t<tr><td>-0.8976739 </td><td> 1.01560199</td><td>-1.335752  </td><td>-1.311052  </td></tr>\n",
       "\t<tr><td>-1.1392005 </td><td>-0.13153881</td><td>-1.335752  </td><td>-1.311052  </td></tr>\n",
       "\t<tr><td>-1.3807271 </td><td> 0.32731751</td><td>-1.392399  </td><td>-1.311052  </td></tr>\n",
       "\t<tr><td>-1.5014904 </td><td> 0.09788935</td><td>-1.279104  </td><td>-1.311052  </td></tr>\n",
       "\t<tr><td>-1.0184372 </td><td> 1.24503015</td><td>-1.335752  </td><td>-1.311052  </td></tr>\n",
       "\t<tr><td>-0.5353840 </td><td> 1.93331463</td><td>-1.165809  </td><td>-1.048667  </td></tr>\n",
       "</tbody>\n",
       "</table>\n"
      ],
      "text/latex": [
       "\\begin{tabular}{llll}\n",
       " Sepal.Length & Sepal.Width & Petal.Length & Petal.Width\\\\\n",
       "\\hline\n",
       "\t -0.8976739  &  1.01560199 & -1.335752   & -1.311052  \\\\\n",
       "\t -1.1392005  & -0.13153881 & -1.335752   & -1.311052  \\\\\n",
       "\t -1.3807271  &  0.32731751 & -1.392399   & -1.311052  \\\\\n",
       "\t -1.5014904  &  0.09788935 & -1.279104   & -1.311052  \\\\\n",
       "\t -1.0184372  &  1.24503015 & -1.335752   & -1.311052  \\\\\n",
       "\t -0.5353840  &  1.93331463 & -1.165809   & -1.048667  \\\\\n",
       "\\end{tabular}\n"
      ],
      "text/markdown": [
       "\n",
       "| Sepal.Length | Sepal.Width | Petal.Length | Petal.Width |\n",
       "|---|---|---|---|\n",
       "| -0.8976739  |  1.01560199 | -1.335752   | -1.311052   |\n",
       "| -1.1392005  | -0.13153881 | -1.335752   | -1.311052   |\n",
       "| -1.3807271  |  0.32731751 | -1.392399   | -1.311052   |\n",
       "| -1.5014904  |  0.09788935 | -1.279104   | -1.311052   |\n",
       "| -1.0184372  |  1.24503015 | -1.335752   | -1.311052   |\n",
       "| -0.5353840  |  1.93331463 | -1.165809   | -1.048667   |\n",
       "\n"
      ],
      "text/plain": [
       "     Sepal.Length Sepal.Width Petal.Length Petal.Width\n",
       "[1,] -0.8976739    1.01560199 -1.335752    -1.311052  \n",
       "[2,] -1.1392005   -0.13153881 -1.335752    -1.311052  \n",
       "[3,] -1.3807271    0.32731751 -1.392399    -1.311052  \n",
       "[4,] -1.5014904    0.09788935 -1.279104    -1.311052  \n",
       "[5,] -1.0184372    1.24503015 -1.335752    -1.311052  \n",
       "[6,] -0.5353840    1.93331463 -1.165809    -1.048667  "
      ]
     },
     "metadata": {},
     "output_type": "display_data"
    }
   ],
   "source": [
    "df = iris[-5]\n",
    "df = scale(df)\n",
    "head(df)"
   ]
  },
  {
   "cell_type": "markdown",
   "id": "650ed8c9-d10a-4d79-9eb8-6a7e348b6e3e",
   "metadata": {},
   "source": [
    "# DBScan\n",
    "\n",
    "Reimplementação rápida do algoritmo de agrupamento espacial DBSCAN (Densidade baseada em densidade de aplicações com ruído) usando uma árvore kd.\n",
    "\n",
    "https://www.rdocumentation.org/packages/dbscan/versions/1.1-8/topics/dbscan\n",
    "\n",
    "Parâmetros\n",
    "\n",
    "- **x** - Uma matriz de dados, um data.frame, um objeto dist ou um objeto frNN com vizinhos de raio fixo mais próximos.\n",
    "- **EPS** - Tamanho (raio) da região epsilon.\n",
    "- **minPts** - Número de pontos mínimos necessários na região eps para pontos centrais (incluindo o próprio ponto). O valor padrão é de 5 pontos.\n",
    "- **wight** - Numérico; pesos para os pontos de dados. Só precisava realizar agrupamento ponderado.\n",
    "- **borderPoints** - Lógico; devem ser atribuídos pontos fronteiriços a clusters. O padrão é para DBSCAN regular. Se, em seguida, os pontos de fronteira forem considerados ruído \n",
    "\n",
    "Argumentos\n",
    "\n",
    "- **cluster** - Um vetor inteiro com atribuições de cluster. **Zero indica pontos de ruído, onde não foi possível definir uma classe**.\n"
   ]
  },
  {
   "cell_type": "code",
   "execution_count": 26,
   "id": "ed83b710-b950-4e1c-98f5-364718ed9625",
   "metadata": {},
   "outputs": [],
   "source": [
    "agrupador = dbscan(df, eps = 0.5, minPts = 5)\n",
    "grupos = agrupador$cluster"
   ]
  },
  {
   "cell_type": "markdown",
   "id": "28e53965-9814-4c89-8302-85f075e177d4",
   "metadata": {},
   "source": [
    "## Visualizando os Grupos criados"
   ]
  },
  {
   "cell_type": "code",
   "execution_count": 27,
   "id": "7c2da276-e182-47dd-92c5-c32ebeb419ee",
   "metadata": {},
   "outputs": [
    {
     "data": {
      "text/html": [
       "<ol class=list-inline>\n",
       "\t<li>1</li>\n",
       "\t<li>0</li>\n",
       "\t<li>2</li>\n",
       "</ol>\n"
      ],
      "text/latex": [
       "\\begin{enumerate*}\n",
       "\\item 1\n",
       "\\item 0\n",
       "\\item 2\n",
       "\\end{enumerate*}\n"
      ],
      "text/markdown": [
       "1. 1\n",
       "2. 0\n",
       "3. 2\n",
       "\n",
       "\n"
      ],
      "text/plain": [
       "[1] 1 0 2"
      ]
     },
     "metadata": {},
     "output_type": "display_data"
    }
   ],
   "source": [
    "unique(grupos)"
   ]
  },
  {
   "cell_type": "markdown",
   "id": "e429d2b6-8443-4c29-a765-b83ef376ee3e",
   "metadata": {},
   "source": [
    "## Exibir os Clusters\n",
    "\n",
    "- A função **clusplot** pode ser usada para exibir os clusters dos dados"
   ]
  },
  {
   "cell_type": "code",
   "execution_count": 28,
   "id": "cedc0d5b-cb4c-49db-a65b-0d6fa42c471e",
   "metadata": {},
   "outputs": [
    {
     "data": {
      "image/png": "[encoded data removed]",
      "text/plain": [
       "Plot with title \"CLUSPLOT( df )\""
      ]
     },
     "metadata": {},
     "output_type": "display_data"
    }
   ],
   "source": [
    "clusplot( \n",
    "    df,\n",
    "    grupos,\n",
    "    color = TRUE,\n",
    ")"
   ]
  },
  {
   "cell_type": "code",
   "execution_count": null,
   "id": "7c2740f3-1b84-4b3e-8e3f-c47469397ee7",
   "metadata": {},
   "outputs": [],
   "source": []
  }
 ],
 "metadata": {
  "kernelspec": {
   "display_name": "R",
   "language": "R",
   "name": "ir"
  },
  "language_info": {
   "codemirror_mode": "r",
   "file_extension": ".r",
   "mimetype": "text/x-r-source",
   "name": "R",
   "pygments_lexer": "r",
   "version": "3.6.1"
  }
 },
 "nbformat": 4,
 "nbformat_minor": 5
}
