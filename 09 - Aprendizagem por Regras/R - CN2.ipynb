{
 "cells": [
  {
   "cell_type": "markdown",
   "id": "8e11d4dd-faa5-4e18-87a2-32cf4df51cb9",
   "metadata": {},
   "source": [
    "# CN2\n",
    "\n",
    "- O algoritmo aceita apenas atributos do tipo string"
   ]
  },
  {
   "cell_type": "markdown",
   "id": "82817b9b-196d-4f95-b507-f6f68ebd10eb",
   "metadata": {},
   "source": [
    "## Carregando Biblioteca"
   ]
  },
  {
   "cell_type": "code",
   "execution_count": 1,
   "id": "79191084-f8a6-48f2-9efa-cca2bf714ba7",
   "metadata": {},
   "outputs": [
    {
     "name": "stdout",
     "output_type": "stream",
     "text": [
      "package 'RoughSets' successfully unpacked and MD5 sums checked\n",
      "\n",
      "The downloaded binary packages are in\n",
      "\tC:\\Users\\Adria\\AppData\\Local\\Temp\\RtmpCyLnOQ\\downloaded_packages\n"
     ]
    },
    {
     "name": "stderr",
     "output_type": "stream",
     "text": [
      "Warning message:\n",
      "\"package 'RoughSets' was built under R version 3.6.3\"Loading required package: Rcpp\n",
      "\n",
      "Attaching package: 'CatEncoders'\n",
      "\n",
      "The following object is masked from 'package:base':\n",
      "\n",
      "    transform\n",
      "\n",
      "\n",
      "Attaching package: 'gplots'\n",
      "\n",
      "The following object is masked from 'package:stats':\n",
      "\n",
      "    lowess\n",
      "\n",
      "Loading required package: lattice\n",
      "Loading required package: ggplot2\n",
      "Registered S3 methods overwritten by 'ggplot2':\n",
      "  method         from \n",
      "  [.quosures     rlang\n",
      "  c.quosures     rlang\n",
      "  print.quosures rlang\n"
     ]
    }
   ],
   "source": [
    "library(repr)\n",
    "library(caTools)\n",
    "options(repr.plot.width = 4, repr.plot.height = 4)\n",
    "# CN2\n",
    "library(RoughSets)\n",
    "#Preprocessamento\n",
    "library(CatEncoders)\n",
    "library(gplots)\n",
    "#Matricas\n",
    "library(caret)"
   ]
  },
  {
   "cell_type": "markdown",
   "id": "7a14f725-2ff0-433f-8b9b-b6e360d657f3",
   "metadata": {},
   "source": [
    "## Carregando os dados"
   ]
  },
  {
   "cell_type": "code",
   "execution_count": 2,
   "id": "73f280a4-c492-4e5b-826a-ff821b8102dd",
   "metadata": {},
   "outputs": [
    {
     "data": {
      "text/html": [
       "<table>\n",
       "<thead><tr><th scope=col>PassengerId</th><th scope=col>Survived</th><th scope=col>Pclass</th><th scope=col>Name</th><th scope=col>Sex</th><th scope=col>Age</th><th scope=col>SibSp</th><th scope=col>Parch</th><th scope=col>Ticket</th><th scope=col>Fare</th><th scope=col>Cabin</th><th scope=col>Embarked</th></tr></thead>\n",
       "<tbody>\n",
       "\t<tr><td>1                                                  </td><td>0                                                  </td><td>3                                                  </td><td>Braund, Mr. Owen Harris                            </td><td>male                                               </td><td>22                                                 </td><td>1                                                  </td><td>0                                                  </td><td>A/5 21171                                          </td><td> 7.2500                                            </td><td>NA                                                 </td><td>S                                                  </td></tr>\n",
       "\t<tr><td>2                                                  </td><td>1                                                  </td><td>1                                                  </td><td>Cumings, Mrs. John Bradley (Florence Briggs Thayer)</td><td>female                                             </td><td>38                                                 </td><td>1                                                  </td><td>0                                                  </td><td>PC 17599                                           </td><td>71.2833                                            </td><td>C85                                                </td><td>C                                                  </td></tr>\n",
       "\t<tr><td>3                                                  </td><td>1                                                  </td><td>3                                                  </td><td>Heikkinen, Miss. Laina                             </td><td>female                                             </td><td>26                                                 </td><td>0                                                  </td><td>0                                                  </td><td>STON/O2. 3101282                                   </td><td> 7.9250                                            </td><td>NA                                                 </td><td>S                                                  </td></tr>\n",
       "\t<tr><td>4                                                  </td><td>1                                                  </td><td>1                                                  </td><td>Futrelle, Mrs. Jacques Heath (Lily May Peel)       </td><td>female                                             </td><td>35                                                 </td><td>1                                                  </td><td>0                                                  </td><td>113803                                             </td><td>53.1000                                            </td><td>C123                                               </td><td>S                                                  </td></tr>\n",
       "\t<tr><td>5                                                  </td><td>0                                                  </td><td>3                                                  </td><td>Allen, Mr. William Henry                           </td><td>male                                               </td><td>35                                                 </td><td>0                                                  </td><td>0                                                  </td><td>373450                                             </td><td> 8.0500                                            </td><td>NA                                                 </td><td>S                                                  </td></tr>\n",
       "\t<tr><td>6                                                  </td><td>0                                                  </td><td>3                                                  </td><td>Moran, Mr. James                                   </td><td>male                                               </td><td>NA                                                 </td><td>0                                                  </td><td>0                                                  </td><td>330877                                             </td><td> 8.4583                                            </td><td>NA                                                 </td><td>Q                                                  </td></tr>\n",
       "</tbody>\n",
       "</table>\n"
      ],
      "text/latex": [
       "\\begin{tabular}{r|llllllllllll}\n",
       " PassengerId & Survived & Pclass & Name & Sex & Age & SibSp & Parch & Ticket & Fare & Cabin & Embarked\\\\\n",
       "\\hline\n",
       "\t 1                                                   & 0                                                   & 3                                                   & Braund, Mr. Owen Harris                             & male                                                & 22                                                  & 1                                                   & 0                                                   & A/5 21171                                           &  7.2500                                             & NA                                                  & S                                                  \\\\\n",
       "\t 2                                                   & 1                                                   & 1                                                   & Cumings, Mrs. John Bradley (Florence Briggs Thayer) & female                                              & 38                                                  & 1                                                   & 0                                                   & PC 17599                                            & 71.2833                                             & C85                                                 & C                                                  \\\\\n",
       "\t 3                                                   & 1                                                   & 3                                                   & Heikkinen, Miss. Laina                              & female                                              & 26                                                  & 0                                                   & 0                                                   & STON/O2. 3101282                                    &  7.9250                                             & NA                                                  & S                                                  \\\\\n",
       "\t 4                                                   & 1                                                   & 1                                                   & Futrelle, Mrs. Jacques Heath (Lily May Peel)        & female                                              & 35                                                  & 1                                                   & 0                                                   & 113803                                              & 53.1000                                             & C123                                                & S                                                  \\\\\n",
       "\t 5                                                   & 0                                                   & 3                                                   & Allen, Mr. William Henry                            & male                                                & 35                                                  & 0                                                   & 0                                                   & 373450                                              &  8.0500                                             & NA                                                  & S                                                  \\\\\n",
       "\t 6                                                   & 0                                                   & 3                                                   & Moran, Mr. James                                    & male                                                & NA                                                  & 0                                                   & 0                                                   & 330877                                              &  8.4583                                             & NA                                                  & Q                                                  \\\\\n",
       "\\end{tabular}\n"
      ],
      "text/markdown": [
       "\n",
       "| PassengerId | Survived | Pclass | Name | Sex | Age | SibSp | Parch | Ticket | Fare | Cabin | Embarked |\n",
       "|---|---|---|---|---|---|---|---|---|---|---|---|\n",
       "| 1                                                   | 0                                                   | 3                                                   | Braund, Mr. Owen Harris                             | male                                                | 22                                                  | 1                                                   | 0                                                   | A/5 21171                                           |  7.2500                                             | NA                                                  | S                                                   |\n",
       "| 2                                                   | 1                                                   | 1                                                   | Cumings, Mrs. John Bradley (Florence Briggs Thayer) | female                                              | 38                                                  | 1                                                   | 0                                                   | PC 17599                                            | 71.2833                                             | C85                                                 | C                                                   |\n",
       "| 3                                                   | 1                                                   | 3                                                   | Heikkinen, Miss. Laina                              | female                                              | 26                                                  | 0                                                   | 0                                                   | STON/O2. 3101282                                    |  7.9250                                             | NA                                                  | S                                                   |\n",
       "| 4                                                   | 1                                                   | 1                                                   | Futrelle, Mrs. Jacques Heath (Lily May Peel)        | female                                              | 35                                                  | 1                                                   | 0                                                   | 113803                                              | 53.1000                                             | C123                                                | S                                                   |\n",
       "| 5                                                   | 0                                                   | 3                                                   | Allen, Mr. William Henry                            | male                                                | 35                                                  | 0                                                   | 0                                                   | 373450                                              |  8.0500                                             | NA                                                  | S                                                   |\n",
       "| 6                                                   | 0                                                   | 3                                                   | Moran, Mr. James                                    | male                                                | NA                                                  | 0                                                   | 0                                                   | 330877                                              |  8.4583                                             | NA                                                  | Q                                                   |\n",
       "\n"
      ],
      "text/plain": [
       "  PassengerId Survived Pclass\n",
       "1 1           0        3     \n",
       "2 2           1        1     \n",
       "3 3           1        3     \n",
       "4 4           1        1     \n",
       "5 5           0        3     \n",
       "6 6           0        3     \n",
       "  Name                                                Sex    Age SibSp Parch\n",
       "1 Braund, Mr. Owen Harris                             male   22  1     0    \n",
       "2 Cumings, Mrs. John Bradley (Florence Briggs Thayer) female 38  1     0    \n",
       "3 Heikkinen, Miss. Laina                              female 26  0     0    \n",
       "4 Futrelle, Mrs. Jacques Heath (Lily May Peel)        female 35  1     0    \n",
       "5 Allen, Mr. William Henry                            male   35  0     0    \n",
       "6 Moran, Mr. James                                    male   NA  0     0    \n",
       "  Ticket           Fare    Cabin Embarked\n",
       "1 A/5 21171         7.2500 NA    S       \n",
       "2 PC 17599         71.2833 C85   C       \n",
       "3 STON/O2. 3101282  7.9250 NA    S       \n",
       "4 113803           53.1000 C123  S       \n",
       "5 373450            8.0500 NA    S       \n",
       "6 330877            8.4583 NA    Q       "
      ]
     },
     "metadata": {},
     "output_type": "display_data"
    }
   ],
   "source": [
    "df <- read.csv(\"../datasets/titanic/train.csv\", na.strings = '')\n",
    "head(df)"
   ]
  },
  {
   "cell_type": "markdown",
   "id": "cd94f2b5-8b5f-4f16-9c36-91b979af4000",
   "metadata": {},
   "source": [
    "## Pré-Processamento de Dados"
   ]
  },
  {
   "cell_type": "code",
   "execution_count": 3,
   "id": "19fc876d-4408-42ac-b599-0ea7ef504018",
   "metadata": {},
   "outputs": [
    {
     "data": {
      "text/html": [
       "<table>\n",
       "<thead><tr><th scope=col>Pclass</th><th scope=col>Name</th><th scope=col>Sex</th><th scope=col>Age</th><th scope=col>SibSp</th><th scope=col>Parch</th><th scope=col>Fare</th><th scope=col>Embarked</th><th scope=col>Survived</th></tr></thead>\n",
       "<tbody>\n",
       "\t<tr><td>3       </td><td>Mr      </td><td>male    </td><td>22.00000</td><td>1       </td><td>0       </td><td> 7.2500 </td><td>S       </td><td>0       </td></tr>\n",
       "\t<tr><td>1       </td><td>Mrs     </td><td>female  </td><td>38.00000</td><td>1       </td><td>0       </td><td>71.2833 </td><td>C       </td><td>1       </td></tr>\n",
       "\t<tr><td>3       </td><td>Miss    </td><td>female  </td><td>26.00000</td><td>0       </td><td>0       </td><td> 7.9250 </td><td>S       </td><td>1       </td></tr>\n",
       "\t<tr><td>1       </td><td>Mrs     </td><td>female  </td><td>35.00000</td><td>1       </td><td>0       </td><td>53.1000 </td><td>S       </td><td>1       </td></tr>\n",
       "\t<tr><td>3       </td><td>Mr      </td><td>male    </td><td>35.00000</td><td>0       </td><td>0       </td><td> 8.0500 </td><td>S       </td><td>0       </td></tr>\n",
       "\t<tr><td>3       </td><td>Mr      </td><td>male    </td><td>29.69912</td><td>0       </td><td>0       </td><td> 8.4583 </td><td>Q       </td><td>0       </td></tr>\n",
       "</tbody>\n",
       "</table>\n"
      ],
      "text/latex": [
       "\\begin{tabular}{r|lllllllll}\n",
       " Pclass & Name & Sex & Age & SibSp & Parch & Fare & Embarked & Survived\\\\\n",
       "\\hline\n",
       "\t 3        & Mr       & male     & 22.00000 & 1        & 0        &  7.2500  & S        & 0       \\\\\n",
       "\t 1        & Mrs      & female   & 38.00000 & 1        & 0        & 71.2833  & C        & 1       \\\\\n",
       "\t 3        & Miss     & female   & 26.00000 & 0        & 0        &  7.9250  & S        & 1       \\\\\n",
       "\t 1        & Mrs      & female   & 35.00000 & 1        & 0        & 53.1000  & S        & 1       \\\\\n",
       "\t 3        & Mr       & male     & 35.00000 & 0        & 0        &  8.0500  & S        & 0       \\\\\n",
       "\t 3        & Mr       & male     & 29.69912 & 0        & 0        &  8.4583  & Q        & 0       \\\\\n",
       "\\end{tabular}\n"
      ],
      "text/markdown": [
       "\n",
       "| Pclass | Name | Sex | Age | SibSp | Parch | Fare | Embarked | Survived |\n",
       "|---|---|---|---|---|---|---|---|---|\n",
       "| 3        | Mr       | male     | 22.00000 | 1        | 0        |  7.2500  | S        | 0        |\n",
       "| 1        | Mrs      | female   | 38.00000 | 1        | 0        | 71.2833  | C        | 1        |\n",
       "| 3        | Miss     | female   | 26.00000 | 0        | 0        |  7.9250  | S        | 1        |\n",
       "| 1        | Mrs      | female   | 35.00000 | 1        | 0        | 53.1000  | S        | 1        |\n",
       "| 3        | Mr       | male     | 35.00000 | 0        | 0        |  8.0500  | S        | 0        |\n",
       "| 3        | Mr       | male     | 29.69912 | 0        | 0        |  8.4583  | Q        | 0        |\n",
       "\n"
      ],
      "text/plain": [
       "  Pclass Name Sex    Age      SibSp Parch Fare    Embarked Survived\n",
       "1 3      Mr   male   22.00000 1     0      7.2500 S        0       \n",
       "2 1      Mrs  female 38.00000 1     0     71.2833 C        1       \n",
       "3 3      Miss female 26.00000 0     0      7.9250 S        1       \n",
       "4 1      Mrs  female 35.00000 1     0     53.1000 S        1       \n",
       "5 3      Mr   male   35.00000 0     0      8.0500 S        0       \n",
       "6 3      Mr   male   29.69912 0     0      8.4583 Q        0       "
      ]
     },
     "metadata": {},
     "output_type": "display_data"
    },
    {
     "name": "stdout",
     "output_type": "stream",
     "text": [
      "'data.frame':\t891 obs. of  9 variables:\n",
      " $ Pclass  : Factor w/ 3 levels \"1\",\"2\",\"3\": 3 1 3 1 3 3 1 3 3 2 ...\n",
      " $ Name    : Factor w/ 7 levels \"Dr\",\"Master\",..: 4 5 3 5 4 4 4 2 5 5 ...\n",
      " $ Sex     : Factor w/ 2 levels \"female\",\"male\": 2 1 1 1 2 2 2 2 1 1 ...\n",
      " $ Age     : num  22 38 26 35 35 ...\n",
      " $ SibSp   : int  1 1 0 1 0 0 0 3 0 1 ...\n",
      " $ Parch   : int  0 0 0 0 0 0 0 1 2 0 ...\n",
      " $ Fare    : num  7.25 71.28 7.92 53.1 8.05 ...\n",
      " $ Embarked: Factor w/ 3 levels \"C\",\"Q\",\"S\": 3 1 3 3 3 2 3 3 3 1 ...\n",
      " $ Survived: int  0 1 1 1 0 0 0 0 1 1 ...\n"
     ]
    }
   ],
   "source": [
    "# Extração de Pronomes\n",
    "df$Name <- ifelse(grepl(\", Mr. \", df$Name), 'Mr', as.character(df$Name))\n",
    "df$Name <- ifelse(grepl(\"Capt\", df$Name), 'Tripulacao', as.character(df$Name))\n",
    "df$Name <- ifelse(grepl(\"Don\", df$Name), 'Mr', as.character(df$Name))\n",
    "df$Name <- ifelse(grepl(\"Major\", df$Name), 'Tripulacao', as.character(df$Name))\n",
    "df$Name <- ifelse(grepl(\"Col\", df$Name), 'Tripulacao', as.character(df$Name))\n",
    "df$Name <- ifelse(grepl(\"Dr\", df$Name), 'Dr', as.character(df$Name))\n",
    "df$Name <- ifelse(grepl(\"Rev\", df$Name), 'Rev', as.character(df$Name))\n",
    "df$Name <- ifelse(grepl(\"Sir\", df$Name), 'Mr', as.character(df$Name))\n",
    "df$Name <- ifelse(grepl(\"Jonkheer\", df$Name), 'Mr', as.character(df$Name))\n",
    "df$Name <- ifelse(grepl(\"Dona\", df$Name), 'Mrs', as.character(df$Name))\n",
    "df$Name <- ifelse(grepl(\"Countess\", df$Name), 'Mrs', as.character(df$Name))\n",
    "df$Name <- ifelse(grepl(\"Mme\", df$Name), 'Mrs', as.character(df$Name))\n",
    "df$Name <- ifelse(grepl(\"Lady\", df$Name), 'Mrs', as.character(df$Name))\n",
    "df$Name <- ifelse(grepl(\"Mrs\", df$Name), 'Mrs', as.character(df$Name))\n",
    "df$Name <- ifelse(grepl(\"Mlle\", df$Name), 'Miss', as.character(df$Name))\n",
    "df$Name <- ifelse(grepl(\"Ms\", df$Name), 'Miss', as.character(df$Name))\n",
    "df$Name <- ifelse(grepl(\"Miss\", df$Name), 'Miss', as.character(df$Name))\n",
    "df$Name <- ifelse(grepl(\"Master\", df$Name), 'Master', as.character(df$Name))\n",
    "\n",
    "\n",
    "# Substituir valores ausentes/nulos\n",
    "media <- mean(df$Age, na.rm = TRUE)\n",
    "df$Age <- ifelse(is.na(df$Age), media, df$Age)\n",
    "\n",
    "t <- table(df$Embarked)\n",
    "moda <- names(t[t == max(t)])\n",
    "\n",
    "df$Embarked <- ifelse(is.na(df$Embarked), as.character(moda), as.character(df$Embarked) )\n",
    "\n",
    "# Remoção de colunas\n",
    "df$PassengerId <- NULL\n",
    "df$Ticket <- NULL\n",
    "df$Cabin <- NULL\n",
    "\n",
    "df$Name = factor(df$Name)\n",
    "df$Pclass = factor(df$Pclass)\n",
    "df$Sex = factor(df$Sex)\n",
    "df$Embarked = factor(df$Embarked)\n",
    "\n",
    "#Ordenar o DATAFRAME\n",
    "\n",
    "df = df[, c('Pclass', 'Name', 'Sex', 'Age', 'SibSp', 'Parch', 'Fare', 'Embarked', 'Survived')]\n",
    "\n",
    "head(df)\n",
    "str(df)"
   ]
  },
  {
   "cell_type": "markdown",
   "id": "8f677ed7-74c8-4c85-9b37-e11a6db80be3",
   "metadata": {},
   "source": [
    "# Divisão dos dados em treino e teste"
   ]
  },
  {
   "cell_type": "code",
   "execution_count": 4,
   "id": "8a80b5b2-e8f0-489d-8036-c1168d95000e",
   "metadata": {},
   "outputs": [],
   "source": [
    "set.seed(0)\n",
    "divisao <- sample.split(df$Survived, SplitRatio = 0.75)\n",
    "\n",
    "treino <- subset(df, divisao == TRUE)\n",
    "teste <-  subset(df, divisao == FALSE)"
   ]
  },
  {
   "cell_type": "markdown",
   "id": "3b6ab283-c939-4871-af49-db33e8b71fdc",
   "metadata": {},
   "source": [
    "## Tabela de Decisão\n",
    "- O algoritmo CN2 utiliza um formato diferente de DF, por isso precisamos converter"
   ]
  },
  {
   "cell_type": "code",
   "execution_count": 5,
   "id": "ee31a8af-7308-47df-a795-80fc3bb828ad",
   "metadata": {},
   "outputs": [
    {
     "data": {
      "text/html": [
       "<table>\n",
       "<thead><tr><th></th><th scope=col>Pclass</th><th scope=col>Name</th><th scope=col>Sex</th><th scope=col>Age</th><th scope=col>SibSp</th><th scope=col>Parch</th><th scope=col>Fare</th><th scope=col>Embarked</th><th scope=col>Survived</th></tr></thead>\n",
       "<tbody>\n",
       "\t<tr><th scope=row>1</th><td>3     </td><td>Mr    </td><td>male  </td><td>22    </td><td>1     </td><td>0     </td><td> 7.250</td><td>S     </td><td>0     </td></tr>\n",
       "\t<tr><th scope=row>4</th><td>1     </td><td>Mrs   </td><td>female</td><td>35    </td><td>1     </td><td>0     </td><td>53.100</td><td>S     </td><td>1     </td></tr>\n",
       "\t<tr><th scope=row>8</th><td>3     </td><td>Master</td><td>male  </td><td> 2    </td><td>3     </td><td>1     </td><td>21.075</td><td>S     </td><td>0     </td></tr>\n",
       "\t<tr><th scope=row>11</th><td>3     </td><td>Miss  </td><td>female</td><td> 4    </td><td>1     </td><td>1     </td><td>16.700</td><td>S     </td><td>1     </td></tr>\n",
       "\t<tr><th scope=row>12</th><td>1     </td><td>Miss  </td><td>female</td><td>58    </td><td>0     </td><td>0     </td><td>26.550</td><td>S     </td><td>1     </td></tr>\n",
       "\t<tr><th scope=row>14</th><td>3     </td><td>Mr    </td><td>male  </td><td>39    </td><td>1     </td><td>5     </td><td>31.275</td><td>S     </td><td>0     </td></tr>\n",
       "</tbody>\n",
       "</table>\n"
      ],
      "text/latex": [
       "\\begin{tabular}{r|lllllllll}\n",
       "  & Pclass & Name & Sex & Age & SibSp & Parch & Fare & Embarked & Survived\\\\\n",
       "\\hline\n",
       "\t1 & 3      & Mr     & male   & 22     & 1      & 0      &  7.250 & S      & 0     \\\\\n",
       "\t4 & 1      & Mrs    & female & 35     & 1      & 0      & 53.100 & S      & 1     \\\\\n",
       "\t8 & 3      & Master & male   &  2     & 3      & 1      & 21.075 & S      & 0     \\\\\n",
       "\t11 & 3      & Miss   & female &  4     & 1      & 1      & 16.700 & S      & 1     \\\\\n",
       "\t12 & 1      & Miss   & female & 58     & 0      & 0      & 26.550 & S      & 1     \\\\\n",
       "\t14 & 3      & Mr     & male   & 39     & 1      & 5      & 31.275 & S      & 0     \\\\\n",
       "\\end{tabular}\n"
      ],
      "text/markdown": [
       "\n",
       "| <!--/--> | Pclass | Name | Sex | Age | SibSp | Parch | Fare | Embarked | Survived |\n",
       "|---|---|---|---|---|---|---|---|---|---|\n",
       "| 1 | 3      | Mr     | male   | 22     | 1      | 0      |  7.250 | S      | 0      |\n",
       "| 4 | 1      | Mrs    | female | 35     | 1      | 0      | 53.100 | S      | 1      |\n",
       "| 8 | 3      | Master | male   |  2     | 3      | 1      | 21.075 | S      | 0      |\n",
       "| 11 | 3      | Miss   | female |  4     | 1      | 1      | 16.700 | S      | 1      |\n",
       "| 12 | 1      | Miss   | female | 58     | 0      | 0      | 26.550 | S      | 1      |\n",
       "| 14 | 3      | Mr     | male   | 39     | 1      | 5      | 31.275 | S      | 0      |\n",
       "\n"
      ],
      "text/plain": [
       "   Pclass Name   Sex    Age SibSp Parch Fare   Embarked Survived\n",
       "1  3      Mr     male   22  1     0      7.250 S        0       \n",
       "4  1      Mrs    female 35  1     0     53.100 S        1       \n",
       "8  3      Master male    2  3     1     21.075 S        0       \n",
       "11 3      Miss   female  4  1     1     16.700 S        1       \n",
       "12 1      Miss   female 58  0     0     26.550 S        1       \n",
       "14 3      Mr     male   39  1     5     31.275 S        0       "
      ]
     },
     "metadata": {},
     "output_type": "display_data"
    }
   ],
   "source": [
    "dt_treinamento = SF.asDecisionTable(dataset = treino,  decision.attr = 9)\n",
    "dt_teste = SF.asDecisionTable(dataset = teste, decision.attr = 9)\n",
    "head(dt_teste)"
   ]
  },
  {
   "cell_type": "markdown",
   "id": "b8af3c4e-1ce3-4c87-b467-41df23476647",
   "metadata": {},
   "source": [
    "## Discretização dos dados\n",
    "\n",
    "- O algoritmo aceita apenas atributos do tipo string, por isso precisamos discretizar os dados contínuos"
   ]
  },
  {
   "cell_type": "code",
   "execution_count": 6,
   "id": "c2a86310-bff3-4bfe-ba4e-2d2a714d1bd2",
   "metadata": {},
   "outputs": [
    {
     "data": {
      "text/html": [
       "<table>\n",
       "<thead><tr><th scope=col>Pclass</th><th scope=col>Name</th><th scope=col>Sex</th><th scope=col>Age</th><th scope=col>SibSp</th><th scope=col>Parch</th><th scope=col>Fare</th><th scope=col>Embarked</th><th scope=col>Survived</th></tr></thead>\n",
       "<tbody>\n",
       "\t<tr><td>3          </td><td>Mr         </td><td>male       </td><td>[-Inf,23)  </td><td>[1, Inf]   </td><td>[0, Inf]   </td><td>[-Inf,7.92)</td><td>S          </td><td>0          </td></tr>\n",
       "\t<tr><td>1          </td><td>Mrs        </td><td>female     </td><td>[35, Inf]  </td><td>[1, Inf]   </td><td>[0, Inf]   </td><td>[31.3, Inf]</td><td>S          </td><td>1          </td></tr>\n",
       "\t<tr><td>3          </td><td>Master     </td><td>male       </td><td>[-Inf,23)  </td><td>[1, Inf]   </td><td>[0, Inf]   </td><td>[14.8,31.3)</td><td>S          </td><td>0          </td></tr>\n",
       "\t<tr><td>3          </td><td>Miss       </td><td>female     </td><td>[-Inf,23)  </td><td>[1, Inf]   </td><td>[0, Inf]   </td><td>[14.8,31.3)</td><td>S          </td><td>1          </td></tr>\n",
       "\t<tr><td>1          </td><td>Miss       </td><td>female     </td><td>[35, Inf]  </td><td>[0,1)      </td><td>[0, Inf]   </td><td>[14.8,31.3)</td><td>S          </td><td>1          </td></tr>\n",
       "\t<tr><td>3          </td><td>Mr         </td><td>male       </td><td>[35, Inf]  </td><td>[1, Inf]   </td><td>[0, Inf]   </td><td>[14.8,31.3)</td><td>S          </td><td>0          </td></tr>\n",
       "</tbody>\n",
       "</table>\n"
      ],
      "text/latex": [
       "\\begin{tabular}{r|lllllllll}\n",
       " Pclass & Name & Sex & Age & SibSp & Parch & Fare & Embarked & Survived\\\\\n",
       "\\hline\n",
       "\t 3             & Mr            & male          & {[}-Inf,23)   & {[}1, Inf{]}  & {[}0, Inf{]}  & {[}-Inf,7.92) & S             & 0            \\\\\n",
       "\t 1               & Mrs             & female          & {[}35, Inf{]}   & {[}1, Inf{]}    & {[}0, Inf{]}    & {[}31.3, Inf{]} & S               & 1              \\\\\n",
       "\t 3             & Master        & male          & {[}-Inf,23)   & {[}1, Inf{]}  & {[}0, Inf{]}  & {[}14.8,31.3) & S             & 0            \\\\\n",
       "\t 3             & Miss          & female        & {[}-Inf,23)   & {[}1, Inf{]}  & {[}0, Inf{]}  & {[}14.8,31.3) & S             & 1            \\\\\n",
       "\t 1             & Miss          & female        & {[}35, Inf{]} & {[}0,1)       & {[}0, Inf{]}  & {[}14.8,31.3) & S             & 1            \\\\\n",
       "\t 3             & Mr            & male          & {[}35, Inf{]} & {[}1, Inf{]}  & {[}0, Inf{]}  & {[}14.8,31.3) & S             & 0            \\\\\n",
       "\\end{tabular}\n"
      ],
      "text/markdown": [
       "\n",
       "| Pclass | Name | Sex | Age | SibSp | Parch | Fare | Embarked | Survived |\n",
       "|---|---|---|---|---|---|---|---|---|\n",
       "| 3           | Mr          | male        | [-Inf,23)   | [1, Inf]    | [0, Inf]    | [-Inf,7.92) | S           | 0           |\n",
       "| 1           | Mrs         | female      | [35, Inf]   | [1, Inf]    | [0, Inf]    | [31.3, Inf] | S           | 1           |\n",
       "| 3           | Master      | male        | [-Inf,23)   | [1, Inf]    | [0, Inf]    | [14.8,31.3) | S           | 0           |\n",
       "| 3           | Miss        | female      | [-Inf,23)   | [1, Inf]    | [0, Inf]    | [14.8,31.3) | S           | 1           |\n",
       "| 1           | Miss        | female      | [35, Inf]   | [0,1)       | [0, Inf]    | [14.8,31.3) | S           | 1           |\n",
       "| 3           | Mr          | male        | [35, Inf]   | [1, Inf]    | [0, Inf]    | [14.8,31.3) | S           | 0           |\n",
       "\n"
      ],
      "text/plain": [
       "  Pclass Name   Sex    Age       SibSp    Parch    Fare        Embarked\n",
       "1 3      Mr     male   [-Inf,23) [1, Inf] [0, Inf] [-Inf,7.92) S       \n",
       "2 1      Mrs    female [35, Inf] [1, Inf] [0, Inf] [31.3, Inf] S       \n",
       "3 3      Master male   [-Inf,23) [1, Inf] [0, Inf] [14.8,31.3) S       \n",
       "4 3      Miss   female [-Inf,23) [1, Inf] [0, Inf] [14.8,31.3) S       \n",
       "5 1      Miss   female [35, Inf] [0,1)    [0, Inf] [14.8,31.3) S       \n",
       "6 3      Mr     male   [35, Inf] [1, Inf] [0, Inf] [14.8,31.3) S       \n",
       "  Survived\n",
       "1 0       \n",
       "2 1       \n",
       "3 0       \n",
       "4 1       \n",
       "5 1       \n",
       "6 0       "
      ]
     },
     "metadata": {},
     "output_type": "display_data"
    }
   ],
   "source": [
    "intervalos = D.discretization.RST(dt_treinamento, nOfIntervals = 4)\n",
    "dt_treinamento = SF.applyDecTable(dt_treinamento, intervalos)\n",
    "dt_teste = SF.applyDecTable(dt_teste, intervalos)\n",
    "head(dt_teste)"
   ]
  },
  {
   "cell_type": "markdown",
   "id": "e9ea8f2f-9999-4157-8d58-5e3b9417120d",
   "metadata": {},
   "source": [
    "## CN2\n",
    "Argumentos\n",
    "\n",
    "- **tabela de decisão** - Um objeto herdado da classe \"DecisionTable\", que representa um sistema de decisão. Consulte SF.asDecisionTable.\n",
    "- **K** - Um número inteiro positivo que controla a complexidade do algoritmo. Em cada iteração, os K melhores predicados de regra são estendidos por todos os descritores possíveis."
   ]
  },
  {
   "cell_type": "code",
   "execution_count": 7,
   "id": "e8865cfd-2ea9-43e0-bc43-f0d9b0c70cf3",
   "metadata": {},
   "outputs": [],
   "source": [
    "classificador = RI.CN2Rules.RST(dt_treinamento, K = 3)"
   ]
  },
  {
   "cell_type": "markdown",
   "id": "376ed119-97c5-4efb-a2c0-36f718fba76d",
   "metadata": {},
   "source": [
    "# Regras\n",
    "to"
   ]
  },
  {
   "cell_type": "code",
   "execution_count": 8,
   "id": "5d8b175f-da71-4b53-bb32-2d0378c99679",
   "metadata": {},
   "outputs": [
    {
     "name": "stdout",
     "output_type": "stream",
     "text": [
      "A set consisting of  84  rules:\n",
      "1. IF Name is Mr and Fare is [-Inf,7.92) and Age is [35, Inf] THEN Survived is 0;\n",
      "\t\t(supportSize=23; laplace=0.96) \n",
      "2. IF Name is Mr and Fare is [-Inf,7.92) and Embarked is S and Age is [-Inf,23) THEN Survived is 0;\n",
      "\t\t(supportSize=22; laplace=0.9583) \n",
      "3. IF Name is Mr and Pclass is 2 and Age is [23,29.7) THEN Survived is 0;\n",
      "\t\t(supportSize=18; laplace=0.95) \n",
      "4. IF Name is Mrs and Pclass is 1 and Age is [35, Inf] THEN Survived is 1;\n",
      "\t\t(supportSize=21; laplace=0.9565) \n",
      "5. IF Name is Mr and Fare is [-Inf,7.92) and Age is [29.7,35) THEN Survived is 0;\n",
      "\t\t(supportSize=55; laplace=0.9123) \n",
      "6. IF Name is Rev THEN Survived is 0;\n",
      "\t\t(supportSize=5; laplace=0.8571) \n",
      "7. IF Name is Mr and Pclass is 3 and SibSp is [1, Inf] and Embarked is S THEN Survived is 0;\n",
      "\t\t(supportSize=27; laplace=0.9655) \n",
      "8. IF Sex is female and Pclass is 1 and SibSp is [0,1) and Fare is [31.3, Inf] THEN Survived is 1;\n",
      "\t\t(supportSize=28; laplace=0.9667) \n",
      "9. IF Name is Mr and Fare is [7.92,14.8) and Pclass is 3 and Age is [29.7,35) THEN Survived is 0;\n",
      "\t\t(supportSize=28; laplace=0.9) \n",
      "10. IF Name is Mrs and Pclass is 1 and Age is [29.7,35) THEN Survived is 1;\n",
      "\t\t(supportSize=7; laplace=0.8889) \n",
      "... and 74 other rules.\n"
     ]
    }
   ],
   "source": [
    "print(classificador)"
   ]
  },
  {
   "cell_type": "markdown",
   "id": "ee27bb6f-232a-4584-8b1c-dc13dcff7085",
   "metadata": {},
   "source": [
    "## Prever os dados de Teste"
   ]
  },
  {
   "cell_type": "code",
   "execution_count": 9,
   "id": "8ea493c0-4823-441f-a06a-9188665557e3",
   "metadata": {},
   "outputs": [
    {
     "data": {
      "text/html": [
       "76.6816143497758"
      ],
      "text/latex": [
       "76.6816143497758"
      ],
      "text/markdown": [
       "76.6816143497758"
      ],
      "text/plain": [
       "[1] 76.68161"
      ]
     },
     "metadata": {},
     "output_type": "display_data"
    }
   ],
   "source": [
    "previsao = predict(classificador, newdata = dt_teste[-9])\n",
    "acuracia = 100 * sum(previsao == dt_teste[9])/nrow(dt_teste[9])\n",
    "acuracia"
   ]
  },
  {
   "cell_type": "markdown",
   "id": "fefefe96-b26f-4974-938c-1e50b2587c4a",
   "metadata": {},
   "source": [
    "# Matriz de Confusão\n",
    "\n",
    "- A função **table** realiza o agrupamento dos dados\n",
    "- A função **confusionMatriz** da biblioteca **caret** também calcula a matriz de confusão + as métricas"
   ]
  },
  {
   "cell_type": "code",
   "execution_count": 10,
   "id": "2080d991-cedc-472c-96ff-f7e4eed495d5",
   "metadata": {},
   "outputs": [
    {
     "data": {
      "text/plain": [
       "   \n",
       "      0   1\n",
       "  0 114  23\n",
       "  1  29  57"
      ]
     },
     "metadata": {},
     "output_type": "display_data"
    }
   ],
   "source": [
    "matriz_confusao = table(dt_teste[, 9], unlist(previsao))\n",
    "matriz_confusao"
   ]
  },
  {
   "cell_type": "code",
   "execution_count": 11,
   "id": "63d176ff-453d-4c39-a85f-76f0751c0c84",
   "metadata": {},
   "outputs": [
    {
     "data": {
      "text/plain": [
       "Confusion Matrix and Statistics\n",
       "\n",
       "          Reference\n",
       "Prediction   0   1\n",
       "         0 114  29\n",
       "         1  23  57\n",
       "                                          \n",
       "               Accuracy : 0.7668          \n",
       "                 95% CI : (0.7057, 0.8207)\n",
       "    No Information Rate : 0.6143          \n",
       "    P-Value [Acc > NIR] : 9.448e-07       \n",
       "                                          \n",
       "                  Kappa : 0.5014          \n",
       "                                          \n",
       " Mcnemar's Test P-Value : 0.4881          \n",
       "                                          \n",
       "            Sensitivity : 0.8321          \n",
       "            Specificity : 0.6628          \n",
       "         Pos Pred Value : 0.7972          \n",
       "         Neg Pred Value : 0.7125          \n",
       "             Prevalence : 0.6143          \n",
       "         Detection Rate : 0.5112          \n",
       "   Detection Prevalence : 0.6413          \n",
       "      Balanced Accuracy : 0.7475          \n",
       "                                          \n",
       "       'Positive' Class : 0               \n",
       "                                          "
      ]
     },
     "metadata": {},
     "output_type": "display_data"
    }
   ],
   "source": [
    "matriz = confusionMatrix(factor(unlist(previsao)), factor(dt_teste[, 9]))\n",
    "matriz"
   ]
  },
  {
   "cell_type": "markdown",
   "id": "9f66006d-24bf-420d-8356-27e3122a20e7",
   "metadata": {},
   "source": [
    "## Personalizando a Matriz de Confusão"
   ]
  },
  {
   "cell_type": "code",
   "execution_count": 12,
   "id": "3c229fda-591e-47ee-8b6c-a881f9918d35",
   "metadata": {},
   "outputs": [
    {
     "data": {
      "image/png": "[encoded data removed]",
      "text/plain": [
       "Plot with title \"Color Key\""
      ]
     },
     "metadata": {},
     "output_type": "display_data"
    }
   ],
   "source": [
    "my_palette <- colorRampPalette(c(\"red\", \"yellow\", \"green\"))\n",
    "\n",
    "col_breaks = c(0:50, 51:100, 101:300)\n",
    "\n",
    "heatmap.2(matriz_confusao,\n",
    "    Rowv = 'NA',\n",
    "    cellnote = matriz_confusao, \n",
    "    main = \"Matriz de Confusão\",\n",
    "    notecol=\"black\",      \n",
    "    density.info=\"none\",  \n",
    "    trace=\"none\",        \n",
    "    col=my_palette,       \n",
    "    breaks=col_breaks,   \n",
    "    dendrogram= 'none',     \n",
    "    Colv=\"NA\" \n",
    ")"
   ]
  },
  {
   "cell_type": "markdown",
   "id": "56f4cc86-031a-4570-9ad6-f66b3c1050b0",
   "metadata": {},
   "source": [
    "# Métricas\n",
    "\n",
    "- **Precisão** que é a fração de instâncias recuperadas que são relevantes, \n",
    "- **Recall** - que é a fração de instâncias relevantes que são recuperadas \n",
    "- **f-score** - é 2 * precisão * recall / (precisão + recall) é "
   ]
  },
  {
   "cell_type": "code",
   "execution_count": 13,
   "id": "c1f4d29d-a678-4a76-90e7-39cb151143c5",
   "metadata": {},
   "outputs": [
    {
     "data": {
      "text/html": [
       "0.797202797202797"
      ],
      "text/latex": [
       "0.797202797202797"
      ],
      "text/markdown": [
       "0.797202797202797"
      ],
      "text/plain": [
       "[1] 0.7972028"
      ]
     },
     "metadata": {},
     "output_type": "display_data"
    },
    {
     "data": {
      "text/html": [
       "'Morto'"
      ],
      "text/latex": [
       "'Morto'"
      ],
      "text/markdown": [
       "'Morto'"
      ],
      "text/plain": [
       "[1] \"Morto\""
      ]
     },
     "metadata": {},
     "output_type": "display_data"
    },
    {
     "data": {
      "text/html": [
       "0.7125"
      ],
      "text/latex": [
       "0.7125"
      ],
      "text/markdown": [
       "0.7125"
      ],
      "text/plain": [
       "[1] 0.7125"
      ]
     },
     "metadata": {},
     "output_type": "display_data"
    },
    {
     "data": {
      "text/html": [
       "'Vivo'"
      ],
      "text/latex": [
       "'Vivo'"
      ],
      "text/markdown": [
       "'Vivo'"
      ],
      "text/plain": [
       "[1] \"Vivo\""
      ]
     },
     "metadata": {},
     "output_type": "display_data"
    },
    {
     "data": {
      "text/html": [
       "0.797202797202797"
      ],
      "text/latex": [
       "0.797202797202797"
      ],
      "text/markdown": [
       "0.797202797202797"
      ],
      "text/plain": [
       "[1] 0.7972028"
      ]
     },
     "metadata": {},
     "output_type": "display_data"
    }
   ],
   "source": [
    "precision(factor(unlist(previsao)), factor(dt_teste[, 9]))\n",
    "'Morto'\n",
    "precision(factor(unlist(previsao)), factor(dt_teste[, 9]), relevant = 2)\n",
    "'Vivo'\n",
    "precision(factor(unlist(previsao)), factor(dt_teste[, 9]), relevant = 1)"
   ]
  },
  {
   "cell_type": "code",
   "execution_count": 14,
   "id": "38219021-a6a6-410e-86a3-589bc6d6f574",
   "metadata": {},
   "outputs": [
    {
     "data": {
      "text/html": [
       "0.832116788321168"
      ],
      "text/latex": [
       "0.832116788321168"
      ],
      "text/markdown": [
       "0.832116788321168"
      ],
      "text/plain": [
       "[1] 0.8321168"
      ]
     },
     "metadata": {},
     "output_type": "display_data"
    },
    {
     "data": {
      "text/html": [
       "'Morto'"
      ],
      "text/latex": [
       "'Morto'"
      ],
      "text/markdown": [
       "'Morto'"
      ],
      "text/plain": [
       "[1] \"Morto\""
      ]
     },
     "metadata": {},
     "output_type": "display_data"
    },
    {
     "data": {
      "text/html": [
       "0.662790697674419"
      ],
      "text/latex": [
       "0.662790697674419"
      ],
      "text/markdown": [
       "0.662790697674419"
      ],
      "text/plain": [
       "[1] 0.6627907"
      ]
     },
     "metadata": {},
     "output_type": "display_data"
    },
    {
     "data": {
      "text/html": [
       "'Vivo'"
      ],
      "text/latex": [
       "'Vivo'"
      ],
      "text/markdown": [
       "'Vivo'"
      ],
      "text/plain": [
       "[1] \"Vivo\""
      ]
     },
     "metadata": {},
     "output_type": "display_data"
    },
    {
     "data": {
      "text/html": [
       "0.832116788321168"
      ],
      "text/latex": [
       "0.832116788321168"
      ],
      "text/markdown": [
       "0.832116788321168"
      ],
      "text/plain": [
       "[1] 0.8321168"
      ]
     },
     "metadata": {},
     "output_type": "display_data"
    }
   ],
   "source": [
    "recall(factor(unlist(previsao)), factor(dt_teste[, 9]))\n",
    "'Morto'\n",
    "recall(factor(unlist(previsao)), factor(dt_teste[, 9]), relevant = 2)\n",
    "'Vivo'\n",
    "recall(factor(unlist(previsao)), factor(dt_teste[, 9]), relevant = 1)"
   ]
  },
  {
   "cell_type": "code",
   "execution_count": 15,
   "id": "1c2f0412-dcf4-4f64-9939-28c56eb6eb93",
   "metadata": {},
   "outputs": [
    {
     "data": {
      "text/html": [
       "0.814285714285714"
      ],
      "text/latex": [
       "0.814285714285714"
      ],
      "text/markdown": [
       "0.814285714285714"
      ],
      "text/plain": [
       "[1] 0.8142857"
      ]
     },
     "metadata": {},
     "output_type": "display_data"
    },
    {
     "data": {
      "text/html": [
       "'Morto'"
      ],
      "text/latex": [
       "'Morto'"
      ],
      "text/markdown": [
       "'Morto'"
      ],
      "text/plain": [
       "[1] \"Morto\""
      ]
     },
     "metadata": {},
     "output_type": "display_data"
    },
    {
     "data": {
      "text/html": [
       "0.686746987951807"
      ],
      "text/latex": [
       "0.686746987951807"
      ],
      "text/markdown": [
       "0.686746987951807"
      ],
      "text/plain": [
       "[1] 0.686747"
      ]
     },
     "metadata": {},
     "output_type": "display_data"
    },
    {
     "data": {
      "text/html": [
       "'Vivo'"
      ],
      "text/latex": [
       "'Vivo'"
      ],
      "text/markdown": [
       "'Vivo'"
      ],
      "text/plain": [
       "[1] \"Vivo\""
      ]
     },
     "metadata": {},
     "output_type": "display_data"
    },
    {
     "data": {
      "text/html": [
       "0.814285714285714"
      ],
      "text/latex": [
       "0.814285714285714"
      ],
      "text/markdown": [
       "0.814285714285714"
      ],
      "text/plain": [
       "[1] 0.8142857"
      ]
     },
     "metadata": {},
     "output_type": "display_data"
    }
   ],
   "source": [
    "F_meas(factor(unlist(previsao)), factor(dt_teste[, 9]))\n",
    "'Morto'\n",
    "F_meas(factor(unlist(previsao)), factor(dt_teste[, 9]), relevant = 2)\n",
    "'Vivo'\n",
    "F_meas(factor(unlist(previsao)), factor(dt_teste[, 9]), relevant = 1)"
   ]
  }
 ],
 "metadata": {
  "kernelspec": {
   "display_name": "R",
   "language": "R",
   "name": "ir"
  },
  "language_info": {
   "codemirror_mode": "r",
   "file_extension": ".r",
   "mimetype": "text/x-r-source",
   "name": "R",
   "pygments_lexer": "r",
   "version": "3.6.1"
  }
 },
 "nbformat": 4,
 "nbformat_minor": 5
}
