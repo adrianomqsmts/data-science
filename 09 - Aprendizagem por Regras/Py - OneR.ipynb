{
 "cells": [
  {
   "cell_type": "markdown",
   "id": "f26629f5-16f2-4c3e-80d1-69bc0a0afa9e",
   "metadata": {},
   "source": [
    "# OneR\n",
    "\n",
    "- Fonte [OneRClassifier - \"Uma Regra\" para Classificação](http://rasbt.github.io/mlxtend/user_guide/classifier/OneRClassifier/)\n",
    "- Fonte [4.5.1 Aprenda Regras a partir de um único recurso (OneR)](https://christophm.github.io/interpretable-ml-book/rules.html)\n",
    "- Funciona apenas para valores **categóricos numéricos**\n",
    "    - Necessário discretizar os dados contínuos. "
   ]
  },
  {
   "cell_type": "markdown",
   "id": "624f9c50-8871-4cd4-ba75-781efaaa3db5",
   "metadata": {},
   "source": [
    "## Carregando Biblioteca"
   ]
  },
  {
   "cell_type": "code",
   "execution_count": 1,
   "id": "d709741a-5041-4e53-910b-80c1ac50b59a",
   "metadata": {},
   "outputs": [],
   "source": [
    "import pandas as pd\n",
    "import numpy as np\n",
    "#Visualização de dados\n",
    "import seaborn as sns\n",
    "import matplotlib.pyplot as plt\n",
    "#Pré-processamento\n",
    "from sklearn.preprocessing import LabelEncoder\n",
    "from sklearn.preprocessing import scale\n",
    "#Dados de Treino\n",
    "from sklearn import datasets\n",
    "from sklearn.model_selection import train_test_split\n",
    "# Regras\n",
    "from mlxtend.classifier import OneRClassifier\n",
    "#Metricas\n",
    "from sklearn.metrics import confusion_matrix\n",
    "from sklearn.metrics import classification_report\n",
    "from sklearn.model_selection import cross_val_score\n",
    "from sklearn.metrics import accuracy_score"
   ]
  },
  {
   "cell_type": "markdown",
   "id": "a56c6c33-dbc7-4523-bd9e-54687abd4121",
   "metadata": {},
   "source": [
    "## Carregando os dados"
   ]
  },
  {
   "cell_type": "code",
   "execution_count": 98,
   "id": "fbdf27c6-6b88-4e67-b42c-2ba27ad9b114",
   "metadata": {},
   "outputs": [
    {
     "data": {
      "text/html": [
       "<div>\n",
       "<style scoped>\n",
       "    .dataframe tbody tr th:only-of-type {\n",
       "        vertical-align: middle;\n",
       "    }\n",
       "\n",
       "    .dataframe tbody tr th {\n",
       "        vertical-align: top;\n",
       "    }\n",
       "\n",
       "    .dataframe thead th {\n",
       "        text-align: right;\n",
       "    }\n",
       "</style>\n",
       "<table border=\"1\" class=\"dataframe\">\n",
       "  <thead>\n",
       "    <tr style=\"text-align: right;\">\n",
       "      <th></th>\n",
       "      <th>PassengerId</th>\n",
       "      <th>Survived</th>\n",
       "      <th>Pclass</th>\n",
       "      <th>Name</th>\n",
       "      <th>Sex</th>\n",
       "      <th>Age</th>\n",
       "      <th>SibSp</th>\n",
       "      <th>Parch</th>\n",
       "      <th>Ticket</th>\n",
       "      <th>Fare</th>\n",
       "      <th>Cabin</th>\n",
       "      <th>Embarked</th>\n",
       "    </tr>\n",
       "  </thead>\n",
       "  <tbody>\n",
       "    <tr>\n",
       "      <th>0</th>\n",
       "      <td>1</td>\n",
       "      <td>0</td>\n",
       "      <td>3</td>\n",
       "      <td>Braund, Mr. Owen Harris</td>\n",
       "      <td>male</td>\n",
       "      <td>22.0</td>\n",
       "      <td>1</td>\n",
       "      <td>0</td>\n",
       "      <td>A/5 21171</td>\n",
       "      <td>7.2500</td>\n",
       "      <td>NaN</td>\n",
       "      <td>S</td>\n",
       "    </tr>\n",
       "    <tr>\n",
       "      <th>1</th>\n",
       "      <td>2</td>\n",
       "      <td>1</td>\n",
       "      <td>1</td>\n",
       "      <td>Cumings, Mrs. John Bradley (Florence Briggs Th...</td>\n",
       "      <td>female</td>\n",
       "      <td>38.0</td>\n",
       "      <td>1</td>\n",
       "      <td>0</td>\n",
       "      <td>PC 17599</td>\n",
       "      <td>71.2833</td>\n",
       "      <td>C85</td>\n",
       "      <td>C</td>\n",
       "    </tr>\n",
       "    <tr>\n",
       "      <th>2</th>\n",
       "      <td>3</td>\n",
       "      <td>1</td>\n",
       "      <td>3</td>\n",
       "      <td>Heikkinen, Miss. Laina</td>\n",
       "      <td>female</td>\n",
       "      <td>26.0</td>\n",
       "      <td>0</td>\n",
       "      <td>0</td>\n",
       "      <td>STON/O2. 3101282</td>\n",
       "      <td>7.9250</td>\n",
       "      <td>NaN</td>\n",
       "      <td>S</td>\n",
       "    </tr>\n",
       "    <tr>\n",
       "      <th>3</th>\n",
       "      <td>4</td>\n",
       "      <td>1</td>\n",
       "      <td>1</td>\n",
       "      <td>Futrelle, Mrs. Jacques Heath (Lily May Peel)</td>\n",
       "      <td>female</td>\n",
       "      <td>35.0</td>\n",
       "      <td>1</td>\n",
       "      <td>0</td>\n",
       "      <td>113803</td>\n",
       "      <td>53.1000</td>\n",
       "      <td>C123</td>\n",
       "      <td>S</td>\n",
       "    </tr>\n",
       "    <tr>\n",
       "      <th>4</th>\n",
       "      <td>5</td>\n",
       "      <td>0</td>\n",
       "      <td>3</td>\n",
       "      <td>Allen, Mr. William Henry</td>\n",
       "      <td>male</td>\n",
       "      <td>35.0</td>\n",
       "      <td>0</td>\n",
       "      <td>0</td>\n",
       "      <td>373450</td>\n",
       "      <td>8.0500</td>\n",
       "      <td>NaN</td>\n",
       "      <td>S</td>\n",
       "    </tr>\n",
       "  </tbody>\n",
       "</table>\n",
       "</div>"
      ],
      "text/plain": [
       "   PassengerId  Survived  Pclass  \\\n",
       "0            1         0       3   \n",
       "1            2         1       1   \n",
       "2            3         1       3   \n",
       "3            4         1       1   \n",
       "4            5         0       3   \n",
       "\n",
       "                                                Name     Sex   Age  SibSp  \\\n",
       "0                            Braund, Mr. Owen Harris    male  22.0      1   \n",
       "1  Cumings, Mrs. John Bradley (Florence Briggs Th...  female  38.0      1   \n",
       "2                             Heikkinen, Miss. Laina  female  26.0      0   \n",
       "3       Futrelle, Mrs. Jacques Heath (Lily May Peel)  female  35.0      1   \n",
       "4                           Allen, Mr. William Henry    male  35.0      0   \n",
       "\n",
       "   Parch            Ticket     Fare Cabin Embarked  \n",
       "0      0         A/5 21171   7.2500   NaN        S  \n",
       "1      0          PC 17599  71.2833   C85        C  \n",
       "2      0  STON/O2. 3101282   7.9250   NaN        S  \n",
       "3      0            113803  53.1000  C123        S  \n",
       "4      0            373450   8.0500   NaN        S  "
      ]
     },
     "execution_count": 98,
     "metadata": {},
     "output_type": "execute_result"
    }
   ],
   "source": [
    "df = pd.read_csv(\"../datasets/titanic/train.csv\")\n",
    "df.head()"
   ]
  },
  {
   "cell_type": "markdown",
   "id": "c8c964dc-7a21-41e4-b849-4789f17f1a35",
   "metadata": {},
   "source": [
    "## Pré-Processamento de Dados"
   ]
  },
  {
   "cell_type": "code",
   "execution_count": 99,
   "id": "4c8bc8c0-0dc4-4e77-b6da-0185cf921634",
   "metadata": {},
   "outputs": [
    {
     "data": {
      "text/html": [
       "<div>\n",
       "<style scoped>\n",
       "    .dataframe tbody tr th:only-of-type {\n",
       "        vertical-align: middle;\n",
       "    }\n",
       "\n",
       "    .dataframe tbody tr th {\n",
       "        vertical-align: top;\n",
       "    }\n",
       "\n",
       "    .dataframe thead th {\n",
       "        text-align: right;\n",
       "    }\n",
       "</style>\n",
       "<table border=\"1\" class=\"dataframe\">\n",
       "  <thead>\n",
       "    <tr style=\"text-align: right;\">\n",
       "      <th></th>\n",
       "      <th>Survived</th>\n",
       "      <th>Pclass</th>\n",
       "      <th>Name</th>\n",
       "      <th>Sex</th>\n",
       "      <th>Age</th>\n",
       "      <th>SibSp</th>\n",
       "      <th>Parch</th>\n",
       "      <th>Fare</th>\n",
       "      <th>Embarked</th>\n",
       "    </tr>\n",
       "  </thead>\n",
       "  <tbody>\n",
       "    <tr>\n",
       "      <th>0</th>\n",
       "      <td>0</td>\n",
       "      <td>3</td>\n",
       "      <td>6</td>\n",
       "      <td>1</td>\n",
       "      <td>0</td>\n",
       "      <td>1</td>\n",
       "      <td>0</td>\n",
       "      <td>0</td>\n",
       "      <td>2</td>\n",
       "    </tr>\n",
       "    <tr>\n",
       "      <th>1</th>\n",
       "      <td>1</td>\n",
       "      <td>1</td>\n",
       "      <td>6</td>\n",
       "      <td>0</td>\n",
       "      <td>3</td>\n",
       "      <td>1</td>\n",
       "      <td>0</td>\n",
       "      <td>3</td>\n",
       "      <td>0</td>\n",
       "    </tr>\n",
       "    <tr>\n",
       "      <th>2</th>\n",
       "      <td>1</td>\n",
       "      <td>3</td>\n",
       "      <td>5</td>\n",
       "      <td>0</td>\n",
       "      <td>1</td>\n",
       "      <td>0</td>\n",
       "      <td>0</td>\n",
       "      <td>1</td>\n",
       "      <td>2</td>\n",
       "    </tr>\n",
       "    <tr>\n",
       "      <th>3</th>\n",
       "      <td>1</td>\n",
       "      <td>1</td>\n",
       "      <td>6</td>\n",
       "      <td>0</td>\n",
       "      <td>2</td>\n",
       "      <td>1</td>\n",
       "      <td>0</td>\n",
       "      <td>3</td>\n",
       "      <td>2</td>\n",
       "    </tr>\n",
       "    <tr>\n",
       "      <th>4</th>\n",
       "      <td>0</td>\n",
       "      <td>3</td>\n",
       "      <td>6</td>\n",
       "      <td>1</td>\n",
       "      <td>2</td>\n",
       "      <td>0</td>\n",
       "      <td>0</td>\n",
       "      <td>1</td>\n",
       "      <td>2</td>\n",
       "    </tr>\n",
       "  </tbody>\n",
       "</table>\n",
       "</div>"
      ],
      "text/plain": [
       "   Survived  Pclass  Name  Sex  Age  SibSp  Parch  Fare  Embarked\n",
       "0         0       3     6    1    0      1      0     0         2\n",
       "1         1       1     6    0    3      1      0     3         0\n",
       "2         1       3     5    0    1      0      0     1         2\n",
       "3         1       1     6    0    2      1      0     3         2\n",
       "4         0       3     6    1    2      0      0     1         2"
      ]
     },
     "execution_count": 99,
     "metadata": {},
     "output_type": "execute_result"
    }
   ],
   "source": [
    "def pronomes(x):\n",
    "    if 'Mr' in x:\n",
    "        return 'Mr'\n",
    "    elif 'Don' in x:\n",
    "        return 'Mr'\n",
    "    elif 'Mrs' in x:\n",
    "        return 'Mrs'\n",
    "    elif 'Ms' in x:\n",
    "        return 'Mrs'\n",
    "    elif 'Mme' in x:\n",
    "        return 'Mrs'\n",
    "    elif 'Miss' in x:\n",
    "        return 'Miss'\n",
    "    elif 'Mlle' in x:\n",
    "        return 'Miss'\n",
    "    elif 'Dr' in x:\n",
    "        return 'Dr'\n",
    "    elif 'Rev' in x:\n",
    "        return 'Rev'\n",
    "    elif 'Master' in x:\n",
    "        return 'Master'\n",
    "    elif 'Major' in x:\n",
    "        return 'Major'\n",
    "    elif 'Capt' in x:\n",
    "        return 'Capt'\n",
    "    elif 'Jonkheer' in x:\n",
    "        return 'Mr'\n",
    "    elif 'Col' in x:\n",
    "        return 'Col'\n",
    "    elif 'Countess' in x:\n",
    "        return 'Mrs'\n",
    "    else:\n",
    "        return 'None'\n",
    "# Extração de Pronomes\n",
    "df['Name'] = df['Name'].apply(pronomes)\n",
    "\n",
    "# Categóricas para Numéricas\n",
    "le_name = LabelEncoder()\n",
    "df['Name']  = le_name.fit_transform(df['Name'])\n",
    "\n",
    "# Substituir valores ausentes/nulos\n",
    "df['Age'].fillna(df['Age'].mean(), inplace = True)\n",
    "df.loc[df['Embarked'].isna(), ['Embarked']] = df['Embarked'].value_counts().index[0]\n",
    "\n",
    "# Categórico Para numérico\n",
    "le_sex = LabelEncoder()\n",
    "df['Sex']  = le_sex.fit_transform(df['Sex'])\n",
    "le_embarked = LabelEncoder()\n",
    "df['Embarked'] = le_embarked.fit_transform(df['Embarked'])\n",
    "\n",
    "# Remoção de colunas\n",
    "df = df.drop(columns=['PassengerId', 'Ticket', 'Cabin'])\n",
    "\n",
    "# Discretização de Dados\n",
    "df['Age'], bins_age = pd.qcut(df['Age'], q=4, retbins=True,  labels=False)\n",
    "df['Fare'], bins_fare = pd.qcut(df['Fare'], q=4, retbins=True,  labels=False)\n",
    "\n",
    "# Categórico Para numérico\n",
    "le_age = LabelEncoder()\n",
    "df['Age']  = le_age.fit_transform(df['Age'])\n",
    "\n",
    "le_fare = LabelEncoder()\n",
    "df['Fare']  = le_fare.fit_transform(df['Fare'])\n",
    "\n",
    "df.head()"
   ]
  },
  {
   "cell_type": "markdown",
   "id": "b67fc724-ab08-4dee-aac7-f3db2f7d2330",
   "metadata": {},
   "source": [
    "## Dados de Treino e Teste"
   ]
  },
  {
   "cell_type": "code",
   "execution_count": 100,
   "id": "b7a34bed-db3c-4eba-bbd6-e4d32e57ab85",
   "metadata": {},
   "outputs": [],
   "source": [
    "x = pd.DataFrame.to_numpy(df[['Pclass', 'SibSp', 'Parch']])\n",
    "y = pd.DataFrame.to_numpy(df['Survived'])\n",
    "\n",
    "x_train, x_test, y_train, y_test = train_test_split(x, y, test_size=0.2, random_state=0, stratify=y)"
   ]
  },
  {
   "cell_type": "markdown",
   "id": "daf053a5-9ed2-4524-8422-c59b11a67607",
   "metadata": {},
   "source": [
    "# OneRClassifier()\n",
    "\n",
    "- O metodo **fit()** é usado para treinar o modelo\n",
    "- O método **predict()** é usado para prever um dado"
   ]
  },
  {
   "cell_type": "code",
   "execution_count": 101,
   "id": "62372301-f717-4384-9fdd-6aec96ccde86",
   "metadata": {},
   "outputs": [],
   "source": [
    "classificador = OneRClassifier()\n",
    "classificador = classificador.fit(x_train, y_train)"
   ]
  },
  {
   "cell_type": "markdown",
   "id": "990c80a0-6dab-4b88-b43b-838fb1d53d8b",
   "metadata": {},
   "source": [
    "## Prever um valor"
   ]
  },
  {
   "cell_type": "code",
   "execution_count": 104,
   "id": "40887c3e-67d0-4839-8d48-62c6b1145d4d",
   "metadata": {},
   "outputs": [
    {
     "name": "stdout",
     "output_type": "stream",
     "text": [
      "\n",
      "Prevendo o dataframe criado:  [1]\n"
     ]
    }
   ],
   "source": [
    "data = {\n",
    "    'Pclass': [1],\n",
    "    'Name': ['Miss'],\n",
    "    'Sex': ['female'],\n",
    "    'Age': [5],\n",
    "    'SibSp': [1],\n",
    "    'Parch': [1],\n",
    "    'Fare': [50],\n",
    "    'Embarked': ['C']\n",
    "}\n",
    "\n",
    "#Transformando do Dicionário em DataFrame\n",
    "data = pd.DataFrame(data)\n",
    "\n",
    "#Tratando os Dados\n",
    "# Categóricas para Numéricas\n",
    "\n",
    "data['Name']  = le_name.transform(data['Name'])\n",
    "data['Sex']  = le_sex.transform(data['Sex'])\n",
    "data['Embarked'] = le_embarked.transform(data['Embarked'])\n",
    "\n",
    "data['Age'] = pd.cut(data['Age'], bins=bins_age, labels=False, include_lowest=True)\n",
    "data['Fare'] = pd.cut(data['Fare'], bins=bins_fare, labels=False, include_lowest=True)\n",
    "data['Age']  = le_age.transform(data['Age'])\n",
    "data['Fare']  = le_fare.transform(data['Fare'])\n",
    "\n",
    "#Converter para Numpy\n",
    "data = pd.DataFrame.to_numpy(data)\n",
    "\n",
    "\n",
    "#Classificando\n",
    "previsao = classificador.predict(data)\n",
    "print(\"\\nPrevendo o dataframe criado: \", previsao)"
   ]
  },
  {
   "cell_type": "markdown",
   "id": "b79cfdfa-18d9-4c46-ac07-cee1ccc341a2",
   "metadata": {},
   "source": [
    "## Prever os dados de Teste"
   ]
  },
  {
   "cell_type": "code",
   "execution_count": 105,
   "id": "6791cd9c-b751-405e-8e95-4d0f0faf8188",
   "metadata": {},
   "outputs": [
    {
     "name": "stdout",
     "output_type": "stream",
     "text": [
      "Acurácia 67.59776536312849%\n"
     ]
    }
   ],
   "source": [
    "previsao = classificador.predict(x_test)\n",
    "\n",
    "acuracia = 100 * np.sum(previsao == y_test)/ len(y_test)\n",
    "\n",
    "print(\"Acurácia {}%\".format(acuracia))"
   ]
  },
  {
   "cell_type": "markdown",
   "id": "fa580c4f-ab7c-4966-9ab8-d9a6343832c5",
   "metadata": {},
   "source": [
    "# Matriz de Confusão\n",
    "\n",
    "- A biblioteca **sklearn.metrics** tem a função **confusion_matrix** que irá nos retornar a matriz de confusão dos dados previstos. \n",
    "- **y_true** - Valores alvo verdadeiros (corretos). \n",
    "- **y_pred** - Alvos estimados conforme retornados por um classificador. \n",
    "- **labels** - Lista de rótulos para indexar a matriz. Isso pode ser usado para reordenar ou selecionar um subconjunto de rótulos. Se Nenhum for fornecido, aqueles que aparecem pelo menos uma vez em y_true ou y_pred são usados na ordem de classificação \n",
    "- **sample_weight** - Pesos de amostra. \n",
    "- **normalize**: {‘true’, ‘pred’, ‘all’}, default=None - Normaliza a matriz de confusão sobre as condições verdadeiras (linhas), preditas (colunas) ou toda a população. Se nenhum, a matriz de confusão não será normalizada. "
   ]
  },
  {
   "cell_type": "code",
   "execution_count": 106,
   "id": "10ba6ce8-9aa5-4f2d-a2fb-70893c39c426",
   "metadata": {},
   "outputs": [
    {
     "data": {
      "text/plain": [
       "array([[94, 16],\n",
       "       [42, 27]], dtype=int64)"
      ]
     },
     "execution_count": 106,
     "metadata": {},
     "output_type": "execute_result"
    }
   ],
   "source": [
    "confusion_matrix(y_test, previsao)"
   ]
  },
  {
   "cell_type": "markdown",
   "id": "2a4b5d3d-f484-4e9b-9372-b5bb0f42fb35",
   "metadata": {},
   "source": [
    "## Personalizando a matriz de confusão"
   ]
  },
  {
   "cell_type": "code",
   "execution_count": 107,
   "id": "dfa9fa20-3379-43ef-bec7-422fd80ef94e",
   "metadata": {},
   "outputs": [
    {
     "data": {
      "image/png": "[encoded data removed]",
      "text/plain": [
       "<Figure size 432x288 with 2 Axes>"
      ]
     },
     "metadata": {
      "needs_background": "light"
     },
     "output_type": "display_data"
    }
   ],
   "source": [
    "cm = confusion_matrix(y_test, previsao)\n",
    "ax= plt.subplot()\n",
    "sns.heatmap(cm, annot=True, ax = ax); #annot=True to annotate cells\n",
    "\n",
    "# labels, title and ticks\n",
    "ax.set_xlabel('Previsão');\n",
    "ax.set_ylabel('Verdadeiro'); \n",
    "ax.set_title('Confusion Matrix'); \n",
    "ax.xaxis.set_ticklabels(['Morto', 'Vivo']);\n",
    "ax.yaxis.set_ticklabels(['Morto', 'Vivo']);"
   ]
  },
  {
   "cell_type": "markdown",
   "id": "dd999915-2ade-443b-9c28-3f651054e78f",
   "metadata": {
    "tags": []
   },
   "source": [
    "## Métricas\n",
    "\n",
    "- A biblioteca **sklearn.metrics** tem a função **classification_report** que cria um relatório de texto mostrando as principais métricas de classificação. \n",
    "- **y_true** - Valores alvo verdadeiros (corretos). \n",
    "- **y_pred** - Alvos estimados conforme retornados por um classificador. \n",
    "- **labels** - Lista opcional de índices de rótulo a serem incluídos no relatório. \n",
    "- **target_names** - Nomes de exibição opcionais que correspondem aos rótulos (mesma ordem) \n",
    "- **sample_weight** - Peso das Amostras\n",
    "- **digits** - Número de dígitos para formatar valores de ponto flutuante de saída. Quando output_dict for True, isso será ignorado e os valores retornados não serão arredondados.\n",
    "- **output_dict** - Se verdadeiro, retorna a saída como dict\n",
    "- **zero_division**: 'warn', 0 or 1, default='warn' - Define o valor a ser retornado quando houver uma divisão zero. Se definido como “aviso”, funciona como 0, mas os avisos também são gerados. "
   ]
  },
  {
   "cell_type": "code",
   "execution_count": 108,
   "id": "a26ec8cb-2d13-48bd-9e71-d0d4c9d5b27a",
   "metadata": {},
   "outputs": [
    {
     "name": "stdout",
     "output_type": "stream",
     "text": [
      "              precision    recall  f1-score   support\n",
      "\n",
      "       Morto       0.69      0.85      0.76       110\n",
      "        Vivo       0.63      0.39      0.48        69\n",
      "\n",
      "    accuracy                           0.68       179\n",
      "   macro avg       0.66      0.62      0.62       179\n",
      "weighted avg       0.67      0.68      0.66       179\n",
      "\n"
     ]
    }
   ],
   "source": [
    "print(classification_report(y_test, previsao, target_names = ['Morto', 'Vivo']))"
   ]
  },
  {
   "cell_type": "markdown",
   "id": "837ce7f9-badc-4924-81c7-6b3e6c76b68d",
   "metadata": {},
   "source": [
    "## Acurácia\n",
    "\n",
    "- A função **accuracy_score** pode ser usada para verificar a acurácia dos dados\n",
    "- O método **Score** do classificador retorna a acurácia"
   ]
  },
  {
   "cell_type": "code",
   "execution_count": 109,
   "id": "0a6d601b-a538-4851-9de0-a4abf78447ae",
   "metadata": {},
   "outputs": [
    {
     "data": {
      "text/plain": [
       "0.6759776536312849"
      ]
     },
     "execution_count": 109,
     "metadata": {},
     "output_type": "execute_result"
    }
   ],
   "source": [
    "accuracy_score(y_test, previsao)"
   ]
  },
  {
   "cell_type": "code",
   "execution_count": 117,
   "id": "e16a43bd-b2db-43e0-b621-0129a93dae2f",
   "metadata": {},
   "outputs": [
    {
     "data": {
      "text/plain": [
       "0.6759776536312849"
      ]
     },
     "execution_count": 117,
     "metadata": {},
     "output_type": "execute_result"
    }
   ],
   "source": [
    "classificador.score(x_test, y_test)"
   ]
  },
  {
   "cell_type": "markdown",
   "id": "de5c2271-3de8-47ef-9325-12922506df49",
   "metadata": {},
   "source": [
    "# Regras Geradas\n",
    "\n",
    "- Há também uma prediction_dict_ disponível após o ajuste do modelo. Ele lista o erro total para o recurso selecionado (ou seja, o recurso listado em feature_idx_). Também fornece as regras de classificação:\n",
    "- Terá uma regra por classe **{'X': y}**, onde X indica o valor da primeira classe, e y a previsão para aquele valor. ."
   ]
  },
  {
   "cell_type": "code",
   "execution_count": 114,
   "id": "bf7ab353-b6a9-4a7e-9a3d-229d6082b5b5",
   "metadata": {},
   "outputs": [
    {
     "data": {
      "text/plain": [
       "0"
      ]
     },
     "execution_count": 114,
     "metadata": {},
     "output_type": "execute_result"
    }
   ],
   "source": [
    "classificador.feature_idx_"
   ]
  },
  {
   "cell_type": "code",
   "execution_count": 115,
   "id": "b8fe5c76-cec0-4048-9843-a6970895d986",
   "metadata": {},
   "outputs": [
    {
     "data": {
      "text/plain": [
       "{'total error': 228, 'rules (value: class)': {1: 1, 2: 0, 3: 0}}"
      ]
     },
     "execution_count": 115,
     "metadata": {},
     "output_type": "execute_result"
    }
   ],
   "source": [
    "classificador.prediction_dict_"
   ]
  }
 ],
 "metadata": {
  "kernelspec": {
   "display_name": "Python 3",
   "language": "python",
   "name": "python3"
  },
  "language_info": {
   "codemirror_mode": {
    "name": "ipython",
    "version": 3
   },
   "file_extension": ".py",
   "mimetype": "text/x-python",
   "name": "python",
   "nbconvert_exporter": "python",
   "pygments_lexer": "ipython3",
   "version": "3.8.10"
  }
 },
 "nbformat": 4,
 "nbformat_minor": 5
}
