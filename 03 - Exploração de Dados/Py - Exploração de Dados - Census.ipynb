{
 "cells": [
  {
   "cell_type": "markdown",
   "id": "20111e7e-f64d-479a-ae11-d66e11e1cee5",
   "metadata": {},
   "source": [
    "# Census"
   ]
  },
  {
   "cell_type": "markdown",
   "id": "8f786124-445c-4d62-9286-38da7e00ec5c",
   "metadata": {},
   "source": [
    "## Carregando as bibliotecas"
   ]
  },
  {
   "cell_type": "code",
   "execution_count": 1,
   "id": "01d0c2ba-3fdd-4b52-b70d-dfec584f48a6",
   "metadata": {},
   "outputs": [],
   "source": [
    "import pandas as pd\n",
    "import numpy as np\n",
    "import seaborn as sns\n",
    "import matplotlib.pyplot as plt"
   ]
  },
  {
   "cell_type": "markdown",
   "id": "14ea7d1a-9bd9-4cf7-b008-24411ddeaaac",
   "metadata": {},
   "source": [
    "## Carregando o DataFrame "
   ]
  },
  {
   "cell_type": "code",
   "execution_count": 2,
   "id": "1dba5929-1f9f-4d8e-ac66-f6f03e132f19",
   "metadata": {},
   "outputs": [
    {
     "data": {
      "text/html": [
       "<div>\n",
       "<style scoped>\n",
       "    .dataframe tbody tr th:only-of-type {\n",
       "        vertical-align: middle;\n",
       "    }\n",
       "\n",
       "    .dataframe tbody tr th {\n",
       "        vertical-align: top;\n",
       "    }\n",
       "\n",
       "    .dataframe thead th {\n",
       "        text-align: right;\n",
       "    }\n",
       "</style>\n",
       "<table border=\"1\" class=\"dataframe\">\n",
       "  <thead>\n",
       "    <tr style=\"text-align: right;\">\n",
       "      <th></th>\n",
       "      <th>Unnamed: 0</th>\n",
       "      <th>age</th>\n",
       "      <th>workclass</th>\n",
       "      <th>final.weight</th>\n",
       "      <th>education</th>\n",
       "      <th>education.num</th>\n",
       "      <th>marital.status</th>\n",
       "      <th>occupation</th>\n",
       "      <th>relationship</th>\n",
       "      <th>race</th>\n",
       "      <th>sex</th>\n",
       "      <th>capital.gain</th>\n",
       "      <th>capital.loos</th>\n",
       "      <th>hour.per.week</th>\n",
       "      <th>native.country</th>\n",
       "      <th>income</th>\n",
       "    </tr>\n",
       "  </thead>\n",
       "  <tbody>\n",
       "    <tr>\n",
       "      <th>0</th>\n",
       "      <td>1</td>\n",
       "      <td>39</td>\n",
       "      <td>State-gov</td>\n",
       "      <td>77516</td>\n",
       "      <td>Bachelors</td>\n",
       "      <td>13</td>\n",
       "      <td>Never-married</td>\n",
       "      <td>Adm-clerical</td>\n",
       "      <td>Not-in-family</td>\n",
       "      <td>White</td>\n",
       "      <td>Male</td>\n",
       "      <td>2174</td>\n",
       "      <td>0</td>\n",
       "      <td>40</td>\n",
       "      <td>United-States</td>\n",
       "      <td>&lt;=50K</td>\n",
       "    </tr>\n",
       "    <tr>\n",
       "      <th>1</th>\n",
       "      <td>2</td>\n",
       "      <td>50</td>\n",
       "      <td>Self-emp-not-inc</td>\n",
       "      <td>83311</td>\n",
       "      <td>Bachelors</td>\n",
       "      <td>13</td>\n",
       "      <td>Married-civ-spouse</td>\n",
       "      <td>Exec-managerial</td>\n",
       "      <td>Husband</td>\n",
       "      <td>White</td>\n",
       "      <td>Male</td>\n",
       "      <td>0</td>\n",
       "      <td>0</td>\n",
       "      <td>13</td>\n",
       "      <td>United-States</td>\n",
       "      <td>&lt;=50K</td>\n",
       "    </tr>\n",
       "    <tr>\n",
       "      <th>2</th>\n",
       "      <td>3</td>\n",
       "      <td>38</td>\n",
       "      <td>Private</td>\n",
       "      <td>215646</td>\n",
       "      <td>HS-grad</td>\n",
       "      <td>9</td>\n",
       "      <td>Divorced</td>\n",
       "      <td>Handlers-cleaners</td>\n",
       "      <td>Not-in-family</td>\n",
       "      <td>White</td>\n",
       "      <td>Male</td>\n",
       "      <td>0</td>\n",
       "      <td>0</td>\n",
       "      <td>40</td>\n",
       "      <td>United-States</td>\n",
       "      <td>&lt;=50K</td>\n",
       "    </tr>\n",
       "    <tr>\n",
       "      <th>3</th>\n",
       "      <td>4</td>\n",
       "      <td>53</td>\n",
       "      <td>Private</td>\n",
       "      <td>234721</td>\n",
       "      <td>11th</td>\n",
       "      <td>7</td>\n",
       "      <td>Married-civ-spouse</td>\n",
       "      <td>Handlers-cleaners</td>\n",
       "      <td>Husband</td>\n",
       "      <td>Black</td>\n",
       "      <td>Male</td>\n",
       "      <td>0</td>\n",
       "      <td>0</td>\n",
       "      <td>40</td>\n",
       "      <td>United-States</td>\n",
       "      <td>&lt;=50K</td>\n",
       "    </tr>\n",
       "    <tr>\n",
       "      <th>4</th>\n",
       "      <td>5</td>\n",
       "      <td>28</td>\n",
       "      <td>Private</td>\n",
       "      <td>338409</td>\n",
       "      <td>Bachelors</td>\n",
       "      <td>13</td>\n",
       "      <td>Married-civ-spouse</td>\n",
       "      <td>Prof-specialty</td>\n",
       "      <td>Wife</td>\n",
       "      <td>Black</td>\n",
       "      <td>Female</td>\n",
       "      <td>0</td>\n",
       "      <td>0</td>\n",
       "      <td>40</td>\n",
       "      <td>Cuba</td>\n",
       "      <td>&lt;=50K</td>\n",
       "    </tr>\n",
       "  </tbody>\n",
       "</table>\n",
       "</div>"
      ],
      "text/plain": [
       "   Unnamed: 0  age          workclass  final.weight   education  \\\n",
       "0           1   39          State-gov         77516   Bachelors   \n",
       "1           2   50   Self-emp-not-inc         83311   Bachelors   \n",
       "2           3   38            Private        215646     HS-grad   \n",
       "3           4   53            Private        234721        11th   \n",
       "4           5   28            Private        338409   Bachelors   \n",
       "\n",
       "   education.num       marital.status          occupation    relationship  \\\n",
       "0             13        Never-married        Adm-clerical   Not-in-family   \n",
       "1             13   Married-civ-spouse     Exec-managerial         Husband   \n",
       "2              9             Divorced   Handlers-cleaners   Not-in-family   \n",
       "3              7   Married-civ-spouse   Handlers-cleaners         Husband   \n",
       "4             13   Married-civ-spouse      Prof-specialty            Wife   \n",
       "\n",
       "     race      sex  capital.gain  capital.loos  hour.per.week  native.country  \\\n",
       "0   White     Male          2174             0             40   United-States   \n",
       "1   White     Male             0             0             13   United-States   \n",
       "2   White     Male             0             0             40   United-States   \n",
       "3   Black     Male             0             0             40   United-States   \n",
       "4   Black   Female             0             0             40            Cuba   \n",
       "\n",
       "   income  \n",
       "0   <=50K  \n",
       "1   <=50K  \n",
       "2   <=50K  \n",
       "3   <=50K  \n",
       "4   <=50K  "
      ]
     },
     "execution_count": 2,
     "metadata": {},
     "output_type": "execute_result"
    }
   ],
   "source": [
    "census = pd.read_csv(\"../datasets/census.csv\")\n",
    "census.head()"
   ]
  },
  {
   "cell_type": "markdown",
   "id": "6008199b-cc6f-4dc1-ad9c-5758cef62f61",
   "metadata": {},
   "source": [
    "## Tipo de Dados\n",
    "\n",
    "- Unnamed: 0 - Numérico Discreto (Sem utilidade)\n",
    "- age (idade)- Numérico Discreto\n",
    "- wordclass (tipo de emprego) - Categórico Nominal\n",
    "- final.weight (peso final) - Numérico contínuo\n",
    "- education (educação)- Categórica Ordinal\n",
    "- education.num (anos de estudos) - Numérico Discreto\n",
    "- marital.status (estado civil) - CCategórica Nominal\n",
    "- occupation (trabalho) - Categórica Nominal\n",
    "- relationship (relação)  - Categórica Nominal\n",
    "- race (raça) - Categórica Nominal\n",
    "- sex (sexo) - Categórica Nominal\n",
    "- capital.gain (ganho de capital) - Numérica Contínua\n",
    "- capital.loss (perda de capital) - Numérica Contínua\n",
    "- hours.week (horas da semana) - Numética Discreta\n",
    "- native.country (pais de origem) - Categórica Nominal\n",
    "- income (renda anual) - Classe Alvo - Categórica Ordinal"
   ]
  },
  {
   "cell_type": "code",
   "execution_count": 4,
   "id": "07c8156f-c98a-42f3-bd1d-da99a9624df9",
   "metadata": {},
   "outputs": [
    {
     "name": "stdout",
     "output_type": "stream",
     "text": [
      "<class 'pandas.core.frame.DataFrame'>\n",
      "RangeIndex: 30162 entries, 0 to 30161\n",
      "Data columns (total 16 columns):\n",
      " #   Column          Non-Null Count  Dtype \n",
      "---  ------          --------------  ----- \n",
      " 0   Unnamed: 0      30162 non-null  int64 \n",
      " 1   age             30162 non-null  int64 \n",
      " 2   workclass       30162 non-null  object\n",
      " 3   final.weight    30162 non-null  int64 \n",
      " 4   education       30162 non-null  object\n",
      " 5   education.num   30162 non-null  int64 \n",
      " 6   marital.status  30162 non-null  object\n",
      " 7   occupation      30162 non-null  object\n",
      " 8   relationship    30162 non-null  object\n",
      " 9   race            30162 non-null  object\n",
      " 10  sex             30162 non-null  object\n",
      " 11  capital.gain    30162 non-null  int64 \n",
      " 12  capital.loos    30162 non-null  int64 \n",
      " 13  hour.per.week   30162 non-null  int64 \n",
      " 14  native.country  30162 non-null  object\n",
      " 15  income          30162 non-null  object\n",
      "dtypes: int64(7), object(9)\n",
      "memory usage: 3.7+ MB\n"
     ]
    }
   ],
   "source": [
    "census.info()"
   ]
  },
  {
   "cell_type": "markdown",
   "id": "d03e182d-e146-40c3-b1a8-6426a502fdcb",
   "metadata": {},
   "source": [
    "## Sumário Estatístico"
   ]
  },
  {
   "cell_type": "code",
   "execution_count": 5,
   "id": "add8889d-d1da-49e8-acc3-bcbb7c0bfca0",
   "metadata": {},
   "outputs": [
    {
     "data": {
      "text/html": [
       "<div>\n",
       "<style scoped>\n",
       "    .dataframe tbody tr th:only-of-type {\n",
       "        vertical-align: middle;\n",
       "    }\n",
       "\n",
       "    .dataframe tbody tr th {\n",
       "        vertical-align: top;\n",
       "    }\n",
       "\n",
       "    .dataframe thead th {\n",
       "        text-align: right;\n",
       "    }\n",
       "</style>\n",
       "<table border=\"1\" class=\"dataframe\">\n",
       "  <thead>\n",
       "    <tr style=\"text-align: right;\">\n",
       "      <th></th>\n",
       "      <th>Unnamed: 0</th>\n",
       "      <th>age</th>\n",
       "      <th>final.weight</th>\n",
       "      <th>education.num</th>\n",
       "      <th>capital.gain</th>\n",
       "      <th>capital.loos</th>\n",
       "      <th>hour.per.week</th>\n",
       "    </tr>\n",
       "  </thead>\n",
       "  <tbody>\n",
       "    <tr>\n",
       "      <th>count</th>\n",
       "      <td>30162.000000</td>\n",
       "      <td>30162.000000</td>\n",
       "      <td>3.016200e+04</td>\n",
       "      <td>30162.000000</td>\n",
       "      <td>30162.000000</td>\n",
       "      <td>30162.000000</td>\n",
       "      <td>30162.000000</td>\n",
       "    </tr>\n",
       "    <tr>\n",
       "      <th>mean</th>\n",
       "      <td>16288.103242</td>\n",
       "      <td>38.437902</td>\n",
       "      <td>1.897938e+05</td>\n",
       "      <td>10.121312</td>\n",
       "      <td>1092.007858</td>\n",
       "      <td>88.372489</td>\n",
       "      <td>40.931238</td>\n",
       "    </tr>\n",
       "    <tr>\n",
       "      <th>std</th>\n",
       "      <td>9383.401676</td>\n",
       "      <td>13.134665</td>\n",
       "      <td>1.056530e+05</td>\n",
       "      <td>2.549995</td>\n",
       "      <td>7406.346497</td>\n",
       "      <td>404.298370</td>\n",
       "      <td>11.979984</td>\n",
       "    </tr>\n",
       "    <tr>\n",
       "      <th>min</th>\n",
       "      <td>1.000000</td>\n",
       "      <td>17.000000</td>\n",
       "      <td>1.376900e+04</td>\n",
       "      <td>1.000000</td>\n",
       "      <td>0.000000</td>\n",
       "      <td>0.000000</td>\n",
       "      <td>1.000000</td>\n",
       "    </tr>\n",
       "    <tr>\n",
       "      <th>25%</th>\n",
       "      <td>8179.250000</td>\n",
       "      <td>28.000000</td>\n",
       "      <td>1.176272e+05</td>\n",
       "      <td>9.000000</td>\n",
       "      <td>0.000000</td>\n",
       "      <td>0.000000</td>\n",
       "      <td>40.000000</td>\n",
       "    </tr>\n",
       "    <tr>\n",
       "      <th>50%</th>\n",
       "      <td>16286.500000</td>\n",
       "      <td>37.000000</td>\n",
       "      <td>1.784250e+05</td>\n",
       "      <td>10.000000</td>\n",
       "      <td>0.000000</td>\n",
       "      <td>0.000000</td>\n",
       "      <td>40.000000</td>\n",
       "    </tr>\n",
       "    <tr>\n",
       "      <th>75%</th>\n",
       "      <td>24402.750000</td>\n",
       "      <td>47.000000</td>\n",
       "      <td>2.376285e+05</td>\n",
       "      <td>13.000000</td>\n",
       "      <td>0.000000</td>\n",
       "      <td>0.000000</td>\n",
       "      <td>45.000000</td>\n",
       "    </tr>\n",
       "    <tr>\n",
       "      <th>max</th>\n",
       "      <td>32561.000000</td>\n",
       "      <td>90.000000</td>\n",
       "      <td>1.484705e+06</td>\n",
       "      <td>16.000000</td>\n",
       "      <td>99999.000000</td>\n",
       "      <td>4356.000000</td>\n",
       "      <td>99.000000</td>\n",
       "    </tr>\n",
       "  </tbody>\n",
       "</table>\n",
       "</div>"
      ],
      "text/plain": [
       "         Unnamed: 0           age  final.weight  education.num  capital.gain  \\\n",
       "count  30162.000000  30162.000000  3.016200e+04   30162.000000  30162.000000   \n",
       "mean   16288.103242     38.437902  1.897938e+05      10.121312   1092.007858   \n",
       "std     9383.401676     13.134665  1.056530e+05       2.549995   7406.346497   \n",
       "min        1.000000     17.000000  1.376900e+04       1.000000      0.000000   \n",
       "25%     8179.250000     28.000000  1.176272e+05       9.000000      0.000000   \n",
       "50%    16286.500000     37.000000  1.784250e+05      10.000000      0.000000   \n",
       "75%    24402.750000     47.000000  2.376285e+05      13.000000      0.000000   \n",
       "max    32561.000000     90.000000  1.484705e+06      16.000000  99999.000000   \n",
       "\n",
       "       capital.loos  hour.per.week  \n",
       "count  30162.000000   30162.000000  \n",
       "mean      88.372489      40.931238  \n",
       "std      404.298370      11.979984  \n",
       "min        0.000000       1.000000  \n",
       "25%        0.000000      40.000000  \n",
       "50%        0.000000      40.000000  \n",
       "75%        0.000000      45.000000  \n",
       "max     4356.000000      99.000000  "
      ]
     },
     "execution_count": 5,
     "metadata": {},
     "output_type": "execute_result"
    }
   ],
   "source": [
    "census.describe()"
   ]
  },
  {
   "cell_type": "markdown",
   "id": "989d33dd-47cf-46e2-b329-add1dfbc3b7f",
   "metadata": {},
   "source": [
    "## Estudo das Variáveis\n",
    "\n",
    "### age\n",
    "\n",
    "- Sem valores inválidos"
   ]
  },
  {
   "cell_type": "code",
   "execution_count": 7,
   "id": "00a24a26-ed73-4428-9c9c-47b06d99e4ff",
   "metadata": {},
   "outputs": [
    {
     "data": {
      "text/plain": [
       "count    30162.000000\n",
       "mean        38.437902\n",
       "std         13.134665\n",
       "min         17.000000\n",
       "25%         28.000000\n",
       "50%         37.000000\n",
       "75%         47.000000\n",
       "max         90.000000\n",
       "Name: age, dtype: float64"
      ]
     },
     "execution_count": 7,
     "metadata": {},
     "output_type": "execute_result"
    }
   ],
   "source": [
    "census['age'].describe()"
   ]
  },
  {
   "cell_type": "code",
   "execution_count": 4,
   "id": "05332a39-c1c3-4edc-9b54-027887bf0828",
   "metadata": {},
   "outputs": [
    {
     "name": "stdout",
     "output_type": "stream",
     "text": [
      "0 0\n"
     ]
    }
   ],
   "source": [
    "print(census['age'].isna().sum(), census['age'].isnull().sum())"
   ]
  },
  {
   "cell_type": "code",
   "execution_count": 24,
   "id": "4d1493d3-3dc5-4d7e-80b7-cec9c2670ed0",
   "metadata": {},
   "outputs": [
    {
     "data": {
      "text/plain": [
       "<AxesSubplot:xlabel='age', ylabel='Count'>"
      ]
     },
     "execution_count": 24,
     "metadata": {},
     "output_type": "execute_result"
    },
    {
     "data": {
      "image/png": "[encoded data removed]",
      "text/plain": [
       "<Figure size 432x288 with 1 Axes>"
      ]
     },
     "metadata": {
      "needs_background": "light"
     },
     "output_type": "display_data"
    }
   ],
   "source": [
    "# Idade por cada renda anual\n",
    "sns.histplot(x = 'age' , data = census[census['income'] == ' <=50K'], color='blue', alpha = 0.5)\n",
    "sns.histplot(x = 'age' , data = census[census['income'] != ' <=50K'], color = 'red', alpha = 0.5)"
   ]
  },
  {
   "cell_type": "markdown",
   "id": "bc028361-0b71-482a-9afd-78ecb96c85b3",
   "metadata": {},
   "source": [
    "### workclass\n",
    "\n",
    "- Sem valores Inválidos"
   ]
  },
  {
   "cell_type": "code",
   "execution_count": 6,
   "id": "1139ebfa-966a-471d-99ab-2b6c84293c21",
   "metadata": {},
   "outputs": [
    {
     "data": {
      "text/plain": [
       " Private             22286\n",
       " Self-emp-not-inc     2499\n",
       " Local-gov            2067\n",
       " State-gov            1279\n",
       " Self-emp-inc         1074\n",
       " Federal-gov           943\n",
       " Without-pay            14\n",
       "Name: workclass, dtype: int64"
      ]
     },
     "execution_count": 6,
     "metadata": {},
     "output_type": "execute_result"
    }
   ],
   "source": [
    "census['workclass'].value_counts(dropna=False)"
   ]
  },
  {
   "cell_type": "code",
   "execution_count": 49,
   "id": "332ec6f1-7c77-4474-9636-3800b5d8e39d",
   "metadata": {},
   "outputs": [
    {
     "data": {
      "text/plain": [
       "<AxesSubplot:xlabel='count', ylabel='workclass'>"
      ]
     },
     "execution_count": 49,
     "metadata": {},
     "output_type": "execute_result"
    },
    {
     "data": {
      "image/png": "[encoded data removed]",
      "text/plain": [
       "<Figure size 432x288 with 1 Axes>"
      ]
     },
     "metadata": {
      "needs_background": "light"
     },
     "output_type": "display_data"
    }
   ],
   "source": [
    "sns.countplot(y = census.workclass)"
   ]
  },
  {
   "cell_type": "markdown",
   "id": "276fe108-b17f-42b8-8e11-5d5f78592bd4",
   "metadata": {},
   "source": [
    "###  final.weight\n",
    "\n",
    "- Sem valores inválidos"
   ]
  },
  {
   "cell_type": "code",
   "execution_count": 28,
   "id": "bd83bfa7-6a9d-4337-9b50-c4d4a0381b82",
   "metadata": {},
   "outputs": [
    {
     "data": {
      "text/plain": [
       "count    3.016200e+04\n",
       "mean     1.897938e+05\n",
       "std      1.056530e+05\n",
       "min      1.376900e+04\n",
       "25%      1.176272e+05\n",
       "50%      1.784250e+05\n",
       "75%      2.376285e+05\n",
       "max      1.484705e+06\n",
       "Name: final.weight, dtype: float64"
      ]
     },
     "execution_count": 28,
     "metadata": {},
     "output_type": "execute_result"
    }
   ],
   "source": [
    "census['final.weight'].describe()"
   ]
  },
  {
   "cell_type": "code",
   "execution_count": 29,
   "id": "dbe8254f-b209-4f5c-b638-da3331eb9634",
   "metadata": {},
   "outputs": [
    {
     "data": {
      "text/plain": [
       "<seaborn.axisgrid.FacetGrid at 0x1813dbc3220>"
      ]
     },
     "execution_count": 29,
     "metadata": {},
     "output_type": "execute_result"
    },
    {
     "data": {
      "image/png": "[encoded data removed]",
      "text/plain": [
       "<Figure size 360x360 with 1 Axes>"
      ]
     },
     "metadata": {
      "needs_background": "light"
     },
     "output_type": "display_data"
    }
   ],
   "source": [
    "sns.displot(x = census['final.weight'])"
   ]
  },
  {
   "cell_type": "markdown",
   "id": "979c9723-1964-4b88-8256-6842d81a58f0",
   "metadata": {},
   "source": [
    "### education \n",
    "\n",
    "- Sem valores inválidos encontrados"
   ]
  },
  {
   "cell_type": "code",
   "execution_count": 30,
   "id": "2f18c5b3-3b71-4627-9175-4991449ba33c",
   "metadata": {},
   "outputs": [
    {
     "data": {
      "text/plain": [
       " HS-grad         9840\n",
       " Some-college    6678\n",
       " Bachelors       5044\n",
       " Masters         1627\n",
       " Assoc-voc       1307\n",
       " 11th            1048\n",
       " Assoc-acdm      1008\n",
       " 10th             820\n",
       " 7th-8th          557\n",
       " Prof-school      542\n",
       " 9th              455\n",
       " 12th             377\n",
       " Doctorate        375\n",
       " 5th-6th          288\n",
       " 1st-4th          151\n",
       " Preschool         45\n",
       "Name: education, dtype: int64"
      ]
     },
     "execution_count": 30,
     "metadata": {},
     "output_type": "execute_result"
    }
   ],
   "source": [
    "census['education'].value_counts(dropna=False)"
   ]
  },
  {
   "cell_type": "code",
   "execution_count": 48,
   "id": "da27ed2c-7877-4acf-9eb0-252e9cb79849",
   "metadata": {},
   "outputs": [
    {
     "data": {
      "text/plain": [
       "<AxesSubplot:xlabel='count', ylabel='education'>"
      ]
     },
     "execution_count": 48,
     "metadata": {},
     "output_type": "execute_result"
    },
    {
     "data": {
      "image/png": "[encoded data removed]",
      "text/plain": [
       "<Figure size 432x288 with 1 Axes>"
      ]
     },
     "metadata": {
      "needs_background": "light"
     },
     "output_type": "display_data"
    }
   ],
   "source": [
    "sns.countplot(y = census.education)"
   ]
  },
  {
   "cell_type": "markdown",
   "id": "c18a385a-9f34-4862-af96-60693c081be9",
   "metadata": {},
   "source": [
    "### education.num \n",
    "\n",
    "- Sem valores inválidos"
   ]
  },
  {
   "cell_type": "code",
   "execution_count": 34,
   "id": "79e20c89-5066-48f9-b246-ad99a0a98645",
   "metadata": {},
   "outputs": [
    {
     "name": "stdout",
     "output_type": "stream",
     "text": [
      "0 0\n"
     ]
    }
   ],
   "source": [
    "print(census['education.num'].isna().sum(), census['education.num'].isnull().sum())"
   ]
  },
  {
   "cell_type": "code",
   "execution_count": 36,
   "id": "e8d305f7-ebaf-42da-84c1-b4a6b5a64e57",
   "metadata": {},
   "outputs": [
    {
     "data": {
      "text/plain": [
       "<AxesSubplot:xlabel='education.num', ylabel='count'>"
      ]
     },
     "execution_count": 36,
     "metadata": {},
     "output_type": "execute_result"
    },
    {
     "data": {
      "image/png": "[encoded data removed]",
      "text/plain": [
       "<Figure size 432x288 with 1 Axes>"
      ]
     },
     "metadata": {
      "needs_background": "light"
     },
     "output_type": "display_data"
    }
   ],
   "source": [
    "sns.countplot(x = census['education.num'])"
   ]
  },
  {
   "cell_type": "markdown",
   "id": "251fe619-f07f-4939-a039-975bf4a66142",
   "metadata": {},
   "source": [
    "### marital.status\n",
    "\n",
    "- Sem valores inválidos"
   ]
  },
  {
   "cell_type": "code",
   "execution_count": 37,
   "id": "374d0a57-7580-4a14-960b-e188ae8b50aa",
   "metadata": {},
   "outputs": [
    {
     "data": {
      "text/plain": [
       " Married-civ-spouse       14065\n",
       " Never-married             9726\n",
       " Divorced                  4214\n",
       " Separated                  939\n",
       " Widowed                    827\n",
       " Married-spouse-absent      370\n",
       " Married-AF-spouse           21\n",
       "Name: marital.status, dtype: int64"
      ]
     },
     "execution_count": 37,
     "metadata": {},
     "output_type": "execute_result"
    }
   ],
   "source": [
    "census['marital.status'].value_counts(dropna = False)"
   ]
  },
  {
   "cell_type": "code",
   "execution_count": 47,
   "id": "cb474637-d161-4057-b3cc-d8705f2f5a79",
   "metadata": {},
   "outputs": [
    {
     "data": {
      "text/plain": [
       "<AxesSubplot:xlabel='count', ylabel='marital.status'>"
      ]
     },
     "execution_count": 47,
     "metadata": {},
     "output_type": "execute_result"
    },
    {
     "data": {
      "image/png": "[encoded data removed]",
      "text/plain": [
       "<Figure size 432x288 with 1 Axes>"
      ]
     },
     "metadata": {
      "needs_background": "light"
     },
     "output_type": "display_data"
    }
   ],
   "source": [
    "sns.countplot(y = census['marital.status'])"
   ]
  },
  {
   "cell_type": "markdown",
   "id": "738d5faf-63c5-4cde-810c-c60c3a3492e2",
   "metadata": {},
   "source": [
    "### occupation  \n",
    "\n",
    "- Sem valores inválidos"
   ]
  },
  {
   "cell_type": "code",
   "execution_count": 42,
   "id": "08c17160-7db7-44c1-a814-624709ff9426",
   "metadata": {},
   "outputs": [
    {
     "data": {
      "text/plain": [
       " Prof-specialty       4038\n",
       " Craft-repair         4030\n",
       " Exec-managerial      3992\n",
       " Adm-clerical         3721\n",
       " Sales                3584\n",
       " Other-service        3212\n",
       " Machine-op-inspct    1966\n",
       " Transport-moving     1572\n",
       " Handlers-cleaners    1350\n",
       " Farming-fishing       989\n",
       " Tech-support          912\n",
       " Protective-serv       644\n",
       " Priv-house-serv       143\n",
       " Armed-Forces            9\n",
       "Name: occupation, dtype: int64"
      ]
     },
     "execution_count": 42,
     "metadata": {},
     "output_type": "execute_result"
    }
   ],
   "source": [
    "census['occupation'].value_counts(dropna=False)"
   ]
  },
  {
   "cell_type": "code",
   "execution_count": 46,
   "id": "d4592fc4-563d-4fe7-8c5f-4fa602b1e7f5",
   "metadata": {},
   "outputs": [
    {
     "data": {
      "text/plain": [
       "<AxesSubplot:xlabel='count', ylabel='occupation'>"
      ]
     },
     "execution_count": 46,
     "metadata": {},
     "output_type": "execute_result"
    },
    {
     "data": {
      "image/png": "[encoded data removed]",
      "text/plain": [
       "<Figure size 432x288 with 1 Axes>"
      ]
     },
     "metadata": {
      "needs_background": "light"
     },
     "output_type": "display_data"
    }
   ],
   "source": [
    "sns.countplot(y = census['occupation'])"
   ]
  },
  {
   "cell_type": "markdown",
   "id": "ed3e7b90-a932-4ef9-ab56-e8671fa2d95f",
   "metadata": {},
   "source": [
    "### relationship \n",
    "\n",
    "- Sem valores inválidos"
   ]
  },
  {
   "cell_type": "code",
   "execution_count": 51,
   "id": "8db4dd58-3f9f-4b76-af0f-3dbd9e657df9",
   "metadata": {},
   "outputs": [
    {
     "data": {
      "text/plain": [
       " Husband           12463\n",
       " Not-in-family      7726\n",
       " Own-child          4466\n",
       " Unmarried          3212\n",
       " Wife               1406\n",
       " Other-relative      889\n",
       "Name: relationship, dtype: int64"
      ]
     },
     "execution_count": 51,
     "metadata": {},
     "output_type": "execute_result"
    }
   ],
   "source": [
    "census['relationship'].value_counts(dropna= False)"
   ]
  },
  {
   "cell_type": "code",
   "execution_count": 52,
   "id": "73e84860-809e-48f7-b5cb-06558e5faaf8",
   "metadata": {},
   "outputs": [
    {
     "data": {
      "text/plain": [
       "<AxesSubplot:xlabel='count', ylabel='relationship'>"
      ]
     },
     "execution_count": 52,
     "metadata": {},
     "output_type": "execute_result"
    },
    {
     "data": {
      "image/png": "[encoded data removed]",
      "text/plain": [
       "<Figure size 432x288 with 1 Axes>"
      ]
     },
     "metadata": {
      "needs_background": "light"
     },
     "output_type": "display_data"
    }
   ],
   "source": [
    "sns.countplot(y = census.relationship)"
   ]
  },
  {
   "cell_type": "markdown",
   "id": "a3c5cd31-6cf5-49d2-a8a6-e96aa662e123",
   "metadata": {},
   "source": [
    "### Race\n",
    "\n",
    "- Sem valores inválidos"
   ]
  },
  {
   "cell_type": "code",
   "execution_count": 54,
   "id": "c58db8ab-1dfc-4b15-aac3-08beb9b386cb",
   "metadata": {},
   "outputs": [
    {
     "data": {
      "text/plain": [
       " White                 25933\n",
       " Black                  2817\n",
       " Asian-Pac-Islander      895\n",
       " Amer-Indian-Eskimo      286\n",
       " Other                   231\n",
       "Name: race, dtype: int64"
      ]
     },
     "execution_count": 54,
     "metadata": {},
     "output_type": "execute_result"
    }
   ],
   "source": [
    "census['race'].value_counts(dropna= False)"
   ]
  },
  {
   "cell_type": "code",
   "execution_count": 55,
   "id": "36382d3d-2f1e-42f3-aa2f-3fd502af75ff",
   "metadata": {},
   "outputs": [
    {
     "data": {
      "text/plain": [
       "<AxesSubplot:xlabel='count', ylabel='race'>"
      ]
     },
     "execution_count": 55,
     "metadata": {},
     "output_type": "execute_result"
    },
    {
     "data": {
      "image/png": "[encoded data removed]",
      "text/plain": [
       "<Figure size 432x288 with 1 Axes>"
      ]
     },
     "metadata": {
      "needs_background": "light"
     },
     "output_type": "display_data"
    }
   ],
   "source": [
    "sns.countplot(y = census.race)"
   ]
  },
  {
   "cell_type": "markdown",
   "id": "363675cc-8c1a-4e5b-a71f-3c273702a68a",
   "metadata": {},
   "source": [
    "### sex\n",
    "\n",
    "- Sem valores inválidos"
   ]
  },
  {
   "cell_type": "code",
   "execution_count": 56,
   "id": "7e537a53-cc06-4b6c-9b7b-aed317027591",
   "metadata": {},
   "outputs": [
    {
     "data": {
      "text/plain": [
       " Male      20380\n",
       " Female     9782\n",
       "Name: sex, dtype: int64"
      ]
     },
     "execution_count": 56,
     "metadata": {},
     "output_type": "execute_result"
    }
   ],
   "source": [
    "census['sex'].value_counts(dropna = False)"
   ]
  },
  {
   "cell_type": "code",
   "execution_count": 57,
   "id": "3b931976-2a6d-4283-bbeb-a8ba096172db",
   "metadata": {},
   "outputs": [
    {
     "data": {
      "text/plain": [
       "<AxesSubplot:xlabel='sex', ylabel='count'>"
      ]
     },
     "execution_count": 57,
     "metadata": {},
     "output_type": "execute_result"
    },
    {
     "data": {
      "image/png": "[encoded data removed]",
      "text/plain": [
       "<Figure size 432x288 with 1 Axes>"
      ]
     },
     "metadata": {
      "needs_background": "light"
     },
     "output_type": "display_data"
    }
   ],
   "source": [
    "sns.countplot(x = census.sex)"
   ]
  },
  {
   "cell_type": "markdown",
   "id": "726d4019-bdbc-4629-92e6-613bb7dcb762",
   "metadata": {},
   "source": [
    "### capital.gain\n",
    "\n",
    "- Sem valores inválidos"
   ]
  },
  {
   "cell_type": "code",
   "execution_count": 60,
   "id": "9bbc117b-b95a-4dfc-87a4-56a69d5382ff",
   "metadata": {},
   "outputs": [
    {
     "name": "stdout",
     "output_type": "stream",
     "text": [
      "0 0\n"
     ]
    }
   ],
   "source": [
    "print(census['capital.gain'].isna().sum(), census['capital.gain'].isnull().sum())"
   ]
  },
  {
   "cell_type": "code",
   "execution_count": 66,
   "id": "f932d5a1-b7f9-42ef-83a9-dae7973f06ef",
   "metadata": {},
   "outputs": [
    {
     "data": {
      "text/plain": [
       "<AxesSubplot:xlabel='capital.gain', ylabel='Count'>"
      ]
     },
     "execution_count": 66,
     "metadata": {},
     "output_type": "execute_result"
    },
    {
     "data": {
      "image/png": "[encoded data removed]",
      "text/plain": [
       "<Figure size 432x288 with 1 Axes>"
      ]
     },
     "metadata": {
      "needs_background": "light"
     },
     "output_type": "display_data"
    }
   ],
   "source": [
    "sns.histplot(x = 'capital.gain', data = census[census.income == ' <=50K'], color = 'blue')\n",
    "sns.histplot(x = 'capital.gain', data = census[census.income != ' <=50K'], color = 'red')"
   ]
  },
  {
   "cell_type": "markdown",
   "id": "c9da607e-01ff-472b-8d55-67bb78ef7412",
   "metadata": {},
   "source": [
    "### capital.loos\n",
    "\n",
    "- Sem valores inválidos"
   ]
  },
  {
   "cell_type": "code",
   "execution_count": 60,
   "id": "b4db8cdf-0c8d-4e83-a3f4-5d15d8d62a71",
   "metadata": {},
   "outputs": [
    {
     "name": "stdout",
     "output_type": "stream",
     "text": [
      "0 0\n"
     ]
    }
   ],
   "source": [
    "print(census['capital.loos'].isna().sum(), census['capital.loos'].isnull().sum())"
   ]
  },
  {
   "cell_type": "code",
   "execution_count": 67,
   "id": "9b3fb1ff-b08f-48e6-9238-7ba0cb99bb93",
   "metadata": {},
   "outputs": [
    {
     "data": {
      "text/plain": [
       "<AxesSubplot:xlabel='capital.loos', ylabel='Count'>"
      ]
     },
     "execution_count": 67,
     "metadata": {},
     "output_type": "execute_result"
    },
    {
     "data": {
      "image/png": "[encoded data removed]",
      "text/plain": [
       "<Figure size 432x288 with 1 Axes>"
      ]
     },
     "metadata": {
      "needs_background": "light"
     },
     "output_type": "display_data"
    }
   ],
   "source": [
    "sns.histplot(x = 'capital.loos', data = census[census.income == ' <=50K'], color = 'blue')\n",
    "sns.histplot(x = 'capital.loos', data = census[census.income != ' <=50K'], color = 'red')"
   ]
  },
  {
   "cell_type": "markdown",
   "id": "fc0e36f1-58fa-4989-a7ea-8bcc5accf072",
   "metadata": {},
   "source": [
    "### hour.per.week\n",
    "\n",
    "- Sem valores inválidos"
   ]
  },
  {
   "cell_type": "code",
   "execution_count": 70,
   "id": "5680ca5e-5528-4276-a6a4-f922f9a72893",
   "metadata": {},
   "outputs": [
    {
     "name": "stdout",
     "output_type": "stream",
     "text": [
      "0 0\n"
     ]
    }
   ],
   "source": [
    "print(census['hour.per.week'].isna().sum(), census['hour.per.week'].isnull().sum())"
   ]
  },
  {
   "cell_type": "code",
   "execution_count": 71,
   "id": "b6ec1e10-52e0-4d0e-93b8-2c06bec42abe",
   "metadata": {},
   "outputs": [
    {
     "data": {
      "text/plain": [
       "<AxesSubplot:xlabel='hour.per.week', ylabel='Count'>"
      ]
     },
     "execution_count": 71,
     "metadata": {},
     "output_type": "execute_result"
    },
    {
     "data": {
      "image/png": "[encoded data removed]",
      "text/plain": [
       "<Figure size 432x288 with 1 Axes>"
      ]
     },
     "metadata": {
      "needs_background": "light"
     },
     "output_type": "display_data"
    }
   ],
   "source": [
    "sns.histplot(x = 'hour.per.week', data = census[census.income == ' <=50K'], color = 'blue')\n",
    "sns.histplot(x = 'hour.per.week', data = census[census.income != ' <=50K'], color = 'red')"
   ]
  },
  {
   "cell_type": "markdown",
   "id": "ed0e1af6-f909-40b8-91ea-9b5faac237bb",
   "metadata": {},
   "source": [
    "### native.country\n",
    "\n",
    "- Sem valores inválidos"
   ]
  },
  {
   "cell_type": "code",
   "execution_count": 72,
   "id": "ed3fefec-efb2-4aa0-ad75-8ea58a44e386",
   "metadata": {},
   "outputs": [
    {
     "name": "stdout",
     "output_type": "stream",
     "text": [
      "0 0\n"
     ]
    }
   ],
   "source": [
    "print(census['native.country'].isna().sum(), census['native.country'].isnull().sum())"
   ]
  },
  {
   "cell_type": "code",
   "execution_count": 73,
   "id": "63017d8d-a8b9-400c-b1b6-85eb8d446059",
   "metadata": {},
   "outputs": [
    {
     "data": {
      "text/plain": [
       "<AxesSubplot:xlabel='count', ylabel='native.country'>"
      ]
     },
     "execution_count": 73,
     "metadata": {},
     "output_type": "execute_result"
    },
    {
     "data": {
      "image/png": "[encoded data removed]",
      "text/plain": [
       "<Figure size 432x288 with 1 Axes>"
      ]
     },
     "metadata": {
      "needs_background": "light"
     },
     "output_type": "display_data"
    }
   ],
   "source": [
    "sns.countplot(y = census['native.country'])"
   ]
  },
  {
   "cell_type": "markdown",
   "id": "714929cd-d4ac-48a6-a736-36b290dab657",
   "metadata": {},
   "source": [
    "### income \n",
    "\n",
    "- Sem valores inválidos"
   ]
  },
  {
   "cell_type": "code",
   "execution_count": 74,
   "id": "6f31564a-3f36-4a67-8796-3f1b8e635f9e",
   "metadata": {},
   "outputs": [
    {
     "data": {
      "text/plain": [
       " <=50K    22654\n",
       " >50K      7508\n",
       "Name: income, dtype: int64"
      ]
     },
     "execution_count": 74,
     "metadata": {},
     "output_type": "execute_result"
    }
   ],
   "source": [
    "census['income'].value_counts(dropna = False)"
   ]
  },
  {
   "cell_type": "code",
   "execution_count": 75,
   "id": "06685774-24f5-493d-9dca-34692c0c4462",
   "metadata": {},
   "outputs": [
    {
     "data": {
      "text/plain": [
       "<AxesSubplot:xlabel='income', ylabel='count'>"
      ]
     },
     "execution_count": 75,
     "metadata": {},
     "output_type": "execute_result"
    },
    {
     "data": {
      "image/png": "[encoded data removed]",
      "text/plain": [
       "<Figure size 432x288 with 1 Axes>"
      ]
     },
     "metadata": {
      "needs_background": "light"
     },
     "output_type": "display_data"
    }
   ],
   "source": [
    "sns.countplot(x = census.income)"
   ]
  },
  {
   "cell_type": "markdown",
   "id": "2831d644-ca01-40ce-b229-2d88f4bd8c61",
   "metadata": {},
   "source": [
    "# Base de Dados de Crédito"
   ]
  },
  {
   "cell_type": "code",
   "execution_count": 76,
   "id": "0b95ac1e-18b8-454a-9f56-4bf3c30f4ce8",
   "metadata": {},
   "outputs": [
    {
     "data": {
      "text/html": [
       "<div>\n",
       "<style scoped>\n",
       "    .dataframe tbody tr th:only-of-type {\n",
       "        vertical-align: middle;\n",
       "    }\n",
       "\n",
       "    .dataframe tbody tr th {\n",
       "        vertical-align: top;\n",
       "    }\n",
       "\n",
       "    .dataframe thead th {\n",
       "        text-align: right;\n",
       "    }\n",
       "</style>\n",
       "<table border=\"1\" class=\"dataframe\">\n",
       "  <thead>\n",
       "    <tr style=\"text-align: right;\">\n",
       "      <th></th>\n",
       "      <th>income</th>\n",
       "      <th>age</th>\n",
       "      <th>loan</th>\n",
       "      <th>default</th>\n",
       "    </tr>\n",
       "    <tr>\n",
       "      <th>clientid</th>\n",
       "      <th></th>\n",
       "      <th></th>\n",
       "      <th></th>\n",
       "      <th></th>\n",
       "    </tr>\n",
       "  </thead>\n",
       "  <tbody>\n",
       "    <tr>\n",
       "      <th>1</th>\n",
       "      <td>66155.925095</td>\n",
       "      <td>59.017015</td>\n",
       "      <td>8106.532131</td>\n",
       "      <td>0</td>\n",
       "    </tr>\n",
       "    <tr>\n",
       "      <th>2</th>\n",
       "      <td>34415.153966</td>\n",
       "      <td>48.117153</td>\n",
       "      <td>6564.745018</td>\n",
       "      <td>0</td>\n",
       "    </tr>\n",
       "    <tr>\n",
       "      <th>3</th>\n",
       "      <td>57317.170063</td>\n",
       "      <td>63.108049</td>\n",
       "      <td>8020.953296</td>\n",
       "      <td>0</td>\n",
       "    </tr>\n",
       "    <tr>\n",
       "      <th>4</th>\n",
       "      <td>42709.534201</td>\n",
       "      <td>45.751972</td>\n",
       "      <td>6103.642260</td>\n",
       "      <td>0</td>\n",
       "    </tr>\n",
       "    <tr>\n",
       "      <th>5</th>\n",
       "      <td>66952.688845</td>\n",
       "      <td>18.584336</td>\n",
       "      <td>8770.099235</td>\n",
       "      <td>1</td>\n",
       "    </tr>\n",
       "  </tbody>\n",
       "</table>\n",
       "</div>"
      ],
      "text/plain": [
       "                income        age         loan  default\n",
       "clientid                                               \n",
       "1         66155.925095  59.017015  8106.532131        0\n",
       "2         34415.153966  48.117153  6564.745018        0\n",
       "3         57317.170063  63.108049  8020.953296        0\n",
       "4         42709.534201  45.751972  6103.642260        0\n",
       "5         66952.688845  18.584336  8770.099235        1"
      ]
     },
     "execution_count": 76,
     "metadata": {},
     "output_type": "execute_result"
    }
   ],
   "source": [
    "credit = pd.read_csv('datasets/credit_data.csv', index_col='clientid')\n",
    "credit.head()"
   ]
  },
  {
   "cell_type": "markdown",
   "id": "3ca22563-8b1b-43ce-90b5-e039f4c407e3",
   "metadata": {},
   "source": [
    "## Análise dos Dados\n",
    "\n",
    "- cliente_id - Nonimal (fica fora da previsão)\n",
    "- income - Numérica Contínua\n",
    "- age - Numérica Contínua (neste caso)\n",
    "- loan (dívida) - Numérica Contínua\n",
    "- default - 0 (não pagou) 1 (pagou empréstimo) - Numérica Discreta"
   ]
  },
  {
   "cell_type": "code",
   "execution_count": 77,
   "id": "0be17ea7-00c9-4a7d-afc2-25fe4ddb1985",
   "metadata": {},
   "outputs": [
    {
     "name": "stdout",
     "output_type": "stream",
     "text": [
      "<class 'pandas.core.frame.DataFrame'>\n",
      "Int64Index: 2000 entries, 1 to 2000\n",
      "Data columns (total 4 columns):\n",
      " #   Column   Non-Null Count  Dtype  \n",
      "---  ------   --------------  -----  \n",
      " 0   income   2000 non-null   float64\n",
      " 1   age      1997 non-null   float64\n",
      " 2   loan     2000 non-null   float64\n",
      " 3   default  2000 non-null   int64  \n",
      "dtypes: float64(3), int64(1)\n",
      "memory usage: 78.1 KB\n"
     ]
    }
   ],
   "source": [
    "credit.info()"
   ]
  },
  {
   "cell_type": "markdown",
   "id": "14988c06-5a32-4209-8599-942a68b488a5",
   "metadata": {},
   "source": [
    "## Sumário Estatístico"
   ]
  },
  {
   "cell_type": "code",
   "execution_count": 78,
   "id": "ce72c7d6-31cb-4ae9-9021-7b0d57f64e92",
   "metadata": {},
   "outputs": [
    {
     "data": {
      "text/html": [
       "<div>\n",
       "<style scoped>\n",
       "    .dataframe tbody tr th:only-of-type {\n",
       "        vertical-align: middle;\n",
       "    }\n",
       "\n",
       "    .dataframe tbody tr th {\n",
       "        vertical-align: top;\n",
       "    }\n",
       "\n",
       "    .dataframe thead th {\n",
       "        text-align: right;\n",
       "    }\n",
       "</style>\n",
       "<table border=\"1\" class=\"dataframe\">\n",
       "  <thead>\n",
       "    <tr style=\"text-align: right;\">\n",
       "      <th></th>\n",
       "      <th>income</th>\n",
       "      <th>age</th>\n",
       "      <th>loan</th>\n",
       "      <th>default</th>\n",
       "    </tr>\n",
       "  </thead>\n",
       "  <tbody>\n",
       "    <tr>\n",
       "      <th>count</th>\n",
       "      <td>2000.000000</td>\n",
       "      <td>1997.000000</td>\n",
       "      <td>2000.000000</td>\n",
       "      <td>2000.000000</td>\n",
       "    </tr>\n",
       "    <tr>\n",
       "      <th>mean</th>\n",
       "      <td>45331.600018</td>\n",
       "      <td>40.807559</td>\n",
       "      <td>4444.369695</td>\n",
       "      <td>0.141500</td>\n",
       "    </tr>\n",
       "    <tr>\n",
       "      <th>std</th>\n",
       "      <td>14326.327119</td>\n",
       "      <td>13.624469</td>\n",
       "      <td>3045.410024</td>\n",
       "      <td>0.348624</td>\n",
       "    </tr>\n",
       "    <tr>\n",
       "      <th>min</th>\n",
       "      <td>20014.489470</td>\n",
       "      <td>-52.423280</td>\n",
       "      <td>1.377630</td>\n",
       "      <td>0.000000</td>\n",
       "    </tr>\n",
       "    <tr>\n",
       "      <th>25%</th>\n",
       "      <td>32796.459717</td>\n",
       "      <td>28.990415</td>\n",
       "      <td>1939.708847</td>\n",
       "      <td>0.000000</td>\n",
       "    </tr>\n",
       "    <tr>\n",
       "      <th>50%</th>\n",
       "      <td>45789.117313</td>\n",
       "      <td>41.317159</td>\n",
       "      <td>3974.719419</td>\n",
       "      <td>0.000000</td>\n",
       "    </tr>\n",
       "    <tr>\n",
       "      <th>75%</th>\n",
       "      <td>57791.281668</td>\n",
       "      <td>52.587040</td>\n",
       "      <td>6432.410625</td>\n",
       "      <td>0.000000</td>\n",
       "    </tr>\n",
       "    <tr>\n",
       "      <th>max</th>\n",
       "      <td>69995.685578</td>\n",
       "      <td>63.971796</td>\n",
       "      <td>13766.051239</td>\n",
       "      <td>1.000000</td>\n",
       "    </tr>\n",
       "  </tbody>\n",
       "</table>\n",
       "</div>"
      ],
      "text/plain": [
       "             income          age          loan      default\n",
       "count   2000.000000  1997.000000   2000.000000  2000.000000\n",
       "mean   45331.600018    40.807559   4444.369695     0.141500\n",
       "std    14326.327119    13.624469   3045.410024     0.348624\n",
       "min    20014.489470   -52.423280      1.377630     0.000000\n",
       "25%    32796.459717    28.990415   1939.708847     0.000000\n",
       "50%    45789.117313    41.317159   3974.719419     0.000000\n",
       "75%    57791.281668    52.587040   6432.410625     0.000000\n",
       "max    69995.685578    63.971796  13766.051239     1.000000"
      ]
     },
     "execution_count": 78,
     "metadata": {},
     "output_type": "execute_result"
    }
   ],
   "source": [
    "credit.describe()"
   ]
  },
  {
   "cell_type": "markdown",
   "id": "ab5264e2-ee3a-429d-8d39-83b874510248",
   "metadata": {},
   "source": [
    "## Estudo das Variáveis\n",
    "\n",
    "### income\n",
    "\n",
    "- Sem valores inválidos"
   ]
  },
  {
   "cell_type": "code",
   "execution_count": 81,
   "id": "60c3a624-164b-4a8e-bcc3-b2f1bf783854",
   "metadata": {},
   "outputs": [
    {
     "name": "stdout",
     "output_type": "stream",
     "text": [
      "0 0\n"
     ]
    }
   ],
   "source": [
    "print(credit['income'].isna().sum(),credit['income'].isnull().sum())"
   ]
  },
  {
   "cell_type": "code",
   "execution_count": 82,
   "id": "da67e1e6-bb1e-467b-95f5-ef6b93a9fa77",
   "metadata": {},
   "outputs": [
    {
     "data": {
      "text/plain": [
       "<AxesSubplot:xlabel='income', ylabel='Count'>"
      ]
     },
     "execution_count": 82,
     "metadata": {},
     "output_type": "execute_result"
    },
    {
     "data": {
      "image/png": "[encoded data removed]",
      "text/plain": [
       "<Figure size 432x288 with 1 Axes>"
      ]
     },
     "metadata": {
      "needs_background": "light"
     },
     "output_type": "display_data"
    }
   ],
   "source": [
    "sns.histplot(x = credit.income)"
   ]
  },
  {
   "cell_type": "markdown",
   "id": "92f11822-18eb-4478-8f12-5c1f3ae7e2e0",
   "metadata": {},
   "source": [
    "### age\n",
    "\n",
    "- Valores faltantes\n",
    "- Valores inválidos \n",
    "    - Idade negativa"
   ]
  },
  {
   "cell_type": "code",
   "execution_count": 84,
   "id": "e6846c73-8eef-4356-8b3b-f9f80974ceab",
   "metadata": {},
   "outputs": [
    {
     "data": {
      "text/plain": [
       "count    1997.000000\n",
       "mean       40.807559\n",
       "std        13.624469\n",
       "min       -52.423280\n",
       "25%        28.990415\n",
       "50%        41.317159\n",
       "75%        52.587040\n",
       "max        63.971796\n",
       "Name: age, dtype: float64"
      ]
     },
     "execution_count": 84,
     "metadata": {},
     "output_type": "execute_result"
    }
   ],
   "source": [
    "credit['age'].describe()"
   ]
  },
  {
   "cell_type": "code",
   "execution_count": 86,
   "id": "b54e5765-a549-46e0-bcec-a6a92275f273",
   "metadata": {},
   "outputs": [
    {
     "name": "stdout",
     "output_type": "stream",
     "text": [
      "3 3\n"
     ]
    }
   ],
   "source": [
    "print(credit['age'].isna().sum(), credit['age'].isnull().sum())"
   ]
  },
  {
   "cell_type": "code",
   "execution_count": 87,
   "id": "28a7b044-6caa-48ec-aa37-eb96bc7af0d4",
   "metadata": {},
   "outputs": [
    {
     "data": {
      "text/plain": [
       "<AxesSubplot:xlabel='age', ylabel='Count'>"
      ]
     },
     "execution_count": 87,
     "metadata": {},
     "output_type": "execute_result"
    },
    {
     "data": {
      "image/png": "[encoded data removed]",
      "text/plain": [
       "<Figure size 432x288 with 1 Axes>"
      ]
     },
     "metadata": {
      "needs_background": "light"
     },
     "output_type": "display_data"
    }
   ],
   "source": [
    "sns.histplot(x = credit.age)"
   ]
  },
  {
   "cell_type": "markdown",
   "id": "84b6db44-64e1-40e5-99d6-4741913de863",
   "metadata": {},
   "source": [
    "### loan"
   ]
  },
  {
   "cell_type": "code",
   "execution_count": 90,
   "id": "054d3442-97b7-443e-96b3-6f1c38b7515f",
   "metadata": {},
   "outputs": [
    {
     "name": "stdout",
     "output_type": "stream",
     "text": [
      "0 0\n"
     ]
    }
   ],
   "source": [
    "print(credit['loan'].isna().sum(), credit['loan'].isnull().sum())"
   ]
  },
  {
   "cell_type": "code",
   "execution_count": 91,
   "id": "b6e25d8f-f5a9-4d3c-810b-f670441b821b",
   "metadata": {},
   "outputs": [
    {
     "data": {
      "text/plain": [
       "<AxesSubplot:xlabel='loan', ylabel='Count'>"
      ]
     },
     "execution_count": 91,
     "metadata": {},
     "output_type": "execute_result"
    },
    {
     "data": {
      "image/png": "[encoded data removed]",
      "text/plain": [
       "<Figure size 432x288 with 1 Axes>"
      ]
     },
     "metadata": {
      "needs_background": "light"
     },
     "output_type": "display_data"
    }
   ],
   "source": [
    "sns.histplot(x = credit.loan)"
   ]
  },
  {
   "cell_type": "markdown",
   "id": "d1812e8d-de88-4416-aa73-335e54fd6f93",
   "metadata": {},
   "source": [
    "### default"
   ]
  },
  {
   "cell_type": "code",
   "execution_count": 93,
   "id": "b43a1f59-12db-4bae-9fc5-77e72ede3291",
   "metadata": {},
   "outputs": [
    {
     "data": {
      "text/plain": [
       "0    1717\n",
       "1     283\n",
       "Name: default, dtype: int64"
      ]
     },
     "execution_count": 93,
     "metadata": {},
     "output_type": "execute_result"
    }
   ],
   "source": [
    "credit['default'].value_counts()"
   ]
  },
  {
   "cell_type": "code",
   "execution_count": 96,
   "id": "28001354-ce67-4fc1-af97-b7c28131e18a",
   "metadata": {},
   "outputs": [
    {
     "data": {
      "text/plain": [
       "<AxesSubplot:xlabel='default', ylabel='count'>"
      ]
     },
     "execution_count": 96,
     "metadata": {},
     "output_type": "execute_result"
    },
    {
     "data": {
      "image/png": "[encoded data removed]",
      "text/plain": [
       "<Figure size 432x288 with 1 Axes>"
      ]
     },
     "metadata": {
      "needs_background": "light"
     },
     "output_type": "display_data"
    }
   ],
   "source": [
    "sns.countplot(x = credit.default)"
   ]
  },
  {
   "cell_type": "markdown",
   "id": "4908bbb3-47c2-49ac-8377-d31f13ae0b0e",
   "metadata": {},
   "source": [
    "# Base de Dados de Risco de Crédito"
   ]
  },
  {
   "cell_type": "code",
   "execution_count": 97,
   "id": "16ee8b0a-8064-4328-be0f-eab8e3358280",
   "metadata": {},
   "outputs": [
    {
     "data": {
      "text/html": [
       "<div>\n",
       "<style scoped>\n",
       "    .dataframe tbody tr th:only-of-type {\n",
       "        vertical-align: middle;\n",
       "    }\n",
       "\n",
       "    .dataframe tbody tr th {\n",
       "        vertical-align: top;\n",
       "    }\n",
       "\n",
       "    .dataframe thead th {\n",
       "        text-align: right;\n",
       "    }\n",
       "</style>\n",
       "<table border=\"1\" class=\"dataframe\">\n",
       "  <thead>\n",
       "    <tr style=\"text-align: right;\">\n",
       "      <th></th>\n",
       "      <th>historia</th>\n",
       "      <th>divida</th>\n",
       "      <th>garantias</th>\n",
       "      <th>renda</th>\n",
       "      <th>risco</th>\n",
       "    </tr>\n",
       "  </thead>\n",
       "  <tbody>\n",
       "    <tr>\n",
       "      <th>0</th>\n",
       "      <td>ruim</td>\n",
       "      <td>alta</td>\n",
       "      <td>nenhuma</td>\n",
       "      <td>0_15</td>\n",
       "      <td>alto</td>\n",
       "    </tr>\n",
       "    <tr>\n",
       "      <th>1</th>\n",
       "      <td>desconhecida</td>\n",
       "      <td>alta</td>\n",
       "      <td>nenhuma</td>\n",
       "      <td>15_35</td>\n",
       "      <td>alto</td>\n",
       "    </tr>\n",
       "    <tr>\n",
       "      <th>2</th>\n",
       "      <td>desconhecida</td>\n",
       "      <td>baixa</td>\n",
       "      <td>nenhuma</td>\n",
       "      <td>15_35</td>\n",
       "      <td>moderado</td>\n",
       "    </tr>\n",
       "    <tr>\n",
       "      <th>3</th>\n",
       "      <td>desconhecida</td>\n",
       "      <td>baixa</td>\n",
       "      <td>nenhuma</td>\n",
       "      <td>acima_35</td>\n",
       "      <td>alto</td>\n",
       "    </tr>\n",
       "    <tr>\n",
       "      <th>4</th>\n",
       "      <td>desconhecida</td>\n",
       "      <td>baixa</td>\n",
       "      <td>nenhuma</td>\n",
       "      <td>acima_35</td>\n",
       "      <td>baixo</td>\n",
       "    </tr>\n",
       "  </tbody>\n",
       "</table>\n",
       "</div>"
      ],
      "text/plain": [
       "       historia divida garantias     renda     risco\n",
       "0          ruim   alta   nenhuma      0_15      alto\n",
       "1  desconhecida   alta   nenhuma     15_35      alto\n",
       "2  desconhecida  baixa   nenhuma     15_35  moderado\n",
       "3  desconhecida  baixa   nenhuma  acima_35      alto\n",
       "4  desconhecida  baixa   nenhuma  acima_35     baixo"
      ]
     },
     "execution_count": 97,
     "metadata": {},
     "output_type": "execute_result"
    }
   ],
   "source": [
    "risco = pd.read_csv('datasets/risco_credito.csv')\n",
    "risco.head()"
   ]
  },
  {
   "cell_type": "markdown",
   "id": "89835220-044b-4660-b04d-9b3c75b62f05",
   "metadata": {},
   "source": [
    "## Análise dos Dados\n",
    "\n",
    "- história - Categórica Nominal\n",
    "- divida - Categórica Ordinal\n",
    "- garandias - Categórica Nominal\n",
    "- renda - Categórica Ordinal\n",
    "- risco - Categórica Ordinal"
   ]
  },
  {
   "cell_type": "code",
   "execution_count": 98,
   "id": "451fbc75-9ab8-4b90-b6d5-835082e0d860",
   "metadata": {},
   "outputs": [
    {
     "name": "stdout",
     "output_type": "stream",
     "text": [
      "<class 'pandas.core.frame.DataFrame'>\n",
      "RangeIndex: 14 entries, 0 to 13\n",
      "Data columns (total 5 columns):\n",
      " #   Column     Non-Null Count  Dtype \n",
      "---  ------     --------------  ----- \n",
      " 0   historia   14 non-null     object\n",
      " 1   divida     14 non-null     object\n",
      " 2   garantias  14 non-null     object\n",
      " 3   renda      14 non-null     object\n",
      " 4   risco      14 non-null     object\n",
      "dtypes: object(5)\n",
      "memory usage: 688.0+ bytes\n"
     ]
    }
   ],
   "source": [
    "risco.info()"
   ]
  },
  {
   "cell_type": "markdown",
   "id": "7b3c1283-dd44-4b1d-9a45-21602b5a41ef",
   "metadata": {},
   "source": [
    "## Sumário Estatístico"
   ]
  },
  {
   "cell_type": "code",
   "execution_count": 99,
   "id": "f4b6ba6f-f18b-4814-bcb5-b79dfd5733b9",
   "metadata": {},
   "outputs": [
    {
     "data": {
      "text/html": [
       "<div>\n",
       "<style scoped>\n",
       "    .dataframe tbody tr th:only-of-type {\n",
       "        vertical-align: middle;\n",
       "    }\n",
       "\n",
       "    .dataframe tbody tr th {\n",
       "        vertical-align: top;\n",
       "    }\n",
       "\n",
       "    .dataframe thead th {\n",
       "        text-align: right;\n",
       "    }\n",
       "</style>\n",
       "<table border=\"1\" class=\"dataframe\">\n",
       "  <thead>\n",
       "    <tr style=\"text-align: right;\">\n",
       "      <th></th>\n",
       "      <th>historia</th>\n",
       "      <th>divida</th>\n",
       "      <th>garantias</th>\n",
       "      <th>renda</th>\n",
       "      <th>risco</th>\n",
       "    </tr>\n",
       "  </thead>\n",
       "  <tbody>\n",
       "    <tr>\n",
       "      <th>count</th>\n",
       "      <td>14</td>\n",
       "      <td>14</td>\n",
       "      <td>14</td>\n",
       "      <td>14</td>\n",
       "      <td>14</td>\n",
       "    </tr>\n",
       "    <tr>\n",
       "      <th>unique</th>\n",
       "      <td>3</td>\n",
       "      <td>2</td>\n",
       "      <td>2</td>\n",
       "      <td>3</td>\n",
       "      <td>3</td>\n",
       "    </tr>\n",
       "    <tr>\n",
       "      <th>top</th>\n",
       "      <td>desconhecida</td>\n",
       "      <td>alta</td>\n",
       "      <td>nenhuma</td>\n",
       "      <td>acima_35</td>\n",
       "      <td>alto</td>\n",
       "    </tr>\n",
       "    <tr>\n",
       "      <th>freq</th>\n",
       "      <td>5</td>\n",
       "      <td>7</td>\n",
       "      <td>11</td>\n",
       "      <td>7</td>\n",
       "      <td>6</td>\n",
       "    </tr>\n",
       "  </tbody>\n",
       "</table>\n",
       "</div>"
      ],
      "text/plain": [
       "            historia divida garantias     renda risco\n",
       "count             14     14        14        14    14\n",
       "unique             3      2         2         3     3\n",
       "top     desconhecida   alta   nenhuma  acima_35  alto\n",
       "freq               5      7        11         7     6"
      ]
     },
     "execution_count": 99,
     "metadata": {},
     "output_type": "execute_result"
    }
   ],
   "source": [
    "risco.describe()"
   ]
  },
  {
   "cell_type": "markdown",
   "id": "3efab40d-3f2a-44a8-9b98-717bae6262ab",
   "metadata": {},
   "source": [
    "## Estudo das Variáveis\n",
    "\n",
    "### historia"
   ]
  },
  {
   "cell_type": "code",
   "execution_count": 102,
   "id": "e39ecf4b-4aed-42e9-afad-72c3dfd8d62c",
   "metadata": {},
   "outputs": [
    {
     "data": {
      "text/plain": [
       "desconhecida    5\n",
       "boa             5\n",
       "ruim            4\n",
       "Name: historia, dtype: int64"
      ]
     },
     "execution_count": 102,
     "metadata": {},
     "output_type": "execute_result"
    }
   ],
   "source": [
    "risco['historia'].value_counts(dropna = False)"
   ]
  },
  {
   "cell_type": "code",
   "execution_count": 103,
   "id": "5edf9b0b-c52d-43e0-ace8-51b73d53d2c7",
   "metadata": {},
   "outputs": [
    {
     "data": {
      "text/plain": [
       "<AxesSubplot:xlabel='historia', ylabel='count'>"
      ]
     },
     "execution_count": 103,
     "metadata": {},
     "output_type": "execute_result"
    },
    {
     "data": {
      "image/png": "[encoded data removed]",
      "text/plain": [
       "<Figure size 432x288 with 1 Axes>"
      ]
     },
     "metadata": {
      "needs_background": "light"
     },
     "output_type": "display_data"
    }
   ],
   "source": [
    "sns.countplot(x = risco.historia)"
   ]
  },
  {
   "cell_type": "markdown",
   "id": "614d439e-bfe7-4e82-9e01-988a8cd41f6f",
   "metadata": {},
   "source": [
    "### divida"
   ]
  },
  {
   "cell_type": "code",
   "execution_count": 104,
   "id": "1c50f08d-422c-4199-a690-db0a6f83b6b3",
   "metadata": {},
   "outputs": [
    {
     "data": {
      "text/plain": [
       "alta     7\n",
       "baixa    7\n",
       "Name: divida, dtype: int64"
      ]
     },
     "execution_count": 104,
     "metadata": {},
     "output_type": "execute_result"
    }
   ],
   "source": [
    "risco['divida'].value_counts(dropna = False)"
   ]
  },
  {
   "cell_type": "code",
   "execution_count": 105,
   "id": "a0d419f2-2375-41ab-a9b9-2a9cbccb91cd",
   "metadata": {},
   "outputs": [
    {
     "data": {
      "text/plain": [
       "<AxesSubplot:xlabel='divida', ylabel='count'>"
      ]
     },
     "execution_count": 105,
     "metadata": {},
     "output_type": "execute_result"
    },
    {
     "data": {
      "image/png": "[encoded data removed]",
      "text/plain": [
       "<Figure size 432x288 with 1 Axes>"
      ]
     },
     "metadata": {
      "needs_background": "light"
     },
     "output_type": "display_data"
    }
   ],
   "source": [
    "sns.countplot(x = risco.divida)"
   ]
  },
  {
   "cell_type": "markdown",
   "id": "503edd26-bf6c-4a10-923f-f9f1cc3d7556",
   "metadata": {},
   "source": [
    "### garantias"
   ]
  },
  {
   "cell_type": "code",
   "execution_count": 106,
   "id": "665bf32d-3a40-4cee-8bb8-45c737b561c5",
   "metadata": {},
   "outputs": [
    {
     "data": {
      "text/plain": [
       "nenhuma     11\n",
       "adequada     3\n",
       "Name: garantias, dtype: int64"
      ]
     },
     "execution_count": 106,
     "metadata": {},
     "output_type": "execute_result"
    }
   ],
   "source": [
    "risco['garantias'].value_counts(dropna = False)"
   ]
  },
  {
   "cell_type": "code",
   "execution_count": 107,
   "id": "039a750d-e4e1-41f6-968d-b2056e87b2ff",
   "metadata": {},
   "outputs": [
    {
     "data": {
      "text/plain": [
       "<AxesSubplot:xlabel='garantias', ylabel='count'>"
      ]
     },
     "execution_count": 107,
     "metadata": {},
     "output_type": "execute_result"
    },
    {
     "data": {
      "image/png": "[encoded data removed]",
      "text/plain": [
       "<Figure size 432x288 with 1 Axes>"
      ]
     },
     "metadata": {
      "needs_background": "light"
     },
     "output_type": "display_data"
    }
   ],
   "source": [
    "sns.countplot(x = risco.garantias)"
   ]
  },
  {
   "cell_type": "markdown",
   "id": "ea93ab73-c979-4a1f-ae03-806407e4b441",
   "metadata": {},
   "source": [
    "### renda"
   ]
  },
  {
   "cell_type": "code",
   "execution_count": 104,
   "id": "386d27c0-1c2e-4b99-bb24-4cff20dd1975",
   "metadata": {},
   "outputs": [
    {
     "data": {
      "text/plain": [
       "alta     7\n",
       "baixa    7\n",
       "Name: divida, dtype: int64"
      ]
     },
     "execution_count": 104,
     "metadata": {},
     "output_type": "execute_result"
    }
   ],
   "source": [
    "risco['renda'].value_counts(dropna = False)"
   ]
  },
  {
   "cell_type": "code",
   "execution_count": 108,
   "id": "be7b4474-243e-4f9f-bb68-1cce01cd9020",
   "metadata": {},
   "outputs": [
    {
     "data": {
      "text/plain": [
       "<AxesSubplot:xlabel='renda', ylabel='count'>"
      ]
     },
     "execution_count": 108,
     "metadata": {},
     "output_type": "execute_result"
    },
    {
     "data": {
      "image/png": "[encoded data removed]",
      "text/plain": [
       "<Figure size 432x288 with 1 Axes>"
      ]
     },
     "metadata": {
      "needs_background": "light"
     },
     "output_type": "display_data"
    }
   ],
   "source": [
    "sns.countplot(x = risco.renda)"
   ]
  },
  {
   "cell_type": "markdown",
   "id": "085b8b0a-7651-4ba9-b2ba-0167dc7c16cb",
   "metadata": {},
   "source": [
    "### risco"
   ]
  },
  {
   "cell_type": "code",
   "execution_count": 110,
   "id": "ccd8454d-6d0f-456a-a8e0-e1864b91a87e",
   "metadata": {},
   "outputs": [
    {
     "data": {
      "text/plain": [
       "alto        6\n",
       "baixo       5\n",
       "moderado    3\n",
       "Name: risco, dtype: int64"
      ]
     },
     "execution_count": 110,
     "metadata": {},
     "output_type": "execute_result"
    }
   ],
   "source": [
    "risco['risco'].value_counts(dropna = False)"
   ]
  },
  {
   "cell_type": "code",
   "execution_count": 109,
   "id": "6a107bbc-31e7-4925-9192-b9ad78d47e1c",
   "metadata": {},
   "outputs": [
    {
     "data": {
      "text/plain": [
       "<AxesSubplot:xlabel='risco', ylabel='count'>"
      ]
     },
     "execution_count": 109,
     "metadata": {},
     "output_type": "execute_result"
    },
    {
     "data": {
      "image/png": "[encoded data removed]",
      "text/plain": [
       "<Figure size 432x288 with 1 Axes>"
      ]
     },
     "metadata": {
      "needs_background": "light"
     },
     "output_type": "display_data"
    }
   ],
   "source": [
    "sns.countplot(x = risco.risco)"
   ]
  }
 ],
 "metadata": {
  "kernelspec": {
   "display_name": "Python 3",
   "language": "python",
   "name": "python3"
  },
  "language_info": {
   "codemirror_mode": {
    "name": "ipython",
    "version": 3
   },
   "file_extension": ".py",
   "mimetype": "text/x-python",
   "name": "python",
   "nbconvert_exporter": "python",
   "pygments_lexer": "ipython3",
   "version": "3.9.7"
  },
  "toc-autonumbering": true
 },
 "nbformat": 4,
 "nbformat_minor": 5
}
