{
 "cells": [
  {
   "cell_type": "markdown",
   "id": "20111e7e-f64d-479a-ae11-d66e11e1cee5",
   "metadata": {},
   "source": [
    "# Census"
   ]
  },
  {
   "cell_type": "markdown",
   "id": "8f786124-445c-4d62-9286-38da7e00ec5c",
   "metadata": {},
   "source": [
    "## Carregando as bibliotecas"
   ]
  },
  {
   "cell_type": "code",
   "execution_count": 2,
   "id": "01d0c2ba-3fdd-4b52-b70d-dfec584f48a6",
   "metadata": {},
   "outputs": [],
   "source": [
    "library(repr)\n",
    "options(repr.plot.width= 8, repr.plot.height= 8)"
   ]
  },
  {
   "cell_type": "markdown",
   "id": "14ea7d1a-9bd9-4cf7-b008-24411ddeaaac",
   "metadata": {},
   "source": [
    "## Carregando o DataFrame "
   ]
  },
  {
   "cell_type": "code",
   "execution_count": 3,
   "id": "1dba5929-1f9f-4d8e-ac66-f6f03e132f19",
   "metadata": {},
   "outputs": [
    {
     "data": {
      "text/html": [
       "<table>\n",
       "<thead><tr><th scope=col>X</th><th scope=col>age</th><th scope=col>workclass</th><th scope=col>final.weight</th><th scope=col>education</th><th scope=col>education.num</th><th scope=col>marital.status</th><th scope=col>occupation</th><th scope=col>relationship</th><th scope=col>race</th><th scope=col>sex</th><th scope=col>capital.gain</th><th scope=col>capital.loos</th><th scope=col>hour.per.week</th><th scope=col>native.country</th><th scope=col>income</th></tr></thead>\n",
       "<tbody>\n",
       "\t<tr><td>1                                                          </td><td>39                                                         </td><td><span style=white-space:pre-wrap> State-gov       </span>  </td><td> 77516                                                     </td><td> Bachelors                                                 </td><td>13                                                         </td><td><span style=white-space:pre-wrap> Never-married     </span></td><td><span style=white-space:pre-wrap> Adm-clerical     </span> </td><td> Not-in-family                                             </td><td> White                                                     </td><td><span style=white-space:pre-wrap> Male  </span>            </td><td>2174                                                       </td><td>0                                                          </td><td>40                                                         </td><td> United-States                                             </td><td> &lt;=50K                                                  </td></tr>\n",
       "\t<tr><td>2                                                         </td><td>50                                                        </td><td> Self-emp-not-inc                                         </td><td> 83311                                                    </td><td> Bachelors                                                </td><td>13                                                        </td><td> Married-civ-spouse                                       </td><td><span style=white-space:pre-wrap> Exec-managerial  </span></td><td><span style=white-space:pre-wrap> Husband      </span>    </td><td> White                                                    </td><td><span style=white-space:pre-wrap> Male  </span>           </td><td><span style=white-space:pre-wrap>   0</span>              </td><td>0                                                         </td><td>13                                                        </td><td> United-States                                            </td><td> &lt;=50K                                                 </td></tr>\n",
       "\t<tr><td>3                                                          </td><td>38                                                         </td><td><span style=white-space:pre-wrap> Private         </span>  </td><td>215646                                                     </td><td><span style=white-space:pre-wrap> HS-grad  </span>         </td><td> 9                                                         </td><td><span style=white-space:pre-wrap> Divorced          </span></td><td> Handlers-cleaners                                         </td><td> Not-in-family                                             </td><td> White                                                     </td><td><span style=white-space:pre-wrap> Male  </span>            </td><td><span style=white-space:pre-wrap>   0</span>               </td><td>0                                                          </td><td>40                                                         </td><td> United-States                                             </td><td> &lt;=50K                                                  </td></tr>\n",
       "\t<tr><td>4                                                        </td><td>53                                                       </td><td><span style=white-space:pre-wrap> Private         </span></td><td>234721                                                   </td><td><span style=white-space:pre-wrap> 11th     </span>       </td><td> 7                                                       </td><td> Married-civ-spouse                                      </td><td> Handlers-cleaners                                       </td><td><span style=white-space:pre-wrap> Husband      </span>   </td><td> Black                                                   </td><td><span style=white-space:pre-wrap> Male  </span>          </td><td><span style=white-space:pre-wrap>   0</span>             </td><td>0                                                        </td><td>40                                                       </td><td> United-States                                           </td><td> &lt;=50K                                                </td></tr>\n",
       "\t<tr><td>5                                                         </td><td>28                                                        </td><td><span style=white-space:pre-wrap> Private         </span> </td><td>338409                                                    </td><td> Bachelors                                                </td><td>13                                                        </td><td> Married-civ-spouse                                       </td><td><span style=white-space:pre-wrap> Prof-specialty   </span></td><td><span style=white-space:pre-wrap> Wife         </span>    </td><td> Black                                                    </td><td> Female                                                   </td><td><span style=white-space:pre-wrap>   0</span>              </td><td>0                                                         </td><td>40                                                        </td><td><span style=white-space:pre-wrap> Cuba         </span>    </td><td> &lt;=50K                                                 </td></tr>\n",
       "\t<tr><td>6                                                         </td><td>37                                                        </td><td><span style=white-space:pre-wrap> Private         </span> </td><td>284582                                                    </td><td><span style=white-space:pre-wrap> Masters  </span>        </td><td>14                                                        </td><td> Married-civ-spouse                                       </td><td><span style=white-space:pre-wrap> Exec-managerial  </span></td><td><span style=white-space:pre-wrap> Wife         </span>    </td><td> White                                                    </td><td> Female                                                   </td><td><span style=white-space:pre-wrap>   0</span>              </td><td>0                                                         </td><td>40                                                        </td><td> United-States                                            </td><td> &lt;=50K                                                 </td></tr>\n",
       "</tbody>\n",
       "</table>\n"
      ],
      "text/latex": [
       "\\begin{tabular}{r|llllllllllllllll}\n",
       " X & age & workclass & final.weight & education & education.num & marital.status & occupation & relationship & race & sex & capital.gain & capital.loos & hour.per.week & native.country & income\\\\\n",
       "\\hline\n",
       "\t 1                   & 39                  &  State-gov          &  77516              &  Bachelors          & 13                  &  Never-married      &  Adm-clerical       &  Not-in-family      &  White              &  Male               & 2174                & 0                   & 40                  &  United-States      &  <=50K             \\\\\n",
       "\t 2                   & 50                  &  Self-emp-not-inc   &  83311              &  Bachelors          & 13                  &  Married-civ-spouse &  Exec-managerial    &  Husband            &  White              &  Male               &    0                & 0                   & 13                  &  United-States      &  <=50K             \\\\\n",
       "\t 3                   & 38                  &  Private            & 215646              &  HS-grad            &  9                  &  Divorced           &  Handlers-cleaners  &  Not-in-family      &  White              &  Male               &    0                & 0                   & 40                  &  United-States      &  <=50K             \\\\\n",
       "\t 4                   & 53                  &  Private            & 234721              &  11th               &  7                  &  Married-civ-spouse &  Handlers-cleaners  &  Husband            &  Black              &  Male               &    0                & 0                   & 40                  &  United-States      &  <=50K             \\\\\n",
       "\t 5                   & 28                  &  Private            & 338409              &  Bachelors          & 13                  &  Married-civ-spouse &  Prof-specialty     &  Wife               &  Black              &  Female             &    0                & 0                   & 40                  &  Cuba               &  <=50K             \\\\\n",
       "\t 6                   & 37                  &  Private            & 284582              &  Masters            & 14                  &  Married-civ-spouse &  Exec-managerial    &  Wife               &  White              &  Female             &    0                & 0                   & 40                  &  United-States      &  <=50K             \\\\\n",
       "\\end{tabular}\n"
      ],
      "text/markdown": [
       "\n",
       "| X | age | workclass | final.weight | education | education.num | marital.status | occupation | relationship | race | sex | capital.gain | capital.loos | hour.per.week | native.country | income |\n",
       "|---|---|---|---|---|---|---|---|---|---|---|---|---|---|---|---|\n",
       "| 1                   | 39                  |  State-gov          |  77516              |  Bachelors          | 13                  |  Never-married      |  Adm-clerical       |  Not-in-family      |  White              |  Male               | 2174                | 0                   | 40                  |  United-States      |  <=50K              |\n",
       "| 2                   | 50                  |  Self-emp-not-inc   |  83311              |  Bachelors          | 13                  |  Married-civ-spouse |  Exec-managerial    |  Husband            |  White              |  Male               |    0                | 0                   | 13                  |  United-States      |  <=50K              |\n",
       "| 3                   | 38                  |  Private            | 215646              |  HS-grad            |  9                  |  Divorced           |  Handlers-cleaners  |  Not-in-family      |  White              |  Male               |    0                | 0                   | 40                  |  United-States      |  <=50K              |\n",
       "| 4                   | 53                  |  Private            | 234721              |  11th               |  7                  |  Married-civ-spouse |  Handlers-cleaners  |  Husband            |  Black              |  Male               |    0                | 0                   | 40                  |  United-States      |  <=50K              |\n",
       "| 5                   | 28                  |  Private            | 338409              |  Bachelors          | 13                  |  Married-civ-spouse |  Prof-specialty     |  Wife               |  Black              |  Female             |    0                | 0                   | 40                  |  Cuba               |  <=50K              |\n",
       "| 6                   | 37                  |  Private            | 284582              |  Masters            | 14                  |  Married-civ-spouse |  Exec-managerial    |  Wife               |  White              |  Female             |    0                | 0                   | 40                  |  United-States      |  <=50K              |\n",
       "\n"
      ],
      "text/plain": [
       "  X age workclass         final.weight education  education.num\n",
       "1 1 39   State-gov         77516        Bachelors 13           \n",
       "2 2 50   Self-emp-not-inc  83311        Bachelors 13           \n",
       "3 3 38   Private          215646        HS-grad    9           \n",
       "4 4 53   Private          234721        11th       7           \n",
       "5 5 28   Private          338409        Bachelors 13           \n",
       "6 6 37   Private          284582        Masters   14           \n",
       "  marital.status      occupation         relationship   race   sex    \n",
       "1  Never-married       Adm-clerical       Not-in-family  White  Male  \n",
       "2  Married-civ-spouse  Exec-managerial    Husband        White  Male  \n",
       "3  Divorced            Handlers-cleaners  Not-in-family  White  Male  \n",
       "4  Married-civ-spouse  Handlers-cleaners  Husband        Black  Male  \n",
       "5  Married-civ-spouse  Prof-specialty     Wife           Black  Female\n",
       "6  Married-civ-spouse  Exec-managerial    Wife           White  Female\n",
       "  capital.gain capital.loos hour.per.week native.country income\n",
       "1 2174         0            40             United-States  <=50K\n",
       "2    0         0            13             United-States  <=50K\n",
       "3    0         0            40             United-States  <=50K\n",
       "4    0         0            40             United-States  <=50K\n",
       "5    0         0            40             Cuba           <=50K\n",
       "6    0         0            40             United-States  <=50K"
      ]
     },
     "metadata": {},
     "output_type": "display_data"
    }
   ],
   "source": [
    "census <- read.csv(\"../datasets/census.csv\")\n",
    "head(census)"
   ]
  },
  {
   "cell_type": "markdown",
   "id": "6008199b-cc6f-4dc1-ad9c-5758cef62f61",
   "metadata": {},
   "source": [
    "## Tipo de Dados\n",
    "\n",
    "- Unnamed: 0 - Numérico Discreto (Sem utilidade)\n",
    "- age (idade)- Numérico Discreto\n",
    "- wordclass (tipo de emprego) - Categórico Nominal\n",
    "- final.weight (peso final) - Numérico contínuo\n",
    "- education (educação)- Categórica Ordinal\n",
    "- education.num (anos de estudos) - Numérico Discreto\n",
    "- marital.status (estado civil) - CCategórica Nominal\n",
    "- occupation (trabalho) - Categórica Nominal\n",
    "- relationship (relação)  - Categórica Nominal\n",
    "- race (raça) - Categórica Nominal\n",
    "- sex (sexo) - Categórica Nominal\n",
    "- capital.gain (ganho de capital) - Numérica Contínua\n",
    "- capital.loss (perda de capital) - Numérica Contínua\n",
    "- hours.week (horas da semana) - Numética Discreta\n",
    "- native.country (pais de origem) - Categórica Nominal\n",
    "- income (renda anual) - Classe Alvo - Categórica Ordinal"
   ]
  },
  {
   "cell_type": "code",
   "execution_count": 4,
   "id": "07c8156f-c98a-42f3-bd1d-da99a9624df9",
   "metadata": {},
   "outputs": [
    {
     "name": "stdout",
     "output_type": "stream",
     "text": [
      "'data.frame':\t30162 obs. of  16 variables:\n",
      " $ X             : int  1 2 3 4 5 6 7 8 9 10 ...\n",
      " $ age           : int  39 50 38 53 28 37 49 52 31 42 ...\n",
      " $ workclass     : Factor w/ 7 levels \" Federal-gov\",..: 6 5 3 3 3 3 3 5 3 3 ...\n",
      " $ final.weight  : int  77516 83311 215646 234721 338409 284582 160187 209642 45781 159449 ...\n",
      " $ education     : Factor w/ 16 levels \" 10th\",\" 11th\",..: 10 10 12 2 10 13 7 12 13 10 ...\n",
      " $ education.num : int  13 13 9 7 13 14 5 9 14 13 ...\n",
      " $ marital.status: Factor w/ 7 levels \" Divorced\",\" Married-AF-spouse\",..: 5 3 1 3 3 3 4 3 5 3 ...\n",
      " $ occupation    : Factor w/ 14 levels \" Adm-clerical\",..: 1 4 6 6 10 4 8 4 10 4 ...\n",
      " $ relationship  : Factor w/ 6 levels \" Husband\",\" Not-in-family\",..: 2 1 2 1 6 6 2 1 2 1 ...\n",
      " $ race          : Factor w/ 5 levels \" Amer-Indian-Eskimo\",..: 5 5 5 3 3 5 3 5 5 5 ...\n",
      " $ sex           : Factor w/ 2 levels \" Female\",\" Male\": 2 2 2 2 1 1 1 2 1 2 ...\n",
      " $ capital.gain  : int  2174 0 0 0 0 0 0 0 14084 5178 ...\n",
      " $ capital.loos  : int  0 0 0 0 0 0 0 0 0 0 ...\n",
      " $ hour.per.week : int  40 13 40 40 40 40 16 45 50 40 ...\n",
      " $ native.country: Factor w/ 41 levels \" Cambodia\",\" Canada\",..: 39 39 39 39 5 39 23 39 39 39 ...\n",
      " $ income        : Factor w/ 2 levels \" <=50K\",\" >50K\": 1 1 1 1 1 1 1 2 2 2 ...\n"
     ]
    }
   ],
   "source": [
    "str(census)"
   ]
  },
  {
   "cell_type": "markdown",
   "id": "d03e182d-e146-40c3-b1a8-6426a502fdcb",
   "metadata": {},
   "source": [
    "## Sumário Estatístico"
   ]
  },
  {
   "cell_type": "code",
   "execution_count": 5,
   "id": "add8889d-d1da-49e8-acc3-bcbb7c0bfca0",
   "metadata": {},
   "outputs": [
    {
     "data": {
      "text/plain": [
       "       X              age                    workclass      final.weight    \n",
       " Min.   :    1   Min.   :17.00    Federal-gov     :  943   Min.   :  13769  \n",
       " 1st Qu.: 8179   1st Qu.:28.00    Local-gov       : 2067   1st Qu.: 117627  \n",
       " Median :16286   Median :37.00    Private         :22286   Median : 178425  \n",
       " Mean   :16288   Mean   :38.44    Self-emp-inc    : 1074   Mean   : 189794  \n",
       " 3rd Qu.:24403   3rd Qu.:47.00    Self-emp-not-inc: 2499   3rd Qu.: 237629  \n",
       " Max.   :32561   Max.   :90.00    State-gov       : 1279   Max.   :1484705  \n",
       "                                  Without-pay     :   14                    \n",
       "         education    education.num                  marital.status \n",
       "  HS-grad     :9840   Min.   : 1.00    Divorced             : 4214  \n",
       "  Some-college:6678   1st Qu.: 9.00    Married-AF-spouse    :   21  \n",
       "  Bachelors   :5044   Median :10.00    Married-civ-spouse   :14065  \n",
       "  Masters     :1627   Mean   :10.12    Married-spouse-absent:  370  \n",
       "  Assoc-voc   :1307   3rd Qu.:13.00    Never-married        : 9726  \n",
       "  11th        :1048   Max.   :16.00    Separated            :  939  \n",
       " (Other)      :4618                    Widowed              :  827  \n",
       "            occupation            relationship                    race      \n",
       "  Prof-specialty :4038    Husband       :12463    Amer-Indian-Eskimo:  286  \n",
       "  Craft-repair   :4030    Not-in-family : 7726    Asian-Pac-Islander:  895  \n",
       "  Exec-managerial:3992    Other-relative:  889    Black             : 2817  \n",
       "  Adm-clerical   :3721    Own-child     : 4466    Other             :  231  \n",
       "  Sales          :3584    Unmarried     : 3212    White             :25933  \n",
       "  Other-service  :3212    Wife          : 1406                              \n",
       " (Other)         :7585                                                      \n",
       "      sex         capital.gain    capital.loos     hour.per.week  \n",
       "  Female: 9782   Min.   :    0   Min.   :   0.00   Min.   : 1.00  \n",
       "  Male  :20380   1st Qu.:    0   1st Qu.:   0.00   1st Qu.:40.00  \n",
       "                 Median :    0   Median :   0.00   Median :40.00  \n",
       "                 Mean   : 1092   Mean   :  88.37   Mean   :40.93  \n",
       "                 3rd Qu.:    0   3rd Qu.:   0.00   3rd Qu.:45.00  \n",
       "                 Max.   :99999   Max.   :4356.00   Max.   :99.00  \n",
       "                                                                  \n",
       "        native.country     income     \n",
       "  United-States:27504    <=50K:22654  \n",
       "  Mexico       :  610    >50K : 7508  \n",
       "  Philippines  :  188                 \n",
       "  Germany      :  128                 \n",
       "  Puerto-Rico  :  109                 \n",
       "  Canada       :  107                 \n",
       " (Other)       : 1516                 "
      ]
     },
     "metadata": {},
     "output_type": "display_data"
    }
   ],
   "source": [
    "summary(census)"
   ]
  },
  {
   "cell_type": "markdown",
   "id": "989d33dd-47cf-46e2-b329-add1dfbc3b7f",
   "metadata": {},
   "source": [
    "## Estudo das Variáveis\n",
    "\n",
    "### age\n",
    "\n",
    "- Sem valores inválidos"
   ]
  },
  {
   "cell_type": "code",
   "execution_count": 6,
   "id": "00a24a26-ed73-4428-9c9c-47b06d99e4ff",
   "metadata": {},
   "outputs": [
    {
     "data": {
      "text/plain": [
       "   Min. 1st Qu.  Median    Mean 3rd Qu.    Max. \n",
       "  17.00   28.00   37.00   38.44   47.00   90.00 "
      ]
     },
     "metadata": {},
     "output_type": "display_data"
    }
   ],
   "source": [
    "summary(census$age)"
   ]
  },
  {
   "cell_type": "code",
   "execution_count": 7,
   "id": "05332a39-c1c3-4edc-9b54-027887bf0828",
   "metadata": {},
   "outputs": [
    {
     "data": {
      "text/plain": [
       "< table of extent 0 >"
      ]
     },
     "metadata": {},
     "output_type": "display_data"
    }
   ],
   "source": [
    "table(census[is.na(census$age),]$age)"
   ]
  },
  {
   "cell_type": "code",
   "execution_count": 8,
   "id": "4d1493d3-3dc5-4d7e-80b7-cec9c2670ed0",
   "metadata": {},
   "outputs": [
    {
     "data": {
      "image/png": "[encoded data removed]",
      "text/plain": [
       "Plot with title \"Histogram of census[census$income == \" <=50K\", \"age\"]\""
      ]
     },
     "metadata": {},
     "output_type": "display_data"
    }
   ],
   "source": [
    "# Idade por cada renda anual\n",
    "hist(\n",
    "    census[census$income == ' <=50K', 'age'],\n",
    "    col = 'Blue'\n",
    ")\n",
    "hist(\n",
    "    census[census$income != ' <=50K', 'age'],\n",
    "    add = T,\n",
    "    col = 'Red'\n",
    ")"
   ]
  },
  {
   "cell_type": "markdown",
   "id": "bc028361-0b71-482a-9afd-78ecb96c85b3",
   "metadata": {},
   "source": [
    "### workclass\n",
    "\n",
    "- Sem valores Inválidos"
   ]
  },
  {
   "cell_type": "code",
   "execution_count": 9,
   "id": "1139ebfa-966a-471d-99ab-2b6c84293c21",
   "metadata": {},
   "outputs": [
    {
     "data": {
      "text/plain": [
       "\n",
       "      Federal-gov         Local-gov           Private      Self-emp-inc \n",
       "              943              2067             22286              1074 \n",
       " Self-emp-not-inc         State-gov       Without-pay \n",
       "             2499              1279                14 "
      ]
     },
     "metadata": {},
     "output_type": "display_data"
    }
   ],
   "source": [
    "table(census$workclass, useNA = 'ifany')"
   ]
  },
  {
   "cell_type": "code",
   "execution_count": 10,
   "id": "332ec6f1-7c77-4474-9636-3800b5d8e39d",
   "metadata": {},
   "outputs": [
    {
     "data": {
      "image/png": "[encoded data removed]",
      "text/plain": [
       "Plot with title \"Total por Classe\""
      ]
     },
     "metadata": {},
     "output_type": "display_data"
    }
   ],
   "source": [
    "agg <- aggregate( . ~ census$workclass, data = census, length)\n",
    "\n",
    "barplot(\n",
    "    agg$workclass,\n",
    "    las = 1,\n",
    "    col = rainbow(12),\n",
    "    beside = TRUE,\n",
    "    xlab = 'Total',\n",
    "    ylab = 'Workclass',\n",
    "    main = 'Total por Classe',\n",
    "    names = unique(census$workclass),\n",
    "    horiz=TRUE\n",
    ")"
   ]
  },
  {
   "cell_type": "markdown",
   "id": "276fe108-b17f-42b8-8e11-5d5f78592bd4",
   "metadata": {},
   "source": [
    "###  final.weight\n",
    "\n",
    "- Sem valores inválidos"
   ]
  },
  {
   "cell_type": "code",
   "execution_count": 11,
   "id": "bd83bfa7-6a9d-4337-9b50-c4d4a0381b82",
   "metadata": {},
   "outputs": [
    {
     "data": {
      "text/plain": [
       "   Min. 1st Qu.  Median    Mean 3rd Qu.    Max. \n",
       "  13769  117627  178425  189794  237629 1484705 "
      ]
     },
     "metadata": {},
     "output_type": "display_data"
    }
   ],
   "source": [
    "summary(census$final.weight)"
   ]
  },
  {
   "cell_type": "code",
   "execution_count": 12,
   "id": "dbe8254f-b209-4f5c-b638-da3331eb9634",
   "metadata": {},
   "outputs": [
    {
     "data": {
      "image/png": "[encoded data removed]",
      "text/plain": [
       "Plot with title \"Histogram of census$final.weight\""
      ]
     },
     "metadata": {},
     "output_type": "display_data"
    }
   ],
   "source": [
    "hist(census$final.weight, breaks = 50, xlim = c(0, 1000000))"
   ]
  },
  {
   "cell_type": "markdown",
   "id": "979c9723-1964-4b88-8256-6842d81a58f0",
   "metadata": {},
   "source": [
    "### education \n",
    "\n",
    "- Sem valores inválidos encontrados"
   ]
  },
  {
   "cell_type": "code",
   "execution_count": 13,
   "id": "2f18c5b3-3b71-4627-9175-4991449ba33c",
   "metadata": {},
   "outputs": [
    {
     "data": {
      "text/plain": [
       "\n",
       "         10th          11th          12th       1st-4th       5th-6th \n",
       "          820          1048           377           151           288 \n",
       "      7th-8th           9th    Assoc-acdm     Assoc-voc     Bachelors \n",
       "          557           455          1008          1307          5044 \n",
       "    Doctorate       HS-grad       Masters     Preschool   Prof-school \n",
       "          375          9840          1627            45           542 \n",
       " Some-college \n",
       "         6678 "
      ]
     },
     "metadata": {},
     "output_type": "display_data"
    }
   ],
   "source": [
    "table(census$education, useNA = 'ifany')"
   ]
  },
  {
   "cell_type": "code",
   "execution_count": 14,
   "id": "da27ed2c-7877-4acf-9eb0-252e9cb79849",
   "metadata": {},
   "outputs": [
    {
     "data": {
      "image/png": "[encoded data removed]",
      "text/plain": [
       "Plot with title \"Total por Escolaridade\""
      ]
     },
     "metadata": {},
     "output_type": "display_data"
    }
   ],
   "source": [
    "agg <- aggregate( . ~ census$education, data = census, length)\n",
    "\n",
    "barplot(\n",
    "    agg$education,\n",
    "    las = 1,\n",
    "    col = rainbow(12),\n",
    "    beside = TRUE,\n",
    "    xlab = 'Total',\n",
    "    ylab = 'education',\n",
    "    main = 'Total por Escolaridade',\n",
    "    names = unique(census$education),\n",
    "    horiz=TRUE\n",
    ")"
   ]
  },
  {
   "cell_type": "markdown",
   "id": "c18a385a-9f34-4862-af96-60693c081be9",
   "metadata": {},
   "source": [
    "### education.num \n",
    "\n",
    "- Sem valores inválidos"
   ]
  },
  {
   "cell_type": "code",
   "execution_count": 15,
   "id": "79e20c89-5066-48f9-b246-ad99a0a98645",
   "metadata": {},
   "outputs": [
    {
     "data": {
      "text/html": [
       "0"
      ],
      "text/latex": [
       "0"
      ],
      "text/markdown": [
       "0"
      ],
      "text/plain": [
       "[1] 0"
      ]
     },
     "metadata": {},
     "output_type": "display_data"
    },
    {
     "data": {
      "text/html": [
       "0"
      ],
      "text/latex": [
       "0"
      ],
      "text/markdown": [
       "0"
      ],
      "text/plain": [
       "[1] 0"
      ]
     },
     "metadata": {},
     "output_type": "display_data"
    },
    {
     "data": {
      "text/plain": [
       "\n",
       "   1    2    3    4    5    6    7    8    9   10   11   12   13   14   15   16 \n",
       "  45  151  288  557  455  820 1048  377 9840 6678 1307 1008 5044 1627  542  375 "
      ]
     },
     "metadata": {},
     "output_type": "display_data"
    }
   ],
   "source": [
    "sum(is.na(census$education.num))\n",
    "sum(is.null(census$education.num))\n",
    "table(census$education.num)"
   ]
  },
  {
   "cell_type": "code",
   "execution_count": 16,
   "id": "e8d305f7-ebaf-42da-84c1-b4a6b5a64e57",
   "metadata": {},
   "outputs": [
    {
     "data": {
      "image/png": "[encoded data removed]",
      "text/plain": [
       "Plot with title \"Total por Escolaridade\""
      ]
     },
     "metadata": {},
     "output_type": "display_data"
    }
   ],
   "source": [
    "agg <- aggregate( . ~ census$education.num, data = census, length)\n",
    "\n",
    "barplot(\n",
    "    agg$education.num,\n",
    "    las = 1,\n",
    "    col = rainbow(12),\n",
    "    beside = TRUE,\n",
    "    xlab = 'Total',\n",
    "    ylab = 'education.num',\n",
    "    main = 'Total por Escolaridade',\n",
    "    names = unique(census$education.num),\n",
    "    horiz=TRUE\n",
    ")"
   ]
  },
  {
   "cell_type": "markdown",
   "id": "251fe619-f07f-4939-a039-975bf4a66142",
   "metadata": {},
   "source": [
    "### marital.status\n",
    "\n",
    "- Sem valores inválidos"
   ]
  },
  {
   "cell_type": "code",
   "execution_count": 17,
   "id": "374d0a57-7580-4a14-960b-e188ae8b50aa",
   "metadata": {},
   "outputs": [
    {
     "data": {
      "text/plain": [
       "\n",
       "              Divorced      Married-AF-spouse     Married-civ-spouse \n",
       "                  4214                     21                  14065 \n",
       " Married-spouse-absent          Never-married              Separated \n",
       "                   370                   9726                    939 \n",
       "               Widowed \n",
       "                   827 "
      ]
     },
     "metadata": {},
     "output_type": "display_data"
    }
   ],
   "source": [
    "table(census$marital.status, useNA = 'ifany')"
   ]
  },
  {
   "cell_type": "code",
   "execution_count": 18,
   "id": "cb474637-d161-4057-b3cc-d8705f2f5a79",
   "metadata": {},
   "outputs": [
    {
     "data": {
      "image/png": "[encoded data removed]",
      "text/plain": [
       "Plot with title \"Total por Estado Cívil\""
      ]
     },
     "metadata": {},
     "output_type": "display_data"
    }
   ],
   "source": [
    "agg <- aggregate( . ~ census$marital.status, data = census, length)\n",
    "\n",
    "barplot(\n",
    "    agg$marital.status,\n",
    "    las = 1,\n",
    "    col = rainbow(12),\n",
    "    beside = TRUE,\n",
    "    xlab = 'Total',\n",
    "    ylab = 'Estadi cívil',\n",
    "    main = 'Total por Estado Cívil',\n",
    "    names = unique(census$marital.status),\n",
    "    horiz=TRUE\n",
    ")"
   ]
  },
  {
   "cell_type": "markdown",
   "id": "738d5faf-63c5-4cde-810c-c60c3a3492e2",
   "metadata": {},
   "source": [
    "### occupation  \n",
    "\n",
    "- Sem valores inválidos"
   ]
  },
  {
   "cell_type": "code",
   "execution_count": 19,
   "id": "08c17160-7db7-44c1-a814-624709ff9426",
   "metadata": {},
   "outputs": [
    {
     "data": {
      "text/plain": [
       "\n",
       "      Adm-clerical       Armed-Forces       Craft-repair    Exec-managerial \n",
       "              3721                  9               4030               3992 \n",
       "   Farming-fishing  Handlers-cleaners  Machine-op-inspct      Other-service \n",
       "               989               1350               1966               3212 \n",
       "   Priv-house-serv     Prof-specialty    Protective-serv              Sales \n",
       "               143               4038                644               3584 \n",
       "      Tech-support   Transport-moving \n",
       "               912               1572 "
      ]
     },
     "metadata": {},
     "output_type": "display_data"
    }
   ],
   "source": [
    "table(census$occupation, useNA = 'ifany')"
   ]
  },
  {
   "cell_type": "code",
   "execution_count": 20,
   "id": "d4592fc4-563d-4fe7-8c5f-4fa602b1e7f5",
   "metadata": {},
   "outputs": [
    {
     "data": {
      "image/png": "[encoded data removed]",
      "text/plain": [
       "Plot with title \"Total por Ocupação\""
      ]
     },
     "metadata": {},
     "output_type": "display_data"
    }
   ],
   "source": [
    "agg <- aggregate( . ~ census$occupation, data = census, length)\n",
    "\n",
    "barplot(\n",
    "    agg$occupation,\n",
    "    las = 1,\n",
    "    col = rainbow(12),\n",
    "    beside = TRUE,\n",
    "    xlab = 'Total',\n",
    "    ylab = 'Trabalho',\n",
    "    main = 'Total por Ocupação',\n",
    "    names = unique(census$occupation),\n",
    "    horiz=TRUE\n",
    ")"
   ]
  },
  {
   "cell_type": "markdown",
   "id": "ed3e7b90-a932-4ef9-ab56-e8671fa2d95f",
   "metadata": {},
   "source": [
    "### relationship \n",
    "\n",
    "- Sem valores inválidos"
   ]
  },
  {
   "cell_type": "code",
   "execution_count": 21,
   "id": "8db4dd58-3f9f-4b76-af0f-3dbd9e657df9",
   "metadata": {},
   "outputs": [
    {
     "data": {
      "text/plain": [
       "\n",
       "        Husband   Not-in-family  Other-relative       Own-child       Unmarried \n",
       "          12463            7726             889            4466            3212 \n",
       "           Wife \n",
       "           1406 "
      ]
     },
     "metadata": {},
     "output_type": "display_data"
    }
   ],
   "source": [
    "table(census$relationship, useNA = 'ifany')"
   ]
  },
  {
   "cell_type": "code",
   "execution_count": 22,
   "id": "73e84860-809e-48f7-b5cb-06558e5faaf8",
   "metadata": {},
   "outputs": [
    {
     "data": {
      "image/png": "[encoded data removed]",
      "text/plain": [
       "Plot with title \"Total por Ralação\""
      ]
     },
     "metadata": {},
     "output_type": "display_data"
    }
   ],
   "source": [
    "agg <- aggregate( . ~ census$relationship, data = census, length)\n",
    "\n",
    "barplot(\n",
    "    agg$relationship,\n",
    "    las = 1,\n",
    "    col = rainbow(12),\n",
    "    beside = TRUE,\n",
    "    xlab = 'Total',\n",
    "    ylab = 'Ralação',\n",
    "    main = 'Total por Ralação',\n",
    "    names = unique(census$relationship),\n",
    "    horiz=TRUE\n",
    ")"
   ]
  },
  {
   "cell_type": "markdown",
   "id": "a3c5cd31-6cf5-49d2-a8a6-e96aa662e123",
   "metadata": {},
   "source": [
    "### Race\n",
    "\n",
    "- Sem valores inválidos"
   ]
  },
  {
   "cell_type": "code",
   "execution_count": 23,
   "id": "c58db8ab-1dfc-4b15-aac3-08beb9b386cb",
   "metadata": {},
   "outputs": [
    {
     "data": {
      "text/plain": [
       "\n",
       " Amer-Indian-Eskimo  Asian-Pac-Islander               Black               Other \n",
       "                286                 895                2817                 231 \n",
       "              White \n",
       "              25933 "
      ]
     },
     "metadata": {},
     "output_type": "display_data"
    }
   ],
   "source": [
    "table(census$race)"
   ]
  },
  {
   "cell_type": "code",
   "execution_count": 24,
   "id": "36382d3d-2f1e-42f3-aa2f-3fd502af75ff",
   "metadata": {},
   "outputs": [
    {
     "data": {
      "image/png": "[encoded data removed]",
      "text/plain": [
       "Plot with title \"Total por Raça\""
      ]
     },
     "metadata": {},
     "output_type": "display_data"
    }
   ],
   "source": [
    "agg <- aggregate( . ~ census$race, data = census, length)\n",
    "\n",
    "barplot(\n",
    "    agg$race,\n",
    "    las = 1,\n",
    "    col = rainbow(12),\n",
    "    beside = TRUE,\n",
    "    xlab = 'Total',\n",
    "    ylab = 'Raça',\n",
    "    main = 'Total por Raça',\n",
    "    names = unique(census$race),\n",
    "    horiz=TRUE\n",
    ")"
   ]
  },
  {
   "cell_type": "markdown",
   "id": "363675cc-8c1a-4e5b-a71f-3c273702a68a",
   "metadata": {},
   "source": [
    "### sex\n",
    "\n",
    "- Sem valores inválidos"
   ]
  },
  {
   "cell_type": "code",
   "execution_count": 25,
   "id": "7e537a53-cc06-4b6c-9b7b-aed317027591",
   "metadata": {},
   "outputs": [
    {
     "data": {
      "text/plain": [
       "\n",
       " Female    Male \n",
       "   9782   20380 "
      ]
     },
     "metadata": {},
     "output_type": "display_data"
    }
   ],
   "source": [
    "table(census$sex, useNA = 'ifany')"
   ]
  },
  {
   "cell_type": "code",
   "execution_count": 26,
   "id": "3b931976-2a6d-4283-bbeb-a8ba096172db",
   "metadata": {},
   "outputs": [
    {
     "data": {
      "image/png": "[encoded data removed]",
      "text/plain": [
       "Plot with title \"Total por Sexo\""
      ]
     },
     "metadata": {},
     "output_type": "display_data"
    }
   ],
   "source": [
    "agg <- aggregate( . ~ census$sex, data = census, length)\n",
    "\n",
    "barplot(\n",
    "    agg$sex,\n",
    "    las = 1,\n",
    "    col = rainbow(12),\n",
    "    beside = TRUE,\n",
    "    xlab = 'Sexo',\n",
    "    ylab = 'Total',\n",
    "    main = 'Total por Sexo',\n",
    "    names = unique(census$sex),\n",
    ")"
   ]
  },
  {
   "cell_type": "markdown",
   "id": "726d4019-bdbc-4629-92e6-613bb7dcb762",
   "metadata": {},
   "source": [
    "### capital.gain\n",
    "\n",
    "- Sem valores inválidos"
   ]
  },
  {
   "cell_type": "code",
   "execution_count": 27,
   "id": "9bbc117b-b95a-4dfc-87a4-56a69d5382ff",
   "metadata": {},
   "outputs": [
    {
     "data": {
      "text/html": [
       "0"
      ],
      "text/latex": [
       "0"
      ],
      "text/markdown": [
       "0"
      ],
      "text/plain": [
       "[1] 0"
      ]
     },
     "metadata": {},
     "output_type": "display_data"
    },
    {
     "data": {
      "text/html": [
       "0"
      ],
      "text/latex": [
       "0"
      ],
      "text/markdown": [
       "0"
      ],
      "text/plain": [
       "[1] 0"
      ]
     },
     "metadata": {},
     "output_type": "display_data"
    }
   ],
   "source": [
    "sum(is.na(census$capital.gain))\n",
    "sum(is.null(census$capital.gain))"
   ]
  },
  {
   "cell_type": "code",
   "execution_count": 28,
   "id": "f932d5a1-b7f9-42ef-83a9-dae7973f06ef",
   "metadata": {},
   "outputs": [
    {
     "data": {
      "image/png": "[encoded data removed]",
      "text/plain": [
       "Plot with title \"Histogram of census[census$income == \" <=50K\", \"capital.gain\"]\""
      ]
     },
     "metadata": {},
     "output_type": "display_data"
    }
   ],
   "source": [
    "# Idade por cada renda anual\n",
    "hist(\n",
    "    census[census$income == ' <=50K', 'capital.gain'],\n",
    "    col = 'Blue',\n",
    "    breaks = 50,\n",
    ")\n",
    "hist(\n",
    "    census[census$income != ' <=50K', 'capital.gain'],\n",
    "    add = T,\n",
    "    col = 'Red',\n",
    "    breaks = 50,\n",
    ")"
   ]
  },
  {
   "cell_type": "markdown",
   "id": "c9da607e-01ff-472b-8d55-67bb78ef7412",
   "metadata": {},
   "source": [
    "### capital.loos\n",
    "\n",
    "- Sem valores inválidos"
   ]
  },
  {
   "cell_type": "code",
   "execution_count": 29,
   "id": "b4db8cdf-0c8d-4e83-a3f4-5d15d8d62a71",
   "metadata": {},
   "outputs": [
    {
     "data": {
      "text/html": [
       "0"
      ],
      "text/latex": [
       "0"
      ],
      "text/markdown": [
       "0"
      ],
      "text/plain": [
       "[1] 0"
      ]
     },
     "metadata": {},
     "output_type": "display_data"
    },
    {
     "data": {
      "text/html": [
       "0"
      ],
      "text/latex": [
       "0"
      ],
      "text/markdown": [
       "0"
      ],
      "text/plain": [
       "[1] 0"
      ]
     },
     "metadata": {},
     "output_type": "display_data"
    }
   ],
   "source": [
    "sum(is.na(census$capital.loos))\n",
    "sum(is.null(census$capital.loos))"
   ]
  },
  {
   "cell_type": "code",
   "execution_count": 30,
   "id": "9b3fb1ff-b08f-48e6-9238-7ba0cb99bb93",
   "metadata": {},
   "outputs": [
    {
     "data": {
      "image/png": "[encoded data removed]",
      "text/plain": [
       "Plot with title \"Histogram of census[census$income == \" <=50K\", \"capital.loos\"]\""
      ]
     },
     "metadata": {},
     "output_type": "display_data"
    }
   ],
   "source": [
    "# Idade por cada renda anual\n",
    "hist(\n",
    "    census[census$income == ' <=50K', 'capital.loos'],\n",
    "    col = 'Blue',\n",
    "    breaks = 50,\n",
    ")\n",
    "hist(\n",
    "    census[census$income != ' <=50K', 'capital.loos'],\n",
    "    add = T,\n",
    "    col = 'Red',\n",
    "    breaks = 50,\n",
    ")"
   ]
  },
  {
   "cell_type": "markdown",
   "id": "fc0e36f1-58fa-4989-a7ea-8bcc5accf072",
   "metadata": {},
   "source": [
    "### hour.per.week\n",
    "\n",
    "- Sem valores inválidos"
   ]
  },
  {
   "cell_type": "code",
   "execution_count": 31,
   "id": "5680ca5e-5528-4276-a6a4-f922f9a72893",
   "metadata": {},
   "outputs": [
    {
     "data": {
      "text/html": [
       "0"
      ],
      "text/latex": [
       "0"
      ],
      "text/markdown": [
       "0"
      ],
      "text/plain": [
       "[1] 0"
      ]
     },
     "metadata": {},
     "output_type": "display_data"
    },
    {
     "data": {
      "text/html": [
       "0"
      ],
      "text/latex": [
       "0"
      ],
      "text/markdown": [
       "0"
      ],
      "text/plain": [
       "[1] 0"
      ]
     },
     "metadata": {},
     "output_type": "display_data"
    }
   ],
   "source": [
    "sum(is.na(census$hour.per.week))\n",
    "sum(is.null(census$hour.per.week))"
   ]
  },
  {
   "cell_type": "code",
   "execution_count": 32,
   "id": "b6ec1e10-52e0-4d0e-93b8-2c06bec42abe",
   "metadata": {},
   "outputs": [
    {
     "data": {
      "image/png": "[encoded data removed]",
      "text/plain": [
       "Plot with title \"Histogram of census[census$income == \" <=50K\", \"hour.per.week\"]\""
      ]
     },
     "metadata": {},
     "output_type": "display_data"
    }
   ],
   "source": [
    "# Idade por cada renda anual\n",
    "hist(\n",
    "    census[census$income == ' <=50K', 'hour.per.week'],\n",
    "    col = 'Blue',\n",
    "    breaks = 50,\n",
    ")\n",
    "hist(\n",
    "    census[census$income != ' <=50K', 'hour.per.week'],\n",
    "    add = T,\n",
    "    col = 'Red',\n",
    "    breaks = 50,\n",
    ")"
   ]
  },
  {
   "cell_type": "markdown",
   "id": "ed0e1af6-f909-40b8-91ea-9b5faac237bb",
   "metadata": {},
   "source": [
    "### native.country\n",
    "\n",
    "- Sem valores inválidos"
   ]
  },
  {
   "cell_type": "code",
   "execution_count": 33,
   "id": "ed3fefec-efb2-4aa0-ad75-8ea58a44e386",
   "metadata": {},
   "outputs": [
    {
     "data": {
      "text/html": [
       "0"
      ],
      "text/latex": [
       "0"
      ],
      "text/markdown": [
       "0"
      ],
      "text/plain": [
       "[1] 0"
      ]
     },
     "metadata": {},
     "output_type": "display_data"
    },
    {
     "data": {
      "text/html": [
       "0"
      ],
      "text/latex": [
       "0"
      ],
      "text/markdown": [
       "0"
      ],
      "text/plain": [
       "[1] 0"
      ]
     },
     "metadata": {},
     "output_type": "display_data"
    }
   ],
   "source": [
    "sum(is.na(census$native.country))\n",
    "sum(is.null(census$native.country))"
   ]
  },
  {
   "cell_type": "code",
   "execution_count": 64,
   "id": "63017d8d-a8b9-400c-b1b6-85eb8d446059",
   "metadata": {},
   "outputs": [
    {
     "data": {
      "image/png": "[encoded data removed]",
      "text/plain": [
       "Plot with title \"Total por Pais\""
      ]
     },
     "metadata": {},
     "output_type": "display_data"
    }
   ],
   "source": [
    "agg <- aggregate( . ~ census$native.country, data = census, length)\n",
    "\n",
    "barplot(\n",
    "    agg$native.country,\n",
    "    las = 1,\n",
    "    col = rainbow(12),\n",
    "    beside = TRUE,\n",
    "    xlab = 'Pais',\n",
    "    ylab = 'Total',\n",
    "    main = 'Total por Pais',\n",
    "    names = unique(census$native.country),\n",
    ")"
   ]
  },
  {
   "cell_type": "markdown",
   "id": "714929cd-d4ac-48a6-a736-36b290dab657",
   "metadata": {},
   "source": [
    "### income \n",
    "\n",
    "- Sem valores inválidos"
   ]
  },
  {
   "cell_type": "code",
   "execution_count": 35,
   "id": "6f31564a-3f36-4a67-8796-3f1b8e635f9e",
   "metadata": {},
   "outputs": [
    {
     "data": {
      "text/plain": [
       "\n",
       " <=50K   >50K \n",
       " 22654   7508 "
      ]
     },
     "metadata": {},
     "output_type": "display_data"
    }
   ],
   "source": [
    "table(census$income, useNA = 'ifany')"
   ]
  },
  {
   "cell_type": "code",
   "execution_count": 36,
   "id": "06685774-24f5-493d-9dca-34692c0c4462",
   "metadata": {},
   "outputs": [
    {
     "data": {
      "image/png": "[encoded data removed]",
      "text/plain": [
       "Plot with title \"Total por renda\""
      ]
     },
     "metadata": {},
     "output_type": "display_data"
    }
   ],
   "source": [
    "agg <- aggregate( . ~ census$income, data = census, length)\n",
    "\n",
    "barplot(\n",
    "    agg$income,\n",
    "    las = 1,\n",
    "    col = rainbow(12),\n",
    "    beside = TRUE,\n",
    "    xlab = 'renda',\n",
    "    ylab = 'total',\n",
    "    main = 'Total por renda',\n",
    "    names = unique(census$income),\n",
    ")"
   ]
  },
  {
   "cell_type": "markdown",
   "id": "2831d644-ca01-40ce-b229-2d88f4bd8c61",
   "metadata": {},
   "source": [
    "# Base de Dados de Crédito"
   ]
  },
  {
   "cell_type": "code",
   "execution_count": 37,
   "id": "0b95ac1e-18b8-454a-9f56-4bf3c30f4ce8",
   "metadata": {},
   "outputs": [
    {
     "data": {
      "text/html": [
       "<table>\n",
       "<thead><tr><th scope=col>clientid</th><th scope=col>income</th><th scope=col>age</th><th scope=col>loan</th><th scope=col>default</th></tr></thead>\n",
       "<tbody>\n",
       "\t<tr><td>1        </td><td>66155.93 </td><td>59.01702 </td><td>8106.5321</td><td>0        </td></tr>\n",
       "\t<tr><td>2        </td><td>34415.15 </td><td>48.11715 </td><td>6564.7450</td><td>0        </td></tr>\n",
       "\t<tr><td>3        </td><td>57317.17 </td><td>63.10805 </td><td>8020.9533</td><td>0        </td></tr>\n",
       "\t<tr><td>4        </td><td>42709.53 </td><td>45.75197 </td><td>6103.6423</td><td>0        </td></tr>\n",
       "\t<tr><td>5        </td><td>66952.69 </td><td>18.58434 </td><td>8770.0992</td><td>1        </td></tr>\n",
       "\t<tr><td>6        </td><td>24904.06 </td><td>57.47161 </td><td>  15.4986</td><td>0        </td></tr>\n",
       "</tbody>\n",
       "</table>\n"
      ],
      "text/latex": [
       "\\begin{tabular}{r|lllll}\n",
       " clientid & income & age & loan & default\\\\\n",
       "\\hline\n",
       "\t 1         & 66155.93  & 59.01702  & 8106.5321 & 0        \\\\\n",
       "\t 2         & 34415.15  & 48.11715  & 6564.7450 & 0        \\\\\n",
       "\t 3         & 57317.17  & 63.10805  & 8020.9533 & 0        \\\\\n",
       "\t 4         & 42709.53  & 45.75197  & 6103.6423 & 0        \\\\\n",
       "\t 5         & 66952.69  & 18.58434  & 8770.0992 & 1        \\\\\n",
       "\t 6         & 24904.06  & 57.47161  &   15.4986 & 0        \\\\\n",
       "\\end{tabular}\n"
      ],
      "text/markdown": [
       "\n",
       "| clientid | income | age | loan | default |\n",
       "|---|---|---|---|---|\n",
       "| 1         | 66155.93  | 59.01702  | 8106.5321 | 0         |\n",
       "| 2         | 34415.15  | 48.11715  | 6564.7450 | 0         |\n",
       "| 3         | 57317.17  | 63.10805  | 8020.9533 | 0         |\n",
       "| 4         | 42709.53  | 45.75197  | 6103.6423 | 0         |\n",
       "| 5         | 66952.69  | 18.58434  | 8770.0992 | 1         |\n",
       "| 6         | 24904.06  | 57.47161  |   15.4986 | 0         |\n",
       "\n"
      ],
      "text/plain": [
       "  clientid income   age      loan      default\n",
       "1 1        66155.93 59.01702 8106.5321 0      \n",
       "2 2        34415.15 48.11715 6564.7450 0      \n",
       "3 3        57317.17 63.10805 8020.9533 0      \n",
       "4 4        42709.53 45.75197 6103.6423 0      \n",
       "5 5        66952.69 18.58434 8770.0992 1      \n",
       "6 6        24904.06 57.47161   15.4986 0      "
      ]
     },
     "metadata": {},
     "output_type": "display_data"
    }
   ],
   "source": [
    "credit = read.csv('datasets/credit_data.csv')\n",
    "head(credit)"
   ]
  },
  {
   "cell_type": "markdown",
   "id": "3ca22563-8b1b-43ce-90b5-e039f4c407e3",
   "metadata": {},
   "source": [
    "## Análise dos Dados\n",
    "\n",
    "- cliente_id - Nonimal (fica fora da previsão)\n",
    "- income - Numérica Contínua\n",
    "- age - Numérica Contínua (neste caso)\n",
    "- loan (dívida) - Numérica Contínua\n",
    "- default - 0 (não pagou) 1 (pagou empréstimo) - Numérica Discreta"
   ]
  },
  {
   "cell_type": "code",
   "execution_count": 38,
   "id": "0be17ea7-00c9-4a7d-afc2-25fe4ddb1985",
   "metadata": {},
   "outputs": [
    {
     "name": "stdout",
     "output_type": "stream",
     "text": [
      "'data.frame':\t2000 obs. of  5 variables:\n",
      " $ clientid: int  1 2 3 4 5 6 7 8 9 10 ...\n",
      " $ income  : num  66156 34415 57317 42710 66953 ...\n",
      " $ age     : num  59 48.1 63.1 45.8 18.6 ...\n",
      " $ loan    : num  8107 6565 8021 6104 8770 ...\n",
      " $ default : int  0 0 0 0 1 0 0 1 0 0 ...\n"
     ]
    }
   ],
   "source": [
    "str(credit)"
   ]
  },
  {
   "cell_type": "markdown",
   "id": "14988c06-5a32-4209-8599-942a68b488a5",
   "metadata": {},
   "source": [
    "## Sumário Estatístico"
   ]
  },
  {
   "cell_type": "code",
   "execution_count": 39,
   "id": "ce72c7d6-31cb-4ae9-9021-7b0d57f64e92",
   "metadata": {},
   "outputs": [
    {
     "data": {
      "text/plain": [
       "    clientid          income           age              loan          \n",
       " Min.   :   1.0   Min.   :20014   Min.   :-52.42   Min.   :    1.378  \n",
       " 1st Qu.: 500.8   1st Qu.:32796   1st Qu.: 28.99   1st Qu.: 1939.709  \n",
       " Median :1000.5   Median :45789   Median : 41.32   Median : 3974.719  \n",
       " Mean   :1000.5   Mean   :45332   Mean   : 40.81   Mean   : 4444.370  \n",
       " 3rd Qu.:1500.2   3rd Qu.:57791   3rd Qu.: 52.59   3rd Qu.: 6432.411  \n",
       " Max.   :2000.0   Max.   :69996   Max.   : 63.97   Max.   :13766.051  \n",
       "                                  NA's   :3                           \n",
       "    default      \n",
       " Min.   :0.0000  \n",
       " 1st Qu.:0.0000  \n",
       " Median :0.0000  \n",
       " Mean   :0.1415  \n",
       " 3rd Qu.:0.0000  \n",
       " Max.   :1.0000  \n",
       "                 "
      ]
     },
     "metadata": {},
     "output_type": "display_data"
    }
   ],
   "source": [
    "summary(credit)"
   ]
  },
  {
   "cell_type": "markdown",
   "id": "ab5264e2-ee3a-429d-8d39-83b874510248",
   "metadata": {},
   "source": [
    "## Estudo das Variáveis\n",
    "\n",
    "### income\n",
    "\n",
    "- Sem valores inválidos"
   ]
  },
  {
   "cell_type": "code",
   "execution_count": 40,
   "id": "60c3a624-164b-4a8e-bcc3-b2f1bf783854",
   "metadata": {},
   "outputs": [
    {
     "data": {
      "text/html": [
       "0"
      ],
      "text/latex": [
       "0"
      ],
      "text/markdown": [
       "0"
      ],
      "text/plain": [
       "[1] 0"
      ]
     },
     "metadata": {},
     "output_type": "display_data"
    },
    {
     "data": {
      "text/html": [
       "0"
      ],
      "text/latex": [
       "0"
      ],
      "text/markdown": [
       "0"
      ],
      "text/plain": [
       "[1] 0"
      ]
     },
     "metadata": {},
     "output_type": "display_data"
    }
   ],
   "source": [
    "sum(is.na(credit$income))\n",
    "sum(is.null(credit$income))"
   ]
  },
  {
   "cell_type": "code",
   "execution_count": 41,
   "id": "da67e1e6-bb1e-467b-95f5-ef6b93a9fa77",
   "metadata": {},
   "outputs": [
    {
     "data": {
      "image/png": "[encoded data removed]",
      "text/plain": [
       "Plot with title \"Histogram of credit$income\""
      ]
     },
     "metadata": {},
     "output_type": "display_data"
    }
   ],
   "source": [
    "hist(credit$income)"
   ]
  },
  {
   "cell_type": "markdown",
   "id": "92f11822-18eb-4478-8f12-5c1f3ae7e2e0",
   "metadata": {},
   "source": [
    "### age\n",
    "\n",
    "- Valores faltantes\n",
    "- Valores inválidos \n",
    "    - Idade negativa"
   ]
  },
  {
   "cell_type": "code",
   "execution_count": 42,
   "id": "e6846c73-8eef-4356-8b3b-f9f80974ceab",
   "metadata": {},
   "outputs": [
    {
     "data": {
      "text/plain": [
       "   Min. 1st Qu.  Median    Mean 3rd Qu.    Max.    NA's \n",
       " -52.42   28.99   41.32   40.81   52.59   63.97       3 "
      ]
     },
     "metadata": {},
     "output_type": "display_data"
    }
   ],
   "source": [
    "summary(credit$age)"
   ]
  },
  {
   "cell_type": "code",
   "execution_count": 43,
   "id": "b54e5765-a549-46e0-bcec-a6a92275f273",
   "metadata": {},
   "outputs": [
    {
     "data": {
      "text/html": [
       "3"
      ],
      "text/latex": [
       "3"
      ],
      "text/markdown": [
       "3"
      ],
      "text/plain": [
       "[1] 3"
      ]
     },
     "metadata": {},
     "output_type": "display_data"
    },
    {
     "data": {
      "text/html": [
       "0"
      ],
      "text/latex": [
       "0"
      ],
      "text/markdown": [
       "0"
      ],
      "text/plain": [
       "[1] 0"
      ]
     },
     "metadata": {},
     "output_type": "display_data"
    }
   ],
   "source": [
    "sum(is.na(credit$age))\n",
    "sum(is.null(credit$age))"
   ]
  },
  {
   "cell_type": "code",
   "execution_count": 44,
   "id": "28a7b044-6caa-48ec-aa37-eb96bc7af0d4",
   "metadata": {},
   "outputs": [
    {
     "data": {
      "image/png": "[encoded data removed]",
      "text/plain": [
       "Plot with title \"Histogram of credit$age\""
      ]
     },
     "metadata": {},
     "output_type": "display_data"
    }
   ],
   "source": [
    "hist(credit$age)"
   ]
  },
  {
   "cell_type": "markdown",
   "id": "84b6db44-64e1-40e5-99d6-4741913de863",
   "metadata": {},
   "source": [
    "### loan"
   ]
  },
  {
   "cell_type": "code",
   "execution_count": 47,
   "id": "054d3442-97b7-443e-96b3-6f1c38b7515f",
   "metadata": {},
   "outputs": [
    {
     "data": {
      "text/html": [
       "0"
      ],
      "text/latex": [
       "0"
      ],
      "text/markdown": [
       "0"
      ],
      "text/plain": [
       "[1] 0"
      ]
     },
     "metadata": {},
     "output_type": "display_data"
    },
    {
     "data": {
      "text/html": [
       "0"
      ],
      "text/latex": [
       "0"
      ],
      "text/markdown": [
       "0"
      ],
      "text/plain": [
       "[1] 0"
      ]
     },
     "metadata": {},
     "output_type": "display_data"
    }
   ],
   "source": [
    "sum(is.na(credit$loan))\n",
    "sum(is.null(credit$loan))"
   ]
  },
  {
   "cell_type": "code",
   "execution_count": 48,
   "id": "b6e25d8f-f5a9-4d3c-810b-f670441b821b",
   "metadata": {},
   "outputs": [
    {
     "data": {
      "image/png": "[encoded data removed]",
      "text/plain": [
       "Plot with title \"Histogram of credit$loan\""
      ]
     },
     "metadata": {},
     "output_type": "display_data"
    }
   ],
   "source": [
    "hist(credit$loan)"
   ]
  },
  {
   "cell_type": "markdown",
   "id": "d1812e8d-de88-4416-aa73-335e54fd6f93",
   "metadata": {},
   "source": [
    "### default"
   ]
  },
  {
   "cell_type": "code",
   "execution_count": 49,
   "id": "b43a1f59-12db-4bae-9fc5-77e72ede3291",
   "metadata": {},
   "outputs": [
    {
     "data": {
      "text/plain": [
       "\n",
       "   0    1 \n",
       "1717  283 "
      ]
     },
     "metadata": {},
     "output_type": "display_data"
    }
   ],
   "source": [
    "table(credit$default, useNA = 'ifany')"
   ]
  },
  {
   "cell_type": "code",
   "execution_count": 62,
   "id": "28001354-ce67-4fc1-af97-b7c28131e18a",
   "metadata": {},
   "outputs": [
    {
     "data": {
      "text/html": [
       "<table>\n",
       "<thead><tr><th scope=col>credit$default</th><th scope=col>clientid</th><th scope=col>income</th><th scope=col>age</th><th scope=col>loan</th><th scope=col>default</th></tr></thead>\n",
       "<tbody>\n",
       "\t<tr><td>0   </td><td>1714</td><td>1714</td><td>1714</td><td>1714</td><td>1714</td></tr>\n",
       "\t<tr><td>1   </td><td> 283</td><td> 283</td><td> 283</td><td> 283</td><td> 283</td></tr>\n",
       "</tbody>\n",
       "</table>\n"
      ],
      "text/latex": [
       "\\begin{tabular}{r|llllll}\n",
       " credit\\$default & clientid & income & age & loan & default\\\\\n",
       "\\hline\n",
       "\t 0    & 1714 & 1714 & 1714 & 1714 & 1714\\\\\n",
       "\t 1    &  283 &  283 &  283 &  283 &  283\\\\\n",
       "\\end{tabular}\n"
      ],
      "text/markdown": [
       "\n",
       "| credit$default | clientid | income | age | loan | default |\n",
       "|---|---|---|---|---|---|\n",
       "| 0    | 1714 | 1714 | 1714 | 1714 | 1714 |\n",
       "| 1    |  283 |  283 |  283 |  283 |  283 |\n",
       "\n"
      ],
      "text/plain": [
       "  credit$default clientid income age  loan default\n",
       "1 0              1714     1714   1714 1714 1714   \n",
       "2 1               283      283    283  283  283   "
      ]
     },
     "metadata": {},
     "output_type": "display_data"
    },
    {
     "data": {
      "image/png": "[encoded data removed]",
      "text/plain": [
       "Plot with title \"Total por renda\""
      ]
     },
     "metadata": {},
     "output_type": "display_data"
    }
   ],
   "source": [
    "agg <- aggregate( . ~ credit$default, data = credit, length)\n",
    "\n",
    "agg\n",
    "\n",
    "barplot(\n",
    "    agg$default,\n",
    "    las = 1,\n",
    "    col = rainbow(12),\n",
    "    beside = TRUE,\n",
    "    xlab = 'renda',\n",
    "    ylab = 'total',\n",
    "    main = 'Total por renda',\n",
    "    names = unique(credit$default),\n",
    ")"
   ]
  },
  {
   "cell_type": "markdown",
   "id": "4908bbb3-47c2-49ac-8377-d31f13ae0b0e",
   "metadata": {},
   "source": [
    "# Base de Dados de Risco de Crédito"
   ]
  },
  {
   "cell_type": "code",
   "execution_count": 51,
   "id": "16ee8b0a-8064-4328-be0f-eab8e3358280",
   "metadata": {},
   "outputs": [
    {
     "data": {
      "text/html": [
       "<table>\n",
       "<thead><tr><th scope=col>historia</th><th scope=col>divida</th><th scope=col>garantias</th><th scope=col>renda</th><th scope=col>risco</th></tr></thead>\n",
       "<tbody>\n",
       "\t<tr><td>ruim        </td><td>alta        </td><td>nenhuma     </td><td>0_15        </td><td>alto        </td></tr>\n",
       "\t<tr><td>desconhecida</td><td>alta        </td><td>nenhuma     </td><td>15_35       </td><td>alto        </td></tr>\n",
       "\t<tr><td>desconhecida</td><td>baixa       </td><td>nenhuma     </td><td>15_35       </td><td>moderado    </td></tr>\n",
       "\t<tr><td>desconhecida</td><td>baixa       </td><td>nenhuma     </td><td>acima_35    </td><td>alto        </td></tr>\n",
       "\t<tr><td>desconhecida</td><td>baixa       </td><td>nenhuma     </td><td>acima_35    </td><td>baixo       </td></tr>\n",
       "\t<tr><td>desconhecida</td><td>baixa       </td><td>adequada    </td><td>acima_35    </td><td>baixo       </td></tr>\n",
       "</tbody>\n",
       "</table>\n"
      ],
      "text/latex": [
       "\\begin{tabular}{r|lllll}\n",
       " historia & divida & garantias & renda & risco\\\\\n",
       "\\hline\n",
       "\t ruim         & alta         & nenhuma      & 0\\_15       & alto        \\\\\n",
       "\t desconhecida & alta         & nenhuma      & 15\\_35      & alto        \\\\\n",
       "\t desconhecida & baixa        & nenhuma      & 15\\_35      & moderado    \\\\\n",
       "\t desconhecida & baixa        & nenhuma      & acima\\_35   & alto        \\\\\n",
       "\t desconhecida & baixa        & nenhuma      & acima\\_35   & baixo       \\\\\n",
       "\t desconhecida & baixa        & adequada     & acima\\_35   & baixo       \\\\\n",
       "\\end{tabular}\n"
      ],
      "text/markdown": [
       "\n",
       "| historia | divida | garantias | renda | risco |\n",
       "|---|---|---|---|---|\n",
       "| ruim         | alta         | nenhuma      | 0_15         | alto         |\n",
       "| desconhecida | alta         | nenhuma      | 15_35        | alto         |\n",
       "| desconhecida | baixa        | nenhuma      | 15_35        | moderado     |\n",
       "| desconhecida | baixa        | nenhuma      | acima_35     | alto         |\n",
       "| desconhecida | baixa        | nenhuma      | acima_35     | baixo        |\n",
       "| desconhecida | baixa        | adequada     | acima_35     | baixo        |\n",
       "\n"
      ],
      "text/plain": [
       "  historia     divida garantias renda    risco   \n",
       "1 ruim         alta   nenhuma   0_15     alto    \n",
       "2 desconhecida alta   nenhuma   15_35    alto    \n",
       "3 desconhecida baixa  nenhuma   15_35    moderado\n",
       "4 desconhecida baixa  nenhuma   acima_35 alto    \n",
       "5 desconhecida baixa  nenhuma   acima_35 baixo   \n",
       "6 desconhecida baixa  adequada  acima_35 baixo   "
      ]
     },
     "metadata": {},
     "output_type": "display_data"
    }
   ],
   "source": [
    "risco = read.csv('datasets/risco_credito.csv')\n",
    "head(risco)"
   ]
  },
  {
   "cell_type": "markdown",
   "id": "89835220-044b-4660-b04d-9b3c75b62f05",
   "metadata": {},
   "source": [
    "## Análise dos Dados\n",
    "\n",
    "- história - Categórica Nominal\n",
    "- divida - Categórica Ordinal\n",
    "- garandias - Categórica Nominal\n",
    "- renda - Categórica Ordinal\n",
    "- risco - Categórica Ordinal"
   ]
  },
  {
   "cell_type": "code",
   "execution_count": 52,
   "id": "451fbc75-9ab8-4b90-b6d5-835082e0d860",
   "metadata": {},
   "outputs": [
    {
     "name": "stdout",
     "output_type": "stream",
     "text": [
      "'data.frame':\t14 obs. of  5 variables:\n",
      " $ historia : Factor w/ 3 levels \"boa\",\"desconhecida\",..: 3 2 2 2 2 2 3 3 1 1 ...\n",
      " $ divida   : Factor w/ 2 levels \"alta\",\"baixa\": 1 1 2 2 2 2 2 2 2 1 ...\n",
      " $ garantias: Factor w/ 2 levels \"adequada\",\"nenhuma\": 2 2 2 2 2 1 2 1 2 1 ...\n",
      " $ renda    : Factor w/ 3 levels \"0_15\",\"15_35\",..: 1 2 2 3 3 3 1 3 3 3 ...\n",
      " $ risco    : Factor w/ 3 levels \"alto\",\"baixo\",..: 1 1 3 1 2 2 1 3 2 2 ...\n"
     ]
    }
   ],
   "source": [
    "str(risco)"
   ]
  },
  {
   "cell_type": "markdown",
   "id": "7b3c1283-dd44-4b1d-9a45-21602b5a41ef",
   "metadata": {},
   "source": [
    "## Sumário Estatístico"
   ]
  },
  {
   "cell_type": "code",
   "execution_count": 53,
   "id": "f4b6ba6f-f18b-4814-bcb5-b79dfd5733b9",
   "metadata": {},
   "outputs": [
    {
     "data": {
      "text/plain": [
       "         historia   divida     garantias       renda        risco  \n",
       " boa         :5   alta :7   adequada: 3   0_15    :3   alto    :6  \n",
       " desconhecida:5   baixa:7   nenhuma :11   15_35   :4   baixo   :5  \n",
       " ruim        :4                           acima_35:7   moderado:3  "
      ]
     },
     "metadata": {},
     "output_type": "display_data"
    }
   ],
   "source": [
    "summary(risco)"
   ]
  },
  {
   "cell_type": "markdown",
   "id": "3efab40d-3f2a-44a8-9b98-717bae6262ab",
   "metadata": {},
   "source": [
    "## Estudo das Variáveis\n",
    "\n",
    "### historia"
   ]
  },
  {
   "cell_type": "code",
   "execution_count": 76,
   "id": "e39ecf4b-4aed-42e9-afad-72c3dfd8d62c",
   "metadata": {},
   "outputs": [
    {
     "data": {
      "text/html": [
       "0"
      ],
      "text/latex": [
       "0"
      ],
      "text/markdown": [
       "0"
      ],
      "text/plain": [
       "[1] 0"
      ]
     },
     "metadata": {},
     "output_type": "display_data"
    },
    {
     "data": {
      "text/html": [
       "0"
      ],
      "text/latex": [
       "0"
      ],
      "text/markdown": [
       "0"
      ],
      "text/plain": [
       "[1] 0"
      ]
     },
     "metadata": {},
     "output_type": "display_data"
    },
    {
     "data": {
      "text/plain": [
       "\n",
       " alta baixa \n",
       "    7     7 "
      ]
     },
     "metadata": {},
     "output_type": "display_data"
    }
   ],
   "source": [
    "sum(is.na(risco$historia))\n",
    "sum(is.null(risco$historia))\n",
    "table(risco$divida, useNA = 'ifany')"
   ]
  },
  {
   "cell_type": "code",
   "execution_count": 78,
   "id": "5edf9b0b-c52d-43e0-ace8-51b73d53d2c7",
   "metadata": {},
   "outputs": [
    {
     "data": {
      "image/png": "[encoded data removed]",
      "text/plain": [
       "Plot with title \"Total por Histórico\""
      ]
     },
     "metadata": {},
     "output_type": "display_data"
    }
   ],
   "source": [
    "agg <- aggregate( . ~ historia, data = risco, length)\n",
    "\n",
    "barplot(\n",
    "    agg$risco,\n",
    "    las = 1,\n",
    "    col = rainbow(12),\n",
    "    beside = TRUE,\n",
    "    xlab = 'Histórico',\n",
    "    ylab = 'total',\n",
    "    main = 'Total por Histórico',\n",
    "    names = unique(risco$historia),\n",
    ")\n"
   ]
  },
  {
   "cell_type": "markdown",
   "id": "614d439e-bfe7-4e82-9e01-988a8cd41f6f",
   "metadata": {},
   "source": [
    "### divida"
   ]
  },
  {
   "cell_type": "code",
   "execution_count": 75,
   "id": "1c50f08d-422c-4199-a690-db0a6f83b6b3",
   "metadata": {},
   "outputs": [
    {
     "data": {
      "text/html": [
       "0"
      ],
      "text/latex": [
       "0"
      ],
      "text/markdown": [
       "0"
      ],
      "text/plain": [
       "[1] 0"
      ]
     },
     "metadata": {},
     "output_type": "display_data"
    },
    {
     "data": {
      "text/html": [
       "0"
      ],
      "text/latex": [
       "0"
      ],
      "text/markdown": [
       "0"
      ],
      "text/plain": [
       "[1] 0"
      ]
     },
     "metadata": {},
     "output_type": "display_data"
    },
    {
     "data": {
      "text/plain": [
       "\n",
       " alta baixa \n",
       "    7     7 "
      ]
     },
     "metadata": {},
     "output_type": "display_data"
    }
   ],
   "source": [
    "sum(is.na(risco$divida))\n",
    "sum(is.null(risco$divida))\n",
    "table(risco$divida, useNA = 'ifany')"
   ]
  },
  {
   "cell_type": "code",
   "execution_count": 77,
   "id": "a0d419f2-2375-41ab-a9b9-2a9cbccb91cd",
   "metadata": {},
   "outputs": [
    {
     "data": {
      "image/png": "[encoded data removed]",
      "text/plain": [
       "Plot with title \"Total por Dívida\""
      ]
     },
     "metadata": {},
     "output_type": "display_data"
    }
   ],
   "source": [
    "agg <- aggregate( risco ~ divida, data = risco, length)\n",
    "\n",
    "barplot(\n",
    "    agg$risco,\n",
    "    las = 1,\n",
    "    col = rainbow(12),\n",
    "    beside = TRUE,\n",
    "    xlab = 'Dívida',\n",
    "    ylab = 'Total',\n",
    "    main = 'Total por Dívida',\n",
    "    names = unique(risco$divida),\n",
    ")\n"
   ]
  },
  {
   "cell_type": "markdown",
   "id": "503edd26-bf6c-4a10-923f-f9f1cc3d7556",
   "metadata": {},
   "source": [
    "### garantias"
   ]
  },
  {
   "cell_type": "code",
   "execution_count": 74,
   "id": "665bf32d-3a40-4cee-8bb8-45c737b561c5",
   "metadata": {},
   "outputs": [
    {
     "data": {
      "text/html": [
       "0"
      ],
      "text/latex": [
       "0"
      ],
      "text/markdown": [
       "0"
      ],
      "text/plain": [
       "[1] 0"
      ]
     },
     "metadata": {},
     "output_type": "display_data"
    },
    {
     "data": {
      "text/html": [
       "0"
      ],
      "text/latex": [
       "0"
      ],
      "text/markdown": [
       "0"
      ],
      "text/plain": [
       "[1] 0"
      ]
     },
     "metadata": {},
     "output_type": "display_data"
    },
    {
     "data": {
      "text/plain": [
       "\n",
       "adequada  nenhuma \n",
       "       3       11 "
      ]
     },
     "metadata": {},
     "output_type": "display_data"
    }
   ],
   "source": [
    "sum(is.na(risco$garantias))\n",
    "sum(is.null(risco$garantias))\n",
    "table(risco$garantias, useNA = 'ifany')"
   ]
  },
  {
   "cell_type": "code",
   "execution_count": 82,
   "id": "039a750d-e4e1-41f6-968d-b2056e87b2ff",
   "metadata": {},
   "outputs": [
    {
     "data": {
      "text/html": [
       "<table>\n",
       "<thead><tr><th scope=col>garantias</th><th scope=col>risco</th></tr></thead>\n",
       "<tbody>\n",
       "\t<tr><td>adequada</td><td> 3      </td></tr>\n",
       "\t<tr><td>nenhuma </td><td>11      </td></tr>\n",
       "</tbody>\n",
       "</table>\n"
      ],
      "text/latex": [
       "\\begin{tabular}{r|ll}\n",
       " garantias & risco\\\\\n",
       "\\hline\n",
       "\t adequada &  3      \\\\\n",
       "\t nenhuma  & 11      \\\\\n",
       "\\end{tabular}\n"
      ],
      "text/markdown": [
       "\n",
       "| garantias | risco |\n",
       "|---|---|\n",
       "| adequada |  3       |\n",
       "| nenhuma  | 11       |\n",
       "\n"
      ],
      "text/plain": [
       "  garantias risco\n",
       "1 adequada   3   \n",
       "2 nenhuma   11   "
      ]
     },
     "metadata": {},
     "output_type": "display_data"
    },
    {
     "data": {
      "image/png": "[encoded data removed]",
      "text/plain": [
       "Plot with title \"Total por Garantia\""
      ]
     },
     "metadata": {},
     "output_type": "display_data"
    }
   ],
   "source": [
    "agg <- aggregate( risco ~ garantias, data = risco, length)\n",
    "\n",
    "agg\n",
    "\n",
    "barplot(\n",
    "    agg$risco,\n",
    "    las = 1,\n",
    "    col = rainbow(12),\n",
    "    beside = TRUE,\n",
    "    xlab = 'Garantia',\n",
    "    ylab = 'Total',\n",
    "    main = 'Total por Garantia',\n",
    "    names = unique(risco$garantias),\n",
    ")\n"
   ]
  },
  {
   "cell_type": "markdown",
   "id": "ea93ab73-c979-4a1f-ae03-806407e4b441",
   "metadata": {},
   "source": [
    "### renda"
   ]
  },
  {
   "cell_type": "code",
   "execution_count": 83,
   "id": "386d27c0-1c2e-4b99-bb24-4cff20dd1975",
   "metadata": {},
   "outputs": [
    {
     "data": {
      "text/html": [
       "0"
      ],
      "text/latex": [
       "0"
      ],
      "text/markdown": [
       "0"
      ],
      "text/plain": [
       "[1] 0"
      ]
     },
     "metadata": {},
     "output_type": "display_data"
    },
    {
     "data": {
      "text/html": [
       "0"
      ],
      "text/latex": [
       "0"
      ],
      "text/markdown": [
       "0"
      ],
      "text/plain": [
       "[1] 0"
      ]
     },
     "metadata": {},
     "output_type": "display_data"
    },
    {
     "data": {
      "text/plain": [
       "\n",
       "    0_15    15_35 acima_35 \n",
       "       3        4        7 "
      ]
     },
     "metadata": {},
     "output_type": "display_data"
    }
   ],
   "source": [
    "sum(is.na(risco$renda))\n",
    "sum(is.null(risco$renda))\n",
    "table(risco$renda, useNA = 'ifany')"
   ]
  },
  {
   "cell_type": "code",
   "execution_count": 85,
   "id": "be7b4474-243e-4f9f-bb68-1cce01cd9020",
   "metadata": {},
   "outputs": [
    {
     "data": {
      "image/png": "[encoded data removed]",
      "text/plain": [
       "Plot with title \"Total por Renda\""
      ]
     },
     "metadata": {},
     "output_type": "display_data"
    }
   ],
   "source": [
    "agg <- aggregate( risco ~ renda, data = risco, length)\n",
    "\n",
    "barplot(\n",
    "    agg$risco,\n",
    "    las = 1,\n",
    "    col = rainbow(12),\n",
    "    beside = TRUE,\n",
    "    xlab = 'Renda',\n",
    "    ylab = 'Total',\n",
    "    main = 'Total por Renda',\n",
    "    names = unique(risco$renda),\n",
    ")\n"
   ]
  },
  {
   "cell_type": "markdown",
   "id": "085b8b0a-7651-4ba9-b2ba-0167dc7c16cb",
   "metadata": {},
   "source": [
    "### risco"
   ]
  },
  {
   "cell_type": "code",
   "execution_count": 89,
   "id": "ccd8454d-6d0f-456a-a8e0-e1864b91a87e",
   "metadata": {},
   "outputs": [
    {
     "data": {
      "text/html": [
       "0"
      ],
      "text/latex": [
       "0"
      ],
      "text/markdown": [
       "0"
      ],
      "text/plain": [
       "[1] 0"
      ]
     },
     "metadata": {},
     "output_type": "display_data"
    },
    {
     "data": {
      "text/html": [
       "0"
      ],
      "text/latex": [
       "0"
      ],
      "text/markdown": [
       "0"
      ],
      "text/plain": [
       "[1] 0"
      ]
     },
     "metadata": {},
     "output_type": "display_data"
    },
    {
     "data": {
      "text/plain": [
       "\n",
       "    0_15    15_35 acima_35 \n",
       "       3        4        7 "
      ]
     },
     "metadata": {},
     "output_type": "display_data"
    }
   ],
   "source": [
    "sum(is.na(risco$renda))\n",
    "sum(is.null(risco$renda))\n",
    "table(risco$renda, useNA = 'ifany')"
   ]
  },
  {
   "cell_type": "code",
   "execution_count": 88,
   "id": "6a107bbc-31e7-4925-9192-b9ad78d47e1c",
   "metadata": {},
   "outputs": [
    {
     "data": {
      "image/png": "[encoded data removed]",
      "text/plain": [
       "Plot with title \"Total por Garantia\""
      ]
     },
     "metadata": {},
     "output_type": "display_data"
    }
   ],
   "source": [
    "agg <- aggregate( . ~ risco, data = risco, length)\n",
    "\n",
    "barplot(\n",
    "    agg$renda,\n",
    "    las = 1,\n",
    "    col = rainbow(12),\n",
    "    beside = TRUE,\n",
    "    xlab = 'Risco',\n",
    "    ylab = 'Total',\n",
    "    main = 'Total por Risco',\n",
    "    names = unique(risco$risco),\n",
    ")\n"
   ]
  },
  {
   "cell_type": "code",
   "execution_count": null,
   "id": "57ae40c6-d18b-4445-9d8e-99228eeec36b",
   "metadata": {},
   "outputs": [],
   "source": []
  }
 ],
 "metadata": {
  "kernelspec": {
   "display_name": "R",
   "language": "R",
   "name": "ir"
  },
  "language_info": {
   "codemirror_mode": "r",
   "file_extension": ".r",
   "mimetype": "text/x-r-source",
   "name": "R",
   "pygments_lexer": "r",
   "version": "3.6.1"
  },
  "toc-autonumbering": true
 },
 "nbformat": 4,
 "nbformat_minor": 5
}
