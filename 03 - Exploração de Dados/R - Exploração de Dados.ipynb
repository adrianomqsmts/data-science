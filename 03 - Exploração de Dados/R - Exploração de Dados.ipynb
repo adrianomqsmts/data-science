{
 "cells": [
  {
   "cell_type": "markdown",
   "id": "3d77cdbd-ab0d-4ea0-b5b5-d35483ce3dfd",
   "metadata": {},
   "source": [
    "# chickwts\n",
    "\n",
    "- Dataframe emburito, sobre o crescimento de frango de acordo com o suplemento alimentar"
   ]
  },
  {
   "cell_type": "code",
   "execution_count": 30,
   "id": "e1ff859d-1ae7-4f70-81ed-4a468e0fcbbc",
   "metadata": {},
   "outputs": [],
   "source": [
    "library(repr)\n",
    "options(repr.plot.width= 4, repr.plot.height= 4)"
   ]
  },
  {
   "cell_type": "code",
   "execution_count": 31,
   "id": "9b00ef9f-42ce-469d-8037-4188e230660b",
   "metadata": {},
   "outputs": [
    {
     "data": {
      "text/html": [
       "<table>\n",
       "<thead><tr><th scope=col>weight</th><th scope=col>feed</th></tr></thead>\n",
       "<tbody>\n",
       "\t<tr><td>179      </td><td>horsebean</td></tr>\n",
       "\t<tr><td>160      </td><td>horsebean</td></tr>\n",
       "\t<tr><td>136      </td><td>horsebean</td></tr>\n",
       "\t<tr><td>227      </td><td>horsebean</td></tr>\n",
       "\t<tr><td>217      </td><td>horsebean</td></tr>\n",
       "\t<tr><td>168      </td><td>horsebean</td></tr>\n",
       "</tbody>\n",
       "</table>\n"
      ],
      "text/latex": [
       "\\begin{tabular}{r|ll}\n",
       " weight & feed\\\\\n",
       "\\hline\n",
       "\t 179       & horsebean\\\\\n",
       "\t 160       & horsebean\\\\\n",
       "\t 136       & horsebean\\\\\n",
       "\t 227       & horsebean\\\\\n",
       "\t 217       & horsebean\\\\\n",
       "\t 168       & horsebean\\\\\n",
       "\\end{tabular}\n"
      ],
      "text/markdown": [
       "\n",
       "| weight | feed |\n",
       "|---|---|\n",
       "| 179       | horsebean |\n",
       "| 160       | horsebean |\n",
       "| 136       | horsebean |\n",
       "| 227       | horsebean |\n",
       "| 217       | horsebean |\n",
       "| 168       | horsebean |\n",
       "\n"
      ],
      "text/plain": [
       "  weight feed     \n",
       "1 179    horsebean\n",
       "2 160    horsebean\n",
       "3 136    horsebean\n",
       "4 227    horsebean\n",
       "5 217    horsebean\n",
       "6 168    horsebean"
      ]
     },
     "metadata": {},
     "output_type": "display_data"
    }
   ],
   "source": [
    "head(chickwts)"
   ]
  },
  {
   "cell_type": "code",
   "execution_count": 34,
   "id": "29bae162-32c3-4caa-bf2a-1a5607bc028f",
   "metadata": {},
   "outputs": [
    {
     "data": {
      "image/png": "[encoded data removed]",
      "text/plain": [
       "Plot with title \"Animais alimentados\n",
       "por suplemento (chickwts)\""
      ]
     },
     "metadata": {},
     "output_type": "display_data"
    }
   ],
   "source": [
    "barplot(feeds[order(feeds)],\n",
    "        horiz=TRUE,\n",
    "        las=1,\n",
    "        col=topo.colors(length(feeds)),\n",
    "        border=NA,\n",
    "        main=\"Animais alimentados\\npor suplemento (chickwts)\",\n",
    "        xlab=\"Número de frangos\"\n",
    ")"
   ]
  },
  {
   "cell_type": "code",
   "execution_count": 37,
   "id": "f8ca9240-e402-4235-a0ee-af645ef6942a",
   "metadata": {},
   "outputs": [
    {
     "data": {
      "image/png": "[encoded data removed]",
      "text/plain": [
       "Plot with title \"Uso de cada suplemento (chickwts)\""
      ]
     },
     "metadata": {},
     "output_type": "display_data"
    }
   ],
   "source": [
    "pie(feeds[order(feeds, decreasing=TRUE)],\n",
    "    init.angle=90,\n",
    "    clockwise=TRUE,\n",
    "    col = c(\"seashell\", \"cadetblue2\", \"lightpink\",\"lightcyan\", \"plum1\", \"papayawhip\"),\n",
    "    main = \"Uso de cada suplemento (chickwts)\"\n",
    ")"
   ]
  },
  {
   "cell_type": "markdown",
   "id": "922b094c-723f-4e4a-b744-a039a747b15d",
   "metadata": {},
   "source": [
    "# Captura de Felinos"
   ]
  },
  {
   "cell_type": "code",
   "execution_count": 38,
   "id": "5855a637-06ca-4f75-9f75-21c2c6bd46b8",
   "metadata": {},
   "outputs": [
    {
     "data": {
      "text/html": [
       "<ol class=list-inline>\n",
       "\t<li>269</li>\n",
       "\t<li>321</li>\n",
       "\t<li>585</li>\n",
       "\t<li>871</li>\n",
       "\t<li>1475</li>\n",
       "\t<li>2821</li>\n",
       "</ol>\n"
      ],
      "text/latex": [
       "\\begin{enumerate*}\n",
       "\\item 269\n",
       "\\item 321\n",
       "\\item 585\n",
       "\\item 871\n",
       "\\item 1475\n",
       "\\item 2821\n",
       "\\end{enumerate*}\n"
      ],
      "text/markdown": [
       "1. 269\n",
       "2. 321\n",
       "3. 585\n",
       "4. 871\n",
       "5. 1475\n",
       "6. 2821\n",
       "\n",
       "\n"
      ],
      "text/plain": [
       "[1]  269  321  585  871 1475 2821"
      ]
     },
     "metadata": {},
     "output_type": "display_data"
    }
   ],
   "source": [
    "head(lynx)"
   ]
  },
  {
   "cell_type": "code",
   "execution_count": 40,
   "id": "916705fc-0942-4f26-baa8-891713a94810",
   "metadata": {},
   "outputs": [
    {
     "data": {
      "image/png": "[encoded data removed]",
      "text/plain": [
       "Plot with title \"Captura anual de linces no Canadá\n",
       "1821 - 1934\""
      ]
     },
     "metadata": {},
     "output_type": "display_data"
    }
   ],
   "source": [
    " hist(\n",
    "    lynx,\n",
    "    breaks=11,\n",
    "    freq=FALSE,\n",
    "    col = \"thistle1\",\n",
    "    main = \"Captura anual de linces no Canadá\\n1821 - 1934\",\n",
    "    xlab = \"Número de linces capturados\")\n",
    "    curve(dnorm(x, mean=mean(lynx), sd=sd(lynx)),\n",
    "    col = \"thistle4\",\n",
    "    lwd = 2,\n",
    "    add = TRUE\n",
    ")"
   ]
  },
  {
   "cell_type": "markdown",
   "id": "e5b08513-4770-41fc-b82b-a48df158c8d7",
   "metadata": {},
   "source": [
    "# Avaliações de Juizes"
   ]
  },
  {
   "cell_type": "code",
   "execution_count": 42,
   "id": "cc53479d-f65f-4c74-a3b4-6a6467b6f0ae",
   "metadata": {},
   "outputs": [
    {
     "data": {
      "text/html": [
       "<table>\n",
       "<thead><tr><th></th><th scope=col>CONT</th><th scope=col>INTG</th><th scope=col>DMNR</th><th scope=col>DILG</th><th scope=col>CFMG</th><th scope=col>DECI</th><th scope=col>PREP</th><th scope=col>FAMI</th><th scope=col>ORAL</th><th scope=col>WRIT</th><th scope=col>PHYS</th><th scope=col>RTEN</th></tr></thead>\n",
       "<tbody>\n",
       "\t<tr><th scope=row>AARONSON,L.H.</th><td>5.7</td><td>7.9</td><td>7.7</td><td>7.3</td><td>7.1</td><td>7.4</td><td>7.1</td><td>7.1</td><td>7.1</td><td>7.0</td><td>8.3</td><td>7.8</td></tr>\n",
       "\t<tr><th scope=row>ALEXANDER,J.M.</th><td>6.8</td><td>8.9</td><td>8.8</td><td>8.5</td><td>7.8</td><td>8.1</td><td>8.0</td><td>8.0</td><td>7.8</td><td>7.9</td><td>8.5</td><td>8.7</td></tr>\n",
       "\t<tr><th scope=row>ARMENTANO,A.J.</th><td>7.2</td><td>8.1</td><td>7.8</td><td>7.8</td><td>7.5</td><td>7.6</td><td>7.5</td><td>7.5</td><td>7.3</td><td>7.4</td><td>7.9</td><td>7.8</td></tr>\n",
       "\t<tr><th scope=row>BERDON,R.I.</th><td>6.8</td><td>8.8</td><td>8.5</td><td>8.8</td><td>8.3</td><td>8.5</td><td>8.7</td><td>8.7</td><td>8.4</td><td>8.5</td><td>8.8</td><td>8.7</td></tr>\n",
       "\t<tr><th scope=row>BRACKEN,J.J.</th><td>7.3</td><td>6.4</td><td>4.3</td><td>6.5</td><td>6.0</td><td>6.2</td><td>5.7</td><td>5.7</td><td>5.1</td><td>5.3</td><td>5.5</td><td>4.8</td></tr>\n",
       "\t<tr><th scope=row>BURNS,E.B.</th><td>6.2</td><td>8.8</td><td>8.7</td><td>8.5</td><td>7.9</td><td>8.0</td><td>8.1</td><td>8.0</td><td>8.0</td><td>8.0</td><td>8.6</td><td>8.6</td></tr>\n",
       "</tbody>\n",
       "</table>\n"
      ],
      "text/latex": [
       "\\begin{tabular}{r|llllllllllll}\n",
       "  & CONT & INTG & DMNR & DILG & CFMG & DECI & PREP & FAMI & ORAL & WRIT & PHYS & RTEN\\\\\n",
       "\\hline\n",
       "\tAARONSON,L.H. & 5.7 & 7.9 & 7.7 & 7.3 & 7.1 & 7.4 & 7.1 & 7.1 & 7.1 & 7.0 & 8.3 & 7.8\\\\\n",
       "\tALEXANDER,J.M. & 6.8 & 8.9 & 8.8 & 8.5 & 7.8 & 8.1 & 8.0 & 8.0 & 7.8 & 7.9 & 8.5 & 8.7\\\\\n",
       "\tARMENTANO,A.J. & 7.2 & 8.1 & 7.8 & 7.8 & 7.5 & 7.6 & 7.5 & 7.5 & 7.3 & 7.4 & 7.9 & 7.8\\\\\n",
       "\tBERDON,R.I. & 6.8 & 8.8 & 8.5 & 8.8 & 8.3 & 8.5 & 8.7 & 8.7 & 8.4 & 8.5 & 8.8 & 8.7\\\\\n",
       "\tBRACKEN,J.J. & 7.3 & 6.4 & 4.3 & 6.5 & 6.0 & 6.2 & 5.7 & 5.7 & 5.1 & 5.3 & 5.5 & 4.8\\\\\n",
       "\tBURNS,E.B. & 6.2 & 8.8 & 8.7 & 8.5 & 7.9 & 8.0 & 8.1 & 8.0 & 8.0 & 8.0 & 8.6 & 8.6\\\\\n",
       "\\end{tabular}\n"
      ],
      "text/markdown": [
       "\n",
       "| <!--/--> | CONT | INTG | DMNR | DILG | CFMG | DECI | PREP | FAMI | ORAL | WRIT | PHYS | RTEN |\n",
       "|---|---|---|---|---|---|---|---|---|---|---|---|---|\n",
       "| AARONSON,L.H. | 5.7 | 7.9 | 7.7 | 7.3 | 7.1 | 7.4 | 7.1 | 7.1 | 7.1 | 7.0 | 8.3 | 7.8 |\n",
       "| ALEXANDER,J.M. | 6.8 | 8.9 | 8.8 | 8.5 | 7.8 | 8.1 | 8.0 | 8.0 | 7.8 | 7.9 | 8.5 | 8.7 |\n",
       "| ARMENTANO,A.J. | 7.2 | 8.1 | 7.8 | 7.8 | 7.5 | 7.6 | 7.5 | 7.5 | 7.3 | 7.4 | 7.9 | 7.8 |\n",
       "| BERDON,R.I. | 6.8 | 8.8 | 8.5 | 8.8 | 8.3 | 8.5 | 8.7 | 8.7 | 8.4 | 8.5 | 8.8 | 8.7 |\n",
       "| BRACKEN,J.J. | 7.3 | 6.4 | 4.3 | 6.5 | 6.0 | 6.2 | 5.7 | 5.7 | 5.1 | 5.3 | 5.5 | 4.8 |\n",
       "| BURNS,E.B. | 6.2 | 8.8 | 8.7 | 8.5 | 7.9 | 8.0 | 8.1 | 8.0 | 8.0 | 8.0 | 8.6 | 8.6 |\n",
       "\n"
      ],
      "text/plain": [
       "               CONT INTG DMNR DILG CFMG DECI PREP FAMI ORAL WRIT PHYS RTEN\n",
       "AARONSON,L.H.  5.7  7.9  7.7  7.3  7.1  7.4  7.1  7.1  7.1  7.0  8.3  7.8 \n",
       "ALEXANDER,J.M. 6.8  8.9  8.8  8.5  7.8  8.1  8.0  8.0  7.8  7.9  8.5  8.7 \n",
       "ARMENTANO,A.J. 7.2  8.1  7.8  7.8  7.5  7.6  7.5  7.5  7.3  7.4  7.9  7.8 \n",
       "BERDON,R.I.    6.8  8.8  8.5  8.8  8.3  8.5  8.7  8.7  8.4  8.5  8.8  8.7 \n",
       "BRACKEN,J.J.   7.3  6.4  4.3  6.5  6.0  6.2  5.7  5.7  5.1  5.3  5.5  4.8 \n",
       "BURNS,E.B.     6.2  8.8  8.7  8.5  7.9  8.0  8.1  8.0  8.0  8.0  8.6  8.6 "
      ]
     },
     "metadata": {},
     "output_type": "display_data"
    }
   ],
   "source": [
    "head(USJudgeRatings)"
   ]
  },
  {
   "cell_type": "code",
   "execution_count": 48,
   "id": "2ac4d7cf-1c43-44e7-a0c2-8dce2474b51d",
   "metadata": {},
   "outputs": [
    {
     "data": {
      "image/png": "[encoded data removed]",
      "text/plain": [
       "plot without title"
      ]
     },
     "metadata": {},
     "output_type": "display_data"
    }
   ],
   "source": [
    "options(repr.plot.width= 7, repr.plot.height= 7)\n",
    "boxplot(\n",
    "    USJudgeRatings,\n",
    "    horizontal = TRUE,\n",
    "    las=1,\n",
    "    notch = TRUE,\n",
    "    col = \"slategray3\",\n",
    "    boxwex = 0.5,\n",
    "    whisklty=1,\n",
    "    names = colnames(USJudgeRatings),\n",
    "    outpch=16,\n",
    "    outcol=\"slategray3\", \n",
    "    stoplelty = 0,\n",
    "    ylim = c(4,10), \n",
    "    xlab = \"Avaliações\"\n",
    ")"
   ]
  },
  {
   "cell_type": "markdown",
   "id": "8ba3050c-3400-4b05-8d00-ea36042f7f6d",
   "metadata": {},
   "source": [
    "# Fertilidade e Economia da Suíça"
   ]
  },
  {
   "cell_type": "code",
   "execution_count": 51,
   "id": "66b84d4b-a199-4f0c-a4b8-afbd857cb9b4",
   "metadata": {},
   "outputs": [
    {
     "data": {
      "text/html": [
       "<table>\n",
       "<thead><tr><th></th><th scope=col>Fertility</th><th scope=col>Agriculture</th><th scope=col>Examination</th><th scope=col>Education</th><th scope=col>Catholic</th><th scope=col>Infant.Mortality</th></tr></thead>\n",
       "<tbody>\n",
       "\t<tr><th scope=row>Courtelary</th><td>80.2 </td><td>17.0 </td><td>15   </td><td>12   </td><td> 9.96</td><td>22.2 </td></tr>\n",
       "\t<tr><th scope=row>Delemont</th><td>83.1 </td><td>45.1 </td><td> 6   </td><td> 9   </td><td>84.84</td><td>22.2 </td></tr>\n",
       "\t<tr><th scope=row>Franches-Mnt</th><td>92.5 </td><td>39.7 </td><td> 5   </td><td> 5   </td><td>93.40</td><td>20.2 </td></tr>\n",
       "\t<tr><th scope=row>Moutier</th><td>85.8 </td><td>36.5 </td><td>12   </td><td> 7   </td><td>33.77</td><td>20.3 </td></tr>\n",
       "\t<tr><th scope=row>Neuveville</th><td>76.9 </td><td>43.5 </td><td>17   </td><td>15   </td><td> 5.16</td><td>20.6 </td></tr>\n",
       "\t<tr><th scope=row>Porrentruy</th><td>76.1 </td><td>35.3 </td><td> 9   </td><td> 7   </td><td>90.57</td><td>26.6 </td></tr>\n",
       "</tbody>\n",
       "</table>\n"
      ],
      "text/latex": [
       "\\begin{tabular}{r|llllll}\n",
       "  & Fertility & Agriculture & Examination & Education & Catholic & Infant.Mortality\\\\\n",
       "\\hline\n",
       "\tCourtelary & 80.2  & 17.0  & 15    & 12    &  9.96 & 22.2 \\\\\n",
       "\tDelemont & 83.1  & 45.1  &  6    &  9    & 84.84 & 22.2 \\\\\n",
       "\tFranches-Mnt & 92.5  & 39.7  &  5    &  5    & 93.40 & 20.2 \\\\\n",
       "\tMoutier & 85.8  & 36.5  & 12    &  7    & 33.77 & 20.3 \\\\\n",
       "\tNeuveville & 76.9  & 43.5  & 17    & 15    &  5.16 & 20.6 \\\\\n",
       "\tPorrentruy & 76.1  & 35.3  &  9    &  7    & 90.57 & 26.6 \\\\\n",
       "\\end{tabular}\n"
      ],
      "text/markdown": [
       "\n",
       "| <!--/--> | Fertility | Agriculture | Examination | Education | Catholic | Infant.Mortality |\n",
       "|---|---|---|---|---|---|---|\n",
       "| Courtelary | 80.2  | 17.0  | 15    | 12    |  9.96 | 22.2  |\n",
       "| Delemont | 83.1  | 45.1  |  6    |  9    | 84.84 | 22.2  |\n",
       "| Franches-Mnt | 92.5  | 39.7  |  5    |  5    | 93.40 | 20.2  |\n",
       "| Moutier | 85.8  | 36.5  | 12    |  7    | 33.77 | 20.3  |\n",
       "| Neuveville | 76.9  | 43.5  | 17    | 15    |  5.16 | 20.6  |\n",
       "| Porrentruy | 76.1  | 35.3  |  9    |  7    | 90.57 | 26.6  |\n",
       "\n"
      ],
      "text/plain": [
       "             Fertility Agriculture Examination Education Catholic\n",
       "Courtelary   80.2      17.0        15          12         9.96   \n",
       "Delemont     83.1      45.1         6           9        84.84   \n",
       "Franches-Mnt 92.5      39.7         5           5        93.40   \n",
       "Moutier      85.8      36.5        12           7        33.77   \n",
       "Neuveville   76.9      43.5        17          15         5.16   \n",
       "Porrentruy   76.1      35.3         9           7        90.57   \n",
       "             Infant.Mortality\n",
       "Courtelary   22.2            \n",
       "Delemont     22.2            \n",
       "Franches-Mnt 20.2            \n",
       "Moutier      20.3            \n",
       "Neuveville   20.6            \n",
       "Porrentruy   26.6            "
      ]
     },
     "metadata": {},
     "output_type": "display_data"
    }
   ],
   "source": [
    "head(swiss)"
   ]
  },
  {
   "cell_type": "code",
   "execution_count": 53,
   "id": "98a1f67e-53f0-4e29-bbaf-e921339f548b",
   "metadata": {},
   "outputs": [
    {
     "data": {
      "image/png": "[encoded data removed]",
      "text/plain": [
       "Plot with title \"Fertilidade nas 47 provincias suícas\""
      ]
     },
     "metadata": {},
     "output_type": "display_data"
    }
   ],
   "source": [
    "options(repr.plot.width= 4, repr.plot.height= 4)\n",
    "fertility <- swiss$Fertility\n",
    "hist(\n",
    "    fertility,\n",
    "    prob = TRUE,\n",
    "    ylim = c(0, 0.04),\n",
    "    xlim = c(30, 100),\n",
    "    breaks =11,\n",
    "    col = \"gray\",\n",
    "    main = \"Fertilidade nas 47 provincias suícas\"\n",
    ")\n",
    "\n",
    "curve(\n",
    "    dnorm(x, mean=mean(fertility), sd=sd(fertility)),\n",
    "    col=\"red\",\n",
    "    lwd=3,\n",
    "    add=TRUE\n",
    ")\n",
    "lines(density(fertility), col=\"blue\")\n",
    "lines(density(fertility, adjust=3), col=\"darkgreen\")\n",
    "rug(fertility, col=\"black\") # Localização dos valores originais da fertilidade, marcados abaixo das barras"
   ]
  },
  {
   "cell_type": "code",
   "execution_count": null,
   "id": "14fb73f6-b433-4bc6-9bf0-88af6065084d",
   "metadata": {},
   "outputs": [],
   "source": []
  }
 ],
 "metadata": {
  "kernelspec": {
   "display_name": "R",
   "language": "R",
   "name": "ir"
  },
  "language_info": {
   "codemirror_mode": "r",
   "file_extension": ".r",
   "mimetype": "text/x-r-source",
   "name": "R",
   "pygments_lexer": "r",
   "version": "3.6.1"
  }
 },
 "nbformat": 4,
 "nbformat_minor": 5
}
