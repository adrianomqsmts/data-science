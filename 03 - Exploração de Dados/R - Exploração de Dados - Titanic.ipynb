{
 "cells": [
  {
   "cell_type": "markdown",
   "id": "derived-cattle",
   "metadata": {},
   "source": [
    "# Titanic\n",
    "\n",
    "## Conteúdo \n",
    "\n",
    "**idade**: a idade é fracionária se for menor que 1. Se a idade for estimada, é na forma de xx.5 \n",
    "\n",
    "Variable|Definition|Key\n",
    "--|--|--\n",
    "survival|Survival|0 = No, 1 = Yes\n",
    "pclass|Status socioeconômico (SES) 1st = Upper 2nd = Middle 3rd = Lower|1 = 1st, 2 = 2nd, 3 = 3rd\n",
    "sex|Sexo|\n",
    "Age|Idade em anos|\n",
    "sibsp|# Relações familiares | Sibling = irmão, irmã, meio-irmão, meia-irmã. Spouse = marido, esposa (amantes e noivos foram ignorados)\n",
    "parch|# Relações familiares| Parent  = mãe, pai. Child = filha, filho, enteada, enteado Algumas crianças viajavam apenas com uma babá, portanto parch = 0 para elas\n",
    "ticket|Número do Ticket|\n",
    "fare|Tarifa de passageiro|\n",
    "cabin|Número da Cabine|\n",
    "embarked|Local do Embarque|C = Cherbourg, Q = Queenstown, S = Southampton"
   ]
  },
  {
   "cell_type": "markdown",
   "id": "inappropriate-ladder",
   "metadata": {},
   "source": [
    "## Carregando bibliotecas"
   ]
  },
  {
   "cell_type": "code",
   "execution_count": 2,
   "id": "promising-flight",
   "metadata": {},
   "outputs": [],
   "source": [
    "library(RColorBrewer)\n",
    "options(repr.plot.width= 4, repr.plot.height= 4)"
   ]
  },
  {
   "cell_type": "markdown",
   "id": "advised-china",
   "metadata": {},
   "source": [
    "## Abrindo o Arquivo"
   ]
  },
  {
   "cell_type": "code",
   "execution_count": 3,
   "id": "differential-sleeve",
   "metadata": {},
   "outputs": [
    {
     "data": {
      "text/html": [
       "<table>\n",
       "<thead><tr><th scope=col>PassengerId</th><th scope=col>Survived</th><th scope=col>Pclass</th><th scope=col>Name</th><th scope=col>Sex</th><th scope=col>Age</th><th scope=col>SibSp</th><th scope=col>Parch</th><th scope=col>Ticket</th><th scope=col>Fare</th><th scope=col>Cabin</th><th scope=col>Embarked</th></tr></thead>\n",
       "<tbody>\n",
       "\t<tr><td>1                                                  </td><td>0                                                  </td><td>3                                                  </td><td>Braund, Mr. Owen Harris                            </td><td>male                                               </td><td>22                                                 </td><td>1                                                  </td><td>0                                                  </td><td>A/5 21171                                          </td><td> 7.2500                                            </td><td>NA                                                 </td><td>S                                                  </td></tr>\n",
       "\t<tr><td>2                                                  </td><td>1                                                  </td><td>1                                                  </td><td>Cumings, Mrs. John Bradley (Florence Briggs Thayer)</td><td>female                                             </td><td>38                                                 </td><td>1                                                  </td><td>0                                                  </td><td>PC 17599                                           </td><td>71.2833                                            </td><td>C85                                                </td><td>C                                                  </td></tr>\n",
       "\t<tr><td>3                                                  </td><td>1                                                  </td><td>3                                                  </td><td>Heikkinen, Miss. Laina                             </td><td>female                                             </td><td>26                                                 </td><td>0                                                  </td><td>0                                                  </td><td>STON/O2. 3101282                                   </td><td> 7.9250                                            </td><td>NA                                                 </td><td>S                                                  </td></tr>\n",
       "\t<tr><td>4                                                  </td><td>1                                                  </td><td>1                                                  </td><td>Futrelle, Mrs. Jacques Heath (Lily May Peel)       </td><td>female                                             </td><td>35                                                 </td><td>1                                                  </td><td>0                                                  </td><td>113803                                             </td><td>53.1000                                            </td><td>C123                                               </td><td>S                                                  </td></tr>\n",
       "\t<tr><td>5                                                  </td><td>0                                                  </td><td>3                                                  </td><td>Allen, Mr. William Henry                           </td><td>male                                               </td><td>35                                                 </td><td>0                                                  </td><td>0                                                  </td><td>373450                                             </td><td> 8.0500                                            </td><td>NA                                                 </td><td>S                                                  </td></tr>\n",
       "\t<tr><td>6                                                  </td><td>0                                                  </td><td>3                                                  </td><td>Moran, Mr. James                                   </td><td>male                                               </td><td>NA                                                 </td><td>0                                                  </td><td>0                                                  </td><td>330877                                             </td><td> 8.4583                                            </td><td>NA                                                 </td><td>Q                                                  </td></tr>\n",
       "</tbody>\n",
       "</table>\n"
      ],
      "text/latex": [
       "\\begin{tabular}{r|llllllllllll}\n",
       " PassengerId & Survived & Pclass & Name & Sex & Age & SibSp & Parch & Ticket & Fare & Cabin & Embarked\\\\\n",
       "\\hline\n",
       "\t 1                                                   & 0                                                   & 3                                                   & Braund, Mr. Owen Harris                             & male                                                & 22                                                  & 1                                                   & 0                                                   & A/5 21171                                           &  7.2500                                             & NA                                                  & S                                                  \\\\\n",
       "\t 2                                                   & 1                                                   & 1                                                   & Cumings, Mrs. John Bradley (Florence Briggs Thayer) & female                                              & 38                                                  & 1                                                   & 0                                                   & PC 17599                                            & 71.2833                                             & C85                                                 & C                                                  \\\\\n",
       "\t 3                                                   & 1                                                   & 3                                                   & Heikkinen, Miss. Laina                              & female                                              & 26                                                  & 0                                                   & 0                                                   & STON/O2. 3101282                                    &  7.9250                                             & NA                                                  & S                                                  \\\\\n",
       "\t 4                                                   & 1                                                   & 1                                                   & Futrelle, Mrs. Jacques Heath (Lily May Peel)        & female                                              & 35                                                  & 1                                                   & 0                                                   & 113803                                              & 53.1000                                             & C123                                                & S                                                  \\\\\n",
       "\t 5                                                   & 0                                                   & 3                                                   & Allen, Mr. William Henry                            & male                                                & 35                                                  & 0                                                   & 0                                                   & 373450                                              &  8.0500                                             & NA                                                  & S                                                  \\\\\n",
       "\t 6                                                   & 0                                                   & 3                                                   & Moran, Mr. James                                    & male                                                & NA                                                  & 0                                                   & 0                                                   & 330877                                              &  8.4583                                             & NA                                                  & Q                                                  \\\\\n",
       "\\end{tabular}\n"
      ],
      "text/markdown": [
       "\n",
       "| PassengerId | Survived | Pclass | Name | Sex | Age | SibSp | Parch | Ticket | Fare | Cabin | Embarked |\n",
       "|---|---|---|---|---|---|---|---|---|---|---|---|\n",
       "| 1                                                   | 0                                                   | 3                                                   | Braund, Mr. Owen Harris                             | male                                                | 22                                                  | 1                                                   | 0                                                   | A/5 21171                                           |  7.2500                                             | NA                                                  | S                                                   |\n",
       "| 2                                                   | 1                                                   | 1                                                   | Cumings, Mrs. John Bradley (Florence Briggs Thayer) | female                                              | 38                                                  | 1                                                   | 0                                                   | PC 17599                                            | 71.2833                                             | C85                                                 | C                                                   |\n",
       "| 3                                                   | 1                                                   | 3                                                   | Heikkinen, Miss. Laina                              | female                                              | 26                                                  | 0                                                   | 0                                                   | STON/O2. 3101282                                    |  7.9250                                             | NA                                                  | S                                                   |\n",
       "| 4                                                   | 1                                                   | 1                                                   | Futrelle, Mrs. Jacques Heath (Lily May Peel)        | female                                              | 35                                                  | 1                                                   | 0                                                   | 113803                                              | 53.1000                                             | C123                                                | S                                                   |\n",
       "| 5                                                   | 0                                                   | 3                                                   | Allen, Mr. William Henry                            | male                                                | 35                                                  | 0                                                   | 0                                                   | 373450                                              |  8.0500                                             | NA                                                  | S                                                   |\n",
       "| 6                                                   | 0                                                   | 3                                                   | Moran, Mr. James                                    | male                                                | NA                                                  | 0                                                   | 0                                                   | 330877                                              |  8.4583                                             | NA                                                  | Q                                                   |\n",
       "\n"
      ],
      "text/plain": [
       "  PassengerId Survived Pclass\n",
       "1 1           0        3     \n",
       "2 2           1        1     \n",
       "3 3           1        3     \n",
       "4 4           1        1     \n",
       "5 5           0        3     \n",
       "6 6           0        3     \n",
       "  Name                                                Sex    Age SibSp Parch\n",
       "1 Braund, Mr. Owen Harris                             male   22  1     0    \n",
       "2 Cumings, Mrs. John Bradley (Florence Briggs Thayer) female 38  1     0    \n",
       "3 Heikkinen, Miss. Laina                              female 26  0     0    \n",
       "4 Futrelle, Mrs. Jacques Heath (Lily May Peel)        female 35  1     0    \n",
       "5 Allen, Mr. William Henry                            male   35  0     0    \n",
       "6 Moran, Mr. James                                    male   NA  0     0    \n",
       "  Ticket           Fare    Cabin Embarked\n",
       "1 A/5 21171         7.2500 NA    S       \n",
       "2 PC 17599         71.2833 C85   C       \n",
       "3 STON/O2. 3101282  7.9250 NA    S       \n",
       "4 113803           53.1000 C123  S       \n",
       "5 373450            8.0500 NA    S       \n",
       "6 330877            8.4583 NA    Q       "
      ]
     },
     "metadata": {},
     "output_type": "display_data"
    }
   ],
   "source": [
    "df = read.csv('../datasets/titanic/train.csv', na.strings = '')\n",
    "\n",
    "head(df)"
   ]
  },
  {
   "cell_type": "markdown",
   "id": "foreign-midnight",
   "metadata": {},
   "source": [
    "## Sumário Estatístico"
   ]
  },
  {
   "cell_type": "code",
   "execution_count": 4,
   "id": "underlying-cheat",
   "metadata": {},
   "outputs": [
    {
     "data": {
      "text/plain": [
       "  PassengerId       Survived          Pclass     \n",
       " Min.   :  1.0   Min.   :0.0000   Min.   :1.000  \n",
       " 1st Qu.:223.5   1st Qu.:0.0000   1st Qu.:2.000  \n",
       " Median :446.0   Median :0.0000   Median :3.000  \n",
       " Mean   :446.0   Mean   :0.3838   Mean   :2.309  \n",
       " 3rd Qu.:668.5   3rd Qu.:1.0000   3rd Qu.:3.000  \n",
       " Max.   :891.0   Max.   :1.0000   Max.   :3.000  \n",
       "                                                 \n",
       "                                    Name         Sex           Age       \n",
       " Abbing, Mr. Anthony                  :  1   female:314   Min.   : 0.42  \n",
       " Abbott, Mr. Rossmore Edward          :  1   male  :577   1st Qu.:20.12  \n",
       " Abbott, Mrs. Stanton (Rosa Hunt)     :  1                Median :28.00  \n",
       " Abelson, Mr. Samuel                  :  1                Mean   :29.70  \n",
       " Abelson, Mrs. Samuel (Hannah Wizosky):  1                3rd Qu.:38.00  \n",
       " Adahl, Mr. Mauritz Nils Martin       :  1                Max.   :80.00  \n",
       " (Other)                              :885                NA's   :177    \n",
       "     SibSp           Parch             Ticket         Fare       \n",
       " Min.   :0.000   Min.   :0.0000   1601    :  7   Min.   :  0.00  \n",
       " 1st Qu.:0.000   1st Qu.:0.0000   347082  :  7   1st Qu.:  7.91  \n",
       " Median :0.000   Median :0.0000   CA. 2343:  7   Median : 14.45  \n",
       " Mean   :0.523   Mean   :0.3816   3101295 :  6   Mean   : 32.20  \n",
       " 3rd Qu.:1.000   3rd Qu.:0.0000   347088  :  6   3rd Qu.: 31.00  \n",
       " Max.   :8.000   Max.   :6.0000   CA 2144 :  6   Max.   :512.33  \n",
       "                                  (Other) :852                   \n",
       "         Cabin     Embarked  \n",
       " B96 B98    :  4   C   :168  \n",
       " C23 C25 C27:  4   Q   : 77  \n",
       " G6         :  4   S   :644  \n",
       " C22 C26    :  3   NA's:  2  \n",
       " D          :  3             \n",
       " (Other)    :186             \n",
       " NA's       :687             "
      ]
     },
     "metadata": {},
     "output_type": "display_data"
    }
   ],
   "source": [
    "summary(df)"
   ]
  },
  {
   "cell_type": "markdown",
   "id": "practical-acting",
   "metadata": {},
   "source": [
    "## Estudo das Variáveis\n",
    "\n",
    "### Pclass\n",
    "\n",
    "- Nenhuma valor inválido encontrado"
   ]
  },
  {
   "cell_type": "code",
   "execution_count": 5,
   "id": "underlying-lyric",
   "metadata": {},
   "outputs": [
    {
     "data": {
      "text/plain": [
       "\n",
       "   1    2    3 <NA> \n",
       " 216  184  491    0 "
      ]
     },
     "metadata": {},
     "output_type": "display_data"
    }
   ],
   "source": [
    "table(df$Pclass, useNA='always')"
   ]
  },
  {
   "cell_type": "code",
   "execution_count": 13,
   "id": "breeding-muscle",
   "metadata": {},
   "outputs": [
    {
     "data": {
      "text/html": [
       "<table>\n",
       "<thead><tr><th scope=col>Pclass</th><th scope=col>Survived</th></tr></thead>\n",
       "<tbody>\n",
       "\t<tr><td>1        </td><td>0.6296296</td></tr>\n",
       "\t<tr><td>2        </td><td>0.4728261</td></tr>\n",
       "\t<tr><td>3        </td><td>0.2423625</td></tr>\n",
       "</tbody>\n",
       "</table>\n"
      ],
      "text/latex": [
       "\\begin{tabular}{r|ll}\n",
       " Pclass & Survived\\\\\n",
       "\\hline\n",
       "\t 1         & 0.6296296\\\\\n",
       "\t 2         & 0.4728261\\\\\n",
       "\t 3         & 0.2423625\\\\\n",
       "\\end{tabular}\n"
      ],
      "text/markdown": [
       "\n",
       "| Pclass | Survived |\n",
       "|---|---|\n",
       "| 1         | 0.6296296 |\n",
       "| 2         | 0.4728261 |\n",
       "| 3         | 0.2423625 |\n",
       "\n"
      ],
      "text/plain": [
       "  Pclass Survived \n",
       "1 1      0.6296296\n",
       "2 2      0.4728261\n",
       "3 3      0.2423625"
      ]
     },
     "metadata": {},
     "output_type": "display_data"
    },
    {
     "data": {
      "image/png": "[encoded data removed]",
      "text/plain": [
       "Plot with title \"Média de Sobre. por Classe Social\""
      ]
     },
     "metadata": {},
     "output_type": "display_data"
    }
   ],
   "source": [
    "agg = aggregate(Survived ~ Pclass, data = df, mean)\n",
    "agg\n",
    "\n",
    "barplot(agg$Survived,\n",
    "        main = \"Média de Sobre. por Classe Social\",\n",
    "        xlab = \"Classes Sociais\",\n",
    "        ylab = \"Média\",\n",
    "        ylim = c(0,1),\n",
    "        names.arg = agg$Pclass,\n",
    "       col = brewer.pal(8, 'Dark2'))\n",
    "box()"
   ]
  },
  {
   "cell_type": "markdown",
   "id": "joined-footwear",
   "metadata": {},
   "source": [
    "### Age\n",
    "\n",
    "- 177 idade inválidas"
   ]
  },
  {
   "cell_type": "code",
   "execution_count": 30,
   "id": "twenty-anniversary",
   "metadata": {},
   "outputs": [
    {
     "data": {
      "text/html": [
       "177"
      ],
      "text/latex": [
       "177"
      ],
      "text/markdown": [
       "177"
      ],
      "text/plain": [
       "[1] 177"
      ]
     },
     "metadata": {},
     "output_type": "display_data"
    }
   ],
   "source": [
    "sum(is.na(df['Age']))"
   ]
  },
  {
   "cell_type": "code",
   "execution_count": 73,
   "id": "finite-slide",
   "metadata": {},
   "outputs": [
    {
     "data": {
      "text/html": [
       "<ol class=list-inline>\n",
       "\t<li>1</li>\n",
       "\t<li>2</li>\n",
       "</ol>\n"
      ],
      "text/latex": [
       "\\begin{enumerate*}\n",
       "\\item 1\n",
       "\\item 2\n",
       "\\end{enumerate*}\n"
      ],
      "text/markdown": [
       "1. 1\n",
       "2. 2\n",
       "\n",
       "\n"
      ],
      "text/plain": [
       "[1] 1 2"
      ]
     },
     "metadata": {},
     "output_type": "display_data"
    },
    {
     "data": {
      "image/png": "[encoded data removed]",
      "text/plain": [
       "Plot with title \"Idade dos Mortos\""
      ]
     },
     "metadata": {},
     "output_type": "display_data"
    }
   ],
   "source": [
    "temp = df[!is.na(df$Age), ]\n",
    "vivos = temp[temp$Survived == 1, ]\n",
    "mortos = temp[temp$Survived == 0, ]\n",
    "\n",
    "options(repr.plot.width= 8, repr.plot.height= 4)\n",
    "split.screen(figs = c(1,2))\n",
    "screen(1)\n",
    "hist(vivos$Age,\n",
    "        prob = TRUE,\n",
    "        main = \"Idade dos Vivos\",\n",
    "        xlab = \"Idade\",\n",
    "        ylab =  \"Total\",\n",
    "        col = brewer.pal(8, 'Dark2')\n",
    ")\n",
    "\n",
    "\n",
    "lines(density(vivos$Age), lwd = 2)\n",
    "\n",
    "\n",
    "screen(2)\n",
    "hist(mortos$Age, \n",
    "        prob = TRUE,\n",
    "        main = \"Idade dos Mortos\",\n",
    "        xlab = \"Idade\",\n",
    "        ylab =  \"Total\", \n",
    "        col = brewer.pal(8, 'Dark2')\n",
    ")\n",
    "\n",
    "lines(density(mortos$Age),lwd = 2)\n",
    "\n",
    "\n",
    "close.screen(all = TRUE)"
   ]
  },
  {
   "cell_type": "markdown",
   "id": "secure-wallet",
   "metadata": {},
   "source": [
    "### Sex\n",
    "\n",
    "- Nenhum valor inválido encontrado"
   ]
  },
  {
   "cell_type": "code",
   "execution_count": 35,
   "id": "designing-minority",
   "metadata": {},
   "outputs": [
    {
     "data": {
      "text/plain": [
       "\n",
       "female   male   <NA> \n",
       "   314    577      0 "
      ]
     },
     "metadata": {},
     "output_type": "display_data"
    }
   ],
   "source": [
    "table(df['Sex'], useNA='always')"
   ]
  },
  {
   "cell_type": "code",
   "execution_count": 12,
   "id": "c18d5d1d-327d-4a04-81c7-0b5c30e1d09f",
   "metadata": {},
   "outputs": [
    {
     "data": {
      "text/html": [
       "<table>\n",
       "<thead><tr><th scope=col>Sex</th><th scope=col>Survived</th></tr></thead>\n",
       "<tbody>\n",
       "\t<tr><td>female   </td><td>0.7420382</td></tr>\n",
       "\t<tr><td>male     </td><td>0.1889081</td></tr>\n",
       "</tbody>\n",
       "</table>\n"
      ],
      "text/latex": [
       "\\begin{tabular}{r|ll}\n",
       " Sex & Survived\\\\\n",
       "\\hline\n",
       "\t female    & 0.7420382\\\\\n",
       "\t male      & 0.1889081\\\\\n",
       "\\end{tabular}\n"
      ],
      "text/markdown": [
       "\n",
       "| Sex | Survived |\n",
       "|---|---|\n",
       "| female    | 0.7420382 |\n",
       "| male      | 0.1889081 |\n",
       "\n"
      ],
      "text/plain": [
       "  Sex    Survived \n",
       "1 female 0.7420382\n",
       "2 male   0.1889081"
      ]
     },
     "metadata": {},
     "output_type": "display_data"
    },
    {
     "data": {
      "image/png": "[encoded data removed]",
      "text/plain": [
       "Plot with title \"Nédia de Sobre. por Sexo\""
      ]
     },
     "metadata": {},
     "output_type": "display_data"
    }
   ],
   "source": [
    "agg = aggregate(Survived ~ Sex, data = df, mean)\n",
    "agg\n",
    "\n",
    "barplot(agg$Survived,\n",
    "        main = \"Nédia de Sobre. por Sexo\",\n",
    "        xlab = \"Sexo\",\n",
    "        ylab = \"Média\",\n",
    "        ylim = c(0,1),\n",
    "        names.arg = agg$Sex,\n",
    "       col = brewer.pal(8, 'Dark2'))\n",
    "box()"
   ]
  },
  {
   "cell_type": "markdown",
   "id": "sublime-tribe",
   "metadata": {},
   "source": [
    "## SibSp\n",
    "\n",
    "- Nenhum valor inválido encontrado"
   ]
  },
  {
   "cell_type": "code",
   "execution_count": 36,
   "id": "intense-joshua",
   "metadata": {},
   "outputs": [
    {
     "data": {
      "text/plain": [
       "\n",
       "   0    1    2    3    4    5    8 <NA> \n",
       " 608  209   28   16   18    5    7    0 "
      ]
     },
     "metadata": {},
     "output_type": "display_data"
    }
   ],
   "source": [
    "table(df['SibSp'], useNA='always')"
   ]
  },
  {
   "cell_type": "code",
   "execution_count": 17,
   "id": "7735f024-1a57-45dd-a97e-7a6a82beafac",
   "metadata": {},
   "outputs": [
    {
     "data": {
      "text/html": [
       "<table>\n",
       "<thead><tr><th scope=col>SibSp</th><th scope=col>Survived</th></tr></thead>\n",
       "<tbody>\n",
       "\t<tr><td>0        </td><td>0.3453947</td></tr>\n",
       "\t<tr><td>1        </td><td>0.5358852</td></tr>\n",
       "\t<tr><td>2        </td><td>0.4642857</td></tr>\n",
       "\t<tr><td>3        </td><td>0.2500000</td></tr>\n",
       "\t<tr><td>4        </td><td>0.1666667</td></tr>\n",
       "\t<tr><td>5        </td><td>0.0000000</td></tr>\n",
       "\t<tr><td>8        </td><td>0.0000000</td></tr>\n",
       "</tbody>\n",
       "</table>\n"
      ],
      "text/latex": [
       "\\begin{tabular}{r|ll}\n",
       " SibSp & Survived\\\\\n",
       "\\hline\n",
       "\t 0         & 0.3453947\\\\\n",
       "\t 1         & 0.5358852\\\\\n",
       "\t 2         & 0.4642857\\\\\n",
       "\t 3         & 0.2500000\\\\\n",
       "\t 4         & 0.1666667\\\\\n",
       "\t 5         & 0.0000000\\\\\n",
       "\t 8         & 0.0000000\\\\\n",
       "\\end{tabular}\n"
      ],
      "text/markdown": [
       "\n",
       "| SibSp | Survived |\n",
       "|---|---|\n",
       "| 0         | 0.3453947 |\n",
       "| 1         | 0.5358852 |\n",
       "| 2         | 0.4642857 |\n",
       "| 3         | 0.2500000 |\n",
       "| 4         | 0.1666667 |\n",
       "| 5         | 0.0000000 |\n",
       "| 8         | 0.0000000 |\n",
       "\n"
      ],
      "text/plain": [
       "  SibSp Survived \n",
       "1 0     0.3453947\n",
       "2 1     0.5358852\n",
       "3 2     0.4642857\n",
       "4 3     0.2500000\n",
       "5 4     0.1666667\n",
       "6 5     0.0000000\n",
       "7 8     0.0000000"
      ]
     },
     "metadata": {},
     "output_type": "display_data"
    },
    {
     "data": {
      "image/png": "[encoded data removed]",
      "text/plain": [
       "Plot with title \"Nédia de Sobre. por Sexo\""
      ]
     },
     "metadata": {},
     "output_type": "display_data"
    }
   ],
   "source": [
    "agg = aggregate(Survived ~ SibSp, data = df, mean)\n",
    "agg\n",
    "\n",
    "barplot(agg$Survived,\n",
    "        main = \"Nédia de Sobre. por Família\",\n",
    "        xlab = \"Parentesco\",\n",
    "        ylab = \"Média\",\n",
    "        ylim = c(0, 1),\n",
    "        names.arg = agg$SibSp,\n",
    "       col = brewer.pal(8, 'Dark2'))\n",
    "box()"
   ]
  },
  {
   "cell_type": "markdown",
   "id": "phantom-persian",
   "metadata": {},
   "source": [
    "## Parch\n",
    "\n",
    "- Nenhum valor inválido encontrado"
   ]
  },
  {
   "cell_type": "code",
   "execution_count": 37,
   "id": "internal-isolation",
   "metadata": {},
   "outputs": [
    {
     "data": {
      "text/plain": [
       "\n",
       "   0    1    2    3    4    5    6 <NA> \n",
       " 678  118   80    5    4    5    1    0 "
      ]
     },
     "metadata": {},
     "output_type": "display_data"
    }
   ],
   "source": [
    "table(df['Parch'], useNA='always')"
   ]
  },
  {
   "cell_type": "code",
   "execution_count": 18,
   "id": "dd423beb-b263-43de-ba58-849cb567574b",
   "metadata": {},
   "outputs": [
    {
     "data": {
      "text/html": [
       "<table>\n",
       "<thead><tr><th scope=col>Parch</th><th scope=col>Survived</th></tr></thead>\n",
       "<tbody>\n",
       "\t<tr><td>0        </td><td>0.3436578</td></tr>\n",
       "\t<tr><td>1        </td><td>0.5508475</td></tr>\n",
       "\t<tr><td>2        </td><td>0.5000000</td></tr>\n",
       "\t<tr><td>3        </td><td>0.6000000</td></tr>\n",
       "\t<tr><td>4        </td><td>0.0000000</td></tr>\n",
       "\t<tr><td>5        </td><td>0.2000000</td></tr>\n",
       "\t<tr><td>6        </td><td>0.0000000</td></tr>\n",
       "</tbody>\n",
       "</table>\n"
      ],
      "text/latex": [
       "\\begin{tabular}{r|ll}\n",
       " Parch & Survived\\\\\n",
       "\\hline\n",
       "\t 0         & 0.3436578\\\\\n",
       "\t 1         & 0.5508475\\\\\n",
       "\t 2         & 0.5000000\\\\\n",
       "\t 3         & 0.6000000\\\\\n",
       "\t 4         & 0.0000000\\\\\n",
       "\t 5         & 0.2000000\\\\\n",
       "\t 6         & 0.0000000\\\\\n",
       "\\end{tabular}\n"
      ],
      "text/markdown": [
       "\n",
       "| Parch | Survived |\n",
       "|---|---|\n",
       "| 0         | 0.3436578 |\n",
       "| 1         | 0.5508475 |\n",
       "| 2         | 0.5000000 |\n",
       "| 3         | 0.6000000 |\n",
       "| 4         | 0.0000000 |\n",
       "| 5         | 0.2000000 |\n",
       "| 6         | 0.0000000 |\n",
       "\n"
      ],
      "text/plain": [
       "  Parch Survived \n",
       "1 0     0.3436578\n",
       "2 1     0.5508475\n",
       "3 2     0.5000000\n",
       "4 3     0.6000000\n",
       "5 4     0.0000000\n",
       "6 5     0.2000000\n",
       "7 6     0.0000000"
      ]
     },
     "metadata": {},
     "output_type": "display_data"
    },
    {
     "data": {
      "image/png": "[encoded data removed]",
      "text/plain": [
       "Plot with title \"Nédia de Sobre. por Família\""
      ]
     },
     "metadata": {},
     "output_type": "display_data"
    }
   ],
   "source": [
    "agg = aggregate(Survived ~ Parch, data = df, mean)\n",
    "agg\n",
    "\n",
    "barplot(agg$Survived,\n",
    "        main = \"Nédia de Sobre. por Família\",\n",
    "        xlab = \"Parentesco\",\n",
    "        ylab = \"Média\",\n",
    "        ylim = c(0, 1),\n",
    "        names.arg = agg$Parch,\n",
    "       col = brewer.pal(8, 'Dark2'))\n",
    "box()"
   ]
  },
  {
   "cell_type": "markdown",
   "id": "loved-compilation",
   "metadata": {},
   "source": [
    "## Ticket\n",
    "\n",
    "- Nenhum valor inválido encontrado"
   ]
  },
  {
   "cell_type": "code",
   "execution_count": 38,
   "id": "sexual-rubber",
   "metadata": {},
   "outputs": [
    {
     "data": {
      "text/html": [
       "0"
      ],
      "text/latex": [
       "0"
      ],
      "text/markdown": [
       "0"
      ],
      "text/plain": [
       "[1] 0"
      ]
     },
     "metadata": {},
     "output_type": "display_data"
    }
   ],
   "source": [
    "sum(is.na(df['Ticket']))"
   ]
  },
  {
   "cell_type": "markdown",
   "id": "local-mechanics",
   "metadata": {},
   "source": [
    "## Fare\n",
    "\n",
    "- O valor máximo da tarifa assume 512, onde a média e o 75% percentil é 31-32\n",
    "- Exitem passageiros que não pagaram tarifas"
   ]
  },
  {
   "cell_type": "code",
   "execution_count": 39,
   "id": "attempted-salad",
   "metadata": {},
   "outputs": [
    {
     "data": {
      "text/html": [
       "0"
      ],
      "text/latex": [
       "0"
      ],
      "text/markdown": [
       "0"
      ],
      "text/plain": [
       "[1] 0"
      ]
     },
     "metadata": {},
     "output_type": "display_data"
    }
   ],
   "source": [
    "sum(is.na(df$Fare))"
   ]
  },
  {
   "cell_type": "code",
   "execution_count": 40,
   "id": "terminal-harrison",
   "metadata": {},
   "outputs": [
    {
     "data": {
      "text/html": [
       "<table>\n",
       "<thead><tr><th></th><th scope=col>PassengerId</th><th scope=col>Survived</th><th scope=col>Pclass</th><th scope=col>Name</th><th scope=col>Sex</th><th scope=col>Age</th><th scope=col>SibSp</th><th scope=col>Parch</th><th scope=col>Ticket</th><th scope=col>Fare</th><th scope=col>Cabin</th><th scope=col>Embarked</th></tr></thead>\n",
       "<tbody>\n",
       "\t<tr><th scope=row>28</th><td> 28                                                                               </td><td>0                                                                                 </td><td>1                                                                                 </td><td>Fortune, Mr. Charles Alexander                                                    </td><td>male                                                                              </td><td>19.00                                                                             </td><td>3                                                                                 </td><td>2                                                                                 </td><td>19950                                                                             </td><td>263.0000                                                                          </td><td>C23 C25 C27                                                                       </td><td>S                                                                                 </td></tr>\n",
       "\t<tr><th scope=row>32</th><td> 32                                                                               </td><td>1                                                                                 </td><td>1                                                                                 </td><td>Spencer, Mrs. William Augustus (Marie Eugenie)                                    </td><td>female                                                                            </td><td>   NA                                                                             </td><td>1                                                                                 </td><td>0                                                                                 </td><td>PC 17569                                                                          </td><td>146.5208                                                                          </td><td>B78                                                                               </td><td>C                                                                                 </td></tr>\n",
       "\t<tr><th scope=row>89</th><td> 89                                                                               </td><td>1                                                                                 </td><td>1                                                                                 </td><td>Fortune, Miss. Mabel Helen                                                        </td><td>female                                                                            </td><td>23.00                                                                             </td><td>3                                                                                 </td><td>2                                                                                 </td><td>19950                                                                             </td><td>263.0000                                                                          </td><td>C23 C25 C27                                                                       </td><td>S                                                                                 </td></tr>\n",
       "\t<tr><th scope=row>119</th><td>119                                                                               </td><td>0                                                                                 </td><td>1                                                                                 </td><td>Baxter, Mr. Quigg Edmond                                                          </td><td>male                                                                              </td><td>24.00                                                                             </td><td>0                                                                                 </td><td>1                                                                                 </td><td>PC 17558                                                                          </td><td>247.5208                                                                          </td><td>B58 B60                                                                           </td><td>C                                                                                 </td></tr>\n",
       "\t<tr><th scope=row>196</th><td>196                                                                               </td><td>1                                                                                 </td><td>1                                                                                 </td><td>Lurette, Miss. Elise                                                              </td><td>female                                                                            </td><td>58.00                                                                             </td><td>0                                                                                 </td><td>0                                                                                 </td><td>PC 17569                                                                          </td><td>146.5208                                                                          </td><td>B80                                                                               </td><td>C                                                                                 </td></tr>\n",
       "\t<tr><th scope=row>216</th><td>216                                                                               </td><td>1                                                                                 </td><td>1                                                                                 </td><td>Newell, Miss. Madeleine                                                           </td><td>female                                                                            </td><td>31.00                                                                             </td><td>1                                                                                 </td><td>0                                                                                 </td><td>35273                                                                             </td><td>113.2750                                                                          </td><td>D36                                                                               </td><td>C                                                                                 </td></tr>\n",
       "\t<tr><th scope=row>259</th><td>259                                                                               </td><td>1                                                                                 </td><td>1                                                                                 </td><td>Ward, Miss. Anna                                                                  </td><td>female                                                                            </td><td>35.00                                                                             </td><td>0                                                                                 </td><td>0                                                                                 </td><td>PC 17755                                                                          </td><td>512.3292                                                                          </td><td>NA                                                                                </td><td>C                                                                                 </td></tr>\n",
       "\t<tr><th scope=row>269</th><td>269                                                                               </td><td>1                                                                                 </td><td>1                                                                                 </td><td>Graham, Mrs. William Thompson (Edith Junkins)                                     </td><td>female                                                                            </td><td>58.00                                                                             </td><td>0                                                                                 </td><td>1                                                                                 </td><td>PC 17582                                                                          </td><td>153.4625                                                                          </td><td>C125                                                                              </td><td>S                                                                                 </td></tr>\n",
       "\t<tr><th scope=row>270</th><td>270                                                                               </td><td>1                                                                                 </td><td>1                                                                                 </td><td>Bissette, Miss. Amelia                                                            </td><td>female                                                                            </td><td>35.00                                                                             </td><td>0                                                                                 </td><td>0                                                                                 </td><td>PC 17760                                                                          </td><td>135.6333                                                                          </td><td>C99                                                                               </td><td>S                                                                                 </td></tr>\n",
       "\t<tr><th scope=row>298</th><td>298                                                                               </td><td>0                                                                                 </td><td>1                                                                                 </td><td>Allison, Miss. Helen Loraine                                                      </td><td>female                                                                            </td><td> 2.00                                                                             </td><td>1                                                                                 </td><td>2                                                                                 </td><td>113781                                                                            </td><td>151.5500                                                                          </td><td>C22 C26                                                                           </td><td>S                                                                                 </td></tr>\n",
       "\t<tr><th scope=row>300</th><td>300                                                                               </td><td>1                                                                                 </td><td>1                                                                                 </td><td>Baxter, Mrs. James (Helene DeLaudeniere Chaput)                                   </td><td>female                                                                            </td><td>50.00                                                                             </td><td>0                                                                                 </td><td>1                                                                                 </td><td>PC 17558                                                                          </td><td>247.5208                                                                          </td><td>B58 B60                                                                           </td><td>C                                                                                 </td></tr>\n",
       "\t<tr><th scope=row>306</th><td>306                                                                               </td><td>1                                                                                 </td><td>1                                                                                 </td><td>Allison, Master. Hudson Trevor                                                    </td><td>male                                                                              </td><td> 0.92                                                                             </td><td>1                                                                                 </td><td>2                                                                                 </td><td>113781                                                                            </td><td>151.5500                                                                          </td><td>C22 C26                                                                           </td><td>S                                                                                 </td></tr>\n",
       "\t<tr><th scope=row>307</th><td>307                                                                               </td><td>1                                                                                 </td><td>1                                                                                 </td><td>Fleming, Miss. Margaret                                                           </td><td>female                                                                            </td><td>   NA                                                                             </td><td>0                                                                                 </td><td>0                                                                                 </td><td>17421                                                                             </td><td>110.8833                                                                          </td><td>NA                                                                                </td><td>C                                                                                 </td></tr>\n",
       "\t<tr><th scope=row>308</th><td>308                                                                               </td><td>1                                                                                 </td><td>1                                                                                 </td><td>Penasco y Castellana, Mrs. Victor de Satode (Maria Josefa Perez de Soto y Vallejo)</td><td>female                                                                            </td><td>17.00                                                                             </td><td>1                                                                                 </td><td>0                                                                                 </td><td>PC 17758                                                                          </td><td>108.9000                                                                          </td><td>C65                                                                               </td><td>C                                                                                 </td></tr>\n",
       "\t<tr><th scope=row>312</th><td>312                                                                               </td><td>1                                                                                 </td><td>1                                                                                 </td><td>Ryerson, Miss. Emily Borie                                                        </td><td>female                                                                            </td><td>18.00                                                                             </td><td>2                                                                                 </td><td>2                                                                                 </td><td>PC 17608                                                                          </td><td>262.3750                                                                          </td><td>B57 B59 B63 B66                                                                   </td><td>C                                                                                 </td></tr>\n",
       "\t<tr><th scope=row>319</th><td>319                                                                               </td><td>1                                                                                 </td><td>1                                                                                 </td><td>Wick, Miss. Mary Natalie                                                          </td><td>female                                                                            </td><td>31.00                                                                             </td><td>0                                                                                 </td><td>2                                                                                 </td><td>36928                                                                             </td><td>164.8667                                                                          </td><td>C7                                                                                </td><td>S                                                                                 </td></tr>\n",
       "\t<tr><th scope=row>320</th><td>320                                                                               </td><td>1                                                                                 </td><td>1                                                                                 </td><td>Spedden, Mrs. Frederic Oakley (Margaretta Corning Stone)                          </td><td>female                                                                            </td><td>40.00                                                                             </td><td>1                                                                                 </td><td>1                                                                                 </td><td>16966                                                                             </td><td>134.5000                                                                          </td><td>E34                                                                               </td><td>C                                                                                 </td></tr>\n",
       "\t<tr><th scope=row>326</th><td>326                                                                               </td><td>1                                                                                 </td><td>1                                                                                 </td><td>Young, Miss. Marie Grice                                                          </td><td>female                                                                            </td><td>36.00                                                                             </td><td>0                                                                                 </td><td>0                                                                                 </td><td>PC 17760                                                                          </td><td>135.6333                                                                          </td><td>C32                                                                               </td><td>C                                                                                 </td></tr>\n",
       "\t<tr><th scope=row>333</th><td>333                                                                               </td><td>0                                                                                 </td><td>1                                                                                 </td><td>Graham, Mr. George Edward                                                         </td><td>male                                                                              </td><td>38.00                                                                             </td><td>0                                                                                 </td><td>1                                                                                 </td><td>PC 17582                                                                          </td><td>153.4625                                                                          </td><td>C91                                                                               </td><td>S                                                                                 </td></tr>\n",
       "\t<tr><th scope=row>335</th><td>335                                                                               </td><td>1                                                                                 </td><td>1                                                                                 </td><td>Frauenthal, Mrs. Henry William (Clara Heinsheimer)                                </td><td>female                                                                            </td><td>   NA                                                                             </td><td>1                                                                                 </td><td>0                                                                                 </td><td>PC 17611                                                                          </td><td>133.6500                                                                          </td><td>NA                                                                                </td><td>S                                                                                 </td></tr>\n",
       "\t<tr><th scope=row>338</th><td>338                                                                               </td><td>1                                                                                 </td><td>1                                                                                 </td><td>Burns, Miss. Elizabeth Margaret                                                   </td><td>female                                                                            </td><td>41.00                                                                             </td><td>0                                                                                 </td><td>0                                                                                 </td><td>16966                                                                             </td><td>134.5000                                                                          </td><td>E40                                                                               </td><td>C                                                                                 </td></tr>\n",
       "\t<tr><th scope=row>342</th><td>342                                                                               </td><td>1                                                                                 </td><td>1                                                                                 </td><td>Fortune, Miss. Alice Elizabeth                                                    </td><td>female                                                                            </td><td>24.00                                                                             </td><td>3                                                                                 </td><td>2                                                                                 </td><td>19950                                                                             </td><td>263.0000                                                                          </td><td>C23 C25 C27                                                                       </td><td>S                                                                                 </td></tr>\n",
       "\t<tr><th scope=row>374</th><td>374                                                                               </td><td>0                                                                                 </td><td>1                                                                                 </td><td>Ringhini, Mr. Sante                                                               </td><td>male                                                                              </td><td>22.00                                                                             </td><td>0                                                                                 </td><td>0                                                                                 </td><td>PC 17760                                                                          </td><td>135.6333                                                                          </td><td>NA                                                                                </td><td>C                                                                                 </td></tr>\n",
       "\t<tr><th scope=row>378</th><td>378                                                                               </td><td>0                                                                                 </td><td>1                                                                                 </td><td>Widener, Mr. Harry Elkins                                                         </td><td>male                                                                              </td><td>27.00                                                                             </td><td>0                                                                                 </td><td>2                                                                                 </td><td>113503                                                                            </td><td>211.5000                                                                          </td><td>C82                                                                               </td><td>C                                                                                 </td></tr>\n",
       "\t<tr><th scope=row>381</th><td>381                                                                               </td><td>1                                                                                 </td><td>1                                                                                 </td><td>Bidois, Miss. Rosalie                                                             </td><td>female                                                                            </td><td>42.00                                                                             </td><td>0                                                                                 </td><td>0                                                                                 </td><td>PC 17757                                                                          </td><td>227.5250                                                                          </td><td>NA                                                                                </td><td>C                                                                                 </td></tr>\n",
       "\t<tr><th scope=row>391</th><td>391                                                                               </td><td>1                                                                                 </td><td>1                                                                                 </td><td>Carter, Mr. William Ernest                                                        </td><td>male                                                                              </td><td>36.00                                                                             </td><td>1                                                                                 </td><td>2                                                                                 </td><td>113760                                                                            </td><td>120.0000                                                                          </td><td>B96 B98                                                                           </td><td>S                                                                                 </td></tr>\n",
       "\t<tr><th scope=row>394</th><td>394                                                                               </td><td>1                                                                                 </td><td>1                                                                                 </td><td>Newell, Miss. Marjorie                                                            </td><td>female                                                                            </td><td>23.00                                                                             </td><td>1                                                                                 </td><td>0                                                                                 </td><td>35273                                                                             </td><td>113.2750                                                                          </td><td>D36                                                                               </td><td>C                                                                                 </td></tr>\n",
       "\t<tr><th scope=row>436</th><td>436                                                                               </td><td>1                                                                                 </td><td>1                                                                                 </td><td>Carter, Miss. Lucile Polk                                                         </td><td>female                                                                            </td><td>14.00                                                                             </td><td>1                                                                                 </td><td>2                                                                                 </td><td>113760                                                                            </td><td>120.0000                                                                          </td><td>B96 B98                                                                           </td><td>S                                                                                 </td></tr>\n",
       "\t<tr><th scope=row>439</th><td>439                                                                               </td><td>0                                                                                 </td><td>1                                                                                 </td><td>Fortune, Mr. Mark                                                                 </td><td>male                                                                              </td><td>64.00                                                                             </td><td>1                                                                                 </td><td>4                                                                                 </td><td>19950                                                                             </td><td>263.0000                                                                          </td><td>C23 C25 C27                                                                       </td><td>S                                                                                 </td></tr>\n",
       "\t<tr><th scope=row>499</th><td>499                                                                               </td><td>0                                                                                 </td><td>1                                                                                 </td><td>Allison, Mrs. Hudson J C (Bessie Waldo Daniels)                                   </td><td>female                                                                            </td><td>25.00                                                                             </td><td>1                                                                                 </td><td>2                                                                                 </td><td>113781                                                                            </td><td>151.5500                                                                          </td><td>C22 C26                                                                           </td><td>S                                                                                 </td></tr>\n",
       "\t<tr><th scope=row>506</th><td>506                                                                               </td><td>0                                                                                 </td><td>1                                                                                 </td><td>Penasco y Castellana, Mr. Victor de Satode                                        </td><td>male                                                                              </td><td>18.00                                                                             </td><td>1                                                                                 </td><td>0                                                                                 </td><td>PC 17758                                                                          </td><td>108.9000                                                                          </td><td>C65                                                                               </td><td>C                                                                                 </td></tr>\n",
       "\t<tr><th scope=row>528</th><td>528                                                                               </td><td>0                                                                                 </td><td>1                                                                                 </td><td>Farthing, Mr. John                                                                </td><td>male                                                                              </td><td>   NA                                                                             </td><td>0                                                                                 </td><td>0                                                                                 </td><td>PC 17483                                                                          </td><td>221.7792                                                                          </td><td>C95                                                                               </td><td>S                                                                                 </td></tr>\n",
       "\t<tr><th scope=row>538</th><td>538                                                                               </td><td>1                                                                                 </td><td>1                                                                                 </td><td>LeRoy, Miss. Bertha                                                               </td><td>female                                                                            </td><td>30.00                                                                             </td><td>0                                                                                 </td><td>0                                                                                 </td><td>PC 17761                                                                          </td><td>106.4250                                                                          </td><td>NA                                                                                </td><td>C                                                                                 </td></tr>\n",
       "\t<tr><th scope=row>545</th><td>545                                                                               </td><td>0                                                                                 </td><td>1                                                                                 </td><td>Douglas, Mr. Walter Donald                                                        </td><td>male                                                                              </td><td>50.00                                                                             </td><td>1                                                                                 </td><td>0                                                                                 </td><td>PC 17761                                                                          </td><td>106.4250                                                                          </td><td>C86                                                                               </td><td>C                                                                                 </td></tr>\n",
       "\t<tr><th scope=row>551</th><td>551                                                                               </td><td>1                                                                                 </td><td>1                                                                                 </td><td>Thayer, Mr. John Borland Jr                                                       </td><td>male                                                                              </td><td>17.00                                                                             </td><td>0                                                                                 </td><td>2                                                                                 </td><td>17421                                                                             </td><td>110.8833                                                                          </td><td>C70                                                                               </td><td>C                                                                                 </td></tr>\n",
       "\t<tr><th scope=row>558</th><td>558                                                                               </td><td>0                                                                                 </td><td>1                                                                                 </td><td>Robbins, Mr. Victor                                                               </td><td>male                                                                              </td><td>   NA                                                                             </td><td>0                                                                                 </td><td>0                                                                                 </td><td>PC 17757                                                                          </td><td>227.5250                                                                          </td><td>NA                                                                                </td><td>C                                                                                 </td></tr>\n",
       "\t<tr><th scope=row>582</th><td>582                                                                               </td><td>1                                                                                 </td><td>1                                                                                 </td><td>Thayer, Mrs. John Borland (Marian Longstreth Morris)                              </td><td>female                                                                            </td><td>39.00                                                                             </td><td>1                                                                                 </td><td>1                                                                                 </td><td>17421                                                                             </td><td>110.8833                                                                          </td><td>C68                                                                               </td><td>C                                                                                 </td></tr>\n",
       "\t<tr><th scope=row>610</th><td>610                                                                               </td><td>1                                                                                 </td><td>1                                                                                 </td><td>Shutes, Miss. Elizabeth W                                                         </td><td>female                                                                            </td><td>40.00                                                                             </td><td>0                                                                                 </td><td>0                                                                                 </td><td>PC 17582                                                                          </td><td>153.4625                                                                          </td><td>C125                                                                              </td><td>S                                                                                 </td></tr>\n",
       "\t<tr><th scope=row>660</th><td>660                                                                               </td><td>0                                                                                 </td><td>1                                                                                 </td><td>Newell, Mr. Arthur Webster                                                        </td><td>male                                                                              </td><td>58.00                                                                             </td><td>0                                                                                 </td><td>2                                                                                 </td><td>35273                                                                             </td><td>113.2750                                                                          </td><td>D48                                                                               </td><td>C                                                                                 </td></tr>\n",
       "\t<tr><th scope=row>661</th><td>661                                                                               </td><td>1                                                                                 </td><td>1                                                                                 </td><td>Frauenthal, Dr. Henry William                                                     </td><td>male                                                                              </td><td>50.00                                                                             </td><td>2                                                                                 </td><td>0                                                                                 </td><td>PC 17611                                                                          </td><td>133.6500                                                                          </td><td>NA                                                                                </td><td>S                                                                                 </td></tr>\n",
       "\t<tr><th scope=row>680</th><td>680                                                                               </td><td>1                                                                                 </td><td>1                                                                                 </td><td>Cardeza, Mr. Thomas Drake Martinez                                                </td><td>male                                                                              </td><td>36.00                                                                             </td><td>0                                                                                 </td><td>1                                                                                 </td><td>PC 17755                                                                          </td><td>512.3292                                                                          </td><td>B51 B53 B55                                                                       </td><td>C                                                                                 </td></tr>\n",
       "\t<tr><th scope=row>690</th><td>690                                                                               </td><td>1                                                                                 </td><td>1                                                                                 </td><td>Madill, Miss. Georgette Alexandra                                                 </td><td>female                                                                            </td><td>15.00                                                                             </td><td>0                                                                                 </td><td>1                                                                                 </td><td>24160                                                                             </td><td>211.3375                                                                          </td><td>B5                                                                                </td><td>S                                                                                 </td></tr>\n",
       "\t<tr><th scope=row>699</th><td>699                                                                               </td><td>0                                                                                 </td><td>1                                                                                 </td><td>Thayer, Mr. John Borland                                                          </td><td>male                                                                              </td><td>49.00                                                                             </td><td>1                                                                                 </td><td>1                                                                                 </td><td>17421                                                                             </td><td>110.8833                                                                          </td><td>C68                                                                               </td><td>C                                                                                 </td></tr>\n",
       "\t<tr><th scope=row>701</th><td>701                                                                               </td><td>1                                                                                 </td><td>1                                                                                 </td><td>Astor, Mrs. John Jacob (Madeleine Talmadge Force)                                 </td><td>female                                                                            </td><td>18.00                                                                             </td><td>1                                                                                 </td><td>0                                                                                 </td><td>PC 17757                                                                          </td><td>227.5250                                                                          </td><td>C62 C64                                                                           </td><td>C                                                                                 </td></tr>\n",
       "\t<tr><th scope=row>709</th><td>709                                                                               </td><td>1                                                                                 </td><td>1                                                                                 </td><td>Cleaver, Miss. Alice                                                              </td><td>female                                                                            </td><td>22.00                                                                             </td><td>0                                                                                 </td><td>0                                                                                 </td><td>113781                                                                            </td><td>151.5500                                                                          </td><td>NA                                                                                </td><td>S                                                                                 </td></tr>\n",
       "\t<tr><th scope=row>717</th><td>717                                                                               </td><td>1                                                                                 </td><td>1                                                                                 </td><td>Endres, Miss. Caroline Louise                                                     </td><td>female                                                                            </td><td>38.00                                                                             </td><td>0                                                                                 </td><td>0                                                                                 </td><td>PC 17757                                                                          </td><td>227.5250                                                                          </td><td>C45                                                                               </td><td>C                                                                                 </td></tr>\n",
       "\t<tr><th scope=row>731</th><td>731                                                                               </td><td>1                                                                                 </td><td>1                                                                                 </td><td>Allen, Miss. Elisabeth Walton                                                     </td><td>female                                                                            </td><td>29.00                                                                             </td><td>0                                                                                 </td><td>0                                                                                 </td><td>24160                                                                             </td><td>211.3375                                                                          </td><td>B5                                                                                </td><td>S                                                                                 </td></tr>\n",
       "\t<tr><th scope=row>738</th><td>738                                                                               </td><td>1                                                                                 </td><td>1                                                                                 </td><td>Lesurer, Mr. Gustave J                                                            </td><td>male                                                                              </td><td>35.00                                                                             </td><td>0                                                                                 </td><td>0                                                                                 </td><td>PC 17755                                                                          </td><td>512.3292                                                                          </td><td>B101                                                                              </td><td>C                                                                                 </td></tr>\n",
       "\t<tr><th scope=row>743</th><td>743                                                                               </td><td>1                                                                                 </td><td>1                                                                                 </td><td>Ryerson, Miss. Susan Parker \"Suzette\"                                             </td><td>female                                                                            </td><td>21.00                                                                             </td><td>2                                                                                 </td><td>2                                                                                 </td><td>PC 17608                                                                          </td><td>262.3750                                                                          </td><td>B57 B59 B63 B66                                                                   </td><td>C                                                                                 </td></tr>\n",
       "\t<tr><th scope=row>764</th><td>764                                                                               </td><td>1                                                                                 </td><td>1                                                                                 </td><td>Carter, Mrs. William Ernest (Lucile Polk)                                         </td><td>female                                                                            </td><td>36.00                                                                             </td><td>1                                                                                 </td><td>2                                                                                 </td><td>113760                                                                            </td><td>120.0000                                                                          </td><td>B96 B98                                                                           </td><td>S                                                                                 </td></tr>\n",
       "\t<tr><th scope=row>780</th><td>780                                                                               </td><td>1                                                                                 </td><td>1                                                                                 </td><td>Robert, Mrs. Edward Scott (Elisabeth Walton McMillan)                             </td><td>female                                                                            </td><td>43.00                                                                             </td><td>0                                                                                 </td><td>1                                                                                 </td><td>24160                                                                             </td><td>211.3375                                                                          </td><td>B3                                                                                </td><td>S                                                                                 </td></tr>\n",
       "\t<tr><th scope=row>803</th><td>803                                                                               </td><td>1                                                                                 </td><td>1                                                                                 </td><td>Carter, Master. William Thornton II                                               </td><td>male                                                                              </td><td>11.00                                                                             </td><td>1                                                                                 </td><td>2                                                                                 </td><td>113760                                                                            </td><td>120.0000                                                                          </td><td>B96 B98                                                                           </td><td>S                                                                                 </td></tr>\n",
       "\t<tr><th scope=row>857</th><td>857                                                                               </td><td>1                                                                                 </td><td>1                                                                                 </td><td>Wick, Mrs. George Dennick (Mary Hitchcock)                                        </td><td>female                                                                            </td><td>45.00                                                                             </td><td>1                                                                                 </td><td>1                                                                                 </td><td>36928                                                                             </td><td>164.8667                                                                          </td><td>NA                                                                                </td><td>S                                                                                 </td></tr>\n",
       "</tbody>\n",
       "</table>\n"
      ],
      "text/latex": [
       "\\begin{tabular}{r|llllllllllll}\n",
       "  & PassengerId & Survived & Pclass & Name & Sex & Age & SibSp & Parch & Ticket & Fare & Cabin & Embarked\\\\\n",
       "\\hline\n",
       "\t28 &  28                                                                                & 0                                                                                  & 1                                                                                  & Fortune, Mr. Charles Alexander                                                     & male                                                                               & 19.00                                                                              & 3                                                                                  & 2                                                                                  & 19950                                                                              & 263.0000                                                                           & C23 C25 C27                                                                        & S                                                                                 \\\\\n",
       "\t32 &  32                                                                                & 1                                                                                  & 1                                                                                  & Spencer, Mrs. William Augustus (Marie Eugenie)                                     & female                                                                             &    NA                                                                              & 1                                                                                  & 0                                                                                  & PC 17569                                                                           & 146.5208                                                                           & B78                                                                                & C                                                                                 \\\\\n",
       "\t89 &  89                                                                                & 1                                                                                  & 1                                                                                  & Fortune, Miss. Mabel Helen                                                         & female                                                                             & 23.00                                                                              & 3                                                                                  & 2                                                                                  & 19950                                                                              & 263.0000                                                                           & C23 C25 C27                                                                        & S                                                                                 \\\\\n",
       "\t119 & 119                                                                                & 0                                                                                  & 1                                                                                  & Baxter, Mr. Quigg Edmond                                                           & male                                                                               & 24.00                                                                              & 0                                                                                  & 1                                                                                  & PC 17558                                                                           & 247.5208                                                                           & B58 B60                                                                            & C                                                                                 \\\\\n",
       "\t196 & 196                                                                                & 1                                                                                  & 1                                                                                  & Lurette, Miss. Elise                                                               & female                                                                             & 58.00                                                                              & 0                                                                                  & 0                                                                                  & PC 17569                                                                           & 146.5208                                                                           & B80                                                                                & C                                                                                 \\\\\n",
       "\t216 & 216                                                                                & 1                                                                                  & 1                                                                                  & Newell, Miss. Madeleine                                                            & female                                                                             & 31.00                                                                              & 1                                                                                  & 0                                                                                  & 35273                                                                              & 113.2750                                                                           & D36                                                                                & C                                                                                 \\\\\n",
       "\t259 & 259                                                                                & 1                                                                                  & 1                                                                                  & Ward, Miss. Anna                                                                   & female                                                                             & 35.00                                                                              & 0                                                                                  & 0                                                                                  & PC 17755                                                                           & 512.3292                                                                           & NA                                                                                 & C                                                                                 \\\\\n",
       "\t269 & 269                                                                                & 1                                                                                  & 1                                                                                  & Graham, Mrs. William Thompson (Edith Junkins)                                      & female                                                                             & 58.00                                                                              & 0                                                                                  & 1                                                                                  & PC 17582                                                                           & 153.4625                                                                           & C125                                                                               & S                                                                                 \\\\\n",
       "\t270 & 270                                                                                & 1                                                                                  & 1                                                                                  & Bissette, Miss. Amelia                                                             & female                                                                             & 35.00                                                                              & 0                                                                                  & 0                                                                                  & PC 17760                                                                           & 135.6333                                                                           & C99                                                                                & S                                                                                 \\\\\n",
       "\t298 & 298                                                                                & 0                                                                                  & 1                                                                                  & Allison, Miss. Helen Loraine                                                       & female                                                                             &  2.00                                                                              & 1                                                                                  & 2                                                                                  & 113781                                                                             & 151.5500                                                                           & C22 C26                                                                            & S                                                                                 \\\\\n",
       "\t300 & 300                                                                                & 1                                                                                  & 1                                                                                  & Baxter, Mrs. James (Helene DeLaudeniere Chaput)                                    & female                                                                             & 50.00                                                                              & 0                                                                                  & 1                                                                                  & PC 17558                                                                           & 247.5208                                                                           & B58 B60                                                                            & C                                                                                 \\\\\n",
       "\t306 & 306                                                                                & 1                                                                                  & 1                                                                                  & Allison, Master. Hudson Trevor                                                     & male                                                                               &  0.92                                                                              & 1                                                                                  & 2                                                                                  & 113781                                                                             & 151.5500                                                                           & C22 C26                                                                            & S                                                                                 \\\\\n",
       "\t307 & 307                                                                                & 1                                                                                  & 1                                                                                  & Fleming, Miss. Margaret                                                            & female                                                                             &    NA                                                                              & 0                                                                                  & 0                                                                                  & 17421                                                                              & 110.8833                                                                           & NA                                                                                 & C                                                                                 \\\\\n",
       "\t308 & 308                                                                                & 1                                                                                  & 1                                                                                  & Penasco y Castellana, Mrs. Victor de Satode (Maria Josefa Perez de Soto y Vallejo) & female                                                                             & 17.00                                                                              & 1                                                                                  & 0                                                                                  & PC 17758                                                                           & 108.9000                                                                           & C65                                                                                & C                                                                                 \\\\\n",
       "\t312 & 312                                                                                & 1                                                                                  & 1                                                                                  & Ryerson, Miss. Emily Borie                                                         & female                                                                             & 18.00                                                                              & 2                                                                                  & 2                                                                                  & PC 17608                                                                           & 262.3750                                                                           & B57 B59 B63 B66                                                                    & C                                                                                 \\\\\n",
       "\t319 & 319                                                                                & 1                                                                                  & 1                                                                                  & Wick, Miss. Mary Natalie                                                           & female                                                                             & 31.00                                                                              & 0                                                                                  & 2                                                                                  & 36928                                                                              & 164.8667                                                                           & C7                                                                                 & S                                                                                 \\\\\n",
       "\t320 & 320                                                                                & 1                                                                                  & 1                                                                                  & Spedden, Mrs. Frederic Oakley (Margaretta Corning Stone)                           & female                                                                             & 40.00                                                                              & 1                                                                                  & 1                                                                                  & 16966                                                                              & 134.5000                                                                           & E34                                                                                & C                                                                                 \\\\\n",
       "\t326 & 326                                                                                & 1                                                                                  & 1                                                                                  & Young, Miss. Marie Grice                                                           & female                                                                             & 36.00                                                                              & 0                                                                                  & 0                                                                                  & PC 17760                                                                           & 135.6333                                                                           & C32                                                                                & C                                                                                 \\\\\n",
       "\t333 & 333                                                                                & 0                                                                                  & 1                                                                                  & Graham, Mr. George Edward                                                          & male                                                                               & 38.00                                                                              & 0                                                                                  & 1                                                                                  & PC 17582                                                                           & 153.4625                                                                           & C91                                                                                & S                                                                                 \\\\\n",
       "\t335 & 335                                                                                & 1                                                                                  & 1                                                                                  & Frauenthal, Mrs. Henry William (Clara Heinsheimer)                                 & female                                                                             &    NA                                                                              & 1                                                                                  & 0                                                                                  & PC 17611                                                                           & 133.6500                                                                           & NA                                                                                 & S                                                                                 \\\\\n",
       "\t338 & 338                                                                                & 1                                                                                  & 1                                                                                  & Burns, Miss. Elizabeth Margaret                                                    & female                                                                             & 41.00                                                                              & 0                                                                                  & 0                                                                                  & 16966                                                                              & 134.5000                                                                           & E40                                                                                & C                                                                                 \\\\\n",
       "\t342 & 342                                                                                & 1                                                                                  & 1                                                                                  & Fortune, Miss. Alice Elizabeth                                                     & female                                                                             & 24.00                                                                              & 3                                                                                  & 2                                                                                  & 19950                                                                              & 263.0000                                                                           & C23 C25 C27                                                                        & S                                                                                 \\\\\n",
       "\t374 & 374                                                                                & 0                                                                                  & 1                                                                                  & Ringhini, Mr. Sante                                                                & male                                                                               & 22.00                                                                              & 0                                                                                  & 0                                                                                  & PC 17760                                                                           & 135.6333                                                                           & NA                                                                                 & C                                                                                 \\\\\n",
       "\t378 & 378                                                                                & 0                                                                                  & 1                                                                                  & Widener, Mr. Harry Elkins                                                          & male                                                                               & 27.00                                                                              & 0                                                                                  & 2                                                                                  & 113503                                                                             & 211.5000                                                                           & C82                                                                                & C                                                                                 \\\\\n",
       "\t381 & 381                                                                                & 1                                                                                  & 1                                                                                  & Bidois, Miss. Rosalie                                                              & female                                                                             & 42.00                                                                              & 0                                                                                  & 0                                                                                  & PC 17757                                                                           & 227.5250                                                                           & NA                                                                                 & C                                                                                 \\\\\n",
       "\t391 & 391                                                                                & 1                                                                                  & 1                                                                                  & Carter, Mr. William Ernest                                                         & male                                                                               & 36.00                                                                              & 1                                                                                  & 2                                                                                  & 113760                                                                             & 120.0000                                                                           & B96 B98                                                                            & S                                                                                 \\\\\n",
       "\t394 & 394                                                                                & 1                                                                                  & 1                                                                                  & Newell, Miss. Marjorie                                                             & female                                                                             & 23.00                                                                              & 1                                                                                  & 0                                                                                  & 35273                                                                              & 113.2750                                                                           & D36                                                                                & C                                                                                 \\\\\n",
       "\t436 & 436                                                                                & 1                                                                                  & 1                                                                                  & Carter, Miss. Lucile Polk                                                          & female                                                                             & 14.00                                                                              & 1                                                                                  & 2                                                                                  & 113760                                                                             & 120.0000                                                                           & B96 B98                                                                            & S                                                                                 \\\\\n",
       "\t439 & 439                                                                                & 0                                                                                  & 1                                                                                  & Fortune, Mr. Mark                                                                  & male                                                                               & 64.00                                                                              & 1                                                                                  & 4                                                                                  & 19950                                                                              & 263.0000                                                                           & C23 C25 C27                                                                        & S                                                                                 \\\\\n",
       "\t499 & 499                                                                                & 0                                                                                  & 1                                                                                  & Allison, Mrs. Hudson J C (Bessie Waldo Daniels)                                    & female                                                                             & 25.00                                                                              & 1                                                                                  & 2                                                                                  & 113781                                                                             & 151.5500                                                                           & C22 C26                                                                            & S                                                                                 \\\\\n",
       "\t506 & 506                                                                                & 0                                                                                  & 1                                                                                  & Penasco y Castellana, Mr. Victor de Satode                                         & male                                                                               & 18.00                                                                              & 1                                                                                  & 0                                                                                  & PC 17758                                                                           & 108.9000                                                                           & C65                                                                                & C                                                                                 \\\\\n",
       "\t528 & 528                                                                                & 0                                                                                  & 1                                                                                  & Farthing, Mr. John                                                                 & male                                                                               &    NA                                                                              & 0                                                                                  & 0                                                                                  & PC 17483                                                                           & 221.7792                                                                           & C95                                                                                & S                                                                                 \\\\\n",
       "\t538 & 538                                                                                & 1                                                                                  & 1                                                                                  & LeRoy, Miss. Bertha                                                                & female                                                                             & 30.00                                                                              & 0                                                                                  & 0                                                                                  & PC 17761                                                                           & 106.4250                                                                           & NA                                                                                 & C                                                                                 \\\\\n",
       "\t545 & 545                                                                                & 0                                                                                  & 1                                                                                  & Douglas, Mr. Walter Donald                                                         & male                                                                               & 50.00                                                                              & 1                                                                                  & 0                                                                                  & PC 17761                                                                           & 106.4250                                                                           & C86                                                                                & C                                                                                 \\\\\n",
       "\t551 & 551                                                                                & 1                                                                                  & 1                                                                                  & Thayer, Mr. John Borland Jr                                                        & male                                                                               & 17.00                                                                              & 0                                                                                  & 2                                                                                  & 17421                                                                              & 110.8833                                                                           & C70                                                                                & C                                                                                 \\\\\n",
       "\t558 & 558                                                                                & 0                                                                                  & 1                                                                                  & Robbins, Mr. Victor                                                                & male                                                                               &    NA                                                                              & 0                                                                                  & 0                                                                                  & PC 17757                                                                           & 227.5250                                                                           & NA                                                                                 & C                                                                                 \\\\\n",
       "\t582 & 582                                                                                & 1                                                                                  & 1                                                                                  & Thayer, Mrs. John Borland (Marian Longstreth Morris)                               & female                                                                             & 39.00                                                                              & 1                                                                                  & 1                                                                                  & 17421                                                                              & 110.8833                                                                           & C68                                                                                & C                                                                                 \\\\\n",
       "\t610 & 610                                                                                & 1                                                                                  & 1                                                                                  & Shutes, Miss. Elizabeth W                                                          & female                                                                             & 40.00                                                                              & 0                                                                                  & 0                                                                                  & PC 17582                                                                           & 153.4625                                                                           & C125                                                                               & S                                                                                 \\\\\n",
       "\t660 & 660                                                                                & 0                                                                                  & 1                                                                                  & Newell, Mr. Arthur Webster                                                         & male                                                                               & 58.00                                                                              & 0                                                                                  & 2                                                                                  & 35273                                                                              & 113.2750                                                                           & D48                                                                                & C                                                                                 \\\\\n",
       "\t661 & 661                                                                                & 1                                                                                  & 1                                                                                  & Frauenthal, Dr. Henry William                                                      & male                                                                               & 50.00                                                                              & 2                                                                                  & 0                                                                                  & PC 17611                                                                           & 133.6500                                                                           & NA                                                                                 & S                                                                                 \\\\\n",
       "\t680 & 680                                                                                & 1                                                                                  & 1                                                                                  & Cardeza, Mr. Thomas Drake Martinez                                                 & male                                                                               & 36.00                                                                              & 0                                                                                  & 1                                                                                  & PC 17755                                                                           & 512.3292                                                                           & B51 B53 B55                                                                        & C                                                                                 \\\\\n",
       "\t690 & 690                                                                                & 1                                                                                  & 1                                                                                  & Madill, Miss. Georgette Alexandra                                                  & female                                                                             & 15.00                                                                              & 0                                                                                  & 1                                                                                  & 24160                                                                              & 211.3375                                                                           & B5                                                                                 & S                                                                                 \\\\\n",
       "\t699 & 699                                                                                & 0                                                                                  & 1                                                                                  & Thayer, Mr. John Borland                                                           & male                                                                               & 49.00                                                                              & 1                                                                                  & 1                                                                                  & 17421                                                                              & 110.8833                                                                           & C68                                                                                & C                                                                                 \\\\\n",
       "\t701 & 701                                                                                & 1                                                                                  & 1                                                                                  & Astor, Mrs. John Jacob (Madeleine Talmadge Force)                                  & female                                                                             & 18.00                                                                              & 1                                                                                  & 0                                                                                  & PC 17757                                                                           & 227.5250                                                                           & C62 C64                                                                            & C                                                                                 \\\\\n",
       "\t709 & 709                                                                                & 1                                                                                  & 1                                                                                  & Cleaver, Miss. Alice                                                               & female                                                                             & 22.00                                                                              & 0                                                                                  & 0                                                                                  & 113781                                                                             & 151.5500                                                                           & NA                                                                                 & S                                                                                 \\\\\n",
       "\t717 & 717                                                                                & 1                                                                                  & 1                                                                                  & Endres, Miss. Caroline Louise                                                      & female                                                                             & 38.00                                                                              & 0                                                                                  & 0                                                                                  & PC 17757                                                                           & 227.5250                                                                           & C45                                                                                & C                                                                                 \\\\\n",
       "\t731 & 731                                                                                & 1                                                                                  & 1                                                                                  & Allen, Miss. Elisabeth Walton                                                      & female                                                                             & 29.00                                                                              & 0                                                                                  & 0                                                                                  & 24160                                                                              & 211.3375                                                                           & B5                                                                                 & S                                                                                 \\\\\n",
       "\t738 & 738                                                                                & 1                                                                                  & 1                                                                                  & Lesurer, Mr. Gustave J                                                             & male                                                                               & 35.00                                                                              & 0                                                                                  & 0                                                                                  & PC 17755                                                                           & 512.3292                                                                           & B101                                                                               & C                                                                                 \\\\\n",
       "\t743 & 743                                                                                & 1                                                                                  & 1                                                                                  & Ryerson, Miss. Susan Parker \"Suzette\"                                              & female                                                                             & 21.00                                                                              & 2                                                                                  & 2                                                                                  & PC 17608                                                                           & 262.3750                                                                           & B57 B59 B63 B66                                                                    & C                                                                                 \\\\\n",
       "\t764 & 764                                                                                & 1                                                                                  & 1                                                                                  & Carter, Mrs. William Ernest (Lucile Polk)                                          & female                                                                             & 36.00                                                                              & 1                                                                                  & 2                                                                                  & 113760                                                                             & 120.0000                                                                           & B96 B98                                                                            & S                                                                                 \\\\\n",
       "\t780 & 780                                                                                & 1                                                                                  & 1                                                                                  & Robert, Mrs. Edward Scott (Elisabeth Walton McMillan)                              & female                                                                             & 43.00                                                                              & 0                                                                                  & 1                                                                                  & 24160                                                                              & 211.3375                                                                           & B3                                                                                 & S                                                                                 \\\\\n",
       "\t803 & 803                                                                                & 1                                                                                  & 1                                                                                  & Carter, Master. William Thornton II                                                & male                                                                               & 11.00                                                                              & 1                                                                                  & 2                                                                                  & 113760                                                                             & 120.0000                                                                           & B96 B98                                                                            & S                                                                                 \\\\\n",
       "\t857 & 857                                                                                & 1                                                                                  & 1                                                                                  & Wick, Mrs. George Dennick (Mary Hitchcock)                                         & female                                                                             & 45.00                                                                              & 1                                                                                  & 1                                                                                  & 36928                                                                              & 164.8667                                                                           & NA                                                                                 & S                                                                                 \\\\\n",
       "\\end{tabular}\n"
      ],
      "text/markdown": [
       "\n",
       "| <!--/--> | PassengerId | Survived | Pclass | Name | Sex | Age | SibSp | Parch | Ticket | Fare | Cabin | Embarked |\n",
       "|---|---|---|---|---|---|---|---|---|---|---|---|---|\n",
       "| 28 |  28                                                                                | 0                                                                                  | 1                                                                                  | Fortune, Mr. Charles Alexander                                                     | male                                                                               | 19.00                                                                              | 3                                                                                  | 2                                                                                  | 19950                                                                              | 263.0000                                                                           | C23 C25 C27                                                                        | S                                                                                  |\n",
       "| 32 |  32                                                                                | 1                                                                                  | 1                                                                                  | Spencer, Mrs. William Augustus (Marie Eugenie)                                     | female                                                                             |    NA                                                                              | 1                                                                                  | 0                                                                                  | PC 17569                                                                           | 146.5208                                                                           | B78                                                                                | C                                                                                  |\n",
       "| 89 |  89                                                                                | 1                                                                                  | 1                                                                                  | Fortune, Miss. Mabel Helen                                                         | female                                                                             | 23.00                                                                              | 3                                                                                  | 2                                                                                  | 19950                                                                              | 263.0000                                                                           | C23 C25 C27                                                                        | S                                                                                  |\n",
       "| 119 | 119                                                                                | 0                                                                                  | 1                                                                                  | Baxter, Mr. Quigg Edmond                                                           | male                                                                               | 24.00                                                                              | 0                                                                                  | 1                                                                                  | PC 17558                                                                           | 247.5208                                                                           | B58 B60                                                                            | C                                                                                  |\n",
       "| 196 | 196                                                                                | 1                                                                                  | 1                                                                                  | Lurette, Miss. Elise                                                               | female                                                                             | 58.00                                                                              | 0                                                                                  | 0                                                                                  | PC 17569                                                                           | 146.5208                                                                           | B80                                                                                | C                                                                                  |\n",
       "| 216 | 216                                                                                | 1                                                                                  | 1                                                                                  | Newell, Miss. Madeleine                                                            | female                                                                             | 31.00                                                                              | 1                                                                                  | 0                                                                                  | 35273                                                                              | 113.2750                                                                           | D36                                                                                | C                                                                                  |\n",
       "| 259 | 259                                                                                | 1                                                                                  | 1                                                                                  | Ward, Miss. Anna                                                                   | female                                                                             | 35.00                                                                              | 0                                                                                  | 0                                                                                  | PC 17755                                                                           | 512.3292                                                                           | NA                                                                                 | C                                                                                  |\n",
       "| 269 | 269                                                                                | 1                                                                                  | 1                                                                                  | Graham, Mrs. William Thompson (Edith Junkins)                                      | female                                                                             | 58.00                                                                              | 0                                                                                  | 1                                                                                  | PC 17582                                                                           | 153.4625                                                                           | C125                                                                               | S                                                                                  |\n",
       "| 270 | 270                                                                                | 1                                                                                  | 1                                                                                  | Bissette, Miss. Amelia                                                             | female                                                                             | 35.00                                                                              | 0                                                                                  | 0                                                                                  | PC 17760                                                                           | 135.6333                                                                           | C99                                                                                | S                                                                                  |\n",
       "| 298 | 298                                                                                | 0                                                                                  | 1                                                                                  | Allison, Miss. Helen Loraine                                                       | female                                                                             |  2.00                                                                              | 1                                                                                  | 2                                                                                  | 113781                                                                             | 151.5500                                                                           | C22 C26                                                                            | S                                                                                  |\n",
       "| 300 | 300                                                                                | 1                                                                                  | 1                                                                                  | Baxter, Mrs. James (Helene DeLaudeniere Chaput)                                    | female                                                                             | 50.00                                                                              | 0                                                                                  | 1                                                                                  | PC 17558                                                                           | 247.5208                                                                           | B58 B60                                                                            | C                                                                                  |\n",
       "| 306 | 306                                                                                | 1                                                                                  | 1                                                                                  | Allison, Master. Hudson Trevor                                                     | male                                                                               |  0.92                                                                              | 1                                                                                  | 2                                                                                  | 113781                                                                             | 151.5500                                                                           | C22 C26                                                                            | S                                                                                  |\n",
       "| 307 | 307                                                                                | 1                                                                                  | 1                                                                                  | Fleming, Miss. Margaret                                                            | female                                                                             |    NA                                                                              | 0                                                                                  | 0                                                                                  | 17421                                                                              | 110.8833                                                                           | NA                                                                                 | C                                                                                  |\n",
       "| 308 | 308                                                                                | 1                                                                                  | 1                                                                                  | Penasco y Castellana, Mrs. Victor de Satode (Maria Josefa Perez de Soto y Vallejo) | female                                                                             | 17.00                                                                              | 1                                                                                  | 0                                                                                  | PC 17758                                                                           | 108.9000                                                                           | C65                                                                                | C                                                                                  |\n",
       "| 312 | 312                                                                                | 1                                                                                  | 1                                                                                  | Ryerson, Miss. Emily Borie                                                         | female                                                                             | 18.00                                                                              | 2                                                                                  | 2                                                                                  | PC 17608                                                                           | 262.3750                                                                           | B57 B59 B63 B66                                                                    | C                                                                                  |\n",
       "| 319 | 319                                                                                | 1                                                                                  | 1                                                                                  | Wick, Miss. Mary Natalie                                                           | female                                                                             | 31.00                                                                              | 0                                                                                  | 2                                                                                  | 36928                                                                              | 164.8667                                                                           | C7                                                                                 | S                                                                                  |\n",
       "| 320 | 320                                                                                | 1                                                                                  | 1                                                                                  | Spedden, Mrs. Frederic Oakley (Margaretta Corning Stone)                           | female                                                                             | 40.00                                                                              | 1                                                                                  | 1                                                                                  | 16966                                                                              | 134.5000                                                                           | E34                                                                                | C                                                                                  |\n",
       "| 326 | 326                                                                                | 1                                                                                  | 1                                                                                  | Young, Miss. Marie Grice                                                           | female                                                                             | 36.00                                                                              | 0                                                                                  | 0                                                                                  | PC 17760                                                                           | 135.6333                                                                           | C32                                                                                | C                                                                                  |\n",
       "| 333 | 333                                                                                | 0                                                                                  | 1                                                                                  | Graham, Mr. George Edward                                                          | male                                                                               | 38.00                                                                              | 0                                                                                  | 1                                                                                  | PC 17582                                                                           | 153.4625                                                                           | C91                                                                                | S                                                                                  |\n",
       "| 335 | 335                                                                                | 1                                                                                  | 1                                                                                  | Frauenthal, Mrs. Henry William (Clara Heinsheimer)                                 | female                                                                             |    NA                                                                              | 1                                                                                  | 0                                                                                  | PC 17611                                                                           | 133.6500                                                                           | NA                                                                                 | S                                                                                  |\n",
       "| 338 | 338                                                                                | 1                                                                                  | 1                                                                                  | Burns, Miss. Elizabeth Margaret                                                    | female                                                                             | 41.00                                                                              | 0                                                                                  | 0                                                                                  | 16966                                                                              | 134.5000                                                                           | E40                                                                                | C                                                                                  |\n",
       "| 342 | 342                                                                                | 1                                                                                  | 1                                                                                  | Fortune, Miss. Alice Elizabeth                                                     | female                                                                             | 24.00                                                                              | 3                                                                                  | 2                                                                                  | 19950                                                                              | 263.0000                                                                           | C23 C25 C27                                                                        | S                                                                                  |\n",
       "| 374 | 374                                                                                | 0                                                                                  | 1                                                                                  | Ringhini, Mr. Sante                                                                | male                                                                               | 22.00                                                                              | 0                                                                                  | 0                                                                                  | PC 17760                                                                           | 135.6333                                                                           | NA                                                                                 | C                                                                                  |\n",
       "| 378 | 378                                                                                | 0                                                                                  | 1                                                                                  | Widener, Mr. Harry Elkins                                                          | male                                                                               | 27.00                                                                              | 0                                                                                  | 2                                                                                  | 113503                                                                             | 211.5000                                                                           | C82                                                                                | C                                                                                  |\n",
       "| 381 | 381                                                                                | 1                                                                                  | 1                                                                                  | Bidois, Miss. Rosalie                                                              | female                                                                             | 42.00                                                                              | 0                                                                                  | 0                                                                                  | PC 17757                                                                           | 227.5250                                                                           | NA                                                                                 | C                                                                                  |\n",
       "| 391 | 391                                                                                | 1                                                                                  | 1                                                                                  | Carter, Mr. William Ernest                                                         | male                                                                               | 36.00                                                                              | 1                                                                                  | 2                                                                                  | 113760                                                                             | 120.0000                                                                           | B96 B98                                                                            | S                                                                                  |\n",
       "| 394 | 394                                                                                | 1                                                                                  | 1                                                                                  | Newell, Miss. Marjorie                                                             | female                                                                             | 23.00                                                                              | 1                                                                                  | 0                                                                                  | 35273                                                                              | 113.2750                                                                           | D36                                                                                | C                                                                                  |\n",
       "| 436 | 436                                                                                | 1                                                                                  | 1                                                                                  | Carter, Miss. Lucile Polk                                                          | female                                                                             | 14.00                                                                              | 1                                                                                  | 2                                                                                  | 113760                                                                             | 120.0000                                                                           | B96 B98                                                                            | S                                                                                  |\n",
       "| 439 | 439                                                                                | 0                                                                                  | 1                                                                                  | Fortune, Mr. Mark                                                                  | male                                                                               | 64.00                                                                              | 1                                                                                  | 4                                                                                  | 19950                                                                              | 263.0000                                                                           | C23 C25 C27                                                                        | S                                                                                  |\n",
       "| 499 | 499                                                                                | 0                                                                                  | 1                                                                                  | Allison, Mrs. Hudson J C (Bessie Waldo Daniels)                                    | female                                                                             | 25.00                                                                              | 1                                                                                  | 2                                                                                  | 113781                                                                             | 151.5500                                                                           | C22 C26                                                                            | S                                                                                  |\n",
       "| 506 | 506                                                                                | 0                                                                                  | 1                                                                                  | Penasco y Castellana, Mr. Victor de Satode                                         | male                                                                               | 18.00                                                                              | 1                                                                                  | 0                                                                                  | PC 17758                                                                           | 108.9000                                                                           | C65                                                                                | C                                                                                  |\n",
       "| 528 | 528                                                                                | 0                                                                                  | 1                                                                                  | Farthing, Mr. John                                                                 | male                                                                               |    NA                                                                              | 0                                                                                  | 0                                                                                  | PC 17483                                                                           | 221.7792                                                                           | C95                                                                                | S                                                                                  |\n",
       "| 538 | 538                                                                                | 1                                                                                  | 1                                                                                  | LeRoy, Miss. Bertha                                                                | female                                                                             | 30.00                                                                              | 0                                                                                  | 0                                                                                  | PC 17761                                                                           | 106.4250                                                                           | NA                                                                                 | C                                                                                  |\n",
       "| 545 | 545                                                                                | 0                                                                                  | 1                                                                                  | Douglas, Mr. Walter Donald                                                         | male                                                                               | 50.00                                                                              | 1                                                                                  | 0                                                                                  | PC 17761                                                                           | 106.4250                                                                           | C86                                                                                | C                                                                                  |\n",
       "| 551 | 551                                                                                | 1                                                                                  | 1                                                                                  | Thayer, Mr. John Borland Jr                                                        | male                                                                               | 17.00                                                                              | 0                                                                                  | 2                                                                                  | 17421                                                                              | 110.8833                                                                           | C70                                                                                | C                                                                                  |\n",
       "| 558 | 558                                                                                | 0                                                                                  | 1                                                                                  | Robbins, Mr. Victor                                                                | male                                                                               |    NA                                                                              | 0                                                                                  | 0                                                                                  | PC 17757                                                                           | 227.5250                                                                           | NA                                                                                 | C                                                                                  |\n",
       "| 582 | 582                                                                                | 1                                                                                  | 1                                                                                  | Thayer, Mrs. John Borland (Marian Longstreth Morris)                               | female                                                                             | 39.00                                                                              | 1                                                                                  | 1                                                                                  | 17421                                                                              | 110.8833                                                                           | C68                                                                                | C                                                                                  |\n",
       "| 610 | 610                                                                                | 1                                                                                  | 1                                                                                  | Shutes, Miss. Elizabeth W                                                          | female                                                                             | 40.00                                                                              | 0                                                                                  | 0                                                                                  | PC 17582                                                                           | 153.4625                                                                           | C125                                                                               | S                                                                                  |\n",
       "| 660 | 660                                                                                | 0                                                                                  | 1                                                                                  | Newell, Mr. Arthur Webster                                                         | male                                                                               | 58.00                                                                              | 0                                                                                  | 2                                                                                  | 35273                                                                              | 113.2750                                                                           | D48                                                                                | C                                                                                  |\n",
       "| 661 | 661                                                                                | 1                                                                                  | 1                                                                                  | Frauenthal, Dr. Henry William                                                      | male                                                                               | 50.00                                                                              | 2                                                                                  | 0                                                                                  | PC 17611                                                                           | 133.6500                                                                           | NA                                                                                 | S                                                                                  |\n",
       "| 680 | 680                                                                                | 1                                                                                  | 1                                                                                  | Cardeza, Mr. Thomas Drake Martinez                                                 | male                                                                               | 36.00                                                                              | 0                                                                                  | 1                                                                                  | PC 17755                                                                           | 512.3292                                                                           | B51 B53 B55                                                                        | C                                                                                  |\n",
       "| 690 | 690                                                                                | 1                                                                                  | 1                                                                                  | Madill, Miss. Georgette Alexandra                                                  | female                                                                             | 15.00                                                                              | 0                                                                                  | 1                                                                                  | 24160                                                                              | 211.3375                                                                           | B5                                                                                 | S                                                                                  |\n",
       "| 699 | 699                                                                                | 0                                                                                  | 1                                                                                  | Thayer, Mr. John Borland                                                           | male                                                                               | 49.00                                                                              | 1                                                                                  | 1                                                                                  | 17421                                                                              | 110.8833                                                                           | C68                                                                                | C                                                                                  |\n",
       "| 701 | 701                                                                                | 1                                                                                  | 1                                                                                  | Astor, Mrs. John Jacob (Madeleine Talmadge Force)                                  | female                                                                             | 18.00                                                                              | 1                                                                                  | 0                                                                                  | PC 17757                                                                           | 227.5250                                                                           | C62 C64                                                                            | C                                                                                  |\n",
       "| 709 | 709                                                                                | 1                                                                                  | 1                                                                                  | Cleaver, Miss. Alice                                                               | female                                                                             | 22.00                                                                              | 0                                                                                  | 0                                                                                  | 113781                                                                             | 151.5500                                                                           | NA                                                                                 | S                                                                                  |\n",
       "| 717 | 717                                                                                | 1                                                                                  | 1                                                                                  | Endres, Miss. Caroline Louise                                                      | female                                                                             | 38.00                                                                              | 0                                                                                  | 0                                                                                  | PC 17757                                                                           | 227.5250                                                                           | C45                                                                                | C                                                                                  |\n",
       "| 731 | 731                                                                                | 1                                                                                  | 1                                                                                  | Allen, Miss. Elisabeth Walton                                                      | female                                                                             | 29.00                                                                              | 0                                                                                  | 0                                                                                  | 24160                                                                              | 211.3375                                                                           | B5                                                                                 | S                                                                                  |\n",
       "| 738 | 738                                                                                | 1                                                                                  | 1                                                                                  | Lesurer, Mr. Gustave J                                                             | male                                                                               | 35.00                                                                              | 0                                                                                  | 0                                                                                  | PC 17755                                                                           | 512.3292                                                                           | B101                                                                               | C                                                                                  |\n",
       "| 743 | 743                                                                                | 1                                                                                  | 1                                                                                  | Ryerson, Miss. Susan Parker \"Suzette\"                                              | female                                                                             | 21.00                                                                              | 2                                                                                  | 2                                                                                  | PC 17608                                                                           | 262.3750                                                                           | B57 B59 B63 B66                                                                    | C                                                                                  |\n",
       "| 764 | 764                                                                                | 1                                                                                  | 1                                                                                  | Carter, Mrs. William Ernest (Lucile Polk)                                          | female                                                                             | 36.00                                                                              | 1                                                                                  | 2                                                                                  | 113760                                                                             | 120.0000                                                                           | B96 B98                                                                            | S                                                                                  |\n",
       "| 780 | 780                                                                                | 1                                                                                  | 1                                                                                  | Robert, Mrs. Edward Scott (Elisabeth Walton McMillan)                              | female                                                                             | 43.00                                                                              | 0                                                                                  | 1                                                                                  | 24160                                                                              | 211.3375                                                                           | B3                                                                                 | S                                                                                  |\n",
       "| 803 | 803                                                                                | 1                                                                                  | 1                                                                                  | Carter, Master. William Thornton II                                                | male                                                                               | 11.00                                                                              | 1                                                                                  | 2                                                                                  | 113760                                                                             | 120.0000                                                                           | B96 B98                                                                            | S                                                                                  |\n",
       "| 857 | 857                                                                                | 1                                                                                  | 1                                                                                  | Wick, Mrs. George Dennick (Mary Hitchcock)                                         | female                                                                             | 45.00                                                                              | 1                                                                                  | 1                                                                                  | 36928                                                                              | 164.8667                                                                           | NA                                                                                 | S                                                                                  |\n",
       "\n"
      ],
      "text/plain": [
       "    PassengerId Survived Pclass\n",
       "28   28         0        1     \n",
       "32   32         1        1     \n",
       "89   89         1        1     \n",
       "119 119         0        1     \n",
       "196 196         1        1     \n",
       "216 216         1        1     \n",
       "259 259         1        1     \n",
       "269 269         1        1     \n",
       "270 270         1        1     \n",
       "298 298         0        1     \n",
       "300 300         1        1     \n",
       "306 306         1        1     \n",
       "307 307         1        1     \n",
       "308 308         1        1     \n",
       "312 312         1        1     \n",
       "319 319         1        1     \n",
       "320 320         1        1     \n",
       "326 326         1        1     \n",
       "333 333         0        1     \n",
       "335 335         1        1     \n",
       "338 338         1        1     \n",
       "342 342         1        1     \n",
       "374 374         0        1     \n",
       "378 378         0        1     \n",
       "381 381         1        1     \n",
       "391 391         1        1     \n",
       "394 394         1        1     \n",
       "436 436         1        1     \n",
       "439 439         0        1     \n",
       "499 499         0        1     \n",
       "506 506         0        1     \n",
       "528 528         0        1     \n",
       "538 538         1        1     \n",
       "545 545         0        1     \n",
       "551 551         1        1     \n",
       "558 558         0        1     \n",
       "582 582         1        1     \n",
       "610 610         1        1     \n",
       "660 660         0        1     \n",
       "661 661         1        1     \n",
       "680 680         1        1     \n",
       "690 690         1        1     \n",
       "699 699         0        1     \n",
       "701 701         1        1     \n",
       "709 709         1        1     \n",
       "717 717         1        1     \n",
       "731 731         1        1     \n",
       "738 738         1        1     \n",
       "743 743         1        1     \n",
       "764 764         1        1     \n",
       "780 780         1        1     \n",
       "803 803         1        1     \n",
       "857 857         1        1     \n",
       "    Name                                                                              \n",
       "28  Fortune, Mr. Charles Alexander                                                    \n",
       "32  Spencer, Mrs. William Augustus (Marie Eugenie)                                    \n",
       "89  Fortune, Miss. Mabel Helen                                                        \n",
       "119 Baxter, Mr. Quigg Edmond                                                          \n",
       "196 Lurette, Miss. Elise                                                              \n",
       "216 Newell, Miss. Madeleine                                                           \n",
       "259 Ward, Miss. Anna                                                                  \n",
       "269 Graham, Mrs. William Thompson (Edith Junkins)                                     \n",
       "270 Bissette, Miss. Amelia                                                            \n",
       "298 Allison, Miss. Helen Loraine                                                      \n",
       "300 Baxter, Mrs. James (Helene DeLaudeniere Chaput)                                   \n",
       "306 Allison, Master. Hudson Trevor                                                    \n",
       "307 Fleming, Miss. Margaret                                                           \n",
       "308 Penasco y Castellana, Mrs. Victor de Satode (Maria Josefa Perez de Soto y Vallejo)\n",
       "312 Ryerson, Miss. Emily Borie                                                        \n",
       "319 Wick, Miss. Mary Natalie                                                          \n",
       "320 Spedden, Mrs. Frederic Oakley (Margaretta Corning Stone)                          \n",
       "326 Young, Miss. Marie Grice                                                          \n",
       "333 Graham, Mr. George Edward                                                         \n",
       "335 Frauenthal, Mrs. Henry William (Clara Heinsheimer)                                \n",
       "338 Burns, Miss. Elizabeth Margaret                                                   \n",
       "342 Fortune, Miss. Alice Elizabeth                                                    \n",
       "374 Ringhini, Mr. Sante                                                               \n",
       "378 Widener, Mr. Harry Elkins                                                         \n",
       "381 Bidois, Miss. Rosalie                                                             \n",
       "391 Carter, Mr. William Ernest                                                        \n",
       "394 Newell, Miss. Marjorie                                                            \n",
       "436 Carter, Miss. Lucile Polk                                                         \n",
       "439 Fortune, Mr. Mark                                                                 \n",
       "499 Allison, Mrs. Hudson J C (Bessie Waldo Daniels)                                   \n",
       "506 Penasco y Castellana, Mr. Victor de Satode                                        \n",
       "528 Farthing, Mr. John                                                                \n",
       "538 LeRoy, Miss. Bertha                                                               \n",
       "545 Douglas, Mr. Walter Donald                                                        \n",
       "551 Thayer, Mr. John Borland Jr                                                       \n",
       "558 Robbins, Mr. Victor                                                               \n",
       "582 Thayer, Mrs. John Borland (Marian Longstreth Morris)                              \n",
       "610 Shutes, Miss. Elizabeth W                                                         \n",
       "660 Newell, Mr. Arthur Webster                                                        \n",
       "661 Frauenthal, Dr. Henry William                                                     \n",
       "680 Cardeza, Mr. Thomas Drake Martinez                                                \n",
       "690 Madill, Miss. Georgette Alexandra                                                 \n",
       "699 Thayer, Mr. John Borland                                                          \n",
       "701 Astor, Mrs. John Jacob (Madeleine Talmadge Force)                                 \n",
       "709 Cleaver, Miss. Alice                                                              \n",
       "717 Endres, Miss. Caroline Louise                                                     \n",
       "731 Allen, Miss. Elisabeth Walton                                                     \n",
       "738 Lesurer, Mr. Gustave J                                                            \n",
       "743 Ryerson, Miss. Susan Parker \"Suzette\"                                             \n",
       "764 Carter, Mrs. William Ernest (Lucile Polk)                                         \n",
       "780 Robert, Mrs. Edward Scott (Elisabeth Walton McMillan)                             \n",
       "803 Carter, Master. William Thornton II                                               \n",
       "857 Wick, Mrs. George Dennick (Mary Hitchcock)                                        \n",
       "    Sex    Age   SibSp Parch Ticket   Fare     Cabin           Embarked\n",
       "28  male   19.00 3     2     19950    263.0000 C23 C25 C27     S       \n",
       "32  female    NA 1     0     PC 17569 146.5208 B78             C       \n",
       "89  female 23.00 3     2     19950    263.0000 C23 C25 C27     S       \n",
       "119 male   24.00 0     1     PC 17558 247.5208 B58 B60         C       \n",
       "196 female 58.00 0     0     PC 17569 146.5208 B80             C       \n",
       "216 female 31.00 1     0     35273    113.2750 D36             C       \n",
       "259 female 35.00 0     0     PC 17755 512.3292 NA              C       \n",
       "269 female 58.00 0     1     PC 17582 153.4625 C125            S       \n",
       "270 female 35.00 0     0     PC 17760 135.6333 C99             S       \n",
       "298 female  2.00 1     2     113781   151.5500 C22 C26         S       \n",
       "300 female 50.00 0     1     PC 17558 247.5208 B58 B60         C       \n",
       "306 male    0.92 1     2     113781   151.5500 C22 C26         S       \n",
       "307 female    NA 0     0     17421    110.8833 NA              C       \n",
       "308 female 17.00 1     0     PC 17758 108.9000 C65             C       \n",
       "312 female 18.00 2     2     PC 17608 262.3750 B57 B59 B63 B66 C       \n",
       "319 female 31.00 0     2     36928    164.8667 C7              S       \n",
       "320 female 40.00 1     1     16966    134.5000 E34             C       \n",
       "326 female 36.00 0     0     PC 17760 135.6333 C32             C       \n",
       "333 male   38.00 0     1     PC 17582 153.4625 C91             S       \n",
       "335 female    NA 1     0     PC 17611 133.6500 NA              S       \n",
       "338 female 41.00 0     0     16966    134.5000 E40             C       \n",
       "342 female 24.00 3     2     19950    263.0000 C23 C25 C27     S       \n",
       "374 male   22.00 0     0     PC 17760 135.6333 NA              C       \n",
       "378 male   27.00 0     2     113503   211.5000 C82             C       \n",
       "381 female 42.00 0     0     PC 17757 227.5250 NA              C       \n",
       "391 male   36.00 1     2     113760   120.0000 B96 B98         S       \n",
       "394 female 23.00 1     0     35273    113.2750 D36             C       \n",
       "436 female 14.00 1     2     113760   120.0000 B96 B98         S       \n",
       "439 male   64.00 1     4     19950    263.0000 C23 C25 C27     S       \n",
       "499 female 25.00 1     2     113781   151.5500 C22 C26         S       \n",
       "506 male   18.00 1     0     PC 17758 108.9000 C65             C       \n",
       "528 male      NA 0     0     PC 17483 221.7792 C95             S       \n",
       "538 female 30.00 0     0     PC 17761 106.4250 NA              C       \n",
       "545 male   50.00 1     0     PC 17761 106.4250 C86             C       \n",
       "551 male   17.00 0     2     17421    110.8833 C70             C       \n",
       "558 male      NA 0     0     PC 17757 227.5250 NA              C       \n",
       "582 female 39.00 1     1     17421    110.8833 C68             C       \n",
       "610 female 40.00 0     0     PC 17582 153.4625 C125            S       \n",
       "660 male   58.00 0     2     35273    113.2750 D48             C       \n",
       "661 male   50.00 2     0     PC 17611 133.6500 NA              S       \n",
       "680 male   36.00 0     1     PC 17755 512.3292 B51 B53 B55     C       \n",
       "690 female 15.00 0     1     24160    211.3375 B5              S       \n",
       "699 male   49.00 1     1     17421    110.8833 C68             C       \n",
       "701 female 18.00 1     0     PC 17757 227.5250 C62 C64         C       \n",
       "709 female 22.00 0     0     113781   151.5500 NA              S       \n",
       "717 female 38.00 0     0     PC 17757 227.5250 C45             C       \n",
       "731 female 29.00 0     0     24160    211.3375 B5              S       \n",
       "738 male   35.00 0     0     PC 17755 512.3292 B101            C       \n",
       "743 female 21.00 2     2     PC 17608 262.3750 B57 B59 B63 B66 C       \n",
       "764 female 36.00 1     2     113760   120.0000 B96 B98         S       \n",
       "780 female 43.00 0     1     24160    211.3375 B3              S       \n",
       "803 male   11.00 1     2     113760   120.0000 B96 B98         S       \n",
       "857 female 45.00 1     1     36928    164.8667 NA              S       "
      ]
     },
     "metadata": {},
     "output_type": "display_data"
    }
   ],
   "source": [
    "df[df['Fare'] >= 100, ]"
   ]
  },
  {
   "cell_type": "code",
   "execution_count": 41,
   "id": "judicial-evaluation",
   "metadata": {},
   "outputs": [
    {
     "data": {
      "text/html": [
       "<table>\n",
       "<thead><tr><th></th><th scope=col>PassengerId</th><th scope=col>Survived</th><th scope=col>Pclass</th><th scope=col>Name</th><th scope=col>Sex</th><th scope=col>Age</th><th scope=col>SibSp</th><th scope=col>Parch</th><th scope=col>Ticket</th><th scope=col>Fare</th><th scope=col>Cabin</th><th scope=col>Embarked</th></tr></thead>\n",
       "<tbody>\n",
       "\t<tr><th scope=row>180</th><td>180                             </td><td>0                               </td><td>3                               </td><td>Leonard, Mr. Lionel             </td><td>male                            </td><td>36                              </td><td>0                               </td><td>0                               </td><td>LINE                            </td><td>0.0000                          </td><td>NA                              </td><td>S                               </td></tr>\n",
       "\t<tr><th scope=row>264</th><td>264                             </td><td>0                               </td><td>1                               </td><td>Harrison, Mr. William           </td><td>male                            </td><td>40                              </td><td>0                               </td><td>0                               </td><td>112059                          </td><td>0.0000                          </td><td>B94                             </td><td>S                               </td></tr>\n",
       "\t<tr><th scope=row>272</th><td>272                             </td><td>1                               </td><td>3                               </td><td>Tornquist, Mr. William Henry    </td><td>male                            </td><td>25                              </td><td>0                               </td><td>0                               </td><td>LINE                            </td><td>0.0000                          </td><td>NA                              </td><td>S                               </td></tr>\n",
       "\t<tr><th scope=row>278</th><td>278                             </td><td>0                               </td><td>2                               </td><td>Parkes, Mr. Francis \"Frank\"     </td><td>male                            </td><td>NA                              </td><td>0                               </td><td>0                               </td><td>239853                          </td><td>0.0000                          </td><td>NA                              </td><td>S                               </td></tr>\n",
       "\t<tr><th scope=row>303</th><td>303                             </td><td>0                               </td><td>3                               </td><td>Johnson, Mr. William Cahoone Jr </td><td>male                            </td><td>19                              </td><td>0                               </td><td>0                               </td><td>LINE                            </td><td>0.0000                          </td><td>NA                              </td><td>S                               </td></tr>\n",
       "\t<tr><th scope=row>379</th><td>379                             </td><td>0                               </td><td>3                               </td><td>Betros, Mr. Tannous             </td><td>male                            </td><td>20                              </td><td>0                               </td><td>0                               </td><td>2648                            </td><td>4.0125                          </td><td>NA                              </td><td>C                               </td></tr>\n",
       "\t<tr><th scope=row>414</th><td>414                             </td><td>0                               </td><td>2                               </td><td>Cunningham, Mr. Alfred Fleming  </td><td>male                            </td><td>NA                              </td><td>0                               </td><td>0                               </td><td>239853                          </td><td>0.0000                          </td><td>NA                              </td><td>S                               </td></tr>\n",
       "\t<tr><th scope=row>467</th><td>467                             </td><td>0                               </td><td>2                               </td><td>Campbell, Mr. William           </td><td>male                            </td><td>NA                              </td><td>0                               </td><td>0                               </td><td>239853                          </td><td>0.0000                          </td><td>NA                              </td><td>S                               </td></tr>\n",
       "\t<tr><th scope=row>482</th><td>482                             </td><td>0                               </td><td>2                               </td><td>Frost, Mr. Anthony Wood \"Archie\"</td><td>male                            </td><td>NA                              </td><td>0                               </td><td>0                               </td><td>239854                          </td><td>0.0000                          </td><td>NA                              </td><td>S                               </td></tr>\n",
       "\t<tr><th scope=row>598</th><td>598                             </td><td>0                               </td><td>3                               </td><td>Johnson, Mr. Alfred             </td><td>male                            </td><td>49                              </td><td>0                               </td><td>0                               </td><td>LINE                            </td><td>0.0000                          </td><td>NA                              </td><td>S                               </td></tr>\n",
       "\t<tr><th scope=row>634</th><td>634                             </td><td>0                               </td><td>1                               </td><td>Parr, Mr. William Henry Marsh   </td><td>male                            </td><td>NA                              </td><td>0                               </td><td>0                               </td><td>112052                          </td><td>0.0000                          </td><td>NA                              </td><td>S                               </td></tr>\n",
       "\t<tr><th scope=row>675</th><td>675                             </td><td>0                               </td><td>2                               </td><td>Watson, Mr. Ennis Hastings      </td><td>male                            </td><td>NA                              </td><td>0                               </td><td>0                               </td><td>239856                          </td><td>0.0000                          </td><td>NA                              </td><td>S                               </td></tr>\n",
       "\t<tr><th scope=row>733</th><td>733                             </td><td>0                               </td><td>2                               </td><td>Knight, Mr. Robert J            </td><td>male                            </td><td>NA                              </td><td>0                               </td><td>0                               </td><td>239855                          </td><td>0.0000                          </td><td>NA                              </td><td>S                               </td></tr>\n",
       "\t<tr><th scope=row>807</th><td>807                             </td><td>0                               </td><td>1                               </td><td>Andrews, Mr. Thomas Jr          </td><td>male                            </td><td>39                              </td><td>0                               </td><td>0                               </td><td>112050                          </td><td>0.0000                          </td><td>A36                             </td><td>S                               </td></tr>\n",
       "\t<tr><th scope=row>816</th><td>816                             </td><td>0                               </td><td>1                               </td><td>Fry, Mr. Richard                </td><td>male                            </td><td>NA                              </td><td>0                               </td><td>0                               </td><td>112058                          </td><td>0.0000                          </td><td>B102                            </td><td>S                               </td></tr>\n",
       "\t<tr><th scope=row>823</th><td>823                             </td><td>0                               </td><td>1                               </td><td>Reuchlin, Jonkheer. John George </td><td>male                            </td><td>38                              </td><td>0                               </td><td>0                               </td><td>19972                           </td><td>0.0000                          </td><td>NA                              </td><td>S                               </td></tr>\n",
       "\t<tr><th scope=row>873</th><td>873                             </td><td>0                               </td><td>1                               </td><td>Carlsson, Mr. Frans Olof        </td><td>male                            </td><td>33                              </td><td>0                               </td><td>0                               </td><td>695                             </td><td>5.0000                          </td><td>B51 B53 B55                     </td><td>S                               </td></tr>\n",
       "</tbody>\n",
       "</table>\n"
      ],
      "text/latex": [
       "\\begin{tabular}{r|llllllllllll}\n",
       "  & PassengerId & Survived & Pclass & Name & Sex & Age & SibSp & Parch & Ticket & Fare & Cabin & Embarked\\\\\n",
       "\\hline\n",
       "\t180 & 180                              & 0                                & 3                                & Leonard, Mr. Lionel              & male                             & 36                               & 0                                & 0                                & LINE                             & 0.0000                           & NA                               & S                               \\\\\n",
       "\t264 & 264                              & 0                                & 1                                & Harrison, Mr. William            & male                             & 40                               & 0                                & 0                                & 112059                           & 0.0000                           & B94                              & S                               \\\\\n",
       "\t272 & 272                              & 1                                & 3                                & Tornquist, Mr. William Henry     & male                             & 25                               & 0                                & 0                                & LINE                             & 0.0000                           & NA                               & S                               \\\\\n",
       "\t278 & 278                              & 0                                & 2                                & Parkes, Mr. Francis \"Frank\"      & male                             & NA                               & 0                                & 0                                & 239853                           & 0.0000                           & NA                               & S                               \\\\\n",
       "\t303 & 303                              & 0                                & 3                                & Johnson, Mr. William Cahoone Jr  & male                             & 19                               & 0                                & 0                                & LINE                             & 0.0000                           & NA                               & S                               \\\\\n",
       "\t379 & 379                              & 0                                & 3                                & Betros, Mr. Tannous              & male                             & 20                               & 0                                & 0                                & 2648                             & 4.0125                           & NA                               & C                               \\\\\n",
       "\t414 & 414                              & 0                                & 2                                & Cunningham, Mr. Alfred Fleming   & male                             & NA                               & 0                                & 0                                & 239853                           & 0.0000                           & NA                               & S                               \\\\\n",
       "\t467 & 467                              & 0                                & 2                                & Campbell, Mr. William            & male                             & NA                               & 0                                & 0                                & 239853                           & 0.0000                           & NA                               & S                               \\\\\n",
       "\t482 & 482                              & 0                                & 2                                & Frost, Mr. Anthony Wood \"Archie\" & male                             & NA                               & 0                                & 0                                & 239854                           & 0.0000                           & NA                               & S                               \\\\\n",
       "\t598 & 598                              & 0                                & 3                                & Johnson, Mr. Alfred              & male                             & 49                               & 0                                & 0                                & LINE                             & 0.0000                           & NA                               & S                               \\\\\n",
       "\t634 & 634                              & 0                                & 1                                & Parr, Mr. William Henry Marsh    & male                             & NA                               & 0                                & 0                                & 112052                           & 0.0000                           & NA                               & S                               \\\\\n",
       "\t675 & 675                              & 0                                & 2                                & Watson, Mr. Ennis Hastings       & male                             & NA                               & 0                                & 0                                & 239856                           & 0.0000                           & NA                               & S                               \\\\\n",
       "\t733 & 733                              & 0                                & 2                                & Knight, Mr. Robert J             & male                             & NA                               & 0                                & 0                                & 239855                           & 0.0000                           & NA                               & S                               \\\\\n",
       "\t807 & 807                              & 0                                & 1                                & Andrews, Mr. Thomas Jr           & male                             & 39                               & 0                                & 0                                & 112050                           & 0.0000                           & A36                              & S                               \\\\\n",
       "\t816 & 816                              & 0                                & 1                                & Fry, Mr. Richard                 & male                             & NA                               & 0                                & 0                                & 112058                           & 0.0000                           & B102                             & S                               \\\\\n",
       "\t823 & 823                              & 0                                & 1                                & Reuchlin, Jonkheer. John George  & male                             & 38                               & 0                                & 0                                & 19972                            & 0.0000                           & NA                               & S                               \\\\\n",
       "\t873 & 873                              & 0                                & 1                                & Carlsson, Mr. Frans Olof         & male                             & 33                               & 0                                & 0                                & 695                              & 5.0000                           & B51 B53 B55                      & S                               \\\\\n",
       "\\end{tabular}\n"
      ],
      "text/markdown": [
       "\n",
       "| <!--/--> | PassengerId | Survived | Pclass | Name | Sex | Age | SibSp | Parch | Ticket | Fare | Cabin | Embarked |\n",
       "|---|---|---|---|---|---|---|---|---|---|---|---|---|\n",
       "| 180 | 180                              | 0                                | 3                                | Leonard, Mr. Lionel              | male                             | 36                               | 0                                | 0                                | LINE                             | 0.0000                           | NA                               | S                                |\n",
       "| 264 | 264                              | 0                                | 1                                | Harrison, Mr. William            | male                             | 40                               | 0                                | 0                                | 112059                           | 0.0000                           | B94                              | S                                |\n",
       "| 272 | 272                              | 1                                | 3                                | Tornquist, Mr. William Henry     | male                             | 25                               | 0                                | 0                                | LINE                             | 0.0000                           | NA                               | S                                |\n",
       "| 278 | 278                              | 0                                | 2                                | Parkes, Mr. Francis \"Frank\"      | male                             | NA                               | 0                                | 0                                | 239853                           | 0.0000                           | NA                               | S                                |\n",
       "| 303 | 303                              | 0                                | 3                                | Johnson, Mr. William Cahoone Jr  | male                             | 19                               | 0                                | 0                                | LINE                             | 0.0000                           | NA                               | S                                |\n",
       "| 379 | 379                              | 0                                | 3                                | Betros, Mr. Tannous              | male                             | 20                               | 0                                | 0                                | 2648                             | 4.0125                           | NA                               | C                                |\n",
       "| 414 | 414                              | 0                                | 2                                | Cunningham, Mr. Alfred Fleming   | male                             | NA                               | 0                                | 0                                | 239853                           | 0.0000                           | NA                               | S                                |\n",
       "| 467 | 467                              | 0                                | 2                                | Campbell, Mr. William            | male                             | NA                               | 0                                | 0                                | 239853                           | 0.0000                           | NA                               | S                                |\n",
       "| 482 | 482                              | 0                                | 2                                | Frost, Mr. Anthony Wood \"Archie\" | male                             | NA                               | 0                                | 0                                | 239854                           | 0.0000                           | NA                               | S                                |\n",
       "| 598 | 598                              | 0                                | 3                                | Johnson, Mr. Alfred              | male                             | 49                               | 0                                | 0                                | LINE                             | 0.0000                           | NA                               | S                                |\n",
       "| 634 | 634                              | 0                                | 1                                | Parr, Mr. William Henry Marsh    | male                             | NA                               | 0                                | 0                                | 112052                           | 0.0000                           | NA                               | S                                |\n",
       "| 675 | 675                              | 0                                | 2                                | Watson, Mr. Ennis Hastings       | male                             | NA                               | 0                                | 0                                | 239856                           | 0.0000                           | NA                               | S                                |\n",
       "| 733 | 733                              | 0                                | 2                                | Knight, Mr. Robert J             | male                             | NA                               | 0                                | 0                                | 239855                           | 0.0000                           | NA                               | S                                |\n",
       "| 807 | 807                              | 0                                | 1                                | Andrews, Mr. Thomas Jr           | male                             | 39                               | 0                                | 0                                | 112050                           | 0.0000                           | A36                              | S                                |\n",
       "| 816 | 816                              | 0                                | 1                                | Fry, Mr. Richard                 | male                             | NA                               | 0                                | 0                                | 112058                           | 0.0000                           | B102                             | S                                |\n",
       "| 823 | 823                              | 0                                | 1                                | Reuchlin, Jonkheer. John George  | male                             | 38                               | 0                                | 0                                | 19972                            | 0.0000                           | NA                               | S                                |\n",
       "| 873 | 873                              | 0                                | 1                                | Carlsson, Mr. Frans Olof         | male                             | 33                               | 0                                | 0                                | 695                              | 5.0000                           | B51 B53 B55                      | S                                |\n",
       "\n"
      ],
      "text/plain": [
       "    PassengerId Survived Pclass Name                             Sex  Age SibSp\n",
       "180 180         0        3      Leonard, Mr. Lionel              male 36  0    \n",
       "264 264         0        1      Harrison, Mr. William            male 40  0    \n",
       "272 272         1        3      Tornquist, Mr. William Henry     male 25  0    \n",
       "278 278         0        2      Parkes, Mr. Francis \"Frank\"      male NA  0    \n",
       "303 303         0        3      Johnson, Mr. William Cahoone Jr  male 19  0    \n",
       "379 379         0        3      Betros, Mr. Tannous              male 20  0    \n",
       "414 414         0        2      Cunningham, Mr. Alfred Fleming   male NA  0    \n",
       "467 467         0        2      Campbell, Mr. William            male NA  0    \n",
       "482 482         0        2      Frost, Mr. Anthony Wood \"Archie\" male NA  0    \n",
       "598 598         0        3      Johnson, Mr. Alfred              male 49  0    \n",
       "634 634         0        1      Parr, Mr. William Henry Marsh    male NA  0    \n",
       "675 675         0        2      Watson, Mr. Ennis Hastings       male NA  0    \n",
       "733 733         0        2      Knight, Mr. Robert J             male NA  0    \n",
       "807 807         0        1      Andrews, Mr. Thomas Jr           male 39  0    \n",
       "816 816         0        1      Fry, Mr. Richard                 male NA  0    \n",
       "823 823         0        1      Reuchlin, Jonkheer. John George  male 38  0    \n",
       "873 873         0        1      Carlsson, Mr. Frans Olof         male 33  0    \n",
       "    Parch Ticket Fare   Cabin       Embarked\n",
       "180 0     LINE   0.0000 NA          S       \n",
       "264 0     112059 0.0000 B94         S       \n",
       "272 0     LINE   0.0000 NA          S       \n",
       "278 0     239853 0.0000 NA          S       \n",
       "303 0     LINE   0.0000 NA          S       \n",
       "379 0     2648   4.0125 NA          C       \n",
       "414 0     239853 0.0000 NA          S       \n",
       "467 0     239853 0.0000 NA          S       \n",
       "482 0     239854 0.0000 NA          S       \n",
       "598 0     LINE   0.0000 NA          S       \n",
       "634 0     112052 0.0000 NA          S       \n",
       "675 0     239856 0.0000 NA          S       \n",
       "733 0     239855 0.0000 NA          S       \n",
       "807 0     112050 0.0000 A36         S       \n",
       "816 0     112058 0.0000 B102        S       \n",
       "823 0     19972  0.0000 NA          S       \n",
       "873 0     695    5.0000 B51 B53 B55 S       "
      ]
     },
     "metadata": {},
     "output_type": "display_data"
    }
   ],
   "source": [
    "df[df['Fare'] <= 5, ]"
   ]
  },
  {
   "cell_type": "code",
   "execution_count": 27,
   "id": "463ae44c-4003-452c-9bbb-c181ab3dddf9",
   "metadata": {},
   "outputs": [
    {
     "data": {
      "image/png": "[encoded data removed]",
      "text/plain": [
       "Plot with title \"Sobreviventes por Tarifa\""
      ]
     },
     "metadata": {},
     "output_type": "display_data"
    }
   ],
   "source": [
    "boxplot(\n",
    "    df$Fare ~ df$Survived, \n",
    "    data = df,\n",
    "    col = 'orange',\n",
    "    outpch = 19,\n",
    "    ylab = \"Preço da Tarifa\",\n",
    "    xlab = \"Sobrevivente\",\n",
    "    main = \"Sobreviventes por Tarifa\",\n",
    "    boxwex = 0.8,\n",
    "    ylim = c(0, 500)\n",
    ")"
   ]
  },
  {
   "cell_type": "markdown",
   "id": "advance-phoenix",
   "metadata": {},
   "source": [
    "## Cabin\n",
    "\n",
    "- Contém valores nulos\n",
    "- Passageiros com mais de uma cabine?"
   ]
  },
  {
   "cell_type": "code",
   "execution_count": 43,
   "id": "median-folks",
   "metadata": {},
   "outputs": [
    {
     "data": {
      "text/html": [
       "687"
      ],
      "text/latex": [
       "687"
      ],
      "text/markdown": [
       "687"
      ],
      "text/plain": [
       "[1] 687"
      ]
     },
     "metadata": {},
     "output_type": "display_data"
    }
   ],
   "source": [
    "sum(is.na(df['Cabin']))"
   ]
  },
  {
   "cell_type": "code",
   "execution_count": 44,
   "id": "african-center",
   "metadata": {},
   "outputs": [
    {
     "data": {
      "text/plain": [
       "\n",
       "            A10             A14             A16             A19             A20 \n",
       "              1               1               1               1               1 \n",
       "            A23             A24             A26             A31             A32 \n",
       "              1               1               1               1               1 \n",
       "            A34             A36              A5              A6              A7 \n",
       "              1               1               1               1               1 \n",
       "           B101            B102             B18             B19             B20 \n",
       "              1               1               2               1               2 \n",
       "            B22             B28              B3             B30             B35 \n",
       "              2               2               1               1               2 \n",
       "            B37             B38             B39              B4             B41 \n",
       "              1               1               1               1               1 \n",
       "            B42             B49              B5             B50     B51 B53 B55 \n",
       "              1               2               2               1               2 \n",
       "B57 B59 B63 B66         B58 B60             B69             B71             B73 \n",
       "              2               2               1               1               1 \n",
       "            B77             B78             B79             B80         B82 B84 \n",
       "              2               1               1               1               1 \n",
       "            B86             B94         B96 B98            C101            C103 \n",
       "              1               1               4               1               1 \n",
       "           C104            C106            C110            C111            C118 \n",
       "              1               1               1               1               1 \n",
       "           C123            C124            C125            C126            C128 \n",
       "              2               2               2               2               1 \n",
       "           C148              C2         C22 C26     C23 C25 C27             C30 \n",
       "              1               2               3               4               1 \n",
       "            C32             C45             C46             C47             C49 \n",
       "              1               1               1               1               1 \n",
       "            C50             C52             C54         C62 C64             C65 \n",
       "              1               2               1               1               2 \n",
       "            C68              C7             C70             C78             C82 \n",
       "              2               1               1               2               1 \n",
       "            C83             C85             C86             C87             C90 \n",
       "              2               1               1               1               1 \n",
       "            C91             C92             C93             C95             C99 \n",
       "              1               2               2               1               1 \n",
       "              D         D10 D12             D11             D15             D17 \n",
       "              3               1               1               1               2 \n",
       "            D19             D20             D21             D26             D28 \n",
       "              1               2               1               2               1 \n",
       "            D30             D33             D35             D36             D37 \n",
       "              1               2               2               2               1 \n",
       "            D45             D46             D47             D48             D49 \n",
       "              1               1               1               1               1 \n",
       "            D50             D56              D6              D7              D9 \n",
       "              1               1               1               1               1 \n",
       "            E10            E101             E12            E121             E17 \n",
       "              1               3               1               2               1 \n",
       "            E24             E25             E31             E33             E34 \n",
       "              2               2               1               2               1 \n",
       "            E36             E38             E40             E44             E46 \n",
       "              1               1               1               2               1 \n",
       "            E49             E50             E58             E63             E67 \n",
       "              1               1               1               1               2 \n",
       "            E68             E77              E8           F E69           F G63 \n",
       "              1               1               2               1               1 \n",
       "          F G73              F2             F33             F38              F4 \n",
       "              2               3               3               1               2 \n",
       "             G6               T            <NA> \n",
       "              4               1             687 "
      ]
     },
     "metadata": {},
     "output_type": "display_data"
    }
   ],
   "source": [
    "table(df$Cabin, useNA = 'always')"
   ]
  },
  {
   "cell_type": "markdown",
   "id": "individual-smooth",
   "metadata": {},
   "source": [
    "## Embarked\n",
    "\n",
    "- Contém valores nulos"
   ]
  },
  {
   "cell_type": "code",
   "execution_count": 45,
   "id": "deadly-mileage",
   "metadata": {},
   "outputs": [
    {
     "data": {
      "text/html": [
       "2"
      ],
      "text/latex": [
       "2"
      ],
      "text/markdown": [
       "2"
      ],
      "text/plain": [
       "[1] 2"
      ]
     },
     "metadata": {},
     "output_type": "display_data"
    }
   ],
   "source": [
    "sum(is.na(df['Embarked']))"
   ]
  },
  {
   "cell_type": "code",
   "execution_count": 46,
   "id": "spare-purple",
   "metadata": {},
   "outputs": [
    {
     "data": {
      "text/plain": [
       "\n",
       "   C    Q    S <NA> \n",
       " 168   77  644    2 "
      ]
     },
     "metadata": {},
     "output_type": "display_data"
    }
   ],
   "source": [
    "table(df$Embarked, useNA='always')"
   ]
  },
  {
   "cell_type": "code",
   "execution_count": 29,
   "id": "af72631b-450c-42f0-b39b-2a82466f479d",
   "metadata": {},
   "outputs": [
    {
     "data": {
      "text/html": [
       "<table>\n",
       "<thead><tr><th scope=col>Embarked</th><th scope=col>Survived</th></tr></thead>\n",
       "<tbody>\n",
       "\t<tr><td>C        </td><td>0.5535714</td></tr>\n",
       "\t<tr><td>Q        </td><td>0.3896104</td></tr>\n",
       "\t<tr><td>S        </td><td>0.3369565</td></tr>\n",
       "</tbody>\n",
       "</table>\n"
      ],
      "text/latex": [
       "\\begin{tabular}{r|ll}\n",
       " Embarked & Survived\\\\\n",
       "\\hline\n",
       "\t C         & 0.5535714\\\\\n",
       "\t Q         & 0.3896104\\\\\n",
       "\t S         & 0.3369565\\\\\n",
       "\\end{tabular}\n"
      ],
      "text/markdown": [
       "\n",
       "| Embarked | Survived |\n",
       "|---|---|\n",
       "| C         | 0.5535714 |\n",
       "| Q         | 0.3896104 |\n",
       "| S         | 0.3369565 |\n",
       "\n"
      ],
      "text/plain": [
       "  Embarked Survived \n",
       "1 C        0.5535714\n",
       "2 Q        0.3896104\n",
       "3 S        0.3369565"
      ]
     },
     "metadata": {},
     "output_type": "display_data"
    },
    {
     "data": {
      "image/png": "[encoded data removed]",
      "text/plain": [
       "Plot with title \"Média de Sobre. por Local de Origem\""
      ]
     },
     "metadata": {},
     "output_type": "display_data"
    }
   ],
   "source": [
    "agg = aggregate(Survived ~ Embarked, data = df, mean)\n",
    "agg\n",
    "\n",
    "barplot(agg$Survived,\n",
    "        main = \"Média de Sobre. por Local de Origem\",\n",
    "        xlab = \"Parentesco\",\n",
    "        ylab = \"Média\",\n",
    "        ylim = c(0, 1),\n",
    "        names.arg = agg$Embarked,\n",
    "       col = brewer.pal(8, 'Dark2'))\n",
    "box()"
   ]
  },
  {
   "cell_type": "markdown",
   "id": "federal-latin",
   "metadata": {},
   "source": [
    "## Name\n",
    "\n",
    "- Não parace ter valores inválidos"
   ]
  },
  {
   "cell_type": "code",
   "execution_count": 48,
   "id": "tamil-syracuse",
   "metadata": {},
   "outputs": [
    {
     "data": {
      "text/html": [
       "0"
      ],
      "text/latex": [
       "0"
      ],
      "text/markdown": [
       "0"
      ],
      "text/plain": [
       "[1] 0"
      ]
     },
     "metadata": {},
     "output_type": "display_data"
    }
   ],
   "source": [
    "sum(is.na(df['Name']))"
   ]
  }
 ],
 "metadata": {
  "kernelspec": {
   "display_name": "R",
   "language": "R",
   "name": "ir"
  },
  "language_info": {
   "codemirror_mode": "r",
   "file_extension": ".r",
   "mimetype": "text/x-r-source",
   "name": "R",
   "pygments_lexer": "r",
   "version": "3.6.1"
  }
 },
 "nbformat": 4,
 "nbformat_minor": 5
}
