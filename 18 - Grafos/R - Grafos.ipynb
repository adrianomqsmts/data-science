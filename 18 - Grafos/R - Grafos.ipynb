{
 "cells": [
  {
   "cell_type": "markdown",
   "id": "1c8500e3-105c-4f29-b695-564386c353f2",
   "metadata": {},
   "source": [
    "# Grafos"
   ]
  },
  {
   "cell_type": "code",
   "execution_count": 1,
   "id": "fc8dd928-9e92-4fc2-a7f1-f1b0b37428fb",
   "metadata": {},
   "outputs": [
    {
     "name": "stderr",
     "output_type": "stream",
     "text": [
      "Warning message:\n",
      "\"package 'igraph' was built under R version 3.6.3\"\n",
      "Attaching package: 'igraph'\n",
      "\n",
      "The following objects are masked from 'package:stats':\n",
      "\n",
      "    decompose, spectrum\n",
      "\n",
      "The following object is masked from 'package:base':\n",
      "\n",
      "    union\n",
      "\n"
     ]
    }
   ],
   "source": [
    "# install.packages('igraph')\n",
    "library(igraph)\n",
    "library(ggplot2)\n",
    "library(repr)\n",
    "options(repr.plot.width= 4, repr.plot.height=4)"
   ]
  },
  {
   "cell_type": "markdown",
   "id": "a0a86330-494d-4046-b038-689ff10aa88c",
   "metadata": {},
   "source": [
    "## Grafos Básico - graph\n",
    "\n",
    "- Para gerar um gráfico direcionado, basta colocar o par de vértices separados por vírgula (a,b)\n",
    "- Desta forma, iremos introduzir uma aresta na direção a -> b"
   ]
  },
  {
   "cell_type": "code",
   "execution_count": 16,
   "id": "11fdb14b-d8d2-40fd-b078-b8435ccd125d",
   "metadata": {},
   "outputs": [
    {
     "data": {
      "image/png": "[encoded data removed]",
      "text/plain": [
       "Plot with title \"\""
      ]
     },
     "metadata": {},
     "output_type": "display_data"
    }
   ],
   "source": [
    "graphic = graph(edge=c(1,2, 2,3, 3,4))\n",
    "plot(graphic)"
   ]
  },
  {
   "cell_type": "code",
   "execution_count": 19,
   "id": "d83b9d64-dd37-4cd6-8a72-dbf68cb9d3f5",
   "metadata": {},
   "outputs": [
    {
     "data": {
      "image/png": "[encoded data removed]",
      "text/plain": [
       "Plot with title \"\""
      ]
     },
     "metadata": {},
     "output_type": "display_data"
    }
   ],
   "source": [
    "graphic = graph(edge=c(1,2, 2,3, 3,4, 4,3, 3,2, 2,1, 4,4, 4,1, 1,4))\n",
    "plot(graphic)"
   ]
  },
  {
   "cell_type": "markdown",
   "id": "7b8340a0-7b63-4e86-b09c-697f67c2519a",
   "metadata": {},
   "source": [
    "- Dados\n",
    "    - **D** e **U** - Direcionado e Não-direcionado\n",
    "    - **N** - nome do grafo\n",
    "    - **W** - grafo ponderado (peso nas arestas)\n",
    "    - **B** - tipo do grafo"
   ]
  },
  {
   "cell_type": "code",
   "execution_count": 33,
   "id": "ab55f74d-2420-41d0-a378-ce92759fd84f",
   "metadata": {},
   "outputs": [
    {
     "data": {
      "text/plain": [
       "IGRAPH 67ae3c5 D--- 4 4 -- \n",
       "+ edges from 67ae3c5:\n",
       "[1] 1->2 2->3 3->4 4->1"
      ]
     },
     "metadata": {},
     "output_type": "display_data"
    }
   ],
   "source": [
    "graphic = graph(edge=c(1,2, 2,3, 3,4, 4,1))\n",
    "graphic"
   ]
  },
  {
   "cell_type": "markdown",
   "id": "ca620629-bc34-44aa-8056-1e7fc1d57e06",
   "metadata": {},
   "source": [
    "- Gerar Grafo não-direcionado"
   ]
  },
  {
   "cell_type": "code",
   "execution_count": 36,
   "id": "b9e7579d-265f-41df-8305-1ce577f720f5",
   "metadata": {},
   "outputs": [
    {
     "data": {
      "image/png": "[encoded data removed]",
      "text/plain": [
       "Plot with title \"\""
      ]
     },
     "metadata": {},
     "output_type": "display_data"
    }
   ],
   "source": [
    "graphic = graph(edge=c(1,2, 2,3, 3,4, 4,1), directed=F)\n",
    "plot(graphic)"
   ]
  },
  {
   "cell_type": "markdown",
   "id": "14b8776a-691d-405b-98f6-ff4b8d26be3d",
   "metadata": {},
   "source": [
    "- O parâmetro n define o número total de elementos do grafo, caso seja maior que os definidos, eles serão vertices isolados"
   ]
  },
  {
   "cell_type": "code",
   "execution_count": 37,
   "id": "2a46d3bd-35b0-4dc7-9f21-2062a3e21084",
   "metadata": {},
   "outputs": [
    {
     "data": {
      "image/png": "[encoded data removed]",
      "text/plain": [
       "Plot with title \"\""
      ]
     },
     "metadata": {},
     "output_type": "display_data"
    }
   ],
   "source": [
    "graphic = graph(edge=c(1,2, 2,3, 3,4, 4,1), n=10)\n",
    "plot(graphic)"
   ]
  },
  {
   "cell_type": "markdown",
   "id": "58d46869-640a-4751-91ef-51c4de22e785",
   "metadata": {},
   "source": [
    "- Para nomear os vértices, basta atribuir uma string ao invés de números"
   ]
  },
  {
   "cell_type": "code",
   "execution_count": 38,
   "id": "90b94446-5546-4be9-9796-2e8208f5ee1d",
   "metadata": {},
   "outputs": [
    {
     "data": {
      "image/png": "[encoded data removed]",
      "text/plain": [
       "Plot with title \"\""
      ]
     },
     "metadata": {},
     "output_type": "display_data"
    }
   ],
   "source": [
    "graphic = graph(edge=c(\"Betim\",\"Belo Horizonte\", \"Belo Horizonte\", \"Contagem\", \"Contagem\",\"Nova Lima\", \"Nova Lima\",\"Betim\"), directed=F)\n",
    "plot(graphic)"
   ]
  },
  {
   "cell_type": "markdown",
   "id": "635aa6bf-744b-44a2-90f1-c5d845987baa",
   "metadata": {},
   "source": [
    "- O parâmetro isolates gera vértices isolados"
   ]
  },
  {
   "cell_type": "code",
   "execution_count": 39,
   "id": "592fb679-3c45-4b3f-8c9a-97f8d1652c58",
   "metadata": {},
   "outputs": [
    {
     "data": {
      "image/png": "[encoded data removed]",
      "text/plain": [
       "Plot with title \"\""
      ]
     },
     "metadata": {},
     "output_type": "display_data"
    }
   ],
   "source": [
    "graph <- graph(edges= c(\"A\",\"B\", \"B\",\"C\", \"C\",\"D\", \"D\",\"E\", \"E\",\"A\", \"A\",\"C\", \"C\",\"B\"), isolates=c(\"F\",\"G\"))\n",
    "plot(graph)"
   ]
  },
  {
   "cell_type": "markdown",
   "id": "41ee12e9-05aa-4084-8d60-b887725ceed8",
   "metadata": {},
   "source": [
    "- Adicionar Pesos"
   ]
  },
  {
   "cell_type": "code",
   "execution_count": 11,
   "id": "ab17ed8f-e49c-49b7-b432-25cd19da8f8f",
   "metadata": {},
   "outputs": [
    {
     "data": {
      "text/html": [
       "<dl>\n",
       "\t<dt>$name</dt>\n",
       "\t\t<dd><ol class=list-inline>\n",
       "\t<li>'Betim'</li>\n",
       "\t<li>'Belo Horizonte'</li>\n",
       "\t<li>'Contagem'</li>\n",
       "\t<li>'Nova Lima'</li>\n",
       "</ol>\n",
       "</dd>\n",
       "\t<dt>$Peso</dt>\n",
       "\t\t<dd><ol class=list-inline>\n",
       "\t<li>10</li>\n",
       "\t<li>30</li>\n",
       "\t<li>40</li>\n",
       "\t<li>70</li>\n",
       "</ol>\n",
       "</dd>\n",
       "</dl>\n"
      ],
      "text/latex": [
       "\\begin{description}\n",
       "\\item[\\$name] \\begin{enumerate*}\n",
       "\\item 'Betim'\n",
       "\\item 'Belo Horizonte'\n",
       "\\item 'Contagem'\n",
       "\\item 'Nova Lima'\n",
       "\\end{enumerate*}\n",
       "\n",
       "\\item[\\$Peso] \\begin{enumerate*}\n",
       "\\item 10\n",
       "\\item 30\n",
       "\\item 40\n",
       "\\item 70\n",
       "\\end{enumerate*}\n",
       "\n",
       "\\end{description}\n"
      ],
      "text/markdown": [
       "$name\n",
       ":   1. 'Betim'\n",
       "2. 'Belo Horizonte'\n",
       "3. 'Contagem'\n",
       "4. 'Nova Lima'\n",
       "\n",
       "\n",
       "\n",
       "$Peso\n",
       ":   1. 10\n",
       "2. 30\n",
       "3. 40\n",
       "4. 70\n",
       "\n",
       "\n",
       "\n",
       "\n",
       "\n"
      ],
      "text/plain": [
       "$name\n",
       "[1] \"Betim\"          \"Belo Horizonte\" \"Contagem\"       \"Nova Lima\"     \n",
       "\n",
       "$Peso\n",
       "[1] 10 30 40 70\n"
      ]
     },
     "metadata": {},
     "output_type": "display_data"
    },
    {
     "data": {
      "text/plain": [
       "IGRAPH 0f16033 UNW- 4 4 -- \n",
       "+ attr: name (v/c), Peso (v/n), weight (e/n)\n",
       "+ edges from 0f16033 (vertex names):\n",
       "[1] Betim         --Belo Horizonte Belo Horizonte--Contagem      \n",
       "[3] Contagem      --Nova Lima      Betim         --Nova Lima     "
      ]
     },
     "metadata": {},
     "output_type": "display_data"
    }
   ],
   "source": [
    "graphic = graph(edge=c(\"Betim\",\"Belo Horizonte\", \"Belo Horizonte\", \"Contagem\", \"Contagem\",\"Nova Lima\", \"Nova Lima\",\"Betim\"), directed=F)\n",
    "V(graphic)$Peso = c(10,30,40,70)\n",
    "vertex_attr(graphic)\n",
    "E(graphic)$weight = c(1,2,3,4)\n",
    "graphic"
   ]
  },
  {
   "cell_type": "markdown",
   "id": "53d07251-5230-4129-bd6b-f8621a7e1ba7",
   "metadata": {},
   "source": [
    "## Grafos literais - graphs_from_literal\n",
    "\n",
    "- Em grafos literais usamdo:\n",
    "    - Sinal de soma (+) para indicar inciência\n",
    "    - Sinal de negatrivo (-) para indicar ausência de incidência\n",
    "- Desta forma o a par (a-+b) indica que A incide em B\n",
    "- O par (a++b) indica que A incide em B e B incide em A\n",
    "- O par (a-b) indica uma aresta não direcionada entre A e B"
   ]
  },
  {
   "cell_type": "code",
   "execution_count": 20,
   "id": "a23ddf91-2dca-490b-8970-49b943e034be",
   "metadata": {},
   "outputs": [
    {
     "data": {
      "image/png": "[encoded data removed]",
      "text/plain": [
       "Plot with title \"\""
      ]
     },
     "metadata": {},
     "output_type": "display_data"
    }
   ],
   "source": [
    "graphic = graph_from_literal(1-+2, 2-+3, 3++4, 4+-1)\n",
    "plot(graphic)"
   ]
  },
  {
   "cell_type": "code",
   "execution_count": 21,
   "id": "6b8194bd-7bce-434f-93de-0ac08887140a",
   "metadata": {},
   "outputs": [
    {
     "data": {
      "image/png": "[encoded data removed]",
      "text/plain": [
       "Plot with title \"\""
      ]
     },
     "metadata": {},
     "output_type": "display_data"
    }
   ],
   "source": [
    "graphic = graph_from_literal(1-2, 2-3, 3-4, 4-1)\n",
    "plot(graphic)"
   ]
  },
  {
   "cell_type": "markdown",
   "id": "1993e7c2-4376-401c-b64e-70699dc453d0",
   "metadata": {},
   "source": [
    "- Podemos gerar grafos desconexos usando a vírgula\n",
    "- Da mesma forma que podemos conectar vértices usadno os sinais matemáticos, sem o usuo da vírgula"
   ]
  },
  {
   "cell_type": "code",
   "execution_count": 28,
   "id": "a7b2707d-695c-44e9-930a-06d54276c3ee",
   "metadata": {},
   "outputs": [
    {
     "data": {
      "image/png": "[encoded data removed]",
      "text/plain": [
       "Plot with title \"\""
      ]
     },
     "metadata": {},
     "output_type": "display_data"
    }
   ],
   "source": [
    "graphic = graph_from_literal(1-2-3-4-1, 5-6-7)\n",
    "plot(graphic)"
   ]
  },
  {
   "cell_type": "markdown",
   "id": "cbaf0fc8-7e8a-4558-bc3d-2c25bbf84c22",
   "metadata": {},
   "source": [
    "## Estrutura do grafo\n",
    "\n",
    "- Igraph pode ser visto como uma matriz de adjacência"
   ]
  },
  {
   "cell_type": "code",
   "execution_count": 40,
   "id": "914efe47-7c7f-4aa3-9cc0-b84964c736d9",
   "metadata": {},
   "outputs": [
    {
     "data": {
      "text/plain": [
       "7 x 7 sparse Matrix of class \"dgCMatrix\"\n",
       "  A B C D E F G\n",
       "A . 1 1 . . . .\n",
       "B . . 1 . . . .\n",
       "C . 1 . 1 . . .\n",
       "D . . . . 1 . .\n",
       "E 1 . . . . . .\n",
       "F . . . . . . .\n",
       "G . . . . . . ."
      ]
     },
     "metadata": {},
     "output_type": "display_data"
    }
   ],
   "source": [
    "graph <- graph(edges= c(\"A\",\"B\", \"B\",\"C\", \"C\",\"D\", \"D\",\"E\", \"E\",\"A\", \"A\",\"C\", \"C\",\"B\"), isolates=c(\"F\",\"G\"))\n",
    "graph[]"
   ]
  },
  {
   "cell_type": "markdown",
   "id": "04deb4d7-c701-4962-9cd4-3a7e00c4bcd7",
   "metadata": {},
   "source": [
    "- Ver o nome dos vértices"
   ]
  },
  {
   "cell_type": "markdown",
   "id": "6ac1c80e-e271-4398-ab5c-e58b9d9aa891",
   "metadata": {},
   "source": [
    "## Visualização"
   ]
  },
  {
   "cell_type": "code",
   "execution_count": 24,
   "id": "ba245fab-f25d-48e0-9b49-33717829c997",
   "metadata": {},
   "outputs": [
    {
     "data": {
      "image/png": "[encoded data removed]",
      "text/plain": [
       "Plot with title \"\""
      ]
     },
     "metadata": {},
     "output_type": "display_data"
    }
   ],
   "source": [
    "graphic <- graph(edges = c(\"A\",\"B\", \"C\",\"D\", \"D\",\"B\", \"B\",\"C\"))\n",
    "V(graphic)$Peso <- c(40, 30, 30, 25)\n",
    "E(graphic)$Local <- c(\"MG\", \"SP\", \"ES\", \"RJ\")\n",
    "E(graphic)$weight <- c(1, 2, 3, 4)\n",
    "V(graphic)$type <- \"Cididades\"\n",
    "plot(graphic)"
   ]
  },
  {
   "cell_type": "markdown",
   "id": "0e8ba69a-df74-45eb-bea8-51ceb9a18de2",
   "metadata": {},
   "source": [
    "### Tamanho do vértice de acordo com o peso"
   ]
  },
  {
   "cell_type": "code",
   "execution_count": 25,
   "id": "88baa872-548a-4429-adbd-97f77df4cf5f",
   "metadata": {},
   "outputs": [
    {
     "data": {
      "image/png": "[encoded data removed]",
      "text/plain": [
       "Plot with title \"\""
      ]
     },
     "metadata": {},
     "output_type": "display_data"
    }
   ],
   "source": [
    "plot(graphic, vertex.size=vertex_attr(graphic)$Peso)"
   ]
  },
  {
   "cell_type": "markdown",
   "id": "575be917-3f12-47f0-a877-203cf1676251",
   "metadata": {},
   "source": [
    "### Tamanho da aresta de acordo com o peso"
   ]
  },
  {
   "cell_type": "code",
   "execution_count": 26,
   "id": "31c4db71-6307-46fc-9248-5d27d35b727e",
   "metadata": {},
   "outputs": [
    {
     "data": {
      "image/png": "[encoded data removed]",
      "text/plain": [
       "Plot with title \"\""
      ]
     },
     "metadata": {},
     "output_type": "display_data"
    }
   ],
   "source": [
    "plot(graphic, vertex.size=vertex_attr(graphic)$Peso, edge.width=edge_attr(graphic)$weight)"
   ]
  },
  {
   "cell_type": "markdown",
   "id": "9a35fa06-2cb8-47c2-87b9-c32ee8035a30",
   "metadata": {},
   "source": [
    "### Cores aos vértices em um atributo"
   ]
  },
  {
   "cell_type": "code",
   "execution_count": 27,
   "id": "bc422cc9-2688-489e-b523-b8c5c3ea6ece",
   "metadata": {},
   "outputs": [
    {
     "data": {
      "image/png": "[encoded data removed]",
      "text/plain": [
       "Plot with title \"\""
      ]
     },
     "metadata": {},
     "output_type": "display_data"
    }
   ],
   "source": [
    "vertex_attr(graphic)$Cor = c(\"Blue\", \"Red\", \"Yellow\", \"Green\")\n",
    "plot(graphic, vertex.size=vertex_attr(graphic)$Peso, edge.width=edge_attr(graphic)$weight, vertex.color = vertex_attr(graphic)$Cor)"
   ]
  },
  {
   "cell_type": "markdown",
   "id": "5cc10642-c453-4607-a4bd-4f19cec0e1db",
   "metadata": {},
   "source": [
    "### Curvado, Título e Frame"
   ]
  },
  {
   "cell_type": "code",
   "execution_count": 29,
   "id": "e81d7e1f-d6a2-4728-bf66-99afc5e36028",
   "metadata": {},
   "outputs": [
    {
     "data": {
      "image/png": "[encoded data removed]",
      "text/plain": [
       "Plot with title \"Título\""
      ]
     },
     "metadata": {},
     "output_type": "display_data"
    }
   ],
   "source": [
    "plot(graphic, edge.curved = 0.4, frame= T, main = \"Título\")"
   ]
  },
  {
   "cell_type": "markdown",
   "id": "ef440aca-91f8-45ff-b3cf-8f02a6562128",
   "metadata": {},
   "source": [
    "### Tipo do vértice"
   ]
  },
  {
   "cell_type": "code",
   "execution_count": 30,
   "id": "580352a9-7f75-4d7e-b96e-ded847e0810f",
   "metadata": {},
   "outputs": [
    {
     "data": {
      "image/png": "[encoded data removed]",
      "text/plain": [
       "Plot with title \"Título\""
      ]
     },
     "metadata": {},
     "output_type": "display_data"
    }
   ],
   "source": [
    "plot(graphic, edge.curved = 0.4, frame= T, main = \"Título\", vertex.shape = 'square')"
   ]
  },
  {
   "cell_type": "markdown",
   "id": "312c4dcc-441c-4c36-9989-71d520a696da",
   "metadata": {},
   "source": [
    "### Grafo iterativo"
   ]
  },
  {
   "cell_type": "code",
   "execution_count": 3,
   "id": "88ac2c3c-721e-4c6a-8403-e3068c76f45b",
   "metadata": {},
   "outputs": [
    {
     "data": {
      "text/html": [
       "1"
      ],
      "text/latex": [
       "1"
      ],
      "text/markdown": [
       "1"
      ],
      "text/plain": [
       "[1] 1"
      ]
     },
     "metadata": {},
     "output_type": "display_data"
    }
   ],
   "source": [
    "out = read_graph(\"datasets/Grafo.graphml\", format = c (\"graphml\"))\n",
    "tkplot(out)"
   ]
  },
  {
   "cell_type": "markdown",
   "id": "3a6b4ef0-0a9b-468a-899e-7960525a0931",
   "metadata": {},
   "source": [
    "# Métricas\n",
    "\n",
    "##  Grau\n",
    "\n",
    "- degree - mostra o grau \n",
    "    - mode \n",
    "        - all - mostra os graus de entrada e saída\n",
    "        - in - mostra os graus de entrada\n",
    "        - out - mostra os graus de saída\n",
    "    "
   ]
  },
  {
   "cell_type": "code",
   "execution_count": 7,
   "id": "780387a2-b741-42aa-97e6-8095b1a1321e",
   "metadata": {},
   "outputs": [
    {
     "name": "stdout",
     "output_type": "stream",
     "text": [
      " [1] 11  7  8 10 10  7  5  0  6  2 13  2  2 18 26  8  6  7  2  0  4 13 15  9  8\n",
      "[26]  3  2  2  3  7  6  2  4  0  1 13  4 14  5  0 15  4  4  5  9 14  3  0 13  8\n",
      "[51]  8  5  5\n",
      " [1]  3  3  5  6  4  4  2  0  2  1  5  1  1  4  9  4  1  6  0  0  1 10  4  4  3\n",
      "[26]  3  1  1  2  4  5  1  2  0  1  9  2 12  3  0  5  3  4  2  6  4  2  0  9  4\n",
      "[51]  3  4  4\n",
      " [1]  8  4  3  4  6  3  3  0  4  1  8  1  1 14 17  4  5  1  2  0  3  3 11  5  5\n",
      "[26]  0  1  1  1  3  1  1  2  0  0  4  2  2  2  0 10  1  0  3  3 10  1  0  4  4\n",
      "[51]  5  1  1\n"
     ]
    },
    {
     "data": {
      "image/png": "[encoded data removed]",
      "text/plain": [
       "Plot with title \"\""
      ]
     },
     "metadata": {},
     "output_type": "display_data"
    }
   ],
   "source": [
    "graph = read_graph(\"../datasets/Grafo.graphml\", format = c (\"graphml\"))\n",
    "plot(graph)\n",
    "print(degree(graph, mode = \"all\"))\n",
    "print(degree(graph, mode = \"out\"))\n",
    "print(degree(graph, mode = \"in\"))"
   ]
  },
  {
   "cell_type": "markdown",
   "id": "afcf5b56-140c-435f-adf7-5e2399186e6a",
   "metadata": {},
   "source": [
    "## Diametro\n",
    "\n",
    "- O diametro mostra a distância entre diferentes vértices\n",
    "    - directed - F or T, considerando se é direcionado ou não"
   ]
  },
  {
   "cell_type": "code",
   "execution_count": 8,
   "id": "07eca8f7-d45f-4739-9490-1b082d689367",
   "metadata": {},
   "outputs": [
    {
     "data": {
      "text/html": [
       "8"
      ],
      "text/latex": [
       "8"
      ],
      "text/markdown": [
       "8"
      ],
      "text/plain": [
       "[1] 8"
      ]
     },
     "metadata": {},
     "output_type": "display_data"
    },
    {
     "data": {
      "text/html": [
       "5"
      ],
      "text/latex": [
       "5"
      ],
      "text/markdown": [
       "5"
      ],
      "text/plain": [
       "[1] 5"
      ]
     },
     "metadata": {},
     "output_type": "display_data"
    }
   ],
   "source": [
    "diameter(graph, directed = T)\n",
    "diameter(graph, directed = F)"
   ]
  },
  {
   "cell_type": "markdown",
   "id": "8c8001ad-a4f1-4551-83bc-11317d5aa419",
   "metadata": {},
   "source": [
    "- a função get_diameter mostra os vértices da maior distância"
   ]
  },
  {
   "cell_type": "code",
   "execution_count": 9,
   "id": "c1f0e206-59e1-4851-8af1-7fd0bc68a20e",
   "metadata": {},
   "outputs": [
    {
     "data": {
      "text/plain": [
       "+ 9/53 vertices, from fcffc13:\n",
       "[1]  7 16  3  4 49 38 39 33 27"
      ]
     },
     "metadata": {},
     "output_type": "display_data"
    },
    {
     "data": {
      "text/plain": [
       "+ 6/53 vertices, from fcffc13:\n",
       "[1] 10  4  6 22 33 27"
      ]
     },
     "metadata": {},
     "output_type": "display_data"
    }
   ],
   "source": [
    "get_diameter(graph, directed = T)\n",
    "get_diameter(graph, directed = F)"
   ]
  },
  {
   "cell_type": "markdown",
   "id": "3aa3d28b-e767-4d59-b0ec-122c06c3f4a5",
   "metadata": {},
   "source": [
    "## Vizinhança\n",
    "    - zero incluindo o próprio vértice\n",
    "    - mode all considera o grafo como não direcionado"
   ]
  },
  {
   "cell_type": "code",
   "execution_count": 11,
   "id": "23afe0d7-9c6a-4208-8ba6-f6c63789ee9b",
   "metadata": {
    "scrolled": true,
    "tags": []
   },
   "outputs": [
    {
     "data": {
      "text/plain": [
       "[[1]]\n",
       "+ 1/53 vertex, from fcffc13:\n",
       "[1] 1\n",
       "\n",
       "[[2]]\n",
       "+ 1/53 vertex, from fcffc13:\n",
       "[1] 2\n",
       "\n",
       "[[3]]\n",
       "+ 1/53 vertex, from fcffc13:\n",
       "[1] 3\n",
       "\n",
       "[[4]]\n",
       "+ 1/53 vertex, from fcffc13:\n",
       "[1] 4\n",
       "\n",
       "[[5]]\n",
       "+ 1/53 vertex, from fcffc13:\n",
       "[1] 5\n",
       "\n",
       "[[6]]\n",
       "+ 1/53 vertex, from fcffc13:\n",
       "[1] 6\n",
       "\n",
       "[[7]]\n",
       "+ 1/53 vertex, from fcffc13:\n",
       "[1] 7\n",
       "\n",
       "[[8]]\n",
       "+ 1/53 vertex, from fcffc13:\n",
       "[1] 8\n",
       "\n",
       "[[9]]\n",
       "+ 1/53 vertex, from fcffc13:\n",
       "[1] 9\n",
       "\n",
       "[[10]]\n",
       "+ 1/53 vertex, from fcffc13:\n",
       "[1] 10\n",
       "\n",
       "[[11]]\n",
       "+ 1/53 vertex, from fcffc13:\n",
       "[1] 11\n",
       "\n",
       "[[12]]\n",
       "+ 1/53 vertex, from fcffc13:\n",
       "[1] 12\n",
       "\n",
       "[[13]]\n",
       "+ 1/53 vertex, from fcffc13:\n",
       "[1] 13\n",
       "\n",
       "[[14]]\n",
       "+ 1/53 vertex, from fcffc13:\n",
       "[1] 14\n",
       "\n",
       "[[15]]\n",
       "+ 1/53 vertex, from fcffc13:\n",
       "[1] 15\n",
       "\n",
       "[[16]]\n",
       "+ 1/53 vertex, from fcffc13:\n",
       "[1] 16\n",
       "\n",
       "[[17]]\n",
       "+ 1/53 vertex, from fcffc13:\n",
       "[1] 17\n",
       "\n",
       "[[18]]\n",
       "+ 1/53 vertex, from fcffc13:\n",
       "[1] 18\n",
       "\n",
       "[[19]]\n",
       "+ 1/53 vertex, from fcffc13:\n",
       "[1] 19\n",
       "\n",
       "[[20]]\n",
       "+ 1/53 vertex, from fcffc13:\n",
       "[1] 20\n",
       "\n",
       "[[21]]\n",
       "+ 1/53 vertex, from fcffc13:\n",
       "[1] 21\n",
       "\n",
       "[[22]]\n",
       "+ 1/53 vertex, from fcffc13:\n",
       "[1] 22\n",
       "\n",
       "[[23]]\n",
       "+ 1/53 vertex, from fcffc13:\n",
       "[1] 23\n",
       "\n",
       "[[24]]\n",
       "+ 1/53 vertex, from fcffc13:\n",
       "[1] 24\n",
       "\n",
       "[[25]]\n",
       "+ 1/53 vertex, from fcffc13:\n",
       "[1] 25\n",
       "\n",
       "[[26]]\n",
       "+ 1/53 vertex, from fcffc13:\n",
       "[1] 26\n",
       "\n",
       "[[27]]\n",
       "+ 1/53 vertex, from fcffc13:\n",
       "[1] 27\n",
       "\n",
       "[[28]]\n",
       "+ 1/53 vertex, from fcffc13:\n",
       "[1] 28\n",
       "\n",
       "[[29]]\n",
       "+ 1/53 vertex, from fcffc13:\n",
       "[1] 29\n",
       "\n",
       "[[30]]\n",
       "+ 1/53 vertex, from fcffc13:\n",
       "[1] 30\n",
       "\n",
       "[[31]]\n",
       "+ 1/53 vertex, from fcffc13:\n",
       "[1] 31\n",
       "\n",
       "[[32]]\n",
       "+ 1/53 vertex, from fcffc13:\n",
       "[1] 32\n",
       "\n",
       "[[33]]\n",
       "+ 1/53 vertex, from fcffc13:\n",
       "[1] 33\n",
       "\n",
       "[[34]]\n",
       "+ 1/53 vertex, from fcffc13:\n",
       "[1] 34\n",
       "\n",
       "[[35]]\n",
       "+ 1/53 vertex, from fcffc13:\n",
       "[1] 35\n",
       "\n",
       "[[36]]\n",
       "+ 1/53 vertex, from fcffc13:\n",
       "[1] 36\n",
       "\n",
       "[[37]]\n",
       "+ 1/53 vertex, from fcffc13:\n",
       "[1] 37\n",
       "\n",
       "[[38]]\n",
       "+ 1/53 vertex, from fcffc13:\n",
       "[1] 38\n",
       "\n",
       "[[39]]\n",
       "+ 1/53 vertex, from fcffc13:\n",
       "[1] 39\n",
       "\n",
       "[[40]]\n",
       "+ 1/53 vertex, from fcffc13:\n",
       "[1] 40\n",
       "\n",
       "[[41]]\n",
       "+ 1/53 vertex, from fcffc13:\n",
       "[1] 41\n",
       "\n",
       "[[42]]\n",
       "+ 1/53 vertex, from fcffc13:\n",
       "[1] 42\n",
       "\n",
       "[[43]]\n",
       "+ 1/53 vertex, from fcffc13:\n",
       "[1] 43\n",
       "\n",
       "[[44]]\n",
       "+ 1/53 vertex, from fcffc13:\n",
       "[1] 44\n",
       "\n",
       "[[45]]\n",
       "+ 1/53 vertex, from fcffc13:\n",
       "[1] 45\n",
       "\n",
       "[[46]]\n",
       "+ 1/53 vertex, from fcffc13:\n",
       "[1] 46\n",
       "\n",
       "[[47]]\n",
       "+ 1/53 vertex, from fcffc13:\n",
       "[1] 47\n",
       "\n",
       "[[48]]\n",
       "+ 1/53 vertex, from fcffc13:\n",
       "[1] 48\n",
       "\n",
       "[[49]]\n",
       "+ 1/53 vertex, from fcffc13:\n",
       "[1] 49\n",
       "\n",
       "[[50]]\n",
       "+ 1/53 vertex, from fcffc13:\n",
       "[1] 50\n",
       "\n",
       "[[51]]\n",
       "+ 1/53 vertex, from fcffc13:\n",
       "[1] 51\n",
       "\n",
       "[[52]]\n",
       "+ 1/53 vertex, from fcffc13:\n",
       "[1] 52\n",
       "\n",
       "[[53]]\n",
       "+ 1/53 vertex, from fcffc13:\n",
       "[1] 53\n"
      ]
     },
     "metadata": {},
     "output_type": "display_data"
    }
   ],
   "source": [
    "neighborhood(graph, 0, mode=c('all'))"
   ]
  },
  {
   "cell_type": "markdown",
   "id": "b4d99c2d-38a1-4c98-9f55-3204b777c491",
   "metadata": {},
   "source": [
    "## Densidade\n"
   ]
  },
  {
   "cell_type": "code",
   "execution_count": 12,
   "id": "06ff6ee6-fa40-4235-bda4-e5be197bd80f",
   "metadata": {},
   "outputs": [
    {
     "data": {
      "text/html": [
       "0.0649492017416546"
      ],
      "text/latex": [
       "0.0649492017416546"
      ],
      "text/markdown": [
       "0.0649492017416546"
      ],
      "text/plain": [
       "[1] 0.0649492"
      ]
     },
     "metadata": {},
     "output_type": "display_data"
    }
   ],
   "source": [
    "edge_density(graph)"
   ]
  },
  {
   "cell_type": "markdown",
   "id": "6799bc4b-d51b-49fb-a4f3-538e06623a3f",
   "metadata": {},
   "source": [
    "## Teste de isomorfismo"
   ]
  },
  {
   "cell_type": "code",
   "execution_count": 14,
   "id": "f61f641a-f11e-4793-9cfd-be791566a46a",
   "metadata": {},
   "outputs": [
    {
     "data": {
      "text/html": [
       "TRUE"
      ],
      "text/latex": [
       "TRUE"
      ],
      "text/markdown": [
       "TRUE"
      ],
      "text/plain": [
       "[1] TRUE"
      ]
     },
     "metadata": {},
     "output_type": "display_data"
    }
   ],
   "source": [
    "graph2 = graph\n",
    "isomorphic(graph2, graph)"
   ]
  },
  {
   "cell_type": "markdown",
   "id": "0b1f2d20-0c1e-4358-bdf7-f761bac23c00",
   "metadata": {},
   "source": [
    "# Distâncias e Caminhos"
   ]
  },
  {
   "cell_type": "code",
   "execution_count": 18,
   "id": "98d68b45-722e-439f-b578-5819e76d3e8f",
   "metadata": {},
   "outputs": [
    {
     "data": {
      "image/png": "[encoded data removed]",
      "text/plain": [
       "Plot with title \"\""
      ]
     },
     "metadata": {},
     "output_type": "display_data"
    }
   ],
   "source": [
    "dist = graph(edges=c(\"A\",\"C\",\"A\",\"B\",\"B\",\"E\",\"B\",\"F\",\"C\",\"D\",\"G\",\"H\",\"D\",\"H\",\"E\",\"H\",\"F\",\"G\"),directed=TRUE)\n",
    "# Os pesos irão representar as distâncias\n",
    "E(dist)$weight = c(2,1,2,1,2,1,1,3,1)\n",
    "plot(dist, edge.label = E(dist)$weight)\n",
    "#tkplot(dist, edge.label = E(dist)$weight, vertex.color=\"white\")"
   ]
  },
  {
   "cell_type": "markdown",
   "id": "a98acb17-e303-43b5-8347-874e6e81e2ed",
   "metadata": {},
   "source": [
    "## Distância mais Curta\n",
    "\n",
    "- Mostrar a distância entre dois vértices"
   ]
  },
  {
   "cell_type": "code",
   "execution_count": 21,
   "id": "45794ee8-042d-47c2-9b9e-8fd4132b66db",
   "metadata": {},
   "outputs": [
    {
     "data": {
      "text/html": [
       "<table>\n",
       "<thead><tr><th></th><th scope=col>H</th></tr></thead>\n",
       "<tbody>\n",
       "\t<tr><th scope=row>A</th><td>4</td></tr>\n",
       "</tbody>\n",
       "</table>\n"
      ],
      "text/latex": [
       "\\begin{tabular}{r|l}\n",
       "  & H\\\\\n",
       "\\hline\n",
       "\tA & 4\\\\\n",
       "\\end{tabular}\n"
      ],
      "text/markdown": [
       "\n",
       "| <!--/--> | H |\n",
       "|---|---|\n",
       "| A | 4 |\n",
       "\n"
      ],
      "text/plain": [
       "  H\n",
       "A 4"
      ]
     },
     "metadata": {},
     "output_type": "display_data"
    }
   ],
   "source": [
    "distances(dist, V(dist)$name==\"A\", V(dist)$name==\"H\")"
   ]
  },
  {
   "cell_type": "markdown",
   "id": "caecd237-ad9a-409a-a1e6-d183453f5003",
   "metadata": {},
   "source": [
    "- Mostrar o caminho mais curto entre dois vértices"
   ]
  },
  {
   "cell_type": "code",
   "execution_count": 23,
   "id": "61742923-f614-4292-8770-e3af31d886fd",
   "metadata": {},
   "outputs": [
    {
     "data": {
      "text/plain": [
       "[[1]]\n",
       "+ 5/8 vertices, named, from a0c4f24:\n",
       "[1] A B F G H\n"
      ]
     },
     "metadata": {},
     "output_type": "display_data"
    }
   ],
   "source": [
    "caminho = shortest_paths(dist, V(dist)$name==\"A\", V(dist)$name==\"H\", output=c(\"both\"))\n",
    "caminho$vpath"
   ]
  },
  {
   "cell_type": "markdown",
   "id": "667bab42-6a12-4ad3-8b1a-5c8066fd87f8",
   "metadata": {},
   "source": [
    "- Destacar o caminho mais curto "
   ]
  },
  {
   "cell_type": "code",
   "execution_count": 24,
   "id": "3d92b6fb-6875-46ce-aca4-15e170bd50ad",
   "metadata": {},
   "outputs": [
    {
     "data": {
      "image/png": "[encoded data removed]",
      "text/plain": [
       "Plot with title \"\""
      ]
     },
     "metadata": {},
     "output_type": "display_data"
    }
   ],
   "source": [
    "#percorre os vértices\n",
    "for(i in 1:length(V(dist))){ #se estiver na lista do caminho mais curto pinta de verde, se não cinza\n",
    "    V(dist)$color[i] <- ifelse(i  %in% as.vector(unlist(caminho$vpath)), \"green\",\"gray\")\n",
    "}\n",
    "\n",
    "for(i in 1:length(E(dist))){  #se estiver na lista do caminho mais curto pinta de verde, se não cinza\n",
    "    E(dist)$color[i] <- ifelse(i  %in% as.vector(unlist(caminho$epath)), \"green\",\"gray\")\n",
    "}\n",
    "\n",
    "plot(dist, edge.label = E(dist)$weight)"
   ]
  },
  {
   "cell_type": "markdown",
   "id": "c8aa3e08-2425-4f57-a47d-0bc967e12760",
   "metadata": {},
   "source": [
    "# Comunidades e Cliques\n",
    "\n",
    "- São algorítmos para detectar as comunidades de uma rede "
   ]
  },
  {
   "cell_type": "code",
   "execution_count": 27,
   "id": "bdd54adc-9b03-46b5-b1c4-75b939d09301",
   "metadata": {},
   "outputs": [],
   "source": [
    "grafo = read_graph(\"datasets/Grafo.graphml\", format = c(\"graphml\"))\n",
    "grafo = as.undirected(grafo)"
   ]
  },
  {
   "cell_type": "markdown",
   "id": "7a8a3117-d586-47c1-94fd-d90ae2fa0afc",
   "metadata": {},
   "source": [
    "- Detectar Comunidades"
   ]
  },
  {
   "cell_type": "code",
   "execution_count": 30,
   "id": "f8b42005-0683-4270-89f1-4356e86735ec",
   "metadata": {},
   "outputs": [
    {
     "name": "stderr",
     "output_type": "stream",
     "text": [
      "Warning message in cluster_edge_betweenness(grafo):\n",
      "\"At community.c:460 :Membership vector will be selected based on the lowest modularity score.\"Warning message in cluster_edge_betweenness(grafo):\n",
      "\"At community.c:467 :Modularity calculation with weighted edge betweenness community detection might not make sense -- modularity treats edge weights as similarities while edge betwenness treats them as distances\""
     ]
    },
    {
     "name": "stdout",
     "output_type": "stream",
     "text": [
      "IGRAPH clustering edge betweenness, groups: 22, mod: 0.19\n",
      "+ groups:\n",
      "  $`1`\n",
      "  [1]  1  4 14 30 37 46 50\n",
      "  \n",
      "  $`2`\n",
      "   [1]  2  6 15 22 25 31 41 42 44 45 49 51 53\n",
      "  \n",
      "  $`3`\n",
      "  [1]  3 11 18 23 29 36 38 39\n",
      "  \n",
      "  $`4`\n",
      "  + ... omitted several groups/vertices\n"
     ]
    }
   ],
   "source": [
    "#detecta comunidades\n",
    "comun = cluster_edge_betweenness(grafo)\n",
    "#visualiza\n",
    "print(comun)"
   ]
  },
  {
   "cell_type": "code",
   "execution_count": 31,
   "id": "cd7b5a4d-adb7-4413-8505-ab9ab3b91c21",
   "metadata": {},
   "outputs": [
    {
     "name": "stdout",
     "output_type": "stream",
     "text": [
      " [1]  1  2  3  1  4  2  5  6  7  8  3  9 10  1  2  5 11  3  5 12 13  2  3  4  2\n",
      "[26] 14 15 16  3  1  2 17 15 18 19  3  1  3  3 20  2  2 11  2  2  1 21 22  2  1\n",
      "[51]  2  5  2\n"
     ]
    },
    {
     "data": {
      "image/png": "[encoded data removed]",
      "text/plain": [
       "Plot with title \"\""
      ]
     },
     "metadata": {},
     "output_type": "display_data"
    }
   ],
   "source": [
    "#cada vértice para qual comunidade pertecen\n",
    "print(comun$membership)\n",
    "#impressão usando cor para comunidade\n",
    "plot(grafo, vertex.color = comun$membership)"
   ]
  },
  {
   "cell_type": "markdown",
   "id": "3c54fa40-9788-471d-9212-b2cb7606456c",
   "metadata": {},
   "source": [
    "- Cliques "
   ]
  },
  {
   "cell_type": "code",
   "execution_count": 34,
   "id": "a522e372-f93e-4511-b14f-25fbc79ac0a3",
   "metadata": {},
   "outputs": [
    {
     "data": {
      "text/html": [
       "17"
      ],
      "text/latex": [
       "17"
      ],
      "text/markdown": [
       "17"
      ],
      "text/plain": [
       "[1] 17"
      ]
     },
     "metadata": {},
     "output_type": "display_data"
    }
   ],
   "source": [
    "#min é número minimo de membros\n",
    "cli = cliques(as.undirected(grafo), min=4)\n",
    "length(cli)"
   ]
  },
  {
   "cell_type": "code",
   "execution_count": 35,
   "id": "5a33ee08-732e-4707-a9bf-4cb7380a7d7c",
   "metadata": {},
   "outputs": [
    {
     "data": {
      "text/plain": [
       "[[1]]\n",
       "+ 4/53 vertices, from 531f609:\n",
       "[1]  1  4 14 46\n",
       "\n",
       "[[2]]\n",
       "+ 4/53 vertices, from 531f609:\n",
       "[1] 14 15 46 50\n",
       "\n",
       "[[3]]\n",
       "+ 4/53 vertices, from 531f609:\n",
       "[1] 22 41 45 49\n",
       "\n",
       "[[4]]\n",
       "+ 4/53 vertices, from 531f609:\n",
       "[1] 15 22 45 49\n",
       "\n",
       "[[5]]\n",
       "+ 4/53 vertices, from 531f609:\n",
       "[1] 14 30 46 50\n",
       "\n",
       "[[6]]\n",
       "+ 4/53 vertices, from 531f609:\n",
       "[1]  1 14 30 46\n",
       "\n",
       "[[7]]\n",
       "+ 4/53 vertices, from 531f609:\n",
       "[1]  2 15 25 51\n",
       "\n",
       "[[8]]\n",
       "+ 4/53 vertices, from 531f609:\n",
       "[1] 15 25 38 49\n",
       "\n",
       "[[9]]\n",
       "+ 4/53 vertices, from 531f609:\n",
       "[1] 18 23 38 39\n",
       "\n",
       "[[10]]\n",
       "+ 4/53 vertices, from 531f609:\n",
       "[1]  4 14 23 46\n",
       "\n",
       "[[11]]\n",
       "+ 4/53 vertices, from 531f609:\n",
       "[1]  5 14 15 23\n",
       "\n",
       "[[12]]\n",
       "+ 4/53 vertices, from 531f609:\n",
       "[1] 15 23 43 46\n",
       "\n",
       "[[13]]\n",
       "+ 4/53 vertices, from 531f609:\n",
       "[1] 14 15 23 46\n",
       "\n",
       "[[14]]\n",
       "+ 4/53 vertices, from 531f609:\n",
       "[1] 11 15 38 49\n",
       "\n",
       "[[15]]\n",
       "+ 4/53 vertices, from 531f609:\n",
       "[1] 11 15 22 49\n",
       "\n",
       "[[16]]\n",
       "+ 4/53 vertices, from 531f609:\n",
       "[1]  5  6 14 15\n",
       "\n",
       "[[17]]\n",
       "+ 4/53 vertices, from 531f609:\n",
       "[1]  2  6 15 22\n"
      ]
     },
     "metadata": {},
     "output_type": "display_data"
    }
   ],
   "source": [
    "cli"
   ]
  },
  {
   "cell_type": "markdown",
   "id": "f391f865-4941-427c-b1c8-1f5df9708a7b",
   "metadata": {},
   "source": [
    "# Exemplos de Grafos"
   ]
  },
  {
   "cell_type": "code",
   "execution_count": 36,
   "id": "9e4fbe0f-7965-4317-98d6-229802798a35",
   "metadata": {},
   "outputs": [
    {
     "name": "stdout",
     "output_type": "stream",
     "text": [
      "package 'igraphdata' successfully unpacked and MD5 sums checked\n",
      "\n",
      "The downloaded binary packages are in\n",
      "\tC:\\Users\\Adria\\AppData\\Local\\Temp\\RtmpARiXdl\\downloaded_packages\n"
     ]
    },
    {
     "name": "stderr",
     "output_type": "stream",
     "text": [
      "Warning message:\n",
      "\"package 'igraphdata' was built under R version 3.6.3\""
     ]
    }
   ],
   "source": [
    "#install.packages(\"igraphdata\")\n",
    "library(\"igraphdata\")"
   ]
  },
  {
   "cell_type": "markdown",
   "id": "248bc5e9-6801-45da-bf7f-47c96d625b79",
   "metadata": {},
   "source": [
    "## Caso das pontes de Koenigsberg"
   ]
  },
  {
   "cell_type": "code",
   "execution_count": 37,
   "id": "79cba4b0-c751-4d0b-942f-5413780ed488",
   "metadata": {},
   "outputs": [
    {
     "data": {
      "text/plain": [
       "IGRAPH 227bd5e UN-- 4 7 -- The seven bidges of Koenigsberg\n",
       "+ attr: name (g/c), name (v/c), Euler_letter (v/c), Euler_letter (e/c),\n",
       "| name (e/c)\n",
       "+ edges from 227bd5e (vertex names):\n",
       "[1] Altstadt-Loebenicht--Kneiphof          \n",
       "[2] Altstadt-Loebenicht--Kneiphof          \n",
       "[3] Altstadt-Loebenicht--Lomse             \n",
       "[4] Kneiphof           --Lomse             \n",
       "[5] Vorstadt-Haberberg --Lomse             \n",
       "[6] Kneiphof           --Vorstadt-Haberberg\n",
       "[7] Kneiphof           --Vorstadt-Haberberg"
      ]
     },
     "metadata": {},
     "output_type": "display_data"
    },
    {
     "data": {
      "text/html": [
       "<dl class=dl-horizontal>\n",
       "\t<dt>Altstadt-Loebenicht</dt>\n",
       "\t\t<dd>3</dd>\n",
       "\t<dt>Kneiphof</dt>\n",
       "\t\t<dd>5</dd>\n",
       "\t<dt>Vorstadt-Haberberg</dt>\n",
       "\t\t<dd>3</dd>\n",
       "\t<dt>Lomse</dt>\n",
       "\t\t<dd>3</dd>\n",
       "</dl>\n"
      ],
      "text/latex": [
       "\\begin{description*}\n",
       "\\item[Altstadt-Loebenicht] 3\n",
       "\\item[Kneiphof] 5\n",
       "\\item[Vorstadt-Haberberg] 3\n",
       "\\item[Lomse] 3\n",
       "\\end{description*}\n"
      ],
      "text/markdown": [
       "Altstadt-Loebenicht\n",
       ":   3Kneiphof\n",
       ":   5Vorstadt-Haberberg\n",
       ":   3Lomse\n",
       ":   3\n",
       "\n"
      ],
      "text/plain": [
       "Altstadt-Loebenicht            Kneiphof  Vorstadt-Haberberg               Lomse \n",
       "                  3                   5                   3                   3 "
      ]
     },
     "metadata": {},
     "output_type": "display_data"
    },
    {
     "data": {
      "image/png": "[encoded data removed]",
      "text/plain": [
       "Plot with title \"\""
      ]
     },
     "metadata": {},
     "output_type": "display_data"
    }
   ],
   "source": [
    "data(Koenigsberg)\n",
    "Koenigsberg\n",
    "plot(Koenigsberg)\n",
    "#graus impares, não é um grafo euleriano\n",
    "degree(Koenigsberg, mode=\"all\")"
   ]
  },
  {
   "cell_type": "markdown",
   "id": "1b5d52fd-04ac-4dd6-aa7f-101c457b33bc",
   "metadata": {},
   "source": [
    "## Rede Social Básica"
   ]
  },
  {
   "cell_type": "code",
   "execution_count": 38,
   "id": "3630f930-f84b-41b6-ae4a-7b3eee1f0fd8",
   "metadata": {},
   "outputs": [
    {
     "data": {
      "text/html": [
       "<dl class=dl-horizontal>\n",
       "\t<dt>A</dt>\n",
       "\t\t<dd>4</dd>\n",
       "\t<dt>B</dt>\n",
       "\t\t<dd>4</dd>\n",
       "\t<dt>C</dt>\n",
       "\t\t<dd>3</dd>\n",
       "\t<dt>D</dt>\n",
       "\t\t<dd>6</dd>\n",
       "\t<dt>E</dt>\n",
       "\t\t<dd>3</dd>\n",
       "\t<dt>F</dt>\n",
       "\t\t<dd>5</dd>\n",
       "\t<dt>G</dt>\n",
       "\t\t<dd>5</dd>\n",
       "\t<dt>H</dt>\n",
       "\t\t<dd>3</dd>\n",
       "\t<dt>I</dt>\n",
       "\t\t<dd>2</dd>\n",
       "\t<dt>J</dt>\n",
       "\t\t<dd>1</dd>\n",
       "</dl>\n"
      ],
      "text/latex": [
       "\\begin{description*}\n",
       "\\item[A] 4\n",
       "\\item[B] 4\n",
       "\\item[C] 3\n",
       "\\item[D] 6\n",
       "\\item[E] 3\n",
       "\\item[F] 5\n",
       "\\item[G] 5\n",
       "\\item[H] 3\n",
       "\\item[I] 2\n",
       "\\item[J] 1\n",
       "\\end{description*}\n"
      ],
      "text/markdown": [
       "A\n",
       ":   4B\n",
       ":   4C\n",
       ":   3D\n",
       ":   6E\n",
       ":   3F\n",
       ":   5G\n",
       ":   5H\n",
       ":   3I\n",
       ":   2J\n",
       ":   1\n",
       "\n"
      ],
      "text/plain": [
       "A B C D E F G H I J \n",
       "4 4 3 6 3 5 5 3 2 1 "
      ]
     },
     "metadata": {},
     "output_type": "display_data"
    },
    {
     "data": {
      "image/png": "[encoded data removed]",
      "text/plain": [
       "Plot with title \"\""
      ]
     },
     "metadata": {},
     "output_type": "display_data"
    }
   ],
   "source": [
    "data(kite)\n",
    "degree(kite, mode=\"all\")\n",
    "plot(kite)"
   ]
  },
  {
   "cell_type": "markdown",
   "id": "b32bffbb-85f5-4368-8309-fd9d570bb45c",
   "metadata": {},
   "source": [
    "## Amizades em uma faculdade\n",
    "\n",
    "- Detectar os grupos de amizades"
   ]
  },
  {
   "cell_type": "code",
   "execution_count": 39,
   "id": "989ee9fd-165c-4373-beda-760123af48b5",
   "metadata": {},
   "outputs": [
    {
     "data": {
      "text/plain": [
       "IGRAPH 6f42903 D-W- 81 817 -- \n",
       "+ attr: Type (g/c), Date (g/c), Citation (g/c), Author (g/c), Group\n",
       "| (v/n), weight (e/n)\n",
       "+ edges from 6f42903:\n",
       " [1] 57->52 76->42 12->69 43->34 28->47 58->51  7->29 40->71  5->37 48->55\n",
       "[11]  6->58 21-> 8 28->69 43->21 67->58 65->42  5->67 52->75 37->64  4->36\n",
       "[21] 12->49 19->46 37-> 9 74->36 62-> 1 15-> 2 72->49 46->62  2->29 40->12\n",
       "[31] 22->29 71->69  4-> 3 37->69  5-> 6 77->13 23->49 52->35 20->14 62->70\n",
       "[41] 34->35 76->72  7->42 37->42 51->80 38->45 62->64 36->53 62->77 17->61\n",
       "[51]  7->68 46->29 44->53 18->58 12->16 72->42 52->32 58->21 38->17 15->51\n",
       "[61] 22-> 7 22->69  5->13 29-> 2 77->12 37->35 18->46 10->71 22->47 20->19\n",
       "+ ... omitted several edges"
      ]
     },
     "metadata": {},
     "output_type": "display_data"
    },
    {
     "name": "stderr",
     "output_type": "stream",
     "text": [
      "Warning message in cluster_edge_betweenness(UKfaculty, directed = F):\n",
      "\"At community.c:460 :Membership vector will be selected based on the lowest modularity score.\"Warning message in cluster_edge_betweenness(UKfaculty, directed = F):\n",
      "\"At community.c:467 :Modularity calculation with weighted edge betweenness community detection might not make sense -- modularity treats edge weights as similarities while edge betwenness treats them as distances\""
     ]
    },
    {
     "data": {
      "image/png": "[encoded data removed]",
      "text/plain": [
       "Plot with title \"\""
      ]
     },
     "metadata": {},
     "output_type": "display_data"
    },
    {
     "data": {
      "image/png": "[encoded data removed]",
      "text/plain": [
       "Plot with title \"\""
      ]
     },
     "metadata": {},
     "output_type": "display_data"
    }
   ],
   "source": [
    "data(UKfaculty)\n",
    "UKfaculty\n",
    "plot(UKfaculty)\n",
    "comun=cluster_edge_betweenness(UKfaculty, directed = F)\n",
    "plot(comun,UKfaculty)"
   ]
  },
  {
   "cell_type": "code",
   "execution_count": null,
   "id": "415423c2-baff-4ad8-9a5b-fdfce06af1df",
   "metadata": {},
   "outputs": [],
   "source": []
  }
 ],
 "metadata": {
  "kernelspec": {
   "display_name": "R",
   "language": "R",
   "name": "ir"
  },
  "language_info": {
   "codemirror_mode": "r",
   "file_extension": ".r",
   "mimetype": "text/x-r-source",
   "name": "R",
   "pygments_lexer": "r",
   "version": "3.6.1"
  }
 },
 "nbformat": 4,
 "nbformat_minor": 5
}
