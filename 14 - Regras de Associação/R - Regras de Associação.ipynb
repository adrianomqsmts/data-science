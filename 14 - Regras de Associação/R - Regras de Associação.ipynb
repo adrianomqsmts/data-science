{
 "cells": [
  {
   "cell_type": "markdown",
   "id": "d0b84438-fe3b-497c-af63-fe1e018af565",
   "metadata": {},
   "source": [
    "# Regras de Associação"
   ]
  },
  {
   "cell_type": "markdown",
   "id": "5ad53e8f-6c4e-465b-b287-0afe4dbc8de9",
   "metadata": {},
   "source": [
    "## Biblioteca"
   ]
  },
  {
   "cell_type": "code",
   "execution_count": 2,
   "id": "5739f245-78fe-4e78-aa70-1015af957983",
   "metadata": {},
   "outputs": [],
   "source": [
    "#install.packages('arules')\n",
    "library(arules)"
   ]
  },
  {
   "cell_type": "markdown",
   "id": "f0a40a70-1638-48c0-ad3d-a1a32e0f13cc",
   "metadata": {},
   "source": [
    "## Carregar a Base de Dados"
   ]
  },
  {
   "cell_type": "markdown",
   "id": "7c1ffd1b-b293-43f3-a4c8-861474fe858e",
   "metadata": {},
   "source": [
    "- **rm.duplicates** - Irá remover os item das transações que repetem o item, como {'leite', 'arroz', 'leite'} -> {'arroz', 'leite'}"
   ]
  },
  {
   "cell_type": "code",
   "execution_count": 27,
   "id": "59a78fe2-5d03-4117-a214-f46db4126222",
   "metadata": {},
   "outputs": [
    {
     "name": "stderr",
     "output_type": "stream",
     "text": [
      "Warning message in readLines(file, encoding = encoding):\n",
      "\"linha final incompleta encontrada em 'datasets/mercado1.csv'\""
     ]
    }
   ],
   "source": [
    "mercado1 = read.transactions('../datasets/mercado1.csv', sep = ',', rm.duplicates = TRUE)"
   ]
  },
  {
   "cell_type": "markdown",
   "id": "34e53780-4175-473b-a06e-a980b569b3a2",
   "metadata": {},
   "source": [
    "## Descrevendo as transações\n",
    "- **rows** (elements/itemsets/transactions) - Indica o números de transações feitas.\n",
    "- **columns** (items) Indica o número de itens\n",
    "- **density** - Mostra a porcentagem de preenchimento das transações. \n",
    "- **most frequent items** - Mosta os item mais frequêntes em uma transação"
   ]
  },
  {
   "cell_type": "code",
   "execution_count": 29,
   "id": "1561852f-ce40-465d-9a25-bec989265fdd",
   "metadata": {},
   "outputs": [
    {
     "data": {
      "text/plain": [
       "transactions as itemMatrix in sparse format with\n",
       " 10 rows (elements/itemsets/transactions) and\n",
       " 7 columns (items) and a density of 0.3 \n",
       "\n",
       "most frequent items:\n",
       "manteiga      pao     cafe    arroz  cerveja  (Other) \n",
       "       5        5        3        2        2        4 \n",
       "\n",
       "element (itemset/transaction) length distribution:\n",
       "sizes\n",
       "1 2 3 4 \n",
       "5 1 2 2 \n",
       "\n",
       "   Min. 1st Qu.  Median    Mean 3rd Qu.    Max. \n",
       "    1.0     1.0     1.5     2.1     3.0     4.0 \n",
       "\n",
       "includes extended item information - examples:\n",
       "   labels\n",
       "1   arroz\n",
       "2    cafe\n",
       "3 cerveja"
      ]
     },
     "metadata": {},
     "output_type": "display_data"
    }
   ],
   "source": [
    "summary(mercado1)"
   ]
  },
  {
   "cell_type": "markdown",
   "id": "58a50001-968b-45fe-88dc-2453fbddd998",
   "metadata": {},
   "source": [
    "## Gráfico de frequência\n",
    "\n",
    "- **topN** - Indica o número de itens que queremos ver em ordem decrescente. "
   ]
  },
  {
   "cell_type": "code",
   "execution_count": 32,
   "id": "9e97d23b-bfd0-4cdf-a385-9c38fde3159e",
   "metadata": {},
   "outputs": [
    {
     "data": {
      "image/png": "[encoded data removed]",
      "text/plain": [
       "plot without title"
      ]
     },
     "metadata": {},
     "output_type": "display_data"
    }
   ],
   "source": [
    "itemFrequencyPlot(mercado1, topN = 7)"
   ]
  },
  {
   "cell_type": "markdown",
   "id": "ea62e677-4696-4e11-b5de-b7b797e67996",
   "metadata": {},
   "source": [
    "## Gerar Geras\n",
    "\n",
    "- **parameter** - Recebe uma lista de parâmetros a serem usados como\n",
    "    - support - A porcentagem mínima de suporte que deve ser aceito\n",
    "    - confidence - A porcentagem mínima de confiança que deve ser aceito\n",
    "    - minlen - O número mínimos de itens em um itemset para ser considerado. \n",
    "    - maxlen - O número máximo de itens em um itemset para ser considerado.\n",
    "- writing ... - Mostra o número de regras geradas"
   ]
  },
  {
   "cell_type": "code",
   "execution_count": 9,
   "id": "52052946-9813-4dc6-aaf3-cc5c0060baf1",
   "metadata": {},
   "outputs": [
    {
     "name": "stdout",
     "output_type": "stream",
     "text": [
      "Apriori\n",
      "\n",
      "Parameter specification:\n",
      " confidence minval smax arem  aval originalSupport maxtime support minlen\n",
      "        0.8    0.1    1 none FALSE            TRUE       5     0.3      1\n",
      " maxlen target  ext\n",
      "     10  rules TRUE\n",
      "\n",
      "Algorithmic control:\n",
      " filter tree heap memopt load sort verbose\n",
      "    0.1 TRUE TRUE  FALSE TRUE    2    TRUE\n",
      "\n",
      "Absolute minimum support count: 3 \n",
      "\n",
      "set item appearances ...[0 item(s)] done [0.00s].\n",
      "set transactions ...[7 item(s), 10 transaction(s)] done [0.00s].\n",
      "sorting and recoding items ... [3 item(s)] done [0.00s].\n",
      "creating transaction tree ... done [0.00s].\n",
      "checking subsets of size 1 2 3 done [0.00s].\n",
      "writing ... [6 rule(s)] done [0.00s].\n",
      "creating S4 object  ... done [0.00s].\n"
     ]
    }
   ],
   "source": [
    "regras = apriori(data = mercado1, parameter = list(support = 0.3, confidence = 0.8))"
   ]
  },
  {
   "cell_type": "markdown",
   "id": "6a81355c-3106-4f3e-9854-08a31bd9c796",
   "metadata": {},
   "source": [
    "## Ver Regras"
   ]
  },
  {
   "cell_type": "code",
   "execution_count": 10,
   "id": "26b833a3-d8b8-493a-b646-e9d6ee6c32c4",
   "metadata": {},
   "outputs": [
    {
     "name": "stdout",
     "output_type": "stream",
     "text": [
      "    lhs                rhs        support confidence coverage lift count\n",
      "[1] {cafe}          => {manteiga} 0.3     1.0        0.3      2.0  3    \n",
      "[2] {cafe}          => {pao}      0.3     1.0        0.3      2.0  3    \n",
      "[3] {manteiga}      => {pao}      0.4     0.8        0.5      1.6  4    \n",
      "[4] {pao}           => {manteiga} 0.4     0.8        0.5      1.6  4    \n",
      "[5] {cafe,manteiga} => {pao}      0.3     1.0        0.3      2.0  3    \n",
      "[6] {cafe,pao}      => {manteiga} 0.3     1.0        0.3      2.0  3    \n"
     ]
    }
   ],
   "source": [
    "inspect(regras)"
   ]
  },
  {
   "cell_type": "markdown",
   "id": "d6cd7c7d-e453-4354-94b0-7e7f5b2d63f1",
   "metadata": {},
   "source": [
    "### Ordenar Regras\n",
    "\n",
    "- Podemos usar a função sort para ordenar as regras\n",
    "- Como é um vetor, podemos especificar um intervalo de regras, caso hajam muitas. "
   ]
  },
  {
   "cell_type": "code",
   "execution_count": 12,
   "id": "d09fba53-0587-4699-99ab-efbcd7336b2b",
   "metadata": {},
   "outputs": [
    {
     "name": "stdout",
     "output_type": "stream",
     "text": [
      "    lhs                rhs        support confidence coverage lift count\n",
      "[1] {cafe}          => {manteiga} 0.3     1.0        0.3      2.0  3    \n",
      "[2] {cafe}          => {pao}      0.3     1.0        0.3      2.0  3    \n",
      "[3] {cafe,manteiga} => {pao}      0.3     1.0        0.3      2.0  3    \n",
      "[4] {cafe,pao}      => {manteiga} 0.3     1.0        0.3      2.0  3    \n",
      "[5] {manteiga}      => {pao}      0.4     0.8        0.5      1.6  4    \n",
      "[6] {pao}           => {manteiga} 0.4     0.8        0.5      1.6  4    \n"
     ]
    }
   ],
   "source": [
    "inspect(sort(regras, by = 'lift'))"
   ]
  },
  {
   "cell_type": "markdown",
   "id": "fe1f8fa9-308e-488a-9dc4-ff8858a0c395",
   "metadata": {},
   "source": [
    "# Segundo Exemplo"
   ]
  },
  {
   "cell_type": "markdown",
   "id": "1a0be318-0186-41cf-b071-7d09b82facc0",
   "metadata": {},
   "source": [
    "- **rm.duplicates** - Irá remover os item das transações que repetem o item, como {'leite', 'arroz', 'leite'} -> {'arroz', 'leite'}"
   ]
  },
  {
   "cell_type": "code",
   "execution_count": 30,
   "id": "14f8a95e-ca9b-4a15-be9e-7442d6e216cd",
   "metadata": {},
   "outputs": [
    {
     "name": "stdout",
     "output_type": "stream",
     "text": [
      "distribution of transactions with duplicates:\n",
      "1 \n",
      "5 \n"
     ]
    }
   ],
   "source": [
    "mercado = read.transactions('datasets/mercado2.csv', sep = ',', rm.duplicates = TRUE)"
   ]
  },
  {
   "cell_type": "markdown",
   "id": "f24288c0-f89a-4117-bfa8-6165ac52ae58",
   "metadata": {},
   "source": [
    "## Descrevendo as transações\n",
    "- **rows** (elements/itemsets/transactions) - Indica o números de transações feitas.\n",
    "- **columns** (items) Indica o número de itens\n",
    "- **density** - Mostra a porcentagem de preenchimento das transações. \n",
    "- **most frequent items** - Mosta os item mais frequêntes em uma transação"
   ]
  },
  {
   "cell_type": "code",
   "execution_count": 31,
   "id": "bba60fa5-fe62-4324-92f6-e7f671233d39",
   "metadata": {},
   "outputs": [
    {
     "data": {
      "text/plain": [
       "transactions as itemMatrix in sparse format with\n",
       " 7501 rows (elements/itemsets/transactions) and\n",
       " 119 columns (items) and a density of 0.03288973 \n",
       "\n",
       "most frequent items:\n",
       "mineral water          eggs     spaghetti  french fries     chocolate \n",
       "         1788          1348          1306          1282          1229 \n",
       "      (Other) \n",
       "        22405 \n",
       "\n",
       "element (itemset/transaction) length distribution:\n",
       "sizes\n",
       "   1    2    3    4    5    6    7    8    9   10   11   12   13   14   15   16 \n",
       "1754 1358 1044  816  667  493  391  324  259  139  102   67   40   22   17    4 \n",
       "  18   19   20 \n",
       "   1    2    1 \n",
       "\n",
       "   Min. 1st Qu.  Median    Mean 3rd Qu.    Max. \n",
       "  1.000   2.000   3.000   3.914   5.000  20.000 \n",
       "\n",
       "includes extended item information - examples:\n",
       "             labels\n",
       "1           almonds\n",
       "2 antioxydant juice\n",
       "3         asparagus"
      ]
     },
     "metadata": {},
     "output_type": "display_data"
    }
   ],
   "source": [
    "summary(mercado)"
   ]
  },
  {
   "cell_type": "markdown",
   "id": "558f9776-6f37-49f4-b4dc-7157e1b616e2",
   "metadata": {},
   "source": [
    "## Gráfico de frequência\n",
    "\n",
    "- **topN** - Indica o número de itens que queremos ver em ordem decrescente. "
   ]
  },
  {
   "cell_type": "code",
   "execution_count": 33,
   "id": "98903183-0f62-42f1-9817-7b33bc6d040d",
   "metadata": {},
   "outputs": [
    {
     "data": {
      "image/png": "[encoded data removed]",
      "text/plain": [
       "plot without title"
      ]
     },
     "metadata": {},
     "output_type": "display_data"
    }
   ],
   "source": [
    "itemFrequencyPlot(mercado, topN = 10)"
   ]
  },
  {
   "cell_type": "markdown",
   "id": "5ca86856-bc80-4602-aeb1-053894f756af",
   "metadata": {},
   "source": [
    "## Gerar Geras\n",
    "\n",
    "- **parameter** - Recebe uma lista de parâmetros a serem usados como\n",
    "    - support - A porcentagem mínima de suporte que deve ser aceito\n",
    "    - confidence - A porcentagem mínima de confiança que deve ser aceito\n",
    "    - minlen - O número mínimos de itens em um itemset para ser considerado. \n",
    "    - maxlen - O número máximo de itens em um itemset para ser considerado.\n",
    "- writing ... - Mostra o número de regras geradas"
   ]
  },
  {
   "cell_type": "code",
   "execution_count": 35,
   "id": "15614a76-85b7-4fb0-acaa-dea6a7bd8445",
   "metadata": {},
   "outputs": [
    {
     "name": "stdout",
     "output_type": "stream",
     "text": [
      "Apriori\n",
      "\n",
      "Parameter specification:\n",
      " confidence minval smax arem  aval originalSupport maxtime support minlen\n",
      "        0.3    0.1    1 none FALSE            TRUE       5   0.003      1\n",
      " maxlen target  ext\n",
      "     10  rules TRUE\n",
      "\n",
      "Algorithmic control:\n",
      " filter tree heap memopt load sort verbose\n",
      "    0.1 TRUE TRUE  FALSE TRUE    2    TRUE\n",
      "\n",
      "Absolute minimum support count: 22 \n",
      "\n",
      "set item appearances ...[0 item(s)] done [0.00s].\n",
      "set transactions ...[119 item(s), 7501 transaction(s)] done [0.01s].\n",
      "sorting and recoding items ... [115 item(s)] done [0.00s].\n",
      "creating transaction tree ... done [0.00s].\n",
      "checking subsets of size 1 2 3 4 5 done [0.00s].\n",
      "writing ... [670 rule(s)] done [0.00s].\n",
      "creating S4 object  ... done [0.00s].\n"
     ]
    }
   ],
   "source": [
    "regras = apriori(data = mercado, parameter = list(support = 0.003, confidence = 0.3))"
   ]
  },
  {
   "cell_type": "markdown",
   "id": "8f635aa2-240b-41be-8ba5-8d70efe50a53",
   "metadata": {},
   "source": [
    "## Ver Regras"
   ]
  },
  {
   "cell_type": "markdown",
   "id": "7bc1a301-94db-4e56-8355-779f2dc8b9df",
   "metadata": {},
   "source": [
    "-  **Ordenar Regras**\n",
    "    - Podemos usar a função sort para ordenar as regras\n",
    "    - Como é um vetor, podemos especificar um intervalo de regras, caso hajam muitas. "
   ]
  },
  {
   "cell_type": "code",
   "execution_count": 36,
   "id": "d459d448-b700-4a1a-b56c-b020463d518c",
   "metadata": {},
   "outputs": [
    {
     "name": "stdout",
     "output_type": "stream",
     "text": [
      "     lhs                    rhs                     support confidence    coverage     lift count\n",
      "[1]  {mineral water,                                                                             \n",
      "      whole wheat pasta} => {olive oil}         0.003866151  0.4027778 0.009598720 6.115863    29\n",
      "[2]  {spaghetti,                                                                                 \n",
      "      tomato sauce}      => {ground beef}       0.003066258  0.4893617 0.006265831 4.980600    23\n",
      "[3]  {pasta}             => {escalope}          0.005865885  0.3728814 0.015731236 4.700812    44\n",
      "[4]  {french fries,                                                                              \n",
      "      herb & pepper}     => {ground beef}       0.003199573  0.4615385 0.006932409 4.697422    24\n",
      "[5]  {cereals,                                                                                   \n",
      "      spaghetti}         => {ground beef}       0.003066258  0.4600000 0.006665778 4.681764    23\n",
      "[6]  {frozen vegetables,                                                                         \n",
      "      mineral water,                                                                             \n",
      "      soup}              => {milk}              0.003066258  0.6052632 0.005065991 4.670863    23\n",
      "[7]  {chocolate,                                                                                 \n",
      "      frozen vegetables,                                                                         \n",
      "      mineral water}     => {shrimp}            0.003199573  0.3287671 0.009732036 4.600900    24\n",
      "[8]  {frozen vegetables,                                                                         \n",
      "      milk,                                                                                      \n",
      "      mineral water}     => {olive oil}         0.003332889  0.3012048 0.011065191 4.573557    25\n",
      "[9]  {pasta}             => {shrimp}            0.005065991  0.3220339 0.015731236 4.506672    38\n",
      "[10] {chocolate,                                                                                 \n",
      "      herb & pepper}     => {ground beef}       0.003999467  0.4411765 0.009065458 4.490183    30\n",
      "[11] {chocolate,                                                                                 \n",
      "      mineral water,                                                                             \n",
      "      shrimp}            => {frozen vegetables} 0.003199573  0.4210526 0.007598987 4.417225    24\n",
      "[12] {milk,                                                                                      \n",
      "      mineral water,                                                                             \n",
      "      olive oil}         => {frozen vegetables} 0.003332889  0.3906250 0.008532196 4.098011    25\n",
      "[13] {mineral water,                                                                             \n",
      "      shrimp,                                                                                    \n",
      "      spaghetti}         => {frozen vegetables} 0.003332889  0.3906250 0.008532196 4.098011    25\n",
      "[14] {herb & pepper,                                                                             \n",
      "      spaghetti}         => {ground beef}       0.006399147  0.3934426 0.016264498 4.004360    48\n",
      "[15] {herb & pepper,                                                                             \n",
      "      milk}              => {ground beef}       0.003599520  0.3913043 0.009198773 3.982597    27\n",
      "[16] {herb & pepper,                                                                             \n",
      "      mineral water}     => {ground beef}       0.006665778  0.3906250 0.017064391 3.975683    50\n",
      "[17] {chocolate,                                                                                 \n",
      "      frozen vegetables,                                                                         \n",
      "      spaghetti}         => {ground beef}       0.003066258  0.3898305 0.007865618 3.967597    23\n",
      "[18] {frozen vegetables,                                                                         \n",
      "      mineral water,                                                                             \n",
      "      olive oil}         => {milk}              0.003332889  0.5102041 0.006532462 3.937285    25\n",
      "[19] {cereals,                                                                                   \n",
      "      ground beef}       => {spaghetti}         0.003066258  0.6764706 0.004532729 3.885303    23\n",
      "[20] {frozen vegetables,                                                                         \n",
      "      soup}              => {milk}              0.003999467  0.5000000 0.007998933 3.858539    30\n"
     ]
    }
   ],
   "source": [
    "inspect(sort(regras, by = 'lift')[1:20])"
   ]
  },
  {
   "cell_type": "markdown",
   "id": "7aa2adb7-a069-4129-8af3-d36cbbffd93a",
   "metadata": {},
   "source": [
    "# ECLAT\n",
    "\n",
    "- É usado basicamnete para ver os itemsets mais frequêntes das entre as transações. Ou seja **apenas o support**"
   ]
  },
  {
   "cell_type": "markdown",
   "id": "f03318fb-c66c-493f-b5a9-2c72e4fd7627",
   "metadata": {},
   "source": [
    "## Carregar Transações"
   ]
  },
  {
   "cell_type": "code",
   "execution_count": 46,
   "id": "01711fa3-6ff8-4620-9722-f085e3ba3fe7",
   "metadata": {},
   "outputs": [
    {
     "name": "stdout",
     "output_type": "stream",
     "text": [
      "distribution of transactions with duplicates:\n",
      "1 \n",
      "5 \n"
     ]
    }
   ],
   "source": [
    "base = read.transactions('datasets/mercado2.csv', sep = ',', rm.duplicates = TRUE)"
   ]
  },
  {
   "cell_type": "markdown",
   "id": "12fccb5f-c876-4de0-a119-4829d54824cb",
   "metadata": {},
   "source": [
    "## Gerar Itemset Frequentes\n",
    "\n",
    "- Funciona como o algoritmo apriori, mas não tem  a confiânça e o lift\n",
    "- Não gera geras, apenas os conjuntos mais frequentes\n",
    "- Absolute minimum support count - Mostra a quantidade de itemsets gerados para aquela confiância"
   ]
  },
  {
   "cell_type": "code",
   "execution_count": 47,
   "id": "786d9027-67b4-4767-b348-24a2d1045db7",
   "metadata": {},
   "outputs": [
    {
     "name": "stdout",
     "output_type": "stream",
     "text": [
      "Eclat\n",
      "\n",
      "parameter specification:\n",
      " tidLists support minlen maxlen            target  ext\n",
      "    FALSE   0.003      3     10 frequent itemsets TRUE\n",
      "\n",
      "algorithmic control:\n",
      " sparse sort verbose\n",
      "      7   -2    TRUE\n",
      "\n",
      "Absolute minimum support count: 22 \n",
      "\n",
      "create itemset ... \n",
      "set transactions ...[119 item(s), 7501 transaction(s)] done [0.01s].\n",
      "sorting and recoding items ... [115 item(s)] done [0.00s].\n",
      "creating sparse bit matrix ... [115 row(s), 7501 column(s)] done [0.00s].\n",
      "writing  ... [542 set(s)] done [0.02s].\n",
      "Creating S4 object  ... done [0.00s].\n"
     ]
    }
   ],
   "source": [
    "itemsets = eclat(data = base, parameter = list(support = 0.003, minlen = 3))"
   ]
  },
  {
   "cell_type": "markdown",
   "id": "9159ff7f-228b-476b-b567-bbbac732e63d",
   "metadata": {},
   "source": [
    "## Ver os Itemset mais Frequentes\n",
    "\n",
    "-  **Ordenar Regras**\n",
    "    - Podemos usar a função sort para ordenar as regras\n",
    "    - Como é um vetor, podemos especificar um intervalo de regras, caso hajam muitas. "
   ]
  },
  {
   "cell_type": "code",
   "execution_count": 49,
   "id": "6f23844d-1e64-477e-a269-e441280d8f72",
   "metadata": {},
   "outputs": [
    {
     "name": "stdout",
     "output_type": "stream",
     "text": [
      "    items                                 support    transIdenticalToItemsets\n",
      "[1] {ground beef,mineral water,spaghetti} 0.01706439 128                     \n",
      "[2] {chocolate,mineral water,spaghetti}   0.01586455 119                     \n",
      "[3] {milk,mineral water,spaghetti}        0.01573124 118                     \n",
      "[4] {eggs,mineral water,spaghetti}        0.01426476 107                     \n",
      "[5] {chocolate,milk,mineral water}        0.01399813 105                     \n",
      "    count\n",
      "[1] 128  \n",
      "[2] 119  \n",
      "[3] 118  \n",
      "[4] 107  \n",
      "[5] 105  \n"
     ]
    }
   ],
   "source": [
    "inspect(sort(itemsets, by = 'support')[1:5])"
   ]
  }
 ],
 "metadata": {
  "kernelspec": {
   "display_name": "R",
   "language": "R",
   "name": "ir"
  },
  "language_info": {
   "codemirror_mode": "r",
   "file_extension": ".r",
   "mimetype": "text/x-r-source",
   "name": "R",
   "pygments_lexer": "r",
   "version": "3.6.1"
  }
 },
 "nbformat": 4,
 "nbformat_minor": 5
}
