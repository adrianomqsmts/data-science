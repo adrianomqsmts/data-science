{
 "cells": [
  {
   "cell_type": "markdown",
   "id": "3cd519d2-1aa7-490f-b0c5-fcdc17eeb6b4",
   "metadata": {},
   "source": [
    "# Bibliotecas"
   ]
  },
  {
   "cell_type": "code",
   "execution_count": 1,
   "id": "2d1e3882-d8d3-4751-a625-6e8445a9f579",
   "metadata": {},
   "outputs": [
    {
     "name": "stdout",
     "output_type": "stream",
     "text": [
      "Requirement already satisfied: nltk in c:\\users\\adria\\anaconda3\\lib\\site-packages (3.6.1)\n",
      "Requirement already satisfied: tqdm in c:\\users\\adria\\anaconda3\\lib\\site-packages (from nltk) (4.59.0)\n",
      "Requirement already satisfied: click in c:\\users\\adria\\anaconda3\\lib\\site-packages (from nltk) (7.1.2)\n",
      "Requirement already satisfied: joblib in c:\\users\\adria\\anaconda3\\lib\\site-packages (from nltk) (1.0.1)\n",
      "Requirement already satisfied: regex in c:\\users\\adria\\anaconda3\\lib\\site-packages (from nltk) (2021.4.4)\n"
     ]
    }
   ],
   "source": [
    "!pip install nltk"
   ]
  },
  {
   "cell_type": "code",
   "execution_count": 3,
   "id": "5af5e846-da6a-46be-814d-d8c70ed1cd5a",
   "metadata": {},
   "outputs": [
    {
     "name": "stdout",
     "output_type": "stream",
     "text": [
      "Collecting wordcloud\n",
      "  Downloading wordcloud-1.8.1-cp38-cp38-win_amd64.whl (155 kB)\n",
      "Requirement already satisfied: numpy>=1.6.1 in c:\\users\\adria\\anaconda3\\lib\\site-packages (from wordcloud) (1.20.1)\n",
      "Requirement already satisfied: matplotlib in c:\\users\\adria\\anaconda3\\lib\\site-packages (from wordcloud) (3.3.4)\n",
      "Requirement already satisfied: pillow in c:\\users\\adria\\anaconda3\\lib\\site-packages (from wordcloud) (8.2.0)\n",
      "Requirement already satisfied: pyparsing!=2.0.4,!=2.1.2,!=2.1.6,>=2.0.3 in c:\\users\\adria\\anaconda3\\lib\\site-packages (from matplotlib->wordcloud) (2.4.7)\n",
      "Requirement already satisfied: python-dateutil>=2.1 in c:\\users\\adria\\anaconda3\\lib\\site-packages (from matplotlib->wordcloud) (2.8.1)\n",
      "Requirement already satisfied: cycler>=0.10 in c:\\users\\adria\\anaconda3\\lib\\site-packages (from matplotlib->wordcloud) (0.10.0)\n",
      "Requirement already satisfied: kiwisolver>=1.0.1 in c:\\users\\adria\\anaconda3\\lib\\site-packages (from matplotlib->wordcloud) (1.3.1)\n",
      "Requirement already satisfied: six in c:\\users\\adria\\anaconda3\\lib\\site-packages (from cycler>=0.10->matplotlib->wordcloud) (1.15.0)\n",
      "Installing collected packages: wordcloud\n",
      "Successfully installed wordcloud-1.8.1\n"
     ]
    }
   ],
   "source": [
    "!pip install wordcloud"
   ]
  },
  {
   "cell_type": "code",
   "execution_count": 4,
   "id": "7150aacb-f891-40ed-ba25-e441193c584e",
   "metadata": {},
   "outputs": [
    {
     "name": "stderr",
     "output_type": "stream",
     "text": [
      "[nltk_data] Downloading package stopwords to\n",
      "[nltk_data]     C:\\Users\\Adria\\AppData\\Roaming\\nltk_data...\n",
      "[nltk_data]   Package stopwords is already up-to-date!\n"
     ]
    }
   ],
   "source": [
    "import matplotlib.pyplot as plt\n",
    "import nltk\n",
    "nltk.download('stopwords')\n",
    "from nltk.corpus import PlaintextCorpusReader\n",
    "from nltk.corpus import stopwords\n",
    "from matplotlib.colors import ListedColormap\n",
    "from wordcloud import WordCloud\n",
    "import string\n"
   ]
  },
  {
   "cell_type": "markdown",
   "id": "3d3ca673-4c20-4b79-a8af-cf6a4f295b70",
   "metadata": {},
   "source": [
    "## Criação do corpus\n",
    "\n",
    "- Corpus é uma coleção de documentos que queremos mineirar de alguma forma"
   ]
  },
  {
   "cell_type": "code",
   "execution_count": 6,
   "id": "c8f4bb5c-14a5-41f3-bd93-cf36f4d84a48",
   "metadata": {},
   "outputs": [],
   "source": [
    "corpus = PlaintextCorpusReader('../datasets/Arquivos', '.*', encoding = 'ISO-8859-1')"
   ]
  },
  {
   "cell_type": "markdown",
   "id": "f4b0eab2-be2d-4b87-9d97-71fb8759b221",
   "metadata": {},
   "source": [
    "## Leitura dos arquivos do disco\n",
    "\n",
    "- Percorrer os registros e mostrar o nome dos primeiros 100 arquivos"
   ]
  },
  {
   "cell_type": "code",
   "execution_count": 8,
   "id": "7f070324-38fc-4e33-8c5a-34f55f99d7d5",
   "metadata": {},
   "outputs": [
    {
     "data": {
      "text/plain": [
       "['1.txt',\n",
       " '10.txt',\n",
       " '100.txt',\n",
       " '1000.txt',\n",
       " '1001.txt',\n",
       " '1002.txt',\n",
       " '1003.txt',\n",
       " '1004.txt',\n",
       " '1005.txt',\n",
       " '1006.txt']"
      ]
     },
     "execution_count": 8,
     "metadata": {},
     "output_type": "execute_result"
    }
   ],
   "source": [
    "arquivos = corpus.fileids()\n",
    "arquivos[0:10]"
   ]
  },
  {
   "cell_type": "markdown",
   "id": "eaa4e148-7dfd-40aa-bb14-d022ea41513f",
   "metadata": {},
   "source": [
    "## Acessar o texto de um arquivo\n",
    "\n",
    "- `corpus.raw(filename)` - ler um arquivo\n",
    "- `corpus.raw()` - lê todos os arquivos"
   ]
  },
  {
   "cell_type": "code",
   "execution_count": 9,
   "id": "14b36b77-0088-40aa-8563-69421ac9e58d",
   "metadata": {},
   "outputs": [
    {
     "data": {
      "text/plain": [
       "\"@relation 'Reuters-21578 Corn ModApte Train-weka.filters.unsupervised.attribute.NumericToBinary-weka.filters.unsupervised.instance.RemoveFolds-S0-N5-F1'\\r\\n\""
      ]
     },
     "execution_count": 9,
     "metadata": {},
     "output_type": "execute_result"
    }
   ],
   "source": [
    "texto = corpus.raw('1.txt')\n",
    "texto"
   ]
  },
  {
   "cell_type": "code",
   "execution_count": 17,
   "id": "3bfa4263-90d7-4888-bb35-be284cf9c7e1",
   "metadata": {},
   "outputs": [],
   "source": [
    "textos = corpus.raw()"
   ]
  },
  {
   "cell_type": "markdown",
   "id": "cf42ddce-01aa-4233-8e33-83358d96afba",
   "metadata": {},
   "source": [
    "## Acessando as palavras dos documentos"
   ]
  },
  {
   "cell_type": "code",
   "execution_count": 12,
   "id": "e4c0247b-bc74-44d8-8b72-36ec84bb26a1",
   "metadata": {},
   "outputs": [
    {
     "name": "stdout",
     "output_type": "stream",
     "text": [
      "quantiade de palavras 619424\n"
     ]
    }
   ],
   "source": [
    "palavras = corpus.words()\n",
    "print(f'quantiade de palavras {len(palavras)}')"
   ]
  },
  {
   "cell_type": "markdown",
   "id": "c8cfb81e-4bc3-41e0-9764-db029f145349",
   "metadata": {},
   "source": [
    "## Stopwords \n",
    "\n",
    "- a função `stopword.words('language')` importa as stopwords da linguagem especificada"
   ]
  },
  {
   "cell_type": "code",
   "execution_count": 14,
   "id": "6d407765-690b-444d-8c05-787e6b97f601",
   "metadata": {},
   "outputs": [
    {
     "name": "stdout",
     "output_type": "stream",
     "text": [
      "['de', 'a', 'o', 'que', 'e', 'é', 'do', 'da', 'em', 'um', 'para', 'com', 'não', 'uma', 'os', 'no', 'se', 'na', 'por', 'mais', 'as', 'dos', 'como', 'mas', 'ao', 'ele', 'das', 'à', 'seu', 'sua', 'ou', 'quando', 'muito', 'nos', 'já', 'eu', 'também', 'só', 'pelo', 'pela', 'até', 'isso', 'ela', 'entre', 'depois', 'sem', 'mesmo', 'aos', 'seus', 'quem', 'nas', 'me', 'esse', 'eles', 'você', 'essa', 'num', 'nem', 'suas', 'meu', 'às', 'minha', 'numa', 'pelos', 'elas', 'qual', 'nós', 'lhe', 'deles', 'essas', 'esses', 'pelas', 'este', 'dele', 'tu', 'te', 'vocês', 'vos', 'lhes', 'meus', 'minhas', 'teu', 'tua', 'teus', 'tuas', 'nosso', 'nossa', 'nossos', 'nossas', 'dela', 'delas', 'esta', 'estes', 'estas', 'aquele', 'aquela', 'aqueles', 'aquelas', 'isto', 'aquilo', 'estou', 'está', 'estamos', 'estão', 'estive', 'esteve', 'estivemos', 'estiveram', 'estava', 'estávamos', 'estavam', 'estivera', 'estivéramos', 'esteja', 'estejamos', 'estejam', 'estivesse', 'estivéssemos', 'estivessem', 'estiver', 'estivermos', 'estiverem', 'hei', 'há', 'havemos', 'hão', 'houve', 'houvemos', 'houveram', 'houvera', 'houvéramos', 'haja', 'hajamos', 'hajam', 'houvesse', 'houvéssemos', 'houvessem', 'houver', 'houvermos', 'houverem', 'houverei', 'houverá', 'houveremos', 'houverão', 'houveria', 'houveríamos', 'houveriam', 'sou', 'somos', 'são', 'era', 'éramos', 'eram', 'fui', 'foi', 'fomos', 'foram', 'fora', 'fôramos', 'seja', 'sejamos', 'sejam', 'fosse', 'fôssemos', 'fossem', 'for', 'formos', 'forem', 'serei', 'será', 'seremos', 'serão', 'seria', 'seríamos', 'seriam', 'tenho', 'tem', 'temos', 'tém', 'tinha', 'tínhamos', 'tinham', 'tive', 'teve', 'tivemos', 'tiveram', 'tivera', 'tivéramos', 'tenha', 'tenhamos', 'tenham', 'tivesse', 'tivéssemos', 'tivessem', 'tiver', 'tivermos', 'tiverem', 'terei', 'terá', 'teremos', 'terão', 'teria', 'teríamos', 'teriam']\n"
     ]
    }
   ],
   "source": [
    "stops = stopwords.words('portuguese')\n",
    "print(stops)"
   ]
  },
  {
   "cell_type": "code",
   "execution_count": 15,
   "id": "b8535dbb-2661-48c5-bb82-044b3d48b38b",
   "metadata": {},
   "outputs": [
    {
     "name": "stdout",
     "output_type": "stream",
     "text": [
      "['i', 'me', 'my', 'myself', 'we', 'our', 'ours', 'ourselves', 'you', \"you're\", \"you've\", \"you'll\", \"you'd\", 'your', 'yours', 'yourself', 'yourselves', 'he', 'him', 'his', 'himself', 'she', \"she's\", 'her', 'hers', 'herself', 'it', \"it's\", 'its', 'itself', 'they', 'them', 'their', 'theirs', 'themselves', 'what', 'which', 'who', 'whom', 'this', 'that', \"that'll\", 'these', 'those', 'am', 'is', 'are', 'was', 'were', 'be', 'been', 'being', 'have', 'has', 'had', 'having', 'do', 'does', 'did', 'doing', 'a', 'an', 'the', 'and', 'but', 'if', 'or', 'because', 'as', 'until', 'while', 'of', 'at', 'by', 'for', 'with', 'about', 'against', 'between', 'into', 'through', 'during', 'before', 'after', 'above', 'below', 'to', 'from', 'up', 'down', 'in', 'out', 'on', 'off', 'over', 'under', 'again', 'further', 'then', 'once', 'here', 'there', 'when', 'where', 'why', 'how', 'all', 'any', 'both', 'each', 'few', 'more', 'most', 'other', 'some', 'such', 'no', 'nor', 'not', 'only', 'own', 'same', 'so', 'than', 'too', 'very', 's', 't', 'can', 'will', 'just', 'don', \"don't\", 'should', \"should've\", 'now', 'd', 'll', 'm', 'o', 're', 've', 'y', 'ain', 'aren', \"aren't\", 'couldn', \"couldn't\", 'didn', \"didn't\", 'doesn', \"doesn't\", 'hadn', \"hadn't\", 'hasn', \"hasn't\", 'haven', \"haven't\", 'isn', \"isn't\", 'ma', 'mightn', \"mightn't\", 'mustn', \"mustn't\", 'needn', \"needn't\", 'shan', \"shan't\", 'shouldn', \"shouldn't\", 'wasn', \"wasn't\", 'weren', \"weren't\", 'won', \"won't\", 'wouldn', \"wouldn't\"]\n"
     ]
    }
   ],
   "source": [
    "stops = stopwords.words('english')\n",
    "print(stops)"
   ]
  },
  {
   "cell_type": "markdown",
   "id": "b22b0da0-dd20-46fd-8748-17e87db2ef41",
   "metadata": {},
   "source": [
    "## Nuvens de palavras\n",
    "\n",
    "- Paleta de cores `ListedColormap`"
   ]
  },
  {
   "cell_type": "code",
   "execution_count": 19,
   "id": "58e4c31b-1027-4a84-8325-0371df2e0875",
   "metadata": {},
   "outputs": [],
   "source": [
    "cores = ListedColormap(['orange', 'green', 'red', 'blue', 'yellow'])"
   ]
  },
  {
   "cell_type": "code",
   "execution_count": 20,
   "id": "0a9a232f-0931-422f-a669-13fadc812e40",
   "metadata": {},
   "outputs": [
    {
     "data": {
      "text/plain": [
       "<matplotlib.image.AxesImage at 0x1a1c3282f40>"
      ]
     },
     "execution_count": 20,
     "metadata": {},
     "output_type": "execute_result"
    },
    {
     "data": {
      "image/png": "[encoded data removed]",
      "text/plain": [
       "<Figure size 432x288 with 1 Axes>"
      ]
     },
     "metadata": {
      "needs_background": "light"
     },
     "output_type": "display_data"
    }
   ],
   "source": [
    "nuvem = WordCloud(\n",
    "  background_color='white',\n",
    "    colormap=cores,\n",
    "    stopwords=stops,\n",
    "    max_words=100\n",
    ")\n",
    "\n",
    "nuvem.generate(textos)\n",
    "plt.imshow(nuvem)"
   ]
  },
  {
   "cell_type": "markdown",
   "id": "e2b3d428-e934-468b-ab06-445b157a1096",
   "metadata": {},
   "source": [
    "## Remoção de Stopwords"
   ]
  },
  {
   "cell_type": "code",
   "execution_count": 21,
   "id": "1566c6f0-a74f-4530-8bd1-f52cfb5e585f",
   "metadata": {},
   "outputs": [
    {
     "data": {
      "text/plain": [
       "555712"
      ]
     },
     "execution_count": 21,
     "metadata": {},
     "output_type": "execute_result"
    }
   ],
   "source": [
    "palavras_semstop = [p for p in palavras if p not in stops]\n",
    "len(palavras_semstop)"
   ]
  },
  {
   "cell_type": "markdown",
   "id": "4e6e86d2-6741-41f3-8910-3a65802b3b34",
   "metadata": {},
   "source": [
    "## Remoção de Pontuação"
   ]
  },
  {
   "cell_type": "code",
   "execution_count": 23,
   "id": "621461bc-9242-4fb2-81ca-d4685d5b6f03",
   "metadata": {},
   "outputs": [
    {
     "data": {
      "text/plain": [
       "492087"
      ]
     },
     "execution_count": 23,
     "metadata": {},
     "output_type": "execute_result"
    }
   ],
   "source": [
    "palavras_sem_pontuacao = [p for p in palavras_semstop if p not in string.punctuation]\n",
    "len(palavras_sem_pontuacao)"
   ]
  },
  {
   "cell_type": "markdown",
   "id": "7ae35153-641e-48c1-96d8-344f7ed8af5c",
   "metadata": {},
   "source": [
    "## Calcular a frequência das palavras"
   ]
  },
  {
   "cell_type": "code",
   "execution_count": 27,
   "id": "c2c30292-64ea-4c65-a18d-9ff1232e62d6",
   "metadata": {},
   "outputs": [
    {
     "data": {
      "text/plain": [
       "FreqDist({'¸': 3886, 'said': 3398, '3': 2836, '0': 2728, 'mln': 2724, '1': 2321, 'vs': 2201, 'J': 2145, 'dlrs': 1946, '000': 1641, ...})"
      ]
     },
     "execution_count": 27,
     "metadata": {},
     "output_type": "execute_result"
    }
   ],
   "source": [
    "freq = nltk.FreqDist(palavras_sem_pontuacao)\n",
    "freq"
   ]
  },
  {
   "cell_type": "markdown",
   "id": "2c13ddaa-601f-40e8-b634-c4e63cac0a83",
   "metadata": {},
   "source": [
    "## Palavras mais comuns"
   ]
  },
  {
   "cell_type": "code",
   "execution_count": 29,
   "id": "c196b7f5-4f03-4d3b-b793-865a00d2fef3",
   "metadata": {},
   "outputs": [
    {
     "name": "stdout",
     "output_type": "stream",
     "text": [
      "[('¸', 3886), ('said', 3398), ('3', 2836), ('0', 2728), ('mln', 2724), ('1', 2321), ('vs', 2201), ('J', 2145), ('dlrs', 1946), ('000', 1641), ('2', 1584), ('txtPK', 1558), ('&#', 1466), (\";',\", 1432), ('The', 1429), ('U', 1422), ('S', 1414), ('PK', 1397), ('cts', 1374), ('\\x00\\x00\\x00', 1318), ('4', 1296), ('lt', 1288), ('5', 1274), ('Reuter', 1214), ('\\x10', 1181), ('pct', 1147), ('6', 1117), ('\\x00', 1117), ('8', 1111), ('\\x0f', 1087), ('7', 1080), ('\\x14', 1072), ('\\x91', 1048), ('\\x08', 1041), ('\\x83', 1041), ('9', 1039), ('\\x03', 1039), ('\\x9e', 995), ('\\x92', 993), ('÷', 991), ('\\x06', 975), ('\\x05', 967), ('\\x8e', 963), ('¶', 962), ('\\x1b', 962), ('\\x90', 960), ('\\x93', 960), ('\\x18', 949), ('\\x94', 945), ('\\x07', 945), ('\\x8b', 942), ('\\x8d', 941), ('\\x9a', 936), ('±', 933), ('\\x0e', 929), ('ï', 924), ('A', 923), ('\\x1a', 922), ('\\x9d', 912), ('´', 911), ('\\x16', 910), ('\\x81', 910), ('»', 906), ('\\x82', 906), ('\\x9c', 898), ('\\x9b', 897), ('¤', 897), ('°', 886), ('£', 886), ('\\x02', 882), ('\\x19', 880), ('year', 878), ('\\x96', 878), ('\\x8f', 877), ('\\x8a', 877), ('¬', 871), ('\\x01', 869), ('\\x89', 866), ('®', 864), ('\\x17', 864), ('¡', 859), ('¨', 859), ('\\x84', 859), ('·', 857), ('\\x87', 857), ('\\xad', 852), ('\\x99', 849), ('\\x7f', 847), ('«', 844), ('¢', 844), ('©', 841), ('×', 834), ('\\x95', 829), ('¦', 827), ('§', 826), ('\\x04', 823), ('¥', 821), ('\\x13', 818), ('V', 815), ('\\x86', 810)]\n"
     ]
    }
   ],
   "source": [
    "comuns = freq.most_common(100)\n",
    "print(comuns)"
   ]
  },
  {
   "cell_type": "code",
   "execution_count": null,
   "id": "805ad45c-8483-4439-a3c8-8acfc2236908",
   "metadata": {},
   "outputs": [],
   "source": []
  },
  {
   "cell_type": "code",
   "execution_count": null,
   "id": "71d8509b-5f04-4a50-bd32-f6492900eb01",
   "metadata": {},
   "outputs": [],
   "source": []
  }
 ],
 "metadata": {
  "kernelspec": {
   "display_name": "Python 3",
   "language": "python",
   "name": "python3"
  },
  "language_info": {
   "codemirror_mode": {
    "name": "ipython",
    "version": 3
   },
   "file_extension": ".py",
   "mimetype": "text/x-python",
   "name": "python",
   "nbconvert_exporter": "python",
   "pygments_lexer": "ipython3",
   "version": "3.8.8"
  }
 },
 "nbformat": 4,
 "nbformat_minor": 5
}
