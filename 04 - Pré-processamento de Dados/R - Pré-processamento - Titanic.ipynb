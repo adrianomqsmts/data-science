{
 "cells": [
  {
   "cell_type": "markdown",
   "id": "bc8ec9c4-f810-48b2-9ed2-18f2a8da9f4d",
   "metadata": {},
   "source": [
    "# Titanic\n",
    "\n",
    "## Conteúdo \n",
    "\n",
    "- **Survived**: Indica se o passageiro sobreviveu ao desastre. É atribuído o valor de 0 para aqueles que não sobreviveram, e 1 para quem sobreviveu;\n",
    "- **Pclass**: Classe na qual o passageiro viajou. É informado 1 para primeira classe; 2 para segunda; e 3 para terceira;\n",
    "- **Name**: Nome do passageiro;\n",
    "- **Sex**: Sexo do passageiro;\n",
    "- **Age**: Idade do passageiro em anos;\n",
    "- **SibSp**: Quantidade de irmãos e cônjuges a bordo ;\n",
    "- **Parch**: Quantidade de pais e filhos a bordo;\n",
    "- **Ticket**: Número da passagem;\n",
    "- **Fare**: Preço da passagem;\n",
    "- **Cabin**: Número da cabine do passageiro;\n",
    "- **Embarked**: Indica o porto no qual o passageiro embarcou. Há apenas três valores possíveis: Cherbourg, Queenstown e Southampton, indicados pelas letras “C”, “Q” e “S”, respectivamente."
   ]
  },
  {
   "cell_type": "markdown",
   "id": "8d845561-b303-4ebe-a54d-a1bb9c55a6e0",
   "metadata": {},
   "source": [
    "## Carregando as bibliotecas"
   ]
  },
  {
   "cell_type": "code",
   "execution_count": 1,
   "id": "69076d9d-d0dc-4b77-9d40-927d77d9d53b",
   "metadata": {},
   "outputs": [],
   "source": [
    "library(repr)\n",
    "options(repr.plot.width = 4, repr.plot.height = 4)"
   ]
  },
  {
   "cell_type": "markdown",
   "id": "12dd9471-47e4-4c7e-b324-fa0fb8c3cedb",
   "metadata": {},
   "source": [
    "## Carregando o DataFrame "
   ]
  },
  {
   "cell_type": "code",
   "execution_count": 157,
   "id": "72563ff6-75d5-4e62-aaa8-59b35e608538",
   "metadata": {},
   "outputs": [
    {
     "data": {
      "text/html": [
       "<table>\n",
       "<thead><tr><th scope=col>PassengerId</th><th scope=col>Survived</th><th scope=col>Pclass</th><th scope=col>Name</th><th scope=col>Sex</th><th scope=col>Age</th><th scope=col>SibSp</th><th scope=col>Parch</th><th scope=col>Ticket</th><th scope=col>Fare</th><th scope=col>Cabin</th><th scope=col>Embarked</th></tr></thead>\n",
       "<tbody>\n",
       "\t<tr><td>1                                                  </td><td>0                                                  </td><td>3                                                  </td><td>Braund, Mr. Owen Harris                            </td><td>male                                               </td><td>22                                                 </td><td>1                                                  </td><td>0                                                  </td><td>A/5 21171                                          </td><td> 7.2500                                            </td><td>NA                                                 </td><td>S                                                  </td></tr>\n",
       "\t<tr><td>2                                                  </td><td>1                                                  </td><td>1                                                  </td><td>Cumings, Mrs. John Bradley (Florence Briggs Thayer)</td><td>female                                             </td><td>38                                                 </td><td>1                                                  </td><td>0                                                  </td><td>PC 17599                                           </td><td>71.2833                                            </td><td>C85                                                </td><td>C                                                  </td></tr>\n",
       "\t<tr><td>3                                                  </td><td>1                                                  </td><td>3                                                  </td><td>Heikkinen, Miss. Laina                             </td><td>female                                             </td><td>26                                                 </td><td>0                                                  </td><td>0                                                  </td><td>STON/O2. 3101282                                   </td><td> 7.9250                                            </td><td>NA                                                 </td><td>S                                                  </td></tr>\n",
       "\t<tr><td>4                                                  </td><td>1                                                  </td><td>1                                                  </td><td>Futrelle, Mrs. Jacques Heath (Lily May Peel)       </td><td>female                                             </td><td>35                                                 </td><td>1                                                  </td><td>0                                                  </td><td>113803                                             </td><td>53.1000                                            </td><td>C123                                               </td><td>S                                                  </td></tr>\n",
       "\t<tr><td>5                                                  </td><td>0                                                  </td><td>3                                                  </td><td>Allen, Mr. William Henry                           </td><td>male                                               </td><td>35                                                 </td><td>0                                                  </td><td>0                                                  </td><td>373450                                             </td><td> 8.0500                                            </td><td>NA                                                 </td><td>S                                                  </td></tr>\n",
       "\t<tr><td>6                                                  </td><td>0                                                  </td><td>3                                                  </td><td>Moran, Mr. James                                   </td><td>male                                               </td><td>NA                                                 </td><td>0                                                  </td><td>0                                                  </td><td>330877                                             </td><td> 8.4583                                            </td><td>NA                                                 </td><td>Q                                                  </td></tr>\n",
       "</tbody>\n",
       "</table>\n"
      ],
      "text/latex": [
       "\\begin{tabular}{r|llllllllllll}\n",
       " PassengerId & Survived & Pclass & Name & Sex & Age & SibSp & Parch & Ticket & Fare & Cabin & Embarked\\\\\n",
       "\\hline\n",
       "\t 1                                                   & 0                                                   & 3                                                   & Braund, Mr. Owen Harris                             & male                                                & 22                                                  & 1                                                   & 0                                                   & A/5 21171                                           &  7.2500                                             & NA                                                  & S                                                  \\\\\n",
       "\t 2                                                   & 1                                                   & 1                                                   & Cumings, Mrs. John Bradley (Florence Briggs Thayer) & female                                              & 38                                                  & 1                                                   & 0                                                   & PC 17599                                            & 71.2833                                             & C85                                                 & C                                                  \\\\\n",
       "\t 3                                                   & 1                                                   & 3                                                   & Heikkinen, Miss. Laina                              & female                                              & 26                                                  & 0                                                   & 0                                                   & STON/O2. 3101282                                    &  7.9250                                             & NA                                                  & S                                                  \\\\\n",
       "\t 4                                                   & 1                                                   & 1                                                   & Futrelle, Mrs. Jacques Heath (Lily May Peel)        & female                                              & 35                                                  & 1                                                   & 0                                                   & 113803                                              & 53.1000                                             & C123                                                & S                                                  \\\\\n",
       "\t 5                                                   & 0                                                   & 3                                                   & Allen, Mr. William Henry                            & male                                                & 35                                                  & 0                                                   & 0                                                   & 373450                                              &  8.0500                                             & NA                                                  & S                                                  \\\\\n",
       "\t 6                                                   & 0                                                   & 3                                                   & Moran, Mr. James                                    & male                                                & NA                                                  & 0                                                   & 0                                                   & 330877                                              &  8.4583                                             & NA                                                  & Q                                                  \\\\\n",
       "\\end{tabular}\n"
      ],
      "text/markdown": [
       "\n",
       "| PassengerId | Survived | Pclass | Name | Sex | Age | SibSp | Parch | Ticket | Fare | Cabin | Embarked |\n",
       "|---|---|---|---|---|---|---|---|---|---|---|---|\n",
       "| 1                                                   | 0                                                   | 3                                                   | Braund, Mr. Owen Harris                             | male                                                | 22                                                  | 1                                                   | 0                                                   | A/5 21171                                           |  7.2500                                             | NA                                                  | S                                                   |\n",
       "| 2                                                   | 1                                                   | 1                                                   | Cumings, Mrs. John Bradley (Florence Briggs Thayer) | female                                              | 38                                                  | 1                                                   | 0                                                   | PC 17599                                            | 71.2833                                             | C85                                                 | C                                                   |\n",
       "| 3                                                   | 1                                                   | 3                                                   | Heikkinen, Miss. Laina                              | female                                              | 26                                                  | 0                                                   | 0                                                   | STON/O2. 3101282                                    |  7.9250                                             | NA                                                  | S                                                   |\n",
       "| 4                                                   | 1                                                   | 1                                                   | Futrelle, Mrs. Jacques Heath (Lily May Peel)        | female                                              | 35                                                  | 1                                                   | 0                                                   | 113803                                              | 53.1000                                             | C123                                                | S                                                   |\n",
       "| 5                                                   | 0                                                   | 3                                                   | Allen, Mr. William Henry                            | male                                                | 35                                                  | 0                                                   | 0                                                   | 373450                                              |  8.0500                                             | NA                                                  | S                                                   |\n",
       "| 6                                                   | 0                                                   | 3                                                   | Moran, Mr. James                                    | male                                                | NA                                                  | 0                                                   | 0                                                   | 330877                                              |  8.4583                                             | NA                                                  | Q                                                   |\n",
       "\n"
      ],
      "text/plain": [
       "  PassengerId Survived Pclass\n",
       "1 1           0        3     \n",
       "2 2           1        1     \n",
       "3 3           1        3     \n",
       "4 4           1        1     \n",
       "5 5           0        3     \n",
       "6 6           0        3     \n",
       "  Name                                                Sex    Age SibSp Parch\n",
       "1 Braund, Mr. Owen Harris                             male   22  1     0    \n",
       "2 Cumings, Mrs. John Bradley (Florence Briggs Thayer) female 38  1     0    \n",
       "3 Heikkinen, Miss. Laina                              female 26  0     0    \n",
       "4 Futrelle, Mrs. Jacques Heath (Lily May Peel)        female 35  1     0    \n",
       "5 Allen, Mr. William Henry                            male   35  0     0    \n",
       "6 Moran, Mr. James                                    male   NA  0     0    \n",
       "  Ticket           Fare    Cabin Embarked\n",
       "1 A/5 21171         7.2500 NA    S       \n",
       "2 PC 17599         71.2833 C85   C       \n",
       "3 STON/O2. 3101282  7.9250 NA    S       \n",
       "4 113803           53.1000 C123  S       \n",
       "5 373450            8.0500 NA    S       \n",
       "6 330877            8.4583 NA    Q       "
      ]
     },
     "metadata": {},
     "output_type": "display_data"
    }
   ],
   "source": [
    "df = read.csv(\"../datasets/titanic/train.csv\", na.strings = '')\n",
    "head(df)"
   ]
  },
  {
   "cell_type": "markdown",
   "id": "30561da2-6788-464d-97f9-c1e9ff5f741e",
   "metadata": {},
   "source": [
    "# Processamento das Variáveis"
   ]
  },
  {
   "cell_type": "markdown",
   "id": "46755155-4f71-4146-af62-9a83159f4625",
   "metadata": {},
   "source": [
    "## Nomes - Extração dos Pronomes de Tratamento\n",
    "\n",
    "- Senhor: Sir/ Mr / Don / Jonkheer.\n",
    "- Senhora casada: Madam/ Mrs / Ms / Mme (em frânces) / Countess (condessa).\n",
    "- Mulher solteira/sehorita/menina: Miss, Mlle (mademoiselle).\n",
    "- Meninos (formalmente): Master\n",
    "- Doutor: Dr\n",
    "- Reverendo: Rev\n",
    "- Capitão: capt\n",
    "- Major: Major\n",
    "- Col: Coronel"
   ]
  },
  {
   "cell_type": "code",
   "execution_count": 158,
   "id": "fa49fe9a-84ea-4cb2-bf42-6ec7161adc63",
   "metadata": {},
   "outputs": [
    {
     "data": {
      "text/html": [
       "<ol class=list-inline>\n",
       "\t<li>'Mr'</li>\n",
       "\t<li>'Mrs'</li>\n",
       "\t<li>'Miss'</li>\n",
       "\t<li>'Master'</li>\n",
       "\t<li>'Dr'</li>\n",
       "\t<li>'Rev'</li>\n",
       "\t<li>'Tripulacao'</li>\n",
       "</ol>\n"
      ],
      "text/latex": [
       "\\begin{enumerate*}\n",
       "\\item 'Mr'\n",
       "\\item 'Mrs'\n",
       "\\item 'Miss'\n",
       "\\item 'Master'\n",
       "\\item 'Dr'\n",
       "\\item 'Rev'\n",
       "\\item 'Tripulacao'\n",
       "\\end{enumerate*}\n"
      ],
      "text/markdown": [
       "1. 'Mr'\n",
       "2. 'Mrs'\n",
       "3. 'Miss'\n",
       "4. 'Master'\n",
       "5. 'Dr'\n",
       "6. 'Rev'\n",
       "7. 'Tripulacao'\n",
       "\n",
       "\n"
      ],
      "text/plain": [
       "[1] \"Mr\"         \"Mrs\"        \"Miss\"       \"Master\"     \"Dr\"        \n",
       "[6] \"Rev\"        \"Tripulacao\""
      ]
     },
     "metadata": {},
     "output_type": "display_data"
    }
   ],
   "source": [
    "df$Name <- ifelse(grepl(\", Mr. \", df$Name), 'Mr', as.character(df$Name))\n",
    "df$Name <- ifelse(grepl(\"Capt\", df$Name), 'Tripulacao', as.character(df$Name))\n",
    "df$Name <- ifelse(grepl(\"Don\", df$Name), 'Mr', as.character(df$Name))\n",
    "df$Name <- ifelse(grepl(\"Major\", df$Name), 'Tripulacao', as.character(df$Name))\n",
    "df$Name <- ifelse(grepl(\"Col\", df$Name), 'Tripulacao', as.character(df$Name))\n",
    "df$Name <- ifelse(grepl(\"Dr\", df$Name), 'Dr', as.character(df$Name))\n",
    "df$Name <- ifelse(grepl(\"Rev\", df$Name), 'Rev', as.character(df$Name))\n",
    "df$Name <- ifelse(grepl(\"Sir\", df$Name), 'Mr', as.character(df$Name))\n",
    "df$Name <- ifelse(grepl(\"Jonkheer\", df$Name), 'Mr', as.character(df$Name))\n",
    "df$Name <- ifelse(grepl(\"Dona\", df$Name), 'Mrs', as.character(df$Name))\n",
    "df$Name <- ifelse(grepl(\"Countess\", df$Name), 'Mrs', as.character(df$Name))\n",
    "df$Name <- ifelse(grepl(\"Mme\", df$Name), 'Mrs', as.character(df$Name))\n",
    "df$Name <- ifelse(grepl(\"Lady\", df$Name), 'Mrs', as.character(df$Name))\n",
    "df$Name <- ifelse(grepl(\"Mrs\", df$Name), 'Mrs', as.character(df$Name))\n",
    "df$Name <- ifelse(grepl(\"Mlle\", df$Name), 'Miss', as.character(df$Name))\n",
    "df$Name <- ifelse(grepl(\"Ms\", df$Name), 'Miss', as.character(df$Name))\n",
    "df$Name <- ifelse(grepl(\"Miss\", df$Name), 'Miss', as.character(df$Name))\n",
    "df$Name <- ifelse(grepl(\"Master\", df$Name), 'Master', as.character(df$Name))\n",
    "\n",
    "unique(df$Name)"
   ]
  },
  {
   "cell_type": "markdown",
   "id": "141ec2b1-550d-4fbf-ad83-9a8dafb4a084",
   "metadata": {},
   "source": [
    "## Name - Categório para Numérico"
   ]
  },
  {
   "cell_type": "code",
   "execution_count": 159,
   "id": "13723ac2-e0b4-444d-a6e5-f7881f0512e0",
   "metadata": {},
   "outputs": [
    {
     "data": {
      "text/html": [
       "<table>\n",
       "<thead><tr><th scope=col>PassengerId</th><th scope=col>Survived</th><th scope=col>Pclass</th><th scope=col>Name</th><th scope=col>Sex</th><th scope=col>Age</th><th scope=col>SibSp</th><th scope=col>Parch</th><th scope=col>Ticket</th><th scope=col>Fare</th><th scope=col>Cabin</th><th scope=col>Embarked</th></tr></thead>\n",
       "<tbody>\n",
       "\t<tr><td>1               </td><td>0               </td><td>3               </td><td>1               </td><td>male            </td><td>22              </td><td>1               </td><td>0               </td><td>A/5 21171       </td><td> 7.2500         </td><td>NA              </td><td>S               </td></tr>\n",
       "\t<tr><td>2               </td><td>1               </td><td>1               </td><td>2               </td><td>female          </td><td>38              </td><td>1               </td><td>0               </td><td>PC 17599        </td><td>71.2833         </td><td>C85             </td><td>C               </td></tr>\n",
       "\t<tr><td>3               </td><td>1               </td><td>3               </td><td>3               </td><td>female          </td><td>26              </td><td>0               </td><td>0               </td><td>STON/O2. 3101282</td><td> 7.9250         </td><td>NA              </td><td>S               </td></tr>\n",
       "\t<tr><td>4               </td><td>1               </td><td>1               </td><td>2               </td><td>female          </td><td>35              </td><td>1               </td><td>0               </td><td>113803          </td><td>53.1000         </td><td>C123            </td><td>S               </td></tr>\n",
       "\t<tr><td>5               </td><td>0               </td><td>3               </td><td>1               </td><td>male            </td><td>35              </td><td>0               </td><td>0               </td><td>373450          </td><td> 8.0500         </td><td>NA              </td><td>S               </td></tr>\n",
       "\t<tr><td>6               </td><td>0               </td><td>3               </td><td>1               </td><td>male            </td><td>NA              </td><td>0               </td><td>0               </td><td>330877          </td><td> 8.4583         </td><td>NA              </td><td>Q               </td></tr>\n",
       "</tbody>\n",
       "</table>\n"
      ],
      "text/latex": [
       "\\begin{tabular}{r|llllllllllll}\n",
       " PassengerId & Survived & Pclass & Name & Sex & Age & SibSp & Parch & Ticket & Fare & Cabin & Embarked\\\\\n",
       "\\hline\n",
       "\t 1                & 0                & 3                & 1                & male             & 22               & 1                & 0                & A/5 21171        &  7.2500          & NA               & S               \\\\\n",
       "\t 2                & 1                & 1                & 2                & female           & 38               & 1                & 0                & PC 17599         & 71.2833          & C85              & C               \\\\\n",
       "\t 3                & 1                & 3                & 3                & female           & 26               & 0                & 0                & STON/O2. 3101282 &  7.9250          & NA               & S               \\\\\n",
       "\t 4                & 1                & 1                & 2                & female           & 35               & 1                & 0                & 113803           & 53.1000          & C123             & S               \\\\\n",
       "\t 5                & 0                & 3                & 1                & male             & 35               & 0                & 0                & 373450           &  8.0500          & NA               & S               \\\\\n",
       "\t 6                & 0                & 3                & 1                & male             & NA               & 0                & 0                & 330877           &  8.4583          & NA               & Q               \\\\\n",
       "\\end{tabular}\n"
      ],
      "text/markdown": [
       "\n",
       "| PassengerId | Survived | Pclass | Name | Sex | Age | SibSp | Parch | Ticket | Fare | Cabin | Embarked |\n",
       "|---|---|---|---|---|---|---|---|---|---|---|---|\n",
       "| 1                | 0                | 3                | 1                | male             | 22               | 1                | 0                | A/5 21171        |  7.2500          | NA               | S                |\n",
       "| 2                | 1                | 1                | 2                | female           | 38               | 1                | 0                | PC 17599         | 71.2833          | C85              | C                |\n",
       "| 3                | 1                | 3                | 3                | female           | 26               | 0                | 0                | STON/O2. 3101282 |  7.9250          | NA               | S                |\n",
       "| 4                | 1                | 1                | 2                | female           | 35               | 1                | 0                | 113803           | 53.1000          | C123             | S                |\n",
       "| 5                | 0                | 3                | 1                | male             | 35               | 0                | 0                | 373450           |  8.0500          | NA               | S                |\n",
       "| 6                | 0                | 3                | 1                | male             | NA               | 0                | 0                | 330877           |  8.4583          | NA               | Q                |\n",
       "\n"
      ],
      "text/plain": [
       "  PassengerId Survived Pclass Name Sex    Age SibSp Parch Ticket          \n",
       "1 1           0        3      1    male   22  1     0     A/5 21171       \n",
       "2 2           1        1      2    female 38  1     0     PC 17599        \n",
       "3 3           1        3      3    female 26  0     0     STON/O2. 3101282\n",
       "4 4           1        1      2    female 35  1     0     113803          \n",
       "5 5           0        3      1    male   35  0     0     373450          \n",
       "6 6           0        3      1    male   NA  0     0     330877          \n",
       "  Fare    Cabin Embarked\n",
       "1  7.2500 NA    S       \n",
       "2 71.2833 C85   C       \n",
       "3  7.9250 NA    S       \n",
       "4 53.1000 C123  S       \n",
       "5  8.0500 NA    S       \n",
       "6  8.4583 NA    Q       "
      ]
     },
     "metadata": {},
     "output_type": "display_data"
    }
   ],
   "source": [
    "df$Name = factor(df$Name, levels = unique(df$Name), labels = 1:7)\n",
    "head(df)"
   ]
  },
  {
   "cell_type": "markdown",
   "id": "51b0d588-9322-4fc7-a686-ac0c532d6e21",
   "metadata": {},
   "source": [
    "## Age - Substituir Valores Ausentes\n",
    "\n",
    "- 177 idade inválidas"
   ]
  },
  {
   "cell_type": "code",
   "execution_count": 160,
   "id": "b07a18b8-da9c-4184-a716-6384f2c05c46",
   "metadata": {},
   "outputs": [
    {
     "data": {
      "text/html": [
       "<table>\n",
       "<thead><tr><th scope=col>PassengerId</th><th scope=col>Survived</th><th scope=col>Pclass</th><th scope=col>Name</th><th scope=col>Sex</th><th scope=col>Age</th><th scope=col>SibSp</th><th scope=col>Parch</th><th scope=col>Ticket</th><th scope=col>Fare</th><th scope=col>Cabin</th><th scope=col>Embarked</th></tr></thead>\n",
       "<tbody>\n",
       "\t<tr><td>1               </td><td>0               </td><td>3               </td><td>1               </td><td>male            </td><td>22.00000        </td><td>1               </td><td>0               </td><td>A/5 21171       </td><td> 7.2500         </td><td>NA              </td><td>S               </td></tr>\n",
       "\t<tr><td>2               </td><td>1               </td><td>1               </td><td>2               </td><td>female          </td><td>38.00000        </td><td>1               </td><td>0               </td><td>PC 17599        </td><td>71.2833         </td><td>C85             </td><td>C               </td></tr>\n",
       "\t<tr><td>3               </td><td>1               </td><td>3               </td><td>3               </td><td>female          </td><td>26.00000        </td><td>0               </td><td>0               </td><td>STON/O2. 3101282</td><td> 7.9250         </td><td>NA              </td><td>S               </td></tr>\n",
       "\t<tr><td>4               </td><td>1               </td><td>1               </td><td>2               </td><td>female          </td><td>35.00000        </td><td>1               </td><td>0               </td><td>113803          </td><td>53.1000         </td><td>C123            </td><td>S               </td></tr>\n",
       "\t<tr><td>5               </td><td>0               </td><td>3               </td><td>1               </td><td>male            </td><td>35.00000        </td><td>0               </td><td>0               </td><td>373450          </td><td> 8.0500         </td><td>NA              </td><td>S               </td></tr>\n",
       "\t<tr><td>6               </td><td>0               </td><td>3               </td><td>1               </td><td>male            </td><td>29.69912        </td><td>0               </td><td>0               </td><td>330877          </td><td> 8.4583         </td><td>NA              </td><td>Q               </td></tr>\n",
       "</tbody>\n",
       "</table>\n"
      ],
      "text/latex": [
       "\\begin{tabular}{r|llllllllllll}\n",
       " PassengerId & Survived & Pclass & Name & Sex & Age & SibSp & Parch & Ticket & Fare & Cabin & Embarked\\\\\n",
       "\\hline\n",
       "\t 1                & 0                & 3                & 1                & male             & 22.00000         & 1                & 0                & A/5 21171        &  7.2500          & NA               & S               \\\\\n",
       "\t 2                & 1                & 1                & 2                & female           & 38.00000         & 1                & 0                & PC 17599         & 71.2833          & C85              & C               \\\\\n",
       "\t 3                & 1                & 3                & 3                & female           & 26.00000         & 0                & 0                & STON/O2. 3101282 &  7.9250          & NA               & S               \\\\\n",
       "\t 4                & 1                & 1                & 2                & female           & 35.00000         & 1                & 0                & 113803           & 53.1000          & C123             & S               \\\\\n",
       "\t 5                & 0                & 3                & 1                & male             & 35.00000         & 0                & 0                & 373450           &  8.0500          & NA               & S               \\\\\n",
       "\t 6                & 0                & 3                & 1                & male             & 29.69912         & 0                & 0                & 330877           &  8.4583          & NA               & Q               \\\\\n",
       "\\end{tabular}\n"
      ],
      "text/markdown": [
       "\n",
       "| PassengerId | Survived | Pclass | Name | Sex | Age | SibSp | Parch | Ticket | Fare | Cabin | Embarked |\n",
       "|---|---|---|---|---|---|---|---|---|---|---|---|\n",
       "| 1                | 0                | 3                | 1                | male             | 22.00000         | 1                | 0                | A/5 21171        |  7.2500          | NA               | S                |\n",
       "| 2                | 1                | 1                | 2                | female           | 38.00000         | 1                | 0                | PC 17599         | 71.2833          | C85              | C                |\n",
       "| 3                | 1                | 3                | 3                | female           | 26.00000         | 0                | 0                | STON/O2. 3101282 |  7.9250          | NA               | S                |\n",
       "| 4                | 1                | 1                | 2                | female           | 35.00000         | 1                | 0                | 113803           | 53.1000          | C123             | S                |\n",
       "| 5                | 0                | 3                | 1                | male             | 35.00000         | 0                | 0                | 373450           |  8.0500          | NA               | S                |\n",
       "| 6                | 0                | 3                | 1                | male             | 29.69912         | 0                | 0                | 330877           |  8.4583          | NA               | Q                |\n",
       "\n"
      ],
      "text/plain": [
       "  PassengerId Survived Pclass Name Sex    Age      SibSp Parch Ticket          \n",
       "1 1           0        3      1    male   22.00000 1     0     A/5 21171       \n",
       "2 2           1        1      2    female 38.00000 1     0     PC 17599        \n",
       "3 3           1        3      3    female 26.00000 0     0     STON/O2. 3101282\n",
       "4 4           1        1      2    female 35.00000 1     0     113803          \n",
       "5 5           0        3      1    male   35.00000 0     0     373450          \n",
       "6 6           0        3      1    male   29.69912 0     0     330877          \n",
       "  Fare    Cabin Embarked\n",
       "1  7.2500 NA    S       \n",
       "2 71.2833 C85   C       \n",
       "3  7.9250 NA    S       \n",
       "4 53.1000 C123  S       \n",
       "5  8.0500 NA    S       \n",
       "6  8.4583 NA    Q       "
      ]
     },
     "metadata": {},
     "output_type": "display_data"
    },
    {
     "data": {
      "text/html": [
       "0"
      ],
      "text/latex": [
       "0"
      ],
      "text/markdown": [
       "0"
      ],
      "text/plain": [
       "[1] 0"
      ]
     },
     "metadata": {},
     "output_type": "display_data"
    }
   ],
   "source": [
    "media = mean(df$Age, na.rm = TRUE)\n",
    "df$Age = ifelse(is.na(df$Age), media, df$Age)\n",
    "head(df)\n",
    "\n",
    "sum(is.na(df$Age))"
   ]
  },
  {
   "cell_type": "markdown",
   "id": "020ac08a-3fab-428b-8aac-a0c76cc74c20",
   "metadata": {},
   "source": [
    "## Embarked - Substituir Valores Nulos pela Moda"
   ]
  },
  {
   "cell_type": "code",
   "execution_count": 161,
   "id": "c33b8224-6989-42c6-9aac-2b93ba592667",
   "metadata": {},
   "outputs": [
    {
     "data": {
      "text/html": [
       "<table>\n",
       "<thead><tr><th scope=col>PassengerId</th><th scope=col>Survived</th><th scope=col>Pclass</th><th scope=col>Name</th><th scope=col>Sex</th><th scope=col>Age</th><th scope=col>SibSp</th><th scope=col>Parch</th><th scope=col>Ticket</th><th scope=col>Fare</th><th scope=col>Cabin</th><th scope=col>Embarked</th></tr></thead>\n",
       "<tbody>\n",
       "\t<tr><td>1               </td><td>0               </td><td>3               </td><td>1               </td><td>male            </td><td>22.00000        </td><td>1               </td><td>0               </td><td>A/5 21171       </td><td> 7.2500         </td><td>NA              </td><td>S               </td></tr>\n",
       "\t<tr><td>2               </td><td>1               </td><td>1               </td><td>2               </td><td>female          </td><td>38.00000        </td><td>1               </td><td>0               </td><td>PC 17599        </td><td>71.2833         </td><td>C85             </td><td>C               </td></tr>\n",
       "\t<tr><td>3               </td><td>1               </td><td>3               </td><td>3               </td><td>female          </td><td>26.00000        </td><td>0               </td><td>0               </td><td>STON/O2. 3101282</td><td> 7.9250         </td><td>NA              </td><td>S               </td></tr>\n",
       "\t<tr><td>4               </td><td>1               </td><td>1               </td><td>2               </td><td>female          </td><td>35.00000        </td><td>1               </td><td>0               </td><td>113803          </td><td>53.1000         </td><td>C123            </td><td>S               </td></tr>\n",
       "\t<tr><td>5               </td><td>0               </td><td>3               </td><td>1               </td><td>male            </td><td>35.00000        </td><td>0               </td><td>0               </td><td>373450          </td><td> 8.0500         </td><td>NA              </td><td>S               </td></tr>\n",
       "\t<tr><td>6               </td><td>0               </td><td>3               </td><td>1               </td><td>male            </td><td>29.69912        </td><td>0               </td><td>0               </td><td>330877          </td><td> 8.4583         </td><td>NA              </td><td>Q               </td></tr>\n",
       "</tbody>\n",
       "</table>\n"
      ],
      "text/latex": [
       "\\begin{tabular}{r|llllllllllll}\n",
       " PassengerId & Survived & Pclass & Name & Sex & Age & SibSp & Parch & Ticket & Fare & Cabin & Embarked\\\\\n",
       "\\hline\n",
       "\t 1                & 0                & 3                & 1                & male             & 22.00000         & 1                & 0                & A/5 21171        &  7.2500          & NA               & S               \\\\\n",
       "\t 2                & 1                & 1                & 2                & female           & 38.00000         & 1                & 0                & PC 17599         & 71.2833          & C85              & C               \\\\\n",
       "\t 3                & 1                & 3                & 3                & female           & 26.00000         & 0                & 0                & STON/O2. 3101282 &  7.9250          & NA               & S               \\\\\n",
       "\t 4                & 1                & 1                & 2                & female           & 35.00000         & 1                & 0                & 113803           & 53.1000          & C123             & S               \\\\\n",
       "\t 5                & 0                & 3                & 1                & male             & 35.00000         & 0                & 0                & 373450           &  8.0500          & NA               & S               \\\\\n",
       "\t 6                & 0                & 3                & 1                & male             & 29.69912         & 0                & 0                & 330877           &  8.4583          & NA               & Q               \\\\\n",
       "\\end{tabular}\n"
      ],
      "text/markdown": [
       "\n",
       "| PassengerId | Survived | Pclass | Name | Sex | Age | SibSp | Parch | Ticket | Fare | Cabin | Embarked |\n",
       "|---|---|---|---|---|---|---|---|---|---|---|---|\n",
       "| 1                | 0                | 3                | 1                | male             | 22.00000         | 1                | 0                | A/5 21171        |  7.2500          | NA               | S                |\n",
       "| 2                | 1                | 1                | 2                | female           | 38.00000         | 1                | 0                | PC 17599         | 71.2833          | C85              | C                |\n",
       "| 3                | 1                | 3                | 3                | female           | 26.00000         | 0                | 0                | STON/O2. 3101282 |  7.9250          | NA               | S                |\n",
       "| 4                | 1                | 1                | 2                | female           | 35.00000         | 1                | 0                | 113803           | 53.1000          | C123             | S                |\n",
       "| 5                | 0                | 3                | 1                | male             | 35.00000         | 0                | 0                | 373450           |  8.0500          | NA               | S                |\n",
       "| 6                | 0                | 3                | 1                | male             | 29.69912         | 0                | 0                | 330877           |  8.4583          | NA               | Q                |\n",
       "\n"
      ],
      "text/plain": [
       "  PassengerId Survived Pclass Name Sex    Age      SibSp Parch Ticket          \n",
       "1 1           0        3      1    male   22.00000 1     0     A/5 21171       \n",
       "2 2           1        1      2    female 38.00000 1     0     PC 17599        \n",
       "3 3           1        3      3    female 26.00000 0     0     STON/O2. 3101282\n",
       "4 4           1        1      2    female 35.00000 1     0     113803          \n",
       "5 5           0        3      1    male   35.00000 0     0     373450          \n",
       "6 6           0        3      1    male   29.69912 0     0     330877          \n",
       "  Fare    Cabin Embarked\n",
       "1  7.2500 NA    S       \n",
       "2 71.2833 C85   C       \n",
       "3  7.9250 NA    S       \n",
       "4 53.1000 C123  S       \n",
       "5  8.0500 NA    S       \n",
       "6  8.4583 NA    Q       "
      ]
     },
     "metadata": {},
     "output_type": "display_data"
    },
    {
     "data": {
      "text/html": [
       "0"
      ],
      "text/latex": [
       "0"
      ],
      "text/markdown": [
       "0"
      ],
      "text/plain": [
       "[1] 0"
      ]
     },
     "metadata": {},
     "output_type": "display_data"
    }
   ],
   "source": [
    "t = table(df$Embarked)\n",
    "moda = names(t[t == max(t)])\n",
    "\n",
    "df$Embarked <- ifelse(is.na(df$Embarked), as.character(moda), as.character(df$Embarked) )\n",
    "\n",
    "head(df)\n",
    "sum(is.null(df$Embarked))"
   ]
  },
  {
   "cell_type": "markdown",
   "id": "f335f1a6-9b3d-4058-b064-1838bc16c989",
   "metadata": {},
   "source": [
    "## Sex - Categórico para Numérico"
   ]
  },
  {
   "cell_type": "code",
   "execution_count": 162,
   "id": "005c4f28-e387-4c95-b1fe-ed113442b724",
   "metadata": {},
   "outputs": [
    {
     "data": {
      "text/html": [
       "<table>\n",
       "<thead><tr><th scope=col>PassengerId</th><th scope=col>Survived</th><th scope=col>Pclass</th><th scope=col>Name</th><th scope=col>Sex</th><th scope=col>Age</th><th scope=col>SibSp</th><th scope=col>Parch</th><th scope=col>Ticket</th><th scope=col>Fare</th><th scope=col>Cabin</th><th scope=col>Embarked</th></tr></thead>\n",
       "<tbody>\n",
       "\t<tr><td>1               </td><td>0               </td><td>3               </td><td>1               </td><td>0               </td><td>22.00000        </td><td>1               </td><td>0               </td><td>A/5 21171       </td><td> 7.2500         </td><td>NA              </td><td>S               </td></tr>\n",
       "\t<tr><td>2               </td><td>1               </td><td>1               </td><td>2               </td><td>1               </td><td>38.00000        </td><td>1               </td><td>0               </td><td>PC 17599        </td><td>71.2833         </td><td>C85             </td><td>C               </td></tr>\n",
       "\t<tr><td>3               </td><td>1               </td><td>3               </td><td>3               </td><td>1               </td><td>26.00000        </td><td>0               </td><td>0               </td><td>STON/O2. 3101282</td><td> 7.9250         </td><td>NA              </td><td>S               </td></tr>\n",
       "\t<tr><td>4               </td><td>1               </td><td>1               </td><td>2               </td><td>1               </td><td>35.00000        </td><td>1               </td><td>0               </td><td>113803          </td><td>53.1000         </td><td>C123            </td><td>S               </td></tr>\n",
       "\t<tr><td>5               </td><td>0               </td><td>3               </td><td>1               </td><td>0               </td><td>35.00000        </td><td>0               </td><td>0               </td><td>373450          </td><td> 8.0500         </td><td>NA              </td><td>S               </td></tr>\n",
       "\t<tr><td>6               </td><td>0               </td><td>3               </td><td>1               </td><td>0               </td><td>29.69912        </td><td>0               </td><td>0               </td><td>330877          </td><td> 8.4583         </td><td>NA              </td><td>Q               </td></tr>\n",
       "</tbody>\n",
       "</table>\n"
      ],
      "text/latex": [
       "\\begin{tabular}{r|llllllllllll}\n",
       " PassengerId & Survived & Pclass & Name & Sex & Age & SibSp & Parch & Ticket & Fare & Cabin & Embarked\\\\\n",
       "\\hline\n",
       "\t 1                & 0                & 3                & 1                & 0                & 22.00000         & 1                & 0                & A/5 21171        &  7.2500          & NA               & S               \\\\\n",
       "\t 2                & 1                & 1                & 2                & 1                & 38.00000         & 1                & 0                & PC 17599         & 71.2833          & C85              & C               \\\\\n",
       "\t 3                & 1                & 3                & 3                & 1                & 26.00000         & 0                & 0                & STON/O2. 3101282 &  7.9250          & NA               & S               \\\\\n",
       "\t 4                & 1                & 1                & 2                & 1                & 35.00000         & 1                & 0                & 113803           & 53.1000          & C123             & S               \\\\\n",
       "\t 5                & 0                & 3                & 1                & 0                & 35.00000         & 0                & 0                & 373450           &  8.0500          & NA               & S               \\\\\n",
       "\t 6                & 0                & 3                & 1                & 0                & 29.69912         & 0                & 0                & 330877           &  8.4583          & NA               & Q               \\\\\n",
       "\\end{tabular}\n"
      ],
      "text/markdown": [
       "\n",
       "| PassengerId | Survived | Pclass | Name | Sex | Age | SibSp | Parch | Ticket | Fare | Cabin | Embarked |\n",
       "|---|---|---|---|---|---|---|---|---|---|---|---|\n",
       "| 1                | 0                | 3                | 1                | 0                | 22.00000         | 1                | 0                | A/5 21171        |  7.2500          | NA               | S                |\n",
       "| 2                | 1                | 1                | 2                | 1                | 38.00000         | 1                | 0                | PC 17599         | 71.2833          | C85              | C                |\n",
       "| 3                | 1                | 3                | 3                | 1                | 26.00000         | 0                | 0                | STON/O2. 3101282 |  7.9250          | NA               | S                |\n",
       "| 4                | 1                | 1                | 2                | 1                | 35.00000         | 1                | 0                | 113803           | 53.1000          | C123             | S                |\n",
       "| 5                | 0                | 3                | 1                | 0                | 35.00000         | 0                | 0                | 373450           |  8.0500          | NA               | S                |\n",
       "| 6                | 0                | 3                | 1                | 0                | 29.69912         | 0                | 0                | 330877           |  8.4583          | NA               | Q                |\n",
       "\n"
      ],
      "text/plain": [
       "  PassengerId Survived Pclass Name Sex Age      SibSp Parch Ticket          \n",
       "1 1           0        3      1    0   22.00000 1     0     A/5 21171       \n",
       "2 2           1        1      2    1   38.00000 1     0     PC 17599        \n",
       "3 3           1        3      3    1   26.00000 0     0     STON/O2. 3101282\n",
       "4 4           1        1      2    1   35.00000 1     0     113803          \n",
       "5 5           0        3      1    0   35.00000 0     0     373450          \n",
       "6 6           0        3      1    0   29.69912 0     0     330877          \n",
       "  Fare    Cabin Embarked\n",
       "1  7.2500 NA    S       \n",
       "2 71.2833 C85   C       \n",
       "3  7.9250 NA    S       \n",
       "4 53.1000 C123  S       \n",
       "5  8.0500 NA    S       \n",
       "6  8.4583 NA    Q       "
      ]
     },
     "metadata": {},
     "output_type": "display_data"
    }
   ],
   "source": [
    "df$Sex = factor(df$Sex, levels = unique(df$Sex), labels = 0:1)\n",
    "head(df)"
   ]
  },
  {
   "cell_type": "markdown",
   "id": "d1a78287-f1e9-44d7-949a-8c2bce5a85e9",
   "metadata": {},
   "source": [
    "## Embarked - Categórico Para Numérico"
   ]
  },
  {
   "cell_type": "code",
   "execution_count": 163,
   "id": "f0966470-55a3-4eca-8245-4e5a6efd1e06",
   "metadata": {},
   "outputs": [
    {
     "data": {
      "text/html": [
       "<table>\n",
       "<thead><tr><th scope=col>PassengerId</th><th scope=col>Survived</th><th scope=col>Pclass</th><th scope=col>Name</th><th scope=col>Sex</th><th scope=col>Age</th><th scope=col>SibSp</th><th scope=col>Parch</th><th scope=col>Ticket</th><th scope=col>Fare</th><th scope=col>Cabin</th><th scope=col>Embarked</th></tr></thead>\n",
       "<tbody>\n",
       "\t<tr><td>1               </td><td>0               </td><td>3               </td><td>1               </td><td>0               </td><td>22.00000        </td><td>1               </td><td>0               </td><td>A/5 21171       </td><td> 7.2500         </td><td>NA              </td><td>1               </td></tr>\n",
       "\t<tr><td>2               </td><td>1               </td><td>1               </td><td>2               </td><td>1               </td><td>38.00000        </td><td>1               </td><td>0               </td><td>PC 17599        </td><td>71.2833         </td><td>C85             </td><td>2               </td></tr>\n",
       "\t<tr><td>3               </td><td>1               </td><td>3               </td><td>3               </td><td>1               </td><td>26.00000        </td><td>0               </td><td>0               </td><td>STON/O2. 3101282</td><td> 7.9250         </td><td>NA              </td><td>1               </td></tr>\n",
       "\t<tr><td>4               </td><td>1               </td><td>1               </td><td>2               </td><td>1               </td><td>35.00000        </td><td>1               </td><td>0               </td><td>113803          </td><td>53.1000         </td><td>C123            </td><td>1               </td></tr>\n",
       "\t<tr><td>5               </td><td>0               </td><td>3               </td><td>1               </td><td>0               </td><td>35.00000        </td><td>0               </td><td>0               </td><td>373450          </td><td> 8.0500         </td><td>NA              </td><td>1               </td></tr>\n",
       "\t<tr><td>6               </td><td>0               </td><td>3               </td><td>1               </td><td>0               </td><td>29.69912        </td><td>0               </td><td>0               </td><td>330877          </td><td> 8.4583         </td><td>NA              </td><td>3               </td></tr>\n",
       "</tbody>\n",
       "</table>\n"
      ],
      "text/latex": [
       "\\begin{tabular}{r|llllllllllll}\n",
       " PassengerId & Survived & Pclass & Name & Sex & Age & SibSp & Parch & Ticket & Fare & Cabin & Embarked\\\\\n",
       "\\hline\n",
       "\t 1                & 0                & 3                & 1                & 0                & 22.00000         & 1                & 0                & A/5 21171        &  7.2500          & NA               & 1               \\\\\n",
       "\t 2                & 1                & 1                & 2                & 1                & 38.00000         & 1                & 0                & PC 17599         & 71.2833          & C85              & 2               \\\\\n",
       "\t 3                & 1                & 3                & 3                & 1                & 26.00000         & 0                & 0                & STON/O2. 3101282 &  7.9250          & NA               & 1               \\\\\n",
       "\t 4                & 1                & 1                & 2                & 1                & 35.00000         & 1                & 0                & 113803           & 53.1000          & C123             & 1               \\\\\n",
       "\t 5                & 0                & 3                & 1                & 0                & 35.00000         & 0                & 0                & 373450           &  8.0500          & NA               & 1               \\\\\n",
       "\t 6                & 0                & 3                & 1                & 0                & 29.69912         & 0                & 0                & 330877           &  8.4583          & NA               & 3               \\\\\n",
       "\\end{tabular}\n"
      ],
      "text/markdown": [
       "\n",
       "| PassengerId | Survived | Pclass | Name | Sex | Age | SibSp | Parch | Ticket | Fare | Cabin | Embarked |\n",
       "|---|---|---|---|---|---|---|---|---|---|---|---|\n",
       "| 1                | 0                | 3                | 1                | 0                | 22.00000         | 1                | 0                | A/5 21171        |  7.2500          | NA               | 1                |\n",
       "| 2                | 1                | 1                | 2                | 1                | 38.00000         | 1                | 0                | PC 17599         | 71.2833          | C85              | 2                |\n",
       "| 3                | 1                | 3                | 3                | 1                | 26.00000         | 0                | 0                | STON/O2. 3101282 |  7.9250          | NA               | 1                |\n",
       "| 4                | 1                | 1                | 2                | 1                | 35.00000         | 1                | 0                | 113803           | 53.1000          | C123             | 1                |\n",
       "| 5                | 0                | 3                | 1                | 0                | 35.00000         | 0                | 0                | 373450           |  8.0500          | NA               | 1                |\n",
       "| 6                | 0                | 3                | 1                | 0                | 29.69912         | 0                | 0                | 330877           |  8.4583          | NA               | 3                |\n",
       "\n"
      ],
      "text/plain": [
       "  PassengerId Survived Pclass Name Sex Age      SibSp Parch Ticket          \n",
       "1 1           0        3      1    0   22.00000 1     0     A/5 21171       \n",
       "2 2           1        1      2    1   38.00000 1     0     PC 17599        \n",
       "3 3           1        3      3    1   26.00000 0     0     STON/O2. 3101282\n",
       "4 4           1        1      2    1   35.00000 1     0     113803          \n",
       "5 5           0        3      1    0   35.00000 0     0     373450          \n",
       "6 6           0        3      1    0   29.69912 0     0     330877          \n",
       "  Fare    Cabin Embarked\n",
       "1  7.2500 NA    1       \n",
       "2 71.2833 C85   2       \n",
       "3  7.9250 NA    1       \n",
       "4 53.1000 C123  1       \n",
       "5  8.0500 NA    1       \n",
       "6  8.4583 NA    3       "
      ]
     },
     "metadata": {},
     "output_type": "display_data"
    }
   ],
   "source": [
    "df$Embarked = factor(df$Embarked, levels = unique(df$Embarked), labels = 1:3)\n",
    "head(df)"
   ]
  },
  {
   "cell_type": "markdown",
   "id": "bfd14996-b2af-404e-ae20-0c316684451d",
   "metadata": {},
   "source": [
    "## Remoção de Colunas\n",
    "\n",
    "- PassangerId - O identificador não intervere na probabilidade de sobreviver\n",
    "- Ticket - Não interfere na probabilidade de sobreviver\n",
    "- Cabin - Redundante com Pclass que indicam a mesma coisa. "
   ]
  },
  {
   "cell_type": "code",
   "execution_count": 164,
   "id": "66b7aa08-d41d-42e2-9664-2599a7b9cc5a",
   "metadata": {},
   "outputs": [
    {
     "data": {
      "text/html": [
       "<table>\n",
       "<thead><tr><th scope=col>Survived</th><th scope=col>Pclass</th><th scope=col>Name</th><th scope=col>Sex</th><th scope=col>Age</th><th scope=col>SibSp</th><th scope=col>Parch</th><th scope=col>Fare</th><th scope=col>Embarked</th></tr></thead>\n",
       "<tbody>\n",
       "\t<tr><td>0       </td><td>3       </td><td>1       </td><td>0       </td><td>22.00000</td><td>1       </td><td>0       </td><td> 7.2500 </td><td>1       </td></tr>\n",
       "\t<tr><td>1       </td><td>1       </td><td>2       </td><td>1       </td><td>38.00000</td><td>1       </td><td>0       </td><td>71.2833 </td><td>2       </td></tr>\n",
       "\t<tr><td>1       </td><td>3       </td><td>3       </td><td>1       </td><td>26.00000</td><td>0       </td><td>0       </td><td> 7.9250 </td><td>1       </td></tr>\n",
       "\t<tr><td>1       </td><td>1       </td><td>2       </td><td>1       </td><td>35.00000</td><td>1       </td><td>0       </td><td>53.1000 </td><td>1       </td></tr>\n",
       "\t<tr><td>0       </td><td>3       </td><td>1       </td><td>0       </td><td>35.00000</td><td>0       </td><td>0       </td><td> 8.0500 </td><td>1       </td></tr>\n",
       "\t<tr><td>0       </td><td>3       </td><td>1       </td><td>0       </td><td>29.69912</td><td>0       </td><td>0       </td><td> 8.4583 </td><td>3       </td></tr>\n",
       "</tbody>\n",
       "</table>\n"
      ],
      "text/latex": [
       "\\begin{tabular}{r|lllllllll}\n",
       " Survived & Pclass & Name & Sex & Age & SibSp & Parch & Fare & Embarked\\\\\n",
       "\\hline\n",
       "\t 0        & 3        & 1        & 0        & 22.00000 & 1        & 0        &  7.2500  & 1       \\\\\n",
       "\t 1        & 1        & 2        & 1        & 38.00000 & 1        & 0        & 71.2833  & 2       \\\\\n",
       "\t 1        & 3        & 3        & 1        & 26.00000 & 0        & 0        &  7.9250  & 1       \\\\\n",
       "\t 1        & 1        & 2        & 1        & 35.00000 & 1        & 0        & 53.1000  & 1       \\\\\n",
       "\t 0        & 3        & 1        & 0        & 35.00000 & 0        & 0        &  8.0500  & 1       \\\\\n",
       "\t 0        & 3        & 1        & 0        & 29.69912 & 0        & 0        &  8.4583  & 3       \\\\\n",
       "\\end{tabular}\n"
      ],
      "text/markdown": [
       "\n",
       "| Survived | Pclass | Name | Sex | Age | SibSp | Parch | Fare | Embarked |\n",
       "|---|---|---|---|---|---|---|---|---|\n",
       "| 0        | 3        | 1        | 0        | 22.00000 | 1        | 0        |  7.2500  | 1        |\n",
       "| 1        | 1        | 2        | 1        | 38.00000 | 1        | 0        | 71.2833  | 2        |\n",
       "| 1        | 3        | 3        | 1        | 26.00000 | 0        | 0        |  7.9250  | 1        |\n",
       "| 1        | 1        | 2        | 1        | 35.00000 | 1        | 0        | 53.1000  | 1        |\n",
       "| 0        | 3        | 1        | 0        | 35.00000 | 0        | 0        |  8.0500  | 1        |\n",
       "| 0        | 3        | 1        | 0        | 29.69912 | 0        | 0        |  8.4583  | 3        |\n",
       "\n"
      ],
      "text/plain": [
       "  Survived Pclass Name Sex Age      SibSp Parch Fare    Embarked\n",
       "1 0        3      1    0   22.00000 1     0      7.2500 1       \n",
       "2 1        1      2    1   38.00000 1     0     71.2833 2       \n",
       "3 1        3      3    1   26.00000 0     0      7.9250 1       \n",
       "4 1        1      2    1   35.00000 1     0     53.1000 1       \n",
       "5 0        3      1    0   35.00000 0     0      8.0500 1       \n",
       "6 0        3      1    0   29.69912 0     0      8.4583 3       "
      ]
     },
     "metadata": {},
     "output_type": "display_data"
    }
   ],
   "source": [
    "df$PassengerId = NULL\n",
    "df$Ticket = NULL\n",
    "df$Cabin = NULL\n",
    "head(df)"
   ]
  },
  {
   "cell_type": "markdown",
   "id": "0abd91f8-e535-461a-a941-b0378fb86581",
   "metadata": {},
   "source": [
    "## Escalonamento de Atributor\n",
    "\n",
    "- Devemos Escalonar a Idade e o Preço dos Tickets"
   ]
  },
  {
   "cell_type": "code",
   "execution_count": 167,
   "id": "2c1befdb-4cbc-4c8b-8b7f-4acd8d592d10",
   "metadata": {},
   "outputs": [
    {
     "data": {
      "text/html": [
       "<table>\n",
       "<thead><tr><th scope=col>Survived</th><th scope=col>Pclass</th><th scope=col>Name</th><th scope=col>Sex</th><th scope=col>Age</th><th scope=col>SibSp</th><th scope=col>Parch</th><th scope=col>Fare</th><th scope=col>Embarked</th></tr></thead>\n",
       "<tbody>\n",
       "\t<tr><td>0            </td><td>3            </td><td>1            </td><td>0            </td><td>-5.921480e-01</td><td>1            </td><td>0            </td><td>-0.5021631   </td><td>1            </td></tr>\n",
       "\t<tr><td>1            </td><td>1            </td><td>2            </td><td>1            </td><td> 6.384304e-01</td><td>1            </td><td>0            </td><td> 0.7864036   </td><td>2            </td></tr>\n",
       "\t<tr><td>1            </td><td>3            </td><td>3            </td><td>1            </td><td>-2.845034e-01</td><td>0            </td><td>0            </td><td>-0.4885799   </td><td>1            </td></tr>\n",
       "\t<tr><td>1            </td><td>1            </td><td>2            </td><td>1            </td><td> 4.076970e-01</td><td>1            </td><td>0            </td><td> 0.4204941   </td><td>1            </td></tr>\n",
       "\t<tr><td>0            </td><td>3            </td><td>1            </td><td>0            </td><td> 4.076970e-01</td><td>0            </td><td>0            </td><td>-0.4860644   </td><td>1            </td></tr>\n",
       "\t<tr><td>0            </td><td>3            </td><td>1            </td><td>0            </td><td> 2.010702e-17</td><td>0            </td><td>0            </td><td>-0.4778481   </td><td>3            </td></tr>\n",
       "</tbody>\n",
       "</table>\n"
      ],
      "text/latex": [
       "\\begin{tabular}{r|lllllllll}\n",
       " Survived & Pclass & Name & Sex & Age & SibSp & Parch & Fare & Embarked\\\\\n",
       "\\hline\n",
       "\t 0             & 3             & 1             & 0             & -5.921480e-01 & 1             & 0             & -0.5021631    & 1            \\\\\n",
       "\t 1             & 1             & 2             & 1             &  6.384304e-01 & 1             & 0             &  0.7864036    & 2            \\\\\n",
       "\t 1             & 3             & 3             & 1             & -2.845034e-01 & 0             & 0             & -0.4885799    & 1            \\\\\n",
       "\t 1             & 1             & 2             & 1             &  4.076970e-01 & 1             & 0             &  0.4204941    & 1            \\\\\n",
       "\t 0             & 3             & 1             & 0             &  4.076970e-01 & 0             & 0             & -0.4860644    & 1            \\\\\n",
       "\t 0             & 3             & 1             & 0             &  2.010702e-17 & 0             & 0             & -0.4778481    & 3            \\\\\n",
       "\\end{tabular}\n"
      ],
      "text/markdown": [
       "\n",
       "| Survived | Pclass | Name | Sex | Age | SibSp | Parch | Fare | Embarked |\n",
       "|---|---|---|---|---|---|---|---|---|\n",
       "| 0             | 3             | 1             | 0             | -5.921480e-01 | 1             | 0             | -0.5021631    | 1             |\n",
       "| 1             | 1             | 2             | 1             |  6.384304e-01 | 1             | 0             |  0.7864036    | 2             |\n",
       "| 1             | 3             | 3             | 1             | -2.845034e-01 | 0             | 0             | -0.4885799    | 1             |\n",
       "| 1             | 1             | 2             | 1             |  4.076970e-01 | 1             | 0             |  0.4204941    | 1             |\n",
       "| 0             | 3             | 1             | 0             |  4.076970e-01 | 0             | 0             | -0.4860644    | 1             |\n",
       "| 0             | 3             | 1             | 0             |  2.010702e-17 | 0             | 0             | -0.4778481    | 3             |\n",
       "\n"
      ],
      "text/plain": [
       "  Survived Pclass Name Sex Age           SibSp Parch Fare       Embarked\n",
       "1 0        3      1    0   -5.921480e-01 1     0     -0.5021631 1       \n",
       "2 1        1      2    1    6.384304e-01 1     0      0.7864036 2       \n",
       "3 1        3      3    1   -2.845034e-01 0     0     -0.4885799 1       \n",
       "4 1        1      2    1    4.076970e-01 1     0      0.4204941 1       \n",
       "5 0        3      1    0    4.076970e-01 0     0     -0.4860644 1       \n",
       "6 0        3      1    0    2.010702e-17 0     0     -0.4778481 3       "
      ]
     },
     "metadata": {},
     "output_type": "display_data"
    }
   ],
   "source": [
    "df[, c('Age', 'Fare')] = scale(df[, c('Age', 'Fare')])\n",
    "\n",
    "head(df)"
   ]
  }
 ],
 "metadata": {
  "kernelspec": {
   "display_name": "R",
   "language": "R",
   "name": "ir"
  },
  "language_info": {
   "codemirror_mode": "r",
   "file_extension": ".r",
   "mimetype": "text/x-r-source",
   "name": "R",
   "pygments_lexer": "r",
   "version": "3.6.1"
  }
 },
 "nbformat": 4,
 "nbformat_minor": 5
}
