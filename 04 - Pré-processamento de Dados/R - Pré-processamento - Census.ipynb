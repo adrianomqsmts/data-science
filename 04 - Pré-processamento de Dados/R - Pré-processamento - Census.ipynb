{
 "cells": [
  {
   "cell_type": "markdown",
   "id": "87c4f821-74c2-4010-8d62-e81f56a850af",
   "metadata": {},
   "source": [
    "# Base de Dados Census\n",
    "## Importando Bibliotecas"
   ]
  },
  {
   "cell_type": "code",
   "execution_count": 16,
   "id": "dc7f7307-f280-466b-b95b-d34aaddfc294",
   "metadata": {},
   "outputs": [],
   "source": [
    "library(repr)\n",
    "options(repr.plot.width = 4, repr.plot.height = 4)"
   ]
  },
  {
   "cell_type": "markdown",
   "id": "8c443c89-fecf-49ed-be1a-ce716459d127",
   "metadata": {},
   "source": [
    "## Carregando os dados"
   ]
  },
  {
   "cell_type": "code",
   "execution_count": 37,
   "id": "034d08a0-9d84-4da6-8d9c-e9465e3a7f49",
   "metadata": {},
   "outputs": [
    {
     "data": {
      "text/html": [
       "<table>\n",
       "<thead><tr><th scope=col>X</th><th scope=col>age</th><th scope=col>workclass</th><th scope=col>final.weight</th><th scope=col>education</th><th scope=col>education.num</th><th scope=col>marital.status</th><th scope=col>occupation</th><th scope=col>relationship</th><th scope=col>race</th><th scope=col>sex</th><th scope=col>capital.gain</th><th scope=col>capital.loos</th><th scope=col>hour.per.week</th><th scope=col>native.country</th><th scope=col>income</th></tr></thead>\n",
       "<tbody>\n",
       "\t<tr><td>1                                                          </td><td>39                                                         </td><td><span style=white-space:pre-wrap> State-gov       </span>  </td><td> 77516                                                     </td><td> Bachelors                                                 </td><td>13                                                         </td><td><span style=white-space:pre-wrap> Never-married     </span></td><td><span style=white-space:pre-wrap> Adm-clerical     </span> </td><td> Not-in-family                                             </td><td> White                                                     </td><td><span style=white-space:pre-wrap> Male  </span>            </td><td>2174                                                       </td><td>0                                                          </td><td>40                                                         </td><td> United-States                                             </td><td> &lt;=50K                                                  </td></tr>\n",
       "\t<tr><td>2                                                         </td><td>50                                                        </td><td> Self-emp-not-inc                                         </td><td> 83311                                                    </td><td> Bachelors                                                </td><td>13                                                        </td><td> Married-civ-spouse                                       </td><td><span style=white-space:pre-wrap> Exec-managerial  </span></td><td><span style=white-space:pre-wrap> Husband      </span>    </td><td> White                                                    </td><td><span style=white-space:pre-wrap> Male  </span>           </td><td><span style=white-space:pre-wrap>   0</span>              </td><td>0                                                         </td><td>13                                                        </td><td> United-States                                            </td><td> &lt;=50K                                                 </td></tr>\n",
       "\t<tr><td>3                                                          </td><td>38                                                         </td><td><span style=white-space:pre-wrap> Private         </span>  </td><td>215646                                                     </td><td><span style=white-space:pre-wrap> HS-grad  </span>         </td><td> 9                                                         </td><td><span style=white-space:pre-wrap> Divorced          </span></td><td> Handlers-cleaners                                         </td><td> Not-in-family                                             </td><td> White                                                     </td><td><span style=white-space:pre-wrap> Male  </span>            </td><td><span style=white-space:pre-wrap>   0</span>               </td><td>0                                                          </td><td>40                                                         </td><td> United-States                                             </td><td> &lt;=50K                                                  </td></tr>\n",
       "\t<tr><td>4                                                        </td><td>53                                                       </td><td><span style=white-space:pre-wrap> Private         </span></td><td>234721                                                   </td><td><span style=white-space:pre-wrap> 11th     </span>       </td><td> 7                                                       </td><td> Married-civ-spouse                                      </td><td> Handlers-cleaners                                       </td><td><span style=white-space:pre-wrap> Husband      </span>   </td><td> Black                                                   </td><td><span style=white-space:pre-wrap> Male  </span>          </td><td><span style=white-space:pre-wrap>   0</span>             </td><td>0                                                        </td><td>40                                                       </td><td> United-States                                           </td><td> &lt;=50K                                                </td></tr>\n",
       "\t<tr><td>5                                                         </td><td>28                                                        </td><td><span style=white-space:pre-wrap> Private         </span> </td><td>338409                                                    </td><td> Bachelors                                                </td><td>13                                                        </td><td> Married-civ-spouse                                       </td><td><span style=white-space:pre-wrap> Prof-specialty   </span></td><td><span style=white-space:pre-wrap> Wife         </span>    </td><td> Black                                                    </td><td> Female                                                   </td><td><span style=white-space:pre-wrap>   0</span>              </td><td>0                                                         </td><td>40                                                        </td><td><span style=white-space:pre-wrap> Cuba         </span>    </td><td> &lt;=50K                                                 </td></tr>\n",
       "\t<tr><td>6                                                         </td><td>37                                                        </td><td><span style=white-space:pre-wrap> Private         </span> </td><td>284582                                                    </td><td><span style=white-space:pre-wrap> Masters  </span>        </td><td>14                                                        </td><td> Married-civ-spouse                                       </td><td><span style=white-space:pre-wrap> Exec-managerial  </span></td><td><span style=white-space:pre-wrap> Wife         </span>    </td><td> White                                                    </td><td> Female                                                   </td><td><span style=white-space:pre-wrap>   0</span>              </td><td>0                                                         </td><td>40                                                        </td><td> United-States                                            </td><td> &lt;=50K                                                 </td></tr>\n",
       "</tbody>\n",
       "</table>\n"
      ],
      "text/latex": [
       "\\begin{tabular}{r|llllllllllllllll}\n",
       " X & age & workclass & final.weight & education & education.num & marital.status & occupation & relationship & race & sex & capital.gain & capital.loos & hour.per.week & native.country & income\\\\\n",
       "\\hline\n",
       "\t 1                   & 39                  &  State-gov          &  77516              &  Bachelors          & 13                  &  Never-married      &  Adm-clerical       &  Not-in-family      &  White              &  Male               & 2174                & 0                   & 40                  &  United-States      &  <=50K             \\\\\n",
       "\t 2                   & 50                  &  Self-emp-not-inc   &  83311              &  Bachelors          & 13                  &  Married-civ-spouse &  Exec-managerial    &  Husband            &  White              &  Male               &    0                & 0                   & 13                  &  United-States      &  <=50K             \\\\\n",
       "\t 3                   & 38                  &  Private            & 215646              &  HS-grad            &  9                  &  Divorced           &  Handlers-cleaners  &  Not-in-family      &  White              &  Male               &    0                & 0                   & 40                  &  United-States      &  <=50K             \\\\\n",
       "\t 4                   & 53                  &  Private            & 234721              &  11th               &  7                  &  Married-civ-spouse &  Handlers-cleaners  &  Husband            &  Black              &  Male               &    0                & 0                   & 40                  &  United-States      &  <=50K             \\\\\n",
       "\t 5                   & 28                  &  Private            & 338409              &  Bachelors          & 13                  &  Married-civ-spouse &  Prof-specialty     &  Wife               &  Black              &  Female             &    0                & 0                   & 40                  &  Cuba               &  <=50K             \\\\\n",
       "\t 6                   & 37                  &  Private            & 284582              &  Masters            & 14                  &  Married-civ-spouse &  Exec-managerial    &  Wife               &  White              &  Female             &    0                & 0                   & 40                  &  United-States      &  <=50K             \\\\\n",
       "\\end{tabular}\n"
      ],
      "text/markdown": [
       "\n",
       "| X | age | workclass | final.weight | education | education.num | marital.status | occupation | relationship | race | sex | capital.gain | capital.loos | hour.per.week | native.country | income |\n",
       "|---|---|---|---|---|---|---|---|---|---|---|---|---|---|---|---|\n",
       "| 1                   | 39                  |  State-gov          |  77516              |  Bachelors          | 13                  |  Never-married      |  Adm-clerical       |  Not-in-family      |  White              |  Male               | 2174                | 0                   | 40                  |  United-States      |  <=50K              |\n",
       "| 2                   | 50                  |  Self-emp-not-inc   |  83311              |  Bachelors          | 13                  |  Married-civ-spouse |  Exec-managerial    |  Husband            |  White              |  Male               |    0                | 0                   | 13                  |  United-States      |  <=50K              |\n",
       "| 3                   | 38                  |  Private            | 215646              |  HS-grad            |  9                  |  Divorced           |  Handlers-cleaners  |  Not-in-family      |  White              |  Male               |    0                | 0                   | 40                  |  United-States      |  <=50K              |\n",
       "| 4                   | 53                  |  Private            | 234721              |  11th               |  7                  |  Married-civ-spouse |  Handlers-cleaners  |  Husband            |  Black              |  Male               |    0                | 0                   | 40                  |  United-States      |  <=50K              |\n",
       "| 5                   | 28                  |  Private            | 338409              |  Bachelors          | 13                  |  Married-civ-spouse |  Prof-specialty     |  Wife               |  Black              |  Female             |    0                | 0                   | 40                  |  Cuba               |  <=50K              |\n",
       "| 6                   | 37                  |  Private            | 284582              |  Masters            | 14                  |  Married-civ-spouse |  Exec-managerial    |  Wife               |  White              |  Female             |    0                | 0                   | 40                  |  United-States      |  <=50K              |\n",
       "\n"
      ],
      "text/plain": [
       "  X age workclass         final.weight education  education.num\n",
       "1 1 39   State-gov         77516        Bachelors 13           \n",
       "2 2 50   Self-emp-not-inc  83311        Bachelors 13           \n",
       "3 3 38   Private          215646        HS-grad    9           \n",
       "4 4 53   Private          234721        11th       7           \n",
       "5 5 28   Private          338409        Bachelors 13           \n",
       "6 6 37   Private          284582        Masters   14           \n",
       "  marital.status      occupation         relationship   race   sex    \n",
       "1  Never-married       Adm-clerical       Not-in-family  White  Male  \n",
       "2  Married-civ-spouse  Exec-managerial    Husband        White  Male  \n",
       "3  Divorced            Handlers-cleaners  Not-in-family  White  Male  \n",
       "4  Married-civ-spouse  Handlers-cleaners  Husband        Black  Male  \n",
       "5  Married-civ-spouse  Prof-specialty     Wife           Black  Female\n",
       "6  Married-civ-spouse  Exec-managerial    Wife           White  Female\n",
       "  capital.gain capital.loos hour.per.week native.country income\n",
       "1 2174         0            40             United-States  <=50K\n",
       "2    0         0            13             United-States  <=50K\n",
       "3    0         0            40             United-States  <=50K\n",
       "4    0         0            40             United-States  <=50K\n",
       "5    0         0            40             Cuba           <=50K\n",
       "6    0         0            40             United-States  <=50K"
      ]
     },
     "metadata": {},
     "output_type": "display_data"
    }
   ],
   "source": [
    "census <- read.csv('../datasets/census.csv')\n",
    "head(census)"
   ]
  },
  {
   "cell_type": "markdown",
   "id": "f7895489-2e87-4ecd-aafc-a9a9e8fc66ec",
   "metadata": {},
   "source": [
    "## Apagar Coluna\n",
    "\n",
    "- A coluna X é usada apenas como indíces"
   ]
  },
  {
   "cell_type": "code",
   "execution_count": 38,
   "id": "31ab4b1b-2a79-4c5f-89df-28c3e97a37d4",
   "metadata": {},
   "outputs": [
    {
     "data": {
      "text/html": [
       "<table>\n",
       "<thead><tr><th scope=col>age</th><th scope=col>workclass</th><th scope=col>final.weight</th><th scope=col>education</th><th scope=col>education.num</th><th scope=col>marital.status</th><th scope=col>occupation</th><th scope=col>relationship</th><th scope=col>race</th><th scope=col>sex</th><th scope=col>capital.gain</th><th scope=col>capital.loos</th><th scope=col>hour.per.week</th><th scope=col>native.country</th><th scope=col>income</th></tr></thead>\n",
       "<tbody>\n",
       "\t<tr><td>39                                                         </td><td><span style=white-space:pre-wrap> State-gov       </span>  </td><td> 77516                                                     </td><td> Bachelors                                                 </td><td>13                                                         </td><td><span style=white-space:pre-wrap> Never-married     </span></td><td><span style=white-space:pre-wrap> Adm-clerical     </span> </td><td> Not-in-family                                             </td><td> White                                                     </td><td><span style=white-space:pre-wrap> Male  </span>            </td><td>2174                                                       </td><td>0                                                          </td><td>40                                                         </td><td> United-States                                             </td><td> &lt;=50K                                                  </td></tr>\n",
       "\t<tr><td>50                                                        </td><td> Self-emp-not-inc                                         </td><td> 83311                                                    </td><td> Bachelors                                                </td><td>13                                                        </td><td> Married-civ-spouse                                       </td><td><span style=white-space:pre-wrap> Exec-managerial  </span></td><td><span style=white-space:pre-wrap> Husband      </span>    </td><td> White                                                    </td><td><span style=white-space:pre-wrap> Male  </span>           </td><td><span style=white-space:pre-wrap>   0</span>              </td><td>0                                                         </td><td>13                                                        </td><td> United-States                                            </td><td> &lt;=50K                                                 </td></tr>\n",
       "\t<tr><td>38                                                         </td><td><span style=white-space:pre-wrap> Private         </span>  </td><td>215646                                                     </td><td><span style=white-space:pre-wrap> HS-grad  </span>         </td><td> 9                                                         </td><td><span style=white-space:pre-wrap> Divorced          </span></td><td> Handlers-cleaners                                         </td><td> Not-in-family                                             </td><td> White                                                     </td><td><span style=white-space:pre-wrap> Male  </span>            </td><td><span style=white-space:pre-wrap>   0</span>               </td><td>0                                                          </td><td>40                                                         </td><td> United-States                                             </td><td> &lt;=50K                                                  </td></tr>\n",
       "\t<tr><td>53                                                       </td><td><span style=white-space:pre-wrap> Private         </span></td><td>234721                                                   </td><td><span style=white-space:pre-wrap> 11th     </span>       </td><td> 7                                                       </td><td> Married-civ-spouse                                      </td><td> Handlers-cleaners                                       </td><td><span style=white-space:pre-wrap> Husband      </span>   </td><td> Black                                                   </td><td><span style=white-space:pre-wrap> Male  </span>          </td><td><span style=white-space:pre-wrap>   0</span>             </td><td>0                                                        </td><td>40                                                       </td><td> United-States                                           </td><td> &lt;=50K                                                </td></tr>\n",
       "\t<tr><td>28                                                        </td><td><span style=white-space:pre-wrap> Private         </span> </td><td>338409                                                    </td><td> Bachelors                                                </td><td>13                                                        </td><td> Married-civ-spouse                                       </td><td><span style=white-space:pre-wrap> Prof-specialty   </span></td><td><span style=white-space:pre-wrap> Wife         </span>    </td><td> Black                                                    </td><td> Female                                                   </td><td><span style=white-space:pre-wrap>   0</span>              </td><td>0                                                         </td><td>40                                                        </td><td><span style=white-space:pre-wrap> Cuba         </span>    </td><td> &lt;=50K                                                 </td></tr>\n",
       "\t<tr><td>37                                                        </td><td><span style=white-space:pre-wrap> Private         </span> </td><td>284582                                                    </td><td><span style=white-space:pre-wrap> Masters  </span>        </td><td>14                                                        </td><td> Married-civ-spouse                                       </td><td><span style=white-space:pre-wrap> Exec-managerial  </span></td><td><span style=white-space:pre-wrap> Wife         </span>    </td><td> White                                                    </td><td> Female                                                   </td><td><span style=white-space:pre-wrap>   0</span>              </td><td>0                                                         </td><td>40                                                        </td><td> United-States                                            </td><td> &lt;=50K                                                 </td></tr>\n",
       "</tbody>\n",
       "</table>\n"
      ],
      "text/latex": [
       "\\begin{tabular}{r|lllllllllllllll}\n",
       " age & workclass & final.weight & education & education.num & marital.status & occupation & relationship & race & sex & capital.gain & capital.loos & hour.per.week & native.country & income\\\\\n",
       "\\hline\n",
       "\t 39                  &  State-gov          &  77516              &  Bachelors          & 13                  &  Never-married      &  Adm-clerical       &  Not-in-family      &  White              &  Male               & 2174                & 0                   & 40                  &  United-States      &  <=50K             \\\\\n",
       "\t 50                  &  Self-emp-not-inc   &  83311              &  Bachelors          & 13                  &  Married-civ-spouse &  Exec-managerial    &  Husband            &  White              &  Male               &    0                & 0                   & 13                  &  United-States      &  <=50K             \\\\\n",
       "\t 38                  &  Private            & 215646              &  HS-grad            &  9                  &  Divorced           &  Handlers-cleaners  &  Not-in-family      &  White              &  Male               &    0                & 0                   & 40                  &  United-States      &  <=50K             \\\\\n",
       "\t 53                  &  Private            & 234721              &  11th               &  7                  &  Married-civ-spouse &  Handlers-cleaners  &  Husband            &  Black              &  Male               &    0                & 0                   & 40                  &  United-States      &  <=50K             \\\\\n",
       "\t 28                  &  Private            & 338409              &  Bachelors          & 13                  &  Married-civ-spouse &  Prof-specialty     &  Wife               &  Black              &  Female             &    0                & 0                   & 40                  &  Cuba               &  <=50K             \\\\\n",
       "\t 37                  &  Private            & 284582              &  Masters            & 14                  &  Married-civ-spouse &  Exec-managerial    &  Wife               &  White              &  Female             &    0                & 0                   & 40                  &  United-States      &  <=50K             \\\\\n",
       "\\end{tabular}\n"
      ],
      "text/markdown": [
       "\n",
       "| age | workclass | final.weight | education | education.num | marital.status | occupation | relationship | race | sex | capital.gain | capital.loos | hour.per.week | native.country | income |\n",
       "|---|---|---|---|---|---|---|---|---|---|---|---|---|---|---|\n",
       "| 39                  |  State-gov          |  77516              |  Bachelors          | 13                  |  Never-married      |  Adm-clerical       |  Not-in-family      |  White              |  Male               | 2174                | 0                   | 40                  |  United-States      |  <=50K              |\n",
       "| 50                  |  Self-emp-not-inc   |  83311              |  Bachelors          | 13                  |  Married-civ-spouse |  Exec-managerial    |  Husband            |  White              |  Male               |    0                | 0                   | 13                  |  United-States      |  <=50K              |\n",
       "| 38                  |  Private            | 215646              |  HS-grad            |  9                  |  Divorced           |  Handlers-cleaners  |  Not-in-family      |  White              |  Male               |    0                | 0                   | 40                  |  United-States      |  <=50K              |\n",
       "| 53                  |  Private            | 234721              |  11th               |  7                  |  Married-civ-spouse |  Handlers-cleaners  |  Husband            |  Black              |  Male               |    0                | 0                   | 40                  |  United-States      |  <=50K              |\n",
       "| 28                  |  Private            | 338409              |  Bachelors          | 13                  |  Married-civ-spouse |  Prof-specialty     |  Wife               |  Black              |  Female             |    0                | 0                   | 40                  |  Cuba               |  <=50K              |\n",
       "| 37                  |  Private            | 284582              |  Masters            | 14                  |  Married-civ-spouse |  Exec-managerial    |  Wife               |  White              |  Female             |    0                | 0                   | 40                  |  United-States      |  <=50K              |\n",
       "\n"
      ],
      "text/plain": [
       "  age workclass         final.weight education  education.num\n",
       "1 39   State-gov         77516        Bachelors 13           \n",
       "2 50   Self-emp-not-inc  83311        Bachelors 13           \n",
       "3 38   Private          215646        HS-grad    9           \n",
       "4 53   Private          234721        11th       7           \n",
       "5 28   Private          338409        Bachelors 13           \n",
       "6 37   Private          284582        Masters   14           \n",
       "  marital.status      occupation         relationship   race   sex    \n",
       "1  Never-married       Adm-clerical       Not-in-family  White  Male  \n",
       "2  Married-civ-spouse  Exec-managerial    Husband        White  Male  \n",
       "3  Divorced            Handlers-cleaners  Not-in-family  White  Male  \n",
       "4  Married-civ-spouse  Handlers-cleaners  Husband        Black  Male  \n",
       "5  Married-civ-spouse  Prof-specialty     Wife           Black  Female\n",
       "6  Married-civ-spouse  Exec-managerial    Wife           White  Female\n",
       "  capital.gain capital.loos hour.per.week native.country income\n",
       "1 2174         0            40             United-States  <=50K\n",
       "2    0         0            13             United-States  <=50K\n",
       "3    0         0            40             United-States  <=50K\n",
       "4    0         0            40             United-States  <=50K\n",
       "5    0         0            40             Cuba           <=50K\n",
       "6    0         0            40             United-States  <=50K"
      ]
     },
     "metadata": {},
     "output_type": "display_data"
    }
   ],
   "source": [
    "census$X <- NULL\n",
    "head(census)"
   ]
  },
  {
   "cell_type": "markdown",
   "id": "e2fdfa0d-98a0-43d9-aa66-520bf008328a",
   "metadata": {},
   "source": [
    "## Análise dos Dados\n",
    "\n",
    "- age - numérico discreto\n",
    "- wordclass (tipo de emprego) - categórica nominal\n",
    "- final.weight - numérico contínuas\n",
    "- education - categórica ordinal\n",
    "- education.num (anos de estudos) - numérico discreto\n",
    "- marital.status - categórica nominal\n",
    "- occupation - categórica nominal\n",
    "- relpationship - categórica nominal\n",
    "- race - categórica nominal\n",
    "- sex - categórica nominal nominal\n",
    "- capital.gain - numérica contínua\n",
    "- capital.loss - numérica contínua\n",
    "- hours.week - numética discreta\n",
    "- native.country - categórica nominal\n",
    "- income (renda anual) - classe que queremos encontrar"
   ]
  },
  {
   "cell_type": "code",
   "execution_count": 39,
   "id": "d68d4c95-6e6d-429f-be57-19e193ae6ae3",
   "metadata": {},
   "outputs": [
    {
     "name": "stdout",
     "output_type": "stream",
     "text": [
      "'data.frame':\t30162 obs. of  15 variables:\n",
      " $ age           : int  39 50 38 53 28 37 49 52 31 42 ...\n",
      " $ workclass     : Factor w/ 7 levels \" Federal-gov\",..: 6 5 3 3 3 3 3 5 3 3 ...\n",
      " $ final.weight  : int  77516 83311 215646 234721 338409 284582 160187 209642 45781 159449 ...\n",
      " $ education     : Factor w/ 16 levels \" 10th\",\" 11th\",..: 10 10 12 2 10 13 7 12 13 10 ...\n",
      " $ education.num : int  13 13 9 7 13 14 5 9 14 13 ...\n",
      " $ marital.status: Factor w/ 7 levels \" Divorced\",\" Married-AF-spouse\",..: 5 3 1 3 3 3 4 3 5 3 ...\n",
      " $ occupation    : Factor w/ 14 levels \" Adm-clerical\",..: 1 4 6 6 10 4 8 4 10 4 ...\n",
      " $ relationship  : Factor w/ 6 levels \" Husband\",\" Not-in-family\",..: 2 1 2 1 6 6 2 1 2 1 ...\n",
      " $ race          : Factor w/ 5 levels \" Amer-Indian-Eskimo\",..: 5 5 5 3 3 5 3 5 5 5 ...\n",
      " $ sex           : Factor w/ 2 levels \" Female\",\" Male\": 2 2 2 2 1 1 1 2 1 2 ...\n",
      " $ capital.gain  : int  2174 0 0 0 0 0 0 0 14084 5178 ...\n",
      " $ capital.loos  : int  0 0 0 0 0 0 0 0 0 0 ...\n",
      " $ hour.per.week : int  40 13 40 40 40 40 16 45 50 40 ...\n",
      " $ native.country: Factor w/ 41 levels \" Cambodia\",\" Canada\",..: 39 39 39 39 5 39 23 39 39 39 ...\n",
      " $ income        : Factor w/ 2 levels \" <=50K\",\" >50K\": 1 1 1 1 1 1 1 2 2 2 ...\n"
     ]
    }
   ],
   "source": [
    "str(census)"
   ]
  },
  {
   "cell_type": "markdown",
   "id": "319d5fd9-5d6e-404c-a202-1af8bfbefa69",
   "metadata": {},
   "source": [
    "## Converter Classe Nominal para Valores Discretos\n",
    "\n",
    "- A função **factor** usa um mapeamento para transformar\n",
    "\n",
    "```R\n",
    "factor(coluna, levels = c(\"valores Categóricos\"), labels = c(valores numéricos) )\n",
    "```"
   ]
  },
  {
   "cell_type": "code",
   "execution_count": 40,
   "id": "b66702c6-6c45-49e7-b589-8eb1b41aaf9e",
   "metadata": {},
   "outputs": [
    {
     "data": {
      "text/html": [
       "<table>\n",
       "<thead><tr><th scope=col>age</th><th scope=col>workclass</th><th scope=col>final.weight</th><th scope=col>education</th><th scope=col>education.num</th><th scope=col>marital.status</th><th scope=col>occupation</th><th scope=col>relationship</th><th scope=col>race</th><th scope=col>sex</th><th scope=col>capital.gain</th><th scope=col>capital.loos</th><th scope=col>hour.per.week</th><th scope=col>native.country</th><th scope=col>income</th></tr></thead>\n",
       "<tbody>\n",
       "\t<tr><td>39    </td><td>1     </td><td> 77516</td><td>1     </td><td>13    </td><td>1     </td><td>1     </td><td>1     </td><td>1     </td><td>0     </td><td>2174  </td><td>0     </td><td>40    </td><td>1     </td><td>0     </td></tr>\n",
       "\t<tr><td>50    </td><td>2     </td><td> 83311</td><td>1     </td><td>13    </td><td>2     </td><td>2     </td><td>2     </td><td>1     </td><td>0     </td><td>   0  </td><td>0     </td><td>13    </td><td>1     </td><td>0     </td></tr>\n",
       "\t<tr><td>38    </td><td>3     </td><td>215646</td><td>2     </td><td> 9    </td><td>3     </td><td>3     </td><td>1     </td><td>1     </td><td>0     </td><td>   0  </td><td>0     </td><td>40    </td><td>1     </td><td>0     </td></tr>\n",
       "\t<tr><td>53    </td><td>3     </td><td>234721</td><td>3     </td><td> 7    </td><td>2     </td><td>3     </td><td>2     </td><td>2     </td><td>0     </td><td>   0  </td><td>0     </td><td>40    </td><td>1     </td><td>0     </td></tr>\n",
       "\t<tr><td>28    </td><td>3     </td><td>338409</td><td>1     </td><td>13    </td><td>2     </td><td>4     </td><td>3     </td><td>2     </td><td>1     </td><td>   0  </td><td>0     </td><td>40    </td><td>2     </td><td>0     </td></tr>\n",
       "\t<tr><td>37    </td><td>3     </td><td>284582</td><td>4     </td><td>14    </td><td>2     </td><td>2     </td><td>3     </td><td>1     </td><td>1     </td><td>   0  </td><td>0     </td><td>40    </td><td>1     </td><td>0     </td></tr>\n",
       "</tbody>\n",
       "</table>\n"
      ],
      "text/latex": [
       "\\begin{tabular}{r|lllllllllllllll}\n",
       " age & workclass & final.weight & education & education.num & marital.status & occupation & relationship & race & sex & capital.gain & capital.loos & hour.per.week & native.country & income\\\\\n",
       "\\hline\n",
       "\t 39     & 1      &  77516 & 1      & 13     & 1      & 1      & 1      & 1      & 0      & 2174   & 0      & 40     & 1      & 0     \\\\\n",
       "\t 50     & 2      &  83311 & 1      & 13     & 2      & 2      & 2      & 1      & 0      &    0   & 0      & 13     & 1      & 0     \\\\\n",
       "\t 38     & 3      & 215646 & 2      &  9     & 3      & 3      & 1      & 1      & 0      &    0   & 0      & 40     & 1      & 0     \\\\\n",
       "\t 53     & 3      & 234721 & 3      &  7     & 2      & 3      & 2      & 2      & 0      &    0   & 0      & 40     & 1      & 0     \\\\\n",
       "\t 28     & 3      & 338409 & 1      & 13     & 2      & 4      & 3      & 2      & 1      &    0   & 0      & 40     & 2      & 0     \\\\\n",
       "\t 37     & 3      & 284582 & 4      & 14     & 2      & 2      & 3      & 1      & 1      &    0   & 0      & 40     & 1      & 0     \\\\\n",
       "\\end{tabular}\n"
      ],
      "text/markdown": [
       "\n",
       "| age | workclass | final.weight | education | education.num | marital.status | occupation | relationship | race | sex | capital.gain | capital.loos | hour.per.week | native.country | income |\n",
       "|---|---|---|---|---|---|---|---|---|---|---|---|---|---|---|\n",
       "| 39     | 1      |  77516 | 1      | 13     | 1      | 1      | 1      | 1      | 0      | 2174   | 0      | 40     | 1      | 0      |\n",
       "| 50     | 2      |  83311 | 1      | 13     | 2      | 2      | 2      | 1      | 0      |    0   | 0      | 13     | 1      | 0      |\n",
       "| 38     | 3      | 215646 | 2      |  9     | 3      | 3      | 1      | 1      | 0      |    0   | 0      | 40     | 1      | 0      |\n",
       "| 53     | 3      | 234721 | 3      |  7     | 2      | 3      | 2      | 2      | 0      |    0   | 0      | 40     | 1      | 0      |\n",
       "| 28     | 3      | 338409 | 1      | 13     | 2      | 4      | 3      | 2      | 1      |    0   | 0      | 40     | 2      | 0      |\n",
       "| 37     | 3      | 284582 | 4      | 14     | 2      | 2      | 3      | 1      | 1      |    0   | 0      | 40     | 1      | 0      |\n",
       "\n"
      ],
      "text/plain": [
       "  age workclass final.weight education education.num marital.status occupation\n",
       "1 39  1          77516       1         13            1              1         \n",
       "2 50  2          83311       1         13            2              2         \n",
       "3 38  3         215646       2          9            3              3         \n",
       "4 53  3         234721       3          7            2              3         \n",
       "5 28  3         338409       1         13            2              4         \n",
       "6 37  3         284582       4         14            2              2         \n",
       "  relationship race sex capital.gain capital.loos hour.per.week native.country\n",
       "1 1            1    0   2174         0            40            1             \n",
       "2 2            1    0      0         0            13            1             \n",
       "3 1            1    0      0         0            40            1             \n",
       "4 2            2    0      0         0            40            1             \n",
       "5 3            2    1      0         0            40            2             \n",
       "6 3            1    1      0         0            40            1             \n",
       "  income\n",
       "1 0     \n",
       "2 0     \n",
       "3 0     \n",
       "4 0     \n",
       "5 0     \n",
       "6 0     "
      ]
     },
     "metadata": {},
     "output_type": "display_data"
    }
   ],
   "source": [
    "census$sex = factor(census$sex, levels = unique(census$sex), labels= 0:1)\n",
    "census$workclass = factor(census$workclass, levels = unique(census$workclass), labels = 1:7)\n",
    "census$education = factor(census$education, levels  =unique(census$education), labels = 1:16)\n",
    "census$marital.status = factor(census$marital.status, levels = unique(census$marital.status), labels = 1:7)\n",
    "census$occupation = factor(census$occupation, levels = unique(census$occupation), labels = 1:14)\n",
    "census$relationship = factor(census$relationship, levels = unique(census$relationship), labels = 1:6)\n",
    "census$race = factor(census$race, levels = unique(census$race), labels = 1:5)\n",
    "census$native.country = factor(census$native.country, levels =unique(census$native.country), labels = 1:41)\n",
    "\n",
    "census$income = factor(census$income, levels = c(' <=50K', ' >50K'), labels = c(0, 1))\n",
    "\n",
    "head(census)"
   ]
  },
  {
   "cell_type": "markdown",
   "id": "4a3ca9fb-0391-496f-93ee-14192555c5c7",
   "metadata": {},
   "source": [
    "## Escalonamento de Atributos\n",
    "\n",
    "- **Normalização**\n",
    "    \n",
    "    $$x = \\frac{x - \\min{x}}{\\max{x} - \\min{x}}$$\n",
    "    \n",
    "- **Padronização**\n",
    "    $$x = \\frac{x - mean(x)}{std(x)credit[credit['age'].isna()]}$$"
   ]
  },
  {
   "cell_type": "code",
   "execution_count": 42,
   "id": "3bbe944f-2563-4d83-b414-466b1d468d82",
   "metadata": {},
   "outputs": [
    {
     "data": {
      "text/html": [
       "<table>\n",
       "<thead><tr><th scope=col>age</th><th scope=col>workclass</th><th scope=col>final.weight</th><th scope=col>education</th><th scope=col>education.num</th><th scope=col>marital.status</th><th scope=col>occupation</th><th scope=col>relationship</th><th scope=col>race</th><th scope=col>sex</th><th scope=col>capital.gain</th><th scope=col>capital.loos</th><th scope=col>hour.per.week</th><th scope=col>native.country</th><th scope=col>income</th></tr></thead>\n",
       "<tbody>\n",
       "\t<tr><td> 0.04279500</td><td>1          </td><td>-1.0627040 </td><td>1          </td><td> 1.1288997 </td><td>1          </td><td>1          </td><td>1          </td><td>1          </td><td>0          </td><td> 0.1460899 </td><td>-0.2185824 </td><td>-0.07773282</td><td>1          </td><td>0          </td></tr>\n",
       "\t<tr><td> 0.88027355</td><td>2          </td><td>-1.0078546 </td><td>1          </td><td> 1.1288997 </td><td>2          </td><td>2          </td><td>2          </td><td>1          </td><td>0          </td><td>-0.1474422 </td><td>-0.2185824 </td><td>-2.33149205</td><td>1          </td><td>0          </td></tr>\n",
       "\t<tr><td>-0.03333941</td><td>3          </td><td> 0.2446894 </td><td>2          </td><td>-0.4397309 </td><td>3          </td><td>3          </td><td>1          </td><td>1          </td><td>0          </td><td>-0.1474422 </td><td>-0.2185824 </td><td>-0.07773282</td><td>1          </td><td>0          </td></tr>\n",
       "\t<tr><td> 1.10867679</td><td>3          </td><td> 0.4252333 </td><td>3          </td><td>-1.2240462 </td><td>2          </td><td>3          </td><td>2          </td><td>2          </td><td>0          </td><td>-0.1474422 </td><td>-0.2185824 </td><td>-0.07773282</td><td>1          </td><td>0          </td></tr>\n",
       "\t<tr><td>-0.79468355</td><td>3          </td><td> 1.4066350 </td><td>1          </td><td> 1.1288997 </td><td>2          </td><td>4          </td><td>3          </td><td>2          </td><td>1          </td><td>-0.1474422 </td><td>-0.2185824 </td><td>-0.07773282</td><td>2          </td><td>0          </td></tr>\n",
       "\t<tr><td>-0.10947383</td><td>3          </td><td> 0.8971652 </td><td>4          </td><td> 1.5210573 </td><td>2          </td><td>2          </td><td>3          </td><td>1          </td><td>1          </td><td>-0.1474422 </td><td>-0.2185824 </td><td>-0.07773282</td><td>1          </td><td>0          </td></tr>\n",
       "</tbody>\n",
       "</table>\n"
      ],
      "text/latex": [
       "\\begin{tabular}{r|lllllllllllllll}\n",
       " age & workclass & final.weight & education & education.num & marital.status & occupation & relationship & race & sex & capital.gain & capital.loos & hour.per.week & native.country & income\\\\\n",
       "\\hline\n",
       "\t  0.04279500 & 1           & -1.0627040  & 1           &  1.1288997  & 1           & 1           & 1           & 1           & 0           &  0.1460899  & -0.2185824  & -0.07773282 & 1           & 0          \\\\\n",
       "\t  0.88027355 & 2           & -1.0078546  & 1           &  1.1288997  & 2           & 2           & 2           & 1           & 0           & -0.1474422  & -0.2185824  & -2.33149205 & 1           & 0          \\\\\n",
       "\t -0.03333941 & 3           &  0.2446894  & 2           & -0.4397309  & 3           & 3           & 1           & 1           & 0           & -0.1474422  & -0.2185824  & -0.07773282 & 1           & 0          \\\\\n",
       "\t  1.10867679 & 3           &  0.4252333  & 3           & -1.2240462  & 2           & 3           & 2           & 2           & 0           & -0.1474422  & -0.2185824  & -0.07773282 & 1           & 0          \\\\\n",
       "\t -0.79468355 & 3           &  1.4066350  & 1           &  1.1288997  & 2           & 4           & 3           & 2           & 1           & -0.1474422  & -0.2185824  & -0.07773282 & 2           & 0          \\\\\n",
       "\t -0.10947383 & 3           &  0.8971652  & 4           &  1.5210573  & 2           & 2           & 3           & 1           & 1           & -0.1474422  & -0.2185824  & -0.07773282 & 1           & 0          \\\\\n",
       "\\end{tabular}\n"
      ],
      "text/markdown": [
       "\n",
       "| age | workclass | final.weight | education | education.num | marital.status | occupation | relationship | race | sex | capital.gain | capital.loos | hour.per.week | native.country | income |\n",
       "|---|---|---|---|---|---|---|---|---|---|---|---|---|---|---|\n",
       "|  0.04279500 | 1           | -1.0627040  | 1           |  1.1288997  | 1           | 1           | 1           | 1           | 0           |  0.1460899  | -0.2185824  | -0.07773282 | 1           | 0           |\n",
       "|  0.88027355 | 2           | -1.0078546  | 1           |  1.1288997  | 2           | 2           | 2           | 1           | 0           | -0.1474422  | -0.2185824  | -2.33149205 | 1           | 0           |\n",
       "| -0.03333941 | 3           |  0.2446894  | 2           | -0.4397309  | 3           | 3           | 1           | 1           | 0           | -0.1474422  | -0.2185824  | -0.07773282 | 1           | 0           |\n",
       "|  1.10867679 | 3           |  0.4252333  | 3           | -1.2240462  | 2           | 3           | 2           | 2           | 0           | -0.1474422  | -0.2185824  | -0.07773282 | 1           | 0           |\n",
       "| -0.79468355 | 3           |  1.4066350  | 1           |  1.1288997  | 2           | 4           | 3           | 2           | 1           | -0.1474422  | -0.2185824  | -0.07773282 | 2           | 0           |\n",
       "| -0.10947383 | 3           |  0.8971652  | 4           |  1.5210573  | 2           | 2           | 3           | 1           | 1           | -0.1474422  | -0.2185824  | -0.07773282 | 1           | 0           |\n",
       "\n"
      ],
      "text/plain": [
       "  age         workclass final.weight education education.num marital.status\n",
       "1  0.04279500 1         -1.0627040   1          1.1288997    1             \n",
       "2  0.88027355 2         -1.0078546   1          1.1288997    2             \n",
       "3 -0.03333941 3          0.2446894   2         -0.4397309    3             \n",
       "4  1.10867679 3          0.4252333   3         -1.2240462    2             \n",
       "5 -0.79468355 3          1.4066350   1          1.1288997    2             \n",
       "6 -0.10947383 3          0.8971652   4          1.5210573    2             \n",
       "  occupation relationship race sex capital.gain capital.loos hour.per.week\n",
       "1 1          1            1    0    0.1460899   -0.2185824   -0.07773282  \n",
       "2 2          2            1    0   -0.1474422   -0.2185824   -2.33149205  \n",
       "3 3          1            1    0   -0.1474422   -0.2185824   -0.07773282  \n",
       "4 3          2            2    0   -0.1474422   -0.2185824   -0.07773282  \n",
       "5 4          3            2    1   -0.1474422   -0.2185824   -0.07773282  \n",
       "6 2          3            1    1   -0.1474422   -0.2185824   -0.07773282  \n",
       "  native.country income\n",
       "1 1              0     \n",
       "2 1              0     \n",
       "3 1              0     \n",
       "4 1              0     \n",
       "5 2              0     \n",
       "6 1              0     "
      ]
     },
     "metadata": {},
     "output_type": "display_data"
    }
   ],
   "source": [
    "census$age = scale(census$age)\n",
    "census$final.weight = scale(census$final.weight)\n",
    "census[, c('capital.gain','capital.loos','hour.per.week', 'education.num')] = scale(census[, c('capital.gain','capital.loos','hour.per.week', 'education.num')])\n",
    "\n",
    "head(census)"
   ]
  },
  {
   "cell_type": "markdown",
   "id": "c1ad70cf-ae39-479a-95bb-f97a4cf39b27",
   "metadata": {},
   "source": [
    "# Base de Dados de Crédito"
   ]
  },
  {
   "cell_type": "code",
   "execution_count": 44,
   "id": "3a60b614-a992-4636-bf6a-bc33ebbd079b",
   "metadata": {},
   "outputs": [
    {
     "data": {
      "text/html": [
       "<table>\n",
       "<thead><tr><th scope=col>clientid</th><th scope=col>income</th><th scope=col>age</th><th scope=col>loan</th><th scope=col>default</th></tr></thead>\n",
       "<tbody>\n",
       "\t<tr><td>1        </td><td>66155.93 </td><td>59.01702 </td><td>8106.5321</td><td>0        </td></tr>\n",
       "\t<tr><td>2        </td><td>34415.15 </td><td>48.11715 </td><td>6564.7450</td><td>0        </td></tr>\n",
       "\t<tr><td>3        </td><td>57317.17 </td><td>63.10805 </td><td>8020.9533</td><td>0        </td></tr>\n",
       "\t<tr><td>4        </td><td>42709.53 </td><td>45.75197 </td><td>6103.6423</td><td>0        </td></tr>\n",
       "\t<tr><td>5        </td><td>66952.69 </td><td>18.58434 </td><td>8770.0992</td><td>1        </td></tr>\n",
       "\t<tr><td>6        </td><td>24904.06 </td><td>57.47161 </td><td>  15.4986</td><td>0        </td></tr>\n",
       "</tbody>\n",
       "</table>\n"
      ],
      "text/latex": [
       "\\begin{tabular}{r|lllll}\n",
       " clientid & income & age & loan & default\\\\\n",
       "\\hline\n",
       "\t 1         & 66155.93  & 59.01702  & 8106.5321 & 0        \\\\\n",
       "\t 2         & 34415.15  & 48.11715  & 6564.7450 & 0        \\\\\n",
       "\t 3         & 57317.17  & 63.10805  & 8020.9533 & 0        \\\\\n",
       "\t 4         & 42709.53  & 45.75197  & 6103.6423 & 0        \\\\\n",
       "\t 5         & 66952.69  & 18.58434  & 8770.0992 & 1        \\\\\n",
       "\t 6         & 24904.06  & 57.47161  &   15.4986 & 0        \\\\\n",
       "\\end{tabular}\n"
      ],
      "text/markdown": [
       "\n",
       "| clientid | income | age | loan | default |\n",
       "|---|---|---|---|---|\n",
       "| 1         | 66155.93  | 59.01702  | 8106.5321 | 0         |\n",
       "| 2         | 34415.15  | 48.11715  | 6564.7450 | 0         |\n",
       "| 3         | 57317.17  | 63.10805  | 8020.9533 | 0         |\n",
       "| 4         | 42709.53  | 45.75197  | 6103.6423 | 0         |\n",
       "| 5         | 66952.69  | 18.58434  | 8770.0992 | 1         |\n",
       "| 6         | 24904.06  | 57.47161  |   15.4986 | 0         |\n",
       "\n"
      ],
      "text/plain": [
       "  clientid income   age      loan      default\n",
       "1 1        66155.93 59.01702 8106.5321 0      \n",
       "2 2        34415.15 48.11715 6564.7450 0      \n",
       "3 3        57317.17 63.10805 8020.9533 0      \n",
       "4 4        42709.53 45.75197 6103.6423 0      \n",
       "5 5        66952.69 18.58434 8770.0992 1      \n",
       "6 6        24904.06 57.47161   15.4986 0      "
      ]
     },
     "metadata": {},
     "output_type": "display_data"
    }
   ],
   "source": [
    "credit = read.csv('datasets/credit_data.csv')\n",
    "head(credit)"
   ]
  },
  {
   "cell_type": "markdown",
   "id": "3e5e620d-0de0-49d1-b479-ab462bec2017",
   "metadata": {},
   "source": [
    "## Análise dos Dados\n",
    "\n",
    "- cliente_id - Monimal (fica fora da previsão)\n",
    "- income - Numérica contínua\n",
    "- age - Numérica contínua (neste caso)\n",
    "- loan (dívida) - Numérica Contínua\n",
    "- default - 0 (não pagou) 1 (pagou empréstimo) - Numérica Discreta"
   ]
  },
  {
   "cell_type": "code",
   "execution_count": 45,
   "id": "1efce4a3-a600-4d29-b3da-cdc1f3e46ada",
   "metadata": {},
   "outputs": [
    {
     "name": "stdout",
     "output_type": "stream",
     "text": [
      "'data.frame':\t2000 obs. of  5 variables:\n",
      " $ clientid: int  1 2 3 4 5 6 7 8 9 10 ...\n",
      " $ income  : num  66156 34415 57317 42710 66953 ...\n",
      " $ age     : num  59 48.1 63.1 45.8 18.6 ...\n",
      " $ loan    : num  8107 6565 8021 6104 8770 ...\n",
      " $ default : int  0 0 0 0 1 0 0 1 0 0 ...\n"
     ]
    }
   ],
   "source": [
    "str(credit)"
   ]
  },
  {
   "cell_type": "markdown",
   "id": "104e8c06-6738-441f-91fc-f27a6b218f32",
   "metadata": {},
   "source": [
    "## Remover Coluna\n",
    "\n",
    "- A coluna id_cliente fica fora da previsão e pode ser removida"
   ]
  },
  {
   "cell_type": "code",
   "execution_count": 46,
   "id": "e641a78a-7636-4456-ac4e-adb03d0cc0fb",
   "metadata": {},
   "outputs": [
    {
     "data": {
      "text/html": [
       "<table>\n",
       "<thead><tr><th scope=col>income</th><th scope=col>age</th><th scope=col>loan</th><th scope=col>default</th></tr></thead>\n",
       "<tbody>\n",
       "\t<tr><td>66155.93 </td><td>59.01702 </td><td>8106.5321</td><td>0        </td></tr>\n",
       "\t<tr><td>34415.15 </td><td>48.11715 </td><td>6564.7450</td><td>0        </td></tr>\n",
       "\t<tr><td>57317.17 </td><td>63.10805 </td><td>8020.9533</td><td>0        </td></tr>\n",
       "\t<tr><td>42709.53 </td><td>45.75197 </td><td>6103.6423</td><td>0        </td></tr>\n",
       "\t<tr><td>66952.69 </td><td>18.58434 </td><td>8770.0992</td><td>1        </td></tr>\n",
       "\t<tr><td>24904.06 </td><td>57.47161 </td><td>  15.4986</td><td>0        </td></tr>\n",
       "</tbody>\n",
       "</table>\n"
      ],
      "text/latex": [
       "\\begin{tabular}{r|llll}\n",
       " income & age & loan & default\\\\\n",
       "\\hline\n",
       "\t 66155.93  & 59.01702  & 8106.5321 & 0        \\\\\n",
       "\t 34415.15  & 48.11715  & 6564.7450 & 0        \\\\\n",
       "\t 57317.17  & 63.10805  & 8020.9533 & 0        \\\\\n",
       "\t 42709.53  & 45.75197  & 6103.6423 & 0        \\\\\n",
       "\t 66952.69  & 18.58434  & 8770.0992 & 1        \\\\\n",
       "\t 24904.06  & 57.47161  &   15.4986 & 0        \\\\\n",
       "\\end{tabular}\n"
      ],
      "text/markdown": [
       "\n",
       "| income | age | loan | default |\n",
       "|---|---|---|---|\n",
       "| 66155.93  | 59.01702  | 8106.5321 | 0         |\n",
       "| 34415.15  | 48.11715  | 6564.7450 | 0         |\n",
       "| 57317.17  | 63.10805  | 8020.9533 | 0         |\n",
       "| 42709.53  | 45.75197  | 6103.6423 | 0         |\n",
       "| 66952.69  | 18.58434  | 8770.0992 | 1         |\n",
       "| 24904.06  | 57.47161  |   15.4986 | 0         |\n",
       "\n"
      ],
      "text/plain": [
       "  income   age      loan      default\n",
       "1 66155.93 59.01702 8106.5321 0      \n",
       "2 34415.15 48.11715 6564.7450 0      \n",
       "3 57317.17 63.10805 8020.9533 0      \n",
       "4 42709.53 45.75197 6103.6423 0      \n",
       "5 66952.69 18.58434 8770.0992 1      \n",
       "6 24904.06 57.47161   15.4986 0      "
      ]
     },
     "metadata": {},
     "output_type": "display_data"
    }
   ],
   "source": [
    "credit$clientid = NULL\n",
    "head(credit)"
   ]
  },
  {
   "cell_type": "markdown",
   "id": "38252586-bfbe-46ed-b561-295be271951a",
   "metadata": {},
   "source": [
    "## Valores Ausentes e Inválidos\n",
    "\n",
    "- Alternativas\n",
    "    1. Apagar a coluna inteira (recomendado para poucos casos)\n",
    "```R\n",
    "base$col = NULL\n",
    "```\n",
    "\n",
    "    2. Apagar somentos os registros inválidos\n",
    "```R\n",
    "base = base[condicao, ]\n",
    "```\n",
    "\n",
    "    3. Preencher os dados inválidos manualmente com a média, moda, análise caso a caso, etc. (melhor caso)\n",
    "```R\n",
    "base$col = ifelse(condição, condiçãoTRUE, condiçãoFalse)\n",
    "```"
   ]
  },
  {
   "cell_type": "markdown",
   "id": "39a7adb7-58e5-4436-a3fa-0010aacc2c39",
   "metadata": {},
   "source": [
    "### Substuir valores inválidos\n",
    "\n",
    "- Substituir a idade negativa pela média das idades\n",
    "- A função **mean** calcula a média\n",
    "    - O parâmetro **na.rm** desconsidera os valores NA\n",
    "    - **CUIDADO para não calcular a média com valores inválidos, como idades nagativas**"
   ]
  },
  {
   "cell_type": "code",
   "execution_count": 50,
   "id": "3b5494eb-cf0e-4bed-883e-142dc3bb5269",
   "metadata": {},
   "outputs": [
    {
     "data": {
      "text/html": [
       "<table>\n",
       "<thead><tr><th scope=col>income</th><th scope=col>age</th><th scope=col>loan</th><th scope=col>default</th></tr></thead>\n",
       "<tbody>\n",
       "\t<tr><td>66155.93 </td><td>59.01702 </td><td>8106.5321</td><td>0        </td></tr>\n",
       "\t<tr><td>34415.15 </td><td>48.11715 </td><td>6564.7450</td><td>0        </td></tr>\n",
       "\t<tr><td>57317.17 </td><td>63.10805 </td><td>8020.9533</td><td>0        </td></tr>\n",
       "\t<tr><td>42709.53 </td><td>45.75197 </td><td>6103.6423</td><td>0        </td></tr>\n",
       "\t<tr><td>66952.69 </td><td>18.58434 </td><td>8770.0992</td><td>1        </td></tr>\n",
       "\t<tr><td>24904.06 </td><td>57.47161 </td><td>  15.4986</td><td>0        </td></tr>\n",
       "</tbody>\n",
       "</table>\n"
      ],
      "text/latex": [
       "\\begin{tabular}{r|llll}\n",
       " income & age & loan & default\\\\\n",
       "\\hline\n",
       "\t 66155.93  & 59.01702  & 8106.5321 & 0        \\\\\n",
       "\t 34415.15  & 48.11715  & 6564.7450 & 0        \\\\\n",
       "\t 57317.17  & 63.10805  & 8020.9533 & 0        \\\\\n",
       "\t 42709.53  & 45.75197  & 6103.6423 & 0        \\\\\n",
       "\t 66952.69  & 18.58434  & 8770.0992 & 1        \\\\\n",
       "\t 24904.06  & 57.47161  &   15.4986 & 0        \\\\\n",
       "\\end{tabular}\n"
      ],
      "text/markdown": [
       "\n",
       "| income | age | loan | default |\n",
       "|---|---|---|---|\n",
       "| 66155.93  | 59.01702  | 8106.5321 | 0         |\n",
       "| 34415.15  | 48.11715  | 6564.7450 | 0         |\n",
       "| 57317.17  | 63.10805  | 8020.9533 | 0         |\n",
       "| 42709.53  | 45.75197  | 6103.6423 | 0         |\n",
       "| 66952.69  | 18.58434  | 8770.0992 | 1         |\n",
       "| 24904.06  | 57.47161  |   15.4986 | 0         |\n",
       "\n"
      ],
      "text/plain": [
       "  income   age      loan      default\n",
       "1 66155.93 59.01702 8106.5321 0      \n",
       "2 34415.15 48.11715 6564.7450 0      \n",
       "3 57317.17 63.10805 8020.9533 0      \n",
       "4 42709.53 45.75197 6103.6423 0      \n",
       "5 66952.69 18.58434 8770.0992 1      \n",
       "6 24904.06 57.47161   15.4986 0      "
      ]
     },
     "metadata": {},
     "output_type": "display_data"
    },
    {
     "data": {
      "text/plain": [
       "   Min. 1st Qu.  Median    Mean 3rd Qu.    Max.    NA's \n",
       "  18.06   29.07   41.32   40.93   52.59   63.97       3 "
      ]
     },
     "metadata": {},
     "output_type": "display_data"
    }
   ],
   "source": [
    "media = mean(credit$age[credit$age > 0], na.rm = TRUE)\n",
    "credit$age = ifelse(credit$age < 0, media, credit$age)\n",
    "head(credit)\n",
    "\n",
    "summary(credit$age)"
   ]
  },
  {
   "cell_type": "markdown",
   "id": "dfa862c1-7800-426f-a645-f865157e41be",
   "metadata": {},
   "source": [
    "### Substituir valores ausentes/faltantes"
   ]
  },
  {
   "cell_type": "code",
   "execution_count": 52,
   "id": "1c34efcf-02b7-40d2-b6ac-8fda571bc9c8",
   "metadata": {},
   "outputs": [
    {
     "data": {
      "text/html": [
       "<table>\n",
       "<thead><tr><th></th><th scope=col>income</th><th scope=col>age</th><th scope=col>loan</th><th scope=col>default</th></tr></thead>\n",
       "<tbody>\n",
       "\t<tr><th scope=row>29</th><td>59417.81</td><td>NA      </td><td>2082.626</td><td>0       </td></tr>\n",
       "\t<tr><th scope=row>31</th><td>48528.85</td><td>NA      </td><td>6155.785</td><td>0       </td></tr>\n",
       "\t<tr><th scope=row>32</th><td>23526.30</td><td>NA      </td><td>2862.010</td><td>0       </td></tr>\n",
       "</tbody>\n",
       "</table>\n"
      ],
      "text/latex": [
       "\\begin{tabular}{r|llll}\n",
       "  & income & age & loan & default\\\\\n",
       "\\hline\n",
       "\t29 & 59417.81 & NA       & 2082.626 & 0       \\\\\n",
       "\t31 & 48528.85 & NA       & 6155.785 & 0       \\\\\n",
       "\t32 & 23526.30 & NA       & 2862.010 & 0       \\\\\n",
       "\\end{tabular}\n"
      ],
      "text/markdown": [
       "\n",
       "| <!--/--> | income | age | loan | default |\n",
       "|---|---|---|---|---|\n",
       "| 29 | 59417.81 | NA       | 2082.626 | 0        |\n",
       "| 31 | 48528.85 | NA       | 6155.785 | 0        |\n",
       "| 32 | 23526.30 | NA       | 2862.010 | 0        |\n",
       "\n"
      ],
      "text/plain": [
       "   income   age loan     default\n",
       "29 59417.81 NA  2082.626 0      \n",
       "31 48528.85 NA  6155.785 0      \n",
       "32 23526.30 NA  2862.010 0      "
      ]
     },
     "metadata": {},
     "output_type": "display_data"
    }
   ],
   "source": [
    "credit[is.na(credit['age']), ]"
   ]
  },
  {
   "cell_type": "code",
   "execution_count": 54,
   "id": "9315cec4-85cc-4e00-add8-90f8098241f3",
   "metadata": {},
   "outputs": [
    {
     "data": {
      "text/html": [
       "<table>\n",
       "<thead><tr><th scope=col>income</th><th scope=col>age</th><th scope=col>loan</th><th scope=col>default</th></tr></thead>\n",
       "<tbody>\n",
       "</tbody>\n",
       "</table>\n"
      ],
      "text/latex": [
       "\\begin{tabular}{r|llll}\n",
       " income & age & loan & default\\\\\n",
       "\\hline\n",
       "\\end{tabular}\n"
      ],
      "text/markdown": [
       "\n",
       "| income | age | loan | default |\n",
       "|---|---|---|---|\n",
       "\n"
      ],
      "text/plain": [
       "     income age loan default"
      ]
     },
     "metadata": {},
     "output_type": "display_data"
    }
   ],
   "source": [
    "media = mean(credit$age, na.rm = TRUE)\n",
    "credit$age = ifelse(is.na(credit$age), media, credit$age)\n",
    "\n",
    "credit[is.na(credit['age']), ]"
   ]
  },
  {
   "cell_type": "markdown",
   "id": "12f1a9c2-42f7-4c4c-a61e-ff0b082f07a6",
   "metadata": {},
   "source": [
    "## Escalonamento de Atributos\n",
    "\n",
    "- **Normalização**\n",
    "    \n",
    "    $$x = \\frac{x - \\min{x}}{\\max{x} - \\min{x}}$$\n",
    "    \n",
    "- **Padronização**\n",
    "    $$x = \\frac{x - mean(x)}{std(x)credit[credit['age'].isna()]}$$"
   ]
  },
  {
   "cell_type": "code",
   "execution_count": 56,
   "id": "457b021d-db4a-4850-baa2-d0190f2e144e",
   "metadata": {},
   "outputs": [
    {
     "data": {
      "text/html": [
       "<table>\n",
       "<thead><tr><th scope=col>income</th><th scope=col>age</th><th scope=col>loan</th><th scope=col>default</th></tr></thead>\n",
       "<tbody>\n",
       "\t<tr><td> 1.4535704</td><td> 1.3650387</td><td> 1.2025187</td><td>0         </td></tr>\n",
       "\t<tr><td>-0.7619850</td><td> 0.5425236</td><td> 0.6962528</td><td>0         </td></tr>\n",
       "\t<tr><td> 0.8366115</td><td> 1.6737524</td><td> 1.1744178</td><td>0         </td></tr>\n",
       "\t<tr><td>-0.1830243</td><td> 0.3640446</td><td> 0.5448437</td><td>0         </td></tr>\n",
       "\t<tr><td> 1.5091858</td><td>-1.6860537</td><td> 1.4204096</td><td>1         </td></tr>\n",
       "\t<tr><td>-1.4258739</td><td> 1.2484206</td><td>-1.4542774</td><td>0         </td></tr>\n",
       "</tbody>\n",
       "</table>\n"
      ],
      "text/latex": [
       "\\begin{tabular}{r|llll}\n",
       " income & age & loan & default\\\\\n",
       "\\hline\n",
       "\t  1.4535704 &  1.3650387 &  1.2025187 & 0         \\\\\n",
       "\t -0.7619850 &  0.5425236 &  0.6962528 & 0         \\\\\n",
       "\t  0.8366115 &  1.6737524 &  1.1744178 & 0         \\\\\n",
       "\t -0.1830243 &  0.3640446 &  0.5448437 & 0         \\\\\n",
       "\t  1.5091858 & -1.6860537 &  1.4204096 & 1         \\\\\n",
       "\t -1.4258739 &  1.2484206 & -1.4542774 & 0         \\\\\n",
       "\\end{tabular}\n"
      ],
      "text/markdown": [
       "\n",
       "| income | age | loan | default |\n",
       "|---|---|---|---|\n",
       "|  1.4535704 |  1.3650387 |  1.2025187 | 0          |\n",
       "| -0.7619850 |  0.5425236 |  0.6962528 | 0          |\n",
       "|  0.8366115 |  1.6737524 |  1.1744178 | 0          |\n",
       "| -0.1830243 |  0.3640446 |  0.5448437 | 0          |\n",
       "|  1.5091858 | -1.6860537 |  1.4204096 | 1          |\n",
       "| -1.4258739 |  1.2484206 | -1.4542774 | 0          |\n",
       "\n"
      ],
      "text/plain": [
       "  income     age        loan       default\n",
       "1  1.4535704  1.3650387  1.2025187 0      \n",
       "2 -0.7619850  0.5425236  0.6962528 0      \n",
       "3  0.8366115  1.6737524  1.1744178 0      \n",
       "4 -0.1830243  0.3640446  0.5448437 0      \n",
       "5  1.5091858 -1.6860537  1.4204096 1      \n",
       "6 -1.4258739  1.2484206 -1.4542774 0      "
      ]
     },
     "metadata": {},
     "output_type": "display_data"
    }
   ],
   "source": [
    "credit[, 1:3] = scale(credit[, 1:3])\n",
    "head(credit)"
   ]
  },
  {
   "cell_type": "markdown",
   "id": "1cb2b60a-9c24-4b68-92d4-5ecfd70ceb4b",
   "metadata": {},
   "source": [
    "# Base de Dados de Risco de Crédito"
   ]
  },
  {
   "cell_type": "code",
   "execution_count": 57,
   "id": "c830d516-158b-4dbe-936b-61714e6fb734",
   "metadata": {},
   "outputs": [
    {
     "data": {
      "text/html": [
       "<table>\n",
       "<thead><tr><th scope=col>historia</th><th scope=col>divida</th><th scope=col>garantias</th><th scope=col>renda</th><th scope=col>risco</th></tr></thead>\n",
       "<tbody>\n",
       "\t<tr><td>ruim        </td><td>alta        </td><td>nenhuma     </td><td>0_15        </td><td>alto        </td></tr>\n",
       "\t<tr><td>desconhecida</td><td>alta        </td><td>nenhuma     </td><td>15_35       </td><td>alto        </td></tr>\n",
       "\t<tr><td>desconhecida</td><td>baixa       </td><td>nenhuma     </td><td>15_35       </td><td>moderado    </td></tr>\n",
       "\t<tr><td>desconhecida</td><td>baixa       </td><td>nenhuma     </td><td>acima_35    </td><td>alto        </td></tr>\n",
       "\t<tr><td>desconhecida</td><td>baixa       </td><td>nenhuma     </td><td>acima_35    </td><td>baixo       </td></tr>\n",
       "\t<tr><td>desconhecida</td><td>baixa       </td><td>adequada    </td><td>acima_35    </td><td>baixo       </td></tr>\n",
       "</tbody>\n",
       "</table>\n"
      ],
      "text/latex": [
       "\\begin{tabular}{r|lllll}\n",
       " historia & divida & garantias & renda & risco\\\\\n",
       "\\hline\n",
       "\t ruim         & alta         & nenhuma      & 0\\_15       & alto        \\\\\n",
       "\t desconhecida & alta         & nenhuma      & 15\\_35      & alto        \\\\\n",
       "\t desconhecida & baixa        & nenhuma      & 15\\_35      & moderado    \\\\\n",
       "\t desconhecida & baixa        & nenhuma      & acima\\_35   & alto        \\\\\n",
       "\t desconhecida & baixa        & nenhuma      & acima\\_35   & baixo       \\\\\n",
       "\t desconhecida & baixa        & adequada     & acima\\_35   & baixo       \\\\\n",
       "\\end{tabular}\n"
      ],
      "text/markdown": [
       "\n",
       "| historia | divida | garantias | renda | risco |\n",
       "|---|---|---|---|---|\n",
       "| ruim         | alta         | nenhuma      | 0_15         | alto         |\n",
       "| desconhecida | alta         | nenhuma      | 15_35        | alto         |\n",
       "| desconhecida | baixa        | nenhuma      | 15_35        | moderado     |\n",
       "| desconhecida | baixa        | nenhuma      | acima_35     | alto         |\n",
       "| desconhecida | baixa        | nenhuma      | acima_35     | baixo        |\n",
       "| desconhecida | baixa        | adequada     | acima_35     | baixo        |\n",
       "\n"
      ],
      "text/plain": [
       "  historia     divida garantias renda    risco   \n",
       "1 ruim         alta   nenhuma   0_15     alto    \n",
       "2 desconhecida alta   nenhuma   15_35    alto    \n",
       "3 desconhecida baixa  nenhuma   15_35    moderado\n",
       "4 desconhecida baixa  nenhuma   acima_35 alto    \n",
       "5 desconhecida baixa  nenhuma   acima_35 baixo   \n",
       "6 desconhecida baixa  adequada  acima_35 baixo   "
      ]
     },
     "metadata": {},
     "output_type": "display_data"
    }
   ],
   "source": [
    "risco = read.csv('datasets/risco_credito.csv')\n",
    "head(risco)"
   ]
  },
  {
   "cell_type": "markdown",
   "id": "c45c75f6-80ab-466e-8cc6-cc67107203aa",
   "metadata": {},
   "source": [
    "## Análise dos Dados\n",
    "\n",
    "- história - Categórica Nominal\n",
    "- divida - Categórica Ordinal\n",
    "- garandias - Categórica Nominal\n",
    "- renda - Categórica Ordinal\n",
    "- risco - Categórica Ordinal"
   ]
  },
  {
   "cell_type": "code",
   "execution_count": 58,
   "id": "57644521-b915-4f90-ba81-d5eadc03e5cc",
   "metadata": {},
   "outputs": [
    {
     "name": "stdout",
     "output_type": "stream",
     "text": [
      "'data.frame':\t14 obs. of  5 variables:\n",
      " $ historia : Factor w/ 3 levels \"boa\",\"desconhecida\",..: 3 2 2 2 2 2 3 3 1 1 ...\n",
      " $ divida   : Factor w/ 2 levels \"alta\",\"baixa\": 1 1 2 2 2 2 2 2 2 1 ...\n",
      " $ garantias: Factor w/ 2 levels \"adequada\",\"nenhuma\": 2 2 2 2 2 1 2 1 2 1 ...\n",
      " $ renda    : Factor w/ 3 levels \"0_15\",\"15_35\",..: 1 2 2 3 3 3 1 3 3 3 ...\n",
      " $ risco    : Factor w/ 3 levels \"alto\",\"baixo\",..: 1 1 3 1 2 2 1 3 2 2 ...\n"
     ]
    }
   ],
   "source": [
    "str(risco)"
   ]
  },
  {
   "cell_type": "markdown",
   "id": "35c492cd-8e3d-4de8-b56b-c4ef8334570e",
   "metadata": {},
   "source": [
    "## Converter Valores Categóricos para Inteiros\n",
    "\n",
    "\n",
    "- A função **factor** usa um mapeamento para transformar\n",
    "\n",
    "```R\n",
    "factor(coluna, levels = c(\"valores Categóricos\"), labels = c(valores numéricos) )\n",
    "``` "
   ]
  },
  {
   "cell_type": "code",
   "execution_count": 61,
   "id": "8eddbaf1-44fb-4617-a9d7-fb83e7c519fd",
   "metadata": {},
   "outputs": [
    {
     "data": {
      "text/html": [
       "<table>\n",
       "<thead><tr><th scope=col>historia</th><th scope=col>divida</th><th scope=col>garantias</th><th scope=col>renda</th><th scope=col>risco</th></tr></thead>\n",
       "<tbody>\n",
       "\t<tr><td>1       </td><td>1       </td><td>1       </td><td>1       </td><td>alto    </td></tr>\n",
       "\t<tr><td>2       </td><td>1       </td><td>1       </td><td>2       </td><td>alto    </td></tr>\n",
       "\t<tr><td>2       </td><td>2       </td><td>1       </td><td>2       </td><td>moderado</td></tr>\n",
       "\t<tr><td>2       </td><td>2       </td><td>1       </td><td>3       </td><td>alto    </td></tr>\n",
       "\t<tr><td>2       </td><td>2       </td><td>1       </td><td>3       </td><td>baixo   </td></tr>\n",
       "\t<tr><td>2       </td><td>2       </td><td>2       </td><td>3       </td><td>baixo   </td></tr>\n",
       "</tbody>\n",
       "</table>\n"
      ],
      "text/latex": [
       "\\begin{tabular}{r|lllll}\n",
       " historia & divida & garantias & renda & risco\\\\\n",
       "\\hline\n",
       "\t 1        & 1        & 1        & 1        & alto    \\\\\n",
       "\t 2        & 1        & 1        & 2        & alto    \\\\\n",
       "\t 2        & 2        & 1        & 2        & moderado\\\\\n",
       "\t 2        & 2        & 1        & 3        & alto    \\\\\n",
       "\t 2        & 2        & 1        & 3        & baixo   \\\\\n",
       "\t 2        & 2        & 2        & 3        & baixo   \\\\\n",
       "\\end{tabular}\n"
      ],
      "text/markdown": [
       "\n",
       "| historia | divida | garantias | renda | risco |\n",
       "|---|---|---|---|---|\n",
       "| 1        | 1        | 1        | 1        | alto     |\n",
       "| 2        | 1        | 1        | 2        | alto     |\n",
       "| 2        | 2        | 1        | 2        | moderado |\n",
       "| 2        | 2        | 1        | 3        | alto     |\n",
       "| 2        | 2        | 1        | 3        | baixo    |\n",
       "| 2        | 2        | 2        | 3        | baixo    |\n",
       "\n"
      ],
      "text/plain": [
       "  historia divida garantias renda risco   \n",
       "1 1        1      1         1     alto    \n",
       "2 2        1      1         2     alto    \n",
       "3 2        2      1         2     moderado\n",
       "4 2        2      1         3     alto    \n",
       "5 2        2      1         3     baixo   \n",
       "6 2        2      2         3     baixo   "
      ]
     },
     "metadata": {},
     "output_type": "display_data"
    }
   ],
   "source": [
    "risco$historia = factor(risco$historia, levels = unique(risco$historia), labels = 1:3)\n",
    "risco$divida = factor(risco$divida, levels = unique(risco$divida), labels = 1:2)\n",
    "risco$garantias= factor(risco$garantias, levels = unique(risco$garantias), labels = 1:2)\n",
    "risco$renda = factor(risco$renda, levels = unique(risco$renda), labels = 1:3)\n",
    "\n",
    "head(risco)"
   ]
  }
 ],
 "metadata": {
  "kernelspec": {
   "display_name": "R",
   "language": "R",
   "name": "ir"
  },
  "language_info": {
   "codemirror_mode": "r",
   "file_extension": ".r",
   "mimetype": "text/x-r-source",
   "name": "R",
   "pygments_lexer": "r",
   "version": "3.6.1"
  }
 },
 "nbformat": 4,
 "nbformat_minor": 5
}
