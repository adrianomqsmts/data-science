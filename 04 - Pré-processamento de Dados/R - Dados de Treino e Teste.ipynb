{
 "cells": [
  {
   "cell_type": "markdown",
   "id": "d45f8af2-d596-4730-9af9-7660ab7c735a",
   "metadata": {},
   "source": [
    "# Dados de Treino e Teste"
   ]
  },
  {
   "cell_type": "markdown",
   "id": "ec535519-832d-4040-bd2e-f750c8d261c5",
   "metadata": {},
   "source": [
    "## Carregando Biblioteca"
   ]
  },
  {
   "cell_type": "code",
   "execution_count": 10,
   "id": "af57c70f-2966-43fa-8e36-a0d525d24124",
   "metadata": {},
   "outputs": [],
   "source": [
    "library(repr)\n",
    "library(caTools)\n",
    "options(repr.plot.width = 4, repr.plot.height = 4)"
   ]
  },
  {
   "cell_type": "markdown",
   "id": "95475d31-23f5-48c8-a2bb-6a2d07558933",
   "metadata": {},
   "source": [
    "## Carregando os dados"
   ]
  },
  {
   "cell_type": "code",
   "execution_count": 5,
   "id": "5229ea3e-6c85-4211-9ec3-07fb384d88ad",
   "metadata": {},
   "outputs": [
    {
     "data": {
      "text/html": [
       "<table>\n",
       "<thead><tr><th scope=col>PassengerId</th><th scope=col>Survived</th><th scope=col>Pclass</th><th scope=col>Name</th><th scope=col>Sex</th><th scope=col>Age</th><th scope=col>SibSp</th><th scope=col>Parch</th><th scope=col>Ticket</th><th scope=col>Fare</th><th scope=col>Cabin</th><th scope=col>Embarked</th></tr></thead>\n",
       "<tbody>\n",
       "\t<tr><td>1                                                  </td><td>0                                                  </td><td>3                                                  </td><td>Braund, Mr. Owen Harris                            </td><td>male                                               </td><td>22                                                 </td><td>1                                                  </td><td>0                                                  </td><td>A/5 21171                                          </td><td> 7.2500                                            </td><td>NA                                                 </td><td>S                                                  </td></tr>\n",
       "\t<tr><td>2                                                  </td><td>1                                                  </td><td>1                                                  </td><td>Cumings, Mrs. John Bradley (Florence Briggs Thayer)</td><td>female                                             </td><td>38                                                 </td><td>1                                                  </td><td>0                                                  </td><td>PC 17599                                           </td><td>71.2833                                            </td><td>C85                                                </td><td>C                                                  </td></tr>\n",
       "\t<tr><td>3                                                  </td><td>1                                                  </td><td>3                                                  </td><td>Heikkinen, Miss. Laina                             </td><td>female                                             </td><td>26                                                 </td><td>0                                                  </td><td>0                                                  </td><td>STON/O2. 3101282                                   </td><td> 7.9250                                            </td><td>NA                                                 </td><td>S                                                  </td></tr>\n",
       "\t<tr><td>4                                                  </td><td>1                                                  </td><td>1                                                  </td><td>Futrelle, Mrs. Jacques Heath (Lily May Peel)       </td><td>female                                             </td><td>35                                                 </td><td>1                                                  </td><td>0                                                  </td><td>113803                                             </td><td>53.1000                                            </td><td>C123                                               </td><td>S                                                  </td></tr>\n",
       "\t<tr><td>5                                                  </td><td>0                                                  </td><td>3                                                  </td><td>Allen, Mr. William Henry                           </td><td>male                                               </td><td>35                                                 </td><td>0                                                  </td><td>0                                                  </td><td>373450                                             </td><td> 8.0500                                            </td><td>NA                                                 </td><td>S                                                  </td></tr>\n",
       "\t<tr><td>6                                                  </td><td>0                                                  </td><td>3                                                  </td><td>Moran, Mr. James                                   </td><td>male                                               </td><td>NA                                                 </td><td>0                                                  </td><td>0                                                  </td><td>330877                                             </td><td> 8.4583                                            </td><td>NA                                                 </td><td>Q                                                  </td></tr>\n",
       "</tbody>\n",
       "</table>\n"
      ],
      "text/latex": [
       "\\begin{tabular}{r|llllllllllll}\n",
       " PassengerId & Survived & Pclass & Name & Sex & Age & SibSp & Parch & Ticket & Fare & Cabin & Embarked\\\\\n",
       "\\hline\n",
       "\t 1                                                   & 0                                                   & 3                                                   & Braund, Mr. Owen Harris                             & male                                                & 22                                                  & 1                                                   & 0                                                   & A/5 21171                                           &  7.2500                                             & NA                                                  & S                                                  \\\\\n",
       "\t 2                                                   & 1                                                   & 1                                                   & Cumings, Mrs. John Bradley (Florence Briggs Thayer) & female                                              & 38                                                  & 1                                                   & 0                                                   & PC 17599                                            & 71.2833                                             & C85                                                 & C                                                  \\\\\n",
       "\t 3                                                   & 1                                                   & 3                                                   & Heikkinen, Miss. Laina                              & female                                              & 26                                                  & 0                                                   & 0                                                   & STON/O2. 3101282                                    &  7.9250                                             & NA                                                  & S                                                  \\\\\n",
       "\t 4                                                   & 1                                                   & 1                                                   & Futrelle, Mrs. Jacques Heath (Lily May Peel)        & female                                              & 35                                                  & 1                                                   & 0                                                   & 113803                                              & 53.1000                                             & C123                                                & S                                                  \\\\\n",
       "\t 5                                                   & 0                                                   & 3                                                   & Allen, Mr. William Henry                            & male                                                & 35                                                  & 0                                                   & 0                                                   & 373450                                              &  8.0500                                             & NA                                                  & S                                                  \\\\\n",
       "\t 6                                                   & 0                                                   & 3                                                   & Moran, Mr. James                                    & male                                                & NA                                                  & 0                                                   & 0                                                   & 330877                                              &  8.4583                                             & NA                                                  & Q                                                  \\\\\n",
       "\\end{tabular}\n"
      ],
      "text/markdown": [
       "\n",
       "| PassengerId | Survived | Pclass | Name | Sex | Age | SibSp | Parch | Ticket | Fare | Cabin | Embarked |\n",
       "|---|---|---|---|---|---|---|---|---|---|---|---|\n",
       "| 1                                                   | 0                                                   | 3                                                   | Braund, Mr. Owen Harris                             | male                                                | 22                                                  | 1                                                   | 0                                                   | A/5 21171                                           |  7.2500                                             | NA                                                  | S                                                   |\n",
       "| 2                                                   | 1                                                   | 1                                                   | Cumings, Mrs. John Bradley (Florence Briggs Thayer) | female                                              | 38                                                  | 1                                                   | 0                                                   | PC 17599                                            | 71.2833                                             | C85                                                 | C                                                   |\n",
       "| 3                                                   | 1                                                   | 3                                                   | Heikkinen, Miss. Laina                              | female                                              | 26                                                  | 0                                                   | 0                                                   | STON/O2. 3101282                                    |  7.9250                                             | NA                                                  | S                                                   |\n",
       "| 4                                                   | 1                                                   | 1                                                   | Futrelle, Mrs. Jacques Heath (Lily May Peel)        | female                                              | 35                                                  | 1                                                   | 0                                                   | 113803                                              | 53.1000                                             | C123                                                | S                                                   |\n",
       "| 5                                                   | 0                                                   | 3                                                   | Allen, Mr. William Henry                            | male                                                | 35                                                  | 0                                                   | 0                                                   | 373450                                              |  8.0500                                             | NA                                                  | S                                                   |\n",
       "| 6                                                   | 0                                                   | 3                                                   | Moran, Mr. James                                    | male                                                | NA                                                  | 0                                                   | 0                                                   | 330877                                              |  8.4583                                             | NA                                                  | Q                                                   |\n",
       "\n"
      ],
      "text/plain": [
       "  PassengerId Survived Pclass\n",
       "1 1           0        3     \n",
       "2 2           1        1     \n",
       "3 3           1        3     \n",
       "4 4           1        1     \n",
       "5 5           0        3     \n",
       "6 6           0        3     \n",
       "  Name                                                Sex    Age SibSp Parch\n",
       "1 Braund, Mr. Owen Harris                             male   22  1     0    \n",
       "2 Cumings, Mrs. John Bradley (Florence Briggs Thayer) female 38  1     0    \n",
       "3 Heikkinen, Miss. Laina                              female 26  0     0    \n",
       "4 Futrelle, Mrs. Jacques Heath (Lily May Peel)        female 35  1     0    \n",
       "5 Allen, Mr. William Henry                            male   35  0     0    \n",
       "6 Moran, Mr. James                                    male   NA  0     0    \n",
       "  Ticket           Fare    Cabin Embarked\n",
       "1 A/5 21171         7.2500 NA    S       \n",
       "2 PC 17599         71.2833 C85   C       \n",
       "3 STON/O2. 3101282  7.9250 NA    S       \n",
       "4 113803           53.1000 C123  S       \n",
       "5 373450            8.0500 NA    S       \n",
       "6 330877            8.4583 NA    Q       "
      ]
     },
     "metadata": {},
     "output_type": "display_data"
    }
   ],
   "source": [
    "df = read.csv(\"../datasets/titanic/train.csv\", na.strings = '')\n",
    "head(df)"
   ]
  },
  {
   "cell_type": "markdown",
   "id": "6cb0311a-8cde-4470-9232-b1e61cdbb7e8",
   "metadata": {},
   "source": [
    "## Pré-Processamento de Dados"
   ]
  },
  {
   "cell_type": "code",
   "execution_count": 6,
   "id": "9fc76e0f-1e51-4ca2-a27f-34c17314dfe2",
   "metadata": {},
   "outputs": [
    {
     "data": {
      "text/html": [
       "<table>\n",
       "<thead><tr><th scope=col>Survived</th><th scope=col>Pclass</th><th scope=col>Name</th><th scope=col>Sex</th><th scope=col>Age</th><th scope=col>SibSp</th><th scope=col>Parch</th><th scope=col>Fare</th><th scope=col>Embarked</th></tr></thead>\n",
       "<tbody>\n",
       "\t<tr><td>0         </td><td>3         </td><td>1         </td><td>0         </td><td>-0.5921480</td><td>1         </td><td>0         </td><td>-0.5021631</td><td>1         </td></tr>\n",
       "\t<tr><td>1         </td><td>1         </td><td>2         </td><td>1         </td><td> 0.6384304</td><td>1         </td><td>0         </td><td> 0.7864036</td><td>2         </td></tr>\n",
       "\t<tr><td>1         </td><td>3         </td><td>3         </td><td>1         </td><td>-0.2845034</td><td>0         </td><td>0         </td><td>-0.4885799</td><td>1         </td></tr>\n",
       "\t<tr><td>1         </td><td>1         </td><td>2         </td><td>1         </td><td> 0.4076970</td><td>1         </td><td>0         </td><td> 0.4204941</td><td>1         </td></tr>\n",
       "\t<tr><td>0         </td><td>3         </td><td>1         </td><td>0         </td><td> 0.4076970</td><td>0         </td><td>0         </td><td>-0.4860644</td><td>1         </td></tr>\n",
       "\t<tr><td>0         </td><td>3         </td><td>1         </td><td>0         </td><td> 0.0000000</td><td>0         </td><td>0         </td><td>-0.4778481</td><td>3         </td></tr>\n",
       "</tbody>\n",
       "</table>\n"
      ],
      "text/latex": [
       "\\begin{tabular}{r|lllllllll}\n",
       " Survived & Pclass & Name & Sex & Age & SibSp & Parch & Fare & Embarked\\\\\n",
       "\\hline\n",
       "\t 0          & 3          & 1          & 0          & -0.5921480 & 1          & 0          & -0.5021631 & 1         \\\\\n",
       "\t 1          & 1          & 2          & 1          &  0.6384304 & 1          & 0          &  0.7864036 & 2         \\\\\n",
       "\t 1          & 3          & 3          & 1          & -0.2845034 & 0          & 0          & -0.4885799 & 1         \\\\\n",
       "\t 1          & 1          & 2          & 1          &  0.4076970 & 1          & 0          &  0.4204941 & 1         \\\\\n",
       "\t 0          & 3          & 1          & 0          &  0.4076970 & 0          & 0          & -0.4860644 & 1         \\\\\n",
       "\t 0          & 3          & 1          & 0          &  0.0000000 & 0          & 0          & -0.4778481 & 3         \\\\\n",
       "\\end{tabular}\n"
      ],
      "text/markdown": [
       "\n",
       "| Survived | Pclass | Name | Sex | Age | SibSp | Parch | Fare | Embarked |\n",
       "|---|---|---|---|---|---|---|---|---|\n",
       "| 0          | 3          | 1          | 0          | -0.5921480 | 1          | 0          | -0.5021631 | 1          |\n",
       "| 1          | 1          | 2          | 1          |  0.6384304 | 1          | 0          |  0.7864036 | 2          |\n",
       "| 1          | 3          | 3          | 1          | -0.2845034 | 0          | 0          | -0.4885799 | 1          |\n",
       "| 1          | 1          | 2          | 1          |  0.4076970 | 1          | 0          |  0.4204941 | 1          |\n",
       "| 0          | 3          | 1          | 0          |  0.4076970 | 0          | 0          | -0.4860644 | 1          |\n",
       "| 0          | 3          | 1          | 0          |  0.0000000 | 0          | 0          | -0.4778481 | 3          |\n",
       "\n"
      ],
      "text/plain": [
       "  Survived Pclass Name Sex Age        SibSp Parch Fare       Embarked\n",
       "1 0        3      1    0   -0.5921480 1     0     -0.5021631 1       \n",
       "2 1        1      2    1    0.6384304 1     0      0.7864036 2       \n",
       "3 1        3      3    1   -0.2845034 0     0     -0.4885799 1       \n",
       "4 1        1      2    1    0.4076970 1     0      0.4204941 1       \n",
       "5 0        3      1    0    0.4076970 0     0     -0.4860644 1       \n",
       "6 0        3      1    0    0.0000000 0     0     -0.4778481 3       "
      ]
     },
     "metadata": {},
     "output_type": "display_data"
    }
   ],
   "source": [
    "# Extração de Pronomes\n",
    "df$Name <- ifelse(grepl(\", Mr. \", df$Name), 'Mr', as.character(df$Name))\n",
    "df$Name <- ifelse(grepl(\"Capt\", df$Name), 'Tripulacao', as.character(df$Name))\n",
    "df$Name <- ifelse(grepl(\"Don\", df$Name), 'Mr', as.character(df$Name))\n",
    "df$Name <- ifelse(grepl(\"Major\", df$Name), 'Tripulacao', as.character(df$Name))\n",
    "df$Name <- ifelse(grepl(\"Col\", df$Name), 'Tripulacao', as.character(df$Name))\n",
    "df$Name <- ifelse(grepl(\"Dr\", df$Name), 'Dr', as.character(df$Name))\n",
    "df$Name <- ifelse(grepl(\"Rev\", df$Name), 'Rev', as.character(df$Name))\n",
    "df$Name <- ifelse(grepl(\"Sir\", df$Name), 'Mr', as.character(df$Name))\n",
    "df$Name <- ifelse(grepl(\"Jonkheer\", df$Name), 'Mr', as.character(df$Name))\n",
    "df$Name <- ifelse(grepl(\"Dona\", df$Name), 'Mrs', as.character(df$Name))\n",
    "df$Name <- ifelse(grepl(\"Countess\", df$Name), 'Mrs', as.character(df$Name))\n",
    "df$Name <- ifelse(grepl(\"Mme\", df$Name), 'Mrs', as.character(df$Name))\n",
    "df$Name <- ifelse(grepl(\"Lady\", df$Name), 'Mrs', as.character(df$Name))\n",
    "df$Name <- ifelse(grepl(\"Mrs\", df$Name), 'Mrs', as.character(df$Name))\n",
    "df$Name <- ifelse(grepl(\"Mlle\", df$Name), 'Miss', as.character(df$Name))\n",
    "df$Name <- ifelse(grepl(\"Ms\", df$Name), 'Miss', as.character(df$Name))\n",
    "df$Name <- ifelse(grepl(\"Miss\", df$Name), 'Miss', as.character(df$Name))\n",
    "df$Name <- ifelse(grepl(\"Master\", df$Name), 'Master', as.character(df$Name))\n",
    "\n",
    "# Categóricas para Numéricas\n",
    "df$Name = factor(df$Name, levels = unique(df$Name), labels = 1:7)\n",
    "\n",
    "# Substituir valores ausentes/nulos\n",
    "media = mean(df$Age, na.rm = TRUE)\n",
    "df$Age = ifelse(is.na(df$Age), media, df$Age)\n",
    "\n",
    "t = table(df$Embarked)\n",
    "moda = names(t[t == max(t)])\n",
    "\n",
    "df$Embarked <- ifelse(is.na(df$Embarked), as.character(moda), as.character(df$Embarked) )\n",
    "\n",
    "# Categórico Para numérico\n",
    "df$Sex = factor(df$Sex, levels = unique(df$Sex), labels = 0:1)\n",
    "\n",
    "df$Embarked = factor(df$Embarked, levels = unique(df$Embarked), labels = 1:3)\n",
    "\n",
    "# Remoção de colunas\n",
    "df$PassengerId = NULL\n",
    "df$Ticket = NULL\n",
    "df$Cabin = NULL\n",
    "\n",
    "#Escalonamento \n",
    "df[, c('Age', 'Fare')] = scale(df[, c('Age', 'Fare')])\n",
    "\n",
    "head(df)"
   ]
  },
  {
   "cell_type": "markdown",
   "id": "95571d0a-2f2d-4849-b26d-cdbc1a9c2408",
   "metadata": {},
   "source": [
    "# Divisão dos dados em treino e teste\n",
    "\n",
    "- A função **sample.split** da **biblioteca caTools** realiza a subdisão dos dados.\n",
    "- **Def**: Divida os dados do vetor Y em dois conjuntos em proporção predefinida enquanto preserva as proporções relativas de rótulos diferentes em Y. Usado para dividir os dados usados durante a classificação em subconjuntos de treino e teste. \n",
    "    - **SplitRatio** - Define a razão de divisão (Porcentagem de treinamento)\n",
    "- **set.seed(n)** - Nos permite executar sempre as mesmas amostras aleatória nos testes. \n",
    "- **sample.split** retorna um vetor de verdadeiro e falso, que irão nos permitir selecionar linhas do dataframe, com o auxílio da função **subset**."
   ]
  },
  {
   "cell_type": "code",
   "execution_count": 17,
   "id": "081df735-5571-4e23-8026-aaa293c8a544",
   "metadata": {},
   "outputs": [],
   "source": [
    "set.seed(0)\n",
    "divisao = sample.split(df$Survived, SplitRatio = 0.75)\n",
    "\n",
    "treino = subset(df, divisao == TRUE)\n",
    "teste =  subset(df, divisao == FALSE)\n",
    "\n",
    "x_train = treino[,-1]\n",
    "y_train = treino$Survived\n",
    "\n",
    "x_test = teste[,-1]\n",
    "y_test = teste$Survived"
   ]
  },
  {
   "cell_type": "code",
   "execution_count": 18,
   "id": "3e60d676-ee92-4362-b6fc-3d390449265f",
   "metadata": {},
   "outputs": [
    {
     "data": {
      "text/html": [
       "<table>\n",
       "<thead><tr><th></th><th scope=col>Pclass</th><th scope=col>Name</th><th scope=col>Sex</th><th scope=col>Age</th><th scope=col>SibSp</th><th scope=col>Parch</th><th scope=col>Fare</th><th scope=col>Embarked</th></tr></thead>\n",
       "<tbody>\n",
       "\t<tr><th scope=row>2</th><td>1         </td><td>2         </td><td>1         </td><td> 0.6384304</td><td>1         </td><td>0         </td><td> 0.7864036</td><td>2         </td></tr>\n",
       "\t<tr><th scope=row>3</th><td>3         </td><td>3         </td><td>1         </td><td>-0.2845034</td><td>0         </td><td>0         </td><td>-0.4885799</td><td>1         </td></tr>\n",
       "\t<tr><th scope=row>5</th><td>3         </td><td>1         </td><td>0         </td><td> 0.4076970</td><td>0         </td><td>0         </td><td>-0.4860644</td><td>1         </td></tr>\n",
       "\t<tr><th scope=row>6</th><td>3         </td><td>1         </td><td>0         </td><td> 0.0000000</td><td>0         </td><td>0         </td><td>-0.4778481</td><td>3         </td></tr>\n",
       "\t<tr><th scope=row>7</th><td>1         </td><td>1         </td><td>0         </td><td> 1.8690089</td><td>0         </td><td>0         </td><td> 0.3955914</td><td>1         </td></tr>\n",
       "\t<tr><th scope=row>9</th><td>3         </td><td>2         </td><td>1         </td><td>-0.2075923</td><td>0         </td><td>2         </td><td>-0.4240180</td><td>1         </td></tr>\n",
       "</tbody>\n",
       "</table>\n"
      ],
      "text/latex": [
       "\\begin{tabular}{r|llllllll}\n",
       "  & Pclass & Name & Sex & Age & SibSp & Parch & Fare & Embarked\\\\\n",
       "\\hline\n",
       "\t2 & 1          & 2          & 1          &  0.6384304 & 1          & 0          &  0.7864036 & 2         \\\\\n",
       "\t3 & 3          & 3          & 1          & -0.2845034 & 0          & 0          & -0.4885799 & 1         \\\\\n",
       "\t5 & 3          & 1          & 0          &  0.4076970 & 0          & 0          & -0.4860644 & 1         \\\\\n",
       "\t6 & 3          & 1          & 0          &  0.0000000 & 0          & 0          & -0.4778481 & 3         \\\\\n",
       "\t7 & 1          & 1          & 0          &  1.8690089 & 0          & 0          &  0.3955914 & 1         \\\\\n",
       "\t9 & 3          & 2          & 1          & -0.2075923 & 0          & 2          & -0.4240180 & 1         \\\\\n",
       "\\end{tabular}\n"
      ],
      "text/markdown": [
       "\n",
       "| <!--/--> | Pclass | Name | Sex | Age | SibSp | Parch | Fare | Embarked |\n",
       "|---|---|---|---|---|---|---|---|---|\n",
       "| 2 | 1          | 2          | 1          |  0.6384304 | 1          | 0          |  0.7864036 | 2          |\n",
       "| 3 | 3          | 3          | 1          | -0.2845034 | 0          | 0          | -0.4885799 | 1          |\n",
       "| 5 | 3          | 1          | 0          |  0.4076970 | 0          | 0          | -0.4860644 | 1          |\n",
       "| 6 | 3          | 1          | 0          |  0.0000000 | 0          | 0          | -0.4778481 | 3          |\n",
       "| 7 | 1          | 1          | 0          |  1.8690089 | 0          | 0          |  0.3955914 | 1          |\n",
       "| 9 | 3          | 2          | 1          | -0.2075923 | 0          | 2          | -0.4240180 | 1          |\n",
       "\n"
      ],
      "text/plain": [
       "  Pclass Name Sex Age        SibSp Parch Fare       Embarked\n",
       "2 1      2    1    0.6384304 1     0      0.7864036 2       \n",
       "3 3      3    1   -0.2845034 0     0     -0.4885799 1       \n",
       "5 3      1    0    0.4076970 0     0     -0.4860644 1       \n",
       "6 3      1    0    0.0000000 0     0     -0.4778481 3       \n",
       "7 1      1    0    1.8690089 0     0      0.3955914 1       \n",
       "9 3      2    1   -0.2075923 0     2     -0.4240180 1       "
      ]
     },
     "metadata": {},
     "output_type": "display_data"
    }
   ],
   "source": [
    "head(x_train)"
   ]
  },
  {
   "cell_type": "code",
   "execution_count": 19,
   "id": "81f62415-3540-4980-9ad8-192b63c20fc1",
   "metadata": {},
   "outputs": [
    {
     "data": {
      "text/html": [
       "<table>\n",
       "<thead><tr><th></th><th scope=col>Pclass</th><th scope=col>Name</th><th scope=col>Sex</th><th scope=col>Age</th><th scope=col>SibSp</th><th scope=col>Parch</th><th scope=col>Fare</th><th scope=col>Embarked</th></tr></thead>\n",
       "<tbody>\n",
       "\t<tr><th scope=row>1</th><td>3          </td><td>1          </td><td>0          </td><td>-0.5921480 </td><td>1          </td><td>0          </td><td>-0.50216314</td><td>1          </td></tr>\n",
       "\t<tr><th scope=row>4</th><td>1          </td><td>2          </td><td>1          </td><td> 0.4076970 </td><td>1          </td><td>0          </td><td> 0.42049407</td><td>1          </td></tr>\n",
       "\t<tr><th scope=row>8</th><td>3          </td><td>4          </td><td>0          </td><td>-2.1303711 </td><td>3          </td><td>1          </td><td>-0.22395734</td><td>1          </td></tr>\n",
       "\t<tr><th scope=row>11</th><td>3          </td><td>3          </td><td>1          </td><td>-1.9765488 </td><td>1          </td><td>1          </td><td>-0.31199715</td><td>1          </td></tr>\n",
       "\t<tr><th scope=row>12</th><td>1          </td><td>3          </td><td>1          </td><td> 2.1766535 </td><td>0          </td><td>0          </td><td>-0.11378180</td><td>1          </td></tr>\n",
       "\t<tr><th scope=row>14</th><td>3          </td><td>1          </td><td>0          </td><td> 0.7153416 </td><td>1          </td><td>5          </td><td>-0.01869881</td><td>1          </td></tr>\n",
       "</tbody>\n",
       "</table>\n"
      ],
      "text/latex": [
       "\\begin{tabular}{r|llllllll}\n",
       "  & Pclass & Name & Sex & Age & SibSp & Parch & Fare & Embarked\\\\\n",
       "\\hline\n",
       "\t1 & 3           & 1           & 0           & -0.5921480  & 1           & 0           & -0.50216314 & 1          \\\\\n",
       "\t4 & 1           & 2           & 1           &  0.4076970  & 1           & 0           &  0.42049407 & 1          \\\\\n",
       "\t8 & 3           & 4           & 0           & -2.1303711  & 3           & 1           & -0.22395734 & 1          \\\\\n",
       "\t11 & 3           & 3           & 1           & -1.9765488  & 1           & 1           & -0.31199715 & 1          \\\\\n",
       "\t12 & 1           & 3           & 1           &  2.1766535  & 0           & 0           & -0.11378180 & 1          \\\\\n",
       "\t14 & 3           & 1           & 0           &  0.7153416  & 1           & 5           & -0.01869881 & 1          \\\\\n",
       "\\end{tabular}\n"
      ],
      "text/markdown": [
       "\n",
       "| <!--/--> | Pclass | Name | Sex | Age | SibSp | Parch | Fare | Embarked |\n",
       "|---|---|---|---|---|---|---|---|---|\n",
       "| 1 | 3           | 1           | 0           | -0.5921480  | 1           | 0           | -0.50216314 | 1           |\n",
       "| 4 | 1           | 2           | 1           |  0.4076970  | 1           | 0           |  0.42049407 | 1           |\n",
       "| 8 | 3           | 4           | 0           | -2.1303711  | 3           | 1           | -0.22395734 | 1           |\n",
       "| 11 | 3           | 3           | 1           | -1.9765488  | 1           | 1           | -0.31199715 | 1           |\n",
       "| 12 | 1           | 3           | 1           |  2.1766535  | 0           | 0           | -0.11378180 | 1           |\n",
       "| 14 | 3           | 1           | 0           |  0.7153416  | 1           | 5           | -0.01869881 | 1           |\n",
       "\n"
      ],
      "text/plain": [
       "   Pclass Name Sex Age        SibSp Parch Fare        Embarked\n",
       "1  3      1    0   -0.5921480 1     0     -0.50216314 1       \n",
       "4  1      2    1    0.4076970 1     0      0.42049407 1       \n",
       "8  3      4    0   -2.1303711 3     1     -0.22395734 1       \n",
       "11 3      3    1   -1.9765488 1     1     -0.31199715 1       \n",
       "12 1      3    1    2.1766535 0     0     -0.11378180 1       \n",
       "14 3      1    0    0.7153416 1     5     -0.01869881 1       "
      ]
     },
     "metadata": {},
     "output_type": "display_data"
    }
   ],
   "source": [
    "head(x_test)"
   ]
  },
  {
   "cell_type": "code",
   "execution_count": 21,
   "id": "a8d04dc9-d251-4a7c-8a14-66780dccd03a",
   "metadata": {},
   "outputs": [
    {
     "data": {
      "text/html": [
       "<ol class=list-inline>\n",
       "\t<li>1</li>\n",
       "\t<li>1</li>\n",
       "\t<li>0</li>\n",
       "\t<li>0</li>\n",
       "\t<li>0</li>\n",
       "\t<li>1</li>\n",
       "</ol>\n"
      ],
      "text/latex": [
       "\\begin{enumerate*}\n",
       "\\item 1\n",
       "\\item 1\n",
       "\\item 0\n",
       "\\item 0\n",
       "\\item 0\n",
       "\\item 1\n",
       "\\end{enumerate*}\n"
      ],
      "text/markdown": [
       "1. 1\n",
       "2. 1\n",
       "3. 0\n",
       "4. 0\n",
       "5. 0\n",
       "6. 1\n",
       "\n",
       "\n"
      ],
      "text/plain": [
       "[1] 1 1 0 0 0 1"
      ]
     },
     "metadata": {},
     "output_type": "display_data"
    }
   ],
   "source": [
    "head(y_train)"
   ]
  },
  {
   "cell_type": "code",
   "execution_count": 23,
   "id": "9c37559d-f963-4a7f-9e55-127a6ad6f079",
   "metadata": {},
   "outputs": [
    {
     "data": {
      "text/html": [
       "<ol class=list-inline>\n",
       "\t<li>0</li>\n",
       "\t<li>1</li>\n",
       "\t<li>0</li>\n",
       "\t<li>1</li>\n",
       "\t<li>1</li>\n",
       "\t<li>0</li>\n",
       "</ol>\n"
      ],
      "text/latex": [
       "\\begin{enumerate*}\n",
       "\\item 0\n",
       "\\item 1\n",
       "\\item 0\n",
       "\\item 1\n",
       "\\item 1\n",
       "\\item 0\n",
       "\\end{enumerate*}\n"
      ],
      "text/markdown": [
       "1. 0\n",
       "2. 1\n",
       "3. 0\n",
       "4. 1\n",
       "5. 1\n",
       "6. 0\n",
       "\n",
       "\n"
      ],
      "text/plain": [
       "[1] 0 1 0 1 1 0"
      ]
     },
     "metadata": {},
     "output_type": "display_data"
    }
   ],
   "source": [
    "head(y_test)"
   ]
  }
 ],
 "metadata": {
  "kernelspec": {
   "display_name": "R",
   "language": "R",
   "name": "ir"
  },
  "language_info": {
   "codemirror_mode": "r",
   "file_extension": ".r",
   "mimetype": "text/x-r-source",
   "name": "R",
   "pygments_lexer": "r",
   "version": "3.6.1"
  }
 },
 "nbformat": 4,
 "nbformat_minor": 5
}
