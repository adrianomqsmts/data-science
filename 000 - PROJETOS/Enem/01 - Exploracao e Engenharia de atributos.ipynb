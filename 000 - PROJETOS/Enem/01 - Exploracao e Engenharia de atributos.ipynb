{
 "cells": [
  {
   "cell_type": "markdown",
   "id": "755a2d59-1db6-4a88-ad8f-c77bfdf09c34",
   "metadata": {},
   "source": [
    "# Dicionário de Variáveis\n",
    "\n",
    "**Somente uma parte dos atributos serão analisados, e os escolhidos estão descritos na tabela abaixo**\n",
    "\n",
    "![dicionario](img/atributos.png)"
   ]
  },
  {
   "cell_type": "markdown",
   "id": "57f976f1-25d3-40a3-a518-8c2b8faa4a8f",
   "metadata": {},
   "source": [
    "# Bibliotecas"
   ]
  },
  {
   "cell_type": "code",
   "execution_count": 1,
   "id": "1ae928a0-8bf5-41a7-9724-bde9dbc22fad",
   "metadata": {},
   "outputs": [],
   "source": [
    "import pandas as pd\n",
    "import numpy as np\n",
    "import seaborn as sns\n",
    "import matplotlib.pyplot as plt"
   ]
  },
  {
   "cell_type": "markdown",
   "id": "25d691c2-1ab8-4362-ba6b-60ff473466ba",
   "metadata": {},
   "source": [
    "# Carregamento dos Dados"
   ]
  },
  {
   "cell_type": "code",
   "execution_count": 2,
   "id": "13c7ab98-ec0b-4751-a454-29ab203edaf3",
   "metadata": {},
   "outputs": [
    {
     "name": "stderr",
     "output_type": "stream",
     "text": [
      "C:\\Users\\Adria\\anaconda3\\lib\\site-packages\\IPython\\core\\interactiveshell.py:3165: DtypeWarning: Columns (88,109,120) have mixed types.Specify dtype option on import or set low_memory=False.\n",
      "  has_raised = await self.run_ast_nodes(code_ast.body, cell_name,\n"
     ]
    },
    {
     "data": {
      "text/html": [
       "<div>\n",
       "<style scoped>\n",
       "    .dataframe tbody tr th:only-of-type {\n",
       "        vertical-align: middle;\n",
       "    }\n",
       "\n",
       "    .dataframe tbody tr th {\n",
       "        vertical-align: top;\n",
       "    }\n",
       "\n",
       "    .dataframe thead th {\n",
       "        text-align: right;\n",
       "    }\n",
       "</style>\n",
       "<table border=\"1\" class=\"dataframe\">\n",
       "  <thead>\n",
       "    <tr style=\"text-align: right;\">\n",
       "      <th></th>\n",
       "      <th>NU_IDADE</th>\n",
       "      <th>TP_SEXO</th>\n",
       "      <th>TP_ESTADO_CIVIL</th>\n",
       "      <th>TP_COR_RACA</th>\n",
       "      <th>TP_NACIONALIDADE</th>\n",
       "      <th>TP_ST_CONCLUSAO</th>\n",
       "      <th>TP_ANO_CONCLUIU</th>\n",
       "      <th>TP_ESCOLA</th>\n",
       "      <th>IN_TREINEIRO</th>\n",
       "      <th>IN_SABATISTA</th>\n",
       "      <th>...</th>\n",
       "      <th>NU_NOTA_MT</th>\n",
       "      <th>TP_STATUS_REDACAO</th>\n",
       "      <th>NU_NOTA_REDACAO</th>\n",
       "      <th>Q001</th>\n",
       "      <th>Q002</th>\n",
       "      <th>Q005</th>\n",
       "      <th>Q006</th>\n",
       "      <th>Q025</th>\n",
       "      <th>Q042</th>\n",
       "      <th>Q047</th>\n",
       "    </tr>\n",
       "  </thead>\n",
       "  <tbody>\n",
       "    <tr>\n",
       "      <th>0</th>\n",
       "      <td>23.0</td>\n",
       "      <td>M</td>\n",
       "      <td>0.0</td>\n",
       "      <td>3</td>\n",
       "      <td>1</td>\n",
       "      <td>1</td>\n",
       "      <td>7</td>\n",
       "      <td>1</td>\n",
       "      <td>0</td>\n",
       "      <td>0</td>\n",
       "      <td>...</td>\n",
       "      <td>462.9</td>\n",
       "      <td>1.0</td>\n",
       "      <td>580.0</td>\n",
       "      <td>E</td>\n",
       "      <td>E</td>\n",
       "      <td>2</td>\n",
       "      <td>B</td>\n",
       "      <td>B</td>\n",
       "      <td>C</td>\n",
       "      <td>D</td>\n",
       "    </tr>\n",
       "    <tr>\n",
       "      <th>1</th>\n",
       "      <td>20.0</td>\n",
       "      <td>M</td>\n",
       "      <td>0.0</td>\n",
       "      <td>1</td>\n",
       "      <td>1</td>\n",
       "      <td>1</td>\n",
       "      <td>3</td>\n",
       "      <td>1</td>\n",
       "      <td>0</td>\n",
       "      <td>0</td>\n",
       "      <td>...</td>\n",
       "      <td>423.6</td>\n",
       "      <td>1.0</td>\n",
       "      <td>560.0</td>\n",
       "      <td>H</td>\n",
       "      <td>H</td>\n",
       "      <td>5</td>\n",
       "      <td>D</td>\n",
       "      <td>B</td>\n",
       "      <td>A</td>\n",
       "      <td>D</td>\n",
       "    </tr>\n",
       "    <tr>\n",
       "      <th>2</th>\n",
       "      <td>21.0</td>\n",
       "      <td>M</td>\n",
       "      <td>0.0</td>\n",
       "      <td>3</td>\n",
       "      <td>1</td>\n",
       "      <td>1</td>\n",
       "      <td>1</td>\n",
       "      <td>1</td>\n",
       "      <td>0</td>\n",
       "      <td>0</td>\n",
       "      <td>...</td>\n",
       "      <td>414.6</td>\n",
       "      <td>1.0</td>\n",
       "      <td>480.0</td>\n",
       "      <td>B</td>\n",
       "      <td>E</td>\n",
       "      <td>3</td>\n",
       "      <td>D</td>\n",
       "      <td>B</td>\n",
       "      <td>B</td>\n",
       "      <td>A</td>\n",
       "    </tr>\n",
       "    <tr>\n",
       "      <th>3</th>\n",
       "      <td>17.0</td>\n",
       "      <td>M</td>\n",
       "      <td>0.0</td>\n",
       "      <td>1</td>\n",
       "      <td>1</td>\n",
       "      <td>1</td>\n",
       "      <td>1</td>\n",
       "      <td>1</td>\n",
       "      <td>0</td>\n",
       "      <td>1</td>\n",
       "      <td>...</td>\n",
       "      <td>709.4</td>\n",
       "      <td>1.0</td>\n",
       "      <td>620.0</td>\n",
       "      <td>E</td>\n",
       "      <td>E</td>\n",
       "      <td>5</td>\n",
       "      <td>B</td>\n",
       "      <td>B</td>\n",
       "      <td>D</td>\n",
       "      <td>E</td>\n",
       "    </tr>\n",
       "    <tr>\n",
       "      <th>4</th>\n",
       "      <td>36.0</td>\n",
       "      <td>F</td>\n",
       "      <td>2.0</td>\n",
       "      <td>1</td>\n",
       "      <td>1</td>\n",
       "      <td>1</td>\n",
       "      <td>10</td>\n",
       "      <td>1</td>\n",
       "      <td>0</td>\n",
       "      <td>1</td>\n",
       "      <td>...</td>\n",
       "      <td>NaN</td>\n",
       "      <td>NaN</td>\n",
       "      <td>NaN</td>\n",
       "      <td>A</td>\n",
       "      <td>A</td>\n",
       "      <td>20</td>\n",
       "      <td>A</td>\n",
       "      <td>A</td>\n",
       "      <td>A</td>\n",
       "      <td>A</td>\n",
       "    </tr>\n",
       "    <tr>\n",
       "      <th>5</th>\n",
       "      <td>20.0</td>\n",
       "      <td>M</td>\n",
       "      <td>0.0</td>\n",
       "      <td>3</td>\n",
       "      <td>1</td>\n",
       "      <td>1</td>\n",
       "      <td>2</td>\n",
       "      <td>1</td>\n",
       "      <td>0</td>\n",
       "      <td>0</td>\n",
       "      <td>...</td>\n",
       "      <td>708.1</td>\n",
       "      <td>1.0</td>\n",
       "      <td>600.0</td>\n",
       "      <td>H</td>\n",
       "      <td>B</td>\n",
       "      <td>3</td>\n",
       "      <td>B</td>\n",
       "      <td>B</td>\n",
       "      <td>D</td>\n",
       "      <td>B</td>\n",
       "    </tr>\n",
       "    <tr>\n",
       "      <th>6</th>\n",
       "      <td>41.0</td>\n",
       "      <td>M</td>\n",
       "      <td>1.0</td>\n",
       "      <td>3</td>\n",
       "      <td>1</td>\n",
       "      <td>1</td>\n",
       "      <td>10</td>\n",
       "      <td>1</td>\n",
       "      <td>0</td>\n",
       "      <td>0</td>\n",
       "      <td>...</td>\n",
       "      <td>NaN</td>\n",
       "      <td>NaN</td>\n",
       "      <td>NaN</td>\n",
       "      <td>G</td>\n",
       "      <td>G</td>\n",
       "      <td>4</td>\n",
       "      <td>B</td>\n",
       "      <td>B</td>\n",
       "      <td>D</td>\n",
       "      <td>E</td>\n",
       "    </tr>\n",
       "    <tr>\n",
       "      <th>7</th>\n",
       "      <td>19.0</td>\n",
       "      <td>F</td>\n",
       "      <td>0.0</td>\n",
       "      <td>1</td>\n",
       "      <td>1</td>\n",
       "      <td>1</td>\n",
       "      <td>1</td>\n",
       "      <td>1</td>\n",
       "      <td>0</td>\n",
       "      <td>0</td>\n",
       "      <td>...</td>\n",
       "      <td>798.7</td>\n",
       "      <td>1.0</td>\n",
       "      <td>980.0</td>\n",
       "      <td>F</td>\n",
       "      <td>G</td>\n",
       "      <td>4</td>\n",
       "      <td>J</td>\n",
       "      <td>B</td>\n",
       "      <td>C</td>\n",
       "      <td>D</td>\n",
       "    </tr>\n",
       "    <tr>\n",
       "      <th>8</th>\n",
       "      <td>27.0</td>\n",
       "      <td>F</td>\n",
       "      <td>0.0</td>\n",
       "      <td>1</td>\n",
       "      <td>1</td>\n",
       "      <td>1</td>\n",
       "      <td>9</td>\n",
       "      <td>1</td>\n",
       "      <td>0</td>\n",
       "      <td>0</td>\n",
       "      <td>...</td>\n",
       "      <td>NaN</td>\n",
       "      <td>NaN</td>\n",
       "      <td>NaN</td>\n",
       "      <td>F</td>\n",
       "      <td>F</td>\n",
       "      <td>3</td>\n",
       "      <td>F</td>\n",
       "      <td>B</td>\n",
       "      <td>C</td>\n",
       "      <td>D</td>\n",
       "    </tr>\n",
       "    <tr>\n",
       "      <th>9</th>\n",
       "      <td>23.0</td>\n",
       "      <td>F</td>\n",
       "      <td>1.0</td>\n",
       "      <td>3</td>\n",
       "      <td>1</td>\n",
       "      <td>1</td>\n",
       "      <td>5</td>\n",
       "      <td>1</td>\n",
       "      <td>0</td>\n",
       "      <td>0</td>\n",
       "      <td>...</td>\n",
       "      <td>422.5</td>\n",
       "      <td>1.0</td>\n",
       "      <td>580.0</td>\n",
       "      <td>D</td>\n",
       "      <td>D</td>\n",
       "      <td>2</td>\n",
       "      <td>B</td>\n",
       "      <td>B</td>\n",
       "      <td>A</td>\n",
       "      <td>A</td>\n",
       "    </tr>\n",
       "  </tbody>\n",
       "</table>\n",
       "<p>10 rows × 28 columns</p>\n",
       "</div>"
      ],
      "text/plain": [
       "   NU_IDADE TP_SEXO  TP_ESTADO_CIVIL  TP_COR_RACA  TP_NACIONALIDADE  \\\n",
       "0      23.0       M              0.0            3                 1   \n",
       "1      20.0       M              0.0            1                 1   \n",
       "2      21.0       M              0.0            3                 1   \n",
       "3      17.0       M              0.0            1                 1   \n",
       "4      36.0       F              2.0            1                 1   \n",
       "5      20.0       M              0.0            3                 1   \n",
       "6      41.0       M              1.0            3                 1   \n",
       "7      19.0       F              0.0            1                 1   \n",
       "8      27.0       F              0.0            1                 1   \n",
       "9      23.0       F              1.0            3                 1   \n",
       "\n",
       "   TP_ST_CONCLUSAO  TP_ANO_CONCLUIU  TP_ESCOLA  IN_TREINEIRO  IN_SABATISTA  \\\n",
       "0                1                7          1             0             0   \n",
       "1                1                3          1             0             0   \n",
       "2                1                1          1             0             0   \n",
       "3                1                1          1             0             1   \n",
       "4                1               10          1             0             1   \n",
       "5                1                2          1             0             0   \n",
       "6                1               10          1             0             0   \n",
       "7                1                1          1             0             0   \n",
       "8                1                9          1             0             0   \n",
       "9                1                5          1             0             0   \n",
       "\n",
       "   ... NU_NOTA_MT TP_STATUS_REDACAO  NU_NOTA_REDACAO  Q001  Q002  Q005  Q006  \\\n",
       "0  ...      462.9               1.0            580.0     E     E     2     B   \n",
       "1  ...      423.6               1.0            560.0     H     H     5     D   \n",
       "2  ...      414.6               1.0            480.0     B     E     3     D   \n",
       "3  ...      709.4               1.0            620.0     E     E     5     B   \n",
       "4  ...        NaN               NaN              NaN     A     A    20     A   \n",
       "5  ...      708.1               1.0            600.0     H     B     3     B   \n",
       "6  ...        NaN               NaN              NaN     G     G     4     B   \n",
       "7  ...      798.7               1.0            980.0     F     G     4     J   \n",
       "8  ...        NaN               NaN              NaN     F     F     3     F   \n",
       "9  ...      422.5               1.0            580.0     D     D     2     B   \n",
       "\n",
       "   Q025  Q042 Q047  \n",
       "0     B     C    D  \n",
       "1     B     A    D  \n",
       "2     B     B    A  \n",
       "3     B     D    E  \n",
       "4     A     A    A  \n",
       "5     B     D    B  \n",
       "6     B     D    E  \n",
       "7     B     C    D  \n",
       "8     B     C    D  \n",
       "9     B     A    A  \n",
       "\n",
       "[10 rows x 28 columns]"
      ]
     },
     "execution_count": 2,
     "metadata": {},
     "output_type": "execute_result"
    }
   ],
   "source": [
    "colunas = ['NU_IDADE','TP_SEXO','TP_ESTADO_CIVIL','TP_COR_RACA',\\\n",
    "            'TP_NACIONALIDADE','TP_ST_CONCLUSAO','TP_ANO_CONCLUIU',\\\n",
    "            'TP_ESCOLA','IN_TREINEIRO','IN_SABATISTA','SG_UF_PROVA',\\\n",
    "            'TP_PRESENCA_CN','TP_PRESENCA_CH','TP_PRESENCA_LC',\\\n",
    "            'TP_PRESENCA_MT','NU_NOTA_CN','NU_NOTA_CH','NU_NOTA_LC',\\\n",
    "            'NU_NOTA_MT','TP_STATUS_REDACAO','NU_NOTA_REDACAO',\\\n",
    "            'Q001','Q002','Q005','Q006','Q025','Q042','Q047']\n",
    "\n",
    "df = pd.read_csv('dataset/enem.csv', encoding='ISO-8859-1', usecols = colunas)\n",
    "df.head(10)"
   ]
  },
  {
   "cell_type": "markdown",
   "id": "fc59c30f-c7ea-4e28-9cc9-0948cc7e172d",
   "metadata": {},
   "source": [
    "# Informações do Dataframe\n",
    "\n",
    "- Um total de 8627367 linhas e 28 colunas"
   ]
  },
  {
   "cell_type": "code",
   "execution_count": 3,
   "id": "d3304b21-4d0a-4053-8df1-7f09e22b9d1e",
   "metadata": {},
   "outputs": [
    {
     "name": "stdout",
     "output_type": "stream",
     "text": [
      "<class 'pandas.core.frame.DataFrame'>\n",
      "RangeIndex: 8627367 entries, 0 to 8627366\n",
      "Data columns (total 28 columns):\n",
      " #   Column             Dtype  \n",
      "---  ------             -----  \n",
      " 0   NU_IDADE           float64\n",
      " 1   TP_SEXO            object \n",
      " 2   TP_ESTADO_CIVIL    float64\n",
      " 3   TP_COR_RACA        int64  \n",
      " 4   TP_NACIONALIDADE   int64  \n",
      " 5   TP_ST_CONCLUSAO    int64  \n",
      " 6   TP_ANO_CONCLUIU    int64  \n",
      " 7   TP_ESCOLA          int64  \n",
      " 8   IN_TREINEIRO       int64  \n",
      " 9   IN_SABATISTA       int64  \n",
      " 10  SG_UF_PROVA        object \n",
      " 11  TP_PRESENCA_CN     object \n",
      " 12  TP_PRESENCA_CH     float64\n",
      " 13  TP_PRESENCA_LC     float64\n",
      " 14  TP_PRESENCA_MT     float64\n",
      " 15  NU_NOTA_CN         float64\n",
      " 16  NU_NOTA_CH         float64\n",
      " 17  NU_NOTA_LC         float64\n",
      " 18  NU_NOTA_MT         float64\n",
      " 19  TP_STATUS_REDACAO  object \n",
      " 20  NU_NOTA_REDACAO    float64\n",
      " 21  Q001               object \n",
      " 22  Q002               object \n",
      " 23  Q005               object \n",
      " 24  Q006               object \n",
      " 25  Q025               object \n",
      " 26  Q042               object \n",
      " 27  Q047               object \n",
      "dtypes: float64(10), int64(7), object(11)\n",
      "memory usage: 1.8+ GB\n"
     ]
    }
   ],
   "source": [
    "df.info()"
   ]
  },
  {
   "cell_type": "markdown",
   "id": "35a54b2d-afbb-408f-9c91-859fa1138461",
   "metadata": {},
   "source": [
    "- Valores Nulos"
   ]
  },
  {
   "cell_type": "code",
   "execution_count": 4,
   "id": "48434554-7b82-449e-a3ad-b799d114fc10",
   "metadata": {},
   "outputs": [
    {
     "name": "stdout",
     "output_type": "stream",
     "text": [
      "NU_IDADE                 102\n",
      "TP_SEXO                    0\n",
      "TP_ESTADO_CIVIL       380541\n",
      "TP_COR_RACA                0\n",
      "TP_NACIONALIDADE           0\n",
      "TP_ST_CONCLUSAO            0\n",
      "TP_ANO_CONCLUIU            0\n",
      "TP_ESCOLA                  0\n",
      "IN_TREINEIRO               0\n",
      "IN_SABATISTA               0\n",
      "SG_UF_PROVA                0\n",
      "TP_PRESENCA_CN           373\n",
      "TP_PRESENCA_CH           374\n",
      "TP_PRESENCA_LC           374\n",
      "TP_PRESENCA_MT           374\n",
      "NU_NOTA_CN           2628425\n",
      "NU_NOTA_CH           2628241\n",
      "NU_NOTA_LC           2782212\n",
      "NU_NOTA_MT           2782396\n",
      "TP_STATUS_REDACAO    2782396\n",
      "NU_NOTA_REDACAO      2782396\n",
      "Q001                    3216\n",
      "Q002                       4\n",
      "Q005                       4\n",
      "Q006                       4\n",
      "Q025                       4\n",
      "Q042                    4033\n",
      "Q047                       4\n",
      "dtype: int64\n"
     ]
    }
   ],
   "source": [
    "print(df.isnull().sum())"
   ]
  },
  {
   "cell_type": "markdown",
   "id": "cb7c156d-19e9-48a1-b095-664ebb4e5520",
   "metadata": {},
   "source": [
    "## Remoção de dados NaN\n",
    "\n",
    "- Serão descartadas linhas com dados NaN do conjunto de dados, sem causar grandes interferências, uma vez que esse conjunto de dados é composto de milhões de linhas. As remoções serão aplicadas sobre as colunas nas quais estamos interessados que hajam informações a fim de posteriormente inferir alguma hipótese.\n",
    "- Após a remoção sobraram 5637230 linhas e 28 colunas"
   ]
  },
  {
   "cell_type": "code",
   "execution_count": 5,
   "id": "85aa76c0-39a2-4df3-aebf-27fea1b528ee",
   "metadata": {},
   "outputs": [
    {
     "name": "stdout",
     "output_type": "stream",
     "text": [
      "<class 'pandas.core.frame.DataFrame'>\n",
      "Int64Index: 5637230 entries, 0 to 8627362\n",
      "Data columns (total 28 columns):\n",
      " #   Column             Dtype  \n",
      "---  ------             -----  \n",
      " 0   NU_IDADE           float64\n",
      " 1   TP_SEXO            object \n",
      " 2   TP_ESTADO_CIVIL    float64\n",
      " 3   TP_COR_RACA        int64  \n",
      " 4   TP_NACIONALIDADE   int64  \n",
      " 5   TP_ST_CONCLUSAO    int64  \n",
      " 6   TP_ANO_CONCLUIU    int64  \n",
      " 7   TP_ESCOLA          int64  \n",
      " 8   IN_TREINEIRO       int64  \n",
      " 9   IN_SABATISTA       int64  \n",
      " 10  SG_UF_PROVA        object \n",
      " 11  TP_PRESENCA_CN     object \n",
      " 12  TP_PRESENCA_CH     float64\n",
      " 13  TP_PRESENCA_LC     float64\n",
      " 14  TP_PRESENCA_MT     float64\n",
      " 15  NU_NOTA_CN         float64\n",
      " 16  NU_NOTA_CH         float64\n",
      " 17  NU_NOTA_LC         float64\n",
      " 18  NU_NOTA_MT         float64\n",
      " 19  TP_STATUS_REDACAO  object \n",
      " 20  NU_NOTA_REDACAO    float64\n",
      " 21  Q001               object \n",
      " 22  Q002               object \n",
      " 23  Q005               object \n",
      " 24  Q006               object \n",
      " 25  Q025               object \n",
      " 26  Q042               object \n",
      " 27  Q047               object \n",
      "dtypes: float64(10), int64(7), object(11)\n",
      "memory usage: 1.2+ GB\n"
     ]
    }
   ],
   "source": [
    "df = df.dropna(axis=0, subset = ['NU_IDADE','TP_SEXO','TP_ESTADO_CIVIL','TP_COR_RACA',\\\n",
    "                                'TP_NACIONALIDADE','TP_ST_CONCLUSAO','TP_ANO_CONCLUIU',\\\n",
    "                                'TP_ESCOLA','IN_TREINEIRO','IN_SABATISTA','SG_UF_PROVA',\\\n",
    "                                'TP_PRESENCA_CN','TP_PRESENCA_CH','TP_PRESENCA_LC',\\\n",
    "                                'TP_PRESENCA_MT','TP_STATUS_REDACAO',\\\n",
    "                                'Q001','Q002','Q005','Q006','Q025','Q042','Q047'])\n",
    "df.info()"
   ]
  },
  {
   "cell_type": "markdown",
   "id": "063fe41f-735b-43d8-b174-af43fea4ff23",
   "metadata": {},
   "source": [
    "# Análise Exploratória e Engenharia de Atributos"
   ]
  },
  {
   "cell_type": "markdown",
   "id": "ab3536c5-6640-4396-bf03-b2c638c5e346",
   "metadata": {},
   "source": [
    "## Idade\n",
    "\n",
    "- Idade (NU_IDADE)\n",
    "- São ruídos no atributo, idades menores que 10 anos e maiores que 100."
   ]
  },
  {
   "cell_type": "code",
   "execution_count": 6,
   "id": "7579db65-48cf-4dbc-9df0-d2f17167ddf9",
   "metadata": {},
   "outputs": [
    {
     "data": {
      "text/plain": [
       "<seaborn.axisgrid.FacetGrid at 0x1df50eaafd0>"
      ]
     },
     "execution_count": 6,
     "metadata": {},
     "output_type": "execute_result"
    },
    {
     "data": {
      "image/png": "[encoded data removed]",
      "text/plain": [
       "<Figure size 360x360 with 1 Axes>"
      ]
     },
     "metadata": {
      "needs_background": "light"
     },
     "output_type": "display_data"
    }
   ],
   "source": [
    "sns.displot(x = 'NU_IDADE', data = df, kind = 'kde')"
   ]
  },
  {
   "cell_type": "code",
   "execution_count": 7,
   "id": "dba39f3b-c9ea-48d7-9b15-9d89c32298c4",
   "metadata": {},
   "outputs": [
    {
     "data": {
      "text/plain": [
       "count    5637230.00\n",
       "mean          21.62\n",
       "std            7.24\n",
       "min           10.00\n",
       "25%           17.00\n",
       "50%           19.00\n",
       "75%           23.00\n",
       "max           92.00\n",
       "Name: NU_IDADE, dtype: object"
      ]
     },
     "execution_count": 7,
     "metadata": {},
     "output_type": "execute_result"
    }
   ],
   "source": [
    "df['NU_IDADE'].describe().apply('{:.2f}'.format)"
   ]
  },
  {
   "cell_type": "markdown",
   "id": "bdc2ab09-3701-4d53-8331-1c37cc9063be",
   "metadata": {},
   "source": [
    "- Agrupas a Idade em 4 classes(A,B,C,D,E):\n",
    "    - Adolescente: participantes com menos de 18 anos\n",
    "    - Jovem: participantes entre 18 e 25 anos\n",
    "    - Jovem Adulto: participantes entre 25 e 36 anos\n",
    "    - Adulto: participantes entre 36 e 60 anos\n",
    "    - Idoso: participantes com mais de 60 anos"
   ]
  },
  {
   "cell_type": "code",
   "execution_count": 8,
   "id": "90d4ebf2-ec89-4e73-97a5-af1c5f766429",
   "metadata": {},
   "outputs": [
    {
     "data": {
      "text/html": [
       "<div>\n",
       "<style scoped>\n",
       "    .dataframe tbody tr th:only-of-type {\n",
       "        vertical-align: middle;\n",
       "    }\n",
       "\n",
       "    .dataframe tbody tr th {\n",
       "        vertical-align: top;\n",
       "    }\n",
       "\n",
       "    .dataframe thead th {\n",
       "        text-align: right;\n",
       "    }\n",
       "</style>\n",
       "<table border=\"1\" class=\"dataframe\">\n",
       "  <thead>\n",
       "    <tr style=\"text-align: right;\">\n",
       "      <th></th>\n",
       "      <th>NU_IDADE</th>\n",
       "      <th>TP_SEXO</th>\n",
       "      <th>TP_ESTADO_CIVIL</th>\n",
       "      <th>TP_COR_RACA</th>\n",
       "      <th>TP_NACIONALIDADE</th>\n",
       "      <th>TP_ST_CONCLUSAO</th>\n",
       "      <th>TP_ANO_CONCLUIU</th>\n",
       "      <th>TP_ESCOLA</th>\n",
       "      <th>IN_TREINEIRO</th>\n",
       "      <th>IN_SABATISTA</th>\n",
       "      <th>...</th>\n",
       "      <th>NU_NOTA_MT</th>\n",
       "      <th>TP_STATUS_REDACAO</th>\n",
       "      <th>NU_NOTA_REDACAO</th>\n",
       "      <th>Q001</th>\n",
       "      <th>Q002</th>\n",
       "      <th>Q005</th>\n",
       "      <th>Q006</th>\n",
       "      <th>Q025</th>\n",
       "      <th>Q042</th>\n",
       "      <th>Q047</th>\n",
       "    </tr>\n",
       "  </thead>\n",
       "  <tbody>\n",
       "    <tr>\n",
       "      <th>0</th>\n",
       "      <td>B</td>\n",
       "      <td>M</td>\n",
       "      <td>0.0</td>\n",
       "      <td>3</td>\n",
       "      <td>1</td>\n",
       "      <td>1</td>\n",
       "      <td>7</td>\n",
       "      <td>1</td>\n",
       "      <td>0</td>\n",
       "      <td>0</td>\n",
       "      <td>...</td>\n",
       "      <td>462.9</td>\n",
       "      <td>1.0</td>\n",
       "      <td>580.0</td>\n",
       "      <td>E</td>\n",
       "      <td>E</td>\n",
       "      <td>2</td>\n",
       "      <td>B</td>\n",
       "      <td>B</td>\n",
       "      <td>C</td>\n",
       "      <td>D</td>\n",
       "    </tr>\n",
       "    <tr>\n",
       "      <th>1</th>\n",
       "      <td>B</td>\n",
       "      <td>M</td>\n",
       "      <td>0.0</td>\n",
       "      <td>1</td>\n",
       "      <td>1</td>\n",
       "      <td>1</td>\n",
       "      <td>3</td>\n",
       "      <td>1</td>\n",
       "      <td>0</td>\n",
       "      <td>0</td>\n",
       "      <td>...</td>\n",
       "      <td>423.6</td>\n",
       "      <td>1.0</td>\n",
       "      <td>560.0</td>\n",
       "      <td>H</td>\n",
       "      <td>H</td>\n",
       "      <td>5</td>\n",
       "      <td>D</td>\n",
       "      <td>B</td>\n",
       "      <td>A</td>\n",
       "      <td>D</td>\n",
       "    </tr>\n",
       "    <tr>\n",
       "      <th>2</th>\n",
       "      <td>B</td>\n",
       "      <td>M</td>\n",
       "      <td>0.0</td>\n",
       "      <td>3</td>\n",
       "      <td>1</td>\n",
       "      <td>1</td>\n",
       "      <td>1</td>\n",
       "      <td>1</td>\n",
       "      <td>0</td>\n",
       "      <td>0</td>\n",
       "      <td>...</td>\n",
       "      <td>414.6</td>\n",
       "      <td>1.0</td>\n",
       "      <td>480.0</td>\n",
       "      <td>B</td>\n",
       "      <td>E</td>\n",
       "      <td>3</td>\n",
       "      <td>D</td>\n",
       "      <td>B</td>\n",
       "      <td>B</td>\n",
       "      <td>A</td>\n",
       "    </tr>\n",
       "    <tr>\n",
       "      <th>3</th>\n",
       "      <td>A</td>\n",
       "      <td>M</td>\n",
       "      <td>0.0</td>\n",
       "      <td>1</td>\n",
       "      <td>1</td>\n",
       "      <td>1</td>\n",
       "      <td>1</td>\n",
       "      <td>1</td>\n",
       "      <td>0</td>\n",
       "      <td>1</td>\n",
       "      <td>...</td>\n",
       "      <td>709.4</td>\n",
       "      <td>1.0</td>\n",
       "      <td>620.0</td>\n",
       "      <td>E</td>\n",
       "      <td>E</td>\n",
       "      <td>5</td>\n",
       "      <td>B</td>\n",
       "      <td>B</td>\n",
       "      <td>D</td>\n",
       "      <td>E</td>\n",
       "    </tr>\n",
       "    <tr>\n",
       "      <th>5</th>\n",
       "      <td>B</td>\n",
       "      <td>M</td>\n",
       "      <td>0.0</td>\n",
       "      <td>3</td>\n",
       "      <td>1</td>\n",
       "      <td>1</td>\n",
       "      <td>2</td>\n",
       "      <td>1</td>\n",
       "      <td>0</td>\n",
       "      <td>0</td>\n",
       "      <td>...</td>\n",
       "      <td>708.1</td>\n",
       "      <td>1.0</td>\n",
       "      <td>600.0</td>\n",
       "      <td>H</td>\n",
       "      <td>B</td>\n",
       "      <td>3</td>\n",
       "      <td>B</td>\n",
       "      <td>B</td>\n",
       "      <td>D</td>\n",
       "      <td>B</td>\n",
       "    </tr>\n",
       "  </tbody>\n",
       "</table>\n",
       "<p>5 rows × 28 columns</p>\n",
       "</div>"
      ],
      "text/plain": [
       "  NU_IDADE TP_SEXO  TP_ESTADO_CIVIL  TP_COR_RACA  TP_NACIONALIDADE  \\\n",
       "0        B       M              0.0            3                 1   \n",
       "1        B       M              0.0            1                 1   \n",
       "2        B       M              0.0            3                 1   \n",
       "3        A       M              0.0            1                 1   \n",
       "5        B       M              0.0            3                 1   \n",
       "\n",
       "   TP_ST_CONCLUSAO  TP_ANO_CONCLUIU  TP_ESCOLA  IN_TREINEIRO  IN_SABATISTA  \\\n",
       "0                1                7          1             0             0   \n",
       "1                1                3          1             0             0   \n",
       "2                1                1          1             0             0   \n",
       "3                1                1          1             0             1   \n",
       "5                1                2          1             0             0   \n",
       "\n",
       "   ... NU_NOTA_MT TP_STATUS_REDACAO  NU_NOTA_REDACAO  Q001  Q002  Q005  Q006  \\\n",
       "0  ...      462.9               1.0            580.0     E     E     2     B   \n",
       "1  ...      423.6               1.0            560.0     H     H     5     D   \n",
       "2  ...      414.6               1.0            480.0     B     E     3     D   \n",
       "3  ...      709.4               1.0            620.0     E     E     5     B   \n",
       "5  ...      708.1               1.0            600.0     H     B     3     B   \n",
       "\n",
       "   Q025  Q042 Q047  \n",
       "0     B     C    D  \n",
       "1     B     A    D  \n",
       "2     B     B    A  \n",
       "3     B     D    E  \n",
       "5     B     D    B  \n",
       "\n",
       "[5 rows x 28 columns]"
      ]
     },
     "execution_count": 8,
     "metadata": {},
     "output_type": "execute_result"
    }
   ],
   "source": [
    "df['NU_IDADE'] = pd.cut(\n",
    "    df['NU_IDADE'],\n",
    "    bins=[10, 18, 25, 36, 60, 100],\n",
    "    labels=['A', 'B', 'C', 'D', 'E'],\n",
    "    include_lowest=True\n",
    ")\n",
    "df.head()"
   ]
  },
  {
   "cell_type": "markdown",
   "id": "084cdf74-b306-4f0a-92e3-0815e7fdcc3c",
   "metadata": {},
   "source": [
    "## Sexo\n",
    "\n",
    "- Sexo ('TP_SEXO')\n",
    "- São ruídos no atributo valores diferentes 'M' e 'F'."
   ]
  },
  {
   "cell_type": "code",
   "execution_count": 9,
   "id": "b26371e7-e1f5-409a-87d9-d57d1db84517",
   "metadata": {},
   "outputs": [
    {
     "data": {
      "text/plain": [
       "<AxesSubplot:xlabel='TP_SEXO', ylabel='count'>"
      ]
     },
     "execution_count": 9,
     "metadata": {},
     "output_type": "execute_result"
    },
    {
     "data": {
      "image/png": "[encoded data removed]",
      "text/plain": [
       "<Figure size 432x288 with 1 Axes>"
      ]
     },
     "metadata": {
      "needs_background": "light"
     },
     "output_type": "display_data"
    }
   ],
   "source": [
    "sns.countplot(x = 'TP_SEXO', data = df)"
   ]
  },
  {
   "cell_type": "markdown",
   "id": "77064cc3-ee6c-4bbd-a68d-512e27086ae7",
   "metadata": {},
   "source": [
    "## Estado Civil \n",
    "\n",
    "- Estado Civil ('TP_ESTADO_CIVIL')\n",
    "- São ruídos no atributo valores menores que 0 e maiores que 3. "
   ]
  },
  {
   "cell_type": "code",
   "execution_count": 10,
   "id": "f61f4780-8a22-411c-b00d-62e9b4abe25e",
   "metadata": {},
   "outputs": [
    {
     "data": {
      "text/plain": [
       "<AxesSubplot:xlabel='TP_ESTADO_CIVIL', ylabel='count'>"
      ]
     },
     "execution_count": 10,
     "metadata": {},
     "output_type": "execute_result"
    },
    {
     "data": {
      "image/png": "[encoded data removed]",
      "text/plain": [
       "<Figure size 432x288 with 1 Axes>"
      ]
     },
     "metadata": {
      "needs_background": "light"
     },
     "output_type": "display_data"
    }
   ],
   "source": [
    "sns.countplot(x = 'TP_ESTADO_CIVIL', data = df)"
   ]
  },
  {
   "cell_type": "markdown",
   "id": "9839b467-0835-4e4c-91c8-77b400c17057",
   "metadata": {},
   "source": [
    "## Etnia\n",
    "- Etnia ('TP_COR_RACA')\n",
    "- São ruídos no atributo valores menores que 0 e maiores que 6."
   ]
  },
  {
   "cell_type": "code",
   "execution_count": 11,
   "id": "ee117ee9-96ba-4fad-ac78-2cd169ec79cf",
   "metadata": {},
   "outputs": [
    {
     "data": {
      "text/plain": [
       "<AxesSubplot:xlabel='TP_COR_RACA', ylabel='count'>"
      ]
     },
     "execution_count": 11,
     "metadata": {},
     "output_type": "execute_result"
    },
    {
     "data": {
      "image/png": "[encoded data removed]",
      "text/plain": [
       "<Figure size 432x288 with 1 Axes>"
      ]
     },
     "metadata": {
      "needs_background": "light"
     },
     "output_type": "display_data"
    }
   ],
   "source": [
    "sns.countplot(x = 'TP_COR_RACA', data = df)"
   ]
  },
  {
   "cell_type": "markdown",
   "id": "cd19b19e-35ce-4dc5-9a08-0ee3b7a76681",
   "metadata": {},
   "source": [
    "## Nacionalidade\n",
    "\n",
    "-  Nacionalidade ('TP_NACIONALIDADE'):\n",
    "- São ruídos no atributo valores menores que 0 e maiores que 4."
   ]
  },
  {
   "cell_type": "code",
   "execution_count": 12,
   "id": "b84127fb-7f89-456b-9b82-255e602be8d1",
   "metadata": {},
   "outputs": [
    {
     "data": {
      "text/plain": [
       "<AxesSubplot:xlabel='TP_NACIONALIDADE', ylabel='count'>"
      ]
     },
     "execution_count": 12,
     "metadata": {},
     "output_type": "execute_result"
    },
    {
     "data": {
      "image/png": "[encoded data removed]",
      "text/plain": [
       "<Figure size 432x288 with 1 Axes>"
      ]
     },
     "metadata": {
      "needs_background": "light"
     },
     "output_type": "display_data"
    }
   ],
   "source": [
    "sns.countplot(x = 'TP_NACIONALIDADE', data = df)"
   ]
  },
  {
   "cell_type": "markdown",
   "id": "712ad158-9f15-458f-b5db-e611f2ff0752",
   "metadata": {},
   "source": [
    "Nacionalidade: reagrupamento em 2 classes:\n",
    "- Brasileira: brasileiro(a) e brasileiro(a) nato(a), nascido(a) no exterior\n",
    "- Outra: brasileiro(a) naturalizado(a) e estrangeiro(a)"
   ]
  },
  {
   "cell_type": "code",
   "execution_count": 39,
   "id": "4f6d9b87-acce-4320-9bff-61a2358b2bd9",
   "metadata": {},
   "outputs": [],
   "source": [
    "def categoriza_nacionalidade(s):\n",
    "    if (s==1)|(s==4):\n",
    "        return 'brasileiro'\n",
    "    elif (s==2)|(s==3):\n",
    "        return 'outro'\n",
    "    else:\n",
    "        return 'nao informado'"
   ]
  },
  {
   "cell_type": "code",
   "execution_count": 41,
   "id": "571f3d88-e688-4663-86ac-7c43a13ed4f6",
   "metadata": {},
   "outputs": [
    {
     "data": {
      "text/html": [
       "<div>\n",
       "<style scoped>\n",
       "    .dataframe tbody tr th:only-of-type {\n",
       "        vertical-align: middle;\n",
       "    }\n",
       "\n",
       "    .dataframe tbody tr th {\n",
       "        vertical-align: top;\n",
       "    }\n",
       "\n",
       "    .dataframe thead th {\n",
       "        text-align: right;\n",
       "    }\n",
       "</style>\n",
       "<table border=\"1\" class=\"dataframe\">\n",
       "  <thead>\n",
       "    <tr style=\"text-align: right;\">\n",
       "      <th></th>\n",
       "      <th>NU_IDADE</th>\n",
       "      <th>TP_SEXO</th>\n",
       "      <th>TP_ESTADO_CIVIL</th>\n",
       "      <th>TP_COR_RACA</th>\n",
       "      <th>TP_NACIONALIDADE</th>\n",
       "      <th>TP_ST_CONCLUSAO</th>\n",
       "      <th>TP_ANO_CONCLUIU</th>\n",
       "      <th>TP_ESCOLA</th>\n",
       "      <th>IN_TREINEIRO</th>\n",
       "      <th>IN_SABATISTA</th>\n",
       "      <th>...</th>\n",
       "      <th>NU_NOTA_MT</th>\n",
       "      <th>TP_STATUS_REDACAO</th>\n",
       "      <th>NU_NOTA_REDACAO</th>\n",
       "      <th>Q001</th>\n",
       "      <th>Q002</th>\n",
       "      <th>Q005</th>\n",
       "      <th>Q006</th>\n",
       "      <th>Q025</th>\n",
       "      <th>Q042</th>\n",
       "      <th>Q047</th>\n",
       "    </tr>\n",
       "  </thead>\n",
       "  <tbody>\n",
       "    <tr>\n",
       "      <th>0</th>\n",
       "      <td>B</td>\n",
       "      <td>M</td>\n",
       "      <td>0.0</td>\n",
       "      <td>3</td>\n",
       "      <td>brasileiro</td>\n",
       "      <td>1</td>\n",
       "      <td>7</td>\n",
       "      <td>1</td>\n",
       "      <td>0</td>\n",
       "      <td>0</td>\n",
       "      <td>...</td>\n",
       "      <td>462.9</td>\n",
       "      <td>1.0</td>\n",
       "      <td>580.0</td>\n",
       "      <td>E</td>\n",
       "      <td>E</td>\n",
       "      <td>2</td>\n",
       "      <td>E</td>\n",
       "      <td>B</td>\n",
       "      <td>C</td>\n",
       "      <td>D</td>\n",
       "    </tr>\n",
       "    <tr>\n",
       "      <th>1</th>\n",
       "      <td>B</td>\n",
       "      <td>M</td>\n",
       "      <td>0.0</td>\n",
       "      <td>1</td>\n",
       "      <td>brasileiro</td>\n",
       "      <td>1</td>\n",
       "      <td>3</td>\n",
       "      <td>1</td>\n",
       "      <td>0</td>\n",
       "      <td>0</td>\n",
       "      <td>...</td>\n",
       "      <td>423.6</td>\n",
       "      <td>1.0</td>\n",
       "      <td>560.0</td>\n",
       "      <td>H</td>\n",
       "      <td>H</td>\n",
       "      <td>5</td>\n",
       "      <td>E</td>\n",
       "      <td>B</td>\n",
       "      <td>A</td>\n",
       "      <td>D</td>\n",
       "    </tr>\n",
       "    <tr>\n",
       "      <th>2</th>\n",
       "      <td>B</td>\n",
       "      <td>M</td>\n",
       "      <td>0.0</td>\n",
       "      <td>3</td>\n",
       "      <td>brasileiro</td>\n",
       "      <td>1</td>\n",
       "      <td>1</td>\n",
       "      <td>1</td>\n",
       "      <td>0</td>\n",
       "      <td>0</td>\n",
       "      <td>...</td>\n",
       "      <td>414.6</td>\n",
       "      <td>1.0</td>\n",
       "      <td>480.0</td>\n",
       "      <td>B</td>\n",
       "      <td>E</td>\n",
       "      <td>3</td>\n",
       "      <td>E</td>\n",
       "      <td>B</td>\n",
       "      <td>B</td>\n",
       "      <td>A</td>\n",
       "    </tr>\n",
       "    <tr>\n",
       "      <th>3</th>\n",
       "      <td>A</td>\n",
       "      <td>M</td>\n",
       "      <td>0.0</td>\n",
       "      <td>1</td>\n",
       "      <td>brasileiro</td>\n",
       "      <td>1</td>\n",
       "      <td>1</td>\n",
       "      <td>1</td>\n",
       "      <td>0</td>\n",
       "      <td>1</td>\n",
       "      <td>...</td>\n",
       "      <td>709.4</td>\n",
       "      <td>1.0</td>\n",
       "      <td>620.0</td>\n",
       "      <td>E</td>\n",
       "      <td>E</td>\n",
       "      <td>5</td>\n",
       "      <td>E</td>\n",
       "      <td>B</td>\n",
       "      <td>D</td>\n",
       "      <td>E</td>\n",
       "    </tr>\n",
       "    <tr>\n",
       "      <th>5</th>\n",
       "      <td>B</td>\n",
       "      <td>M</td>\n",
       "      <td>0.0</td>\n",
       "      <td>3</td>\n",
       "      <td>brasileiro</td>\n",
       "      <td>1</td>\n",
       "      <td>2</td>\n",
       "      <td>1</td>\n",
       "      <td>0</td>\n",
       "      <td>0</td>\n",
       "      <td>...</td>\n",
       "      <td>708.1</td>\n",
       "      <td>1.0</td>\n",
       "      <td>600.0</td>\n",
       "      <td>H</td>\n",
       "      <td>B</td>\n",
       "      <td>3</td>\n",
       "      <td>E</td>\n",
       "      <td>B</td>\n",
       "      <td>D</td>\n",
       "      <td>B</td>\n",
       "    </tr>\n",
       "  </tbody>\n",
       "</table>\n",
       "<p>5 rows × 28 columns</p>\n",
       "</div>"
      ],
      "text/plain": [
       "  NU_IDADE TP_SEXO  TP_ESTADO_CIVIL  TP_COR_RACA TP_NACIONALIDADE  \\\n",
       "0        B       M              0.0            3       brasileiro   \n",
       "1        B       M              0.0            1       brasileiro   \n",
       "2        B       M              0.0            3       brasileiro   \n",
       "3        A       M              0.0            1       brasileiro   \n",
       "5        B       M              0.0            3       brasileiro   \n",
       "\n",
       "   TP_ST_CONCLUSAO  TP_ANO_CONCLUIU  TP_ESCOLA  IN_TREINEIRO  IN_SABATISTA  \\\n",
       "0                1                7          1             0             0   \n",
       "1                1                3          1             0             0   \n",
       "2                1                1          1             0             0   \n",
       "3                1                1          1             0             1   \n",
       "5                1                2          1             0             0   \n",
       "\n",
       "   ... NU_NOTA_MT TP_STATUS_REDACAO  NU_NOTA_REDACAO  Q001  Q002  Q005  Q006  \\\n",
       "0  ...      462.9               1.0            580.0     E     E     2     E   \n",
       "1  ...      423.6               1.0            560.0     H     H     5     E   \n",
       "2  ...      414.6               1.0            480.0     B     E     3     E   \n",
       "3  ...      709.4               1.0            620.0     E     E     5     E   \n",
       "5  ...      708.1               1.0            600.0     H     B     3     E   \n",
       "\n",
       "   Q025  Q042 Q047  \n",
       "0     B     C    D  \n",
       "1     B     A    D  \n",
       "2     B     B    A  \n",
       "3     B     D    E  \n",
       "5     B     D    B  \n",
       "\n",
       "[5 rows x 28 columns]"
      ]
     },
     "execution_count": 41,
     "metadata": {},
     "output_type": "execute_result"
    }
   ],
   "source": [
    "df['TP_NACIONALIDADE'] = df['TP_NACIONALIDADE'].apply(categoriza_nacionalidade)\n",
    "df.head()"
   ]
  },
  {
   "cell_type": "markdown",
   "id": "909d8f3c-6496-4bd2-9f29-c027da4ff47f",
   "metadata": {},
   "source": [
    "## Conclusão do Ensino Médio \n",
    "\n",
    "- Conclusão do Ensino Médio ('TP_ST_CONCLUSAO'):\n",
    "- São ruídos no atributo valores menores que 1 e maiores que 4."
   ]
  },
  {
   "cell_type": "code",
   "execution_count": 13,
   "id": "4e542af6-080e-4c4a-94c9-8a5243683ac2",
   "metadata": {},
   "outputs": [
    {
     "data": {
      "text/plain": [
       "<AxesSubplot:xlabel='TP_ST_CONCLUSAO', ylabel='count'>"
      ]
     },
     "execution_count": 13,
     "metadata": {},
     "output_type": "execute_result"
    },
    {
     "data": {
      "image/png": "[encoded data removed]",
      "text/plain": [
       "<Figure size 432x288 with 1 Axes>"
      ]
     },
     "metadata": {
      "needs_background": "light"
     },
     "output_type": "display_data"
    }
   ],
   "source": [
    "sns.countplot(x = 'TP_ST_CONCLUSAO', data = df)"
   ]
  },
  {
   "cell_type": "markdown",
   "id": "4340fbc9-c57f-4f99-b8a5-5f363e82e5ab",
   "metadata": {},
   "source": [
    "## Ano de Conclusão do Ensino Médio \n",
    "\n",
    "- Conclusão do Ensino Médio ('TP_ANO_CONCLUIU')\n",
    "- São ruídos no atributo valores menores que 0 e maiores que 10."
   ]
  },
  {
   "cell_type": "code",
   "execution_count": 14,
   "id": "347e85a5-b773-480c-be70-4958fe52f7f9",
   "metadata": {},
   "outputs": [
    {
     "data": {
      "text/plain": [
       "<AxesSubplot:xlabel='TP_ANO_CONCLUIU', ylabel='count'>"
      ]
     },
     "execution_count": 14,
     "metadata": {},
     "output_type": "execute_result"
    },
    {
     "data": {
      "image/png": "[encoded data removed]",
      "text/plain": [
       "<Figure size 432x288 with 1 Axes>"
      ]
     },
     "metadata": {
      "needs_background": "light"
     },
     "output_type": "display_data"
    }
   ],
   "source": [
    "sns.countplot(x = 'TP_ANO_CONCLUIU', data = df)"
   ]
  },
  {
   "cell_type": "markdown",
   "id": "a83e0a50-fe21-43da-9b25-ce4a1661c1ab",
   "metadata": {},
   "source": [
    "Ano de conclusão do ensino médio: agrupamento em 4 classes:\n",
    "- Não informado (Categoria: N)\n",
    "- Até 3 anos: 2015, 2014 e 2013 (Categoria: A)\n",
    "- Entre 4 e 6 anos: 2012, 2011 e 2010 (Categoria: B)\n",
    "- Entre 7 e 9 anos: 2009, 2008 e 2007 (Categoria: C)\n",
    "- Mais de 10 anos: Anterior a 2007 (Categoria: D)"
   ]
  },
  {
   "cell_type": "code",
   "execution_count": 42,
   "id": "24eb3b80-79c8-40ea-ae2b-bd3e93219834",
   "metadata": {},
   "outputs": [],
   "source": [
    "def categoriza_EM(s):\n",
    "    if s==0:\n",
    "        return 'N'\n",
    "    if s<=3 & s>=1:\n",
    "        return 'A'\n",
    "    elif (s<=6)&(s>=4):\n",
    "        return 'B'\n",
    "    elif (s>=7) & (s<=9):\n",
    "        return 'C'\n",
    "    elif s==10:\n",
    "        return 'D'\n",
    "    else:\n",
    "        return -1"
   ]
  },
  {
   "cell_type": "code",
   "execution_count": 43,
   "id": "24d54533-ff1f-4a25-8dd2-2d1bde36c641",
   "metadata": {},
   "outputs": [
    {
     "data": {
      "text/html": [
       "<div>\n",
       "<style scoped>\n",
       "    .dataframe tbody tr th:only-of-type {\n",
       "        vertical-align: middle;\n",
       "    }\n",
       "\n",
       "    .dataframe tbody tr th {\n",
       "        vertical-align: top;\n",
       "    }\n",
       "\n",
       "    .dataframe thead th {\n",
       "        text-align: right;\n",
       "    }\n",
       "</style>\n",
       "<table border=\"1\" class=\"dataframe\">\n",
       "  <thead>\n",
       "    <tr style=\"text-align: right;\">\n",
       "      <th></th>\n",
       "      <th>NU_IDADE</th>\n",
       "      <th>TP_SEXO</th>\n",
       "      <th>TP_ESTADO_CIVIL</th>\n",
       "      <th>TP_COR_RACA</th>\n",
       "      <th>TP_NACIONALIDADE</th>\n",
       "      <th>TP_ST_CONCLUSAO</th>\n",
       "      <th>TP_ANO_CONCLUIU</th>\n",
       "      <th>TP_ESCOLA</th>\n",
       "      <th>IN_TREINEIRO</th>\n",
       "      <th>IN_SABATISTA</th>\n",
       "      <th>...</th>\n",
       "      <th>NU_NOTA_MT</th>\n",
       "      <th>TP_STATUS_REDACAO</th>\n",
       "      <th>NU_NOTA_REDACAO</th>\n",
       "      <th>Q001</th>\n",
       "      <th>Q002</th>\n",
       "      <th>Q005</th>\n",
       "      <th>Q006</th>\n",
       "      <th>Q025</th>\n",
       "      <th>Q042</th>\n",
       "      <th>Q047</th>\n",
       "    </tr>\n",
       "  </thead>\n",
       "  <tbody>\n",
       "    <tr>\n",
       "      <th>0</th>\n",
       "      <td>B</td>\n",
       "      <td>M</td>\n",
       "      <td>0.0</td>\n",
       "      <td>3</td>\n",
       "      <td>brasileiro</td>\n",
       "      <td>1</td>\n",
       "      <td>C</td>\n",
       "      <td>1</td>\n",
       "      <td>0</td>\n",
       "      <td>0</td>\n",
       "      <td>...</td>\n",
       "      <td>462.9</td>\n",
       "      <td>1.0</td>\n",
       "      <td>580.0</td>\n",
       "      <td>E</td>\n",
       "      <td>E</td>\n",
       "      <td>2</td>\n",
       "      <td>E</td>\n",
       "      <td>B</td>\n",
       "      <td>C</td>\n",
       "      <td>D</td>\n",
       "    </tr>\n",
       "    <tr>\n",
       "      <th>1</th>\n",
       "      <td>B</td>\n",
       "      <td>M</td>\n",
       "      <td>0.0</td>\n",
       "      <td>1</td>\n",
       "      <td>brasileiro</td>\n",
       "      <td>1</td>\n",
       "      <td>A</td>\n",
       "      <td>1</td>\n",
       "      <td>0</td>\n",
       "      <td>0</td>\n",
       "      <td>...</td>\n",
       "      <td>423.6</td>\n",
       "      <td>1.0</td>\n",
       "      <td>560.0</td>\n",
       "      <td>H</td>\n",
       "      <td>H</td>\n",
       "      <td>5</td>\n",
       "      <td>E</td>\n",
       "      <td>B</td>\n",
       "      <td>A</td>\n",
       "      <td>D</td>\n",
       "    </tr>\n",
       "    <tr>\n",
       "      <th>2</th>\n",
       "      <td>B</td>\n",
       "      <td>M</td>\n",
       "      <td>0.0</td>\n",
       "      <td>3</td>\n",
       "      <td>brasileiro</td>\n",
       "      <td>1</td>\n",
       "      <td>A</td>\n",
       "      <td>1</td>\n",
       "      <td>0</td>\n",
       "      <td>0</td>\n",
       "      <td>...</td>\n",
       "      <td>414.6</td>\n",
       "      <td>1.0</td>\n",
       "      <td>480.0</td>\n",
       "      <td>B</td>\n",
       "      <td>E</td>\n",
       "      <td>3</td>\n",
       "      <td>E</td>\n",
       "      <td>B</td>\n",
       "      <td>B</td>\n",
       "      <td>A</td>\n",
       "    </tr>\n",
       "    <tr>\n",
       "      <th>3</th>\n",
       "      <td>A</td>\n",
       "      <td>M</td>\n",
       "      <td>0.0</td>\n",
       "      <td>1</td>\n",
       "      <td>brasileiro</td>\n",
       "      <td>1</td>\n",
       "      <td>A</td>\n",
       "      <td>1</td>\n",
       "      <td>0</td>\n",
       "      <td>1</td>\n",
       "      <td>...</td>\n",
       "      <td>709.4</td>\n",
       "      <td>1.0</td>\n",
       "      <td>620.0</td>\n",
       "      <td>E</td>\n",
       "      <td>E</td>\n",
       "      <td>5</td>\n",
       "      <td>E</td>\n",
       "      <td>B</td>\n",
       "      <td>D</td>\n",
       "      <td>E</td>\n",
       "    </tr>\n",
       "    <tr>\n",
       "      <th>5</th>\n",
       "      <td>B</td>\n",
       "      <td>M</td>\n",
       "      <td>0.0</td>\n",
       "      <td>3</td>\n",
       "      <td>brasileiro</td>\n",
       "      <td>1</td>\n",
       "      <td>A</td>\n",
       "      <td>1</td>\n",
       "      <td>0</td>\n",
       "      <td>0</td>\n",
       "      <td>...</td>\n",
       "      <td>708.1</td>\n",
       "      <td>1.0</td>\n",
       "      <td>600.0</td>\n",
       "      <td>H</td>\n",
       "      <td>B</td>\n",
       "      <td>3</td>\n",
       "      <td>E</td>\n",
       "      <td>B</td>\n",
       "      <td>D</td>\n",
       "      <td>B</td>\n",
       "    </tr>\n",
       "  </tbody>\n",
       "</table>\n",
       "<p>5 rows × 28 columns</p>\n",
       "</div>"
      ],
      "text/plain": [
       "  NU_IDADE TP_SEXO  TP_ESTADO_CIVIL  TP_COR_RACA TP_NACIONALIDADE  \\\n",
       "0        B       M              0.0            3       brasileiro   \n",
       "1        B       M              0.0            1       brasileiro   \n",
       "2        B       M              0.0            3       brasileiro   \n",
       "3        A       M              0.0            1       brasileiro   \n",
       "5        B       M              0.0            3       brasileiro   \n",
       "\n",
       "   TP_ST_CONCLUSAO TP_ANO_CONCLUIU  TP_ESCOLA  IN_TREINEIRO  IN_SABATISTA  \\\n",
       "0                1               C          1             0             0   \n",
       "1                1               A          1             0             0   \n",
       "2                1               A          1             0             0   \n",
       "3                1               A          1             0             1   \n",
       "5                1               A          1             0             0   \n",
       "\n",
       "   ... NU_NOTA_MT TP_STATUS_REDACAO  NU_NOTA_REDACAO  Q001  Q002  Q005  Q006  \\\n",
       "0  ...      462.9               1.0            580.0     E     E     2     E   \n",
       "1  ...      423.6               1.0            560.0     H     H     5     E   \n",
       "2  ...      414.6               1.0            480.0     B     E     3     E   \n",
       "3  ...      709.4               1.0            620.0     E     E     5     E   \n",
       "5  ...      708.1               1.0            600.0     H     B     3     E   \n",
       "\n",
       "   Q025  Q042 Q047  \n",
       "0     B     C    D  \n",
       "1     B     A    D  \n",
       "2     B     B    A  \n",
       "3     B     D    E  \n",
       "5     B     D    B  \n",
       "\n",
       "[5 rows x 28 columns]"
      ]
     },
     "execution_count": 43,
     "metadata": {},
     "output_type": "execute_result"
    }
   ],
   "source": [
    "df['TP_ANO_CONCLUIU'] = df['TP_ANO_CONCLUIU'].apply(categoriza_EM)\n",
    "df.head()"
   ]
  },
  {
   "cell_type": "markdown",
   "id": "f1d7ea4e-5556-4ef7-9d4a-6238fc65f931",
   "metadata": {},
   "source": [
    "## Escola Ensino Médio\n",
    "\n",
    "-  ('TP_ESCOLA')\n",
    "- São ruídos no atributo valores menores que 1 e maiores que 4."
   ]
  },
  {
   "cell_type": "code",
   "execution_count": 15,
   "id": "04786570-0037-4a8d-97ee-4c4f00847b1b",
   "metadata": {},
   "outputs": [
    {
     "data": {
      "text/plain": [
       "<AxesSubplot:xlabel='TP_ESCOLA', ylabel='count'>"
      ]
     },
     "execution_count": 15,
     "metadata": {},
     "output_type": "execute_result"
    },
    {
     "data": {
      "image/png": "[encoded data removed]",
      "text/plain": [
       "<Figure size 432x288 with 1 Axes>"
      ]
     },
     "metadata": {
      "needs_background": "light"
     },
     "output_type": "display_data"
    }
   ],
   "source": [
    "sns.countplot(x = 'TP_ESCOLA', data = df)"
   ]
  },
  {
   "cell_type": "markdown",
   "id": "b108e365-1965-48e1-ae72-45a3a1f1a8db",
   "metadata": {},
   "source": [
    "## Treineiro \n",
    "\n",
    "- ('IN_TREINEIRO'):\n",
    "- São ruídos no atributo valores menores que 0 e maiores que 1."
   ]
  },
  {
   "cell_type": "code",
   "execution_count": 16,
   "id": "7ec2b4d8-25ae-4b1d-b437-4e3f79dca849",
   "metadata": {},
   "outputs": [
    {
     "data": {
      "text/plain": [
       "<AxesSubplot:xlabel='IN_TREINEIRO', ylabel='count'>"
      ]
     },
     "execution_count": 16,
     "metadata": {},
     "output_type": "execute_result"
    },
    {
     "data": {
      "image/png": "[encoded data removed]",
      "text/plain": [
       "<Figure size 432x288 with 1 Axes>"
      ]
     },
     "metadata": {
      "needs_background": "light"
     },
     "output_type": "display_data"
    }
   ],
   "source": [
    "sns.countplot(x = 'IN_TREINEIRO', data = df)"
   ]
  },
  {
   "cell_type": "markdown",
   "id": "28fe98f6-c00c-4c29-b57e-95c40ec97642",
   "metadata": {},
   "source": [
    "## Sabatista \n",
    "\n",
    "- ('IN_SABATISTA')\n",
    "- São ruídos no atributo valores menores que 0 e maiores que 1."
   ]
  },
  {
   "cell_type": "code",
   "execution_count": 17,
   "id": "806dd2ae-47f0-45ee-bf22-c61ec773d5a3",
   "metadata": {},
   "outputs": [
    {
     "data": {
      "text/plain": [
       "<AxesSubplot:xlabel='IN_SABATISTA', ylabel='count'>"
      ]
     },
     "execution_count": 17,
     "metadata": {},
     "output_type": "execute_result"
    },
    {
     "data": {
      "image/png": "[encoded data removed]",
      "text/plain": [
       "<Figure size 432x288 with 1 Axes>"
      ]
     },
     "metadata": {
      "needs_background": "light"
     },
     "output_type": "display_data"
    }
   ],
   "source": [
    "sns.countplot(x = 'IN_SABATISTA', data = df)"
   ]
  },
  {
   "cell_type": "markdown",
   "id": "8e91f1bf-fb87-4f21-9115-ef56e5417279",
   "metadata": {},
   "source": [
    "## Estado da federação onde a prova foi aplicada \n",
    "\n",
    "- ('SG_UF_PROVA')\n",
    "- São ruídos no atributo valores diferentes de: \n",
    "    - AC, AL, AP, AM, BA, CE, DF, ES, GO, MA, MT, MS, MG, PA, PB, PR, PE, PI, RJ, RN, RS, RO, RR, SC, SP, SE, TO."
   ]
  },
  {
   "cell_type": "code",
   "execution_count": 18,
   "id": "02d56310-addc-4b8e-8654-1316294c2db6",
   "metadata": {},
   "outputs": [
    {
     "data": {
      "text/plain": [
       "<AxesSubplot:xlabel='SG_UF_PROVA', ylabel='count'>"
      ]
     },
     "execution_count": 18,
     "metadata": {},
     "output_type": "execute_result"
    },
    {
     "data": {
      "image/png": "[encoded data removed]",
      "text/plain": [
       "<Figure size 432x288 with 1 Axes>"
      ]
     },
     "metadata": {
      "needs_background": "light"
     },
     "output_type": "display_data"
    }
   ],
   "source": [
    "sns.countplot(x = 'SG_UF_PROVA', data = df)"
   ]
  },
  {
   "cell_type": "markdown",
   "id": "7c5247c7-54f6-4f5d-88cf-cc035b852b2e",
   "metadata": {},
   "source": [
    "Como visualizado no gráfico de barras acima, existem ruídos, onde há números ao invés de siglas para os estados, assim o código abaixo remove esses ruídos."
   ]
  },
  {
   "cell_type": "code",
   "execution_count": 19,
   "id": "0f5dcfe8-0d45-4b76-8865-8c181ada6793",
   "metadata": {},
   "outputs": [
    {
     "data": {
      "text/plain": [
       "<AxesSubplot:xlabel='SG_UF_PROVA', ylabel='count'>"
      ]
     },
     "execution_count": 19,
     "metadata": {},
     "output_type": "execute_result"
    },
    {
     "data": {
      "image/png": "[encoded data removed]",
      "text/plain": [
       "<Figure size 432x288 with 1 Axes>"
      ]
     },
     "metadata": {
      "needs_background": "light"
     },
     "output_type": "display_data"
    }
   ],
   "source": [
    "estados =  ['AC', 'AL', 'AP', 'AM', 'BA', 'CE', 'DF', 'ES', 'GO', 'MA', 'MT', 'MS', 'MG', 'PA', 'PB', 'PR', 'PE', 'PI', 'RJ', 'RN', 'RS', 'RO', 'RR', 'SC', 'SP', 'SE', 'TO']\n",
    "mask = df['SG_UF_PROVA'].isin(estados)\n",
    "df = df[mask]\n",
    "sns.countplot(x = 'SG_UF_PROVA', data = df)"
   ]
  },
  {
   "cell_type": "markdown",
   "id": "823c51ec-4dc6-46f2-bd09-f6c20fa359f1",
   "metadata": {},
   "source": [
    "## Nota na prova de Ciências da Natureza \n",
    "\n",
    "- ('NU_NOTA_CN'):\n",
    "- São ruídos no atributo caso a nota seja menor que 0 ou maiores que 1000. "
   ]
  },
  {
   "cell_type": "code",
   "execution_count": 20,
   "id": "59ef7eb9-cf09-458c-b0e4-10b429563e4c",
   "metadata": {},
   "outputs": [
    {
     "data": {
      "text/plain": [
       "<seaborn.axisgrid.FacetGrid at 0x1df5338f8b0>"
      ]
     },
     "execution_count": 20,
     "metadata": {},
     "output_type": "execute_result"
    },
    {
     "data": {
      "image/png": "[encoded data removed]",
      "text/plain": [
       "<Figure size 360x360 with 1 Axes>"
      ]
     },
     "metadata": {
      "needs_background": "light"
     },
     "output_type": "display_data"
    }
   ],
   "source": [
    "sns.displot(x = 'NU_NOTA_CN', data = df, bins = range(200, 1000, 50))"
   ]
  },
  {
   "cell_type": "code",
   "execution_count": 21,
   "id": "c01f8ab1-642e-4d4b-90e3-66c6c917f8e6",
   "metadata": {},
   "outputs": [
    {
     "data": {
      "text/plain": [
       "count    5610744.00\n",
       "mean         478.55\n",
       "std           72.84\n",
       "min            0.00\n",
       "25%          422.50\n",
       "50%          463.90\n",
       "75%          523.90\n",
       "max          871.30\n",
       "Name: NU_NOTA_CN, dtype: object"
      ]
     },
     "execution_count": 21,
     "metadata": {},
     "output_type": "execute_result"
    }
   ],
   "source": [
    "df['NU_NOTA_CN'].describe().apply('{:.2f}'.format)"
   ]
  },
  {
   "cell_type": "markdown",
   "id": "832f3bec-0b80-4bc0-9deb-bd03cac1fdeb",
   "metadata": {},
   "source": [
    "## Nota na prova de Ciências da Humanas\n",
    "\n",
    "- ('NU_NOTA_CH'):\n",
    "- São ruídos no atributo caso a nota seja menor que 0 ou maiores que 1000. "
   ]
  },
  {
   "cell_type": "code",
   "execution_count": 22,
   "id": "6ef6125b-8715-4e77-b3af-e25efe7d601d",
   "metadata": {},
   "outputs": [
    {
     "data": {
      "text/plain": [
       "<seaborn.axisgrid.FacetGrid at 0x1df509367f0>"
      ]
     },
     "execution_count": 22,
     "metadata": {},
     "output_type": "execute_result"
    },
    {
     "data": {
      "image/png": "[encoded data removed]",
      "text/plain": [
       "<Figure size 360x360 with 1 Axes>"
      ]
     },
     "metadata": {
      "needs_background": "light"
     },
     "output_type": "display_data"
    }
   ],
   "source": [
    "sns.displot(x = 'NU_NOTA_CH', data = df, bins = range(200, 1000, 50))"
   ]
  },
  {
   "cell_type": "code",
   "execution_count": 23,
   "id": "aafb4668-707b-4e6e-9dcd-529c93c3d9eb",
   "metadata": {},
   "outputs": [
    {
     "data": {
      "text/plain": [
       "count    5610744.00\n",
       "mean         535.30\n",
       "std           74.18\n",
       "min            0.00\n",
       "25%          485.60\n",
       "50%          538.10\n",
       "75%          587.10\n",
       "max          859.10\n",
       "Name: NU_NOTA_CH, dtype: object"
      ]
     },
     "execution_count": 23,
     "metadata": {},
     "output_type": "execute_result"
    }
   ],
   "source": [
    "df['NU_NOTA_CH'].describe().apply('{:.2f}'.format)"
   ]
  },
  {
   "cell_type": "markdown",
   "id": "65bd2d4a-194a-4d01-a4ff-2c3a4e5bfa8d",
   "metadata": {},
   "source": [
    "## Nota na prova de Linguagens e Códigos\n",
    "\n",
    "- ('NU_NOTA_LC'):\n",
    "- São ruídos no atributo caso a nota seja menor que 0 ou maiores que 1000. "
   ]
  },
  {
   "cell_type": "code",
   "execution_count": 24,
   "id": "2a2ec62e-13a9-43d6-8f51-909362925857",
   "metadata": {},
   "outputs": [
    {
     "data": {
      "text/plain": [
       "<seaborn.axisgrid.FacetGrid at 0x1df50353130>"
      ]
     },
     "execution_count": 24,
     "metadata": {},
     "output_type": "execute_result"
    },
    {
     "data": {
      "image/png": "[encoded data removed]",
      "text/plain": [
       "<Figure size 360x360 with 1 Axes>"
      ]
     },
     "metadata": {
      "needs_background": "light"
     },
     "output_type": "display_data"
    }
   ],
   "source": [
    "sns.displot(x = 'NU_NOTA_LC', data = df, bins = range(200, 1000, 50))"
   ]
  },
  {
   "cell_type": "code",
   "execution_count": 25,
   "id": "9d69d2d7-f2e8-4393-b7ac-36c467c2a57e",
   "metadata": {},
   "outputs": [
    {
     "data": {
      "text/plain": [
       "count    5635953.00\n",
       "mean         520.99\n",
       "std           68.80\n",
       "min            0.00\n",
       "25%          474.20\n",
       "50%          525.10\n",
       "75%          569.40\n",
       "max          802.60\n",
       "Name: NU_NOTA_LC, dtype: object"
      ]
     },
     "execution_count": 25,
     "metadata": {},
     "output_type": "execute_result"
    }
   ],
   "source": [
    "df['NU_NOTA_LC'].describe().apply('{:.2f}'.format)"
   ]
  },
  {
   "cell_type": "markdown",
   "id": "39e16c70-d5d4-4f65-8f78-e59d86f12b9f",
   "metadata": {},
   "source": [
    "## Nota na prova de Matemática\n",
    "\n",
    "- ('NU_NOTA_MT'):\n",
    "- São ruídos no atributo caso a nota seja menor que 0 ou maiores que 1000. "
   ]
  },
  {
   "cell_type": "code",
   "execution_count": 26,
   "id": "2944a10a-e3d8-43d1-9991-715a8195a277",
   "metadata": {},
   "outputs": [
    {
     "data": {
      "text/plain": [
       "<seaborn.axisgrid.FacetGrid at 0x1df509630d0>"
      ]
     },
     "execution_count": 26,
     "metadata": {},
     "output_type": "execute_result"
    },
    {
     "data": {
      "image/png": "[encoded data removed]",
      "text/plain": [
       "<Figure size 360x360 with 1 Axes>"
      ]
     },
     "metadata": {
      "needs_background": "light"
     },
     "output_type": "display_data"
    }
   ],
   "source": [
    "sns.displot(x = 'NU_NOTA_MT', data = df, bins = range(200, 1000, 50))"
   ]
  },
  {
   "cell_type": "code",
   "execution_count": 27,
   "id": "6fc2e83a-ec62-4b65-ac44-e657bd988ad4",
   "metadata": {},
   "outputs": [
    {
     "data": {
      "text/plain": [
       "count    5635953.00\n",
       "mean         490.23\n",
       "std          103.39\n",
       "min            0.00\n",
       "25%          412.80\n",
       "50%          468.10\n",
       "75%          549.20\n",
       "max          991.50\n",
       "Name: NU_NOTA_MT, dtype: object"
      ]
     },
     "execution_count": 27,
     "metadata": {},
     "output_type": "execute_result"
    }
   ],
   "source": [
    "df['NU_NOTA_MT'].describe().apply('{:.2f}'.format)"
   ]
  },
  {
   "cell_type": "markdown",
   "id": "13d558b6-c623-4916-abbc-cb31452640a4",
   "metadata": {},
   "source": [
    "## Nota na prova de Redação\n",
    "\n",
    "- ('NU_NOTA_REDACAO'):\n",
    "- São ruídos no atributo caso a nota seja menor que 0 ou maiores que 1000. "
   ]
  },
  {
   "cell_type": "code",
   "execution_count": 28,
   "id": "de54e7af-b1f7-4239-9bc6-9df802befd9b",
   "metadata": {},
   "outputs": [
    {
     "data": {
      "text/plain": [
       "<seaborn.axisgrid.FacetGrid at 0x1df50aa1ca0>"
      ]
     },
     "execution_count": 28,
     "metadata": {},
     "output_type": "execute_result"
    },
    {
     "data": {
      "image/png": "[encoded data removed]",
      "text/plain": [
       "<Figure size 360x360 with 1 Axes>"
      ]
     },
     "metadata": {
      "needs_background": "light"
     },
     "output_type": "display_data"
    }
   ],
   "source": [
    "sns.displot(x = 'NU_NOTA_REDACAO', data = df, bins = range(0, 1000, 50))"
   ]
  },
  {
   "cell_type": "code",
   "execution_count": 29,
   "id": "e331e1ed-54d4-4460-b09a-062e83aa56ba",
   "metadata": {},
   "outputs": [
    {
     "data": {
      "text/plain": [
       "count    5635953.00\n",
       "mean         531.02\n",
       "std          154.03\n",
       "min            0.00\n",
       "25%          440.00\n",
       "50%          540.00\n",
       "75%          600.00\n",
       "max         1000.00\n",
       "Name: NU_NOTA_REDACAO, dtype: object"
      ]
     },
     "execution_count": 29,
     "metadata": {},
     "output_type": "execute_result"
    }
   ],
   "source": [
    "df['NU_NOTA_REDACAO'].describe().apply('{:.2f}'.format)"
   ]
  },
  {
   "cell_type": "markdown",
   "id": "48850574-9c53-4146-a01f-cfc2d22f0835",
   "metadata": {},
   "source": [
    "## Nota Média\n",
    "\n",
    "-  É feita a média das 4 provas mais a redação"
   ]
  },
  {
   "cell_type": "code",
   "execution_count": 44,
   "id": "19ddf933-4707-4b81-8c6f-f12d7614d74f",
   "metadata": {},
   "outputs": [],
   "source": [
    "df['NU_NOTA_MEDIA'] = (\n",
    "    df['NU_NOTA_REDACAO'] + df['NU_NOTA_MT'] + \\\n",
    "    df['NU_NOTA_LC'] + df['NU_NOTA_CH']+ \\\n",
    "    df['NU_NOTA_CN'] \n",
    ") / 5.0"
   ]
  },
  {
   "cell_type": "code",
   "execution_count": 49,
   "id": "8f5f33e8-8a8a-4ef5-ad33-600f9cf075f4",
   "metadata": {},
   "outputs": [
    {
     "name": "stdout",
     "output_type": "stream",
     "text": [
      "count    5610744.00\n",
      "mean         511.34\n",
      "std           74.60\n",
      "min            0.00\n",
      "25%          460.52\n",
      "50%          502.22\n",
      "75%          554.40\n",
      "max          857.64\n",
      "Name: NU_NOTA_MEDIA, dtype: object\n"
     ]
    },
    {
     "data": {
      "text/plain": [
       "<seaborn.axisgrid.FacetGrid at 0x1df530b02e0>"
      ]
     },
     "execution_count": 49,
     "metadata": {},
     "output_type": "execute_result"
    },
    {
     "data": {
      "image/png": "[encoded data removed]",
      "text/plain": [
       "<Figure size 360x360 with 1 Axes>"
      ]
     },
     "metadata": {
      "needs_background": "light"
     },
     "output_type": "display_data"
    }
   ],
   "source": [
    "print('{}'.format(df['NU_NOTA_MEDIA'].describe().apply('{:.2f}'.format)))\n",
    "sns.displot(x=df['NU_NOTA_MEDIA'], bins = range(200, 1000, 50))"
   ]
  },
  {
   "cell_type": "markdown",
   "id": "2b491d72-ecdd-48f6-8d78-8ba798be0e73",
   "metadata": {},
   "source": [
    "## Escolaridade do Pai\n",
    "\n",
    "- ('Q001'):\n",
    "- São ruídos no atributo respostas diferentes de A a H."
   ]
  },
  {
   "cell_type": "code",
   "execution_count": 30,
   "id": "2098eebb-bd22-4136-b148-a13323960aff",
   "metadata": {},
   "outputs": [
    {
     "data": {
      "text/plain": [
       "<AxesSubplot:xlabel='Q001', ylabel='count'>"
      ]
     },
     "execution_count": 30,
     "metadata": {},
     "output_type": "execute_result"
    },
    {
     "data": {
      "image/png": "[encoded data removed]",
      "text/plain": [
       "<Figure size 432x288 with 1 Axes>"
      ]
     },
     "metadata": {
      "needs_background": "light"
     },
     "output_type": "display_data"
    }
   ],
   "source": [
    "sns.countplot(x = 'Q001', data = df)"
   ]
  },
  {
   "cell_type": "markdown",
   "id": "669461bc-d197-46d1-a4ff-dc0a7abac96b",
   "metadata": {},
   "source": [
    "## Escolaridade da Mãe \n",
    "\n",
    "- ('Q002'):\n",
    "- São ruídos no atributo respostas diferentes de A a H."
   ]
  },
  {
   "cell_type": "code",
   "execution_count": 31,
   "id": "60e1e864-899c-4973-aa9d-f76d23723fe2",
   "metadata": {},
   "outputs": [
    {
     "data": {
      "text/plain": [
       "<AxesSubplot:xlabel='Q002', ylabel='count'>"
      ]
     },
     "execution_count": 31,
     "metadata": {},
     "output_type": "execute_result"
    },
    {
     "data": {
      "image/png": "[encoded data removed]",
      "text/plain": [
       "<Figure size 432x288 with 1 Axes>"
      ]
     },
     "metadata": {
      "needs_background": "light"
     },
     "output_type": "display_data"
    }
   ],
   "source": [
    "sns.countplot(x = 'Q002', data = df)"
   ]
  },
  {
   "cell_type": "markdown",
   "id": "1744cd6a-4f54-4062-91be-207bc42cfd28",
   "metadata": {},
   "source": [
    "## Pessoas na Residência \n",
    "\n",
    "- ('Q005')\n",
    "- São ruídos no atributo menores que 1 e maiores 20."
   ]
  },
  {
   "cell_type": "code",
   "execution_count": 32,
   "id": "6a86ede5-1b88-42b9-a1c5-ee0b3daea759",
   "metadata": {},
   "outputs": [
    {
     "data": {
      "text/plain": [
       "<AxesSubplot:xlabel='Q005', ylabel='count'>"
      ]
     },
     "execution_count": 32,
     "metadata": {},
     "output_type": "execute_result"
    },
    {
     "data": {
      "image/png": "[encoded data removed]",
      "text/plain": [
       "<Figure size 432x288 with 1 Axes>"
      ]
     },
     "metadata": {
      "needs_background": "light"
     },
     "output_type": "display_data"
    }
   ],
   "source": [
    "sns.countplot(x = 'Q005', data = df)"
   ]
  },
  {
   "cell_type": "markdown",
   "id": "cf3f8716-9043-4605-860f-b5be292fcf5a",
   "metadata": {},
   "source": [
    "## Renda Mensal \n",
    "\n",
    "- ('Q006')\n",
    "- São ruídos no atributo respostas diferentes de A a Q."
   ]
  },
  {
   "cell_type": "code",
   "execution_count": 33,
   "id": "f4fd57c2-c6b8-4517-a190-358234880c0d",
   "metadata": {},
   "outputs": [
    {
     "data": {
      "text/plain": [
       "<AxesSubplot:xlabel='Q006', ylabel='count'>"
      ]
     },
     "execution_count": 33,
     "metadata": {},
     "output_type": "execute_result"
    },
    {
     "data": {
      "image/png": "[encoded data removed]",
      "text/plain": [
       "<Figure size 432x288 with 1 Axes>"
      ]
     },
     "metadata": {
      "needs_background": "light"
     },
     "output_type": "display_data"
    }
   ],
   "source": [
    "sns.countplot(x = 'Q006', data = df)"
   ]
  },
  {
   "cell_type": "markdown",
   "id": "bd6ada62-6d98-4b9c-8799-1f109f936619",
   "metadata": {},
   "source": [
    "Renda: agrupamento em 5 classes, de acordo com o IBGE:\n",
    "- Classe A: de RS 18740,01(Q)\n",
    "- Classe B: de RS 9370,01 a RS18740,00(N, O, P)\n",
    "- Classe C: de RS 3748,01 a RS9370,00(H, I, J, K, L, M)\n",
    "- Classe D: de RS 1874,01 a RS3748,00(E, F, G)\n",
    "- Classe E: de RS 0 a RS1874,00 (A, B, C, D)"
   ]
  },
  {
   "cell_type": "code",
   "execution_count": 37,
   "id": "a2d61377-a27d-4b4f-9313-1a568d4d4e12",
   "metadata": {},
   "outputs": [],
   "source": [
    "def categoriza_social(s):\n",
    "    if (s=='A')|(s=='B')|(s=='C')|(s=='D'):\n",
    "        return 'E'\n",
    "    elif (s=='E')|(s=='F')|(s=='G'):\n",
    "        return 'D'\n",
    "    elif (s=='H')|(s=='I')|(s=='J')|(s=='K')|(s=='L')|(s=='M'):\n",
    "        return 'C'\n",
    "    elif (s=='N')|(s=='O')|(s=='P'):\n",
    "        return 'B'\n",
    "    elif s=='Q':\n",
    "        return 'A'"
   ]
  },
  {
   "cell_type": "code",
   "execution_count": 38,
   "id": "7a75c869-ecaf-44f5-975b-8e9b87addd2c",
   "metadata": {},
   "outputs": [
    {
     "data": {
      "text/html": [
       "<div>\n",
       "<style scoped>\n",
       "    .dataframe tbody tr th:only-of-type {\n",
       "        vertical-align: middle;\n",
       "    }\n",
       "\n",
       "    .dataframe tbody tr th {\n",
       "        vertical-align: top;\n",
       "    }\n",
       "\n",
       "    .dataframe thead th {\n",
       "        text-align: right;\n",
       "    }\n",
       "</style>\n",
       "<table border=\"1\" class=\"dataframe\">\n",
       "  <thead>\n",
       "    <tr style=\"text-align: right;\">\n",
       "      <th></th>\n",
       "      <th>NU_IDADE</th>\n",
       "      <th>TP_SEXO</th>\n",
       "      <th>TP_ESTADO_CIVIL</th>\n",
       "      <th>TP_COR_RACA</th>\n",
       "      <th>TP_NACIONALIDADE</th>\n",
       "      <th>TP_ST_CONCLUSAO</th>\n",
       "      <th>TP_ANO_CONCLUIU</th>\n",
       "      <th>TP_ESCOLA</th>\n",
       "      <th>IN_TREINEIRO</th>\n",
       "      <th>IN_SABATISTA</th>\n",
       "      <th>...</th>\n",
       "      <th>NU_NOTA_MT</th>\n",
       "      <th>TP_STATUS_REDACAO</th>\n",
       "      <th>NU_NOTA_REDACAO</th>\n",
       "      <th>Q001</th>\n",
       "      <th>Q002</th>\n",
       "      <th>Q005</th>\n",
       "      <th>Q006</th>\n",
       "      <th>Q025</th>\n",
       "      <th>Q042</th>\n",
       "      <th>Q047</th>\n",
       "    </tr>\n",
       "  </thead>\n",
       "  <tbody>\n",
       "    <tr>\n",
       "      <th>0</th>\n",
       "      <td>B</td>\n",
       "      <td>M</td>\n",
       "      <td>0.0</td>\n",
       "      <td>3</td>\n",
       "      <td>1</td>\n",
       "      <td>1</td>\n",
       "      <td>7</td>\n",
       "      <td>1</td>\n",
       "      <td>0</td>\n",
       "      <td>0</td>\n",
       "      <td>...</td>\n",
       "      <td>462.9</td>\n",
       "      <td>1.0</td>\n",
       "      <td>580.0</td>\n",
       "      <td>E</td>\n",
       "      <td>E</td>\n",
       "      <td>2</td>\n",
       "      <td>E</td>\n",
       "      <td>B</td>\n",
       "      <td>C</td>\n",
       "      <td>D</td>\n",
       "    </tr>\n",
       "    <tr>\n",
       "      <th>1</th>\n",
       "      <td>B</td>\n",
       "      <td>M</td>\n",
       "      <td>0.0</td>\n",
       "      <td>1</td>\n",
       "      <td>1</td>\n",
       "      <td>1</td>\n",
       "      <td>3</td>\n",
       "      <td>1</td>\n",
       "      <td>0</td>\n",
       "      <td>0</td>\n",
       "      <td>...</td>\n",
       "      <td>423.6</td>\n",
       "      <td>1.0</td>\n",
       "      <td>560.0</td>\n",
       "      <td>H</td>\n",
       "      <td>H</td>\n",
       "      <td>5</td>\n",
       "      <td>E</td>\n",
       "      <td>B</td>\n",
       "      <td>A</td>\n",
       "      <td>D</td>\n",
       "    </tr>\n",
       "    <tr>\n",
       "      <th>2</th>\n",
       "      <td>B</td>\n",
       "      <td>M</td>\n",
       "      <td>0.0</td>\n",
       "      <td>3</td>\n",
       "      <td>1</td>\n",
       "      <td>1</td>\n",
       "      <td>1</td>\n",
       "      <td>1</td>\n",
       "      <td>0</td>\n",
       "      <td>0</td>\n",
       "      <td>...</td>\n",
       "      <td>414.6</td>\n",
       "      <td>1.0</td>\n",
       "      <td>480.0</td>\n",
       "      <td>B</td>\n",
       "      <td>E</td>\n",
       "      <td>3</td>\n",
       "      <td>E</td>\n",
       "      <td>B</td>\n",
       "      <td>B</td>\n",
       "      <td>A</td>\n",
       "    </tr>\n",
       "    <tr>\n",
       "      <th>3</th>\n",
       "      <td>A</td>\n",
       "      <td>M</td>\n",
       "      <td>0.0</td>\n",
       "      <td>1</td>\n",
       "      <td>1</td>\n",
       "      <td>1</td>\n",
       "      <td>1</td>\n",
       "      <td>1</td>\n",
       "      <td>0</td>\n",
       "      <td>1</td>\n",
       "      <td>...</td>\n",
       "      <td>709.4</td>\n",
       "      <td>1.0</td>\n",
       "      <td>620.0</td>\n",
       "      <td>E</td>\n",
       "      <td>E</td>\n",
       "      <td>5</td>\n",
       "      <td>E</td>\n",
       "      <td>B</td>\n",
       "      <td>D</td>\n",
       "      <td>E</td>\n",
       "    </tr>\n",
       "    <tr>\n",
       "      <th>5</th>\n",
       "      <td>B</td>\n",
       "      <td>M</td>\n",
       "      <td>0.0</td>\n",
       "      <td>3</td>\n",
       "      <td>1</td>\n",
       "      <td>1</td>\n",
       "      <td>2</td>\n",
       "      <td>1</td>\n",
       "      <td>0</td>\n",
       "      <td>0</td>\n",
       "      <td>...</td>\n",
       "      <td>708.1</td>\n",
       "      <td>1.0</td>\n",
       "      <td>600.0</td>\n",
       "      <td>H</td>\n",
       "      <td>B</td>\n",
       "      <td>3</td>\n",
       "      <td>E</td>\n",
       "      <td>B</td>\n",
       "      <td>D</td>\n",
       "      <td>B</td>\n",
       "    </tr>\n",
       "  </tbody>\n",
       "</table>\n",
       "<p>5 rows × 28 columns</p>\n",
       "</div>"
      ],
      "text/plain": [
       "  NU_IDADE TP_SEXO  TP_ESTADO_CIVIL  TP_COR_RACA  TP_NACIONALIDADE  \\\n",
       "0        B       M              0.0            3                 1   \n",
       "1        B       M              0.0            1                 1   \n",
       "2        B       M              0.0            3                 1   \n",
       "3        A       M              0.0            1                 1   \n",
       "5        B       M              0.0            3                 1   \n",
       "\n",
       "   TP_ST_CONCLUSAO  TP_ANO_CONCLUIU  TP_ESCOLA  IN_TREINEIRO  IN_SABATISTA  \\\n",
       "0                1                7          1             0             0   \n",
       "1                1                3          1             0             0   \n",
       "2                1                1          1             0             0   \n",
       "3                1                1          1             0             1   \n",
       "5                1                2          1             0             0   \n",
       "\n",
       "   ... NU_NOTA_MT TP_STATUS_REDACAO  NU_NOTA_REDACAO  Q001  Q002  Q005  Q006  \\\n",
       "0  ...      462.9               1.0            580.0     E     E     2     E   \n",
       "1  ...      423.6               1.0            560.0     H     H     5     E   \n",
       "2  ...      414.6               1.0            480.0     B     E     3     E   \n",
       "3  ...      709.4               1.0            620.0     E     E     5     E   \n",
       "5  ...      708.1               1.0            600.0     H     B     3     E   \n",
       "\n",
       "   Q025  Q042 Q047  \n",
       "0     B     C    D  \n",
       "1     B     A    D  \n",
       "2     B     B    A  \n",
       "3     B     D    E  \n",
       "5     B     D    B  \n",
       "\n",
       "[5 rows x 28 columns]"
      ]
     },
     "execution_count": 38,
     "metadata": {},
     "output_type": "execute_result"
    }
   ],
   "source": [
    "df['Q006'] = df['Q006'].apply(categoriza_social)\n",
    "df.head()"
   ]
  },
  {
   "cell_type": "markdown",
   "id": "7811515c-2a6e-4917-b4bd-298d81e60f0c",
   "metadata": {},
   "source": [
    "## Residência com Internet \n",
    "\n",
    "- ('Q025')\n",
    "- São ruídos no atributo respostas diferentes de A e B."
   ]
  },
  {
   "cell_type": "code",
   "execution_count": 34,
   "id": "580134b3-8048-48c7-8c82-4963afde2095",
   "metadata": {},
   "outputs": [
    {
     "data": {
      "text/plain": [
       "<AxesSubplot:xlabel='Q025', ylabel='count'>"
      ]
     },
     "execution_count": 34,
     "metadata": {},
     "output_type": "execute_result"
    },
    {
     "data": {
      "image/png": "[encoded data removed]",
      "text/plain": [
       "<Figure size 432x288 with 1 Axes>"
      ]
     },
     "metadata": {
      "needs_background": "light"
     },
     "output_type": "display_data"
    }
   ],
   "source": [
    "sns.countplot(x = 'Q025', data = df)"
   ]
  },
  {
   "cell_type": "markdown",
   "id": "eac20b60-6b82-4f2a-be6b-40f7bba8252d",
   "metadata": {},
   "source": [
    "## Tipo Escola Ensino Fundamental \n",
    "\n",
    "- ('Q042')\n",
    "- São ruídos no atributo respostas diferentes de A a H."
   ]
  },
  {
   "cell_type": "code",
   "execution_count": 35,
   "id": "62cc9435-2ba6-4ab2-8a96-638171412790",
   "metadata": {},
   "outputs": [
    {
     "data": {
      "text/plain": [
       "<AxesSubplot:xlabel='Q042', ylabel='count'>"
      ]
     },
     "execution_count": 35,
     "metadata": {},
     "output_type": "execute_result"
    },
    {
     "data": {
      "image/png": "[encoded data removed]",
      "text/plain": [
       "<Figure size 432x288 with 1 Axes>"
      ]
     },
     "metadata": {
      "needs_background": "light"
     },
     "output_type": "display_data"
    }
   ],
   "source": [
    "sns.countplot(x = 'Q042', data = df)"
   ]
  },
  {
   "cell_type": "markdown",
   "id": "48f8fb13-6177-4da3-9005-52344b240f5d",
   "metadata": {},
   "source": [
    "## Tipo de Escola Ensino Médio \n",
    "\n",
    "- ('Q047')\n",
    "- São ruídos no atributo respostas diferentes de A a E."
   ]
  },
  {
   "cell_type": "code",
   "execution_count": 36,
   "id": "0b1e34c5-17ed-458b-b40d-7e2b667edee1",
   "metadata": {},
   "outputs": [
    {
     "data": {
      "text/plain": [
       "<AxesSubplot:xlabel='Q047', ylabel='count'>"
      ]
     },
     "execution_count": 36,
     "metadata": {},
     "output_type": "execute_result"
    },
    {
     "data": {
      "image/png": "[encoded data removed]",
      "text/plain": [
       "<Figure size 432x288 with 1 Axes>"
      ]
     },
     "metadata": {
      "needs_background": "light"
     },
     "output_type": "display_data"
    }
   ],
   "source": [
    "sns.countplot(x = 'Q047', data = df)"
   ]
  },
  {
   "cell_type": "markdown",
   "id": "b6c44548-f8f5-4ac6-b65e-c2f36ee413b0",
   "metadata": {},
   "source": [
    "# Salvar Dados"
   ]
  },
  {
   "cell_type": "code",
   "execution_count": 50,
   "id": "4f5119e8-fc7b-4a54-a761-b8de4094fbde",
   "metadata": {},
   "outputs": [],
   "source": [
    "df.to_csv('dataset01.csv', encoding='utf-8', index=False)"
   ]
  }
 ],
 "metadata": {
  "kernelspec": {
   "display_name": "Python 3",
   "language": "python",
   "name": "python3"
  },
  "language_info": {
   "codemirror_mode": {
    "name": "ipython",
    "version": 3
   },
   "file_extension": ".py",
   "mimetype": "text/x-python",
   "name": "python",
   "nbconvert_exporter": "python",
   "pygments_lexer": "ipython3",
   "version": "3.8.8"
  }
 },
 "nbformat": 4,
 "nbformat_minor": 5
}
