{
 "cells": [
  {
   "cell_type": "markdown",
   "id": "aae64c1e-5c13-48ff-80a7-92b740078611",
   "metadata": {},
   "source": [
    "# Bibliotecas"
   ]
  },
  {
   "cell_type": "code",
   "execution_count": 1,
   "id": "f9c46906-7c44-4c11-9bd2-0055799e5707",
   "metadata": {},
   "outputs": [],
   "source": [
    "import pandas as pd\n",
    "import numpy as np\n",
    "import matplotlib.pyplot as plt\n",
    "import seaborn as sns\n",
    "\n",
    "from sklearn.linear_model import LinearRegression\n",
    "from sklearn.model_selection import train_test_split\n",
    "from sklearn.metrics import precision_recall_fscore_support, r2_score, mean_squared_error, mean_absolute_error\n",
    "\n",
    "from sklearn.model_selection import cross_val_score\n",
    "from sklearn.model_selection import KFold\n",
    "from sklearn.model_selection import GridSearchCV"
   ]
  },
  {
   "cell_type": "markdown",
   "id": "e748edbd-c966-4a12-b951-3e12afeda1f8",
   "metadata": {},
   "source": [
    "# Carregando Dados"
   ]
  },
  {
   "cell_type": "code",
   "execution_count": 2,
   "id": "bf2e8de8-5e6f-4097-8587-78f3eb6fd3c1",
   "metadata": {},
   "outputs": [
    {
     "data": {
      "text/html": [
       "<div>\n",
       "<style scoped>\n",
       "    .dataframe tbody tr th:only-of-type {\n",
       "        vertical-align: middle;\n",
       "    }\n",
       "\n",
       "    .dataframe tbody tr th {\n",
       "        vertical-align: top;\n",
       "    }\n",
       "\n",
       "    .dataframe thead th {\n",
       "        text-align: right;\n",
       "    }\n",
       "</style>\n",
       "<table border=\"1\" class=\"dataframe\">\n",
       "  <thead>\n",
       "    <tr style=\"text-align: right;\">\n",
       "      <th></th>\n",
       "      <th>NU_IDADE</th>\n",
       "      <th>TP_ESTADO_CIVIL</th>\n",
       "      <th>TP_SEXO</th>\n",
       "      <th>TP_COR_RACA</th>\n",
       "      <th>TP_ANO_CONCLUIU</th>\n",
       "      <th>Q002</th>\n",
       "      <th>Q006</th>\n",
       "      <th>Q025</th>\n",
       "      <th>Q047</th>\n",
       "      <th>NU_NOTA_MT</th>\n",
       "      <th>NU_NOTA_LC</th>\n",
       "      <th>NU_NOTA_CH</th>\n",
       "      <th>NU_NOTA_CN</th>\n",
       "      <th>NU_NOTA_REDACAO</th>\n",
       "      <th>NU_NOTA_MEDIA</th>\n",
       "    </tr>\n",
       "  </thead>\n",
       "  <tbody>\n",
       "    <tr>\n",
       "      <th>0</th>\n",
       "      <td>B</td>\n",
       "      <td>0.0</td>\n",
       "      <td>F</td>\n",
       "      <td>3</td>\n",
       "      <td>A</td>\n",
       "      <td>C</td>\n",
       "      <td>E</td>\n",
       "      <td>A</td>\n",
       "      <td>A</td>\n",
       "      <td>463.4</td>\n",
       "      <td>495.9</td>\n",
       "      <td>466.6</td>\n",
       "      <td>457.0</td>\n",
       "      <td>520.0</td>\n",
       "      <td>480.58</td>\n",
       "    </tr>\n",
       "    <tr>\n",
       "      <th>1</th>\n",
       "      <td>D</td>\n",
       "      <td>0.0</td>\n",
       "      <td>F</td>\n",
       "      <td>1</td>\n",
       "      <td>D</td>\n",
       "      <td>B</td>\n",
       "      <td>E</td>\n",
       "      <td>B</td>\n",
       "      <td>A</td>\n",
       "      <td>492.6</td>\n",
       "      <td>523.0</td>\n",
       "      <td>538.4</td>\n",
       "      <td>538.7</td>\n",
       "      <td>420.0</td>\n",
       "      <td>502.54</td>\n",
       "    </tr>\n",
       "    <tr>\n",
       "      <th>2</th>\n",
       "      <td>D</td>\n",
       "      <td>1.0</td>\n",
       "      <td>M</td>\n",
       "      <td>1</td>\n",
       "      <td>N</td>\n",
       "      <td>E</td>\n",
       "      <td>E</td>\n",
       "      <td>A</td>\n",
       "      <td>A</td>\n",
       "      <td>443.3</td>\n",
       "      <td>511.0</td>\n",
       "      <td>559.8</td>\n",
       "      <td>507.4</td>\n",
       "      <td>420.0</td>\n",
       "      <td>488.30</td>\n",
       "    </tr>\n",
       "    <tr>\n",
       "      <th>3</th>\n",
       "      <td>A</td>\n",
       "      <td>0.0</td>\n",
       "      <td>F</td>\n",
       "      <td>3</td>\n",
       "      <td>A</td>\n",
       "      <td>B</td>\n",
       "      <td>E</td>\n",
       "      <td>B</td>\n",
       "      <td>A</td>\n",
       "      <td>480.4</td>\n",
       "      <td>531.6</td>\n",
       "      <td>569.0</td>\n",
       "      <td>456.3</td>\n",
       "      <td>600.0</td>\n",
       "      <td>527.46</td>\n",
       "    </tr>\n",
       "    <tr>\n",
       "      <th>4</th>\n",
       "      <td>B</td>\n",
       "      <td>0.0</td>\n",
       "      <td>M</td>\n",
       "      <td>3</td>\n",
       "      <td>N</td>\n",
       "      <td>E</td>\n",
       "      <td>D</td>\n",
       "      <td>A</td>\n",
       "      <td>A</td>\n",
       "      <td>448.5</td>\n",
       "      <td>510.0</td>\n",
       "      <td>508.3</td>\n",
       "      <td>491.8</td>\n",
       "      <td>560.0</td>\n",
       "      <td>503.72</td>\n",
       "    </tr>\n",
       "  </tbody>\n",
       "</table>\n",
       "</div>"
      ],
      "text/plain": [
       "  NU_IDADE  TP_ESTADO_CIVIL TP_SEXO  TP_COR_RACA TP_ANO_CONCLUIU Q002 Q006  \\\n",
       "0        B              0.0       F            3               A    C    E   \n",
       "1        D              0.0       F            1               D    B    E   \n",
       "2        D              1.0       M            1               N    E    E   \n",
       "3        A              0.0       F            3               A    B    E   \n",
       "4        B              0.0       M            3               N    E    D   \n",
       "\n",
       "  Q025 Q047  NU_NOTA_MT  NU_NOTA_LC  NU_NOTA_CH  NU_NOTA_CN  NU_NOTA_REDACAO  \\\n",
       "0    A    A       463.4       495.9       466.6       457.0            520.0   \n",
       "1    B    A       492.6       523.0       538.4       538.7            420.0   \n",
       "2    A    A       443.3       511.0       559.8       507.4            420.0   \n",
       "3    B    A       480.4       531.6       569.0       456.3            600.0   \n",
       "4    A    A       448.5       510.0       508.3       491.8            560.0   \n",
       "\n",
       "   NU_NOTA_MEDIA  \n",
       "0         480.58  \n",
       "1         502.54  \n",
       "2         488.30  \n",
       "3         527.46  \n",
       "4         503.72  "
      ]
     },
     "execution_count": 2,
     "metadata": {},
     "output_type": "execute_result"
    }
   ],
   "source": [
    "df = pd.read_csv('dataset/enem_resumo.csv')\n",
    "df.head()"
   ]
  },
  {
   "cell_type": "markdown",
   "id": "3f08b645-cfcf-41ff-8823-77dd255622d0",
   "metadata": {},
   "source": [
    "# Analisando o DF"
   ]
  },
  {
   "cell_type": "code",
   "execution_count": 3,
   "id": "98c2373e-86f3-46fe-b336-018f9ab47b16",
   "metadata": {},
   "outputs": [
    {
     "data": {
      "text/plain": [
       "NU_IDADE              0\n",
       "TP_ESTADO_CIVIL       0\n",
       "TP_SEXO               0\n",
       "TP_COR_RACA           0\n",
       "TP_ANO_CONCLUIU       0\n",
       "Q002                  0\n",
       "Q006                  0\n",
       "Q025                  0\n",
       "Q047                  0\n",
       "NU_NOTA_MT            0\n",
       "NU_NOTA_LC            0\n",
       "NU_NOTA_CH         4568\n",
       "NU_NOTA_CN         4568\n",
       "NU_NOTA_REDACAO       0\n",
       "NU_NOTA_MEDIA      4568\n",
       "dtype: int64"
      ]
     },
     "execution_count": 3,
     "metadata": {},
     "output_type": "execute_result"
    }
   ],
   "source": [
    "df.isnull().sum()"
   ]
  },
  {
   "cell_type": "code",
   "execution_count": 4,
   "id": "86ff2911-79ab-4a54-971f-15cde38c8a17",
   "metadata": {},
   "outputs": [
    {
     "name": "stdout",
     "output_type": "stream",
     "text": [
      "<class 'pandas.core.frame.DataFrame'>\n",
      "RangeIndex: 1000000 entries, 0 to 999999\n",
      "Data columns (total 15 columns):\n",
      " #   Column           Non-Null Count    Dtype  \n",
      "---  ------           --------------    -----  \n",
      " 0   NU_IDADE         1000000 non-null  object \n",
      " 1   TP_ESTADO_CIVIL  1000000 non-null  float64\n",
      " 2   TP_SEXO          1000000 non-null  object \n",
      " 3   TP_COR_RACA      1000000 non-null  int64  \n",
      " 4   TP_ANO_CONCLUIU  1000000 non-null  object \n",
      " 5   Q002             1000000 non-null  object \n",
      " 6   Q006             1000000 non-null  object \n",
      " 7   Q025             1000000 non-null  object \n",
      " 8   Q047             1000000 non-null  object \n",
      " 9   NU_NOTA_MT       1000000 non-null  float64\n",
      " 10  NU_NOTA_LC       1000000 non-null  float64\n",
      " 11  NU_NOTA_CH       995432 non-null   float64\n",
      " 12  NU_NOTA_CN       995432 non-null   float64\n",
      " 13  NU_NOTA_REDACAO  1000000 non-null  float64\n",
      " 14  NU_NOTA_MEDIA    995432 non-null   float64\n",
      "dtypes: float64(7), int64(1), object(7)\n",
      "memory usage: 114.4+ MB\n"
     ]
    }
   ],
   "source": [
    "df.info()"
   ]
  },
  {
   "cell_type": "code",
   "execution_count": 5,
   "id": "ed6c2e7d-2ee4-4417-8af5-3d88fb73504c",
   "metadata": {},
   "outputs": [
    {
     "data": {
      "text/plain": [
       "Index(['NU_IDADE', 'TP_ESTADO_CIVIL', 'TP_SEXO', 'TP_COR_RACA',\n",
       "       'TP_ANO_CONCLUIU', 'Q002', 'Q006', 'Q025', 'Q047', 'NU_NOTA_MT',\n",
       "       'NU_NOTA_LC', 'NU_NOTA_CH', 'NU_NOTA_CN', 'NU_NOTA_REDACAO',\n",
       "       'NU_NOTA_MEDIA'],\n",
       "      dtype='object')"
      ]
     },
     "execution_count": 5,
     "metadata": {},
     "output_type": "execute_result"
    }
   ],
   "source": [
    "df.columns"
   ]
  },
  {
   "cell_type": "markdown",
   "id": "db326b38-a408-406e-a5ab-ebad9fc8a077",
   "metadata": {},
   "source": [
    "## Removendo valores nulos"
   ]
  },
  {
   "cell_type": "code",
   "execution_count": 6,
   "id": "3ee85163-e0a2-4466-8a06-f24fd8a6dc5d",
   "metadata": {},
   "outputs": [
    {
     "name": "stdout",
     "output_type": "stream",
     "text": [
      "<class 'pandas.core.frame.DataFrame'>\n",
      "Int64Index: 995432 entries, 0 to 999999\n",
      "Data columns (total 15 columns):\n",
      " #   Column           Non-Null Count   Dtype  \n",
      "---  ------           --------------   -----  \n",
      " 0   NU_IDADE         995432 non-null  object \n",
      " 1   TP_ESTADO_CIVIL  995432 non-null  float64\n",
      " 2   TP_SEXO          995432 non-null  object \n",
      " 3   TP_COR_RACA      995432 non-null  int64  \n",
      " 4   TP_ANO_CONCLUIU  995432 non-null  object \n",
      " 5   Q002             995432 non-null  object \n",
      " 6   Q006             995432 non-null  object \n",
      " 7   Q025             995432 non-null  object \n",
      " 8   Q047             995432 non-null  object \n",
      " 9   NU_NOTA_MT       995432 non-null  float64\n",
      " 10  NU_NOTA_LC       995432 non-null  float64\n",
      " 11  NU_NOTA_CH       995432 non-null  float64\n",
      " 12  NU_NOTA_CN       995432 non-null  float64\n",
      " 13  NU_NOTA_REDACAO  995432 non-null  float64\n",
      " 14  NU_NOTA_MEDIA    995432 non-null  float64\n",
      "dtypes: float64(7), int64(1), object(7)\n",
      "memory usage: 121.5+ MB\n"
     ]
    }
   ],
   "source": [
    "df = df.dropna(axis = 0)\n",
    "df = df[df['TP_ANO_CONCLUIU'].notna()]\n",
    "df.info()"
   ]
  },
  {
   "cell_type": "markdown",
   "id": "17cdee2b-05a2-4265-9f7b-340d6b6b4cb1",
   "metadata": {},
   "source": [
    "# Engenharia de Atributos"
   ]
  },
  {
   "cell_type": "markdown",
   "id": "17e5b973-f0a1-49cc-800c-10db22c52d34",
   "metadata": {},
   "source": [
    "## Sexo"
   ]
  },
  {
   "cell_type": "code",
   "execution_count": 7,
   "id": "9f42ed11-7bb3-4c3c-ae3b-12da0bdffde5",
   "metadata": {},
   "outputs": [
    {
     "name": "stdout",
     "output_type": "stream",
     "text": [
      "<class 'pandas.core.frame.DataFrame'>\n",
      "Int64Index: 995432 entries, 0 to 999999\n",
      "Data columns (total 1 columns):\n",
      " #   Column   Non-Null Count   Dtype\n",
      "---  ------   --------------   -----\n",
      " 0   TP_SEXO  995432 non-null  int32\n",
      "dtypes: int32(1)\n",
      "memory usage: 11.4 MB\n",
      "[0 1] None\n"
     ]
    }
   ],
   "source": [
    "dic_sexo = {'F': 0, 'M': 1}\n",
    "\n",
    "df['TP_SEXO'] = df['TP_SEXO'].map(dic_sexo).astype(int)\n",
    "\n",
    "print(f\"{df['TP_SEXO'].unique()} {df[['TP_SEXO']].info()}\")"
   ]
  },
  {
   "cell_type": "markdown",
   "id": "7a5326e5-d8d1-43bf-bcb4-afb67278c7f2",
   "metadata": {},
   "source": [
    "## Idade"
   ]
  },
  {
   "cell_type": "code",
   "execution_count": 8,
   "id": "107e1525-97bb-49a2-8c53-657a781e749e",
   "metadata": {},
   "outputs": [
    {
     "name": "stdout",
     "output_type": "stream",
     "text": [
      "<class 'pandas.core.frame.DataFrame'>\n",
      "Int64Index: 995432 entries, 0 to 999999\n",
      "Data columns (total 1 columns):\n",
      " #   Column    Non-Null Count   Dtype\n",
      "---  ------    --------------   -----\n",
      " 0   NU_IDADE  995432 non-null  int32\n",
      "dtypes: int32(1)\n",
      "memory usage: 11.4 MB\n",
      "[3 1 4 2 0] None\n"
     ]
    }
   ],
   "source": [
    "dic_idade = {'A': 4, 'B': 3, 'C': 2, 'D': 1, 'E': 0}\n",
    "\n",
    "df['NU_IDADE'] = df['NU_IDADE'].map(dic_idade).astype(int)\n",
    "\n",
    "print(f\"{df['NU_IDADE'].unique()} {df[['NU_IDADE']].info()}\")"
   ]
  },
  {
   "cell_type": "markdown",
   "id": "6b681e25-2028-4258-81b3-da91c6cd1881",
   "metadata": {},
   "source": [
    "## Escolaridade da Mãe"
   ]
  },
  {
   "cell_type": "code",
   "execution_count": 9,
   "id": "461ec04b-a618-4cb1-8e28-42d982149efe",
   "metadata": {},
   "outputs": [
    {
     "name": "stdout",
     "output_type": "stream",
     "text": [
      "<class 'pandas.core.frame.DataFrame'>\n",
      "Int64Index: 995432 entries, 0 to 999999\n",
      "Data columns (total 1 columns):\n",
      " #   Column  Non-Null Count   Dtype\n",
      "---  ------  --------------   -----\n",
      " 0   Q002    995432 non-null  int32\n",
      "dtypes: int32(1)\n",
      "memory usage: 11.4 MB\n",
      "[5 6 3 4 7 2 1 0] None\n"
     ]
    }
   ],
   "source": [
    "dic_pais = {'A': 7, 'B': 6, 'C': 5, 'D': 4, 'E': 3, 'F': 2, 'G': 1, 'H': 0 }\n",
    "\n",
    "df['Q002'] = df['Q002'].map(dic_pais).astype(int)\n",
    "\n",
    "print(f\"{df['Q002'].unique()} {df[['Q002']].info()}\")"
   ]
  },
  {
   "cell_type": "markdown",
   "id": "b33fcbb5-6edb-4ad0-b872-c99f76a02658",
   "metadata": {},
   "source": [
    "## Classe Social"
   ]
  },
  {
   "cell_type": "code",
   "execution_count": 10,
   "id": "3b324744-6134-487f-9e1d-42ef2ab1ede2",
   "metadata": {},
   "outputs": [
    {
     "name": "stdout",
     "output_type": "stream",
     "text": [
      "<class 'pandas.core.frame.DataFrame'>\n",
      "Int64Index: 995432 entries, 0 to 999999\n",
      "Data columns (total 1 columns):\n",
      " #   Column  Non-Null Count   Dtype\n",
      "---  ------  --------------   -----\n",
      " 0   Q006    995432 non-null  int32\n",
      "dtypes: int32(1)\n",
      "memory usage: 11.4 MB\n",
      "[0 1 2 3 4] None\n"
     ]
    }
   ],
   "source": [
    "dic_social = {'A': 4, 'B': 3, 'C': 2, 'D': 1, 'E': 0}\n",
    "\n",
    "df['Q006'] = df['Q006'].map(dic_social).astype(int)\n",
    "\n",
    "print(f\"{df['Q006'].unique()} {df[['Q006']].info()}\")"
   ]
  },
  {
   "cell_type": "markdown",
   "id": "f2a4dfc7-c685-4f3c-91fa-77e6d1cb1c14",
   "metadata": {},
   "source": [
    "## Internet"
   ]
  },
  {
   "cell_type": "code",
   "execution_count": 11,
   "id": "dd1cc069-159a-466f-955f-3b47ed72b4df",
   "metadata": {},
   "outputs": [
    {
     "name": "stdout",
     "output_type": "stream",
     "text": [
      "<class 'pandas.core.frame.DataFrame'>\n",
      "Int64Index: 995432 entries, 0 to 999999\n",
      "Data columns (total 1 columns):\n",
      " #   Column  Non-Null Count   Dtype\n",
      "---  ------  --------------   -----\n",
      " 0   Q025    995432 non-null  int32\n",
      "dtypes: int32(1)\n",
      "memory usage: 11.4 MB\n",
      "[0 1] None\n"
     ]
    }
   ],
   "source": [
    "dic_internet = {'A': 0, 'B': 1}\n",
    "\n",
    "df['Q025'] = df['Q025'].map(dic_internet).astype(int)\n",
    "\n",
    "print(f\"{df['Q025'].unique()} {df[['Q025']].info()}\")"
   ]
  },
  {
   "cell_type": "markdown",
   "id": "06d79b41-2ad9-4395-a018-f89af021db75",
   "metadata": {},
   "source": [
    "## Ensino Médio"
   ]
  },
  {
   "cell_type": "code",
   "execution_count": 12,
   "id": "21a66e84-2330-4210-b957-ce4082a88ced",
   "metadata": {},
   "outputs": [
    {
     "name": "stdout",
     "output_type": "stream",
     "text": [
      "<class 'pandas.core.frame.DataFrame'>\n",
      "Int64Index: 995432 entries, 0 to 999999\n",
      "Data columns (total 1 columns):\n",
      " #   Column  Non-Null Count   Dtype\n",
      "---  ------  --------------   -----\n",
      " 0   Q047    995432 non-null  int32\n",
      "dtypes: int32(1)\n",
      "memory usage: 11.4 MB\n",
      "[0 1 3 4 2] None\n"
     ]
    }
   ],
   "source": [
    "dic_medio = {'A': 0, 'B': 1, 'C': 2, 'D': 3, 'E': 4}\n",
    "\n",
    "df['Q047'] = df['Q047'].map(dic_medio).astype(int)\n",
    "\n",
    "print(f\"{df['Q047'].unique()} {df[['Q047']].info()}\")"
   ]
  },
  {
   "cell_type": "markdown",
   "id": "8bd75e04-e615-4ecc-a16e-bc1c85916b94",
   "metadata": {},
   "source": [
    "## Ano de Conclusão"
   ]
  },
  {
   "cell_type": "code",
   "execution_count": 13,
   "id": "4d72597a-fb09-46b2-8cc3-2666ef392704",
   "metadata": {},
   "outputs": [
    {
     "name": "stdout",
     "output_type": "stream",
     "text": [
      "<class 'pandas.core.frame.DataFrame'>\n",
      "Int64Index: 995432 entries, 0 to 999999\n",
      "Data columns (total 1 columns):\n",
      " #   Column           Non-Null Count   Dtype\n",
      "---  ------           --------------   -----\n",
      " 0   TP_ANO_CONCLUIU  995432 non-null  int64\n",
      "dtypes: int64(1)\n",
      "memory usage: 15.2 MB\n",
      "[4 1 0 3 2] None\n"
     ]
    }
   ],
   "source": [
    "dic_conclusao = {'A': 4, 'B': 3, 'C': 2, 'D': 1, 'N': 0}\n",
    "\n",
    "df.replace(dic_conclusao, inplace=True)\n",
    "\n",
    "print(f\"{df['TP_ANO_CONCLUIU'].unique()} {df[['TP_ANO_CONCLUIU']].info()}\")"
   ]
  },
  {
   "cell_type": "markdown",
   "id": "2c0f95d4-a715-4ab4-bf03-8efb0d870d1e",
   "metadata": {},
   "source": [
    "## Verificando tipo de dados"
   ]
  },
  {
   "cell_type": "code",
   "execution_count": 14,
   "id": "6b3bc9fe-7f89-4b77-b66c-89082b36ffc4",
   "metadata": {},
   "outputs": [
    {
     "name": "stdout",
     "output_type": "stream",
     "text": [
      "<class 'pandas.core.frame.DataFrame'>\n",
      "Int64Index: 995432 entries, 0 to 999999\n",
      "Data columns (total 15 columns):\n",
      " #   Column           Non-Null Count   Dtype  \n",
      "---  ------           --------------   -----  \n",
      " 0   NU_IDADE         995432 non-null  int32  \n",
      " 1   TP_ESTADO_CIVIL  995432 non-null  float64\n",
      " 2   TP_SEXO          995432 non-null  int32  \n",
      " 3   TP_COR_RACA      995432 non-null  int64  \n",
      " 4   TP_ANO_CONCLUIU  995432 non-null  int64  \n",
      " 5   Q002             995432 non-null  int32  \n",
      " 6   Q006             995432 non-null  int32  \n",
      " 7   Q025             995432 non-null  int32  \n",
      " 8   Q047             995432 non-null  int32  \n",
      " 9   NU_NOTA_MT       995432 non-null  float64\n",
      " 10  NU_NOTA_LC       995432 non-null  float64\n",
      " 11  NU_NOTA_CH       995432 non-null  float64\n",
      " 12  NU_NOTA_CN       995432 non-null  float64\n",
      " 13  NU_NOTA_REDACAO  995432 non-null  float64\n",
      " 14  NU_NOTA_MEDIA    995432 non-null  float64\n",
      "dtypes: float64(7), int32(6), int64(2)\n",
      "memory usage: 98.7 MB\n"
     ]
    }
   ],
   "source": [
    "df.info()"
   ]
  },
  {
   "cell_type": "markdown",
   "id": "24b88f98-4fa9-4f8c-b3f5-6be7d08753e7",
   "metadata": {},
   "source": [
    "## Estado Civil"
   ]
  },
  {
   "cell_type": "code",
   "execution_count": 15,
   "id": "53f12183-607b-4acd-bb35-973ddb1f4169",
   "metadata": {},
   "outputs": [
    {
     "name": "stdout",
     "output_type": "stream",
     "text": [
      "<class 'pandas.core.frame.DataFrame'>\n",
      "Int64Index: 995432 entries, 0 to 999999\n",
      "Data columns (total 1 columns):\n",
      " #   Column           Non-Null Count   Dtype\n",
      "---  ------           --------------   -----\n",
      " 0   TP_ESTADO_CIVIL  995432 non-null  int32\n",
      "dtypes: int32(1)\n",
      "memory usage: 11.4 MB\n",
      "[0 1 2 3] None\n"
     ]
    }
   ],
   "source": [
    "df['TP_ESTADO_CIVIL'] = df['TP_ESTADO_CIVIL'].astype(int)\n",
    "\n",
    "print(f\"{df['TP_ESTADO_CIVIL'].unique()} {df[['TP_ESTADO_CIVIL']].info()}\")"
   ]
  },
  {
   "cell_type": "markdown",
   "id": "1aa90485-e353-432c-bcd7-d887c641d702",
   "metadata": {},
   "source": [
    "# Analisando as correlações\n",
    "\n",
    "- Podemos ver que o atributo Q006, Q007, Q025, Q047"
   ]
  },
  {
   "cell_type": "code",
   "execution_count": 16,
   "id": "535ec103-9a8c-49ac-8881-8db3f0008e61",
   "metadata": {},
   "outputs": [
    {
     "data": {
      "image/png": "[encoded data removed]",
      "text/plain": [
       "<Figure size 1296x576 with 2 Axes>"
      ]
     },
     "metadata": {
      "needs_background": "light"
     },
     "output_type": "display_data"
    }
   ],
   "source": [
    "plt.figure(figsize = (18,8))\n",
    "sns.heatmap(df.corr(), vmin = -1, vmax = +1, annot = True, cmap=\"YlGnBu\") \n",
    "plt.show() "
   ]
  },
  {
   "cell_type": "markdown",
   "id": "af46e21c-c119-4793-a6b5-3ee18a3cb821",
   "metadata": {},
   "source": [
    "# Regressão Linear Múltipla e Validação Cruzada"
   ]
  },
  {
   "cell_type": "code",
   "execution_count": 17,
   "id": "a563e4a0-a8b6-411b-b05c-4cbc0ca03627",
   "metadata": {},
   "outputs": [],
   "source": [
    "def validation(col, subset = None):\n",
    "    lista = [    \n",
    "        'NU_NOTA_MT',\n",
    "        'NU_NOTA_LC',\n",
    "        'NU_NOTA_CH',\n",
    "        'NU_NOTA_CN',\n",
    "        'NU_NOTA_REDACAO',\n",
    "        'NU_NOTA_MEDIA'\n",
    "    ]\n",
    "    \n",
    "    if subset is None:\n",
    "        X = df.drop(columns=lista)\n",
    "        y = df[col]\n",
    "    else:\n",
    "        X = subset.drop(columns=lista)\n",
    "        y = subset[col]\n",
    "\n",
    "\n",
    "     \n",
    "    lm = LinearRegression()\n",
    "    scores = cross_val_score(lm, X,y, scoring='r2', cv=10)\n",
    "    r2 = scores.mean()\n",
    "    \n",
    "    scores = cross_val_score(lm, X,y, scoring='neg_mean_absolute_error', cv=10)\n",
    "    mae = scores.mean()\n",
    "    \n",
    "    scores = cross_val_score(lm, X,y, scoring='neg_mean_squared_error', cv=10)\n",
    "    mse = scores.mean()\n",
    "\n",
    "    print(f\"r2: {r2:.2f} | mae: {mae:.2f} | mse: {mse:.2f}\")"
   ]
  },
  {
   "cell_type": "code",
   "execution_count": 18,
   "id": "c2dea441-58ad-47a5-8566-18f46c205722",
   "metadata": {},
   "outputs": [],
   "source": [
    "subset =  df[[\n",
    "                'Q006', 'Q025', 'Q047',\n",
    "                'NU_NOTA_MEDIA',\n",
    "                'NU_NOTA_MT',\n",
    "                'NU_NOTA_LC',\n",
    "                'NU_NOTA_CH',\n",
    "                'NU_NOTA_CN',\n",
    "                'NU_NOTA_REDACAO'\n",
    "             ]]"
   ]
  },
  {
   "cell_type": "markdown",
   "id": "49b02771-0055-400a-a49f-b283ed1b4266",
   "metadata": {},
   "source": [
    "## Prever a Nota de Matemática"
   ]
  },
  {
   "cell_type": "code",
   "execution_count": 46,
   "id": "ba746ca3-5864-44db-b28e-adde41b28258",
   "metadata": {},
   "outputs": [
    {
     "name": "stdout",
     "output_type": "stream",
     "text": [
      "r2: 0.24 | mae: -71.31 | mse: -8156.24\n",
      "r2: 0.20 | mae: -73.20 | mse: -8579.93\n"
     ]
    }
   ],
   "source": [
    "validation('NU_NOTA_MT')\n",
    "validation('NU_NOTA_MT', subset)"
   ]
  },
  {
   "cell_type": "markdown",
   "id": "a94b0e64-a60f-4ddf-a4d1-19a5311a1dfd",
   "metadata": {},
   "source": [
    "## Prever a Nota de Linguagens e Códigos"
   ]
  },
  {
   "cell_type": "code",
   "execution_count": 19,
   "id": "f2cc5b12-1f46-47a3-a336-4a60b53f5d4f",
   "metadata": {},
   "outputs": [
    {
     "name": "stdout",
     "output_type": "stream",
     "text": [
      "r2: 0.17 | mae: -49.76 | mse: -3903.22\n",
      "r2: 0.16 | mae: -50.26 | mse: -3972.84\n"
     ]
    }
   ],
   "source": [
    "validation('NU_NOTA_LC')\n",
    "validation('NU_NOTA_LC', subset)"
   ]
  },
  {
   "cell_type": "markdown",
   "id": "453d5f9a-032f-4b4f-b036-522f81d85425",
   "metadata": {},
   "source": [
    "## Prever a Nota de Ciências Humanas"
   ]
  },
  {
   "cell_type": "code",
   "execution_count": 20,
   "id": "4cc5683b-0f70-4ca5-b700-f99acb6f90d0",
   "metadata": {},
   "outputs": [
    {
     "name": "stdout",
     "output_type": "stream",
     "text": [
      "r2: 0.20 | mae: -52.84 | mse: -4411.94\n",
      "r2: 0.18 | mae: -53.56 | mse: -4520.76\n"
     ]
    }
   ],
   "source": [
    "validation('NU_NOTA_CH')\n",
    "validation('NU_NOTA_CH', subset)"
   ]
  },
  {
   "cell_type": "markdown",
   "id": "c1b981cc-6c0f-4d52-b7e7-74ef6104c68b",
   "metadata": {},
   "source": [
    "## Prever a Nota de Ciências da Natureza"
   ]
  },
  {
   "cell_type": "code",
   "execution_count": 21,
   "id": "a1371cf2-2b85-44ed-912c-d3390f832c47",
   "metadata": {},
   "outputs": [
    {
     "name": "stdout",
     "output_type": "stream",
     "text": [
      "r2: 0.25 | mae: -50.61 | mse: -4005.50\n",
      "r2: 0.22 | mae: -51.50 | mse: -4141.82\n"
     ]
    }
   ],
   "source": [
    "validation('NU_NOTA_CN')\n",
    "validation('NU_NOTA_CN', subset)"
   ]
  },
  {
   "cell_type": "markdown",
   "id": "f52c5306-9e6d-42c8-882e-ce302f19785e",
   "metadata": {},
   "source": [
    "## Prever a Nota da Redação"
   ]
  },
  {
   "cell_type": "code",
   "execution_count": 22,
   "id": "cf0d0a27-2e14-4744-9783-46b75ec4b8c0",
   "metadata": {},
   "outputs": [
    {
     "name": "stdout",
     "output_type": "stream",
     "text": [
      "r2: 0.17 | mae: -102.49 | mse: -19515.30\n",
      "r2: 0.14 | mae: -104.47 | mse: -20366.35\n"
     ]
    }
   ],
   "source": [
    "validation('NU_NOTA_REDACAO')\n",
    "validation('NU_NOTA_REDACAO', subset)"
   ]
  },
  {
   "cell_type": "markdown",
   "id": "b8843904-cfd4-45c9-aa81-9766507444d8",
   "metadata": {},
   "source": [
    "## Prever a Nota Média"
   ]
  },
  {
   "cell_type": "code",
   "execution_count": 23,
   "id": "cf80482f-3098-42e7-8170-6920ca292b4f",
   "metadata": {},
   "outputs": [
    {
     "name": "stdout",
     "output_type": "stream",
     "text": [
      "r2: 0.30 | mae: -48.77 | mse: -3900.58\n",
      "r2: 0.27 | mae: -49.66 | mse: -4046.84\n"
     ]
    }
   ],
   "source": [
    "validation('NU_NOTA_MEDIA')\n",
    "validation('NU_NOTA_MEDIA', subset)"
   ]
  },
  {
   "cell_type": "code",
   "execution_count": null,
   "id": "73545915-ff60-4801-aaea-8f6c40bb823e",
   "metadata": {},
   "outputs": [],
   "source": []
  }
 ],
 "metadata": {
  "kernelspec": {
   "display_name": "Python 3",
   "language": "python",
   "name": "python3"
  },
  "language_info": {
   "codemirror_mode": {
    "name": "ipython",
    "version": 3
   },
   "file_extension": ".py",
   "mimetype": "text/x-python",
   "name": "python",
   "nbconvert_exporter": "python",
   "pygments_lexer": "ipython3",
   "version": "3.8.8"
  }
 },
 "nbformat": 4,
 "nbformat_minor": 5
}
