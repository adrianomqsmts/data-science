{
 "cells": [
  {
   "cell_type": "code",
   "execution_count": 1,
   "id": "e297876b-2ba6-45d6-b088-684b65eae369",
   "metadata": {},
   "outputs": [
    {
     "name": "stdout",
     "output_type": "stream",
     "text": [
      "ref                                            deadline             category            reward  teamCount  userHasEntered  \n",
      "---------------------------------------------  -------------------  ---------------  ---------  ---------  --------------  \n",
      "contradictory-my-dear-watson                   2030-07-01 23:59:00  Getting Started     Prizes         64           False  \n",
      "gan-getting-started                            2030-07-01 23:59:00  Getting Started     Prizes         76           False  \n",
      "store-sales-time-series-forecasting            2030-06-30 23:59:00  Getting Started  Knowledge        531           False  \n",
      "tpu-getting-started                            2030-06-03 23:59:00  Getting Started  Knowledge        143           False  \n",
      "digit-recognizer                               2030-01-01 00:00:00  Getting Started  Knowledge       1467           False  \n",
      "titanic                                        2030-01-01 00:00:00  Getting Started  Knowledge      14658            True  \n",
      "house-prices-advanced-regression-techniques    2030-01-01 00:00:00  Getting Started  Knowledge       4386           False  \n",
      "connectx                                       2030-01-01 00:00:00  Getting Started  Knowledge        258           False  \n",
      "nlp-getting-started                            2030-01-01 00:00:00  Getting Started  Knowledge       1325           False  \n",
      "competitive-data-science-predict-future-sales  2022-12-31 23:59:00  Playground           Kudos      12913           False  \n",
      "g-research-crypto-forecasting                  2022-02-01 23:59:00  Featured          $125,000        331           False  \n",
      "petfinder-pawpularity-score                    2022-01-13 23:59:00  Research           $25,000       1771           False  \n",
      "optiver-realized-volatility-prediction         2022-01-10 23:59:00  Featured          $100,000       3852           False  \n",
      "nfl-big-data-bowl-2022                         2022-01-06 23:59:00  Analytics         $100,000          0           False  \n",
      "sartorius-cell-instance-segmentation           2021-12-30 23:59:00  Featured           $75,000        585           False  \n",
      "wikipedia-image-caption                        2021-12-09 11:59:00  Playground            Swag         73           False  \n",
      "lux-ai-2021                                    2021-12-06 23:59:00  Featured           $10,000        960           False  \n",
      "tabular-playground-series-nov-2021             2021-11-30 23:59:00  Playground            Swag        522           False  \n",
      "kaggle-survey-2021                             2021-11-28 23:59:00  Analytics          $30,000          0           False  \n",
      "chaii-hindi-and-tamil-question-answering       2021-11-15 23:59:00  Research           $10,000        855           False  \n"
     ]
    }
   ],
   "source": [
    "!kaggle competitions list"
   ]
  },
  {
   "cell_type": "markdown",
   "id": "17647594-164c-4802-899d-719fcb8cf400",
   "metadata": {},
   "source": [
    "```shell\n",
    "kaggle competitions submit -c [COMPETITION] -f [FILE] -m [MESSAGE]\n",
    "```"
   ]
  },
  {
   "cell_type": "code",
   "execution_count": 3,
   "id": "29ceb5b9-aaa9-49ca-b0ac-04b68fe62f95",
   "metadata": {},
   "outputs": [
    {
     "name": "stdout",
     "output_type": "stream",
     "text": [
      "Successfully submitted to Titanic - Machine Learning from Disaster\n"
     ]
    },
    {
     "name": "stderr",
     "output_type": "stream",
     "text": [
      "\n",
      "  0%|          | 0.00/3.18k [00:00<?, ?B/s]\n",
      "100%|##########| 3.18k/3.18k [00:00<00:00, 18.8kB/s]\n",
      "100%|##########| 3.18k/3.18k [00:03<00:00, 1.00kB/s]\n"
     ]
    }
   ],
   "source": [
    "!kaggle competitions submit -c titanic -f titanic_submission.csv -m \"Titanic 07-11 (2)\""
   ]
  }
 ],
 "metadata": {
  "kernelspec": {
   "display_name": "Python 3",
   "language": "python",
   "name": "python3"
  },
  "language_info": {
   "codemirror_mode": {
    "name": "ipython",
    "version": 3
   },
   "file_extension": ".py",
   "mimetype": "text/x-python",
   "name": "python",
   "nbconvert_exporter": "python",
   "pygments_lexer": "ipython3",
   "version": "3.8.8"
  }
 },
 "nbformat": 4,
 "nbformat_minor": 5
}
