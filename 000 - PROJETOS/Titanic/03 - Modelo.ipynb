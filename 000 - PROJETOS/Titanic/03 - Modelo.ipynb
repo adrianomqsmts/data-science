{
 "cells": [
  {
   "cell_type": "markdown",
   "id": "833528e5-25c0-4aec-8e16-e650e71f5d98",
   "metadata": {},
   "source": [
    "# Bibliotecas"
   ]
  },
  {
   "cell_type": "code",
   "execution_count": 15,
   "id": "09503b95-ba0c-489c-87c5-5d9455f00fc4",
   "metadata": {},
   "outputs": [],
   "source": [
    "import pandas as pd\n",
    "import numpy as np\n",
    "import seaborn as sns\n",
    "\n",
    "from sklearn import svm\n",
    "from sklearn.metrics import accuracy_score\n",
    "from sklearn.ensemble import AdaBoostClassifier\n",
    "from sklearn.ensemble import RandomForestClassifier\n",
    "from sklearn.model_selection import train_test_split\n",
    "from sklearn.model_selection import cross_val_score\n",
    "from sklearn.tree import DecisionTreeClassifier\n",
    "from sklearn.model_selection import GridSearchCV, RepeatedStratifiedKFold\n",
    "from sklearn.decomposition import PCA\n",
    "\n",
    "import warnings\n",
    "warnings.filterwarnings('ignore')"
   ]
  },
  {
   "cell_type": "markdown",
   "id": "f0f659f8-0b61-4307-8e94-cf786e5d0fef",
   "metadata": {},
   "source": [
    "# Carregando Dados"
   ]
  },
  {
   "cell_type": "code",
   "execution_count": 16,
   "id": "958e0187-818c-4362-8aeb-ec7477ec8d60",
   "metadata": {},
   "outputs": [],
   "source": [
    "train = pd.read_csv(\"train_.csv\")\n",
    "test = pd.read_csv(\"test_.csv\", index_col = \"PassengerId\")"
   ]
  },
  {
   "cell_type": "markdown",
   "id": "761e0d13-5bf7-4474-8c05-9640fbbeac0e",
   "metadata": {},
   "source": [
    "# Dados para Teste"
   ]
  },
  {
   "cell_type": "code",
   "execution_count": 17,
   "id": "6f9020be-04a4-4f10-a1be-253086161014",
   "metadata": {},
   "outputs": [],
   "source": [
    "X = train.drop(columns='Survived')\n",
    "y = train['Survived']\n",
    "\n",
    "x_train, x_test, y_train, y_test = train_test_split(X, y, test_size=0.2, random_state=0)"
   ]
  },
  {
   "cell_type": "markdown",
   "id": "d175d76d-316f-4297-9d42-db6eba622347",
   "metadata": {},
   "source": [
    "# Redução da Dimensionalidade"
   ]
  },
  {
   "cell_type": "code",
   "execution_count": 4,
   "id": "9cf21eca-9c9a-4a2d-ad7b-e1c53317751d",
   "metadata": {},
   "outputs": [
    {
     "data": {
      "text/html": [
       "<div>\n",
       "<style scoped>\n",
       "    .dataframe tbody tr th:only-of-type {\n",
       "        vertical-align: middle;\n",
       "    }\n",
       "\n",
       "    .dataframe tbody tr th {\n",
       "        vertical-align: top;\n",
       "    }\n",
       "\n",
       "    .dataframe thead th {\n",
       "        text-align: right;\n",
       "    }\n",
       "</style>\n",
       "<table border=\"1\" class=\"dataframe\">\n",
       "  <thead>\n",
       "    <tr style=\"text-align: right;\">\n",
       "      <th></th>\n",
       "      <th>PC1</th>\n",
       "      <th>PC2</th>\n",
       "      <th>PC3</th>\n",
       "      <th>PC4</th>\n",
       "      <th>PC5</th>\n",
       "      <th>PC6</th>\n",
       "      <th>PC7</th>\n",
       "      <th>PC8</th>\n",
       "      <th>PC9</th>\n",
       "    </tr>\n",
       "  </thead>\n",
       "  <tbody>\n",
       "    <tr>\n",
       "      <th>0</th>\n",
       "      <td>-1.658006</td>\n",
       "      <td>-0.356001</td>\n",
       "      <td>0.932271</td>\n",
       "      <td>-0.605956</td>\n",
       "      <td>0.607121</td>\n",
       "      <td>0.006229</td>\n",
       "      <td>-0.156715</td>\n",
       "      <td>0.194580</td>\n",
       "      <td>0.007161</td>\n",
       "    </tr>\n",
       "    <tr>\n",
       "      <th>1</th>\n",
       "      <td>4.431294</td>\n",
       "      <td>0.073414</td>\n",
       "      <td>0.327184</td>\n",
       "      <td>-0.308570</td>\n",
       "      <td>-0.763854</td>\n",
       "      <td>0.190310</td>\n",
       "      <td>-0.488516</td>\n",
       "      <td>-0.303519</td>\n",
       "      <td>0.106193</td>\n",
       "    </tr>\n",
       "    <tr>\n",
       "      <th>2</th>\n",
       "      <td>-1.321492</td>\n",
       "      <td>-0.344413</td>\n",
       "      <td>-0.013678</td>\n",
       "      <td>0.349542</td>\n",
       "      <td>-0.104447</td>\n",
       "      <td>-1.032334</td>\n",
       "      <td>-0.096123</td>\n",
       "      <td>-0.488583</td>\n",
       "      <td>-0.146149</td>\n",
       "    </tr>\n",
       "    <tr>\n",
       "      <th>3</th>\n",
       "      <td>4.428134</td>\n",
       "      <td>0.129075</td>\n",
       "      <td>0.050717</td>\n",
       "      <td>-0.615282</td>\n",
       "      <td>-0.010856</td>\n",
       "      <td>-0.312409</td>\n",
       "      <td>-0.531103</td>\n",
       "      <td>-0.368648</td>\n",
       "      <td>0.081750</td>\n",
       "    </tr>\n",
       "    <tr>\n",
       "      <th>4</th>\n",
       "      <td>-1.349829</td>\n",
       "      <td>-0.604694</td>\n",
       "      <td>-0.169041</td>\n",
       "      <td>-0.261738</td>\n",
       "      <td>0.361846</td>\n",
       "      <td>0.038905</td>\n",
       "      <td>0.261775</td>\n",
       "      <td>-0.329395</td>\n",
       "      <td>-0.022713</td>\n",
       "    </tr>\n",
       "  </tbody>\n",
       "</table>\n",
       "</div>"
      ],
      "text/plain": [
       "        PC1       PC2       PC3       PC4       PC5       PC6       PC7  \\\n",
       "0 -1.658006 -0.356001  0.932271 -0.605956  0.607121  0.006229 -0.156715   \n",
       "1  4.431294  0.073414  0.327184 -0.308570 -0.763854  0.190310 -0.488516   \n",
       "2 -1.321492 -0.344413 -0.013678  0.349542 -0.104447 -1.032334 -0.096123   \n",
       "3  4.428134  0.129075  0.050717 -0.615282 -0.010856 -0.312409 -0.531103   \n",
       "4 -1.349829 -0.604694 -0.169041 -0.261738  0.361846  0.038905  0.261775   \n",
       "\n",
       "        PC8       PC9  \n",
       "0  0.194580  0.007161  \n",
       "1 -0.303519  0.106193  \n",
       "2 -0.488583 -0.146149  \n",
       "3 -0.368648  0.081750  \n",
       "4 -0.329395 -0.022713  "
      ]
     },
     "execution_count": 4,
     "metadata": {},
     "output_type": "execute_result"
    }
   ],
   "source": [
    "pca = PCA()\n",
    "x_pca = pca.fit(X).transform(X)\n",
    "x_pca = pd.DataFrame(x_pca)\n",
    "x_pca.columns = ['PC1', 'PC2', 'PC3', 'PC4', 'PC5', 'PC6', 'PC7', 'PC8', 'PC9']\n",
    "x_pca.head()"
   ]
  },
  {
   "cell_type": "code",
   "execution_count": 5,
   "id": "7aca7571-e6c0-46fd-9b83-395f83aa647d",
   "metadata": {},
   "outputs": [
    {
     "name": "stdout",
     "output_type": "stream",
     "text": [
      "[0.56365914 0.20119242 0.06777248 0.05330522 0.04526092 0.0312647\n",
      " 0.01747836 0.01648747 0.00357929]\n"
     ]
    },
    {
     "data": {
      "text/plain": [
       "<AxesSubplot:>"
      ]
     },
     "execution_count": 5,
     "metadata": {},
     "output_type": "execute_result"
    },
    {
     "data": {
      "image/png": "[encoded data removed]",
      "text/plain": [
       "<Figure size 432x288 with 1 Axes>"
      ]
     },
     "metadata": {
      "needs_background": "light"
     },
     "output_type": "display_data"
    }
   ],
   "source": [
    "explained_variance = pca.explained_variance_ratio_\n",
    "print(explained_variance)\n",
    "sns.lineplot(data = explained_variance)"
   ]
  },
  {
   "cell_type": "markdown",
   "id": "79d566e7-fc3f-494b-a96c-d99972490c7e",
   "metadata": {},
   "source": [
    "- Podemos notar que as 3 primeiras variáveis podem explicar aproximadamente 82% dos dados"
   ]
  },
  {
   "cell_type": "code",
   "execution_count": 6,
   "id": "a023461b-a794-4e72-bde3-2ab4e2aa1039",
   "metadata": {},
   "outputs": [
    {
     "data": {
      "text/html": [
       "<div>\n",
       "<style scoped>\n",
       "    .dataframe tbody tr th:only-of-type {\n",
       "        vertical-align: middle;\n",
       "    }\n",
       "\n",
       "    .dataframe tbody tr th {\n",
       "        vertical-align: top;\n",
       "    }\n",
       "\n",
       "    .dataframe thead th {\n",
       "        text-align: right;\n",
       "    }\n",
       "</style>\n",
       "<table border=\"1\" class=\"dataframe\">\n",
       "  <thead>\n",
       "    <tr style=\"text-align: right;\">\n",
       "      <th></th>\n",
       "      <th>PC1</th>\n",
       "      <th>PC2</th>\n",
       "      <th>PC3</th>\n",
       "      <th>PC4</th>\n",
       "    </tr>\n",
       "  </thead>\n",
       "  <tbody>\n",
       "    <tr>\n",
       "      <th>0</th>\n",
       "      <td>-1.658006</td>\n",
       "      <td>-0.356001</td>\n",
       "      <td>0.932271</td>\n",
       "      <td>-0.605956</td>\n",
       "    </tr>\n",
       "    <tr>\n",
       "      <th>1</th>\n",
       "      <td>4.431294</td>\n",
       "      <td>0.073414</td>\n",
       "      <td>0.327184</td>\n",
       "      <td>-0.308570</td>\n",
       "    </tr>\n",
       "    <tr>\n",
       "      <th>2</th>\n",
       "      <td>-1.321492</td>\n",
       "      <td>-0.344413</td>\n",
       "      <td>-0.013678</td>\n",
       "      <td>0.349542</td>\n",
       "    </tr>\n",
       "    <tr>\n",
       "      <th>3</th>\n",
       "      <td>4.428134</td>\n",
       "      <td>0.129075</td>\n",
       "      <td>0.050717</td>\n",
       "      <td>-0.615282</td>\n",
       "    </tr>\n",
       "    <tr>\n",
       "      <th>4</th>\n",
       "      <td>-1.349829</td>\n",
       "      <td>-0.604694</td>\n",
       "      <td>-0.169041</td>\n",
       "      <td>-0.261738</td>\n",
       "    </tr>\n",
       "  </tbody>\n",
       "</table>\n",
       "</div>"
      ],
      "text/plain": [
       "        PC1       PC2       PC3       PC4\n",
       "0 -1.658006 -0.356001  0.932271 -0.605956\n",
       "1  4.431294  0.073414  0.327184 -0.308570\n",
       "2 -1.321492 -0.344413 -0.013678  0.349542\n",
       "3  4.428134  0.129075  0.050717 -0.615282\n",
       "4 -1.349829 -0.604694 -0.169041 -0.261738"
      ]
     },
     "execution_count": 6,
     "metadata": {},
     "output_type": "execute_result"
    }
   ],
   "source": [
    "pca = PCA(n_components=4)\n",
    "x_pca = pca.fit(X).transform(X)\n",
    "x_pca = pd.DataFrame(x_pca)\n",
    "x_pca.columns = ['PC1', 'PC2', 'PC3', 'PC4']\n",
    "x_pca.head()"
   ]
  },
  {
   "cell_type": "markdown",
   "id": "8c0c969b-c144-4f65-a2ec-3bd9b648d7a6",
   "metadata": {},
   "source": [
    "# Escolhendo o melhor modelo"
   ]
  },
  {
   "cell_type": "markdown",
   "id": "77b28573-e6aa-4933-88fa-fdb422162578",
   "metadata": {},
   "source": [
    "## AdaBoost"
   ]
  },
  {
   "cell_type": "code",
   "execution_count": 11,
   "id": "e82ec36f-78de-4565-9877-b27470062f83",
   "metadata": {},
   "outputs": [
    {
     "name": "stdout",
     "output_type": "stream",
     "text": [
      "Fitting 15 folds for each of 18 candidates, totalling 270 fits\n",
      "Melhor: 0.826412 Usando {'base_estimator': RandomForestClassifier(max_depth=3), 'learning_rate': 0.3, 'n_estimators': 50}\n"
     ]
    }
   ],
   "source": [
    "model = AdaBoostClassifier()\n",
    "\n",
    "\n",
    "grid = dict()\n",
    "grid['n_estimators'] = [30, 40, 50]\n",
    "grid['learning_rate'] = [0.1, 0.3, 0.5]\n",
    "grid['base_estimator'] = [None, RandomForestClassifier(max_depth=3)]\n",
    "\n",
    "\n",
    "cv = RepeatedStratifiedKFold(n_splits=5, n_repeats=3, random_state=1)\n",
    "\n",
    "grid_search = GridSearchCV(estimator=model, param_grid=grid, n_jobs=-1, cv=cv, scoring='accuracy', verbose = 2)\n",
    "grid_result = grid_search.fit(X, y)\n",
    "\n",
    "print(\"Melhor: %f Usando %s\" % (grid_result.best_score_, grid_result.best_params_))"
   ]
  },
  {
   "cell_type": "markdown",
   "id": "c73b88ba-905b-4f63-a13a-a301ef6111c1",
   "metadata": {},
   "source": [
    "## SVM"
   ]
  },
  {
   "cell_type": "code",
   "execution_count": 7,
   "id": "d11c7a69-0f7f-4430-95e1-c81672bbdfa5",
   "metadata": {},
   "outputs": [
    {
     "name": "stdout",
     "output_type": "stream",
     "text": [
      "Fitting 9 folds for each of 9 candidates, totalling 81 fits\n",
      "Melhor: 0.826038 Usando {'C': 250, 'gamma': 0.01, 'kernel': 'rbf'}\n"
     ]
    }
   ],
   "source": [
    "model = svm.SVC()\n",
    "\n",
    "\n",
    "grid = dict()\n",
    "grid['kernel'] = ['rbf']\n",
    "grid['gamma'] = [1, 0.1, 0.01]\n",
    "grid['C'] = [1, 100, 250]\n",
    "\n",
    "\n",
    "cv = RepeatedStratifiedKFold(n_splits=3, n_repeats=3, random_state=1)\n",
    "\n",
    "grid_search = GridSearchCV(estimator=model, param_grid=grid, n_jobs=-1, cv=cv, scoring='accuracy', verbose = 3)\n",
    "grid_result = grid_search.fit(X, y)\n",
    "\n",
    "print(\"Melhor: %f Usando %s\" % (grid_result.best_score_, grid_result.best_params_))"
   ]
  },
  {
   "cell_type": "markdown",
   "id": "3c0e3529-01c3-4423-b103-a38964d4b633",
   "metadata": {},
   "source": [
    "# Criando o modelo"
   ]
  },
  {
   "cell_type": "code",
   "execution_count": 18,
   "id": "a5b0a8cb-a6ff-4f9d-bb27-1917c60facbf",
   "metadata": {},
   "outputs": [],
   "source": [
    "classifier = AdaBoostClassifier(\n",
    "    algorithm='SAMME.R',\n",
    "    base_estimator=RandomForestClassifier(max_depth=3),\n",
    "    learning_rate=0.3,\n",
    "    n_estimators=50,\n",
    "    random_state=None\n",
    ")\n",
    "\n",
    "# Treinando\n",
    "classifier.fit(X,y)\n",
    "\n",
    "# Prevendo\n",
    "pred = classifier.predict(test)"
   ]
  },
  {
   "cell_type": "markdown",
   "id": "1119d86a-9b9c-404c-8b59-9fc84451cc5d",
   "metadata": {},
   "source": [
    "- Gerando o arquivo .csv para a submissão no Kaggle. "
   ]
  },
  {
   "cell_type": "code",
   "execution_count": 19,
   "id": "1b254a8e-8a41-4863-9581-5a2bf4556aec",
   "metadata": {},
   "outputs": [],
   "source": [
    "saida = pd.DataFrame({\n",
    "        \"PassengerId\": test.index,\n",
    "        \"Survived\": pred\n",
    "    })\n",
    "\n",
    "saida.to_csv('titanic_submission.csv', index=False)\n",
    "resultado = pd.read_csv('titanic_submission.csv')"
   ]
  },
  {
   "cell_type": "markdown",
   "id": "e7c2e8e9-0855-4563-a126-9f5610faba2f",
   "metadata": {},
   "source": [
    "- Verificando o DataFrame de Saída"
   ]
  },
  {
   "cell_type": "code",
   "execution_count": 20,
   "id": "da35f1c3-bd7d-45b0-91c0-f74b1c96e259",
   "metadata": {},
   "outputs": [
    {
     "data": {
      "text/html": [
       "<div>\n",
       "<style scoped>\n",
       "    .dataframe tbody tr th:only-of-type {\n",
       "        vertical-align: middle;\n",
       "    }\n",
       "\n",
       "    .dataframe tbody tr th {\n",
       "        vertical-align: top;\n",
       "    }\n",
       "\n",
       "    .dataframe thead th {\n",
       "        text-align: right;\n",
       "    }\n",
       "</style>\n",
       "<table border=\"1\" class=\"dataframe\">\n",
       "  <thead>\n",
       "    <tr style=\"text-align: right;\">\n",
       "      <th></th>\n",
       "      <th>PassengerId</th>\n",
       "      <th>Survived</th>\n",
       "    </tr>\n",
       "  </thead>\n",
       "  <tbody>\n",
       "    <tr>\n",
       "      <th>0</th>\n",
       "      <td>892</td>\n",
       "      <td>0</td>\n",
       "    </tr>\n",
       "    <tr>\n",
       "      <th>1</th>\n",
       "      <td>893</td>\n",
       "      <td>1</td>\n",
       "    </tr>\n",
       "    <tr>\n",
       "      <th>2</th>\n",
       "      <td>894</td>\n",
       "      <td>0</td>\n",
       "    </tr>\n",
       "    <tr>\n",
       "      <th>3</th>\n",
       "      <td>895</td>\n",
       "      <td>0</td>\n",
       "    </tr>\n",
       "    <tr>\n",
       "      <th>4</th>\n",
       "      <td>896</td>\n",
       "      <td>0</td>\n",
       "    </tr>\n",
       "    <tr>\n",
       "      <th>...</th>\n",
       "      <td>...</td>\n",
       "      <td>...</td>\n",
       "    </tr>\n",
       "    <tr>\n",
       "      <th>413</th>\n",
       "      <td>1305</td>\n",
       "      <td>0</td>\n",
       "    </tr>\n",
       "    <tr>\n",
       "      <th>414</th>\n",
       "      <td>1306</td>\n",
       "      <td>1</td>\n",
       "    </tr>\n",
       "    <tr>\n",
       "      <th>415</th>\n",
       "      <td>1307</td>\n",
       "      <td>0</td>\n",
       "    </tr>\n",
       "    <tr>\n",
       "      <th>416</th>\n",
       "      <td>1308</td>\n",
       "      <td>0</td>\n",
       "    </tr>\n",
       "    <tr>\n",
       "      <th>417</th>\n",
       "      <td>1309</td>\n",
       "      <td>1</td>\n",
       "    </tr>\n",
       "  </tbody>\n",
       "</table>\n",
       "<p>418 rows × 2 columns</p>\n",
       "</div>"
      ],
      "text/plain": [
       "     PassengerId  Survived\n",
       "0            892         0\n",
       "1            893         1\n",
       "2            894         0\n",
       "3            895         0\n",
       "4            896         0\n",
       "..           ...       ...\n",
       "413         1305         0\n",
       "414         1306         1\n",
       "415         1307         0\n",
       "416         1308         0\n",
       "417         1309         1\n",
       "\n",
       "[418 rows x 2 columns]"
      ]
     },
     "execution_count": 20,
     "metadata": {},
     "output_type": "execute_result"
    }
   ],
   "source": [
    "resultado"
   ]
  }
 ],
 "metadata": {
  "kernelspec": {
   "display_name": "Python 3",
   "language": "python",
   "name": "python3"
  },
  "language_info": {
   "codemirror_mode": {
    "name": "ipython",
    "version": 3
   },
   "file_extension": ".py",
   "mimetype": "text/x-python",
   "name": "python",
   "nbconvert_exporter": "python",
   "pygments_lexer": "ipython3",
   "version": "3.8.8"
  }
 },
 "nbformat": 4,
 "nbformat_minor": 5
}
