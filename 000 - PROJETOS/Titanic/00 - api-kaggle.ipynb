{
 "cells": [
  {
   "cell_type": "markdown",
   "id": "e31ec69e-30c2-4c37-939a-4a329fee674c",
   "metadata": {},
   "source": [
    "# Kaggle-API\n",
    "\n",
    "## Baixar o Kaggle CLI"
   ]
  },
  {
   "cell_type": "code",
   "execution_count": 1,
   "id": "12f9a48f-094c-4581-8752-7216185b9d8a",
   "metadata": {},
   "outputs": [
    {
     "name": "stdout",
     "output_type": "stream",
     "text": [
      "Collecting kaggle\n",
      "  Downloading kaggle-1.5.12.tar.gz (58 kB)\n",
      "Requirement already satisfied: six>=1.10 in c:\\users\\adria\\anaconda3\\lib\\site-packages (from kaggle) (1.15.0)\n",
      "Requirement already satisfied: certifi in c:\\users\\adria\\anaconda3\\lib\\site-packages (from kaggle) (2020.12.5)\n",
      "Requirement already satisfied: python-dateutil in c:\\users\\adria\\anaconda3\\lib\\site-packages (from kaggle) (2.8.1)\n",
      "Requirement already satisfied: requests in c:\\users\\adria\\anaconda3\\lib\\site-packages (from kaggle) (2.25.1)\n",
      "Requirement already satisfied: tqdm in c:\\users\\adria\\anaconda3\\lib\\site-packages (from kaggle) (4.59.0)\n",
      "Collecting python-slugify\n",
      "  Downloading python_slugify-5.0.2-py2.py3-none-any.whl (6.7 kB)\n",
      "Requirement already satisfied: urllib3 in c:\\users\\adria\\anaconda3\\lib\\site-packages (from kaggle) (1.26.4)\n",
      "Collecting text-unidecode>=1.3\n",
      "  Downloading text_unidecode-1.3-py2.py3-none-any.whl (78 kB)\n",
      "Requirement already satisfied: idna<3,>=2.5 in c:\\users\\adria\\anaconda3\\lib\\site-packages (from requests->kaggle) (2.10)\n",
      "Requirement already satisfied: chardet<5,>=3.0.2 in c:\\users\\adria\\anaconda3\\lib\\site-packages (from requests->kaggle) (4.0.0)\n",
      "Building wheels for collected packages: kaggle\n",
      "  Building wheel for kaggle (setup.py): started\n",
      "  Building wheel for kaggle (setup.py): finished with status 'done'\n",
      "  Created wheel for kaggle: filename=kaggle-1.5.12-py3-none-any.whl size=73053 sha256=30eb990199c575b352ce593bbaa7a286771d8abc34477306f29b30beb39013f7\n",
      "  Stored in directory: c:\\users\\adria\\appdata\\local\\pip\\cache\\wheels\\29\\da\\11\\144cc25aebdaeb4931b231e25fd34b394e6a5725cbb2f50106\n",
      "Successfully built kaggle\n",
      "Installing collected packages: text-unidecode, python-slugify, kaggle\n",
      "Successfully installed kaggle-1.5.12 python-slugify-5.0.2 text-unidecode-1.3\n"
     ]
    }
   ],
   "source": [
    "!pip install kaggle"
   ]
  },
  {
   "cell_type": "markdown",
   "id": "f9807f82-09e2-421e-a5a2-13f41553cd49",
   "metadata": {},
   "source": [
    "## Autenticação\n",
    "\n",
    "1. Vá até o site da [kaggle](https://www.kaggle.com/).\n",
    "2. Clique em \"Your profile\" no topo da direita e em seguida selecione \"My Account\".\n",
    "3. Desça a página até a Seção de API e clique em \"Create New API Token\".\n",
    "4. Após o download do arquivo \"kaggle.json\" o salve em uma pasta local dentro do usuário chamada \"./kaggle\"."
   ]
  },
  {
   "cell_type": "code",
   "execution_count": 6,
   "id": "1a650128-b8af-4a26-b5d2-fd9ad34ef50d",
   "metadata": {},
   "outputs": [
    {
     "name": "stdout",
     "output_type": "stream",
     "text": [
      "ref                                            deadline             category            reward  teamCount  userHasEntered  \n",
      "---------------------------------------------  -------------------  ---------------  ---------  ---------  --------------  \n",
      "contradictory-my-dear-watson                   2030-07-01 23:59:00  Getting Started     Prizes         65           False  \n",
      "gan-getting-started                            2030-07-01 23:59:00  Getting Started     Prizes         81           False  \n",
      "store-sales-time-series-forecasting            2030-06-30 23:59:00  Getting Started  Knowledge        520           False  \n",
      "tpu-getting-started                            2030-06-03 23:59:00  Getting Started  Knowledge        150           False  \n",
      "digit-recognizer                               2030-01-01 00:00:00  Getting Started  Knowledge       1458           False  \n",
      "titanic                                        2030-01-01 00:00:00  Getting Started  Knowledge      14789            True  \n",
      "house-prices-advanced-regression-techniques    2030-01-01 00:00:00  Getting Started  Knowledge       4398           False  \n",
      "connectx                                       2030-01-01 00:00:00  Getting Started  Knowledge        261           False  \n",
      "nlp-getting-started                            2030-01-01 00:00:00  Getting Started  Knowledge       1323           False  \n",
      "competitive-data-science-predict-future-sales  2022-12-31 23:59:00  Playground           Kudos      12900           False  \n",
      "g-research-crypto-forecasting                  2022-02-01 23:59:00  Featured          $125,000        275           False  \n",
      "petfinder-pawpularity-score                    2022-01-13 23:59:00  Research           $25,000       1715           False  \n",
      "optiver-realized-volatility-prediction         2022-01-10 23:59:00  Featured          $100,000       3852           False  \n",
      "nfl-big-data-bowl-2022                         2022-01-06 23:59:00  Analytics         $100,000          0           False  \n",
      "sartorius-cell-instance-segmentation           2021-12-30 23:59:00  Featured           $75,000        547           False  \n",
      "wikipedia-image-caption                        2021-12-09 11:59:00  Playground            Swag         72           False  \n",
      "lux-ai-2021                                    2021-12-06 23:59:00  Featured           $10,000        951           False  \n",
      "tabular-playground-series-nov-2021             2021-11-30 23:59:00  Playground            Swag        455           False  \n",
      "kaggle-survey-2021                             2021-11-28 23:59:00  Analytics          $30,000          0           False  \n",
      "chaii-hindi-and-tamil-question-answering       2021-11-15 23:59:00  Research           $10,000        837           False  \n"
     ]
    }
   ],
   "source": [
    "!kaggle competitions list"
   ]
  },
  {
   "cell_type": "markdown",
   "id": "d22405fe-34df-4969-a867-377ccb3f361c",
   "metadata": {},
   "source": [
    "## Titanic Download"
   ]
  },
  {
   "cell_type": "code",
   "execution_count": 7,
   "id": "afa4b4c1-ab36-4c6b-ae04-350ced495c80",
   "metadata": {},
   "outputs": [
    {
     "name": "stdout",
     "output_type": "stream",
     "text": [
      "Downloading titanic.zip to C:\\Users\\Adria\\Documents\\GitHub\\titanic\n",
      "\n"
     ]
    },
    {
     "name": "stderr",
     "output_type": "stream",
     "text": [
      "\n",
      "  0%|          | 0.00/34.1k [00:00<?, ?B/s]\n",
      "100%|##########| 34.1k/34.1k [00:00<00:00, 1.55MB/s]\n"
     ]
    }
   ],
   "source": [
    "!kaggle competitions download -c titanic"
   ]
  }
 ],
 "metadata": {
  "kernelspec": {
   "display_name": "Python 3",
   "language": "python",
   "name": "python3"
  },
  "language_info": {
   "codemirror_mode": {
    "name": "ipython",
    "version": 3
   },
   "file_extension": ".py",
   "mimetype": "text/x-python",
   "name": "python",
   "nbconvert_exporter": "python",
   "pygments_lexer": "ipython3",
   "version": "3.8.8"
  }
 },
 "nbformat": 4,
 "nbformat_minor": 5
}
