{
 "cells": [
  {
   "cell_type": "markdown",
   "id": "a285ff41-5553-427e-97f8-fdbaed74842d",
   "metadata": {},
   "source": [
    "# Dicionário de Variáveis\n",
    "\n",
    "- PassengerID: Número de identificação do passageiro;\n",
    "- Survived: Informa se o passageiro sobreviveu ao naufrágio (0 = não e 1 = sim).\n",
    "- PCclass: Classe do bilhete (1 = 1ª classe; 2 = 2ª classe e 3 = 3ª classe);\n",
    "- Name: Nome do passageiro;\n",
    "- Sex: Sexo do passageiro;\n",
    "- Age: Idade do passageiro;\n",
    "- SibSp: Quantidade de cônjuges e/ou irmãos a bordo;\n",
    "- Parch: Quantidade de pais e filhos a bordo;\n",
    "- Ticket: Número da passagem;\n",
    "- Fare: Preço da passagem;\n",
    "- Cabin: Número da cabine do passageiro;\n",
    "- Embarked: Porto de embarque: (C = Cherbourg; Q = Queenstown; S = Southampton);"
   ]
  },
  {
   "cell_type": "markdown",
   "id": "1186e776-7d7f-4825-8283-af4c663198e9",
   "metadata": {},
   "source": [
    "# Bibliotecas"
   ]
  },
  {
   "cell_type": "code",
   "execution_count": 2,
   "id": "ee1495be-2d90-4c3e-8ebf-40cdf58d0ad9",
   "metadata": {},
   "outputs": [],
   "source": [
    "import pandas as pd\n",
    "import seaborn as sns\n",
    "import numpy as np\n",
    "import matplotlib.pyplot as plt\n",
    "from sklearn.preprocessing import LabelEncoder"
   ]
  },
  {
   "cell_type": "markdown",
   "id": "90196065-1b91-4a41-b867-4721f59edcfc",
   "metadata": {},
   "source": [
    "# Carregando Dados"
   ]
  },
  {
   "cell_type": "code",
   "execution_count": 5,
   "id": "99df7e6d-2421-4d59-8e9c-2519f8fb146a",
   "metadata": {},
   "outputs": [
    {
     "data": {
      "text/html": [
       "<div>\n",
       "<style scoped>\n",
       "    .dataframe tbody tr th:only-of-type {\n",
       "        vertical-align: middle;\n",
       "    }\n",
       "\n",
       "    .dataframe tbody tr th {\n",
       "        vertical-align: top;\n",
       "    }\n",
       "\n",
       "    .dataframe thead th {\n",
       "        text-align: right;\n",
       "    }\n",
       "</style>\n",
       "<table border=\"1\" class=\"dataframe\">\n",
       "  <thead>\n",
       "    <tr style=\"text-align: right;\">\n",
       "      <th></th>\n",
       "      <th>Survived</th>\n",
       "      <th>Pclass</th>\n",
       "      <th>Name</th>\n",
       "      <th>Sex</th>\n",
       "      <th>Age</th>\n",
       "      <th>SibSp</th>\n",
       "      <th>Parch</th>\n",
       "      <th>Ticket</th>\n",
       "      <th>Fare</th>\n",
       "      <th>Cabin</th>\n",
       "      <th>Embarked</th>\n",
       "    </tr>\n",
       "    <tr>\n",
       "      <th>PassengerId</th>\n",
       "      <th></th>\n",
       "      <th></th>\n",
       "      <th></th>\n",
       "      <th></th>\n",
       "      <th></th>\n",
       "      <th></th>\n",
       "      <th></th>\n",
       "      <th></th>\n",
       "      <th></th>\n",
       "      <th></th>\n",
       "      <th></th>\n",
       "    </tr>\n",
       "  </thead>\n",
       "  <tbody>\n",
       "    <tr>\n",
       "      <th>1</th>\n",
       "      <td>0</td>\n",
       "      <td>3</td>\n",
       "      <td>Braund, Mr. Owen Harris</td>\n",
       "      <td>male</td>\n",
       "      <td>22.0</td>\n",
       "      <td>1</td>\n",
       "      <td>0</td>\n",
       "      <td>A/5 21171</td>\n",
       "      <td>7.2500</td>\n",
       "      <td>NaN</td>\n",
       "      <td>S</td>\n",
       "    </tr>\n",
       "    <tr>\n",
       "      <th>2</th>\n",
       "      <td>1</td>\n",
       "      <td>1</td>\n",
       "      <td>Cumings, Mrs. John Bradley (Florence Briggs Th...</td>\n",
       "      <td>female</td>\n",
       "      <td>38.0</td>\n",
       "      <td>1</td>\n",
       "      <td>0</td>\n",
       "      <td>PC 17599</td>\n",
       "      <td>71.2833</td>\n",
       "      <td>C85</td>\n",
       "      <td>C</td>\n",
       "    </tr>\n",
       "    <tr>\n",
       "      <th>3</th>\n",
       "      <td>1</td>\n",
       "      <td>3</td>\n",
       "      <td>Heikkinen, Miss. Laina</td>\n",
       "      <td>female</td>\n",
       "      <td>26.0</td>\n",
       "      <td>0</td>\n",
       "      <td>0</td>\n",
       "      <td>STON/O2. 3101282</td>\n",
       "      <td>7.9250</td>\n",
       "      <td>NaN</td>\n",
       "      <td>S</td>\n",
       "    </tr>\n",
       "    <tr>\n",
       "      <th>4</th>\n",
       "      <td>1</td>\n",
       "      <td>1</td>\n",
       "      <td>Futrelle, Mrs. Jacques Heath (Lily May Peel)</td>\n",
       "      <td>female</td>\n",
       "      <td>35.0</td>\n",
       "      <td>1</td>\n",
       "      <td>0</td>\n",
       "      <td>113803</td>\n",
       "      <td>53.1000</td>\n",
       "      <td>C123</td>\n",
       "      <td>S</td>\n",
       "    </tr>\n",
       "    <tr>\n",
       "      <th>5</th>\n",
       "      <td>0</td>\n",
       "      <td>3</td>\n",
       "      <td>Allen, Mr. William Henry</td>\n",
       "      <td>male</td>\n",
       "      <td>35.0</td>\n",
       "      <td>0</td>\n",
       "      <td>0</td>\n",
       "      <td>373450</td>\n",
       "      <td>8.0500</td>\n",
       "      <td>NaN</td>\n",
       "      <td>S</td>\n",
       "    </tr>\n",
       "  </tbody>\n",
       "</table>\n",
       "</div>"
      ],
      "text/plain": [
       "             Survived  Pclass  \\\n",
       "PassengerId                     \n",
       "1                   0       3   \n",
       "2                   1       1   \n",
       "3                   1       3   \n",
       "4                   1       1   \n",
       "5                   0       3   \n",
       "\n",
       "                                                          Name     Sex   Age  \\\n",
       "PassengerId                                                                    \n",
       "1                                      Braund, Mr. Owen Harris    male  22.0   \n",
       "2            Cumings, Mrs. John Bradley (Florence Briggs Th...  female  38.0   \n",
       "3                                       Heikkinen, Miss. Laina  female  26.0   \n",
       "4                 Futrelle, Mrs. Jacques Heath (Lily May Peel)  female  35.0   \n",
       "5                                     Allen, Mr. William Henry    male  35.0   \n",
       "\n",
       "             SibSp  Parch            Ticket     Fare Cabin Embarked  \n",
       "PassengerId                                                          \n",
       "1                1      0         A/5 21171   7.2500   NaN        S  \n",
       "2                1      0          PC 17599  71.2833   C85        C  \n",
       "3                0      0  STON/O2. 3101282   7.9250   NaN        S  \n",
       "4                1      0            113803  53.1000  C123        S  \n",
       "5                0      0            373450   8.0500   NaN        S  "
      ]
     },
     "execution_count": 5,
     "metadata": {},
     "output_type": "execute_result"
    }
   ],
   "source": [
    "df = pd.read_csv(\"dataset/train.csv\", index_col = \"PassengerId\")\n",
    "df.head()"
   ]
  },
  {
   "cell_type": "markdown",
   "id": "d9bc4e08-4d7e-44b8-95e8-8781716542ff",
   "metadata": {},
   "source": [
    "# Engenharia de Atributos\n",
    "\n",
    "## Sex\n",
    "\n",
    "- Transformando Categórico do tipo String para Int"
   ]
  },
  {
   "cell_type": "code",
   "execution_count": 6,
   "id": "de55cd6b-a1f3-4135-bda9-c1858c27d652",
   "metadata": {},
   "outputs": [
    {
     "data": {
      "image/png": "[encoded data removed]",
      "text/plain": [
       "<Figure size 432x288 with 1 Axes>"
      ]
     },
     "metadata": {
      "needs_background": "light"
     },
     "output_type": "display_data"
    }
   ],
   "source": [
    "df['Sex'] = df['Sex'].map( {'female': 0, 'male': 1} ).astype(int)\n",
    "sns.barplot(x=\"Sex\", y=\"Survived\", data=df)\n",
    "plt.show()"
   ]
  },
  {
   "cell_type": "markdown",
   "id": "e102642d-2def-4c4e-a34b-50cbe17fcb1b",
   "metadata": {},
   "source": [
    "## Cabin\n",
    "\n",
    "- As cabines são compostas por uma letra e números, onde a letra indica o setor da cabine.\n",
    "- Os valores nulos nas cabines podem ser tratatos como um setor distinto"
   ]
  },
  {
   "cell_type": "code",
   "execution_count": 7,
   "id": "27a6a640-acf5-406d-a6eb-94dbc95a2334",
   "metadata": {},
   "outputs": [],
   "source": [
    "def setor(cabine, setores):\n",
    "    for char in setores: \n",
    "        if(str(cabine).find(char) != -1):\n",
    "            return char # Retorna a letra quando encontrada\n",
    "    return 'U' # Não tem Cabine"
   ]
  },
  {
   "cell_type": "code",
   "execution_count": 8,
   "id": "41a772b2-2a11-48ba-92e9-977fb4aeef5d",
   "metadata": {},
   "outputs": [
    {
     "data": {
      "image/png": "[encoded data removed]",
      "text/plain": [
       "<Figure size 432x288 with 1 Axes>"
      ]
     },
     "metadata": {
      "needs_background": "light"
     },
     "output_type": "display_data"
    }
   ],
   "source": [
    "setores = ['A', 'B', 'C', 'D', 'E', 'F', 'G', 'Z']\n",
    "\n",
    "df['Cabin'] = df['Cabin'].map(lambda x: setor(x, setores))\n",
    "le_cabin = LabelEncoder()\n",
    "\n",
    "df['Cabin'] = le_cabin.fit_transform(df['Cabin'])\n",
    "\n",
    "sns.barplot(x=\"Cabin\", y=\"Survived\", data=df)\n",
    "plt.show()"
   ]
  },
  {
   "cell_type": "markdown",
   "id": "3bae2216-6643-4a3b-9fd2-73cdff16b0a5",
   "metadata": {},
   "source": [
    "## Embarked\n",
    "\n",
    "- Todos os valores nulos serão substituídos pela porto mais comum\n",
    "- Os valores são transformados em inteiros"
   ]
  },
  {
   "cell_type": "code",
   "execution_count": 9,
   "id": "bd1eb33a-b135-459b-8b26-915a8b5a60fd",
   "metadata": {},
   "outputs": [
    {
     "data": {
      "text/plain": [
       "<AxesSubplot:xlabel='Embarked', ylabel='Survived'>"
      ]
     },
     "execution_count": 9,
     "metadata": {},
     "output_type": "execute_result"
    },
    {
     "data": {
      "image/png": "[encoded data removed]",
      "text/plain": [
       "<Figure size 432x288 with 1 Axes>"
      ]
     },
     "metadata": {
      "needs_background": "light"
     },
     "output_type": "display_data"
    }
   ],
   "source": [
    "df['Embarked'] = df['Embarked'].fillna('S') # é o mais comum \n",
    "df['Embarked'] = df['Embarked'].map( {'S': 0, 'C': 1, 'Q': 2} ).astype(int)\n",
    "\n",
    "sns.barplot(x=\"Embarked\", y=\"Survived\", data=df)"
   ]
  },
  {
   "cell_type": "markdown",
   "id": "f81ea278-69a7-4ce5-9d91-b47c29ce11a9",
   "metadata": {},
   "source": [
    "## Fare\n",
    "\n",
    "- Categorizar o preço das passagens em 4 valores que foram testados aleatoriamente"
   ]
  },
  {
   "cell_type": "code",
   "execution_count": 10,
   "id": "e7a7fdac-e9f1-4d42-8732-ca0296c9b824",
   "metadata": {},
   "outputs": [
    {
     "data": {
      "image/png": "[encoded data removed]",
      "text/plain": [
       "<Figure size 432x288 with 1 Axes>"
      ]
     },
     "metadata": {
      "needs_background": "light"
     },
     "output_type": "display_data"
    }
   ],
   "source": [
    "ser_fare, bins_fare = pd.qcut(df[\"Fare\"], 4, retbins=True, labels=False)\n",
    "df['Fare'] = pd.cut(df[\"Fare\"], bins=bins_fare, labels=False, include_lowest=True)\n",
    "sns.barplot(x = df['Fare'], y = df['Survived'])\n",
    "plt.show()"
   ]
  },
  {
   "cell_type": "markdown",
   "id": "e4ea2447-50ca-447f-a25f-a72d8d2833b6",
   "metadata": {},
   "source": [
    "## Name\n",
    "\n",
    "- Extrair os pronomes de tratamento\n",
    "- **Criar uma nova coluna** contendo o Pronome de Tratamento\n",
    "- **Remover o Nome**\n",
    "- Senhor: Sir/ Mr / Don / Jonkheer / Dr / Rev .\n",
    "- Senhora casada: Madam/ Mrs / Ms / Mme (em frânces) / Countess (condessa).\n",
    "- Mulher solteira/senhorita/menina: Miss, Mlle (mademoiselle).\n",
    "- Meninos (formalmente): Master\n",
    "- Tripulantes : Major / capt / col"
   ]
  },
  {
   "cell_type": "code",
   "execution_count": 11,
   "id": "f499259f-7cd9-4883-9bf1-b7296c59b01e",
   "metadata": {},
   "outputs": [],
   "source": [
    "def pronomes(x):\n",
    "    if 'Mr' in x:\n",
    "        return 'Mr'\n",
    "    elif 'Don' in x:\n",
    "        return 'Mr'\n",
    "    elif 'Mrs' in x:\n",
    "        return 'Mrs'\n",
    "    elif 'Ms' in x:\n",
    "        return 'Mrs'\n",
    "    elif 'Mme' in x:\n",
    "        return 'Mrs'\n",
    "    elif 'Miss' in x:\n",
    "        return 'Miss'\n",
    "    elif 'Mlle' in x:\n",
    "        return 'Miss'\n",
    "    elif 'Dr' in x:\n",
    "        return 'Mr'\n",
    "    elif 'Rev' in x:\n",
    "        return 'Mr'\n",
    "    elif 'Master' in x:\n",
    "        return 'Master'\n",
    "    elif 'Major' in x:\n",
    "        return 'Sea'\n",
    "    elif 'Capt' in x:\n",
    "        return 'Sea'\n",
    "    elif 'Jonkheer' in x:\n",
    "        return 'Mr'\n",
    "    elif 'Col' in x:\n",
    "        return 'Sea'\n",
    "    elif 'Countess' in x:\n",
    "        return 'Mrs'\n",
    "    else:\n",
    "        return 'None'"
   ]
  },
  {
   "cell_type": "code",
   "execution_count": 12,
   "id": "a878c115-34cb-4276-b4e2-cef2c0702aab",
   "metadata": {},
   "outputs": [
    {
     "data": {
      "image/png": "[encoded data removed]",
      "text/plain": [
       "<Figure size 432x288 with 1 Axes>"
      ]
     },
     "metadata": {
      "needs_background": "light"
     },
     "output_type": "display_data"
    }
   ],
   "source": [
    "df['Name'] = df['Name'].apply(pronomes)\n",
    "\n",
    "le_name = LabelEncoder()\n",
    "\n",
    "df['Name'] = le_name.fit_transform(df['Name'])\n",
    "\n",
    "\n",
    "sns.barplot(x = df['Name'], y = df['Survived'])\n",
    "plt.show()"
   ]
  },
  {
   "cell_type": "markdown",
   "id": "beef2c4d-a1f6-4067-94a6-d69896649bc5",
   "metadata": {},
   "source": [
    "## Age\n",
    "\n",
    "- Categorizar a idade de acordo com a faixa de idade separando em crianças 0 e Outros em 1"
   ]
  },
  {
   "cell_type": "code",
   "execution_count": 13,
   "id": "e792ffb6-59fa-420e-98a6-9f317caa4c40",
   "metadata": {},
   "outputs": [],
   "source": [
    "def age(x):\n",
    "    if(x < 7):\n",
    "        return 0\n",
    "    else:\n",
    "        return 1    "
   ]
  },
  {
   "cell_type": "code",
   "execution_count": 14,
   "id": "7456e7b6-fd78-4e3a-b5d3-31890a08eaa3",
   "metadata": {},
   "outputs": [
    {
     "data": {
      "image/png": "[encoded data removed]",
      "text/plain": [
       "<Figure size 432x288 with 1 Axes>"
      ]
     },
     "metadata": {
      "needs_background": "light"
     },
     "output_type": "display_data"
    }
   ],
   "source": [
    "df['Age'] = df['Age'].apply(age)\n",
    "sns.barplot(x = df['Age'], y = df['Survived'])\n",
    "plt.show()"
   ]
  },
  {
   "cell_type": "markdown",
   "id": "63cb6741-bf52-4336-a702-d4fc8d3156ae",
   "metadata": {},
   "source": [
    "## Ticket\n",
    "\n",
    "- Remover a Coluna Ticket"
   ]
  },
  {
   "cell_type": "code",
   "execution_count": 15,
   "id": "45017b20-5a71-4fd5-8b81-219afa7f326c",
   "metadata": {},
   "outputs": [
    {
     "data": {
      "text/html": [
       "<div>\n",
       "<style scoped>\n",
       "    .dataframe tbody tr th:only-of-type {\n",
       "        vertical-align: middle;\n",
       "    }\n",
       "\n",
       "    .dataframe tbody tr th {\n",
       "        vertical-align: top;\n",
       "    }\n",
       "\n",
       "    .dataframe thead th {\n",
       "        text-align: right;\n",
       "    }\n",
       "</style>\n",
       "<table border=\"1\" class=\"dataframe\">\n",
       "  <thead>\n",
       "    <tr style=\"text-align: right;\">\n",
       "      <th></th>\n",
       "      <th>Survived</th>\n",
       "      <th>Pclass</th>\n",
       "      <th>Name</th>\n",
       "      <th>Sex</th>\n",
       "      <th>Age</th>\n",
       "      <th>SibSp</th>\n",
       "      <th>Parch</th>\n",
       "      <th>Fare</th>\n",
       "      <th>Cabin</th>\n",
       "      <th>Embarked</th>\n",
       "    </tr>\n",
       "    <tr>\n",
       "      <th>PassengerId</th>\n",
       "      <th></th>\n",
       "      <th></th>\n",
       "      <th></th>\n",
       "      <th></th>\n",
       "      <th></th>\n",
       "      <th></th>\n",
       "      <th></th>\n",
       "      <th></th>\n",
       "      <th></th>\n",
       "      <th></th>\n",
       "    </tr>\n",
       "  </thead>\n",
       "  <tbody>\n",
       "    <tr>\n",
       "      <th>1</th>\n",
       "      <td>0</td>\n",
       "      <td>3</td>\n",
       "      <td>2</td>\n",
       "      <td>1</td>\n",
       "      <td>1</td>\n",
       "      <td>1</td>\n",
       "      <td>0</td>\n",
       "      <td>0</td>\n",
       "      <td>7</td>\n",
       "      <td>0</td>\n",
       "    </tr>\n",
       "    <tr>\n",
       "      <th>2</th>\n",
       "      <td>1</td>\n",
       "      <td>1</td>\n",
       "      <td>2</td>\n",
       "      <td>0</td>\n",
       "      <td>1</td>\n",
       "      <td>1</td>\n",
       "      <td>0</td>\n",
       "      <td>3</td>\n",
       "      <td>2</td>\n",
       "      <td>1</td>\n",
       "    </tr>\n",
       "    <tr>\n",
       "      <th>3</th>\n",
       "      <td>1</td>\n",
       "      <td>3</td>\n",
       "      <td>1</td>\n",
       "      <td>0</td>\n",
       "      <td>1</td>\n",
       "      <td>0</td>\n",
       "      <td>0</td>\n",
       "      <td>1</td>\n",
       "      <td>7</td>\n",
       "      <td>0</td>\n",
       "    </tr>\n",
       "    <tr>\n",
       "      <th>4</th>\n",
       "      <td>1</td>\n",
       "      <td>1</td>\n",
       "      <td>2</td>\n",
       "      <td>0</td>\n",
       "      <td>1</td>\n",
       "      <td>1</td>\n",
       "      <td>0</td>\n",
       "      <td>3</td>\n",
       "      <td>2</td>\n",
       "      <td>0</td>\n",
       "    </tr>\n",
       "    <tr>\n",
       "      <th>5</th>\n",
       "      <td>0</td>\n",
       "      <td>3</td>\n",
       "      <td>2</td>\n",
       "      <td>1</td>\n",
       "      <td>1</td>\n",
       "      <td>0</td>\n",
       "      <td>0</td>\n",
       "      <td>1</td>\n",
       "      <td>7</td>\n",
       "      <td>0</td>\n",
       "    </tr>\n",
       "  </tbody>\n",
       "</table>\n",
       "</div>"
      ],
      "text/plain": [
       "             Survived  Pclass  Name  Sex  Age  SibSp  Parch  Fare  Cabin  \\\n",
       "PassengerId                                                                \n",
       "1                   0       3     2    1    1      1      0     0      7   \n",
       "2                   1       1     2    0    1      1      0     3      2   \n",
       "3                   1       3     1    0    1      0      0     1      7   \n",
       "4                   1       1     2    0    1      1      0     3      2   \n",
       "5                   0       3     2    1    1      0      0     1      7   \n",
       "\n",
       "             Embarked  \n",
       "PassengerId            \n",
       "1                   0  \n",
       "2                   1  \n",
       "3                   0  \n",
       "4                   0  \n",
       "5                   0  "
      ]
     },
     "execution_count": 15,
     "metadata": {},
     "output_type": "execute_result"
    }
   ],
   "source": [
    "df = df.drop(columns='Ticket')\n",
    "df.head()"
   ]
  },
  {
   "cell_type": "markdown",
   "id": "50a98fe6-9fd8-42a9-8996-d25682364cd4",
   "metadata": {},
   "source": [
    "## Mapa de Correlação Final"
   ]
  },
  {
   "cell_type": "code",
   "execution_count": 16,
   "id": "2fae48f2-cc02-4de4-bf2b-409a20924c10",
   "metadata": {},
   "outputs": [
    {
     "data": {
      "image/png": "[encoded data removed]",
      "text/plain": [
       "<Figure size 432x288 with 2 Axes>"
      ]
     },
     "metadata": {
      "needs_background": "light"
     },
     "output_type": "display_data"
    }
   ],
   "source": [
    "sns.heatmap(df.corr(), cmap=\"YlGnBu\") \n",
    "plt.show() "
   ]
  },
  {
   "cell_type": "markdown",
   "id": "2f7af15d-a111-49ee-993c-c650bd7b03dc",
   "metadata": {},
   "source": [
    "# Tratamento dos Dados de Teste"
   ]
  },
  {
   "cell_type": "code",
   "execution_count": 32,
   "id": "86f14a50-f080-4dee-979d-1f0828a9d8f5",
   "metadata": {},
   "outputs": [
    {
     "data": {
      "text/html": [
       "<div>\n",
       "<style scoped>\n",
       "    .dataframe tbody tr th:only-of-type {\n",
       "        vertical-align: middle;\n",
       "    }\n",
       "\n",
       "    .dataframe tbody tr th {\n",
       "        vertical-align: top;\n",
       "    }\n",
       "\n",
       "    .dataframe thead th {\n",
       "        text-align: right;\n",
       "    }\n",
       "</style>\n",
       "<table border=\"1\" class=\"dataframe\">\n",
       "  <thead>\n",
       "    <tr style=\"text-align: right;\">\n",
       "      <th></th>\n",
       "      <th>Pclass</th>\n",
       "      <th>Name</th>\n",
       "      <th>Sex</th>\n",
       "      <th>Age</th>\n",
       "      <th>SibSp</th>\n",
       "      <th>Parch</th>\n",
       "      <th>Ticket</th>\n",
       "      <th>Fare</th>\n",
       "      <th>Cabin</th>\n",
       "      <th>Embarked</th>\n",
       "    </tr>\n",
       "    <tr>\n",
       "      <th>PassengerId</th>\n",
       "      <th></th>\n",
       "      <th></th>\n",
       "      <th></th>\n",
       "      <th></th>\n",
       "      <th></th>\n",
       "      <th></th>\n",
       "      <th></th>\n",
       "      <th></th>\n",
       "      <th></th>\n",
       "      <th></th>\n",
       "    </tr>\n",
       "  </thead>\n",
       "  <tbody>\n",
       "    <tr>\n",
       "      <th>892</th>\n",
       "      <td>3</td>\n",
       "      <td>Kelly, Mr. James</td>\n",
       "      <td>male</td>\n",
       "      <td>34.5</td>\n",
       "      <td>0</td>\n",
       "      <td>0</td>\n",
       "      <td>330911</td>\n",
       "      <td>7.8292</td>\n",
       "      <td>NaN</td>\n",
       "      <td>Q</td>\n",
       "    </tr>\n",
       "    <tr>\n",
       "      <th>893</th>\n",
       "      <td>3</td>\n",
       "      <td>Wilkes, Mrs. James (Ellen Needs)</td>\n",
       "      <td>female</td>\n",
       "      <td>47.0</td>\n",
       "      <td>1</td>\n",
       "      <td>0</td>\n",
       "      <td>363272</td>\n",
       "      <td>7.0000</td>\n",
       "      <td>NaN</td>\n",
       "      <td>S</td>\n",
       "    </tr>\n",
       "    <tr>\n",
       "      <th>894</th>\n",
       "      <td>2</td>\n",
       "      <td>Myles, Mr. Thomas Francis</td>\n",
       "      <td>male</td>\n",
       "      <td>62.0</td>\n",
       "      <td>0</td>\n",
       "      <td>0</td>\n",
       "      <td>240276</td>\n",
       "      <td>9.6875</td>\n",
       "      <td>NaN</td>\n",
       "      <td>Q</td>\n",
       "    </tr>\n",
       "    <tr>\n",
       "      <th>895</th>\n",
       "      <td>3</td>\n",
       "      <td>Wirz, Mr. Albert</td>\n",
       "      <td>male</td>\n",
       "      <td>27.0</td>\n",
       "      <td>0</td>\n",
       "      <td>0</td>\n",
       "      <td>315154</td>\n",
       "      <td>8.6625</td>\n",
       "      <td>NaN</td>\n",
       "      <td>S</td>\n",
       "    </tr>\n",
       "    <tr>\n",
       "      <th>896</th>\n",
       "      <td>3</td>\n",
       "      <td>Hirvonen, Mrs. Alexander (Helga E Lindqvist)</td>\n",
       "      <td>female</td>\n",
       "      <td>22.0</td>\n",
       "      <td>1</td>\n",
       "      <td>1</td>\n",
       "      <td>3101298</td>\n",
       "      <td>12.2875</td>\n",
       "      <td>NaN</td>\n",
       "      <td>S</td>\n",
       "    </tr>\n",
       "  </tbody>\n",
       "</table>\n",
       "</div>"
      ],
      "text/plain": [
       "             Pclass                                          Name     Sex  \\\n",
       "PassengerId                                                                 \n",
       "892               3                              Kelly, Mr. James    male   \n",
       "893               3              Wilkes, Mrs. James (Ellen Needs)  female   \n",
       "894               2                     Myles, Mr. Thomas Francis    male   \n",
       "895               3                              Wirz, Mr. Albert    male   \n",
       "896               3  Hirvonen, Mrs. Alexander (Helga E Lindqvist)  female   \n",
       "\n",
       "              Age  SibSp  Parch   Ticket     Fare Cabin Embarked  \n",
       "PassengerId                                                       \n",
       "892          34.5      0      0   330911   7.8292   NaN        Q  \n",
       "893          47.0      1      0   363272   7.0000   NaN        S  \n",
       "894          62.0      0      0   240276   9.6875   NaN        Q  \n",
       "895          27.0      0      0   315154   8.6625   NaN        S  \n",
       "896          22.0      1      1  3101298  12.2875   NaN        S  "
      ]
     },
     "execution_count": 32,
     "metadata": {},
     "output_type": "execute_result"
    }
   ],
   "source": [
    "valid = pd.read_csv(\"dataset/test.csv\", index_col = \"PassengerId\")\n",
    "valid.head()"
   ]
  },
  {
   "cell_type": "code",
   "execution_count": 33,
   "id": "acfd51d8-9d3a-480c-824f-b4d651a29834",
   "metadata": {},
   "outputs": [
    {
     "data": {
      "text/html": [
       "<div>\n",
       "<style scoped>\n",
       "    .dataframe tbody tr th:only-of-type {\n",
       "        vertical-align: middle;\n",
       "    }\n",
       "\n",
       "    .dataframe tbody tr th {\n",
       "        vertical-align: top;\n",
       "    }\n",
       "\n",
       "    .dataframe thead th {\n",
       "        text-align: right;\n",
       "    }\n",
       "</style>\n",
       "<table border=\"1\" class=\"dataframe\">\n",
       "  <thead>\n",
       "    <tr style=\"text-align: right;\">\n",
       "      <th></th>\n",
       "      <th>Pclass</th>\n",
       "      <th>Name</th>\n",
       "      <th>Sex</th>\n",
       "      <th>Age</th>\n",
       "      <th>SibSp</th>\n",
       "      <th>Parch</th>\n",
       "      <th>Fare</th>\n",
       "      <th>Cabin</th>\n",
       "      <th>Embarked</th>\n",
       "    </tr>\n",
       "    <tr>\n",
       "      <th>PassengerId</th>\n",
       "      <th></th>\n",
       "      <th></th>\n",
       "      <th></th>\n",
       "      <th></th>\n",
       "      <th></th>\n",
       "      <th></th>\n",
       "      <th></th>\n",
       "      <th></th>\n",
       "      <th></th>\n",
       "    </tr>\n",
       "  </thead>\n",
       "  <tbody>\n",
       "    <tr>\n",
       "      <th>892</th>\n",
       "      <td>3</td>\n",
       "      <td>2</td>\n",
       "      <td>1</td>\n",
       "      <td>1</td>\n",
       "      <td>0</td>\n",
       "      <td>0</td>\n",
       "      <td>0</td>\n",
       "      <td>7</td>\n",
       "      <td>2</td>\n",
       "    </tr>\n",
       "    <tr>\n",
       "      <th>893</th>\n",
       "      <td>3</td>\n",
       "      <td>2</td>\n",
       "      <td>0</td>\n",
       "      <td>1</td>\n",
       "      <td>1</td>\n",
       "      <td>0</td>\n",
       "      <td>0</td>\n",
       "      <td>7</td>\n",
       "      <td>0</td>\n",
       "    </tr>\n",
       "    <tr>\n",
       "      <th>894</th>\n",
       "      <td>2</td>\n",
       "      <td>2</td>\n",
       "      <td>1</td>\n",
       "      <td>1</td>\n",
       "      <td>0</td>\n",
       "      <td>0</td>\n",
       "      <td>1</td>\n",
       "      <td>7</td>\n",
       "      <td>2</td>\n",
       "    </tr>\n",
       "    <tr>\n",
       "      <th>895</th>\n",
       "      <td>3</td>\n",
       "      <td>2</td>\n",
       "      <td>1</td>\n",
       "      <td>1</td>\n",
       "      <td>0</td>\n",
       "      <td>0</td>\n",
       "      <td>1</td>\n",
       "      <td>7</td>\n",
       "      <td>0</td>\n",
       "    </tr>\n",
       "    <tr>\n",
       "      <th>896</th>\n",
       "      <td>3</td>\n",
       "      <td>2</td>\n",
       "      <td>0</td>\n",
       "      <td>1</td>\n",
       "      <td>1</td>\n",
       "      <td>1</td>\n",
       "      <td>1</td>\n",
       "      <td>7</td>\n",
       "      <td>0</td>\n",
       "    </tr>\n",
       "    <tr>\n",
       "      <th>897</th>\n",
       "      <td>3</td>\n",
       "      <td>2</td>\n",
       "      <td>1</td>\n",
       "      <td>1</td>\n",
       "      <td>0</td>\n",
       "      <td>0</td>\n",
       "      <td>1</td>\n",
       "      <td>7</td>\n",
       "      <td>0</td>\n",
       "    </tr>\n",
       "    <tr>\n",
       "      <th>898</th>\n",
       "      <td>3</td>\n",
       "      <td>1</td>\n",
       "      <td>0</td>\n",
       "      <td>1</td>\n",
       "      <td>0</td>\n",
       "      <td>0</td>\n",
       "      <td>0</td>\n",
       "      <td>7</td>\n",
       "      <td>2</td>\n",
       "    </tr>\n",
       "    <tr>\n",
       "      <th>899</th>\n",
       "      <td>2</td>\n",
       "      <td>2</td>\n",
       "      <td>1</td>\n",
       "      <td>1</td>\n",
       "      <td>1</td>\n",
       "      <td>1</td>\n",
       "      <td>2</td>\n",
       "      <td>7</td>\n",
       "      <td>0</td>\n",
       "    </tr>\n",
       "    <tr>\n",
       "      <th>900</th>\n",
       "      <td>3</td>\n",
       "      <td>2</td>\n",
       "      <td>0</td>\n",
       "      <td>1</td>\n",
       "      <td>0</td>\n",
       "      <td>0</td>\n",
       "      <td>0</td>\n",
       "      <td>7</td>\n",
       "      <td>1</td>\n",
       "    </tr>\n",
       "    <tr>\n",
       "      <th>901</th>\n",
       "      <td>3</td>\n",
       "      <td>2</td>\n",
       "      <td>1</td>\n",
       "      <td>1</td>\n",
       "      <td>2</td>\n",
       "      <td>0</td>\n",
       "      <td>2</td>\n",
       "      <td>7</td>\n",
       "      <td>0</td>\n",
       "    </tr>\n",
       "  </tbody>\n",
       "</table>\n",
       "</div>"
      ],
      "text/plain": [
       "             Pclass  Name  Sex  Age  SibSp  Parch  Fare  Cabin  Embarked\n",
       "PassengerId                                                             \n",
       "892               3     2    1    1      0      0     0      7         2\n",
       "893               3     2    0    1      1      0     0      7         0\n",
       "894               2     2    1    1      0      0     1      7         2\n",
       "895               3     2    1    1      0      0     1      7         0\n",
       "896               3     2    0    1      1      1     1      7         0\n",
       "897               3     2    1    1      0      0     1      7         0\n",
       "898               3     1    0    1      0      0     0      7         2\n",
       "899               2     2    1    1      1      1     2      7         0\n",
       "900               3     2    0    1      0      0     0      7         1\n",
       "901               3     2    1    1      2      0     2      7         0"
      ]
     },
     "execution_count": 33,
     "metadata": {},
     "output_type": "execute_result"
    }
   ],
   "source": [
    "# Sex\n",
    "valid['Sex'] = valid['Sex'].map( {'female': 0, 'male': 1} ).astype(int)\n",
    "\n",
    "# Cabin\n",
    "valid['Cabin'] = valid['Cabin'].map(lambda x: setor(x, setores))\n",
    "valid['Cabin'] = le_cabin.fit_transform(valid['Cabin'])\n",
    "\n",
    "# Embarked\n",
    "valid['Embarked'] = valid['Embarked'].fillna('S') # é o mais comum \n",
    "valid['Embarked'] = valid['Embarked'].map( {'S': 0, 'C': 1, 'Q': 2} ).astype(int)\n",
    "\n",
    "# Fare\n",
    "valid['Fare'] = pd.cut(valid[\"Fare\"], bins=bins_fare, labels=False, include_lowest=True)\n",
    "valid['Fare'] = valid['Fare'].fillna(1)\n",
    "valid['Fare'] = valid['Fare'].astype(int)\n",
    "\n",
    "# Name\n",
    "valid['Name'] = valid['Name'].apply(pronomes)\n",
    "valid['Name'] = le_name.fit_transform(valid['Name'])\n",
    "\n",
    "# Age\n",
    "valid['Age'] = valid['Age'].apply(age)\n",
    "\n",
    "# Ticket\n",
    "valid = valid.drop(columns='Ticket')\n",
    "\n",
    "valid.head(10)"
   ]
  },
  {
   "cell_type": "markdown",
   "id": "8a9d2b34-a9ec-43d4-9d25-93ef56551300",
   "metadata": {},
   "source": [
    "# Salvando Dataframes"
   ]
  },
  {
   "cell_type": "code",
   "execution_count": 34,
   "id": "2ccc1e3c-43b4-41ac-b724-6174ba52a395",
   "metadata": {},
   "outputs": [],
   "source": [
    "df.to_csv('train_.csv', encoding='utf-8', index=False)\n",
    "valid.to_csv('test_.csv', encoding='utf-8', index_label='PassengerId')"
   ]
  },
  {
   "cell_type": "code",
   "execution_count": 35,
   "id": "bc981336-d983-47db-badc-4aacba13ccf2",
   "metadata": {},
   "outputs": [
    {
     "data": {
      "text/html": [
       "<div>\n",
       "<style scoped>\n",
       "    .dataframe tbody tr th:only-of-type {\n",
       "        vertical-align: middle;\n",
       "    }\n",
       "\n",
       "    .dataframe tbody tr th {\n",
       "        vertical-align: top;\n",
       "    }\n",
       "\n",
       "    .dataframe thead th {\n",
       "        text-align: right;\n",
       "    }\n",
       "</style>\n",
       "<table border=\"1\" class=\"dataframe\">\n",
       "  <thead>\n",
       "    <tr style=\"text-align: right;\">\n",
       "      <th></th>\n",
       "      <th>PassengerId</th>\n",
       "      <th>Pclass</th>\n",
       "      <th>Name</th>\n",
       "      <th>Sex</th>\n",
       "      <th>Age</th>\n",
       "      <th>SibSp</th>\n",
       "      <th>Parch</th>\n",
       "      <th>Fare</th>\n",
       "      <th>Cabin</th>\n",
       "      <th>Embarked</th>\n",
       "    </tr>\n",
       "  </thead>\n",
       "  <tbody>\n",
       "    <tr>\n",
       "      <th>0</th>\n",
       "      <td>892</td>\n",
       "      <td>3</td>\n",
       "      <td>2</td>\n",
       "      <td>1</td>\n",
       "      <td>1</td>\n",
       "      <td>0</td>\n",
       "      <td>0</td>\n",
       "      <td>0</td>\n",
       "      <td>7</td>\n",
       "      <td>2</td>\n",
       "    </tr>\n",
       "    <tr>\n",
       "      <th>1</th>\n",
       "      <td>893</td>\n",
       "      <td>3</td>\n",
       "      <td>2</td>\n",
       "      <td>0</td>\n",
       "      <td>1</td>\n",
       "      <td>1</td>\n",
       "      <td>0</td>\n",
       "      <td>0</td>\n",
       "      <td>7</td>\n",
       "      <td>0</td>\n",
       "    </tr>\n",
       "    <tr>\n",
       "      <th>2</th>\n",
       "      <td>894</td>\n",
       "      <td>2</td>\n",
       "      <td>2</td>\n",
       "      <td>1</td>\n",
       "      <td>1</td>\n",
       "      <td>0</td>\n",
       "      <td>0</td>\n",
       "      <td>1</td>\n",
       "      <td>7</td>\n",
       "      <td>2</td>\n",
       "    </tr>\n",
       "    <tr>\n",
       "      <th>3</th>\n",
       "      <td>895</td>\n",
       "      <td>3</td>\n",
       "      <td>2</td>\n",
       "      <td>1</td>\n",
       "      <td>1</td>\n",
       "      <td>0</td>\n",
       "      <td>0</td>\n",
       "      <td>1</td>\n",
       "      <td>7</td>\n",
       "      <td>0</td>\n",
       "    </tr>\n",
       "    <tr>\n",
       "      <th>4</th>\n",
       "      <td>896</td>\n",
       "      <td>3</td>\n",
       "      <td>2</td>\n",
       "      <td>0</td>\n",
       "      <td>1</td>\n",
       "      <td>1</td>\n",
       "      <td>1</td>\n",
       "      <td>1</td>\n",
       "      <td>7</td>\n",
       "      <td>0</td>\n",
       "    </tr>\n",
       "  </tbody>\n",
       "</table>\n",
       "</div>"
      ],
      "text/plain": [
       "   PassengerId  Pclass  Name  Sex  Age  SibSp  Parch  Fare  Cabin  Embarked\n",
       "0          892       3     2    1    1      0      0     0      7         2\n",
       "1          893       3     2    0    1      1      0     0      7         0\n",
       "2          894       2     2    1    1      0      0     1      7         2\n",
       "3          895       3     2    1    1      0      0     1      7         0\n",
       "4          896       3     2    0    1      1      1     1      7         0"
      ]
     },
     "execution_count": 35,
     "metadata": {},
     "output_type": "execute_result"
    }
   ],
   "source": [
    "valid = pd.read_csv(\"test_.csv\")\n",
    "valid.head()"
   ]
  },
  {
   "cell_type": "code",
   "execution_count": null,
   "id": "5075d11a-0f8b-4d2c-bd12-4e8c44b2ad9f",
   "metadata": {},
   "outputs": [],
   "source": []
  }
 ],
 "metadata": {
  "kernelspec": {
   "display_name": "Python 3",
   "language": "python",
   "name": "python3"
  },
  "language_info": {
   "codemirror_mode": {
    "name": "ipython",
    "version": 3
   },
   "file_extension": ".py",
   "mimetype": "text/x-python",
   "name": "python",
   "nbconvert_exporter": "python",
   "pygments_lexer": "ipython3",
   "version": "3.8.8"
  }
 },
 "nbformat": 4,
 "nbformat_minor": 5
}
