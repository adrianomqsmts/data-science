{
 "cells": [
  {
   "cell_type": "markdown",
   "id": "hydraulic-probability",
   "metadata": {},
   "source": [
    "# Titanic\n",
    "\n",
    "## Conteúdo \n",
    "\n",
    "**idade**: a idade é fracionária se for menor que 1. Se a idade for estimada, é na forma de xx.5 \n",
    "\n",
    "Variable|Definition|Key\n",
    "--|--|--\n",
    "survival|Survival|0 = No, 1 = Yes\n",
    "pclass|Status socioeconômico (SES) 1st = Upper 2nd = Middle 3rd = Lower|1 = 1st, 2 = 2nd, 3 = 3rd\n",
    "sex|Sexo|\n",
    "Age|Idade em anos|\n",
    "sibsp|# Relações familiares | Sibling = irmão, irmã, meio-irmão, meia-irmã. Spouse = marido, esposa (amantes e noivos foram ignorados)\n",
    "parch|# Relações familiares| Parent  = mãe, pai. Child = filha, filho, enteada, enteado Algumas crianças viajavam apenas com uma babá, portanto parch = 0 para elas\n",
    "ticket|Número do Ticket|\n",
    "fare|Tarifa de passageiro|\n",
    "cabin|Número da Cabine|\n",
    "embarked|Local do Embarque|C = Cherbourg, Q = Queenstown, S = Southampton"
   ]
  },
  {
   "cell_type": "markdown",
   "id": "intense-commodity",
   "metadata": {},
   "source": [
    "## Carregando bibliotecas"
   ]
  },
  {
   "cell_type": "code",
   "execution_count": null,
   "id": "labeled-sheep",
   "metadata": {},
   "outputs": [],
   "source": []
  },
  {
   "cell_type": "markdown",
   "id": "tropical-conviction",
   "metadata": {},
   "source": [
    "## Abrindo o Arquivo"
   ]
  },
  {
   "cell_type": "code",
   "execution_count": 1,
   "id": "mineral-limitation",
   "metadata": {},
   "outputs": [
    {
     "data": {
      "text/html": [
       "<table>\n",
       "<thead><tr><th scope=col>PassengerId</th><th scope=col>Survived</th><th scope=col>Pclass</th><th scope=col>Name</th><th scope=col>Sex</th><th scope=col>Age</th><th scope=col>SibSp</th><th scope=col>Parch</th><th scope=col>Ticket</th><th scope=col>Fare</th><th scope=col>Cabin</th><th scope=col>Embarked</th></tr></thead>\n",
       "<tbody>\n",
       "\t<tr><td> 1                                                 </td><td>0                                                  </td><td>3                                                  </td><td>Braund, Mr. Owen Harris                            </td><td>male                                               </td><td>22                                                 </td><td>1                                                  </td><td>0                                                  </td><td>A/5 21171                                          </td><td> 7.2500                                            </td><td>                                                   </td><td>S                                                  </td></tr>\n",
       "\t<tr><td> 2                                                 </td><td>1                                                  </td><td>1                                                  </td><td>Cumings, Mrs. John Bradley (Florence Briggs Thayer)</td><td>female                                             </td><td>38                                                 </td><td>1                                                  </td><td>0                                                  </td><td>PC 17599                                           </td><td>71.2833                                            </td><td>C85                                                </td><td>C                                                  </td></tr>\n",
       "\t<tr><td> 3                                                 </td><td>1                                                  </td><td>3                                                  </td><td>Heikkinen, Miss. Laina                             </td><td>female                                             </td><td>26                                                 </td><td>0                                                  </td><td>0                                                  </td><td>STON/O2. 3101282                                   </td><td> 7.9250                                            </td><td>                                                   </td><td>S                                                  </td></tr>\n",
       "\t<tr><td> 4                                                 </td><td>1                                                  </td><td>1                                                  </td><td>Futrelle, Mrs. Jacques Heath (Lily May Peel)       </td><td>female                                             </td><td>35                                                 </td><td>1                                                  </td><td>0                                                  </td><td>113803                                             </td><td>53.1000                                            </td><td>C123                                               </td><td>S                                                  </td></tr>\n",
       "\t<tr><td> 5                                                 </td><td>0                                                  </td><td>3                                                  </td><td>Allen, Mr. William Henry                           </td><td>male                                               </td><td>35                                                 </td><td>0                                                  </td><td>0                                                  </td><td>373450                                             </td><td> 8.0500                                            </td><td>                                                   </td><td>S                                                  </td></tr>\n",
       "\t<tr><td> 6                                                 </td><td>0                                                  </td><td>3                                                  </td><td>Moran, Mr. James                                   </td><td>male                                               </td><td>NA                                                 </td><td>0                                                  </td><td>0                                                  </td><td>330877                                             </td><td> 8.4583                                            </td><td>                                                   </td><td>Q                                                  </td></tr>\n",
       "\t<tr><td> 7                                                 </td><td>0                                                  </td><td>1                                                  </td><td>McCarthy, Mr. Timothy J                            </td><td>male                                               </td><td>54                                                 </td><td>0                                                  </td><td>0                                                  </td><td>17463                                              </td><td>51.8625                                            </td><td>E46                                                </td><td>S                                                  </td></tr>\n",
       "\t<tr><td> 8                                                 </td><td>0                                                  </td><td>3                                                  </td><td>Palsson, Master. Gosta Leonard                     </td><td>male                                               </td><td> 2                                                 </td><td>3                                                  </td><td>1                                                  </td><td>349909                                             </td><td>21.0750                                            </td><td>                                                   </td><td>S                                                  </td></tr>\n",
       "\t<tr><td> 9                                                 </td><td>1                                                  </td><td>3                                                  </td><td>Johnson, Mrs. Oscar W (Elisabeth Vilhelmina Berg)  </td><td>female                                             </td><td>27                                                 </td><td>0                                                  </td><td>2                                                  </td><td>347742                                             </td><td>11.1333                                            </td><td>                                                   </td><td>S                                                  </td></tr>\n",
       "\t<tr><td>10                                                 </td><td>1                                                  </td><td>2                                                  </td><td>Nasser, Mrs. Nicholas (Adele Achem)                </td><td>female                                             </td><td>14                                                 </td><td>1                                                  </td><td>0                                                  </td><td>237736                                             </td><td>30.0708                                            </td><td>                                                   </td><td>C                                                  </td></tr>\n",
       "</tbody>\n",
       "</table>\n"
      ],
      "text/latex": [
       "\\begin{tabular}{r|llllllllllll}\n",
       " PassengerId & Survived & Pclass & Name & Sex & Age & SibSp & Parch & Ticket & Fare & Cabin & Embarked\\\\\n",
       "\\hline\n",
       "\t  1                                                  & 0                                                   & 3                                                   & Braund, Mr. Owen Harris                             & male                                                & 22                                                  & 1                                                   & 0                                                   & A/5 21171                                           &  7.2500                                             &                                                     & S                                                  \\\\\n",
       "\t  2                                                  & 1                                                   & 1                                                   & Cumings, Mrs. John Bradley (Florence Briggs Thayer) & female                                              & 38                                                  & 1                                                   & 0                                                   & PC 17599                                            & 71.2833                                             & C85                                                 & C                                                  \\\\\n",
       "\t  3                                                  & 1                                                   & 3                                                   & Heikkinen, Miss. Laina                              & female                                              & 26                                                  & 0                                                   & 0                                                   & STON/O2. 3101282                                    &  7.9250                                             &                                                     & S                                                  \\\\\n",
       "\t  4                                                  & 1                                                   & 1                                                   & Futrelle, Mrs. Jacques Heath (Lily May Peel)        & female                                              & 35                                                  & 1                                                   & 0                                                   & 113803                                              & 53.1000                                             & C123                                                & S                                                  \\\\\n",
       "\t  5                                                  & 0                                                   & 3                                                   & Allen, Mr. William Henry                            & male                                                & 35                                                  & 0                                                   & 0                                                   & 373450                                              &  8.0500                                             &                                                     & S                                                  \\\\\n",
       "\t  6                                                  & 0                                                   & 3                                                   & Moran, Mr. James                                    & male                                                & NA                                                  & 0                                                   & 0                                                   & 330877                                              &  8.4583                                             &                                                     & Q                                                  \\\\\n",
       "\t  7                                                  & 0                                                   & 1                                                   & McCarthy, Mr. Timothy J                             & male                                                & 54                                                  & 0                                                   & 0                                                   & 17463                                               & 51.8625                                             & E46                                                 & S                                                  \\\\\n",
       "\t  8                                                  & 0                                                   & 3                                                   & Palsson, Master. Gosta Leonard                      & male                                                &  2                                                  & 3                                                   & 1                                                   & 349909                                              & 21.0750                                             &                                                     & S                                                  \\\\\n",
       "\t  9                                                  & 1                                                   & 3                                                   & Johnson, Mrs. Oscar W (Elisabeth Vilhelmina Berg)   & female                                              & 27                                                  & 0                                                   & 2                                                   & 347742                                              & 11.1333                                             &                                                     & S                                                  \\\\\n",
       "\t 10                                                  & 1                                                   & 2                                                   & Nasser, Mrs. Nicholas (Adele Achem)                 & female                                              & 14                                                  & 1                                                   & 0                                                   & 237736                                              & 30.0708                                             &                                                     & C                                                  \\\\\n",
       "\\end{tabular}\n"
      ],
      "text/markdown": [
       "\n",
       "| PassengerId | Survived | Pclass | Name | Sex | Age | SibSp | Parch | Ticket | Fare | Cabin | Embarked |\n",
       "|---|---|---|---|---|---|---|---|---|---|---|---|\n",
       "|  1                                                  | 0                                                   | 3                                                   | Braund, Mr. Owen Harris                             | male                                                | 22                                                  | 1                                                   | 0                                                   | A/5 21171                                           |  7.2500                                             |                                                     | S                                                   |\n",
       "|  2                                                  | 1                                                   | 1                                                   | Cumings, Mrs. John Bradley (Florence Briggs Thayer) | female                                              | 38                                                  | 1                                                   | 0                                                   | PC 17599                                            | 71.2833                                             | C85                                                 | C                                                   |\n",
       "|  3                                                  | 1                                                   | 3                                                   | Heikkinen, Miss. Laina                              | female                                              | 26                                                  | 0                                                   | 0                                                   | STON/O2. 3101282                                    |  7.9250                                             |                                                     | S                                                   |\n",
       "|  4                                                  | 1                                                   | 1                                                   | Futrelle, Mrs. Jacques Heath (Lily May Peel)        | female                                              | 35                                                  | 1                                                   | 0                                                   | 113803                                              | 53.1000                                             | C123                                                | S                                                   |\n",
       "|  5                                                  | 0                                                   | 3                                                   | Allen, Mr. William Henry                            | male                                                | 35                                                  | 0                                                   | 0                                                   | 373450                                              |  8.0500                                             |                                                     | S                                                   |\n",
       "|  6                                                  | 0                                                   | 3                                                   | Moran, Mr. James                                    | male                                                | NA                                                  | 0                                                   | 0                                                   | 330877                                              |  8.4583                                             |                                                     | Q                                                   |\n",
       "|  7                                                  | 0                                                   | 1                                                   | McCarthy, Mr. Timothy J                             | male                                                | 54                                                  | 0                                                   | 0                                                   | 17463                                               | 51.8625                                             | E46                                                 | S                                                   |\n",
       "|  8                                                  | 0                                                   | 3                                                   | Palsson, Master. Gosta Leonard                      | male                                                |  2                                                  | 3                                                   | 1                                                   | 349909                                              | 21.0750                                             |                                                     | S                                                   |\n",
       "|  9                                                  | 1                                                   | 3                                                   | Johnson, Mrs. Oscar W (Elisabeth Vilhelmina Berg)   | female                                              | 27                                                  | 0                                                   | 2                                                   | 347742                                              | 11.1333                                             |                                                     | S                                                   |\n",
       "| 10                                                  | 1                                                   | 2                                                   | Nasser, Mrs. Nicholas (Adele Achem)                 | female                                              | 14                                                  | 1                                                   | 0                                                   | 237736                                              | 30.0708                                             |                                                     | C                                                   |\n",
       "\n"
      ],
      "text/plain": [
       "   PassengerId Survived Pclass\n",
       "1   1          0        3     \n",
       "2   2          1        1     \n",
       "3   3          1        3     \n",
       "4   4          1        1     \n",
       "5   5          0        3     \n",
       "6   6          0        3     \n",
       "7   7          0        1     \n",
       "8   8          0        3     \n",
       "9   9          1        3     \n",
       "10 10          1        2     \n",
       "   Name                                                Sex    Age SibSp Parch\n",
       "1  Braund, Mr. Owen Harris                             male   22  1     0    \n",
       "2  Cumings, Mrs. John Bradley (Florence Briggs Thayer) female 38  1     0    \n",
       "3  Heikkinen, Miss. Laina                              female 26  0     0    \n",
       "4  Futrelle, Mrs. Jacques Heath (Lily May Peel)        female 35  1     0    \n",
       "5  Allen, Mr. William Henry                            male   35  0     0    \n",
       "6  Moran, Mr. James                                    male   NA  0     0    \n",
       "7  McCarthy, Mr. Timothy J                             male   54  0     0    \n",
       "8  Palsson, Master. Gosta Leonard                      male    2  3     1    \n",
       "9  Johnson, Mrs. Oscar W (Elisabeth Vilhelmina Berg)   female 27  0     2    \n",
       "10 Nasser, Mrs. Nicholas (Adele Achem)                 female 14  1     0    \n",
       "   Ticket           Fare    Cabin Embarked\n",
       "1  A/5 21171         7.2500       S       \n",
       "2  PC 17599         71.2833 C85   C       \n",
       "3  STON/O2. 3101282  7.9250       S       \n",
       "4  113803           53.1000 C123  S       \n",
       "5  373450            8.0500       S       \n",
       "6  330877            8.4583       Q       \n",
       "7  17463            51.8625 E46   S       \n",
       "8  349909           21.0750       S       \n",
       "9  347742           11.1333       S       \n",
       "10 237736           30.0708       C       "
      ]
     },
     "metadata": {},
     "output_type": "display_data"
    }
   ],
   "source": [
    "df = read.csv('../datasets/titanic/train.csv')\n",
    "\n",
    "head(df, n = 10)"
   ]
  },
  {
   "cell_type": "markdown",
   "id": "ongoing-boutique",
   "metadata": {},
   "source": [
    "## Informações do DataFrame"
   ]
  },
  {
   "cell_type": "code",
   "execution_count": 2,
   "id": "liquid-event",
   "metadata": {},
   "outputs": [
    {
     "name": "stdout",
     "output_type": "stream",
     "text": [
      "'data.frame':\t891 obs. of  12 variables:\n",
      " $ PassengerId: int  1 2 3 4 5 6 7 8 9 10 ...\n",
      " $ Survived   : int  0 1 1 1 0 0 0 0 1 1 ...\n",
      " $ Pclass     : int  3 1 3 1 3 3 1 3 3 2 ...\n",
      " $ Name       : Factor w/ 891 levels \"Abbing, Mr. Anthony\",..: 109 191 358 277 16 559 520 629 417 581 ...\n",
      " $ Sex        : Factor w/ 2 levels \"female\",\"male\": 2 1 1 1 2 2 2 2 1 1 ...\n",
      " $ Age        : num  22 38 26 35 35 NA 54 2 27 14 ...\n",
      " $ SibSp      : int  1 1 0 1 0 0 0 3 0 1 ...\n",
      " $ Parch      : int  0 0 0 0 0 0 0 1 2 0 ...\n",
      " $ Ticket     : Factor w/ 681 levels \"110152\",\"110413\",..: 524 597 670 50 473 276 86 396 345 133 ...\n",
      " $ Fare       : num  7.25 71.28 7.92 53.1 8.05 ...\n",
      " $ Cabin      : Factor w/ 148 levels \"\",\"A10\",\"A14\",..: 1 83 1 57 1 1 131 1 1 1 ...\n",
      " $ Embarked   : Factor w/ 4 levels \"\",\"C\",\"Q\",\"S\": 4 2 4 4 4 3 4 4 4 2 ...\n"
     ]
    }
   ],
   "source": [
    "str(df)"
   ]
  },
  {
   "cell_type": "markdown",
   "id": "supposed-marshall",
   "metadata": {},
   "source": [
    "## Tamanho do DataFrame (linhas, colunas)"
   ]
  },
  {
   "cell_type": "code",
   "execution_count": 3,
   "id": "composite-bloom",
   "metadata": {},
   "outputs": [
    {
     "data": {
      "text/html": [
       "<ol class=list-inline>\n",
       "\t<li>891</li>\n",
       "\t<li>12</li>\n",
       "</ol>\n"
      ],
      "text/latex": [
       "\\begin{enumerate*}\n",
       "\\item 891\n",
       "\\item 12\n",
       "\\end{enumerate*}\n"
      ],
      "text/markdown": [
       "1. 891\n",
       "2. 12\n",
       "\n",
       "\n"
      ],
      "text/plain": [
       "[1] 891  12"
      ]
     },
     "metadata": {},
     "output_type": "display_data"
    }
   ],
   "source": [
    "dim(df)"
   ]
  },
  {
   "cell_type": "code",
   "execution_count": null,
   "id": "746a7c6d-5f54-472b-960b-736187ec8c75",
   "metadata": {},
   "outputs": [],
   "source": []
  }
 ],
 "metadata": {
  "kernelspec": {
   "display_name": "R",
   "language": "R",
   "name": "ir"
  },
  "language_info": {
   "codemirror_mode": "r",
   "file_extension": ".r",
   "mimetype": "text/x-r-source",
   "name": "R",
   "pygments_lexer": "r",
   "version": "3.6.1"
  }
 },
 "nbformat": 4,
 "nbformat_minor": 5
}
